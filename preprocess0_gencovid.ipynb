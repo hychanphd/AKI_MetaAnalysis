{
 "cells": [
  {
   "cell_type": "code",
   "execution_count": null,
   "id": "94443e43-bcc0-473e-9227-58ae1524b236",
   "metadata": {
    "tags": []
   },
   "outputs": [],
   "source": [
    "# import python packages\n",
    "import warnings\n",
    "warnings.filterwarnings(\"ignore\")\n",
    "\n",
    "import pandas as pd\n",
    "import numpy as np\n",
    "import pickle\n",
    "import os\n",
    "import importlib\n",
    "from scipy.stats import chi2_contingency\n",
    "from statsmodels.stats.multitest import multipletests\n",
    "import matplotlib.pyplot as plt\n",
    "import itertools\n",
    "from scipy import stats"
   ]
  },
  {
   "cell_type": "code",
   "execution_count": null,
   "id": "6a1fd33c-898a-4a3e-9f16-5f6d2841f017",
   "metadata": {
    "tags": []
   },
   "outputs": [],
   "source": [
    "site_list = ['KUMC', 'UTSW', 'MCW', 'UofU', 'UIOWA', 'UMHC', 'UPITT', 'UTHSCSA', 'UNMC']\n",
    "ext_list = ['csv','dsv', 'dsv', 'csv', 'csv', 'csv', 'csv', 'csv', 'csv']\n",
    "sep_list = [',','|', '|', '|', ',', ',', ',', ',', '|']\n",
    "encoding_list = ['utf-8','utf-8','utf-8','utf-8','utf-8','utf-8', 'windows-1252', 'utf-8', 'utf-16'] "
   ]
  },
  {
   "cell_type": "code",
   "execution_count": null,
   "id": "1c429db9-7036-4249-be71-c8f5959a50d5",
   "metadata": {
    "tags": []
   },
   "outputs": [],
   "source": [
    "for ct in range(len(site_list)):\n",
    "\n",
    "    site = site_list[ct]\n",
    "    ext = ext_list[ct]\n",
    "    sep = sep_list[ct]\n",
    "    encoding = encoding_list[ct]\n",
    "    path = []\n",
    "    print(site)\n",
    "\n",
    "    if site != 'KUMC':\n",
    "        rawpath = '/blue/yonghui.wu/hoyinchan/Data/data2022raw/' + site + '/raw/'\n",
    "    else: \n",
    "        rawpath = '/blue/yonghui.wu/hoyinchan/Data/data2022raw/' + site + '_ORCALE/raw/'\n",
    "    path.append(rawpath)\n",
    "    path.append('/blue/yonghui.wu/hoyinchan/Data/data2022/' + site + '/')\n",
    "    pdata = '/blue/yonghui.wu/hoyinchan/Data/data2022/'+ site \n",
    "    site\n",
    "\n",
    "    def try_load_csv(dataname, site, ext, sep, path, datecol=None):\n",
    "\n",
    "        print(f\"processing : {dataname}\")\n",
    "        filename = 'AKI_'+dataname.upper()\n",
    "        outfilename = f\"/p0_{dataname}_{site}.parquet\"    \n",
    "\n",
    "        # Site Specific filenames\n",
    "        if 'UMHC' in path[0]:\n",
    "            filename = 'DEID_'+filename                  \n",
    "\n",
    "        try:\n",
    "            if site == 'KUMC':\n",
    "                df = pd.read_csv(path[0] +  filename + '.' + ext, sep=sep, encoding=encoding)\n",
    "            else:\n",
    "                df = pd.read_csv(path[0] +  filename + '.' + ext, sep=sep, encoding=encoding, engine='python', on_bad_lines='skip')\n",
    "\n",
    "        except Exception as e:\n",
    "            print(f\"{site}: {dataname} Failed to load from {path[0]} as well: {e}\")\n",
    "\n",
    "        df.rename(columns = {'\\ufeff\"ONSETS_ENCOUNTERID\"': 'ONSETS_ENCOUNTERID'}, inplace = True) # to handle the BOM character in UTHSCSA\n",
    "        df.columns = df.columns.str.upper()\n",
    "        df.columns = df.columns.str.replace('\"+PD.DATE_SHIFT\"','').str.replace('AKI.','') # To handle the starnge date name in KUMC\n",
    "        df['PATID'] = df['PATID'].astype(str)\n",
    "        df['ENCOUNTERID'] = df['ENCOUNTERID'].astype(str)\n",
    "        df['BCCOVID'] = df['BCCOVID'].astype(bool)\n",
    "        return df\n",
    "\n",
    "    onsets = try_load_csv('onsets', site, ext, sep, path, datecol=None)\n",
    "\n",
    "    onsets = onsets[['PATID', 'ENCOUNTERID', 'BCCOVID']]\n",
    "\n",
    "    outfilename = f\"/p0_covid_status_{site}.parquet\"\n",
    "    onsets.to_parquet(pdata+outfilename)"
   ]
  },
  {
   "cell_type": "code",
   "execution_count": null,
   "id": "bba7b7f4-2408-4928-a3ce-7d275e71b6b2",
   "metadata": {
    "tags": []
   },
   "outputs": [],
   "source": [
    "for site in site_list:\n",
    "    \n",
    "    onsets = pd.read_parquet(pdata+outfilename)\n",
    "    print(onsets)"
   ]
  },
  {
   "cell_type": "code",
   "execution_count": null,
   "id": "beb6b7f6-b214-4f5b-a68a-3d1fe684f88b",
   "metadata": {},
   "outputs": [],
   "source": []
  }
 ],
 "metadata": {
  "kernelspec": {
   "display_name": "AKI_PM_TEMPORAL_MOEA",
   "language": "python",
   "name": "aki_pm_temporal_moea"
  },
  "language_info": {
   "codemirror_mode": {
    "name": "ipython",
    "version": 3
   },
   "file_extension": ".py",
   "mimetype": "text/x-python",
   "name": "python",
   "nbconvert_exporter": "python",
   "pygments_lexer": "ipython3",
   "version": "3.11.5"
  }
 },
 "nbformat": 4,
 "nbformat_minor": 5
}
