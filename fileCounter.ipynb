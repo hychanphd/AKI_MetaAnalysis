{
 "cells": [
  {
   "cell_type": "code",
   "execution_count": null,
   "id": "dad6e470-d93c-4575-93f3-9e1cbf20304d",
   "metadata": {},
   "outputs": [],
   "source": [
    "from os import listdir\n",
    "from os.path import isfile, join\n",
    "import itertools\n",
    "import numpy as np"
   ]
  },
  {
   "cell_type": "code",
   "execution_count": null,
   "id": "07696abc-d4e2-4e1e-bf0b-1333f29ac9c7",
   "metadata": {},
   "outputs": [],
   "source": [
    "sites = ['IUR', 'MCRI', 'MCW', 'UIOWA', 'UMHC', 'UNMC', 'UofU', 'UPITT', 'UTHSCSA', 'UTSW']\n",
    "filename = ['onset', 'vital', 'demo', 'dx', 'px', 'lab', 'amed']"
   ]
  },
  {
   "cell_type": "code",
   "execution_count": null,
   "id": "72631d8c-9fb1-40ce-afd8-eb00b85da474",
   "metadata": {},
   "outputs": [],
   "source": [
    "#get_years from site\n",
    "para_list = []\n",
    "exist_list = dict()\n",
    "for site in sites:\n",
    "    mypath = 'data/'+site\n",
    "    onlyfiles = [f for f in listdir(mypath) if isfile(join(mypath, f))]\n",
    "    years = [int(x.split('_')[2].split('.')[0]) for x in onlyfiles if x.split('_')[0] == 'onset']\n",
    "    para_list_local = [x for x in zip([site]*len(years), years)]\n",
    "    para_list.extend(para_list_local)\n",
    "    exist_list[site] = list(itertools.product(filename, years))"
   ]
  },
  {
   "cell_type": "code",
   "execution_count": null,
   "id": "e453b57d-d30e-43d3-98dd-2c4d8bea369d",
   "metadata": {},
   "outputs": [],
   "source": [
    "for site in sites:\n",
    "    mypath = 'data/'+site\n",
    "    onlyfiles = [f for f in listdir(mypath) if isfile(join(mypath, f)) if len(f.split('_')) == 3 and f.split('_')[2].split('.')[0].isnumeric()]\n",
    "    exist = [(x.split('_')[0], int(x.split('_')[2].split('.')[0])) for x in onlyfiles]\n",
    "    missing = [x for x in exist_list[site] if x not in exist]\n",
    "    missingfile = np.unique([x[0] for x in missing])\n",
    "    print(site + \":\\t\" + str(missing))"
   ]
  },
  {
   "cell_type": "code",
   "execution_count": null,
   "id": "3957d987-1e3f-48cd-8a47-d8c4589dc20b",
   "metadata": {},
   "outputs": [],
   "source": [
    "site='MCRI'\n",
    "year='2012'\n",
    "mypath = 'data/'+site\n",
    "onlyfiles = [f for f in listdir(mypath) if isfile(join(mypath, f)) if len(f.split('_')) == 3 and f.split('_')[2].split('.')[0].isnumeric()]\n",
    "exist = [(x.split('_')[0], int(x.split('_')[2].split('.')[0])) for x in onlyfiles]\n",
    "missing = [x for x in exist_list[site] if x not in exist]\n",
    "print(site + \":\\t\" + str(missing))"
   ]
  },
  {
   "cell_type": "code",
   "execution_count": null,
   "id": "cd104178-68f7-49f9-8fdd-ff5228ff1edf",
   "metadata": {},
   "outputs": [],
   "source": [
    "para_list"
   ]
  },
  {
   "cell_type": "code",
   "execution_count": null,
   "id": "17f620d8-191b-4acc-98d3-1299f7adab9f",
   "metadata": {},
   "outputs": [],
   "source": []
  }
 ],
 "metadata": {
  "kernelspec": {
   "display_name": "AKI_meta_analysis_3.6",
   "language": "python",
   "name": "firstenv"
  },
  "language_info": {
   "codemirror_mode": {
    "name": "ipython",
    "version": 3
   },
   "file_extension": ".py",
   "mimetype": "text/x-python",
   "name": "python",
   "nbconvert_exporter": "python",
   "pygments_lexer": "ipython3",
   "version": "3.6.13"
  }
 },
 "nbformat": 4,
 "nbformat_minor": 5
}
