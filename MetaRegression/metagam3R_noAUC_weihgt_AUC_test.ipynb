{
 "cells": [
  {
   "cell_type": "code",
   "execution_count": null,
   "id": "56615825-da90-4d62-b465-a7752bea858f",
   "metadata": {
    "jupyter": {
     "outputs_hidden": true
    },
    "tags": []
   },
   "outputs": [],
   "source": [
    "library(arrow)\n",
    "library(dplyr)\n",
    "library(mgcv)\n",
    "library(tidyverse)\n",
    "library(data.table)\n",
    "library(metagam)\n",
    "library(latex2exp)\n",
    "library(eivtools)\n",
    "library(plotly)\n",
    "library(stats)\n",
    "library(plotrix)\n",
    "library(fishmethods)\n",
    "library(metafor)\n",
    "library(jsonlite)\n",
    "library(stringr)\n",
    "library(doParallel)\n",
    "library(parallel)\n",
    "library(MASS)"
   ]
  },
  {
   "cell_type": "code",
   "execution_count": null,
   "id": "1df139c9-4151-42fc-97b1-c6ab105efa41",
   "metadata": {
    "tags": []
   },
   "outputs": [],
   "source": [
    "stg <- \"stg01\"\n",
    "fs <-  'nofs'\n",
    "oversample <- 'raw'\n",
    "model_type <- 'catd'"
   ]
  },
  {
   "cell_type": "code",
   "execution_count": null,
   "id": "9db150a9-caf2-4e17-9a47-0f62a0eaccee",
   "metadata": {
    "tags": []
   },
   "outputs": [],
   "source": [
    "path <- '/home/hoyinchan/blue/Data/data2021/data2021/shapalltmp.parquet'\n",
    "dfraw <- arrow::read_parquet(path)\n",
    "dfraw <- dfraw %>% dplyr::select(-'__index_level_0__')\n",
    "dfraw <- dfraw %>% dplyr::filter(site_d != 'MCRI') %>% dplyr::filter(site_m != 'MCRI')\n",
    "dfraw$site_d <- as.factor(dfraw$site_d)\n",
    "dfraw$site_m <- as.factor(dfraw$site_m)"
   ]
  },
  {
   "cell_type": "code",
   "execution_count": null,
   "id": "63860b4e-e6f1-4d22-8b99-03c417658775",
   "metadata": {
    "tags": []
   },
   "outputs": [],
   "source": [
    "targets <- unique(dfraw$Feature)"
   ]
  },
  {
   "cell_type": "code",
   "execution_count": null,
   "id": "a8ac20a8-0eb6-4c4e-afab-e8a0c758f69c",
   "metadata": {
    "tags": []
   },
   "outputs": [],
   "source": [
    "cattarget <- list(\"PX:CH:J1940\", \"PX:09:96.72\")"
   ]
  },
  {
   "cell_type": "code",
   "execution_count": null,
   "id": "a503cd11-5d33-48e9-91bb-4707f50f55fe",
   "metadata": {
    "tags": []
   },
   "outputs": [],
   "source": [
    "dfmean <- dfraw %>% dplyr::select(c('site_d', 'site_m', 'roc')) %>% distinct() %>% dplyr::select(c('roc'))\n",
    "dfmean <- mean(dfmean$roc)\n",
    "dfraw$rocw <- dfraw$roc/dfmean"
   ]
  },
  {
   "cell_type": "code",
   "execution_count": null,
   "id": "9fafea4e-5b57-499a-9074-ce2169c2c3c9",
   "metadata": {
    "tags": []
   },
   "outputs": [],
   "source": [
    "gam_proc <- function(eqn, outputname, cattarget, targets, dfraw, name2, weight=FALSE) {\n",
    "    resultlist <- list()\n",
    "    for (target in targets){\n",
    "        if (!(target %in% cattarget)){\n",
    "            print(target)\n",
    "            dfraw2 <- dfraw %>% filter(Feature==target)           \n",
    "            if (weight==FALSE){\n",
    "                xfit <- bam(eqn, data=dfraw2, method='REML')        \n",
    "            } else{\n",
    "                xfit <- bam(eqn, data=dfraw2, weight=rocw, method='REML')                        \n",
    "            }\n",
    "            sxfit<-summary(xfit)\n",
    "            pxfit<-plot(xfit)\n",
    "            for (i in 1:length(pxfit)){\n",
    "                pxfit[[i]]$raw=NULL\n",
    "            }\n",
    "            result<-list(target, as.list(sxfit), pxfit)\n",
    "            resultlist <- append(resultlist, list(result))\n",
    "        }\n",
    "    }\n",
    "    output_to_python <- toJSON(resultlist, force = TRUE)\n",
    "    write(output_to_python, paste0(outputname))\n",
    "}"
   ]
  },
  {
   "cell_type": "code",
   "execution_count": null,
   "id": "120d8bec-7767-4d09-b471-c50d59c95b1a",
   "metadata": {
    "jupyter": {
     "outputs_hidden": true
    },
    "tags": []
   },
   "outputs": [],
   "source": [
    "# eqn <- val ~ s(Name,k=10,bs='cr') + s(site_d,bs=\"re\") + roc2  # Original\n",
    "eqn <- val ~ s(Name,k=10,bs='cr') + s(site_d,bs=\"re\") # noAUC\n",
    "outputname <- \"gamalltmp_single_nointeraction_weightedAUC.json\"\n",
    "gam_proc(eqn, outputname, cattarget, targets, dfraw, FALSE)\n",
    "# gam_proc(eqn, outputname, cattarget, targets, dfraw, FALSE, weight=TRUE) # with weight"
   ]
  },
  {
   "cell_type": "code",
   "execution_count": null,
   "id": "9104ddb3-736c-49c5-a0c9-5f7ab8a74c54",
   "metadata": {
    "tags": []
   },
   "outputs": [],
   "source": [
    "# eqn <- val ~ s(Name,k=10,bs='cr') + s(site_d,bs=\"re\") + roc2 + ti(Name,roc2,k=10,bs='cr')\n",
    "# outputname <- \"gamalltmp_single_interaction.json\"\n",
    "# gam_proc(eqn, outputname, cattarget, targets, dfraw, FALSE)"
   ]
  },
  {
   "cell_type": "code",
   "execution_count": null,
   "id": "4561a2d8-8dfc-4d87-ad2a-98eb40a20e11",
   "metadata": {},
   "outputs": [],
   "source": [
    "# dfraw2 <- dfraw %>% filter(Feature=='AGE')\n",
    "# xfit <- bam(eqn, data=dfraw2, method='REML')\n",
    "\n",
    "# summary(xfit)"
   ]
  },
  {
   "cell_type": "code",
   "execution_count": null,
   "id": "fba29872-1b70-46af-b826-0532e4547bbb",
   "metadata": {},
   "outputs": [],
   "source": [
    "eqn <- val ~ s(Name,k=10,bs='cr') + s(site_d,bs=\"re\") + roc2 + ti(Name,roc2,k=10,bs='cr')\n",
    "dfraw2 <- dfraw %>% filter(Feature=='AGE')"
   ]
  },
  {
   "cell_type": "code",
   "execution_count": null,
   "id": "2525347d-cbf9-4d18-918a-2a0b98c16d79",
   "metadata": {},
   "outputs": [],
   "source": [
    "xfit <- bam(eqn, data=dfraw2, method='REML') "
   ]
  },
  {
   "cell_type": "code",
   "execution_count": null,
   "id": "4dfa177c-2159-46ef-904b-72aa81723f28",
   "metadata": {},
   "outputs": [],
   "source": [
    "summary(xfit)"
   ]
  },
  {
   "cell_type": "code",
   "execution_count": null,
   "id": "ed440d37-5a64-4765-ae6a-a600c5052fa5",
   "metadata": {
    "tags": []
   },
   "outputs": [],
   "source": [
    "testx<-plot(xfit)"
   ]
  },
  {
   "cell_type": "code",
   "execution_count": null,
   "id": "7eb8d19c-d076-4bdc-8483-bc4730c1562d",
   "metadata": {},
   "outputs": [],
   "source": [
    "testxx <- testx[[3]]"
   ]
  },
  {
   "cell_type": "code",
   "execution_count": null,
   "id": "44019e68-35a1-4f70-b8bf-0d64400a1aa7",
   "metadata": {
    "jupyter": {
     "outputs_hidden": true
    },
    "tags": []
   },
   "outputs": [],
   "source": [
    "testxx$fit"
   ]
  },
  {
   "cell_type": "code",
   "execution_count": null,
   "id": "bef33c31-a82d-4a08-bf44-6ef84546d3ae",
   "metadata": {},
   "outputs": [],
   "source": []
  },
  {
   "cell_type": "code",
   "execution_count": null,
   "id": "693f10b1-bd91-42fc-a979-39a208aaace2",
   "metadata": {},
   "outputs": [],
   "source": [
    "# Try 2 feature interaction"
   ]
  },
  {
   "cell_type": "code",
   "execution_count": null,
   "id": "0e915120-8b26-43d3-b07a-f91afdbf8def",
   "metadata": {},
   "outputs": [],
   "source": [
    "target_combo = combn(targets,2, simplify = FALSE)\n",
    "outputname <- \"gamalltmp_double_interaction.json\""
   ]
  },
  {
   "cell_type": "code",
   "execution_count": null,
   "id": "d292167c-8e2c-4b4d-a1b7-60b427e945a7",
   "metadata": {},
   "outputs": [],
   "source": [
    "gam_proc2d <- function(cattarget, dfraw, f1, f2, stg, fs, oversample, model_type) {\n",
    "\n",
    "    f1str <- str_replace_all(f1,'::','_')\n",
    "    f1str <- str_replace_all(f1str,'/','per')\n",
    "    f1str <- str_replace_all(f1str,'\\\\(','_')\n",
    "    f1str <- str_replace_all(f1str,'\\\\)','_')\n",
    "    \n",
    "    f2str <- str_replace_all(f2,'::','_')\n",
    "    f2str <- str_replace_all(f2str,'/','per')\n",
    "    f2str <- str_replace_all(f2str,'\\\\(','_')\n",
    "    f2str <- str_replace_all(f2str,'\\\\)','_')    \n",
    "    \n",
    "    filename <- paste0('gam2d_tmp/','gam2d_tmp','_',f1str,'_',f2str,'_',stg,'_',fs,'_',oversample,'_',model_type,'.json')\n",
    "    if (file.exists(filename)){\n",
    "        return()\n",
    "    }\n",
    "    \n",
    "    eqn_cc <- val ~ s(Name.x,k=10,bs='cr') + s(Name.y,k=10,bs='cr') + s(site_d,bs=\"re\") + roc2 + ti(Name.x,roc2,k=10,bs='cr') + ti(Name.y,roc2,k=10,bs='cr') + ti(Name.x,Name.y,k=10,bs='cr')\n",
    "    eqn_cd <- val ~ s(Name.x, k=10, bs='cr') + s(Name.x, by=Name.y, k=10, bs='cr') + Name.y + s(site_d,bs=\"re\") + roc2 + ti(Name.x,roc2,k=10,bs='cr')\n",
    "\n",
    "    if (f1 %in% cattarget & !f2 %in% cattarget){\n",
    "        tmp = f1\n",
    "        f1 = f2\n",
    "        f2 = tmp\n",
    "    }\n",
    "\n",
    "    dfraw21 <- dfraw %>% filter(Feature==f1)\n",
    "    dfraw22 <- dfraw %>% filter(Feature==f2)\n",
    "    dfraw23 <- dfraw21 %>% inner_join(dfraw22, by=c('ID','site_d', 'site_m', 'roc', 'roc2'))\n",
    "    dfraw23 <- dfraw23 %>% mutate(val=val.x+val.y)\n",
    "\n",
    "    if (!f1 %in% cattarget & f2 %in% cattarget){\n",
    "        eqn <- eqn_cd\n",
    "        #dfraw23['Name.y'] <- as.factor(dfraw23['Name.y'])\n",
    "        return()\n",
    "    } else if (!f1 %in% cattarget & !f2 %in% cattarget){\n",
    "        eqn <- eqn_cc\n",
    "    } else {\n",
    "        return()\n",
    "    }\n",
    "\n",
    "    xfit <- bam(eqn, data=dfraw23, method='REML') \n",
    "    sxfit<-summary(xfit)\n",
    "    pxfit<-plot(xfit)\n",
    "    for (i in 1:length(pxfit)){\n",
    "        pxfit[[i]]$raw=NULL\n",
    "    }\n",
    "    result<-list(f1, f2, as.list(sxfit), pxfit)\n",
    "#    return(result)\n",
    "    output_to_python <- toJSON(result, force = TRUE)\n",
    "\n",
    "    write(output_to_python, filename)\n",
    "}"
   ]
  },
  {
   "cell_type": "code",
   "execution_count": null,
   "id": "90c4fa8a-7b0b-414c-bfa1-ee35d55e921b",
   "metadata": {
    "jupyter": {
     "outputs_hidden": true
    },
    "tags": []
   },
   "outputs": [],
   "source": [
    "gam_proc2d(cattarget, dfraw, target_combo[[179]][1], target_combo[[179]][2], stg, fs, oversample, model_type)"
   ]
  },
  {
   "cell_type": "code",
   "execution_count": null,
   "id": "69616f09-41bb-4966-9af5-565038b96672",
   "metadata": {
    "jupyter": {
     "outputs_hidden": true
    },
    "tags": []
   },
   "outputs": [],
   "source": [
    "# registerDoParallel(cores=1)\n",
    "# foreach(i=1:length(target_combo),.errorhandling='remove') %do% {\n",
    "#     gam_proc2d(cattarget, dfraw, target_combo[[i]][1], target_combo[[i]][2], stg, fs, oversample, model_type)\n",
    "# }\n",
    "for (tar in target_combo){\n",
    "    print(paste(tar[1], tar[2], 'running'))\n",
    "    flush.console()\n",
    "    gam_proc2d(cattarget, dfraw, tar[1], tar[2], stg, fs, oversample, model_type)\n",
    "}  "
   ]
  },
  {
   "cell_type": "code",
   "execution_count": null,
   "id": "255291a6-32e0-4c78-89c0-f8b0418b66c7",
   "metadata": {},
   "outputs": [],
   "source": [
    "print('done')"
   ]
  },
  {
   "cell_type": "code",
   "execution_count": null,
   "id": "0e10fda5-c611-4530-b9ea-d2989d20bfd4",
   "metadata": {},
   "outputs": [],
   "source": []
  }
 ],
 "metadata": {
  "kernelspec": {
   "display_name": "AKI_CDM_R",
   "language": "R",
   "name": "ir"
  },
  "language_info": {
   "codemirror_mode": "r",
   "file_extension": ".r",
   "mimetype": "text/x-r-source",
   "name": "R",
   "pygments_lexer": "r",
   "version": "4.1.3"
  }
 },
 "nbformat": 4,
 "nbformat_minor": 5
}
