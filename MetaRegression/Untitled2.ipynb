{
 "cells": [
  {
   "cell_type": "code",
   "execution_count": null,
   "id": "6e69dbd8-378b-4e11-861f-9aca616fedae",
   "metadata": {},
   "outputs": [],
   "source": [
    "shap_data <- readRDS('/home/hchan2/AKI/data/KUMC/model_explain/1d_no_fs_stg1up_2010_7d_noBS.rda')\n",
    "model_data <- readRDS('/home/hchan2/AKI/data/KUMC/model_ref/pred_in_1d_no_fs_stg1up_2010.rda')\n",
    "cont_data <- readRDS('/home/hchan2/AKI/data/KUMC/model_explain/truthtable_1d_no_fs_stg1up_2010.rda')"
   ]
  },
  {
   "cell_type": "code",
   "execution_count": null,
   "id": "ea10d3cd-182f-45b0-a219-5a1a09af4734",
   "metadata": {},
   "outputs": [],
   "source": [
    "x<-readRDS('/home/hchan2/AKI/data/KUMC/preproc/1d_var_by_yr_stg1up_2011.rda')"
   ]
  },
  {
   "cell_type": "code",
   "execution_count": null,
   "id": "c720d613-40ff-42c5-8b7e-189f29800d0a",
   "metadata": {},
   "outputs": [],
   "source": [
    "y<-readRDS('/home/hchan2/AKI/data/KUMC/AKI_MED.rda')"
   ]
  },
  {
   "cell_type": "code",
   "execution_count": null,
   "id": "1f676761-5abe-43dd-9a92-21a4435acca6",
   "metadata": {
    "jupyter": {
     "outputs_hidden": true
    },
    "tags": []
   },
   "outputs": [],
   "source": [
    "y"
   ]
  },
  {
   "cell_type": "code",
   "execution_count": null,
   "id": "a1e3f51b-3c5a-420a-8140-d63cdf54f396",
   "metadata": {
    "jupyter": {
     "outputs_hidden": true
    },
    "tags": []
   },
   "outputs": [],
   "source": [
    "x"
   ]
  },
  {
   "cell_type": "code",
   "execution_count": null,
   "id": "6aa4ddbd-bc22-4bab-8c5d-458a1ceeb583",
   "metadata": {
    "tags": []
   },
   "outputs": [],
   "source": [
    "library(eivtools)\n",
    "set.seed(1001)\n",
    "## simulate data with covariates x1, x2 and z.\n",
    ".n    <- 1000\n",
    ".d    <- data.frame(x1 = rnorm(.n))\n",
    ".d$x2 <- sqrt(0.5)*.d$x1 + rnorm(.n, sd=sqrt(0.5))\n",
    ".d$z  <- as.numeric(.d$x1 + .d$x2 > 0)\n",
    "\n",
    "## generate outcome\n",
    "## true regression parameters are c(2,1,1,-1)\n",
    ".d$y  <- 2.0 + 1.0*.d$x1 + 1.0*.d$x2 - 1.0*.d$z + rnorm(.n)\n",
    "\n",
    "## generate error-prone covariates w1 and w2\n",
    "Sigma_error <- diag(c(0.20, 0.30))\n",
    "dimnames(Sigma_error) <- list(c(\"w1\",\"w2\"), c(\"w1\",\"w2\"))\n",
    ".d$w1 <- .d$x1 + rnorm(.n, sd = sqrt(Sigma_error[\"w1\",\"w1\"]))\n",
    ".d$w2 <- .d$x2 + rnorm(.n, sd = sqrt(Sigma_error[\"w2\",\"w2\"]))\n",
    "\n",
    "## fit EIV regression specifying known measurement error covariance matrix\n",
    ".mod1 <- eivreg(y ~ w1 + w2 + z, data = .d, Sigma_error = Sigma_error)\n",
    "print(class(.mod1))\n",
    ".tmp <- summary(.mod1)\n",
    "print(class(.tmp))\n",
    "print(.tmp)\n",
    "\n",
    "## fit EIV regression specifying known reliabilities.  Note that\n",
    "## point estimator is slightly different from .mod1 because\n",
    "## the correction matrix S must be estimated when the reliability\n",
    "## is known.\n",
    ".lambda <- c(1,1) / (c(1,1) + diag(Sigma_error))\n",
    ".mod2 <- eivreg(y ~ w1 + w2 + z, data = .d, reliability = .lambda)\n",
    "print(summary(.mod2))"
   ]
  },
  {
   "cell_type": "code",
   "execution_count": null,
   "id": "a1140802-58e5-4fb2-b56f-b07a4eec2864",
   "metadata": {},
   "outputs": [],
   "source": []
  }
 ],
 "metadata": {
  "kernelspec": {
   "display_name": "R_AKI_PM",
   "language": "R",
   "name": "r_aki_pm"
  },
  "language_info": {
   "codemirror_mode": "r",
   "file_extension": ".r",
   "mimetype": "text/x-r-source",
   "name": "R",
   "pygments_lexer": "r",
   "version": "4.0.5"
  }
 },
 "nbformat": 4,
 "nbformat_minor": 5
}
