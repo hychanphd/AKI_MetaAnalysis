{
 "cells": [
  {
   "cell_type": "code",
   "execution_count": null,
   "metadata": {},
   "outputs": [],
   "source": [
    "import csv\n",
    "import random\n",
    "import numpy as np\n",
    "import pandas as pd"
   ]
  },
  {
   "cell_type": "code",
   "execution_count": null,
   "metadata": {},
   "outputs": [],
   "source": [
    "numSite = 4"
   ]
  },
  {
   "cell_type": "code",
   "execution_count": null,
   "metadata": {},
   "outputs": [],
   "source": [
    "for i in range(numSite):\n",
    "    CreatSerPI_x = np.sort(np.random.sample(30,)*2-1)\n",
    "    CreatSerPI_y = np.sort(np.random.sample(30,)*5-1)\n",
    "    Vancomycin_x = np.sort(np.random.sample(7,)*6+1)\n",
    "    Vancomycin_y = np.sort(np.random.sample(7,)*0.25+0.5)\n",
    "    BMI_x = np.sort(np.random.sample(100,)*50+10)\n",
    "    BMI_y = np.sort(np.random.sample(100,)-0.25)\n",
    "    BPSYSTOLIC_x = np.array([0, 1])\n",
    "    BPSYSTOLIC_y = np.random.sample(2,)*0.35-0.1\n",
    "    AUC = np.array([np.random.sample()*0.5+0.5])\n",
    "    AUCvar = np.random.sample()*0.1*AUC\n",
    "    data = [CreatSerPI_x, CreatSerPI_y, Vancomycin_x, Vancomycin_y, BMI_x, BMI_y, BPSYSTOLIC_x, BPSYSTOLIC_y, AUC, AUCvar]\n",
    "    with open(\"D:\\Postdoc\\MetaRegression\\Site\"+str(i)+\".csv\", \"w\", newline='') as csv_file:\n",
    "         writer = csv.writer(csv_file, delimiter=',')\n",
    "         for line in data:\n",
    "            writer.writerow(line)"
   ]
  },
  {
   "cell_type": "code",
   "execution_count": null,
   "metadata": {},
   "outputs": [],
   "source": []
  },
  {
   "cell_type": "code",
   "execution_count": null,
   "metadata": {},
   "outputs": [],
   "source": []
  }
 ],
 "metadata": {
  "kernelspec": {
   "display_name": "Python 3",
   "language": "python",
   "name": "python3"
  },
  "language_info": {
   "codemirror_mode": {
    "name": "ipython",
    "version": 3
   },
   "file_extension": ".py",
   "mimetype": "text/x-python",
   "name": "python",
   "nbconvert_exporter": "python",
   "pygments_lexer": "ipython3",
   "version": "3.7.4"
  }
 },
 "nbformat": 4,
 "nbformat_minor": 2
}
