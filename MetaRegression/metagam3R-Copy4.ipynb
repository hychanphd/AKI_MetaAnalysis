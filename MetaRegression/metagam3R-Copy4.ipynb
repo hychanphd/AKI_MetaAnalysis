{
 "cells": [
  {
   "cell_type": "code",
   "execution_count": null,
   "id": "d1b62793-6fc5-4206-96c9-b037ecac9846",
   "metadata": {
    "tags": []
   },
   "outputs": [],
   "source": [
    "library(arrow)\n",
    "library(dplyr)\n",
    "library(mgcv)\n",
    "library(tidyverse)\n",
    "library(data.table)\n",
    "library(metagam)\n",
    "library(latex2exp)\n",
    "library(eivtools)\n",
    "library(plotly)\n",
    "library(stats)\n",
    "library(plotrix)\n",
    "library(fishmethods)\n",
    "library(metafor)\n",
    "library(jsonlite)\n",
    "library(stringr)\n",
    "library(doParallel)\n",
    "library(parallel)\n",
    "library(MASS)\n",
    "library(tidygam)"
   ]
  },
  {
   "cell_type": "code",
   "execution_count": null,
   "id": "bda71cf6-6fd3-40b9-92d1-63a0775d3116",
   "metadata": {
    "tags": []
   },
   "outputs": [],
   "source": [
    "path <- '/home/hoyinchan/blue/Data/data2022/shapalltmp.parquet'\n",
    "dfraw <- arrow::read_parquet(path)"
   ]
  },
  {
   "cell_type": "code",
   "execution_count": null,
   "id": "30e68b54-8c55-4885-97be-baf2de93204a",
   "metadata": {
    "tags": []
   },
   "outputs": [],
   "source": [
    "dfraw"
   ]
  },
  {
   "cell_type": "code",
   "execution_count": null,
   "id": "874da946-cff8-464e-9920-ef4633b98309",
   "metadata": {
    "tags": []
   },
   "outputs": [],
   "source": [
    "#dfraw <- dfraw %>% drop_na()\n",
    "dfraw <- dfraw %>% dplyr::select(-'__index_level_0__')\n",
    "#dfraw <- dfraw %>% dplyr::filter(site_d != 'MCRI') %>% dplyr::filter(site_m != 'MCRI')\n",
    "dfraw$site_d <- as.factor(dfraw$site_d)\n",
    "dfraw$site_m <- as.factor(dfraw$site_m)\n",
    "#dfraw <- dfraw %>% rename(Feature = feature) %>% rename(val = value)"
   ]
  },
  {
   "cell_type": "code",
   "execution_count": null,
   "id": "867b2f33-811f-4709-975b-db1f7ea77c9d",
   "metadata": {
    "tags": []
   },
   "outputs": [],
   "source": [
    "column_names <- colnames(dfraw)\n",
    "split_names <- strsplit(column_names, \"_\")\n",
    "first_parts <- sapply(split_names, `[`, 1)\n",
    "targets <- unique(first_parts)\n",
    "targets <- setdiff(targets, \"site\")\n",
    "targets <- setdiff(targets, \"\")"
   ]
  },
  {
   "cell_type": "code",
   "execution_count": null,
   "id": "35f5a7bc-9283-4651-bfee-8017079f948e",
   "metadata": {
    "tags": []
   },
   "outputs": [],
   "source": [
    "#cattarget <- list(\"PX:CH:J1940\", \"PX:09:96.72\")\n",
    "#cattarget <- names(df)[sapply(df, is.logical)]\n",
    "cattargetdf <- arrow::read_parquet('/home/hoyinchan/code/AKI_CDM_PY/bool_columns.parquet')\n",
    "cattarget <- cattargetdf[['index']]"
   ]
  },
  {
   "cell_type": "code",
   "execution_count": null,
   "id": "0f26cec0-7eea-4b8e-b3ec-0b302dec7f54",
   "metadata": {
    "tags": []
   },
   "outputs": [],
   "source": [
    "# dfmean <- dfraw %>% dplyr::select(c('site_d', 'site_m', 'roc')) %>% distinct() %>% dplyr::select(c('roc'))\n",
    "# dfmean <- mean(dfmean$roc)\n",
    "# dfcount <- dfraw %>% dplyr::select(c('site_d', 'site_m', 'roc')) %>% group_by(site_d, site_m) %>% summarise(total_count=n(),.groups = 'drop')\n",
    "# dfraw <- dfraw %>% left_join(dfcount, by=c('site_d', 'site_m'))\n",
    "\n",
    "# #dfraw$rocw <- dfraw$roc/dfmean\n",
    "# #dfraw$rocw <- 1/dfraw$roc2\n",
    "# dfraw$rocw <- (1/dfraw$total_count)/mean(1/dfraw$total_count)"
   ]
  },
  {
   "cell_type": "code",
   "execution_count": null,
   "id": "b45e019a-79f3-4103-9488-df296f3c26de",
   "metadata": {
    "tags": []
   },
   "outputs": [],
   "source": [
    "target <- targets[1:2]"
   ]
  },
  {
   "cell_type": "code",
   "execution_count": null,
   "id": "51371425-1d1d-4166-bc43-10e91a01e965",
   "metadata": {
    "tags": []
   },
   "outputs": [],
   "source": [
    "targets"
   ]
  },
  {
   "cell_type": "code",
   "execution_count": null,
   "id": "dad128cd-aed8-4071-85ce-64d8d6c0d755",
   "metadata": {
    "tags": []
   },
   "outputs": [],
   "source": [
    "fit_proc <- function(eqn, dfraw2, target, type, weight=FALSE){\n",
    "    if (weight==FALSE){\n",
    "        xfit <- bam(eqn, data=dfraw2, method='REML')  \n",
    "    }else{\n",
    "        xfit <- bam(eqn, data=dfraw2, method='REML', weight=rocw)  \n",
    "    }\n",
    "    print(target)\n",
    "    print(type)\n",
    "    print(summary(xfit))\n",
    "    flush.console()\n",
    "    sxfit<-summary(xfit)\n",
    "    pxfit<-plot(xfit)\n",
    "    pxfit2<-termplot(xfit, data=dfraw2, se = TRUE, plot = FALSE)\n",
    "    for (i in 1:length(pxfit)){\n",
    "        pxfit[[i]]$raw=NULL    \n",
    "    }\n",
    "    return(list(target, type, sxfit, pxfit, pxfit2))\n",
    "}    "
   ]
  },
  {
   "cell_type": "code",
   "execution_count": null,
   "id": "9fafea4e-5b57-499a-9074-ce2169c2c3c9",
   "metadata": {
    "tags": []
   },
   "outputs": [],
   "source": [
    "gam_proc <- function(outputname, cattarget, targets, dfraw, returnf=FALSE, weight=FALSE, noAUC=FALSE) {\n",
    "    resultlist <- list()\n",
    "    for (target in targets){\n",
    "        print(target)\n",
    "        flush.console()\n",
    "#        dfraw2 <- dfraw %>% filter(Feature==target)            \n",
    "        columns_to_select <- c(paste0(target, '_Names'), paste0(target, '_vals'), 'site_m', 'site_d')\n",
    "        dfraw2 <- dfraw[,columns_to_select]\n",
    "        colnames(dfraw2) <- c('Name', 'val', 'site_m', 'site_d')        \n",
    "        if (target %in% cattarget){\n",
    "            dfraw2$Name <- as.factor(dfraw2$Name)\n",
    "            if (noAUC==FALSE){\n",
    "                eqnl <- val ~ Name + s(site_d,bs=\"re\") + s(site_m,bs=\"re\") + roc2\n",
    "                eqnq <- val ~ Name + s(site_d,bs=\"re\") + s(site_m,bs=\"re\") + roc2\n",
    "                eqns <- val ~ Name + s(site_d,bs=\"re\") + s(site_m,bs=\"re\") + roc2\n",
    "                eqnt <- val ~ Name + s(site_d,bs=\"re\") + s(site_m,bs=\"re\") + roc2 \n",
    "                resultl<-fit_proc(eqnl, dfraw2, target, 'linear', weight=weight)\n",
    "                resultq<-fit_proc(eqnq, dfraw2, target, 'quadratic', weight=weight)\n",
    "                results<-fit_proc(eqns, dfraw2, target, 'spline', weight=weight)\n",
    "                resultt<-fit_proc(eqnt, dfraw2, target, 'spline_interaction', weight=weight)            \n",
    "                result<-list(resultl, resultq, results, resultt)\n",
    "            }else{\n",
    "                eqnl <- val ~ Name + s(site_d,bs=\"re\") + s(site_m,bs=\"re\")\n",
    "                eqnq <- val ~ Name + s(site_d,bs=\"re\") + s(site_m,bs=\"re\")\n",
    "                eqns <- val ~ Name + s(site_d,bs=\"re\") + s(site_m,bs=\"re\")\n",
    "                eqnt <- val ~ Name + s(site_d,bs=\"re\") + s(site_m,bs=\"re\") \n",
    "                resultl<-fit_proc(eqnl, dfraw2, target, 'linear', weight=weight)\n",
    "                resultq<-fit_proc(eqnq, dfraw2, target, 'quadratic', weight=weight)\n",
    "                results<-fit_proc(eqns, dfraw2, target, 'spline', weight=weight)\n",
    "                resultt<-fit_proc(eqnt, dfraw2, target, 'spline_interaction', weight=weight)            \n",
    "                result<-list(resultl, resultq, results, resultt)\n",
    "             }\n",
    "        }else{\n",
    "            if (noAUC==FALSE){\n",
    "                eqnl <- val ~ poly(Name,1,raw=TRUE) + s(site_d,bs=\"re\")  + s(site_m,bs=\"re\") + roc2\n",
    "                eqnq <- val ~ poly(Name,2,raw=TRUE) + s(site_d,bs=\"re\")  + s(site_m,bs=\"re\") + roc2\n",
    "                eqns <- val ~ s(Name,k=10,bs='cr') + s(site_d,bs=\"re\")  + s(site_m,bs=\"re\") + roc2\n",
    "                eqnt <- val ~ s(Name,k=10,bs='cr') + s(site_d,bs=\"re\")  + s(site_m,bs=\"re\") + roc2 + ti(Name,roc2,bs='cr')            \n",
    "                resultl<-fit_proc(eqnl, dfraw2, target, 'linear')\n",
    "                resultq<-fit_proc(eqnq, dfraw2, target, 'quadratic')\n",
    "                results<-fit_proc(eqns, dfraw2, target, 'spline')\n",
    "                resultt<-fit_proc(eqnt, dfraw2, target, 'spline_interaction')            \n",
    "                result<-list(resultl, resultq, results, resultt)\n",
    "            }else{\n",
    "                eqnl <- val ~ poly(Name,1,raw=TRUE) + s(site_d,bs=\"re\")  + s(site_m,bs=\"re\")\n",
    "                eqnq <- val ~ poly(Name,2,raw=TRUE) + s(site_d,bs=\"re\")  + s(site_m,bs=\"re\")\n",
    "                eqns <- val ~ s(Name,k=10,bs='cr') + s(site_d,bs=\"re\")  + s(site_m,bs=\"re\")\n",
    "                eqnt <- val ~ s(Name,k=10,bs='cr') + s(site_d,bs=\"re\")  + s(site_m,bs=\"re\")          \n",
    "                resultl<-fit_proc(eqnl, dfraw2, target, 'linear', weight=weight)\n",
    "                resultq<-fit_proc(eqnq, dfraw2, target, 'quadratic', weight=weight)\n",
    "                results<-fit_proc(eqns, dfraw2, target, 'spline', weight=weight)\n",
    "                resultt<-fit_proc(eqnt, dfraw2, target, 'spline_interaction', weight=weight)            \n",
    "                result<-list(resultl, resultq, results, resultt)\n",
    "            }\n",
    "        }\n",
    "        resultlist <- append(resultlist, list(result))\n",
    "    }\n",
    "    if (returnf){\n",
    "        return(resultlist)\n",
    "    }\n",
    "    output_to_python <- toJSON(resultlist, force = TRUE, digit=30)\n",
    "    write(output_to_python, paste0(outputname))\n",
    "}"
   ]
  },
  {
   "cell_type": "code",
   "execution_count": null,
   "id": "b5ea9213-911b-4e0c-9c2a-9b60c57790c6",
   "metadata": {
    "tags": []
   },
   "outputs": [],
   "source": [
    "# outputname <- \"gamalltmp_single_AUC_populationweight.json\"\n",
    "# gam_proc(outputname, cattarget, targets, dfraw, weight=TRUE, noAUC=FALSE)"
   ]
  },
  {
   "cell_type": "code",
   "execution_count": null,
   "id": "c345688a-f01c-4712-8cab-22eb1cd4fdaf",
   "metadata": {
    "jupyter": {
     "outputs_hidden": true
    },
    "tags": []
   },
   "outputs": [],
   "source": [
    "start_time <- Sys.time()\n",
    "print(\"Meta-Running univariate regression R\")\n",
    "outputname <- \"gamalltmp_single_noAUC.json\"\n",
    "gam_proc(outputname, cattarget, targets, dfraw, weight=FALSE, noAUC=TRUE)\n",
    "end_time <- Sys.time()\n",
    "runtime <- as.numeric(difftime(end_time, start_time, units = \"secs\"))\n",
    "cat(\"Meta-Running Finished univariate regression R in\", runtime, \" seconds\")"
   ]
  },
  {
   "cell_type": "code",
   "execution_count": null,
   "id": "640942a5-d277-4a79-b465-694b1bd56607",
   "metadata": {
    "jupyter": {
     "outputs_hidden": true
    },
    "tags": []
   },
   "outputs": [],
   "source": []
  },
  {
   "cell_type": "code",
   "execution_count": null,
   "id": "dde8a664-ac06-4003-a306-3823dca592e6",
   "metadata": {
    "jupyter": {
     "outputs_hidden": true
    },
    "tags": []
   },
   "outputs": [],
   "source": []
  },
  {
   "cell_type": "code",
   "execution_count": null,
   "id": "8c4f1918-96b6-4b53-a09a-3976cc248a5a",
   "metadata": {
    "jupyter": {
     "outputs_hidden": true
    },
    "tags": []
   },
   "outputs": [],
   "source": []
  },
  {
   "cell_type": "code",
   "execution_count": null,
   "id": "a31a8792-857c-4787-b5d1-a51d5dffe47b",
   "metadata": {
    "jupyter": {
     "outputs_hidden": true
    },
    "tags": []
   },
   "outputs": [],
   "source": [
    "# outputname <- \"gamalltmp_single_weightAUC2.json\"\n",
    "# gam_proc(outputname, cattarget, targets, dfraw, weight=TRUE, noAUC=TRUE)"
   ]
  },
  {
   "cell_type": "code",
   "execution_count": null,
   "id": "1a18c721-77b6-4f23-9e82-4c001fd4bf38",
   "metadata": {
    "jupyter": {
     "outputs_hidden": true
    },
    "tags": []
   },
   "outputs": [],
   "source": [
    "# outputname <- \"gamalltmp_single_weightAUC2.json\"\n",
    "# gam_proc(outputname, cattarget, targets, dfraw, weight=TRUE, noAUC=TRUE)"
   ]
  },
  {
   "cell_type": "code",
   "execution_count": null,
   "id": "c887428e-1712-44cb-ba73-43deb9f46716",
   "metadata": {},
   "outputs": [],
   "source": [
    "# dfraw2 <- dfraw %>% filter(Feature=='LAB::2345-7(mg/dL)') \n",
    "# #eqnl <- val ~ poly(Name,1,raw=TRUE) + s(site_d,bs=\"re\")   \n",
    "# eqnq <- val ~ poly(Name,2,raw=TRUE) + s(site_d,bs=\"re\")   \n",
    "# #eqns <- val ~ s(Name,k=10,bs='cr') + s(site_d,bs=\"re\")   \n",
    "# #eqnt <- val ~ s(Name,k=10,bs='cr') + s(site_d,bs=\"re\")    + ti(Name,roc2,bs='cr')            \n",
    "# resultq<-fit_proc(eqnq, dfraw2, 'AGE', 'quadratic')\n",
    "# #results<-fit_proc(eqns, dfraw2, 'AGE', 'spline')\n",
    "\n",
    "# toJSON(resultq, force = TRUE, digit=30)\n",
    "\n",
    "# summary(resultq)\n",
    "\n",
    "# ## 2D\n",
    "\n",
    "# dfraw2 <- dfraw %>% filter(Feature=='AGE')\n",
    "# eqnl <- val ~ s(Name,k=10,bs='cr') + s(site_d,bs=\"re\")   + roc2\n",
    "# xfit <- bam(eqnl, data=dfraw2, method='REML') \n",
    "# plot(xfit)\n",
    "\n",
    "# dfraw2 <- dfraw %>% filter(Feature=='AGE')\n",
    "# eqnl <- val ~ s(Name,k=10,bs='cr') + s(site_d,bs=\"re\")   + roc2 + s(site_d,roc2,bs=\"re\")\n",
    "# xfit <- bam(eqnl, data=dfraw2, method='REML') \n",
    "# plot(xfit)\n",
    "\n",
    "# summary(xfit)"
   ]
  },
  {
   "cell_type": "code",
   "execution_count": null,
   "id": "b4645009-ec4c-41d5-b925-f2dd76d18a2b",
   "metadata": {},
   "outputs": [],
   "source": [
    "# Try 2 feature interaction"
   ]
  },
  {
   "cell_type": "code",
   "execution_count": null,
   "id": "f4a5b259-3d34-4b46-b637-3051ba0b891a",
   "metadata": {},
   "outputs": [],
   "source": [
    "target_combo = combn(targets, 2, simplify = FALSE)\n",
    "outputname <- \"gamalltmp_double_interaction_quadratic.json\"\n",
    "reversed_target_combo <- lapply(target_combo, rev)\n",
    "# Combine the original and reversed lists\n",
    "combined_list <- c(target_combo, reversed_target_combo)"
   ]
  },
  {
   "cell_type": "code",
   "execution_count": null,
   "id": "fa154163-60f8-4783-93db-215cf3188625",
   "metadata": {},
   "outputs": [],
   "source": []
  },
  {
   "cell_type": "code",
   "execution_count": null,
   "id": "830b6c95-7cee-497b-b3c4-b7669d8fc3b7",
   "metadata": {},
   "outputs": [],
   "source": []
  },
  {
   "cell_type": "code",
   "execution_count": null,
   "id": "d292167c-8e2c-4b4d-a1b7-60b427e945a7",
   "metadata": {},
   "outputs": [],
   "source": [
    "gam_proc2d <- function(cattarget, dfraw, f1, f2, stg, fs, oversample, model_type, outputname, returnf = FALSE) {\n",
    "\n",
    "    f1str <- str_replace_all(f1,'::','_')\n",
    "    f1str <- str_replace_all(f1str,'/','per')\n",
    "    f1str <- str_replace_all(f1str,'\\\\(','_')\n",
    "    f1str <- str_replace_all(f1str,'\\\\)','_')\n",
    "    \n",
    "    f2str <- str_replace_all(f2,'::','_')\n",
    "    f2str <- str_replace_all(f2str,'/','per')\n",
    "    f2str <- str_replace_all(f2str,'\\\\(','_')\n",
    "    f2str <- str_replace_all(f2str,'\\\\)','_')    \n",
    "\n",
    "   \n",
    "    if (!returnf){\n",
    "#    if (TRUE){\n",
    "        filename <- paste0('gam2d_tmp/','gam2d_tmp','_',f1str,'_',f2str,'_',stg,'_',fs,'_',oversample,'_',model_type,'.json')\n",
    "        if (file.exists(filename)){\n",
    "            return()\n",
    "        }    \n",
    "        dfraw <- arrow::read_parquet(path)\n",
    "        dfraw <- dfraw %>% drop_na()\n",
    "        dfraw <- dfraw %>% dplyr::select(-'__index_level_0__')\n",
    "        #dfraw <- dfraw %>% dplyr::filter(site_d != 'MCRI') %>% dplyr::filter(site_m != 'MCRI')\n",
    "        dfraw$site_d <- as.factor(dfraw$site_d)\n",
    "        dfraw$site_m <- as.factor(dfraw$site_m)\n",
    "#        dfraw <- dfraw %>% rename(Feature = feature) %>% rename(val = value)\n",
    "        # if (file.exists(filename)){\n",
    "        #     return()\n",
    "        # }\n",
    "    }\n",
    "    \n",
    "    eqn_cc <- val ~ s(Name.x,k=10,bs='cr') + s(Name.y,k=10,bs='cr') + s(site_d,bs=\"re\") + s(site_m,bs=\"re\") + ti(Name.x,Name.y,k=10,bs='cr')\n",
    "    eqn_cd <- val ~ s(Name.x,k=10,bs='cr') + s(Name.x,by=Name.y,k=10,bs='cr') + Name.y + s(site_d,bs=\"re\") + s(site_m,bs=\"re\")\n",
    "\n",
    "    eqn_cs <- val ~ s(Name.x,k=10,bs='cr') + ti(Name.x,Name.y,k=10,bs='cr') + s(site_d,bs=\"re\") + s(site_m,bs=\"re\")\n",
    "    \n",
    "    if (f1 %in% cattarget & !f2 %in% cattarget){\n",
    "        tmp = f1\n",
    "        f1 = f2\n",
    "        f2 = tmp\n",
    "    }\n",
    "\n",
    "    \n",
    "    columns_to_select <- c(paste0(f1, '_Names'), paste0(f1, '_vals'), paste0(f2, '_Names'), paste0(f2, '_vals'), 'site_m', 'site_d')\n",
    "    dfraw23 <- dfraw[,columns_to_select]\n",
    "    colnames(dfraw23) <- c('Name.x', 'val.x','Name.y', 'val.y', 'site_m', 'site_d')\n",
    "    dfraw23 <- dfraw23 %>% mutate(val=val.x+val.y)\n",
    "        \n",
    "    \n",
    "    \n",
    "#    dfraw21 <- dfraw %>% filter(Feature==f1)\n",
    "#    dfraw22 <- dfraw %>% filter(Feature==f2)\n",
    "    \n",
    "#    dfraw23 <- dfraw21 %>% inner_join(dfraw22, by=c('ID','site_d', 'site_m'))\n",
    "#    dfraw23 <- dfraw23 %>% mutate(val=val.x+val.y)\n",
    "#    dfraw23 <- dfraw23 %>% mutate(val=val.x)\n",
    "\n",
    "    if (!f1 %in% cattarget & f2 %in% cattarget){\n",
    "        eqn <- eqn_cd\n",
    "        dfraw23$Name.y <- as.factor(dfraw23$Name.y)\n",
    "    } else if (!f1 %in% cattarget & !f2 %in% cattarget){\n",
    "        eqn <- eqn_cc\n",
    "    } else {\n",
    "        return()\n",
    "    }\n",
    "\n",
    "    xfit <- bam(eqn, data=dfraw23, method='REML') \n",
    "    sxfit<-summary(xfit)\n",
    "    pxfit<-plot(xfit)\n",
    "    for (i in 1:length(pxfit)){\n",
    "        pxfit[[i]]$raw=NULL\n",
    "    }\n",
    "    result<-list(f1, f2, as.list(sxfit), pxfit)\n",
    "    if (returnf){\n",
    "        return(result)\n",
    "    }\n",
    "    output_to_python <- toJSON(result, force = TRUE, digit=30)\n",
    "    write(output_to_python, filename)    \n",
    "}"
   ]
  },
  {
   "cell_type": "code",
   "execution_count": null,
   "id": "69616f09-41bb-4966-9af5-565038b96672",
   "metadata": {
    "jupyter": {
     "outputs_hidden": true
    },
    "tags": []
   },
   "outputs": [],
   "source": [
    "# Load libraries\n",
    "library(foreach)\n",
    "library(doParallel)\n",
    "\n",
    "# Register parallel backends\n",
    "numCores <- 10  # Or set a specific number\n",
    "registerDoParallel(cores=numCores)\n",
    "\n",
    "start_time <- Sys.time()\n",
    "print(\"Meta-Running multivariate regression R\")\n",
    "# Parallel foreach loop\n",
    "foreach(tar = iter(target_combo)) %dopar% {\n",
    "#for (tar in target_combo){\n",
    "    tryCatch({\n",
    "        print(paste(tar[1], tar[2], 'running'))\n",
    "        flush.console()\n",
    "        gam_proc2d(cattarget, dfraw, tar[1], tar[2], stg, fs, oversample, model_type)\n",
    "    },\n",
    "    error = function(cond) {}\n",
    "    )\n",
    "}  \n",
    "end_time <- Sys.time()\n",
    "runtime <- as.numeric(difftime(end_time, start_time, units = \"secs\"))\n",
    "cat(\"Meta-Running Finished multivariate regression R in\", runtime, \" seconds\")"
   ]
  },
  {
   "cell_type": "code",
   "execution_count": null,
   "id": "523f89e2-65b0-4e61-8c40-3f63384ba731",
   "metadata": {},
   "outputs": [],
   "source": [
    "print('done')"
   ]
  },
  {
   "cell_type": "code",
   "execution_count": null,
   "id": "20796728-229d-40a5-a193-2bf937a9d5ce",
   "metadata": {
    "tags": []
   },
   "outputs": [],
   "source": [
    "xxx <- gam_proc2d(cattarget, dfraw, \"LAB::LG6373-7(mmol/L)\", 'LAB::LG6657-3(mg/dL)', stg, fs, oversample, model_type, outputname, returnf=FALSE)"
   ]
  },
  {
   "cell_type": "code",
   "execution_count": null,
   "id": "c1909ec0-e0a9-4022-8b87-b0fe69292961",
   "metadata": {
    "tags": []
   },
   "outputs": [],
   "source": [
    "xxx"
   ]
  },
  {
   "cell_type": "code",
   "execution_count": null,
   "id": "a02ffa14-a854-41da-8e6a-39f272fd5cca",
   "metadata": {},
   "outputs": [],
   "source": []
  }
 ],
 "metadata": {
  "kernelspec": {
   "display_name": "AKI_CDM_R",
   "language": "R",
   "name": "ir"
  },
  "language_info": {
   "codemirror_mode": "r",
   "file_extension": ".r",
   "mimetype": "text/x-r-source",
   "name": "R",
   "pygments_lexer": "r",
   "version": "4.1.3"
  }
 },
 "nbformat": 4,
 "nbformat_minor": 5
}
