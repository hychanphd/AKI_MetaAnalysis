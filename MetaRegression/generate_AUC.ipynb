{
 "cells": [
  {
   "cell_type": "code",
   "execution_count": null,
   "id": "a075e972-55ba-4dc9-9f1e-4844bde24be9",
   "metadata": {
    "tags": []
   },
   "outputs": [],
   "source": [
    "import pandas as pd\n",
    "import xgboost as xgb\n",
    "import numpy as np\n",
    "import sklearn\n",
    "from sklearn.preprocessing import OneHotEncoder\n",
    "from sklearn.impute import SimpleImputer\n",
    "from imblearn.over_sampling import SMOTE\n",
    "from imblearn.pipeline import make_pipeline\n",
    "from imblearn.combine import SMOTEENN\n",
    "from imblearn.over_sampling import SMOTENC\n",
    "import matplotlib.pyplot as plt\n",
    "from PIL import Image\n",
    "from scipy.interpolate import BSpline, make_interp_spline, interp1d\n",
    "# import rpy2.robjects as robjects\n",
    "# from rpy2.robjects.packages import importr\n",
    "import csv\n",
    "from dfply import *\n",
    "from xgboost import XGBClassifier\n",
    "import itertools\n",
    "import os\n",
    "from sklearn.model_selection import RandomizedSearchCV, GridSearchCV\n",
    "from sklearn.metrics import roc_auc_score\n",
    "from sklearn.model_selection import StratifiedKFold\n",
    "import time\n",
    "import pickle\n",
    "import math\n",
    "import matplotlib.pyplot as plt\n",
    "from glob import glob\n",
    "\n",
    "import importlib\n",
    "\n",
    "import time\n",
    "import requests\n",
    "\n",
    "from joblib import Parallel, delayed\n",
    "from joblib import parallel_backend\n",
    "import seaborn as sns\n",
    "\n",
    "import generateSHAP\n",
    "import plotmeta\n",
    "\n",
    "from scipy import interpolate\n",
    "import statsmodels.api as sm\n",
    "from os.path import exists\n"
   ]
  },
  {
   "cell_type": "code",
   "execution_count": null,
   "id": "4d575951-8217-4f4e-bb51-7591c63e6429",
   "metadata": {},
   "outputs": [],
   "source": [
    "datafolder = '/home/hoyinchan/blue/Data/data2021/data2021/'\n",
    "home_directory = \"/home/hoyinchan/code/AKI_CDM_PY/\""
   ]
  },
  {
   "cell_type": "code",
   "execution_count": null,
   "id": "799e1a64-6f40-4344-9713-4c056c5cacfb",
   "metadata": {},
   "outputs": [],
   "source": [
    "sites = ['MCRI', 'MCW', 'UIOWA', 'UMHC', 'UNMC', 'UofU', 'UTHSCSA', 'UTSW']\n",
    "sites_s = ['UPITT']\n",
    "stgs = [\"stg01\"]\n",
    "fss =  ['nofs']\n",
    "# stgs = [\"stg23\"]\n",
    "# fss =  ['nofs']\n",
    "oversamples = ['raw']\n",
    "model_types = ['catd']\n",
    "\n",
    "\n",
    "filename = 'shap_'+stgs[0]+'_'+fss[0]+'.pkl'"
   ]
  },
  {
   "cell_type": "code",
   "execution_count": null,
   "id": "4199bfe3-2407-495c-a5c3-b7e744705552",
   "metadata": {},
   "outputs": [],
   "source": [
    "import generateSHAP\n",
    "importlib.reload(generateSHAP)\n",
    "shap3 = generateSHAP.generateSHAP()\n",
    "\n",
    "with open(datafolder+filename, \"rb\") as f:\n",
    "    shap2 = pickle.load(f)\n",
    "shap3.copy(shap2)"
   ]
  },
  {
   "cell_type": "code",
   "execution_count": null,
   "id": "7cd1d383-670c-469f-b1f4-3f99fb5e9edd",
   "metadata": {},
   "outputs": [],
   "source": [
    "sites = ['MCW', 'UIOWA', 'UMHC', 'UNMC', 'UofU', 'UTHSCSA', 'UTSW', 'IUR', 'KUMC', 'UPITT']\n",
    "stg = \"stg01\"\n",
    "fs =  'nofs'\n",
    "oversample = 'raw'\n",
    "model_type = 'catd'\n",
    "year=3000"
   ]
  },
  {
   "cell_type": "code",
   "execution_count": null,
   "id": "2564a86a-397e-4f73-ae01-bb0a34fff64b",
   "metadata": {
    "tags": []
   },
   "outputs": [],
   "source": [
    "#shap3.gen_feature_ranking_list()\n",
    "xxx = shap3.get_top_top(30,23)"
   ]
  },
  {
   "cell_type": "code",
   "execution_count": null,
   "id": "dff6f942-3b71-4f2f-965b-25da318eadfe",
   "metadata": {},
   "outputs": [],
   "source": [
    "loinctranslate = pd.read_csv('/home/hoyinchan/code/AKI_CDM_PY/loinc/LoincTable/Loinc.csv', low_memory=False)"
   ]
  },
  {
   "cell_type": "code",
   "execution_count": null,
   "id": "5df38ce7-03e2-4e67-96b4-dc1a351a76d0",
   "metadata": {},
   "outputs": [],
   "source": [
    "xxx2 = pd.DataFrame([x.split(':')[2].split('(')[0] for x in xxx['Feature Id'] if 'LAB' in x])"
   ]
  },
  {
   "cell_type": "code",
   "execution_count": null,
   "id": "698f682a-7912-4c41-89be-2edafed67874",
   "metadata": {},
   "outputs": [],
   "source": [
    "xxx2 = xxx2.merge(loinctranslate[['LOINC_NUM', 'COMPONENT']], left_on=0, right_on='LOINC_NUM', how='left')"
   ]
  },
  {
   "cell_type": "code",
   "execution_count": null,
   "id": "febc9219-a89f-4f6a-979c-5f7b26de9baf",
   "metadata": {},
   "outputs": [],
   "source": [
    "xxx2['print'] = xxx2['COMPONENT']+' ('+xxx2['LOINC_NUM']+'), '"
   ]
  },
  {
   "cell_type": "code",
   "execution_count": null,
   "id": "f42a4be3-0265-4a94-88bf-bd10438c0f22",
   "metadata": {},
   "outputs": [],
   "source": [
    "xxx2"
   ]
  },
  {
   "cell_type": "code",
   "execution_count": null,
   "id": "ea45c201-b348-4fe2-94b7-286ac98f096a",
   "metadata": {},
   "outputs": [],
   "source": [
    "xxx"
   ]
  },
  {
   "cell_type": "code",
   "execution_count": null,
   "id": "c120c015-19a4-42b2-8c4c-960242218db9",
   "metadata": {},
   "outputs": [],
   "source": []
  }
 ],
 "metadata": {
  "kernelspec": {
   "display_name": "AKI_CDM_PY",
   "language": "python",
   "name": "aki_cdm_py"
  },
  "language_info": {
   "codemirror_mode": {
    "name": "ipython",
    "version": 3
   },
   "file_extension": ".py",
   "mimetype": "text/x-python",
   "name": "python",
   "nbconvert_exporter": "python",
   "pygments_lexer": "ipython3",
   "version": "3.6.15"
  }
 },
 "nbformat": 4,
 "nbformat_minor": 5
}
