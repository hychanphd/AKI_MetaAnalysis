{
 "cells": [
  {
   "cell_type": "code",
   "execution_count": null,
   "id": "c42e9517-f574-4de2-a8a1-8dddd2727534",
   "metadata": {},
   "outputs": [],
   "source": [
    "import pandas as pd\n",
    "import xgboost as xgb\n",
    "import numpy as np\n",
    "import sklearn\n",
    "from sklearn.preprocessing import OneHotEncoder\n",
    "from sklearn.impute import SimpleImputer\n",
    "from imblearn.over_sampling import SMOTE\n",
    "from imblearn.pipeline import make_pipeline\n",
    "from imblearn.combine import SMOTEENN\n",
    "from imblearn.over_sampling import SMOTENC\n",
    "import matplotlib.pyplot as plt\n",
    "from PIL import Image\n",
    "from scipy.interpolate import BSpline, make_interp_spline, interp1d\n",
    "# import rpy2.robjects as robjects\n",
    "# from rpy2.robjects.packages import importr\n",
    "import csv\n",
    "from dfply import *\n",
    "from xgboost import XGBClassifier\n",
    "import itertools\n",
    "import os\n",
    "from sklearn.model_selection import RandomizedSearchCV, GridSearchCV\n",
    "from sklearn.metrics import roc_auc_score\n",
    "from sklearn.model_selection import StratifiedKFold\n",
    "import time\n",
    "import pickle\n",
    "import math\n",
    "import matplotlib.pyplot as plt\n",
    "from glob import glob\n",
    "\n",
    "import importlib\n",
    "\n",
    "import time\n",
    "import requests\n",
    "\n",
    "from joblib import Parallel, delayed\n",
    "from joblib import parallel_backend\n",
    "import seaborn as sns\n",
    "\n",
    "import generateSHAP\n",
    "import plotmeta\n",
    "\n",
    "from scipy import interpolate\n",
    "import statsmodels.api as sm\n",
    "from os.path import exists\n"
   ]
  },
  {
   "cell_type": "code",
   "execution_count": null,
   "id": "a90279a3-b735-434f-9198-e9bb4f7eb3c6",
   "metadata": {},
   "outputs": [],
   "source": [
    "datafolder = '/home/hoyinchan/blue/Data/data2021/data2021/'\n",
    "home_directory = \"/home/hoyinchan/code/AKI_CDM_PY/\""
   ]
  },
  {
   "cell_type": "code",
   "execution_count": null,
   "id": "53372d40-63c9-4ba8-8a97-dab99fc9d41e",
   "metadata": {},
   "outputs": [],
   "source": [
    "# sites = ['MCRI', 'MCW', 'UIOWA', 'UMHC', 'UNMC', 'UofU', 'UTHSCSA', 'UTSW']\n",
    "# sites_s = ['UPITT']\n",
    "stgs = [\"stg01\"]\n",
    "fss =  ['nofs']\n",
    "# stgs = [\"stg23\"]\n",
    "# fss =  ['nofs']\n",
    "oversamples = ['raw']\n",
    "model_types = ['catd']\n",
    "stg = \"stg01\"\n",
    "fs =  'nofs'\n",
    "oversample = 'raw'\n",
    "model_type = 'catd'\n",
    "year=3000\n",
    "\n",
    "site_m = 'MCW'\n",
    "site_d='MCW'\n",
    "filename = 'shap_'+stgs[0]+'_'+fss[0]+'.pkl'"
   ]
  },
  {
   "cell_type": "code",
   "execution_count": null,
   "id": "72df891e-d010-491b-8a45-28ba7e82e15d",
   "metadata": {},
   "outputs": [],
   "source": [
    "import generateSHAP\n",
    "importlib.reload(generateSHAP)\n",
    "shap3 = generateSHAP.generateSHAP()\n",
    "\n",
    "with open(datafolder+filename, \"rb\") as f:\n",
    "    shap2 = pickle.load(f)\n",
    "shap3.copy(shap2)"
   ]
  },
  {
   "cell_type": "code",
   "execution_count": null,
   "id": "19798638-ea88-4f63-a1c9-7f61074f7c38",
   "metadata": {},
   "outputs": [],
   "source": [
    "shap3.load_cross_roc()"
   ]
  },
  {
   "cell_type": "code",
   "execution_count": null,
   "id": "b4d8a8b4-6c95-434d-9fde-3e00778755dc",
   "metadata": {},
   "outputs": [],
   "source": [
    "shap3.save_cross_roc()"
   ]
  },
  {
   "cell_type": "code",
   "execution_count": null,
   "id": "4d226edd-22d5-4f6d-a7c6-32bdb648f5fc",
   "metadata": {},
   "outputs": [],
   "source": [
    "shap3.gen_feature_ranking_list()"
   ]
  },
  {
   "cell_type": "code",
   "execution_count": null,
   "id": "bdd988fe-6a6e-488c-b6ef-dd93f66c2fc1",
   "metadata": {},
   "outputs": [],
   "source": [
    "feature_table = shap3.feature_ranking.copy()\n",
    "feature_table['Feature Id'] = feature_table['Feature Id'].str.split('(').str[0]\n",
    "feature_table = feature_table.sort_values('rank').groupby('site').head(5).pivot(index='site', columns='rank', values='Feature Id')"
   ]
  },
  {
   "cell_type": "code",
   "execution_count": null,
   "id": "5b021292-e478-4c5c-b731-a0f692dbc973",
   "metadata": {},
   "outputs": [],
   "source": [
    "feature_table.columns = feature_table.columns+1"
   ]
  },
  {
   "cell_type": "code",
   "execution_count": null,
   "id": "28256962-36d3-4388-b269-32136461b5d6",
   "metadata": {},
   "outputs": [],
   "source": [
    "filepath = '/home/hoyinchan/blue/Data/data2021/data2021/'+site_m+'/shapdataraw_'+model_type+'_'+site_m+'_'+site_d+'_'+str(3000)+'_'+stg+'_'+fs+'_'+oversample+'.pkl'       "
   ]
  },
  {
   "cell_type": "code",
   "execution_count": null,
   "id": "db617f24-0bfd-4e11-9754-16841adf5843",
   "metadata": {},
   "outputs": [],
   "source": [
    "shap3.collect_shap()"
   ]
  },
  {
   "cell_type": "code",
   "execution_count": null,
   "id": "2f21181b-b9ad-48b8-b926-db3ecf26219c",
   "metadata": {},
   "outputs": [],
   "source": [
    "xxx = pd.read_parquet('/home/hoyinchan/blue/Data/data2021/data2021/shapalltmp.parquet')"
   ]
  },
  {
   "cell_type": "code",
   "execution_count": null,
   "id": "a6a6916f-1834-4002-ac10-0a5e4132c945",
   "metadata": {},
   "outputs": [],
   "source": []
  },
  {
   "cell_type": "code",
   "execution_count": null,
   "id": "1cfe7dc8-8d05-4a3b-b175-b81607eaec28",
   "metadata": {},
   "outputs": [],
   "source": []
  }
 ],
 "metadata": {
  "kernelspec": {
   "display_name": "AKI_CDM_PY",
   "language": "python",
   "name": "aki_cdm_py"
  },
  "language_info": {
   "codemirror_mode": {
    "name": "ipython",
    "version": 3
   },
   "file_extension": ".py",
   "mimetype": "text/x-python",
   "name": "python",
   "nbconvert_exporter": "python",
   "pygments_lexer": "ipython3",
   "version": "3.6.15"
  }
 },
 "nbformat": 4,
 "nbformat_minor": 5
}
