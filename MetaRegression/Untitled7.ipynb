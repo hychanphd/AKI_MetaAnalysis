{
 "cells": [
  {
   "cell_type": "code",
   "execution_count": null,
   "id": "7fcfeaeb-419b-4cd7-843c-71a9c9deee86",
   "metadata": {
    "tags": []
   },
   "outputs": [],
   "source": [
    "import numpy as np\n",
    "import matplotlib.pyplot as plt\n",
    "from scipy.interpolate import UnivariateSpline, RBFInterpolator\n",
    "\n",
    "# Generate 1D data\n",
    "np.random.seed(42)\n",
    "x = np.sort(np.random.rand(100) * 10).reshape(-1, 1)  # 1D input, reshaped to (n_samples, n_features)\n",
    "y = np.sin(x).ravel() + np.random.normal(0, 0.1, size=x.shape[0])  # Noisy sine data\n",
    "\n",
    "# Define an RBF Interpolator\n",
    "rbf = RBFInterpolator(x, y, kernel='thin_plate_spline', smoothing=1)  # Options: 'cubic', 'linear', 'thin_plate'\n",
    "rbf2 = UnivariateSpline(x, y,k=5)\n",
    "\n",
    "# Interpolate on a denser grid\n",
    "x_dense = np.linspace(0, 10, 500).reshape(-1, 1)\n",
    "y_dense = rbf(x_dense)\n",
    "\n",
    "# Interpolate on a denser grid\n",
    "y_dense2 = rbf2(x_dense)\n",
    "\n",
    "# Plot the results\n",
    "plt.figure(figsize=(8, 6))\n",
    "plt.scatter(x, y, color='red', label='Data Points')  # Original data points\n",
    "plt.plot(x_dense, y_dense, color='blue', label='thin_plate')\n",
    "plt.plot(x_dense, y_dense2, color='green', label='RBF Interpolation2')\n",
    "plt.title('1D Interpolation with RBFInterpolator')\n",
    "plt.xlabel('x')\n",
    "plt.ylabel('y')\n",
    "plt.legend()\n",
    "plt.show()"
   ]
  },
  {
   "cell_type": "code",
   "execution_count": null,
   "id": "4029442b-f84c-4e78-9520-1cb5f66b35ef",
   "metadata": {
    "tags": []
   },
   "outputs": [],
   "source": [
    "x"
   ]
  },
  {
   "cell_type": "code",
   "execution_count": null,
   "id": "cba30b82-8ba1-4422-b47b-5d4486e21195",
   "metadata": {},
   "outputs": [],
   "source": []
  }
 ],
 "metadata": {
  "kernelspec": {
   "display_name": "AKI_CDM_FIT",
   "language": "python",
   "name": "aki_cdm_fit"
  },
  "language_info": {
   "codemirror_mode": {
    "name": "ipython",
    "version": 3
   },
   "file_extension": ".py",
   "mimetype": "text/x-python",
   "name": "python",
   "nbconvert_exporter": "python",
   "pygments_lexer": "ipython3",
   "version": "3.13.0"
  }
 },
 "nbformat": 4,
 "nbformat_minor": 5
}
