{
 "cells": [
  {
   "cell_type": "code",
   "execution_count": null,
   "id": "829bb543-7629-4aac-86d3-33c80ec8a60d",
   "metadata": {},
   "outputs": [],
   "source": [
    "from os import listdir\n",
    "from os.path import isfile, join\n",
    "onlyfiles = [f for f in listdir('.') if isfile(join('.', f))]"
   ]
  },
  {
   "cell_type": "code",
   "execution_count": null,
   "id": "cd069ffe-de05-439d-95fc-75aea546e2bc",
   "metadata": {},
   "outputs": [],
   "source": [
    "onlyfiles = [x for x in onlyfiles if '_point.svg' in x]"
   ]
  },
  {
   "cell_type": "code",
   "execution_count": null,
   "id": "8dc5b84b-07ca-47cb-b2bf-a19f45b2153b",
   "metadata": {},
   "outputs": [],
   "source": [
    "from svglib.svglib import svg2rlg\n",
    "from reportlab.graphics import renderPM\n",
    "for file in onlyfiles:\n",
    "    print(file)\n",
    "    drawing = svg2rlg(file)\n",
    "    renderPM.drawToFile(drawing, file.split('.')[0]+\".jpg\", fmt=\"JPG\")"
   ]
  },
  {
   "cell_type": "code",
   "execution_count": null,
   "id": "eefa1f82-cc94-40e4-9ed4-dd5473c04d79",
   "metadata": {},
   "outputs": [],
   "source": []
  }
 ],
 "metadata": {
  "kernelspec": {
   "display_name": "Python 3",
   "language": "python",
   "name": "python3"
  },
  "language_info": {
   "codemirror_mode": {
    "name": "ipython",
    "version": 3
   },
   "file_extension": ".py",
   "mimetype": "text/x-python",
   "name": "python",
   "nbconvert_exporter": "python",
   "pygments_lexer": "ipython3",
   "version": "3.6.13"
  }
 },
 "nbformat": 4,
 "nbformat_minor": 5
}
