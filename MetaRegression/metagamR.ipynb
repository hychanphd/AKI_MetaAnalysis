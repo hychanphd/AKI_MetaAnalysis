{
 "cells": [
  {
   "cell_type": "code",
   "execution_count": null,
   "id": "1d35e5d6-9230-4f9f-82f1-46a7905a73c1",
   "metadata": {
    "jupyter": {
     "outputs_hidden": true
    },
    "tags": []
   },
   "outputs": [],
   "source": [
    "library(arrow)\n",
    "library(dplyr)\n",
    "library(mgcv)\n",
    "library(tidyverse)\n",
    "library(data.table)\n",
    "library(metagam)\n",
    "library(latex2exp)"
   ]
  },
  {
   "cell_type": "code",
   "execution_count": null,
   "id": "194589dd-4501-4224-bd1b-9a71e5b15d9c",
   "metadata": {
    "tags": []
   },
   "outputs": [],
   "source": [
    "path <- \"metadata_mean.parquet\"\n",
    "df <- arrow::read_parquet(path)\n",
    "path <- \"metadata_raw.parquet\"\n",
    "dfraw <- arrow::read_parquet(path)"
   ]
  },
  {
   "cell_type": "code",
   "execution_count": null,
   "id": "aff3ae8b-4800-463e-bb42-06e33ef8b092",
   "metadata": {
    "tags": []
   },
   "outputs": [],
   "source": [
    "df = df %>% dplyr::select(-'__index_level_0__') %>% mutate(siteyr=paste0(site,year)) %>% filter(Importances!=0)\n",
    "siteyrlist = df %>% dplyr::select(siteyr) %>% unique\n",
    "featuredecodelist = df %>% dplyr::select(featuredecode) %>% unique"
   ]
  },
  {
   "cell_type": "code",
   "execution_count": null,
   "id": "e892cb37-966a-43a8-a0ab-d8f626197485",
   "metadata": {
    "tags": []
   },
   "outputs": [],
   "source": [
    "# library('fda.usc')\n",
    "# # fregre.basis\n",
    "# data(tecator)\n",
    "# names(tecator)\n",
    "# absorp=tecator$absorp.fdata\n",
    "# ind=1:129\n",
    "# x=absorp[ind,]\n",
    "# y=tecator$y$Fat[ind]\n",
    "# tt=absorp[[\"argvals\"]]\n",
    "# res1=fregre.basis(x,y)\n",
    "# summary(res1)\n",
    "# basis1=create.bspline.basis(rangeval=range(tt),nbasis=19)\n",
    "# basis2=create.bspline.basis(rangeval=range(tt),nbasis=9)\n",
    "# res5=fregre.basis(x,y,basis1,basis2)\n",
    "# summary(res5)\n",
    "# x.d2=fdata.deriv(x,nbasis=19,nderiv=1,method=\"bspline\",class.out=\"fdata\")\n",
    "# res7=fregre.basis(x.d2,y,basis1,basis2)\n",
    "# summary(res7)"
   ]
  },
  {
   "cell_type": "code",
   "execution_count": null,
   "id": "e044c232-14ed-4150-83c7-71737b3e5485",
   "metadata": {},
   "outputs": [],
   "source": [
    "plot_fit<-function(df, fit1){\n",
    "    df2<-df %>%\n",
    "        mutate(lwr = mean_val - 2 * se_val,\n",
    "         upr = mean_val + 2 * se_val)\n",
    "    \n",
    "#    fit1_FIT<-predict(fit1$gam, se.fit=T) %>%\n",
    "#    newd <- data.frame(fval=0:600)\n",
    "    fit1_FIT<-predict(fit1, se.fit=T) %>%    \n",
    "#    fit1_FIT<-predict(fit1, newd, se.fit=T) %>%        \n",
    "      as_tibble() %>% \n",
    "      rename(fit_gam = fit) %>% \n",
    "      mutate(lwr_gam = fit_gam - 2 * se.fit,\n",
    "             upr_gam = fit_gam + 2 * se.fit)\n",
    "    \n",
    "    ggplot()+\n",
    "    geom_point(aes(df2$fval, df2$mean_val))+\n",
    "    geom_line(aes(df2$fval, fit1_FIT$fit_gam, color='red'))+\n",
    "    geom_ribbon(aes(x=df2$fval, ymin=fit1_FIT$lwr_gam, ymax=fit1_FIT$upr_gam), alpha = 0.2, fill = \"red\")+\n",
    "#    geom_line(aes(newd$fval, fit1_FIT$fit_gam, color='red'))+\n",
    "#    geom_ribbon(aes(x=newd$fval, ymin=fit1_FIT$lwr_gam, ymax=fit1_FIT$upr_gam), alpha = 0.2, fill = \"red\")+    \n",
    "    geom_errorbar(aes(x=df2$fval, ymin=df2$lwr, ymax=df2$upr), alpha = 0.2)\n",
    "}"
   ]
  },
  {
   "cell_type": "code",
   "execution_count": null,
   "id": "9c4d921f-4aee-478d-ba5b-13758c20bac8",
   "metadata": {
    "tags": []
   },
   "outputs": [],
   "source": [
    "plot_fit2<-function(df2, gamobj, coeff){\n",
    "    \n",
    "#    df2<-df2 %>%\n",
    "#        mutate(lwr = df2[[coeff]] - 2 * df2[[paste0(coeff,'_var')]],\n",
    "#         upr = df2[[coeff]] + 2 * df2[[paste0(coeff,'_var')]])    \n",
    "   \n",
    "    fit1_FIT<-predict(gamobj, se.fit=T) %>%\n",
    "      as_tibble() %>% \n",
    "      rename(fit_gam = fit) %>% \n",
    "      mutate(lwr_gam = fit_gam - 2 * se.fit,\n",
    "             upr_gam = fit_gam + 2 * se.fit)\n",
    "\n",
    "    ggplot()+\n",
    "    geom_point(aes(df2[[coeff]], df2$auc))+\n",
    "    geom_line(aes(df2[[coeff]], fit1_FIT$fit_gam, color='red'))+\n",
    "    geom_ribbon(aes(x=df2[[coeff]], ymin=fit1_FIT$lwr_gam, ymax=fit1_FIT$upr_gam), alpha = 0.2, fill = \"red\")\n",
    "#    geom_errorbarh(aes(y=df2$auc, xmin=df2$lwr, xmax=df2$upr), alpha = 0.2)    \n",
    "}"
   ]
  },
  {
   "cell_type": "code",
   "execution_count": null,
   "id": "abaae727-f14e-4c45-b017-6dbf9961aa8f",
   "metadata": {
    "tags": []
   },
   "outputs": [],
   "source": [
    "# drop term (17<AGE<90, other 3sigma)\n",
    "# filterdf <- df %>% \n",
    "#     select('featuredecode', 'fval') %>% \n",
    "#     group_by(featuredecode) %>% \n",
    "#     summarise(mean=mean(fval), sd=sd(fval)) %>% \n",
    "#     mutate(upr=mean+3*sd, lwr=mean-3*sd) %>% \n",
    "#     mutate(upr = replace(upr, featuredecode == \"AGE\", 89)) %>% \n",
    "#     mutate(lwr = replace(lwr, featuredecode == \"AGE\", 18)) %>%\n",
    "#     select('featuredecode', 'upr', 'lwr')\n",
    "filterdf <- df %>% \n",
    "    select(site,year,featuredecode,fval) %>% \n",
    "    group_by(site,year,featuredecode) %>% \n",
    "    summarise(min=min(fval), max=max(fval)) %>%\n",
    "    ungroup %>%\n",
    "    group_by(featuredecode) %>%\n",
    "    summarise(min_min=min(min), max_min=max(min), min_max=min(max), max_max=max(max), mean_min=mean(min), sd_min=sd(min), mean_max=mean(max), sd_max=sd(max)) %>%\n",
    "    mutate(upr=mean_max+3*sd_max, lwr=mean_min-3*sd_min) %>% \n",
    "    mutate(upr = replace(upr, featuredecode == \"AGE\", 89)) %>% \n",
    "    mutate(lwr = replace(lwr, featuredecode == \"AGE\", 18))\n",
    "\n",
    "df <- df %>% left_join(filterdf%>%select(featuredecode,upr,lwr), by='featuredecode') %>% filter(fval>=lwr) %>% filter(fval<=upr) %>% select(-upr, -lwr)\n",
    "filterdf"
   ]
  },
  {
   "cell_type": "code",
   "execution_count": null,
   "id": "ac139858-0c8d-4d02-86f0-be6951790ab4",
   "metadata": {
    "jupyter": {
     "outputs_hidden": true
    },
    "tags": []
   },
   "outputs": [],
   "source": [
    "#Check the min max outliner drop\n",
    "\n",
    "# dfplot<- df %>% \n",
    "#     select(site,year,featuredecode,fval,siteyr) %>% \n",
    "#     group_by(siteyr,featuredecode) %>% \n",
    "#     summarise(min=min(fval), max=max(fval)) %>%\n",
    "#     ungroup %>% filter(featuredecode=='2075-0')\n",
    "# barplot(dfplot$min, names.arg=dfplot$siteyr)"
   ]
  },
  {
   "cell_type": "code",
   "execution_count": null,
   "id": "7c6295c7-13a8-4f86-9e1a-846e86ace90b",
   "metadata": {
    "tags": []
   },
   "outputs": [],
   "source": [
    "# imputation using metagam\n",
    "\n",
    "fits <- list()\n",
    "for (fc in featuredecodelist$featuredecode){\n",
    "#    fc <- 'SYSTOLIC'\n",
    "    dft = df %>% filter(featuredecode==fc)\n",
    "    maxx <- dft %>% select('fval') %>% max()\n",
    "    minx <- dft %>% select('fval') %>% min()    \n",
    "    for (sy in siteyrlist$siteyr){\n",
    "        dft <- df %>% filter(siteyr==sy) \n",
    "        dft_fit <- list(gam(mean_val ~ s(fval, k=60, bs='cr'), data=dft%>%select(fval,mean_val), method='REML'))\n",
    "        names(dft_fit) <- paste0(sy,'_',fc)\n",
    "        fits <- append(fits, dft_fit)\n",
    "    }\n",
    "}\n",
    "\n",
    "\n",
    "# cohort_fits <- map(fits, strip_rawdata, save_tanges=TRUE)\n",
    "# grid <- tibble(fval = seq(from=minx, to=maxx,by=((maxx-minx)/1000)))\n",
    "\n",
    "# pred_data <- imap_dfr(cohort_fits, function(fit, cohort){\n",
    "\n",
    "#     lower <- min(fit$var.summary$fval)\n",
    "#     upper <- max(fit$var.summary$fval)\n",
    "\n",
    "#     grid2 <- grid %>%\n",
    "#     filter(fval > !!lower, fval < !! upper)\n",
    "\n",
    "#     pred <- predict(fit, newdata = grid2, se.fit = TRUE,\n",
    "#     type = \"iterms\", terms = c(\"s(fval)\"))\n",
    "\n",
    "#     grid2 %>%\n",
    "#     mutate(\n",
    "#     fit = rowSums(pred$fit) + attr(pred, \"constant\"),\n",
    "#     se = apply(pred$se.fit, 1, function(x) sqrt(sum(x^2))),\n",
    "#     cohort = cohort\n",
    "#     )\n",
    "# })\n",
    "# p <- ggplot(pred_data, aes(x = fval, y = fit, ymin = fit + qnorm(.025) * se,\n",
    "#             ymax = fit + qnorm(.975) * se)) +\n",
    "#             geom_line() +\n",
    "#             geom_ribbon(alpha = .3, color = NA) +\n",
    "#             facet_wrap(vars(cohort)) +\n",
    "#             theme_classic() +\n",
    "#             theme(strip.background = element_blank(),\n",
    "#             panel.border = element_rect(colour = \"black\", fill = NA)) +\n",
    "#             ylab(TeX(\"s(fval) (mm$^{3}$)\"))\n",
    "# #p\n",
    "# metafit <- metagam(cohort_fits, grid, type = \"iterms\", terms = \"s(fval)\", method = \"DL\", intercept = TRUE)"
   ]
  },
  {
   "cell_type": "code",
   "execution_count": null,
   "id": "0f171a0f-c5d5-4828-95b2-59d4e41329d7",
   "metadata": {
    "jupyter": {
     "outputs_hidden": true
    },
    "tags": []
   },
   "outputs": [],
   "source": [
    "dftt<-df%>%filter(siteyr=='MCRI2014')%>%filter(featuredecode=='SYSTOLIC')\n",
    "vi <- 1/dftt$se_val\n",
    "dftt_fit <- gam(mean_val ~ s(fval, k=60, bs='cr'), data=dftt, method='REML')         \n",
    "#plot_fit(dftt,dftt_fit)\n",
    "dftt$fval"
   ]
  },
  {
   "cell_type": "code",
   "execution_count": null,
   "id": "792d7016-cbb7-4262-819d-2da4efa4894b",
   "metadata": {
    "jupyter": {
     "outputs_hidden": true
    },
    "tags": []
   },
   "outputs": [],
   "source": [
    "dftt$se_val"
   ]
  },
  {
   "cell_type": "code",
   "execution_count": null,
   "id": "4646aed4-ba86-43dd-a6ac-1fad76ca117b",
   "metadata": {
    "tags": []
   },
   "outputs": [],
   "source": [
    "fitlist<-list()\n",
    "df2<-list()\n",
    "for (x in siteyrlist$siteyr){\n",
    "#    print(x)\n",
    "    df2[[x]]<-df %>% \n",
    "    filter(siteyr==x) %>% \n",
    "    dplyr::select('mean_val', 'fval', 'se_val') \n",
    "    fitlist[[x]]<-gam(mean_val ~ s(fval, k=10, bs='ps'), data=df2[[x]], method='REML')\n",
    "#    print(paste0('finished ',x))\n",
    "}"
   ]
  },
  {
   "cell_type": "code",
   "execution_count": null,
   "id": "cf9331e3-1e94-4932-8cc5-b8b85b9a0687",
   "metadata": {
    "jupyter": {
     "outputs_hidden": true
    },
    "tags": []
   },
   "outputs": [],
   "source": [
    "plots<-list()\n",
    "for (x in siteyrlist$siteyr){\n",
    "#    print(k.check(x$gam))}\n",
    "    plots[[x]]<-plot_fit(df2[[x]], fitlist[[x]])\n",
    "#    ggsave(paste0('plots/AGE_',x,'.svg'),plot=plots[[x]],device='svg')\n",
    "    print(plots[[x]])\n",
    "}"
   ]
  },
  {
   "cell_type": "code",
   "execution_count": null,
   "id": "a1fcd825-342c-4792-8640-c3efee8f7039",
   "metadata": {},
   "outputs": [],
   "source": [
    "coeffdata <- t(data.frame(fitlist[['KUMC2010']]$coefficients))\n",
    "\n",
    "for (x in siteyrlist$siteyr){\n",
    "    row1 <- t(data.frame(fitlist[[x]]$coefficients))\n",
    "    rownames(row1) <- c(x)\n",
    "    coeffdata = rbind(coeffdata,row1)\n",
    "}\n",
    "coeffdata=coeffdata[-1,]\n",
    "colnames(coeffdata) = str_remove_all(colnames(coeffdata),'[.()]')\n",
    "metaformula<-as.formula(paste0(\"auc~\", paste(colnames(coeffdata)[c(-1)], collapse = '+')))\n",
    "auc <- df %>% dplyr::select('siteyr', 'auc') %>% unique\n",
    "coeffdata <- tibble::rownames_to_column(data.frame(coeffdata), \"siteyr\")\n",
    "coeffdata <- coeffdata %>% left_join(auc, by='siteyr')"
   ]
  },
  {
   "cell_type": "code",
   "execution_count": null,
   "id": "f26615e5-d743-4a49-9acb-c015783dc55b",
   "metadata": {},
   "outputs": [],
   "source": [
    "coeffvardata <- t(data.frame(diag(fitlist[['KUMC2010']]$Vc)))\n",
    "\n",
    "for (x in siteyrlist$siteyr){\n",
    "    row1 <- t(data.frame(diag(fitlist[[x]]$Vc)))\n",
    "    rownames(row1) <- c(x)\n",
    "    coeffvardata = rbind(coeffvardata,row1)\n",
    "}\n",
    "coeffvardata=coeffvardata[-1,]\n",
    "colnames(coeffvardata) = lapply(colnames(coeffdata)[-length(colnames(coeffdata))][-1], function(x) paste0(x,'_var'))\n",
    "coeffvardata <- tibble::rownames_to_column(data.frame(coeffvardata), \"siteyr\")"
   ]
  },
  {
   "cell_type": "code",
   "execution_count": null,
   "id": "154fe75c-2edf-46ce-b4cc-35ada3fc83df",
   "metadata": {},
   "outputs": [],
   "source": [
    "coeffdata_wvar <- coeffdata %>% left_join(coeffvardata, by='siteyr')"
   ]
  },
  {
   "cell_type": "code",
   "execution_count": null,
   "id": "0e8f5248-e305-4be0-8b54-a20ae9f2c265",
   "metadata": {},
   "outputs": [],
   "source": [
    "metagame<-gam(metaformula, data=coeffdata, method='REML')"
   ]
  },
  {
   "cell_type": "code",
   "execution_count": null,
   "id": "c7fa387a-acad-4491-9f18-04eb4e256e51",
   "metadata": {
    "tags": []
   },
   "outputs": [],
   "source": [
    "summary(metagame)"
   ]
  },
  {
   "cell_type": "code",
   "execution_count": null,
   "id": "72f67aa4-addc-4001-a3f0-4f01d33782a7",
   "metadata": {},
   "outputs": [],
   "source": [
    "f2<- auc ~ s(Intercept, k=60, bs='cr') + s(sfval1, k=60, bs='cr')"
   ]
  },
  {
   "cell_type": "code",
   "execution_count": null,
   "id": "c00e5d16-c345-4120-a661-a48587a27dfb",
   "metadata": {},
   "outputs": [],
   "source": [
    "metagame3<-gam(auc ~ sfval6, data=coeffdata, method='REML')"
   ]
  },
  {
   "cell_type": "code",
   "execution_count": null,
   "id": "1e0f3349-68b3-415f-8965-a23135bd0402",
   "metadata": {},
   "outputs": [],
   "source": [
    "summary(metagame3)"
   ]
  },
  {
   "cell_type": "code",
   "execution_count": null,
   "id": "7e91d998-6a34-4c0d-bccc-cbe4b66d6970",
   "metadata": {},
   "outputs": [],
   "source": [
    "plot_fit2(coeffdata_wvar, metagame3, 'sfval6')"
   ]
  },
  {
   "cell_type": "code",
   "execution_count": null,
   "id": "9e051f6a-b299-4c8c-ab50-3e63fc242dc7",
   "metadata": {},
   "outputs": [],
   "source": [
    "summary(fitlist[['KUMC2010']])"
   ]
  },
  {
   "cell_type": "code",
   "execution_count": null,
   "id": "47cfe61b-e7ac-4873-bf1c-4fbc0d42d7b5",
   "metadata": {
    "tags": []
   },
   "outputs": [],
   "source": [
    "??eivtools"
   ]
  },
  {
   "cell_type": "code",
   "execution_count": null,
   "id": "be0409b6-7944-4d34-94c2-bbef7620107d",
   "metadata": {
    "jupyter": {
     "outputs_hidden": true
    },
    "tags": []
   },
   "outputs": [],
   "source": [
    "library(arrow)\n",
    "library(dplyr)\n",
    "library(mgcv)\n",
    "library(tidyverse)\n",
    "library(data.table)\n",
    "library(metagam)\n",
    "library(latex2exp)\n",
    "library(eivtools)\n",
    "library(plotly)\n",
    "library(stats)\n",
    "library(plotrix)\n",
    "library(fishmethods)\n",
    "library(metafor)"
   ]
  },
  {
   "cell_type": "code",
   "execution_count": null,
   "id": "6b423d51-d92c-48a3-9a07-23ff5fd2b70d",
   "metadata": {
    "tags": []
   },
   "outputs": [],
   "source": [
    "plot_fit2<-function(df2, gamobj, coeff){\n",
    "    \n",
    "    df2<- df2 %>% mutate(site = substr(siteyr,1,nchar(siteyr)-4))\n",
    "    #    df2<-df2 %>%\n",
    "    #        mutate(lwr = df2[[coeff]] - 2 * df2[[paste0(coeff,'_var')]],\n",
    "    #         upr = df2[[coeff]] + 2 * df2[[paste0(coeff,'_var')]])    \n",
    "\n",
    "    fit1_FIT<-predict(gamobj, se.fit=T) %>%\n",
    "      as_tibble() %>% \n",
    "      rename(fit_gam = fit) %>% \n",
    "      mutate(lwr_gam = fit_gam - 2 * se.fit,\n",
    "             upr_gam = fit_gam + 2 * se.fit)\n",
    "\n",
    "    ggplot()+\n",
    "    geom_point(aes(df2[[coeff]], df2$auc, color=df2$site))+\n",
    "    geom_line(aes(df2[[coeff]], fit1_FIT$fit_gam, color='red'))+\n",
    "    geom_ribbon(aes(x=df2[[coeff]], ymin=fit1_FIT$lwr_gam, ymax=fit1_FIT$upr_gam), alpha = 0.2, fill = \"red\")\n",
    "#    geom_errorbarh(aes(y=df2$auc, xmin=df2$lwr, xmax=df2$upr), alpha = 0.2)    \n",
    "}"
   ]
  },
  {
   "cell_type": "code",
   "execution_count": null,
   "id": "9c78cef1-8545-452f-be6c-f3facbc4b8f7",
   "metadata": {},
   "outputs": [],
   "source": [
    "path <- \"metadata_mean.parquet\"\n",
    "df <- arrow::read_parquet(path)\n",
    "path <- \"metadata_raw.parquet\"\n",
    "dfraw <- arrow::read_parquet(path)"
   ]
  },
  {
   "cell_type": "code",
   "execution_count": null,
   "id": "26fc60e0-efe6-413a-ab64-d44df04c9151",
   "metadata": {},
   "outputs": [],
   "source": [
    "df = df %>% dplyr::select(-'__index_level_0__') %>% mutate(siteyr=paste0(site,year)) %>% filter(Importances!=0)\n",
    "\n",
    "#df = df %>% filter(!(site %in% list(\"MCRI\"))) %>% filter(!(sy %in% list(\"UMHC2013\", \"UMHC2020\")))\n",
    "#df = df %>% filter(!(site %in% list(\"MCRI\", 'UPITT'))) %>% filter(!(siteyr %in% list(\"UMHC2020\")))\n",
    "df = df %>% filter(!(siteyr %in% list(\"UMHC2020\")))\n",
    "\n",
    "siteyrlist = df %>% dplyr::select(siteyr) %>% unique\n",
    "featuredecodelist = df %>% dplyr::select(featuredecode) %>% unique\n",
    "dfraw = dfraw %>% rename(fval=Name) %>% rename(siteyr=siteyear) %>% dplyr::select(-'__index_level_0__')"
   ]
  },
  {
   "cell_type": "code",
   "execution_count": null,
   "id": "b0c806f4-33b9-40a1-b8bc-ff8b4178a01b",
   "metadata": {
    "tags": []
   },
   "outputs": [],
   "source": [
    "filterdf <- df %>% \n",
    "    select(site,year,featuredecode,fval) %>% \n",
    "    group_by(site,year,featuredecode) %>% \n",
    "    summarise(min=min(fval), max=max(fval)) %>%\n",
    "    ungroup %>%\n",
    "    group_by(featuredecode) %>%\n",
    "    summarise(min_min=min(min), max_min=max(min), min_max=min(max), max_max=max(max), mean_min=mean(min), sd_min=sd(min), mean_max=mean(max), sd_max=sd(max)) %>%\n",
    "    mutate(upr=mean_max+3*sd_max, lwr=mean_min-3*sd_min) %>% \n",
    "    mutate(upr = replace(upr, featuredecode == \"AGE\", 89)) %>% \n",
    "    mutate(lwr = replace(lwr, featuredecode == \"AGE\", 18))\n",
    "\n",
    "df <- df %>% left_join(filterdf%>%select(featuredecode,upr,lwr), by='featuredecode') %>% filter(fval>=lwr) %>% filter(fval<=upr) %>% select(-upr, -lwr)\n",
    "dfraw <- dfraw %>% left_join(filterdf%>%select(featuredecode,upr,lwr), by='featuredecode') %>% filter(fval>=lwr) %>% filter(fval<=upr) %>% select(-upr, -lwr)"
   ]
  },
  {
   "cell_type": "code",
   "execution_count": null,
   "id": "2d3f0db3-9e19-4a26-88e2-7f14a76aa885",
   "metadata": {},
   "outputs": [],
   "source": [
    "frange <- dfraw %>% select(fval, featuredecode) %>% group_by(featuredecode) %>% \n",
    "                        summarize(min=min(fval),q10 =quantile(fval,probs=0.001),\n",
    "                                                q25 =quantile(fval,probs=0.25),\n",
    "                                                q375=quantile(fval,probs=0.375),\n",
    "                                                q50 =quantile(fval,probs=0.50),\n",
    "                                                q625=quantile(fval,probs=0.625),\n",
    "                                                q75 =quantile(fval,probs=0.75),\n",
    "                                                q90 =quantile(fval,probs=0.999),\n",
    "                                                max=max(fval))\n",
    "frange"
   ]
  },
  {
   "cell_type": "code",
   "execution_count": null,
   "id": "bd8de5ef-b7e8-4a6f-a5e6-b3bf91f31f2f",
   "metadata": {
    "tags": []
   },
   "outputs": [],
   "source": [
    "library(foreach)\n",
    "library(doParallel)\n",
    "ptm <- proc.time()\n",
    "gamdict <- list()\n",
    "fitlist <- list()\n",
    "#sy <- 'KUMC2013'\n",
    "#syf <- 'SYSTOLIC'\n",
    "cl <- parallel::makeCluster(16)\n",
    "doParallel::registerDoParallel(cl)"
   ]
  },
  {
   "cell_type": "code",
   "execution_count": null,
   "id": "cf460a85-a26e-49f3-9ad0-c17ab75befe0",
   "metadata": {
    "tags": []
   },
   "outputs": [],
   "source": [
    "syflistdict <- dfraw %>% select(siteyr, featuredecode) %>% unique"
   ]
  },
  {
   "cell_type": "code",
   "execution_count": null,
   "id": "2d169611-361d-4ef8-9894-3d100fc7a1a0",
   "metadata": {
    "jupyter": {
     "outputs_hidden": true
    },
    "tags": []
   },
   "outputs": [],
   "source": [
    "#Alternatively fit and get coefficient\n",
    "\n",
    "#Make Average to be zero?\n",
    "#dfraw <- dfraw %>% group_by(siteyr, Feature) %>% mutate(val=val-mean(val)) %>% ungroup\n",
    "\n",
    "ptm <- proc.time()\n",
    "gamdict <- list()\n",
    "fitlist <- list()\n",
    "#sy <- 'KUMC2013'\n",
    "#syf <- 'SYSTOLIC'\n",
    "test<-foreach (srrow=iter(syflistdict, by='row'),\n",
    "              .combine=rbind) %dopar% {\n",
    "        flush.console()\n",
    "        return(srrow)\n",
    "}\n",
    "test"
   ]
  },
  {
   "cell_type": "code",
   "execution_count": null,
   "id": "f9f3661b-5bc0-4133-a12b-e78a94308f95",
   "metadata": {
    "jupyter": {
     "outputs_hidden": true
    },
    "tags": []
   },
   "outputs": [],
   "source": [
    "ptm <- proc.time()\n",
    "fitlist<-foreach (srrow=iter(syflistdict, by='row'), .combine=rbind) %do% {\n",
    "        library(arrow)\n",
    "        library(dplyr)\n",
    "        library(mgcv)\n",
    "        library(tidyverse)\n",
    "        library(data.table)\n",
    "        library(metagam)\n",
    "        library(latex2exp)\n",
    "        library(eivtools)\n",
    "        library(plotly)\n",
    "        library(stats)\n",
    "        library(plotrix)\n",
    "        library(fishmethods)\n",
    "        library(metafor)    \n",
    "        sy <- srrow$siteyr\n",
    "        syf <- srrow$featuredecode\n",
    "        print(paste0(sy,'-',syf))\n",
    "        flush.console()\n",
    "        dfrawsy <- dfraw %>% filter(siteyr==sy)\n",
    "        syflist <- dfrawsy %>% select(featuredecode) %>% unique    \n",
    "        flush.console()\n",
    "        dftt <- dfrawsy %>% filter(featuredecode==syf)\n",
    "        fr<-frange %>% filter(featuredecode==syf)\n",
    "        if (!all(dftt['val']==0)){\n",
    "            x<-list(gam(val ~ s(fval, k=6, bs='cr'), data=dftt, method='REML', knots = list(fval = seq(from=fr$min, to=fr$max, length = 6))))\n",
    "            names(x) <- syf\n",
    "#            gamsydict <- append(gamsydict,x)\n",
    "            \n",
    "            rangelist <- list()\n",
    "            for (i in 1:length(x[[syf]]$smooth[[1]]$xp)){\n",
    "                rangelist <- c(rangelist, paste0('r', x[[syf]]$smooth[[1]]$xp[i], 'r', x[[syf]]$smooth[[1]]$xp[i+1], 'r'))\n",
    "            }\n",
    "            rangelist <- rangelist[-length(rangelist)]\n",
    "            rangelist <- c('intercept', rangelist)\n",
    "            coeffdata <- cbind(data.frame(x[[syf]]$coefficient), data.frame(diag(x[[syf]]$Vc)), data.frame(transpose(rangelist)))\n",
    "            colnames(coeffdata) <- c('fit', 'se.fit', 'fval')\n",
    "            coeffdata <- coeffdata %>% mutate(siteyr=sy,featuredecode=syf)\n",
    "            coeffdata <- coeffdata[-1,]\n",
    "            coeffdata <- coeffdata %>% mutate(fval=paste0(featuredecode,'.',fval))\n",
    "            row.names(coeffdata) <- NULL\n",
    "#            fitlist <- append(fitlist,list(coeffdata))            \n",
    "            return(coeffdata)\n",
    "        }\n",
    "    }\n",
    "#    gamsydict2<-list(gamsydict)\n",
    "#    names(gamsydict2) <- sy\n",
    "#    gamdict <- append(gamdict,gamsydict2)\n",
    "\n",
    "proc.time() - ptm\n",
    "#gamdict<-rbindlist(gamdict)\n",
    "#fitlist<-rbindlist(fitlist) %>% mutate(featuredecode=str_replace(featuredecode,'-','d')) %>% mutate(featuredecode=paste0('f',featuredecode)) %>% mutate(fval=str_replace_all(fval,'-','d')) %>% mutate(fval=paste0('f',fval))"
   ]
  },
  {
   "cell_type": "code",
   "execution_count": null,
   "id": "cf3a0fa2-ee80-4230-a4f6-eef10416e154",
   "metadata": {
    "tags": []
   },
   "outputs": [],
   "source": [
    "fitlist<- fitlist %>% mutate(featuredecode=str_replace(featuredecode,'-','d')) %>% mutate(featuredecode=paste0('f',featuredecode)) %>% mutate(fval=str_replace_all(fval,'-','d')) %>% mutate(fval=paste0('f',fval))\n",
    "fitlist"
   ]
  },
  {
   "cell_type": "code",
   "execution_count": null,
   "id": "fc80a286-de77-479a-97bb-6a9c49f1d1a9",
   "metadata": {
    "tags": []
   },
   "outputs": [],
   "source": [
    "stopCluster(myCluster)"
   ]
  },
  {
   "cell_type": "code",
   "execution_count": null,
   "id": "cac7f46b-be4b-434f-b3ba-2b25583964e8",
   "metadata": {},
   "outputs": [],
   "source": []
  }
 ],
 "metadata": {
  "kernelspec": {
   "display_name": "R_meta_analysis_3.6",
   "language": "R",
   "name": "r_aki_meta_analysis_3.6"
  },
  "language_info": {
   "codemirror_mode": "r",
   "file_extension": ".r",
   "mimetype": "text/x-r-source",
   "name": "R",
   "pygments_lexer": "r",
   "version": "4.0.5"
  }
 },
 "nbformat": 4,
 "nbformat_minor": 5
}
