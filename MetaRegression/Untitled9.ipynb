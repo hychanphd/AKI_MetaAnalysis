{
 "cells": [
  {
   "cell_type": "code",
   "execution_count": 1,
   "id": "4748fa70-57a7-4058-88ca-a232aefbf912",
   "metadata": {
    "tags": []
   },
   "outputs": [],
   "source": [
    "library(forestploter)\n",
    "library"
   ]
  },
  {
   "cell_type": "code",
   "execution_count": null,
   "id": "daa6bba4-ab22-4bdf-a657-97e0459dc856",
   "metadata": {},
   "outputs": [],
   "source": [
    "df <- arrow::read_parquet(path1)"
   ]
  }
 ],
 "metadata": {
  "kernelspec": {
   "display_name": "AKI_CDM_R",
   "language": "R",
   "name": "ir"
  },
  "language_info": {
   "codemirror_mode": "r",
   "file_extension": ".r",
   "mimetype": "text/x-r-source",
   "name": "R",
   "pygments_lexer": "r",
   "version": "4.1.3"
  }
 },
 "nbformat": 4,
 "nbformat_minor": 5
}
