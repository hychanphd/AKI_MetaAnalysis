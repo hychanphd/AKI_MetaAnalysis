{
 "cells": [
  {
   "cell_type": "code",
   "execution_count": null,
   "id": "d1b62793-6fc5-4206-96c9-b037ecac9846",
   "metadata": {
    "jupyter": {
     "outputs_hidden": true
    },
    "tags": []
   },
   "outputs": [],
   "source": [
    "library(arrow)\n",
    "library(dplyr)\n",
    "library(mgcv)\n",
    "library(tidyverse)\n",
    "library(data.table)\n",
    "library(metagam)\n",
    "library(latex2exp)\n",
    "library(eivtools)\n",
    "library(plotly)\n",
    "library(stats)\n",
    "library(plotrix)\n",
    "library(fishmethods)\n",
    "library(metafor)\n",
    "library(jsonlite)\n",
    "library(stringr)\n",
    "library(doParallel)\n",
    "library(parallel)\n",
    "library(MASS)\n",
    "library(tidygam)"
   ]
  },
  {
   "cell_type": "code",
   "execution_count": null,
   "id": "b05d3242-ead8-4cd2-8a02-d89964a2d3c9",
   "metadata": {
    "tags": []
   },
   "outputs": [],
   "source": [
    "site_list <- c('KUMC', 'UTSW', 'MCW', 'UofU', 'UIOWA', 'UMHC', 'UPITT', 'UTHSCSA', 'UNMC')"
   ]
  },
  {
   "cell_type": "code",
   "execution_count": null,
   "id": "6a291d8f-03b5-4532-a71c-76b6677f6095",
   "metadata": {
    "tags": []
   },
   "outputs": [],
   "source": [
    "read_config <- function(site, suffix=NULL, config_base_location='/home/hoyinchan/code/AKI_CDM_PY/configs_files/publish_config/') {\n",
    "  config <- list()\n",
    "  \n",
    "  if (is.null(suffix)) {\n",
    "    suffix <- site\n",
    "  }\n",
    "  \n",
    "  config$site <- site\n",
    "  config$config_base_location <- config_base_location\n",
    "  config$config_filename <- paste0('configs_', suffix, '.txt')\n",
    "  \n",
    "  filename <- file.path(config$config_base_location, config$config_filename)\n",
    "  \n",
    "  con <- file(filename, open = \"r\")\n",
    "  on.exit(close(con), add = TRUE)\n",
    "  \n",
    "  while (length(line <- readLines(con, n = 1, warn = FALSE)) > 0) {\n",
    "    # Strip whitespace from the line and ignore everything after the '#' (comments)\n",
    "    line <- trimws(strsplit(line, \"#\", fixed = TRUE)[[1]][1])\n",
    "    \n",
    "    # Ignore empty lines\n",
    "    if (line == \"\") {\n",
    "      next\n",
    "    }\n",
    "    \n",
    "    # Split the line at the first '=' to separate the key and value\n",
    "    if (grepl(\"=\", line)) {\n",
    "      parts <- strsplit(line, \"=\", fixed = TRUE)[[1]]\n",
    "      key <- trimws(parts[1])\n",
    "      value <- trimws(parts[2])\n",
    "      \n",
    "      # Optionally remove surrounding quotes from the value\n",
    "      if ((startsWith(value, '\"') && endsWith(value, '\"')) || (startsWith(value, \"'\") && endsWith(value, \"'\"))) {\n",
    "        value <- substr(value, 2, nchar(value) - 1)\n",
    "      }\n",
    "      \n",
    "      # Store the key and value in the list\n",
    "      config[[key]] <- value\n",
    "    }\n",
    "  }\n",
    "  \n",
    "  return(config)\n",
    "}\n",
    "\n",
    "# Helper functions for startsWith and endsWith in base R\n",
    "startsWith <- function(string, prefix) {\n",
    "  substr(string, 1, nchar(prefix)) == prefix\n",
    "}\n",
    "\n",
    "endsWith <- function(string, suffix) {\n",
    "  substr(string, nchar(string) - nchar(suffix) + 1, nchar(string)) == suffix\n",
    "}"
   ]
  },
  {
   "cell_type": "code",
   "execution_count": null,
   "id": "b36f553d-801d-4cbe-89d5-fe6d3d6dbaa8",
   "metadata": {
    "tags": []
   },
   "outputs": [],
   "source": [
    "configs_variables <- lapply(site_list, read_config)"
   ]
  },
  {
   "cell_type": "code",
   "execution_count": null,
   "id": "fc204ed7-b37f-40a3-8499-6a0ce332cde0",
   "metadata": {
    "tags": []
   },
   "outputs": [],
   "source": [
    "configs_variable_m <- configs_variables[[8]]"
   ]
  },
  {
   "cell_type": "code",
   "execution_count": null,
   "id": "463ec03d-b6a4-48e9-bfd2-2439c140d14c",
   "metadata": {
    "tags": []
   },
   "outputs": [],
   "source": [
    "year <- 3000\n",
    "\n",
    "datafolder <- configs_variable_m$datafolder\n",
    "home_directory <- configs_variable_m$home_directory\n",
    "\n",
    "# Extract values from configs_variable_m\n",
    "datafolder <- configs_variable_m$datafolder\n",
    "stg <- configs_variable_m$stg\n",
    "fs <- configs_variable_m$fs\n",
    "oversample <- configs_variable_m$oversample\n",
    "model_type <- configs_variable_m$model_type\n",
    "\n",
    "drop_correlation_catboost <- configs_variable_m$drop_correlation_catboost\n",
    "if (drop_correlation_catboost) {\n",
    "  suffix <- 'nc'\n",
    "} else {\n",
    "  suffix <- ''\n",
    "}"
   ]
  },
  {
   "cell_type": "code",
   "execution_count": null,
   "id": "e8955aaa-a76a-4412-b309-86ae9585357f",
   "metadata": {
    "tags": []
   },
   "outputs": [],
   "source": [
    "toptop <- arrow::read_parquet(\"../toptop.parquet\")"
   ]
  },
  {
   "cell_type": "code",
   "execution_count": null,
   "id": "e621e72d-93ad-4aa9-8397-aa6f89995f0f",
   "metadata": {
    "tags": []
   },
   "outputs": [],
   "source": [
    "toptop"
   ]
  },
  {
   "cell_type": "code",
   "execution_count": null,
   "id": "ab7400f8-ead0-408b-bbbd-c64797eaab07",
   "metadata": {
    "tags": []
   },
   "outputs": [],
   "source": [
    "# Create an empty list to store data frames\n",
    "data_dict <- list()\n",
    "\n",
    "# Iterate through each combination of site_ and site_d\n",
    "for (site_m in site_list) {\n",
    "  for (site_d in site_list) {\n",
    "\n",
    "        # site_m <- configs_variable_m$site\n",
    "        # site_d <- configs_variable_m$site        \n",
    "        path <- paste0(\n",
    "          datafolder, site_m, '/shapdataraw_', model_type, '_', site_m, '_', site_d, '_', \n",
    "          year, '_', stg, '_', fs, '_', oversample, suffix, '.parquet'\n",
    "        )\n",
    "\n",
    "        pathX <- paste0(\n",
    "          datafolder, site_m, '/shapdatarawX_', model_type, '_', site_m, '_', site_d, '_', \n",
    "          year, '_', stg, '_', fs, '_', oversample, suffix, '.parquet'\n",
    "        )\n",
    "        if (file.exists(path) && file.exists(pathX)) {\n",
    "            dfraw <- arrow::read_parquet(path)\n",
    "            dfrawX <- arrow::read_parquet(pathX)\n",
    "\n",
    "            data_dict[[paste(site_m, site_d, sep = \"_\")]] <- list(dfraw = dfraw, dfrawX = dfrawX)\n",
    "        }\n",
    "    }\n",
    "}"
   ]
  },
  {
   "cell_type": "code",
   "execution_count": null,
   "id": "11129dc1-e87c-497d-aab8-e19be6579102",
   "metadata": {
    "tags": []
   },
   "outputs": [],
   "source": [
    "filter_single_feature <- function(feature, site_list, data_dict){\n",
    "    combined_df <- NULL\n",
    "\n",
    "   \n",
    "    for (site_m in site_list) {\n",
    "      for (site_d in site_list) {\n",
    "          key <- paste(site_m, site_d, sep = \"_\")\n",
    "          if (key_to_check %in% names(data_dict)){\n",
    "              dfraw <- data_dict[[key]]$dfraw\n",
    "              dfrawX <- data_dict[[key]]$dfrawX\n",
    "                # Check if AGE column exists\n",
    "              if (feature %in% colnames(dfraw)) {\n",
    "                # Extract the AGE column from both dfraw and dfrawX\n",
    "                age_dfraw <- dfraw[feature] %>% rename(val = !!feature)\n",
    "                age_dfrawX <- dfrawX[feature] %>% rename(Name = !!feature)\n",
    "\n",
    "                # Combine horizontally\n",
    "                combined <- cbind(age_dfraw, age_dfrawX)\n",
    "\n",
    "                # Add the site_m and site_d columns\n",
    "                combined$site_m <- site_m\n",
    "                combined$site_d <- site_d\n",
    "\n",
    "                # Add a feature column\n",
    "                combined$feature <- \"AGE\"\n",
    "\n",
    "                # Concatenate vertically\n",
    "                if (is.null(combined_df)) {\n",
    "                  combined_df <- combined\n",
    "                } else {\n",
    "                  combined_df <- bind_rows(combined_df, combined)\n",
    "                }\n",
    "            }\n",
    "          }\n",
    "        }\n",
    "    }\n",
    "    return(combined_df)\n",
    "}"
   ]
  },
  {
   "cell_type": "code",
   "execution_count": null,
   "id": "14bc6701-56ee-4216-b6c2-7ba47f25a68f",
   "metadata": {
    "tags": []
   },
   "outputs": [],
   "source": [
    "filter_single_feature('AGE', site_list, data_dict)"
   ]
  },
  {
   "cell_type": "code",
   "execution_count": null,
   "id": "6da21c01-caec-45e1-ae1b-d32cd735ce30",
   "metadata": {
    "tags": []
   },
   "outputs": [],
   "source": [
    "filter_double_feature <- function(featureX, featureY, site_list, data_dict){\n",
    "\n",
    "    # Extract and combine the feature columns\n",
    "    combined_df <- NULL\n",
    "\n",
    "    for (site_m in site_list) {\n",
    "      for (site_d in site_list) {\n",
    "          key <- paste(site_m, site_d, sep = \"_\")\n",
    "          if (key_to_check %in% names(data_dict)){\n",
    "              dfraw <- data_dict[[key]]$dfraw\n",
    "              dfrawX <- data_dict[[key]]$dfrawX        \n",
    "          # Check if the feature columns exist\n",
    "              if (featureX %in% colnames(dfraw) && featureY %in% colnames(dfraw)) {\n",
    "                # Extract the feature columns from both dfraw and dfrawX\n",
    "                featureX_dfraw <- dfraw[featureX] %>% rename(val.x = !!featureX)\n",
    "                featureX_dfrawX <- dfrawX[featureX] %>% rename(Name.x = !!featureX)\n",
    "\n",
    "                featureY_dfraw <- dfraw[featureY] %>% rename(val.y = !!featureY)\n",
    "                featureY_dfrawX <- dfrawX[featureY] %>% rename(Name.y = !!featureY)\n",
    "\n",
    "                # Combine horizontally\n",
    "                combined <- cbind(featureX_dfraw, featureX_dfrawX, featureY_dfraw, featureY_dfrawX)\n",
    "\n",
    "                # Add the site_m and site_d columns\n",
    "                combined$site_m <- site_m\n",
    "                combined$site_d <- site_d\n",
    "\n",
    "                # Add the val column as the sum of val.x and val.y\n",
    "                combined$val <- combined$val.x + combined$val.y\n",
    "\n",
    "                # Add a feature column\n",
    "                combined$featureX <- featureX\n",
    "                combined$featureY <- featureY\n",
    "\n",
    "                # Concatenate vertically\n",
    "                if (is.null(combined_df)) {\n",
    "                  combined_df <- combined\n",
    "                } else {\n",
    "                  combined_df <- bind_rows(combined_df, combined)\n",
    "                }\n",
    "              }\n",
    "          }\n",
    "      }\n",
    "    }\n",
    "    # Print the combined data frame\n",
    "    return(combined_df)\n",
    "}"
   ]
  },
  {
   "cell_type": "code",
   "execution_count": null,
   "id": "c775acac-ccbb-43c5-9b3d-32e047cff846",
   "metadata": {
    "tags": []
   },
   "outputs": [],
   "source": [
    "filter_double_feature('AGE', 'RACE_03', site_list, data_dict)"
   ]
  },
  {
   "cell_type": "code",
   "execution_count": null,
   "id": "d546558b-5957-40ba-95e4-a7f0fff8826a",
   "metadata": {
    "tags": []
   },
   "outputs": [],
   "source": []
  },
  {
   "cell_type": "code",
   "execution_count": null,
   "id": "8e1b6021-deec-44a9-9fcf-a8036b82f8b3",
   "metadata": {
    "tags": []
   },
   "outputs": [],
   "source": []
  },
  {
   "cell_type": "code",
   "execution_count": null,
   "id": "2460dc0d-f3e4-424b-8508-6d106bd1ce03",
   "metadata": {
    "tags": []
   },
   "outputs": [],
   "source": []
  },
  {
   "cell_type": "code",
   "execution_count": null,
   "id": "e60df8a7-03b4-4d56-9106-7d776daff0e6",
   "metadata": {
    "tags": []
   },
   "outputs": [],
   "source": []
  },
  {
   "cell_type": "code",
   "execution_count": null,
   "id": "5362c074-174b-478b-9886-48f3945500da",
   "metadata": {
    "tags": []
   },
   "outputs": [],
   "source": [
    "#dfraw$site_d <- as.factor(dfraw$site_d)\n",
    "#dfraw$site_m <- as.factor(dfraw$site_m)"
   ]
  },
  {
   "cell_type": "code",
   "execution_count": null,
   "id": "a45c6fbf-fdc6-43fd-a0e5-90c037cd3cc0",
   "metadata": {
    "tags": []
   },
   "outputs": [],
   "source": [
    "cattarget <- list(\"PX:CH:J1940\", \"PX:09:96.72\")\n",
    "#cattarget <- names(df)[sapply(df, is.logical)]"
   ]
  },
  {
   "cell_type": "code",
   "execution_count": null,
   "id": "dad128cd-aed8-4071-85ce-64d8d6c0d755",
   "metadata": {
    "tags": []
   },
   "outputs": [],
   "source": [
    "fit_proc <- function(eqn, dfraw2, target, type, weight=FALSE){\n",
    "    if (weight==FALSE){\n",
    "        xfit <- bam(eqn, data=dfraw2, method='REML')  \n",
    "    }else{\n",
    "        xfit <- bam(eqn, data=dfraw2, method='REML', weight=rocw)  \n",
    "    }\n",
    "    print(target)\n",
    "    print(type)\n",
    "    print(summary(xfit))\n",
    "    flush.console()\n",
    "    sxfit<-summary(xfit)\n",
    "    pxfit<-plot(xfit)\n",
    "    pxfit2<-termplot(xfit, data=dfraw2, se = TRUE, plot = FALSE)\n",
    "    for (i in 1:length(pxfit)){\n",
    "        pxfit[[i]]$raw=NULL    \n",
    "    }\n",
    "    return(list(target, type, sxfit, pxfit, pxfit2))\n",
    "}    "
   ]
  },
  {
   "cell_type": "code",
   "execution_count": null,
   "id": "9fafea4e-5b57-499a-9074-ce2169c2c3c9",
   "metadata": {
    "tags": []
   },
   "outputs": [],
   "source": [
    "gam_proc <- function(outputname, cattarget, targets, site_list, data_dict, returnf=FALSE, weight=FALSE, noAUC=FALSE) {\n",
    "    resultlist <- list()\n",
    "    for (target in targets){\n",
    "        print(target)\n",
    "        flush.console()\n",
    "#        dfraw2 <- dfraw %>% filter(Feature==target)            \n",
    "        dfraw2 <- filter_single_feature(target, site_list, data_dict)\n",
    "        if (target %in% cattarget){\n",
    "            dfraw2$Name <- as.factor(dfraw2$Name)\n",
    "            if (noAUC==FALSE){\n",
    "                eqnl <- val ~ Name + s(site_d,bs=\"re\") + s(site_m,bs=\"re\") + roc2\n",
    "                eqnq <- val ~ Name + s(site_d,bs=\"re\") + s(site_m,bs=\"re\") + roc2\n",
    "                eqns <- val ~ Name + s(site_d,bs=\"re\") + s(site_m,bs=\"re\") + roc2\n",
    "                eqnt <- val ~ Name + s(site_d,bs=\"re\") + s(site_m,bs=\"re\") + roc2 \n",
    "                resultl<-fit_proc(eqnl, dfraw2, target, 'linear', weight=weight)\n",
    "                resultq<-fit_proc(eqnq, dfraw2, target, 'quadratic', weight=weight)\n",
    "                results<-fit_proc(eqns, dfraw2, target, 'spline', weight=weight)\n",
    "                resultt<-fit_proc(eqnt, dfraw2, target, 'spline_interaction', weight=weight)            \n",
    "                result<-list(resultl, resultq, results, resultt)\n",
    "            }else{\n",
    "                eqnl <- val ~ Name + s(site_d,bs=\"re\") + s(site_m,bs=\"re\")\n",
    "                eqnq <- val ~ Name + s(site_d,bs=\"re\") + s(site_m,bs=\"re\")\n",
    "                eqns <- val ~ Name + s(site_d,bs=\"re\") + s(site_m,bs=\"re\")\n",
    "                eqnt <- val ~ Name + s(site_d,bs=\"re\") + s(site_m,bs=\"re\") \n",
    "                resultl<-fit_proc(eqnl, dfraw2, target, 'linear', weight=weight)\n",
    "                resultq<-fit_proc(eqnq, dfraw2, target, 'quadratic', weight=weight)\n",
    "                results<-fit_proc(eqns, dfraw2, target, 'spline', weight=weight)\n",
    "                resultt<-fit_proc(eqnt, dfraw2, target, 'spline_interaction', weight=weight)            \n",
    "                result<-list(resultl, resultq, results, resultt)\n",
    "            }\n",
    "        }else{\n",
    "            if (noAUC==FALSE){\n",
    "                eqnl <- val ~ poly(Name,1,raw=TRUE) + s(site_d,bs=\"re\") + s(site_m,bs=\"re\") + roc2\n",
    "                eqnq <- val ~ poly(Name,2,raw=TRUE) + s(site_d,bs=\"re\") + s(site_m,bs=\"re\") + roc2\n",
    "                eqns <- val ~ s(Name,k=10,bs='cr') + s(site_d,bs=\"re\") + s(site_m,bs=\"re\") + roc2\n",
    "                eqnt <- val ~ s(Name,k=10,bs='cr') + s(site_d,bs=\"re\") + s(site_m,bs=\"re\") + roc2 + ti(Name,roc2,bs='cr')            \n",
    "                resultl<-fit_proc(eqnl, dfraw2, target, 'linear')\n",
    "                resultq<-fit_proc(eqnq, dfraw2, target, 'quadratic')\n",
    "                results<-fit_proc(eqns, dfraw2, target, 'spline')\n",
    "                resultt<-fit_proc(eqnt, dfraw2, target, 'spline_interaction')            \n",
    "                result<-list(resultl, resultq, results, resultt)\n",
    "            }else{\n",
    "                eqnl <- val ~ poly(Name,1,raw=TRUE) + s(site_d,bs=\"re\") + s(site_m,bs=\"re\")\n",
    "                eqnq <- val ~ poly(Name,2,raw=TRUE) + s(site_d,bs=\"re\") + s(site_m,bs=\"re\")\n",
    "                eqns <- val ~ s(Name,k=10,bs='cr') + s(site_d,bs=\"re\") + s(site_m,bs=\"re\")\n",
    "                eqnt <- val ~ s(Name,k=10,bs='cr') + s(site_d,bs=\"re\") + s(site_m,bs=\"re\") + ti(Name,roc2,bs='cr')            \n",
    "                resultl<-fit_proc(eqnl, dfraw2, target, 'linear', weight=weight)\n",
    "                resultq<-fit_proc(eqnq, dfraw2, target, 'quadratic', weight=weight)\n",
    "                results<-fit_proc(eqns, dfraw2, target, 'spline', weight=weight)\n",
    "                resultt<-fit_proc(eqnt, dfraw2, target, 'spline_interaction', weight=weight)            \n",
    "                result<-list(resultl, resultq, results, resultt)\n",
    "            }\n",
    "        }\n",
    "        resultlist <- append(resultlist, list(result))\n",
    "    }\n",
    "    if (returnf){\n",
    "        return(resultlist)\n",
    "    }\n",
    "    output_to_python <- toJSON(resultlist, force = TRUE, digit=30)\n",
    "    write(output_to_python, paste0(outputname))\n",
    "}"
   ]
  },
  {
   "cell_type": "code",
   "execution_count": null,
   "id": "b5ea9213-911b-4e0c-9c2a-9b60c57790c6",
   "metadata": {
    "tags": []
   },
   "outputs": [],
   "source": [
    "# outputname <- \"gamalltmp_single_AUC_populationweight.json\"\n",
    "# gam_proc(outputname, cattarget, targets, dfraw, weight=TRUE, noAUC=FALSE)"
   ]
  },
  {
   "cell_type": "code",
   "execution_count": null,
   "id": "c345688a-f01c-4712-8cab-22eb1cd4fdaf",
   "metadata": {
    "jupyter": {
     "outputs_hidden": true
    },
    "tags": []
   },
   "outputs": [],
   "source": [
    "outputname <- \"gamalltmp_single_noAUC.json\"\n",
    "gam_proc(outputname, cattarget, targets, site_list, data_dict, weight=FALSE, noAUC=TRUE)"
   ]
  },
  {
   "cell_type": "code",
   "execution_count": null,
   "id": "532ba05b-46ac-4af2-a657-3b0234f4ac4a",
   "metadata": {
    "jupyter": {
     "outputs_hidden": true
    },
    "tags": []
   },
   "outputs": [],
   "source": [
    "# outputname <- \"gamalltmp_single_weightAUC2.json\"\n",
    "# gam_proc(outputname, cattarget, targets, dfraw, weight=TRUE, noAUC=TRUE)"
   ]
  },
  {
   "cell_type": "code",
   "execution_count": null,
   "id": "1a18c721-77b6-4f23-9e82-4c001fd4bf38",
   "metadata": {
    "jupyter": {
     "outputs_hidden": true
    },
    "tags": []
   },
   "outputs": [],
   "source": [
    "# outputname <- \"gamalltmp_single_weightAUC2.json\"\n",
    "# gam_proc(outputname, cattarget, targets, dfraw, weight=TRUE, noAUC=TRUE)"
   ]
  },
  {
   "cell_type": "code",
   "execution_count": null,
   "id": "c887428e-1712-44cb-ba73-43deb9f46716",
   "metadata": {},
   "outputs": [],
   "source": [
    "# dfraw2 <- dfraw %>% filter(Feature=='LAB::2345-7(mg/dL)') \n",
    "# #eqnl <- val ~ poly(Name,1,raw=TRUE) + s(site_d,bs=\"re\") + s(site_m,bs=\"re\") \n",
    "# eqnq <- val ~ poly(Name,2,raw=TRUE) + s(site_d,bs=\"re\") + s(site_m,bs=\"re\") \n",
    "# #eqns <- val ~ s(Name,k=10,bs='cr') + s(site_d,bs=\"re\") + s(site_m,bs=\"re\") \n",
    "# #eqnt <- val ~ s(Name,k=10,bs='cr') + s(site_d,bs=\"re\") + s(site_m,bs=\"re\")  + ti(Name,roc2,bs='cr')            \n",
    "# resultq<-fit_proc(eqnq, dfraw2, 'AGE', 'quadratic')\n",
    "# #results<-fit_proc(eqns, dfraw2, 'AGE', 'spline')\n",
    "\n",
    "# toJSON(resultq, force = TRUE, digit=30)\n",
    "\n",
    "# summary(resultq)\n",
    "\n",
    "# ## 2D\n",
    "\n",
    "# dfraw2 <- dfraw %>% filter(Feature=='AGE')\n",
    "# eqnl <- val ~ s(Name,k=10,bs='cr') + s(site_d,bs=\"re\") + s(site_m,bs=\"re\") + roc2\n",
    "# xfit <- bam(eqnl, data=dfraw2, method='REML') \n",
    "# plot(xfit)\n",
    "\n",
    "# dfraw2 <- dfraw %>% filter(Feature=='AGE')\n",
    "# eqnl <- val ~ s(Name,k=10,bs='cr') + s(site_d,bs=\"re\") + s(site_m,bs=\"re\") + roc2 + s(site_d,roc2,bs=\"re\")\n",
    "# xfit <- bam(eqnl, data=dfraw2, method='REML') \n",
    "# plot(xfit)\n",
    "\n",
    "# summary(xfit)"
   ]
  },
  {
   "cell_type": "code",
   "execution_count": null,
   "id": "b4645009-ec4c-41d5-b925-f2dd76d18a2b",
   "metadata": {},
   "outputs": [],
   "source": [
    "# Try 2 feature interaction"
   ]
  },
  {
   "cell_type": "code",
   "execution_count": null,
   "id": "0e915120-8b26-43d3-b07a-f91afdbf8def",
   "metadata": {},
   "outputs": [],
   "source": [
    "target_combo = combn(targets, 2, simplify = FALSE)\n",
    "outputname <- \"gamalltmp_double_interaction_quadratic.json\"\n",
    "reversed_target_combo <- lapply(target_combo, rev)\n",
    "# Combine the original and reversed lists\n",
    "combined_list <- c(target_combo, reversed_target_combo)"
   ]
  },
  {
   "cell_type": "code",
   "execution_count": null,
   "id": "d292167c-8e2c-4b4d-a1b7-60b427e945a7",
   "metadata": {},
   "outputs": [],
   "source": [
    "gam_proc2d <- function(cattarget, dfraw, f1, f2, site_list, data_dict, returnf = FALSE) {\n",
    "\n",
    "    f1str <- str_replace_all(f1,'::','_')\n",
    "    f1str <- str_replace_all(f1str,'/','per')\n",
    "    f1str <- str_replace_all(f1str,'\\\\(','_')\n",
    "    f1str <- str_replace_all(f1str,'\\\\)','_')\n",
    "    \n",
    "    f2str <- str_replace_all(f2,'::','_')\n",
    "    f2str <- str_replace_all(f2str,'/','per')\n",
    "    f2str <- str_replace_all(f2str,'\\\\(','_')\n",
    "    f2str <- str_replace_all(f2str,'\\\\)','_')    \n",
    "\n",
    "    \n",
    "    eqn_cc <- val ~ s(Name.x,k=10,bs='cr') + s(Name.y,k=10,bs='cr') + s(site_d,bs=\"re\") + s(site_m,bs=\"re\") + ti(Name.x,Name.y,k=10,bs='cr')\n",
    "    eqn_cd <- val ~ s(Name.x,k=10,bs='cr') + s(Name.x,by=Name.y,k=10,bs='cr') + Name.y + s(site_d,bs=\"re\") + s(site_m,bs=\"re\")\n",
    "\n",
    "    eqn_cs <- val ~ s(Name.x,k=10,bs='cr') + s(site_d,bs=\"re\") + s(site_m,bs=\"re\") + ti(Name.x,Name.y,k=10,bs='cr')\n",
    "    \n",
    "    if (f1 %in% cattarget){\n",
    "        return()\n",
    "    }\n",
    "\n",
    "    # dfraw21 <- dfraw %>% filter(Feature==f1)\n",
    "    # dfraw22 <- dfraw %>% filter(Feature==f2)\n",
    "    # dfraw23 <- dfraw21 %>% inner_join(dfraw22, by=c('ID','site_d', 'site_m', 'roc', 'roc2'))\n",
    "    # dfraw23 <- dfraw23 %>% mutate(val=val.x+val.y)\n",
    "#    dfraw23 <- dfraw23 %>% mutate(val=val.x)\n",
    "    dfraw23 <- filter_double_feature(f1, f2, site_list, data_dict)\n",
    "\n",
    "    if (!f1 %in% cattarget & f2 %in% cattarget){\n",
    "        eqn <- eqn_cd\n",
    "        dfraw23$Name.y <- as.factor(dfraw23$Name.y)\n",
    "    } else if (!f1 %in% cattarget & !f2 %in% cattarget){\n",
    "        eqn <- eqn_cc\n",
    "    } else {\n",
    "        return()\n",
    "    }\n",
    "\n",
    "    xfit <- bam(eqn, data=dfraw23, method='REML') \n",
    "    sxfit<-summary(xfit)\n",
    "    pxfit<-plot(xfit)\n",
    "    for (i in 1:length(pxfit)){\n",
    "        pxfit[[i]]$raw=NULL\n",
    "    }\n",
    "    result<-list(f1, f2, as.list(sxfit), pxfit)\n",
    "    if (returnf){\n",
    "        return(result)\n",
    "    }\n",
    "    output_to_python <- toJSON(result, force = TRUE, digit=30)\n",
    "    write(output_to_python, filename)    \n",
    "}"
   ]
  },
  {
   "cell_type": "code",
   "execution_count": null,
   "id": "90c4fa8a-7b0b-414c-bfa1-ee35d55e921b",
   "metadata": {
    "tags": []
   },
   "outputs": [],
   "source": [
    "#gam_proc2d(cattarget, dfraw, target_combo[[179]][1], target_combo[[179]][2], stg, fs, oversample, model_type)"
   ]
  },
  {
   "cell_type": "code",
   "execution_count": null,
   "id": "69616f09-41bb-4966-9af5-565038b96672",
   "metadata": {
    "jupyter": {
     "outputs_hidden": true
    },
    "tags": []
   },
   "outputs": [],
   "source": [
    "# Load libraries\n",
    "library(foreach)\n",
    "library(doParallel)\n",
    "\n",
    "# Register parallel backends\n",
    "numCores <- 10  # Or set a specific number\n",
    "registerDoParallel(cores=numCores)\n",
    "\n",
    "# Parallel foreach loop\n",
    "foreach(tar = iter(target_combo)) %dopar% {\n",
    "#for (tar in target_combo){\n",
    "    tryCatch({\n",
    "        print(paste(tar[1], tar[2], 'running'))\n",
    "        flush.console()\n",
    "        gam_proc2d(cattarget, dfraw, tar[1], tar[2], site_list, data_dict, model_type)\n",
    "    },\n",
    "    error = function(cond) {}\n",
    "    )\n",
    "}  "
   ]
  },
  {
   "cell_type": "code",
   "execution_count": null,
   "id": "885149ee-edbb-4222-8300-e35bfe5621bd",
   "metadata": {},
   "outputs": [],
   "source": []
  },
  {
   "cell_type": "code",
   "execution_count": null,
   "id": "523f89e2-65b0-4e61-8c40-3f63384ba731",
   "metadata": {},
   "outputs": [],
   "source": [
    "print('done')"
   ]
  },
  {
   "cell_type": "code",
   "execution_count": null,
   "id": "20796728-229d-40a5-a193-2bf937a9d5ce",
   "metadata": {
    "jupyter": {
     "outputs_hidden": true
    },
    "tags": []
   },
   "outputs": [],
   "source": [
    "xxx <- gam_proc2d(cattarget, dfraw, \"LAB::4544-3(%)\", 'PX:CH:J1940', stg, fs, oversample, model_type, returnf=TRUE)"
   ]
  },
  {
   "cell_type": "code",
   "execution_count": null,
   "id": "d74151a0-7b79-4914-983c-8c5ea293eba6",
   "metadata": {
    "tags": []
   },
   "outputs": [],
   "source": [
    "f2 <- 'AGE'\n",
    "f1 <- 'SYSTOLIC'\n",
    "returnf=FALSE\n",
    "\n",
    "f1str <- str_replace_all(f1,'::','_')\n",
    "f1str <- str_replace_all(f1str,'/','per')\n",
    "f1str <- str_replace_all(f1str,'\\\\(','_')\n",
    "f1str <- str_replace_all(f1str,'\\\\)','_')\n",
    "\n",
    "f2str <- str_replace_all(f2,'::','_')\n",
    "f2str <- str_replace_all(f2str,'/','per')\n",
    "f2str <- str_replace_all(f2str,'\\\\(','_')\n",
    "f2str <- str_replace_all(f2str,'\\\\)','_')    \n",
    "\n",
    "if (!returnf){\n",
    "    filename <- paste0('/home/hoyinchan/blue/program_data/AKI_CDM_PY/MetaRegression/gam2d_tmp/','gam2d_tmp_noAUC_partial_','_',f1str,'_',f2str,'_',stg,'_',fs,'_',oversample,'_',model_type,'.json')\n",
    "    if (file.exists(filename)){\n",
    "        return()\n",
    "    }\n",
    "}\n",
    "\n",
    "eqn_cc <- val ~ s(Name.x,k=10,bs='cr') + s(site_d,bs=\"re\") + s(site_m,bs=\"re\") + ti(Name.x,Name.y,k=10,bs='cr')\n",
    "eqn_cd <- val ~ s(Name.x,k=10,bs='cr') + s(Name.x,by=Name.y,k=10,bs='cr') + Name.y + s(site_d,bs=\"re\") + s(site_m,bs=\"re\")\n",
    "\n",
    "if (f1 %in% cattarget & !f2 %in% cattarget){\n",
    "    tmp = f1\n",
    "    f1 = f2\n",
    "    f2 = tmp\n",
    "}\n",
    "\n",
    "dfraw21 <- dfraw %>% filter(Feature==f1)\n",
    "dfraw22 <- dfraw %>% filter(Feature==f2)\n",
    "dfraw23 <- dfraw21 %>% inner_join(dfraw22, by=c('ID','site_d', 'site_m', 'roc', 'roc2'))\n",
    "#dfraw23 <- dfraw23 %>% mutate(val=val.x+val.y)\n",
    "dfraw23 <- dfraw23 %>% mutate(val=val.x)\n",
    "\n",
    "if (!f1 %in% cattarget & f2 %in% cattarget){\n",
    "    eqn <- eqn_cd\n",
    "    dfraw23$Name.y <- as.factor(dfraw23$Name.y)\n",
    "} else if (!f1 %in% cattarget & !f2 %in% cattarget){\n",
    "    eqn <- eqn_cc\n",
    "#    eqn <- eqn_qcc        \n",
    "} else {\n",
    "    return()\n",
    "}\n",
    "\n",
    "xfit <- bam(eqn, data=dfraw23, method='REML') \n",
    "sxfit<-summary(xfit)\n",
    "pxfit<-plot(xfit)\n",
    "\n",
    "for (i in 1:length(pxfit)){\n",
    "    pxfit[[i]]$raw=NULL\n",
    "}\n",
    "result<-list(f1, f2, as.list(sxfit), pxfit)\n",
    "if (returnf){\n",
    "    return(result)\n",
    "}\n",
    "output_to_python <- toJSON(result, force = TRUE, digit=30)"
   ]
  },
  {
   "cell_type": "code",
   "execution_count": null,
   "id": "e7b8acba-d51b-41d9-b62a-7439e43a3fb2",
   "metadata": {
    "tags": []
   },
   "outputs": [],
   "source": [
    "sxfit"
   ]
  },
  {
   "cell_type": "code",
   "execution_count": null,
   "id": "2d73a35b-2d31-4587-9e20-e0eafbca0dda",
   "metadata": {},
   "outputs": [],
   "source": []
  }
 ],
 "metadata": {
  "kernelspec": {
   "display_name": "AKI_CDM_R",
   "language": "R",
   "name": "ir"
  },
  "language_info": {
   "codemirror_mode": "r",
   "file_extension": ".r",
   "mimetype": "text/x-r-source",
   "name": "R",
   "pygments_lexer": "r",
   "version": "4.1.3"
  }
 },
 "nbformat": 4,
 "nbformat_minor": 5
}
