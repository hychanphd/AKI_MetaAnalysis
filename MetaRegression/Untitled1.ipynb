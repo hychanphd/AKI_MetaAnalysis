{
 "cells": [
  {
   "cell_type": "code",
   "execution_count": null,
   "id": "168c051a-10f4-40bc-8ef1-49af86c6b043",
   "metadata": {
    "tags": []
   },
   "outputs": [],
   "source": [
    "import pandas as pd\n",
    "import xgboost as xgb\n",
    "import numpy as np\n",
    "import sklearn\n",
    "from sklearn.preprocessing import OneHotEncoder\n",
    "from sklearn.impute import SimpleImputer\n",
    "from imblearn.over_sampling import SMOTE\n",
    "from imblearn.pipeline import make_pipeline\n",
    "from imblearn.combine import SMOTEENN\n",
    "from imblearn.over_sampling import SMOTENC\n",
    "import matplotlib.pyplot as plt\n",
    "from PIL import Image\n",
    "from scipy.interpolate import BSpline, make_interp_spline, interp1d\n",
    "# import rpy2.robjects as robjects\n",
    "# from rpy2.robjects.packages import importr\n",
    "import csv\n",
    "from dfply import *\n",
    "from xgboost import XGBClassifier\n",
    "import itertools\n",
    "import os\n",
    "from sklearn.model_selection import RandomizedSearchCV, GridSearchCV\n",
    "from sklearn.metrics import roc_auc_score\n",
    "from sklearn.model_selection import StratifiedKFold\n",
    "import time\n",
    "import pickle\n",
    "import math\n",
    "import matplotlib.pyplot as plt\n",
    "from glob import glob\n",
    "\n",
    "from joblib import parallel_backend\n",
    "from joblib import Parallel, delayed\n",
    "\n",
    "import importlib\n",
    "\n",
    "import time\n",
    "import requests\n",
    "\n",
    "from joblib import Parallel, delayed\n",
    "from joblib import parallel_backend\n",
    "import seaborn as sns\n"
   ]
  },
  {
   "cell_type": "code",
   "execution_count": null,
   "id": "e704b75f-45e7-4b1e-b985-f9ac2ae14640",
   "metadata": {
    "tags": []
   },
   "outputs": [],
   "source": [
    "datafolder = '/home/hoyinchan/blue/Data/data2021/data2021/'\n",
    "home_directory = \"/home/hoyinchan/code/AKI_CDM_PY/\""
   ]
  },
  {
   "cell_type": "code",
   "execution_count": null,
   "id": "d1e88fc3-2527-4034-9fd6-6ac633094c76",
   "metadata": {
    "tags": []
   },
   "outputs": [],
   "source": [
    "sites = ['MCRI', 'MCW', 'UIOWA', 'UMHC', 'UNMC', 'UofU', 'UTHSCSA', 'UTSW']\n",
    "# stgs = [\"stg23\", \"stg01\"]\n",
    "# fss =  ['nofs', 'rmscrbun']\n",
    "stgs = [\"stg01\"]\n",
    "fss =  ['nofs']\n",
    "oversamples = ['raw']\n",
    "model_types = ['catd']"
   ]
  },
  {
   "cell_type": "code",
   "execution_count": null,
   "id": "60e37bae-85fb-4fa1-ab1c-02107f7997fd",
   "metadata": {
    "tags": []
   },
   "outputs": [],
   "source": [
    "with open(datafolder+\"tmp_crossroc.pkl\", \"rb\") as f:\n",
    "    barX = pickle.load(f)"
   ]
  },
  {
   "cell_type": "code",
   "execution_count": null,
   "id": "3d16eeec-6cfb-4a3f-8f74-ccf44a5582af",
   "metadata": {
    "tags": []
   },
   "outputs": [],
   "source": [
    "roc_table = np.round(barX[['site_m', 'site_d', 'roc']].pivot(index='site_m', columns='site_d', values='roc'),2)\n",
    "roc_table = roc_table.astype(float)"
   ]
  },
  {
   "cell_type": "code",
   "execution_count": null,
   "id": "3bdedb80-2a76-4d8d-a568-a2e874c31a6b",
   "metadata": {
    "tags": []
   },
   "outputs": [],
   "source": [
    "fig, ax = plt.subplots(figsize=(10,8.5))\n",
    "sns.heatmap(roc_table, cmap='coolwarm', fmt = '', linewidths=0.01, linecolor='white')\n",
    "ax.tick_params(axis='both', which='both', length=0)\n",
    "ax.set(xticklabels=[])\n",
    "ax.set(yticklabels=[])"
   ]
  },
  {
   "cell_type": "code",
   "execution_count": null,
   "id": "2ce7c62b-2820-4c70-89e5-b7a43922f4c1",
   "metadata": {},
   "outputs": [],
   "source": [
    "#sites = ['MCRI', 'MCW', 'UIOWA', 'UMHC', 'UNMC', 'UofU', 'UTHSCSA', 'UTSW']\n",
    "site_m = 'UofU'\n",
    "site_d = 'UofU'\n",
    "# stgs = [\"stg23\", \"stg01\"]\n",
    "# fss =  ['nofs', 'rmscrbun']\n",
    "year=3000\n",
    "stg = \"stg23\"\n",
    "fs =  'nofs'\n",
    "oversample = 'raw'\n",
    "model_type ='catd'\n",
    "\n",
    "print('Running cross_roc '+model_type+' on site '+site_m+'/'+site_d+\":\"+str(year)+\":\"+stg+\":\"+fs+\":\"+oversample, flush = True)\n",
    "model = pickle.load(open('/home/hoyinchan/blue/Data/data2021/data2021/'+site_m+'/model_'+model_type+'_'+site_m+'_'+str(year)+'_'+stg+'_'+fs+'_'+oversample+'.pkl', 'rb'))\n",
    "\n",
    "#load tables\n",
    "X_train_m = pd.read_pickle('/home/hoyinchan/blue/Data/data2021/data2021/'+site_m+'/X_train_'+site_m+'_'+str(year)+'_'+stg+'_'+fs+'_'+oversample+'pos.pkl')\n",
    "y_train_m = pd.read_pickle('/home/hoyinchan/blue/Data/data2021/data2021/'+site_m+'/y_train_'+site_m+'_'+str(year)+'_'+stg+'_'+fs+'_'+oversample+'pos.pkl')\n",
    "X_test_m = pd.read_pickle('/home/hoyinchan/blue/Data/data2021/data2021/'+site_m+'/X_train_'+site_m+'_'+str(year)+'_'+stg+'_'+fs+'_'+oversample+'pos.pkl')\n",
    "y_test_m = pd.read_pickle('/home/hoyinchan/blue/Data/data2021/data2021/'+site_m+'/y_train_'+site_m+'_'+str(year)+'_'+stg+'_'+fs+'_'+oversample+'pos.pkl')\n",
    "\n",
    "X_train_d = pd.read_pickle('/home/hoyinchan/blue/Data/data2021/data2021/'+site_d+'/X_train_'+site_d+'_'+str(year)+'_'+stg+'_'+fs+'_'+oversample+'pos.pkl')\n",
    "y_train_d = pd.read_pickle('/home/hoyinchan/blue/Data/data2021/data2021/'+site_d+'/y_train_'+site_d+'_'+str(year)+'_'+stg+'_'+fs+'_'+oversample+'pos.pkl')\n",
    "X_test_d =  pd.read_pickle('/home/hoyinchan/blue/Data/data2021/data2021/'+site_d+'/X_test_' +site_d+'_'+str(year)+'_'+stg+'_'+fs+'_'+oversample+'pos.pkl')\n",
    "y_test_d =  pd.read_pickle('/home/hoyinchan/blue/Data/data2021/data2021/'+site_d+'/y_test_' +site_d+'_'+str(year)+'_'+stg+'_'+fs+'_'+oversample+'pos.pkl')\n",
    "\n",
    "common_features = [x for x in X_test_d.columns if x in X_train_m.columns]\n",
    "\n",
    "X_train2_d = X_train_d[common_features]\n",
    "X_test2_d = X_test_d[common_features]\n",
    "\n",
    "X_train2_m = X_train_m.iloc[0:1]\n",
    "X_test2_m = X_test_m.iloc[0:1]\n",
    "\n",
    "X_train3_d = pd.concat([X_train2_m, X_train2_d]).iloc[1:]\n",
    "X_test3_d = pd.concat([X_test2_m, X_test2_d]).iloc[1:]\n",
    "\n",
    "X_train3_d.loc[:,X_train2_m.dtypes==bool] = X_train3_d.loc[:,X_train2_m.dtypes==bool].fillna(False)\n",
    "X_test3_d.loc[:,X_test2_m.dtypes==bool] = X_test3_d.loc[:,X_test2_m.dtypes==bool].fillna(False)\n",
    "\n",
    "pred = model.predict_proba(X_test3_d)\n",
    "roc = roc_auc_score(y_test_d, pred[:,1])\n",
    "print('Finished cross_roc '+model_type+' on site '+site_m+'/'+site_d+\":\"+str(year)+\":\"+stg+\":\"+fs+\":\"+oversample, flush = True)"
   ]
  },
  {
   "cell_type": "code",
   "execution_count": null,
   "id": "db76633e-563e-485d-8b58-043148744a11",
   "metadata": {},
   "outputs": [],
   "source": [
    "model.get_roc_curve(y_test_d, pred[:,1])"
   ]
  },
  {
   "cell_type": "code",
   "execution_count": null,
   "id": "5f70e056-ab05-4c53-8dd2-71e40b537cf7",
   "metadata": {},
   "outputs": [],
   "source": [
    "onset = pd.read_pickle('/home/hoyinchan/blue/Data/data2021/data2021/'+'UPITT'+'/p0_onset_'+'UPITT'+'.pkl')"
   ]
  },
  {
   "cell_type": "code",
   "execution_count": null,
   "id": "f53588c8-e100-491e-9b63-0dac87d72817",
   "metadata": {},
   "outputs": [],
   "source": [
    "onset"
   ]
  },
  {
   "cell_type": "code",
   "execution_count": null,
   "id": "d44ec6c2-3ee1-4f53-8d01-d3fb9a557acd",
   "metadata": {},
   "outputs": [],
   "source": [
    "xxx = pd.read_csv(\"plotmp.csv\")\n",
    "xxx = xxx.sort_values('r.sq spline',ascending=False)\n",
    "xxx = xxx[~xxx['Feature'].str.contains('PX:')]\n",
    "yyy =  pd.read_csv(\"Book1.csv\")"
   ]
  },
  {
   "cell_type": "code",
   "execution_count": null,
   "id": "502bd991-0ae9-4c5f-a6df-dd0f7875a04b",
   "metadata": {},
   "outputs": [],
   "source": [
    "plt.plot(xxx['LONG_COMMON_NAME'], xxx['r.sq spline'], 'bo-', label='r^2')\n",
    "plt.plot(xxx['LONG_COMMON_NAME'], xxx['Slope AUC'], 'ro-', label='AUC slope')\n",
    "plt.axhline(y=0, color='black')\n",
    "plt.xticks(rotation=90)\n",
    "plt.legend()\n",
    "plt.savefig(\"plotmp.png\")"
   ]
  },
  {
   "cell_type": "code",
   "execution_count": null,
   "id": "b7a2bfc3-b067-440e-95d3-8c550f2d5c1c",
   "metadata": {},
   "outputs": [],
   "source": [
    "xxx['index'] = [[x for x in yyy['index'] if z in x][0] if len([x for x in yyy['index'] if z in x])>0 else None for z in xxx['Feature']]"
   ]
  },
  {
   "cell_type": "code",
   "execution_count": null,
   "id": "428a5532-10da-4014-8a31-85fb36eb624f",
   "metadata": {},
   "outputs": [],
   "source": [
    "xxx = xxx.merge(yyy, how='left')"
   ]
  },
  {
   "cell_type": "code",
   "execution_count": null,
   "id": "69f37c7f-0124-470c-bedb-c712d3d0daa4",
   "metadata": {},
   "outputs": [],
   "source": []
  }
 ],
 "metadata": {
  "kernelspec": {
   "display_name": "AKI_CDM_PY",
   "language": "python",
   "name": "aki_cdm_py"
  },
  "language_info": {
   "codemirror_mode": {
    "name": "ipython",
    "version": 3
   },
   "file_extension": ".py",
   "mimetype": "text/x-python",
   "name": "python",
   "nbconvert_exporter": "python",
   "pygments_lexer": "ipython3",
   "version": "3.6.15"
  }
 },
 "nbformat": 4,
 "nbformat_minor": 5
}
