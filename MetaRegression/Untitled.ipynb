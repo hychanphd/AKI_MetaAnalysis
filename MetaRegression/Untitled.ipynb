{
 "cells": [
  {
   "cell_type": "code",
   "execution_count": null,
   "id": "b019fc63-a14b-4099-9358-28a144b6ebbd",
   "metadata": {
    "jupyter": {
     "outputs_hidden": true
    },
    "tags": []
   },
   "outputs": [],
   "source": [
    "library(eivtools)"
   ]
  },
  {
   "cell_type": "code",
   "execution_count": null,
   "id": "bc07cda0-f989-423c-a6c4-4117df8401d9",
   "metadata": {},
   "outputs": [],
   "source": [
    "set.seed(1001)\n",
    "## simulate data with covariates x1, x2 and z.\n",
    ".n <- 1000\n",
    ".d <- data.frame(x1 = rnorm(.n))\n",
    ".d$x2 <- sqrt(0.5)*.d$x1 + rnorm(.n, sd=sqrt(0.5))\n",
    ".d$z <- as.numeric(.d$x1 + .d$x2 > 0)\n",
    "## generate outcome\n",
    "## true regression parameters are c(2,1,1,-1)\n",
    ".d$y <- 2.0 + 1.0*.d$x1 + 1.0*.d$x2 - 1.0*.d$z + rnorm(.n)\n",
    "## generate error-prone covariates w1 and w2\n",
    "Sigma_error <- diag(c(0.20, 0.30))\n",
    "dimnames(Sigma_error) <- list(c(\"w1\",\"w2\"), c(\"w1\",\"w2\"))\n",
    ".d$w1 <- .d$x1 + rnorm(.n, sd = sqrt(Sigma_error[\"w1\",\"w1\"]))\n",
    ".d$w2 <- .d$x2 + rnorm(.n, sd = sqrt(Sigma_error[\"w2\",\"w2\"]))"
   ]
  },
  {
   "cell_type": "code",
   "execution_count": null,
   "id": "e164b3cd-2375-4420-ae62-e249ab646056",
   "metadata": {
    "tags": []
   },
   "outputs": [],
   "source": [
    "Sigma_error"
   ]
  },
  {
   "cell_type": "code",
   "execution_count": null,
   "id": "22714e3d-17c3-445b-ab26-18000401f32b",
   "metadata": {},
   "outputs": [],
   "source": [
    "set.seed(3001)\n",
    "cat(\"NOTE: this example uses MCMC and takes a little while to run\\n\")\n",
    "## example of estimating school \"value-added\" effects on math test scores,\n",
    "## adjusting for lag 1 math and ELA scores and accounting for the\n",
    "## heteroskedastic measurement errors in those scores.\n",
    "data(testscores)\n",
    "print(length(unique(testscores$schoolid)))\n",
    "## to help interpretation of model coefficients and school effects, standardize\n",
    "## current and lag 1 test scores to have mean zero and variance 1. Also adjust\n",
    "## the conditional standard errors of measurement for the lag 1 scores.\n",
    "testscores$math <- as.vector(scale(testscores$math))\n",
    "testscores$math_lag1_csem <- testscores$math_lag1_csem / sd(testscores$math_lag1)\n",
    "testscores$math_lag1 <- as.vector(scale(testscores$math_lag1))\n",
    "\n",
    "testscores$lang_lag1_csem <- testscores$lang_lag1_csem / sd(testscores$lang_lag1)\n",
    "testscores$lang_lag1 <- as.vector(scale(testscores$lang_lag1))\n",
    "## create pieces needed to call lr_ancova. Note that first column of Z\n",
    "## must be an intercept.\n",
    "outcome_model <- \"normal\"\n",
    "Y <- testscores$math\n",
    "W <- testscores[,c(\"math_lag1\",\"lang_lag1\")]\n",
    "Z <- cbind(1, testscores[,c(\"sped\",\"frl\")])\n",
    "G <- testscores$schoolid\n",
    "## create varfuncs. Need to be careful to pass conditional measurement error\n",
    "## variances, which require squaring the CSEMs\n",
    "varfuncs <- list()\n",
    "tmp <- unique(testscores[,c(\"math_lag1\",\"math_lag1_csem\")])\n",
    "names(tmp) <- c(\"x\",\"gx\")\n",
    "tmp <- tmp[order(tmp$x),]\n",
    "tmp$gx <- tmp$gx^2\n",
    "varfuncs[[1]] <- list(type=\"log_polynomial\", vtab=tmp)\n",
    "tmp <- unique(testscores[,c(\"lang_lag1\",\"lang_lag1_csem\")])\n",
    "names(tmp) <- c(\"x\",\"gx\")\n",
    "tmp <- tmp[order(tmp$x),]\n",
    "tmp$gx <- tmp$gx^2\n",
    "varfuncs[[2]] <- list(type=\"log_polynomial\", vtab=tmp)"
   ]
  },
  {
   "cell_type": "code",
   "execution_count": null,
   "id": "4b32f861-d95d-4916-ad02-3568aa0d1362",
   "metadata": {},
   "outputs": [],
   "source": [
    "varfuncs"
   ]
  },
  {
   "cell_type": "code",
   "execution_count": null,
   "id": "2acb5830-559d-4082-96af-96ae6d5befc5",
   "metadata": {},
   "outputs": [],
   "source": []
  }
 ],
 "metadata": {
  "kernelspec": {
   "display_name": "AKI_CDM_PY",
   "language": "python",
   "name": "aki_cdm_py"
  },
  "language_info": {
   "codemirror_mode": {
    "name": "ipython",
    "version": 3
   },
   "file_extension": ".py",
   "mimetype": "text/x-python",
   "name": "python",
   "nbconvert_exporter": "python",
   "pygments_lexer": "ipython3",
   "version": "3.6.15"
  }
 },
 "nbformat": 4,
 "nbformat_minor": 5
}
