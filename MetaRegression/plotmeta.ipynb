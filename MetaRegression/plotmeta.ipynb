{
 "cells": [
  {
   "cell_type": "code",
   "execution_count": null,
   "id": "173eed1f-a4c8-4973-8f7d-05d47226a732",
   "metadata": {
    "tags": []
   },
   "outputs": [],
   "source": [
    "import pandas as pd\n",
    "import xgboost as xgb\n",
    "import numpy as np\n",
    "import sklearn\n",
    "from sklearn.preprocessing import OneHotEncoder\n",
    "from sklearn.impute import SimpleImputer\n",
    "from imblearn.over_sampling import SMOTE\n",
    "from imblearn.pipeline import make_pipeline\n",
    "from imblearn.combine import SMOTEENN\n",
    "from imblearn.over_sampling import SMOTENC\n",
    "import matplotlib.pyplot as plt\n",
    "from PIL import Image\n",
    "from scipy.interpolate import BSpline, make_interp_spline, interp1d\n",
    "# import rpy2.robjects as robjects\n",
    "# from rpy2.robjects.packages import importr\n",
    "import csv\n",
    "from dfply import *\n",
    "from xgboost import XGBClassifier\n",
    "import itertools\n",
    "import os\n",
    "from sklearn.model_selection import RandomizedSearchCV, GridSearchCV\n",
    "from sklearn.metrics import roc_auc_score\n",
    "from sklearn.model_selection import StratifiedKFold\n",
    "import time\n",
    "import pickle\n",
    "import math\n",
    "import matplotlib.pyplot as plt\n",
    "from glob import glob\n",
    "\n",
    "import importlib\n",
    "\n",
    "import time\n",
    "import requests\n",
    "\n",
    "from joblib import Parallel, delayed\n",
    "from joblib import parallel_backend\n",
    "import seaborn as sns\n",
    "\n",
    "#import generateSHAP\n",
    "import plotmeta\n",
    "\n",
    "from scipy import interpolate\n",
    "import statsmodels.api as sm\n",
    "from os.path import exists\n",
    "import matplotlib as mpl2\n",
    "import os\n",
    "import json\n",
    "\n",
    "import dask as dd\n",
    "\n",
    "import dataframe_image\n",
    "\n",
    "import os\n",
    "import sys\n",
    "import inspect\n",
    "\n",
    "import pandas as pd\n",
    "import numpy as np\n",
    "import matplotlib.pyplot as plt\n",
    "from scipy.interpolate import UnivariateSpline\n",
    "\n",
    "currentdir = os.path.dirname(os.path.abspath(inspect.getfile(inspect.currentframe())))\n",
    "parentdir = os.path.dirname(currentdir)\n",
    "sys.path.insert(0, parentdir) \n",
    "\n",
    "\n",
    "import utils_code2name\n",
    "importlib.reload(utils_code2name)"
   ]
  },
  {
   "cell_type": "code",
   "execution_count": null,
   "id": "7e6c8e01-378d-4395-8849-4bd4f933be9d",
   "metadata": {
    "tags": []
   },
   "outputs": [],
   "source": [
    "loinctranslate = pd.read_csv('/home/hoyinchan/code/AKI_CDM_PY/loinc/LoincTable/Loinc.csv', low_memory=False)"
   ]
  },
  {
   "cell_type": "code",
   "execution_count": null,
   "id": "82e0925e-6f75-42df-ad65-663287b2e221",
   "metadata": {
    "tags": []
   },
   "outputs": [],
   "source": [
    "importlib.reload(plotmeta)\n",
    "plotshapsn = plotmeta.plotmeta(order='single', interaction = 'nointeraction')\n",
    "with open(plotshapsn.home_data_directory+\"gamalltmp_single_nointeraction.pkl\", \"rb\") as f:\n",
    "       plotshap2 = pickle.load(f)\n",
    "plotshapsn.copy(plotshap2)"
   ]
  },
  {
   "cell_type": "code",
   "execution_count": null,
   "id": "3b5b6943-2619-4736-86cc-636f63224ddd",
   "metadata": {
    "tags": []
   },
   "outputs": [],
   "source": [
    "# plotshapsn.get_meta_data_background()\n",
    "# #plotshapsn.get_meta_data(filename=plotshapsn.home_data_directory+\"gamalltmp_single_noAUC.json\")\n",
    "# plotshapsn.get_meta_data(filename=\"/home/hoyinchan/code/AKI_CDM_PY/MetaRegression/\"+\"gamalltmp_single_noAUC.json\")\n",
    "# plotshapsn.load_raw_data()\n",
    "# plotshapsn.cal_plot_range()\n",
    "# plotshapsn.save()"
   ]
  },
  {
   "cell_type": "code",
   "execution_count": null,
   "id": "d9775717-59cb-416a-b846-5ffde0471577",
   "metadata": {
    "tags": []
   },
   "outputs": [],
   "source": [
    "# # Check bimodal\n",
    "# datafolder = '/blue/yonghui.wu/hoyinchan/Data/data2022/'\n",
    "# shap_finalX = pd.read_parquet(datafolder+'/shapalltmp.parquet')\n",
    "\n",
    "# #df=shap_finalX[[\"LAB::LG32850-6(10*6/uL)_Names\", \"LAB::LG32850-6(10*6/uL)_vals\", \"site_m\", \"site_d\"]]\n",
    "# df=shap_finalX[[\"LAB::787-2(fL)_Names\", \"LAB::787-2(fL)_vals\", \"site_m\", \"site_d\"]]\n",
    "# df.columns = ['x','y', \"site_m\", \"site_d\"]\n",
    "# df = df.dropna()\n",
    "\n",
    "# # Create 100 bins for 'x' and 'y'\n",
    "# df['x_bin'] = pd.cut(df['x'], bins=100)\n",
    "# grouped = df.groupby(['x_bin', 'site_m', 'site_d']).mean().reset_index()\n",
    "\n",
    "# grouped = grouped.dropna()\n",
    "\n",
    "# # Display the result\n",
    "\n",
    "# # Find the bin containing the value 2\n",
    "# bins = pd.cut(df['x'], bins=100)\n",
    "# bin_edges = bins.cat.categories\n",
    "# bin_containing_2 = bin_edges[(bin_edges.left <= 94) & (bin_edges.right > 94)].values[0]\n",
    "# filtered_grouped = grouped[grouped['x_bin'] == bin_containing_2]\n",
    "\n",
    "# filtered_grouped.sort_values('y').groupby('site_m').mean().reset_index()\n",
    "\n",
    "# filtered_grouped.sort_values('y').groupby('site_d').mean().reset_index()"
   ]
  },
  {
   "cell_type": "code",
   "execution_count": null,
   "id": "b6ceef24-6038-4473-a4cb-fa8a168f2b36",
   "metadata": {
    "tags": []
   },
   "outputs": [],
   "source": [
    "plotshapsn.shapdf"
   ]
  },
  {
   "cell_type": "code",
   "execution_count": null,
   "id": "5a8b12d9-facb-480c-97d6-db4c4b9c7c52",
   "metadata": {
    "tags": []
   },
   "outputs": [],
   "source": [
    "pltable2 = plotshapsn.gen_fit_character()\n",
    "pltable2 = pltable2.sort_values('r.sq_spline', ascending=False).reset_index(drop=True)"
   ]
  },
  {
   "cell_type": "code",
   "execution_count": null,
   "id": "33f7335f-76ad-43e2-9e37-08eccb740a83",
   "metadata": {
    "jupyter": {
     "outputs_hidden": true
    },
    "tags": []
   },
   "outputs": [],
   "source": [
    "pltable2"
   ]
  },
  {
   "cell_type": "code",
   "execution_count": null,
   "id": "0416262d-df6d-42f4-90bd-337d6e38c8c0",
   "metadata": {
    "tags": []
   },
   "outputs": [],
   "source": []
  },
  {
   "cell_type": "code",
   "execution_count": null,
   "id": "b076fe5f-d205-4785-83a3-0d985a3ff0c2",
   "metadata": {
    "tags": []
   },
   "outputs": [],
   "source": [
    "# Check very low sCr patient\n",
    "\n",
    "# datafolder = '/blue/yonghui.wu/hoyinchan/Data/data2022/'\n",
    "# shap_finalX = pd.read_parquet(datafolder+'/shapalltmp.parquet')\n",
    "# df=shap_finalX[[\"LAB::LG50024-5(mg/dL)_Names\", \"LAB::LG50024-5(mg/dL)_vals\", \"site_m\", \"site_d\"]]\n",
    "# df.columns = ['x','y', \"site_m\", \"site_d\"]\n",
    "# df = df.dropna()\n",
    "# df = df.sort_values('x')\n",
    "# df_low = df[df['x']<0.2]\n",
    "# xxx = df_low.groupby([\"site_m\", \"site_d\"]).mean().reset_index()\n",
    "# xxx[xxx['site_m']==xxx['site_d']]"
   ]
  },
  {
   "cell_type": "code",
   "execution_count": null,
   "id": "0206da23-9cbd-40d2-a06f-38ddb78c3f32",
   "metadata": {
    "tags": []
   },
   "outputs": [],
   "source": [
    "# # Step 2: Fit a spline regression\n",
    "# spline = UnivariateSpline(df['x'], df['y'], s=1)  # s is the smoothing factor\n",
    "\n",
    "# # Generate x values for the spline curve\n",
    "# x_spline = np.linspace(df['x'].min(), df['x'].max(), 500)\n",
    "# y_spline = spline(x_spline)\n",
    "\n",
    "# # Step 3: Plot the raw data\n",
    "# plt.scatter(df['x'], df['y'], label='Raw Data', color='blue')\n",
    "\n",
    "# # Step 4: Plot the spline regression\n",
    "# plt.plot(x_spline, y_spline, label='Spline Regression', color='red')\n",
    "\n",
    "# # Add labels and legend\n",
    "# plt.xlabel('X')\n",
    "# plt.ylabel('Y')\n",
    "# plt.title('Spline Regression with Raw Data Overlay')\n",
    "# plt.legend()\n",
    "\n",
    "# # Show the plot\n",
    "# plt.show()"
   ]
  },
  {
   "cell_type": "code",
   "execution_count": null,
   "id": "9a695151-d933-4f0f-b8ef-71426bb779e9",
   "metadata": {
    "tags": []
   },
   "outputs": [],
   "source": [
    "df_importances_stat = pd.read_pickle('../Fig2_plot_feature_importance_data.pkl')\n",
    "df_importances_stat['Feature Id no unit'] = df_importances_stat.index\n",
    "df_importances_stat = df_importances_stat.reset_index(drop=True)"
   ]
  },
  {
   "cell_type": "code",
   "execution_count": null,
   "id": "ed08bc74-20f7-4377-9319-a0a590bb4a33",
   "metadata": {
    "tags": []
   },
   "outputs": [],
   "source": [
    "# tmp_plotter_vector = plotshapsn.gen_fit_character()[[0]]\n",
    "# tmp_plotter_vector['Feature Id no unit'] = tmp_plotter_vector[0].str.split('(').str[0]\n",
    "# tmp_plotter_vector = tmp_plotter_vector.merge(df_importances_stat, on = 'Feature Id no unit', how='left')\n",
    "\n",
    "# tmp_plotter_vector = tmp_plotter_vector.sort_values(['Median'], ascending=[False]).reset_index(drop=True)\n",
    "# tmp_plotter_vector\n",
    "\n",
    "# select_row = ['AGE', 'LAB::LG5903-2(mg/dL)', 'LAB::LG7967-5(mg/dL)', 'LAB::LG49936-4(mmol/L)', 'LAB::LG50024-5(mg/dL)', 'LAB::LG49864-8(mg/dL)', 'LAB::LG1314-6(mg/dL)', 'LAB::LG11363-5(mmol/L)', ]\n",
    "# select_row = tmp_plotter_vector[0][0:8]"
   ]
  },
  {
   "cell_type": "code",
   "execution_count": null,
   "id": "eae56488-fbe2-481b-9e79-0bcf3985250c",
   "metadata": {
    "tags": []
   },
   "outputs": [],
   "source": [
    "pltable = plotshapsn.gen_fit_character()\n",
    "pltable = pltable.sort_values('r.sq_spline', ascending=False).reset_index(drop=True)\n",
    "contains_px = pltable[pltable[0].str.contains('PX:')]\n",
    "does_not_contain_px = pltable[~pltable[0].str.contains('PX:')]\n",
    "pltable = pd.concat([does_not_contain_px, contains_px])\n",
    "pltable.reset_index(drop=True, inplace=True)"
   ]
  },
  {
   "cell_type": "code",
   "execution_count": null,
   "id": "16f60915-5177-42b0-bcb3-24a0bd9fd863",
   "metadata": {
    "tags": []
   },
   "outputs": [],
   "source": [
    "select_row = list(pltable[0][0:8])"
   ]
  },
  {
   "cell_type": "code",
   "execution_count": null,
   "id": "ac936b51-5419-436a-8082-abacb5aa0fd8",
   "metadata": {
    "tags": []
   },
   "outputs": [],
   "source": [
    "plotshapsn.plot_fig2(select_row, nrows=3, ncols=3, margin=3, namesuffix='_main', legend_fontsize=20, fontsize=20, rescale_y=True)"
   ]
  },
  {
   "cell_type": "code",
   "execution_count": null,
   "id": "d26e9690-8cc2-4dde-8664-ac6115bd3d21",
   "metadata": {
    "jupyter": {
     "outputs_hidden": true
    },
    "tags": []
   },
   "outputs": [],
   "source": [
    "remain_row = pltable[0][8:19].reset_index(drop=True)\n",
    "plotshapsn.plot_fig2(remain_row, nrows=4, ncols=3, margin=3, namesuffix='_supp1', legend_fontsize=20, fontsize=20, rescale_y=True)"
   ]
  },
  {
   "cell_type": "code",
   "execution_count": null,
   "id": "ff2ee2ed-4c71-43fa-a94c-310e95cbf516",
   "metadata": {
    "jupyter": {
     "outputs_hidden": true
    },
    "tags": []
   },
   "outputs": [],
   "source": [
    "remain_row = pltable[0][19:].reset_index(drop=True)\n",
    "plotshapsn.plot_fig2(remain_row, nrows=4, ncols=3, margin=3, namesuffix='_supp2', legend_fontsize=20, fontsize=20, rescale_y=True)"
   ]
  },
  {
   "cell_type": "code",
   "execution_count": null,
   "id": "e2491ea9-fbd9-4e01-98b5-d32dbfa58b67",
   "metadata": {
    "jupyter": {
     "outputs_hidden": true
    },
    "tags": []
   },
   "outputs": [],
   "source": [
    "pd.options.display.float_format = '{:.7f}'.format\n",
    "plotshapsn.gen_supp_table1_fit('linear').astype(float).round(7).sort_values('r.sq',ascending=False)"
   ]
  },
  {
   "cell_type": "code",
   "execution_count": null,
   "id": "8f0a52ab-65aa-442a-af32-277edeffe9c2",
   "metadata": {
    "jupyter": {
     "outputs_hidden": true
    },
    "tags": []
   },
   "outputs": [],
   "source": [
    "plotshapsn.gen_supp_table1_fit('quadratic').astype(float).round(7).sort_values('r.sq',ascending=False)"
   ]
  },
  {
   "cell_type": "code",
   "execution_count": null,
   "id": "ad635b23-4cf5-4fc4-a116-35e406dfe47c",
   "metadata": {
    "jupyter": {
     "outputs_hidden": true
    },
    "tags": []
   },
   "outputs": [],
   "source": [
    "plotshapsn.gen_supp_table1_fit('spline').round(7).sort_values('r.sq',ascending=False)"
   ]
  },
  {
   "cell_type": "code",
   "execution_count": null,
   "id": "eccecd2e-9283-448e-a2a7-d9f4e07715ed",
   "metadata": {
    "tags": []
   },
   "outputs": [],
   "source": [
    "outtable = plotshapsn.gen_fit_character()"
   ]
  },
  {
   "cell_type": "code",
   "execution_count": null,
   "id": "b2b4be9c-82fb-4f1e-b555-271287ef1cfc",
   "metadata": {
    "tags": []
   },
   "outputs": [],
   "source": [
    "outtable.sort_values('r.sq_spline', ascending=False).head(10)[0]"
   ]
  },
  {
   "cell_type": "code",
   "execution_count": null,
   "id": "57c86c76-a673-4167-987a-efcea484eb73",
   "metadata": {
    "tags": []
   },
   "outputs": [],
   "source": [
    "# Convert to R string using Chatgpt"
   ]
  },
  {
   "cell_type": "code",
   "execution_count": null,
   "id": "33f3c6eb-04c0-46bd-aee5-a30272a55896",
   "metadata": {
    "jupyter": {
     "outputs_hidden": true
    },
    "tags": []
   },
   "outputs": [],
   "source": [
    "plotshapsn.gen_fit_character()[[0, 'r.sq_spline', 'slope_auc']].sort_values('r.sq_spline')"
   ]
  },
  {
   "cell_type": "code",
   "execution_count": null,
   "id": "67f7b1e7-ced6-474b-b651-ad4191cb994e",
   "metadata": {
    "tags": []
   },
   "outputs": [],
   "source": [
    "plotshapsn.plot_r2_rank()"
   ]
  },
  {
   "cell_type": "code",
   "execution_count": null,
   "id": "dabddd92-99f4-4e56-886e-ce7d34f243a0",
   "metadata": {
    "tags": []
   },
   "outputs": [],
   "source": [
    "# # Deduplicates\n",
    "\n",
    "# xxx = pd.read_pickle('/home/hoyinchan/blue/program_data/AKI_CDM_PY/MetaRegression/gamalltmp_double_interaction_noAUC_json.pkl')\n",
    "\n",
    "# xxx['feature1'] = xxx['feature1'].explode()\n",
    "# xxx['feature2'] = xxx['feature2'].explode()\n",
    "\n",
    "# # Create standardized columns by sorting the pair (feature1, feature2) for each row\n",
    "# xxx['sorted_feature1'] = xxx[['feature1', 'feature2']].min(axis=1)\n",
    "# xxx['sorted_feature2'] = xxx[['feature1', 'feature2']].max(axis=1)\n",
    "\n",
    "# duplicates = xxx[xxx.duplicated(subset=['sorted_feature1', 'sorted_feature2'], keep=False)]\n",
    "\n",
    "# duplicates.iloc[1]['file_source']"
   ]
  },
  {
   "cell_type": "code",
   "execution_count": null,
   "id": "359f158d-1a96-4c8c-952f-09fa9935d5b5",
   "metadata": {
    "tags": []
   },
   "outputs": [],
   "source": []
  },
  {
   "cell_type": "code",
   "execution_count": null,
   "id": "72ada372-63d3-43cc-acbb-a6fdd6e0b839",
   "metadata": {
    "jupyter": {
     "outputs_hidden": true
    },
    "tags": []
   },
   "outputs": [],
   "source": [
    "plotshapsn.gen_fit_character()[[0, 'r.sq_spline', 'slope_auc']].sort_values('r.sq_spline')"
   ]
  },
  {
   "cell_type": "code",
   "execution_count": null,
   "id": "bedbb534-4e43-4115-8b45-7a93170c2efe",
   "metadata": {
    "tags": []
   },
   "outputs": [],
   "source": [
    "plotshapsn.combine_interaction_json(path='/home/hoyinchan/code/AKI_CDM_PY/MetaRegression/gam2d_tmp/')"
   ]
  },
  {
   "cell_type": "code",
   "execution_count": null,
   "id": "59d82ccc-5582-4822-94dc-ea99d5917967",
   "metadata": {
    "tags": []
   },
   "outputs": [],
   "source": [
    "top10f = plotshapsn.gen_interaction_shapalltmp(top=16)"
   ]
  },
  {
   "cell_type": "code",
   "execution_count": null,
   "id": "a5cb02ce-8355-46b2-83bc-6b2f12a4680b",
   "metadata": {
    "tags": []
   },
   "outputs": [],
   "source": [
    "top10f"
   ]
  },
  {
   "cell_type": "code",
   "execution_count": null,
   "id": "644877b7-8579-4d5b-9c7e-73468e3cac55",
   "metadata": {
    "tags": []
   },
   "outputs": [],
   "source": [
    "filepath = \"/home/hoyinchan/blue/program_data/AKI_CDM_PY/MetaRegression/\""
   ]
  },
  {
   "cell_type": "code",
   "execution_count": null,
   "id": "5c1c10af-414b-4408-a5a0-061e21814e45",
   "metadata": {
    "tags": []
   },
   "outputs": [],
   "source": [
    "importlib.reload(plotmeta)\n",
    "plotshapdi = plotmeta.plotmeta(order='double', interaction = 'interaction')\n",
    "plotshapdi.get_meta_data()\n",
    "# with open(filepath+\"gamalltmp_double_interaction.pkl\", \"rb\") as f:\n",
    "#        plotshap2 = pickle.load(f)\n",
    "# plotshapdi.copy(plotshap2)"
   ]
  },
  {
   "cell_type": "code",
   "execution_count": null,
   "id": "330bddce-cc1e-4fdd-82d8-8bf9d91c1e12",
   "metadata": {
    "tags": []
   },
   "outputs": [],
   "source": [
    "#fig, ax = plotshapdi.plot_fig3_cont(ext_obj=plotshapsn, min_r2=0.1, plottype='subtract', numrow=15, best_plot=True, external_select=top10f, ncol=3, suffix='_contour_maxy', contour=True, figsize=(40,50), font_ratio=2, mode='max_y')\n",
    "#plotshapdi.r2_histogram_interaction(ext_obj=plotshapsn)\n",
    "#fig, ax = plotshapdi.plot_fig3_cont(ext_obj=plotshapsn, min_r2=0.1, plottype='interactonly', numrow=15, best_plot=True, external_select=top10f, ncol=3, suffix='_interactonly_maxy', figsize=(40,50), font_ratio=2, mode='max_max')\n",
    "#fig, ax = plotshapdi.plot_fig3_cont(ext_obj=plotshapsn, min_r2=0, plottype='addition', numrow=15, best_plot=True, external_select=top10f, ncol=3, suffix='_interacton_uni_maxy', figsize=(40,50), font_ratio=2, mode='max_y')\n",
    "pd.options.display.float_format = '{:.7f}'.format\n",
    "#plotshapdi.gen_supp_table2_fit(ext_obj=plotshapsn, best_plot=True, external_select=top10f, mode='max_max').drop('r.sq_diff', axis=1).sort_values('r.sq',ascending=False)\n",
    "plotshapdi.gen_supp_table2_fit_cat(self, target_cat=None).sort_values('r.sq',ascending=False)\n",
    "#fig,ax = plotshapdi.plot_fig3_cat(ext_obj=plotshapsn, numrow=8, figsize=(40,40), font_ratio=1.18, external_select=top10f, mode='max_y', mode2='nouni', suffix='_nouni')\n",
    "#fig,ax = plotshapdi.plot_fig3_cat(ext_obj=plotshapsn, numrow=8, figsize=(40,40), font_ratio=1.18, external_select=top10f, mode='max_y', mode2='all')\n",
    "#fig,ax = plotshapdi.plot_fig3_cat(ext_obj=plotshapsn, numrow=8, figsize=(40,40), font_ratio=1.18, external_select=top10f, mode='max_y', mode2='interact', suffix='_interact')\n",
    "\n",
    "# fig, ax = plotshapdi.plot_fig3_cont(ext_obj=plotshapsn, min_r2=0, plottype='interactonly', numrow=15, best_plot=True, external_select=top10f, ncol=3, suffix='_interacton_uni_max_y', figsize=(40,50), font_ratio=2, mode='max_y', rescale=(-0.3,0.3), contour=False)\n",
    "# fig, ax = plotshapdi.plot_fig3_cont(ext_obj=plotshapsn, min_r2=0, plottype='addition', numrow=15, best_plot=True, external_select=top10f, ncol=3, suffix='_interactonly_max_y', figsize=(40,50), font_ratio=2, mode='max_y', rescale=(-1,1), contour=False)\n",
    "# fig, ax = plotshapdi.plot_fig3_cont(ext_obj=plotshapsn, min_r2=0, plottype='addition', numrow=15, best_plot=True, external_select=top10f, ncol=3, suffix='_contour_max_y', figsize=(40,50), font_ratio=2, mode='max_y', rescale=None, contour=True)"
   ]
  },
  {
   "cell_type": "code",
   "execution_count": null,
   "id": "fd522c13-c2be-44b9-8e8d-121e8287696c",
   "metadata": {
    "jupyter": {
     "outputs_hidden": true
    },
    "tags": []
   },
   "outputs": [],
   "source": [
    "fig,ax = plotshapdi.plot_fig3_cat(ext_obj=plotshapsn, numrow=10, figsize=(40,50), font_ratio=2, external_select=top10f, mode='max_y', mode2='interact', suffix='_interact', rescale=(-0.6,0.1))"
   ]
  },
  {
   "cell_type": "code",
   "execution_count": null,
   "id": "3cb44898-0a7f-4872-a333-f7da78e23e5f",
   "metadata": {
    "tags": []
   },
   "outputs": [],
   "source": [
    "xxx.drop('-1',axis=1).sort_values('r.sq',ascending=False)"
   ]
  },
  {
   "cell_type": "code",
   "execution_count": null,
   "id": "172f1c3d-ad82-43cc-a03e-098887882439",
   "metadata": {
    "jupyter": {
     "outputs_hidden": true
    },
    "tags": []
   },
   "outputs": [],
   "source": [
    "plot_fig3_cat(plotshapdi=plotshapdi, ext_obj=plotshapsn, numrow=10, figsize=(40,50), font_ratio=1.18, external_select=top10f, mode='max_y', mode2='nouni', suffix='_nouni', rescale=(-0.75,0.75))"
   ]
  },
  {
   "cell_type": "code",
   "execution_count": null,
   "id": "9bc6da93-6ed7-4af0-8ab2-e4061659379c",
   "metadata": {
    "tags": []
   },
   "outputs": [],
   "source": [
    "    def plot_fig3_cat(self, ext_obj, numrow, figsize=None, suffix='', font_ratio=1, external_select=None, mode='max_y', mode2='all', rescale=None):\n",
    "        # Define sizes for title, xd-label, and ticks\n",
    "        title_size = 20*font_ratio  # Adjust size as needed\n",
    "        xlabel_size = 20*font_ratio  # Adjust size as needed\n",
    "        tick_size = 20*font_ratio  # Adjust size as needed\n",
    "        legend_size = 20*font_ratio  # Adjust size as needed\n",
    "\n",
    "        if figsize is None:\n",
    "            figsize = (20, 5*numrow//2)\n",
    "\n",
    "        cin2 = self.get_interaction_stat(ext_obj, mode=mode)            \n",
    "\n",
    "        if external_select is not None:\n",
    "            top10f = pd.DataFrame(external_select)\n",
    "            top10f.columns = ['top10f']\n",
    "            cin2 = cin2.merge(top10f, left_on=[-1], right_on=['top10f'], how='inner').drop('top10f',axis=1)\n",
    "\n",
    "        # cin2o = cin2.copy()\n",
    "        # cin2 = cin2.drop(-1,axis=1)\n",
    "        # # Rename columns: _x to _tmp, _y to _x, and _tmp to _y\n",
    "        # cin2.columns = [col.replace('_x', '_tmp') for col in cin2.columns]\n",
    "        # cin2.columns = [col.replace('_y', '_x') for col in cin2.columns]\n",
    "        # cin2.columns = [col.replace('_tmp', '_y') for col in cin2.columns]\n",
    "        # # Rename the -1 column to '0_x'\n",
    "        # cin2[-1] = cin2['0_y'].copy()\n",
    "        # cin2 = cin2[cin2o.columns]get_cat_interaction_stat\n",
    "        # cin2 = pd.concat([cin2, cin2o])\n",
    "        # cin2 = cin2[cin2['r.sq_diff']>0]\n",
    "        # cin2 = cin2.sort_values('r.sq_diff',ascending=False).groupby(-1).first().reset_index()            \n",
    "\n",
    "        cin2 = cin2[[x in list(self.cattarget) for x in cin2['0_x']]]\n",
    "\n",
    "        xxx = self.get_cat_interaction_feature()\n",
    "        xxx['0_x'] = xxx.index\n",
    "        cin2 = cin2[[-1, '0_x', 'r.sq_spline_y']].merge(xxx, on=[-1, '0_x'])\n",
    "        cin2['r.sq_diff'] = cin2['r.sq']-cin2['r.sq_spline_y']        \n",
    "\n",
    "        cin2 = cin2[cin2['r.sq_diff']>0]\n",
    "        cin2 = cin2.sort_values('r.sq_diff', ascending=False)\n",
    "        cin2 = cin2.groupby('0_x').head(numrow).reset_index()\n",
    "        cin2 = cin2.sort_values(['0_x', 'r.sq_diff'], ascending=False).reset_index(drop=True)\n",
    "\n",
    "        if len(cin2['0_x'].unique()) == 2:\n",
    "            fig, ax = plt.subplots(numrow//2, 4, figsize=figsize)        \n",
    "            midpoint = 0.505\n",
    "            # Add a line at the midpoint. This requires converting the midpoint to the figure's coordinate system.\n",
    "            line = Line2D([midpoint, midpoint], [0.1, 0.89], transform=fig.transFigure, color=\"grey\", linestyle=\"--\")\n",
    "            fig.add_artist(line)   \n",
    "        else:\n",
    "            fig, ax = plt.subplots(numrow//2, 2, figsize=figsize)                \n",
    "\n",
    "        for i in cin2.index:\n",
    "            i1 = int(np.floor(i/(numrow//2)))\n",
    "            i2 = int(i-np.floor(i/(numrow//2))*(numrow//2))   \n",
    "            self.plot_meta2_cat(cin2.loc[i,-1], cin2.loc[i,'0_x'], ext_obj=ext_obj, ax=ax[i2][i1], verbose=False, legend_size=legend_size, mode2=mode2)      \n",
    "\n",
    "           # Set x_label for each subplot with increased size\n",
    "\n",
    "            if len(cin2['0_x'].unique()) == 2:        \n",
    "                ax[i2][i1].set_xlabel(self.translator.custom_translate_omop_2022_2_fig2(cin2.loc[i, -1]), fontsize=xlabel_size)\n",
    "            else:\n",
    "                ax[i2][i1].set_xlabel(self.translator.custom_translate_omop_2022_2_outtable(cin2.loc[i, -1]), fontsize=xlabel_size)\n",
    "\n",
    "            # Set title for the first row subplots with increased size\n",
    "            if i2 == 0:\n",
    "                if len(cin2['0_x'].unique()) == 2:\n",
    "                    ax[i2][i1].set_title(self.translator.custom_translate_omop_2022_2_fig2(cin2.loc[i, '0_x']), fontsize=title_size)\n",
    "                else:\n",
    "                    ax[i2][i1].set_title(self.translator.custom_translate_omop_2022_2_outtable(cin2.loc[i, '0_x']), fontsize=title_size)\n",
    "            # Increase tick size\n",
    "            ax[i2][i1].tick_params(axis='both', which='major', labelsize=tick_size)\n",
    "            # Remove legends from all subplots\n",
    "            ax[i2][i1].legend().set_visible(False)\n",
    "\n",
    "            if rescale is not None:\n",
    "                ax[i2][i1].set_ylim(rescale[0], rescale[1])  # Set the y-axis range              \n",
    "\n",
    "        # Only enable legend for the top right subplot\n",
    "        ax[0][-1].legend().set_visible(True)            \n",
    "        ax[0][-1].legend().get_title().set_fontsize(legend_size)            \n",
    "        for text in ax[0][-1].legend().get_texts():\n",
    "            text.set_fontsize(20)  # Increase legend fontsize\n",
    "\n",
    "        # Set a common y_label for all subplots\n",
    "        fig.text(0.08, 0.5, 'SHAP', va='center', rotation='vertical', fontsize=xlabel_size)\n",
    "\n",
    "        fig.savefig(f\"meta_double_cat{suffix}.svg\", bbox_inches ='tight')     \n",
    "        return fig,ax"
   ]
  },
  {
   "cell_type": "code",
   "execution_count": null,
   "id": "d9b11e87-bc5b-44b3-b21c-bd8d79fd4395",
   "metadata": {
    "tags": []
   },
   "outputs": [],
   "source": []
  },
  {
   "cell_type": "code",
   "execution_count": null,
   "id": "6c6edd97-0498-4fd1-a052-bb495c5512aa",
   "metadata": {},
   "outputs": [],
   "source": []
  },
  {
   "cell_type": "code",
   "execution_count": null,
   "id": "fed25fc7-93e1-4bab-861a-48bae3c3ea65",
   "metadata": {},
   "outputs": [],
   "source": []
  }
 ],
 "metadata": {
  "kernelspec": {
   "display_name": "AKI_CDM_PY",
   "language": "python",
   "name": "aki_cdm_py"
  },
  "language_info": {
   "codemirror_mode": {
    "name": "ipython",
    "version": 3
   },
   "file_extension": ".py",
   "mimetype": "text/x-python",
   "name": "python",
   "nbconvert_exporter": "python",
   "pygments_lexer": "ipython3",
   "version": "3.6.15"
  }
 },
 "nbformat": 4,
 "nbformat_minor": 5
}
