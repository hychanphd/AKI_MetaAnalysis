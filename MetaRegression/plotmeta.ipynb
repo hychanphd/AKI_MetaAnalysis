{
 "cells": [
  {
   "cell_type": "code",
   "execution_count": null,
   "id": "173eed1f-a4c8-4973-8f7d-05d47226a732",
   "metadata": {
    "tags": []
   },
   "outputs": [],
   "source": [
    "import pandas as pd\n",
    "import xgboost as xgb\n",
    "import numpy as np\n",
    "import sklearn\n",
    "from sklearn.preprocessing import OneHotEncoder\n",
    "from sklearn.impute import SimpleImputer\n",
    "from imblearn.over_sampling import SMOTE\n",
    "from imblearn.pipeline import make_pipeline\n",
    "from imblearn.combine import SMOTEENN\n",
    "from imblearn.over_sampling import SMOTENC\n",
    "import matplotlib.pyplot as plt\n",
    "from PIL import Image\n",
    "from scipy.interpolate import BSpline, make_interp_spline, interp1d\n",
    "# import rpy2.robjects as robjects\n",
    "# from rpy2.robjects.packages import importr\n",
    "import csv\n",
    "from dfply import *\n",
    "from xgboost import XGBClassifier\n",
    "import itertools\n",
    "import os\n",
    "from sklearn.model_selection import RandomizedSearchCV, GridSearchCV\n",
    "from sklearn.metrics import roc_auc_score\n",
    "from sklearn.model_selection import StratifiedKFold\n",
    "import time\n",
    "import pickle\n",
    "import math\n",
    "import matplotlib.pyplot as plt\n",
    "from glob import glob\n",
    "\n",
    "import importlib\n",
    "\n",
    "import time\n",
    "import requests\n",
    "\n",
    "from joblib import Parallel, delayed\n",
    "from joblib import parallel_backend\n",
    "import seaborn as sns\n",
    "\n",
    "import generateSHAP\n",
    "import plotmeta\n",
    "\n",
    "from scipy import interpolate\n",
    "import statsmodels.api as sm\n",
    "from os.path import exists\n",
    "import matplotlib as mpl2\n",
    "import os\n",
    "import json\n",
    "\n",
    "import dask as dd\n",
    "\n",
    "import dataframe_image\n",
    "\n",
    "import os\n",
    "import sys\n",
    "import inspect\n",
    "\n",
    "import pandas as pd\n",
    "import numpy as np\n",
    "import matplotlib.pyplot as plt\n",
    "from scipy.interpolate import UnivariateSpline\n",
    "\n",
    "currentdir = os.path.dirname(os.path.abspath(inspect.getfile(inspect.currentframe())))\n",
    "parentdir = os.path.dirname(currentdir)\n",
    "sys.path.insert(0, parentdir) \n",
    "\n",
    "\n",
    "import utils_code2name\n",
    "importlib.reload(utils_code2name)"
   ]
  },
  {
   "cell_type": "code",
   "execution_count": null,
   "id": "f17265a8-9933-4747-a26e-a3245197b88d",
   "metadata": {
    "tags": []
   },
   "outputs": [],
   "source": [
    "loinctranslate = pd.read_csv('/home/hoyinchan/code/AKI_CDM_PY/loinc/LoincTable/Loinc.csv', low_memory=False)"
   ]
  },
  {
   "cell_type": "code",
   "execution_count": null,
   "id": "82e0925e-6f75-42df-ad65-663287b2e221",
   "metadata": {
    "tags": []
   },
   "outputs": [],
   "source": [
    "importlib.reload(plotmeta)\n",
    "plotshapsn = plotmeta.plotmeta(order='single', interaction = 'nointeraction')\n",
    "with open(plotshapsn.home_data_directory+\"gamalltmp_single_nointeraction.pkl\", \"rb\") as f:\n",
    "       plotshap2 = pickle.load(f)\n",
    "plotshapsn.copy(plotshap2)"
   ]
  },
  {
   "cell_type": "code",
   "execution_count": null,
   "id": "1d1a5f86-9ef9-463b-8c3c-3c8bb0466f4f",
   "metadata": {
    "tags": []
   },
   "outputs": [],
   "source": [
    "# plotshapsn.get_meta_data(filename=plotshapsn.home_data_directory+\"gamalltmp_single_noAUC.json\")\n",
    "# plotshapsn.load_raw_data()\n",
    "# plotshapsn.calculate_local_fit_all()\n",
    "# plotshapsn.cal_plot_range()\n",
    "# plotshapsn.save()"
   ]
  },
  {
   "cell_type": "code",
   "execution_count": null,
   "id": "ba5b22e5-0fa9-44d9-8df3-cc2b5367d751",
   "metadata": {
    "tags": []
   },
   "outputs": [],
   "source": [
    "# # Check bimodal\n",
    "# datafolder = '/blue/yonghui.wu/hoyinchan/Data/data2022/'\n",
    "# shap_finalX = pd.read_parquet(datafolder+'/shapalltmp.parquet')\n",
    "\n",
    "# #df=shap_finalX[[\"LAB::LG32850-6(10*6/uL)_Names\", \"LAB::LG32850-6(10*6/uL)_vals\", \"site_m\", \"site_d\"]]\n",
    "# df=shap_finalX[[\"LAB::787-2(fL)_Names\", \"LAB::787-2(fL)_vals\", \"site_m\", \"site_d\"]]\n",
    "# df.columns = ['x','y', \"site_m\", \"site_d\"]\n",
    "# df = df.dropna()\n",
    "\n",
    "# # Create 100 bins for 'x' and 'y'\n",
    "# df['x_bin'] = pd.cut(df['x'], bins=100)\n",
    "# grouped = df.groupby(['x_bin', 'site_m', 'site_d']).mean().reset_index()\n",
    "\n",
    "# grouped = grouped.dropna()\n",
    "\n",
    "# # Display the result\n",
    "\n",
    "# # Find the bin containing the value 2\n",
    "# bins = pd.cut(df['x'], bins=100)\n",
    "# bin_edges = bins.cat.categories\n",
    "# bin_containing_2 = bin_edges[(bin_edges.left <= 94) & (bin_edges.right > 94)].values[0]\n",
    "# filtered_grouped = grouped[grouped['x_bin'] == bin_containing_2]\n",
    "\n",
    "# filtered_grouped.sort_values('y').groupby('site_m').mean().reset_index()\n",
    "\n",
    "# filtered_grouped.sort_values('y').groupby('site_d').mean().reset_index()"
   ]
  },
  {
   "cell_type": "code",
   "execution_count": null,
   "id": "b6ceef24-6038-4473-a4cb-fa8a168f2b36",
   "metadata": {
    "tags": []
   },
   "outputs": [],
   "source": []
  },
  {
   "cell_type": "code",
   "execution_count": null,
   "id": "97d64069-1447-46a2-b49c-8a0f2d1d9957",
   "metadata": {
    "tags": []
   },
   "outputs": [],
   "source": []
  },
  {
   "cell_type": "code",
   "execution_count": null,
   "id": "49a0f2f0-e98c-42d6-b52f-1370ad8a2b7b",
   "metadata": {
    "tags": []
   },
   "outputs": [],
   "source": [
    "# Check very low sCr patient\n",
    "\n",
    "# datafolder = '/blue/yonghui.wu/hoyinchan/Data/data2022/'\n",
    "# shap_finalX = pd.read_parquet(datafolder+'/shapalltmp.parquet')\n",
    "# df=shap_finalX[[\"LAB::LG50024-5(mg/dL)_Names\", \"LAB::LG50024-5(mg/dL)_vals\", \"site_m\", \"site_d\"]]\n",
    "# df.columns = ['x','y', \"site_m\", \"site_d\"]\n",
    "# df = df.dropna()\n",
    "# df = df.sort_values('x')\n",
    "# df_low = df[df['x']<0.2]\n",
    "# xxx = df_low.groupby([\"site_m\", \"site_d\"]).mean().reset_index()\n",
    "# xxx[xxx['site_m']==xxx['site_d']]"
   ]
  },
  {
   "cell_type": "code",
   "execution_count": null,
   "id": "0206da23-9cbd-40d2-a06f-38ddb78c3f32",
   "metadata": {
    "tags": []
   },
   "outputs": [],
   "source": [
    "# # Step 2: Fit a spline regression\n",
    "# spline = UnivariateSpline(df['x'], df['y'], s=1)  # s is the smoothing factor\n",
    "\n",
    "# # Generate x values for the spline curve\n",
    "# x_spline = np.linspace(df['x'].min(), df['x'].max(), 500)\n",
    "# y_spline = spline(x_spline)\n",
    "\n",
    "# # Step 3: Plot the raw data\n",
    "# plt.scatter(df['x'], df['y'], label='Raw Data', color='blue')\n",
    "\n",
    "# # Step 4: Plot the spline regression\n",
    "# plt.plot(x_spline, y_spline, label='Spline Regression', color='red')\n",
    "\n",
    "# # Add labels and legend\n",
    "# plt.xlabel('X')\n",
    "# plt.ylabel('Y')\n",
    "# plt.title('Spline Regression with Raw Data Overlay')\n",
    "# plt.legend()\n",
    "\n",
    "# # Show the plot\n",
    "# plt.show()"
   ]
  },
  {
   "cell_type": "code",
   "execution_count": null,
   "id": "9a695151-d933-4f0f-b8ef-71426bb779e9",
   "metadata": {
    "tags": []
   },
   "outputs": [],
   "source": [
    "df_importances_stat = pd.read_pickle('../Fig2_plot_feature_importance_data.pkl')\n",
    "df_importances_stat['Feature Id no unit'] = df_importances_stat.index\n",
    "df_importances_stat = df_importances_stat.reset_index(drop=True)"
   ]
  },
  {
   "cell_type": "code",
   "execution_count": null,
   "id": "348df504-d03d-4dd2-a3ee-7c0de21625da",
   "metadata": {
    "tags": []
   },
   "outputs": [],
   "source": [
    "df_importances_stat"
   ]
  },
  {
   "cell_type": "code",
   "execution_count": null,
   "id": "bd82dd9b-8598-4333-8d3c-4cbaba0777db",
   "metadata": {
    "tags": []
   },
   "outputs": [],
   "source": [
    "tmp_plotter_vector = plotshapsn.gen_fit_character()[[0]]\n",
    "tmp_plotter_vector['Feature Id no unit'] = tmp_plotter_vector[0].str.split('(').str[0]\n",
    "tmp_plotter_vector = tmp_plotter_vector.merge(df_importances_stat, on = 'Feature Id no unit', how='left')"
   ]
  },
  {
   "cell_type": "code",
   "execution_count": null,
   "id": "dfb37333-6920-429d-b054-acdd663e8462",
   "metadata": {
    "tags": []
   },
   "outputs": [],
   "source": [
    "tmp_plotter_vector = tmp_plotter_vector.sort_values(['Median'], ascending=[False]).reset_index(drop=True)\n",
    "tmp_plotter_vector"
   ]
  },
  {
   "cell_type": "code",
   "execution_count": null,
   "id": "e56a6703-6fd2-438a-8e22-074ce6b26452",
   "metadata": {
    "tags": []
   },
   "outputs": [],
   "source": [
    "# select_row = ['AGE', 'LAB::LG5903-2(mg/dL)', 'LAB::LG7967-5(mg/dL)', 'LAB::LG49936-4(mmol/L)', 'LAB::LG50024-5(mg/dL)', 'LAB::LG49864-8(mg/dL)', 'LAB::LG1314-6(mg/dL)', 'LAB::LG11363-5(mmol/L)', ]\n",
    "select_row = tmp_plotter_vector[0][0:8]"
   ]
  },
  {
   "cell_type": "code",
   "execution_count": null,
   "id": "af839026-e4b2-46c7-8011-583618809037",
   "metadata": {
    "tags": []
   },
   "outputs": [],
   "source": [
    "plotshapsn.plot_fig2(select_row, nrows=3, ncols=3, margin=3, namesuffix='_main', legend_fontsize=20, fontsize=20, rescale_y=False)"
   ]
  },
  {
   "cell_type": "code",
   "execution_count": null,
   "id": "d26e9690-8cc2-4dde-8664-ac6115bd3d21",
   "metadata": {
    "tags": []
   },
   "outputs": [],
   "source": [
    "remain_row = tmp_plotter_vector[0][8:19].reset_index(drop=True)\n",
    "plotshapsn.plot_fig2(remain_row, nrows=4, ncols=3, margin=3, namesuffix='_supp1', legend_fontsize=20, fontsize=20, rescale_y=False)"
   ]
  },
  {
   "cell_type": "code",
   "execution_count": null,
   "id": "ff2ee2ed-4c71-43fa-a94c-310e95cbf516",
   "metadata": {
    "tags": []
   },
   "outputs": [],
   "source": [
    "remain_row = tmp_plotter_vector[0][19:].reset_index(drop=True)\n",
    "plotshapsn.plot_fig2(remain_row, nrows=4, ncols=3, margin=3, namesuffix='_supp2', legend_fontsize=20, fontsize=20, rescale_y=False)"
   ]
  },
  {
   "cell_type": "code",
   "execution_count": null,
   "id": "e2491ea9-fbd9-4e01-98b5-d32dbfa58b67",
   "metadata": {
    "tags": []
   },
   "outputs": [],
   "source": [
    "#pd.options.display.float_format = '{:.7f}'.format\n",
    "#plotshapsn.gen_supp_table1_fit('linear').astype(float).round(7)"
   ]
  },
  {
   "cell_type": "code",
   "execution_count": null,
   "id": "8f0a52ab-65aa-442a-af32-277edeffe9c2",
   "metadata": {
    "tags": []
   },
   "outputs": [],
   "source": [
    "#plotshapsn.gen_supp_table1_fit('quadratic').astype(float).round(7)"
   ]
  },
  {
   "cell_type": "code",
   "execution_count": null,
   "id": "ad635b23-4cf5-4fc4-a116-35e406dfe47c",
   "metadata": {
    "tags": []
   },
   "outputs": [],
   "source": [
    "#plotshapsn.gen_supp_table1_fit('spline').round(7)"
   ]
  },
  {
   "cell_type": "code",
   "execution_count": null,
   "id": "eccecd2e-9283-448e-a2a7-d9f4e07715ed",
   "metadata": {
    "tags": []
   },
   "outputs": [],
   "source": [
    "outtable = plotshapsn.gen_fit_character()"
   ]
  },
  {
   "cell_type": "code",
   "execution_count": null,
   "id": "b2b4be9c-82fb-4f1e-b555-271287ef1cfc",
   "metadata": {
    "tags": []
   },
   "outputs": [],
   "source": [
    "outtable.columns"
   ]
  },
  {
   "cell_type": "code",
   "execution_count": null,
   "id": "57c86c76-a673-4167-987a-efcea484eb73",
   "metadata": {
    "tags": []
   },
   "outputs": [],
   "source": [
    "#plotshapsn.gen_supp_table1_fit('q')"
   ]
  },
  {
   "cell_type": "code",
   "execution_count": null,
   "id": "33f3c6eb-04c0-46bd-aee5-a30272a55896",
   "metadata": {
    "tags": []
   },
   "outputs": [],
   "source": []
  },
  {
   "cell_type": "code",
   "execution_count": null,
   "id": "67f7b1e7-ced6-474b-b651-ad4191cb994e",
   "metadata": {
    "tags": []
   },
   "outputs": [],
   "source": [
    "plotshapsn.plot_r2_rank()"
   ]
  },
  {
   "cell_type": "code",
   "execution_count": null,
   "id": "76f52c0a-8008-482a-8ad5-fa6725c9b172",
   "metadata": {
    "tags": []
   },
   "outputs": [],
   "source": [
    "plotshapsn.gen_fit_character()[[0, 'r.sq_spline', 'slope_auc']].sort_values('r.sq_spline')"
   ]
  },
  {
   "cell_type": "code",
   "execution_count": null,
   "id": "bedbb534-4e43-4115-8b45-7a93170c2efe",
   "metadata": {
    "tags": []
   },
   "outputs": [],
   "source": [
    "plotshapsn.combine_interaction_json()"
   ]
  },
  {
   "cell_type": "code",
   "execution_count": null,
   "id": "59d82ccc-5582-4822-94dc-ea99d5917967",
   "metadata": {
    "tags": []
   },
   "outputs": [],
   "source": [
    "top10f = plotshapsn.gen_interaction_shapalltmp(top=17)"
   ]
  },
  {
   "cell_type": "code",
   "execution_count": null,
   "id": "a5cb02ce-8355-46b2-83bc-6b2f12a4680b",
   "metadata": {
    "tags": []
   },
   "outputs": [],
   "source": [
    "top10f"
   ]
  },
  {
   "cell_type": "code",
   "execution_count": null,
   "id": "644877b7-8579-4d5b-9c7e-73468e3cac55",
   "metadata": {
    "tags": []
   },
   "outputs": [],
   "source": [
    "filepath = \"/home/hoyinchan/blue/program_data/AKI_CDM_PY/MetaRegression/\""
   ]
  },
  {
   "cell_type": "code",
   "execution_count": null,
   "id": "5c1c10af-414b-4408-a5a0-061e21814e45",
   "metadata": {
    "tags": []
   },
   "outputs": [],
   "source": [
    "importlib.reload(plotmeta)\n",
    "plotshapdi = plotmeta.plotmeta(order='double', interaction = 'interaction')\n",
    "plotshapdi.get_meta_data()\n",
    "# with open(filepath+\"gamalltmp_double_interaction.pkl\", \"rb\") as f:\n",
    "#        plotshap2 = pickle.load(f)\n",
    "# plotshapdi.copy(plotshap2)"
   ]
  },
  {
   "cell_type": "code",
   "execution_count": null,
   "id": "09637a21-28bd-4fd0-80fd-604af4e04e3a",
   "metadata": {
    "tags": []
   },
   "outputs": [],
   "source": [
    "#fig, ax = plotshapdi.plot_fig3_cont(ext_obj=plotshapsn, min_r2=0.1, plottype='subtract', numrow=15, best_plot=True, external_select=top10f, ncol=3, suffix='_contour_maxy', contour=True, figsize=(40,50), font_ratio=2, mode='max_y')\n",
    "#plotshapdi.r2_histogram_interaction(ext_obj=plotshapsn)\n",
    "#fig, ax = plotshapdi.plot_fig3_cont(ext_obj=plotshapsn, min_r2=0.1, plottype='interactonly', numrow=15, best_plot=True, external_select=top10f, ncol=3, suffix='_interactonly_maxy', figsize=(40,50), font_ratio=2, mode='max_max')\n",
    "#fig, ax = plotshapdi.plot_fig3_cont(ext_obj=plotshapsn, min_r2=0.1, plottype='addition', numrow=15, best_plot=True, external_select=top10f, ncol=3, suffix='_interacton_uni_maxy', figsize=(40,50), font_ratio=2, mode='max_y')\n",
    "#plotshapdi.gen_supp_table2_fit(ext_obj=plotshapsn, best_plot=True, external_select=top10f, mode='max_y')\n",
    "#fig,ax = plotshapdi.plot_fig3_cat(ext_obj=plotshapsn, numrow=8, figsize=(40,40), font_ratio=1.18, external_select=top10f, mode='max_y', mode2='nouni', suffix='_nouni')\n",
    "#fig,ax = plotshapdi.plot_fig3_cat(ext_obj=plotshapsn, numrow=8, figsize=(40,40), font_ratio=1.18, external_select=top10f, mode='max_y', mode2='all')\n",
    "fig,ax = plotshapdi.plot_fig3_cat(ext_obj=plotshapsn, numrow=8, figsize=(40,40), font_ratio=1.18, external_select=top10f, mode='max_y', mode2='interact', suffix='_interact')"
   ]
  },
  {
   "cell_type": "code",
   "execution_count": null,
   "id": "3a6bd8e4-6b5d-403a-bf48-5d96e20de9e9",
   "metadata": {
    "tags": []
   },
   "outputs": [],
   "source": [
    "#catf, all_out = plotshapdi.get_cat_interaction_stat()\n",
    "#catf\n",
    "#all_out['PX:CH:36415']\n",
    "#all_out['PX:CH:J2543']"
   ]
  },
  {
   "cell_type": "code",
   "execution_count": null,
   "id": "c8c6a116-30f9-4175-896f-8f29f1971fb8",
   "metadata": {
    "tags": []
   },
   "outputs": [],
   "source": [
    "plotshapdi.get_cat_interaction_feature()"
   ]
  },
  {
   "cell_type": "code",
   "execution_count": null,
   "id": "e00bfdc8-b40b-4fe5-96a2-e6925cd4762c",
   "metadata": {
    "tags": []
   },
   "outputs": [],
   "source": [
    "cin2"
   ]
  },
  {
   "cell_type": "code",
   "execution_count": null,
   "id": "0b65d185-688d-4a29-87d4-7e533093e9d3",
   "metadata": {},
   "outputs": [],
   "source": []
  },
  {
   "cell_type": "code",
   "execution_count": null,
   "id": "3d22cccb-0d36-4cde-8c7e-3216fec46375",
   "metadata": {},
   "outputs": [],
   "source": []
  },
  {
   "cell_type": "code",
   "execution_count": null,
   "id": "5b10b2ae-4167-426a-bfaf-222e83adb83c",
   "metadata": {},
   "outputs": [],
   "source": []
  }
 ],
 "metadata": {
  "kernelspec": {
   "display_name": "AKI_CDM_PY",
   "language": "python",
   "name": "aki_cdm_py"
  },
  "language_info": {
   "codemirror_mode": {
    "name": "ipython",
    "version": 3
   },
   "file_extension": ".py",
   "mimetype": "text/x-python",
   "name": "python",
   "nbconvert_exporter": "python",
   "pygments_lexer": "ipython3",
   "version": "3.6.15"
  }
 },
 "nbformat": 4,
 "nbformat_minor": 5
}
