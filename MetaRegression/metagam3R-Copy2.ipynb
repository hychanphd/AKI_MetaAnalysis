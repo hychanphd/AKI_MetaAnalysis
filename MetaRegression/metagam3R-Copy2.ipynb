{
 "cells": [
  {
   "cell_type": "code",
   "execution_count": null,
   "id": "d1b62793-6fc5-4206-96c9-b037ecac9846",
   "metadata": {
    "jupyter": {
     "outputs_hidden": true
    },
    "tags": []
   },
   "outputs": [],
   "source": [
    "library(arrow)\n",
    "library(dplyr)\n",
    "library(mgcv)\n",
    "library(tidyverse)\n",
    "library(data.table)\n",
    "library(metagam)\n",
    "library(latex2exp)\n",
    "library(eivtools)\n",
    "library(plotly)\n",
    "library(stats)\n",
    "library(plotrix)\n",
    "library(fishmethods)\n",
    "library(metafor)\n",
    "library(jsonlite)\n",
    "library(stringr)\n",
    "library(doParallel)\n",
    "library(parallel)\n",
    "library(MASS)\n",
    "library(tidygam)"
   ]
  },
  {
   "cell_type": "code",
   "execution_count": null,
   "id": "5362c074-174b-478b-9886-48f3945500da",
   "metadata": {
    "tags": []
   },
   "outputs": [],
   "source": [
    "path <- '/home/hoyinchan/blue/Data/data2021/data2021/shapalltmp.parquet'\n",
    "dfraw <- arrow::read_parquet(path)\n",
    "dfraw <- dfraw %>% dplyr::select(-'__index_level_0__')\n",
    "dfraw <- dfraw %>% dplyr::filter(site_d != 'MCRI') %>% dplyr::filter(site_m != 'MCRI')\n",
    "dfraw$site_d <- as.factor(dfraw$site_d)\n",
    "dfraw$site_m <- as.factor(dfraw$site_m)"
   ]
  },
  {
   "cell_type": "code",
   "execution_count": null,
   "id": "e8533fdf-2a0e-4c9d-b481-799185b2ed6a",
   "metadata": {
    "tags": []
   },
   "outputs": [],
   "source": [
    "targets <- unique(dfraw$Feature)"
   ]
  },
  {
   "cell_type": "code",
   "execution_count": null,
   "id": "a45c6fbf-fdc6-43fd-a0e5-90c037cd3cc0",
   "metadata": {
    "tags": []
   },
   "outputs": [],
   "source": [
    "#cattarget <- list(\"PX:CH:J1940\", \"PX:09:96.72\")\n",
    "cattarget <- names(df)[sapply(df, is.logical)]"
   ]
  },
  {
   "cell_type": "code",
   "execution_count": null,
   "id": "f078d47f-aa05-4653-b275-53dba7e7fdef",
   "metadata": {
    "tags": []
   },
   "outputs": [],
   "source": [
    "dfmean <- dfraw %>% dplyr::select(c('site_d', 'site_m', 'roc')) %>% distinct() %>% dplyr::select(c('roc'))\n",
    "dfmean <- mean(dfmean$roc)\n",
    "dfcount <- dfraw %>% dplyr::select(c('site_d', 'site_m', 'roc')) %>% group_by(site_d, site_m) %>% summarise(total_count=n(),.groups = 'drop')\n",
    "dfraw <- dfraw %>% left_join(dfcount, by=c('site_d', 'site_m'))\n",
    "\n",
    "#dfraw$rocw <- dfraw$roc/dfmean\n",
    "#dfraw$rocw <- 1/dfraw$roc2\n",
    "dfraw$rocw <- (1/dfraw$total_count)/mean(1/dfraw$total_count)"
   ]
  },
  {
   "cell_type": "code",
   "execution_count": null,
   "id": "dad128cd-aed8-4071-85ce-64d8d6c0d755",
   "metadata": {
    "tags": []
   },
   "outputs": [],
   "source": [
    "fit_proc <- function(eqn, dfraw2, target, type, weight=FALSE){\n",
    "    if (weight==FALSE){\n",
    "        xfit <- bam(eqn, data=dfraw2, method='REML')  \n",
    "    }else{\n",
    "        xfit <- bam(eqn, data=dfraw2, method='REML', weight=rocw)  \n",
    "    }\n",
    "    print(target)\n",
    "    print(type)\n",
    "    print(summary(xfit))\n",
    "    flush.console()\n",
    "    sxfit<-summary(xfit)\n",
    "    pxfit<-plot(xfit)\n",
    "    pxfit2<-termplot(xfit, data=dfraw2, se = TRUE, plot = FALSE)\n",
    "    for (i in 1:length(pxfit)){\n",
    "        pxfit[[i]]$raw=NULL    \n",
    "    }\n",
    "    return(list(target, type, sxfit, pxfit, pxfit2))\n",
    "}    "
   ]
  },
  {
   "cell_type": "code",
   "execution_count": null,
   "id": "9fafea4e-5b57-499a-9074-ce2169c2c3c9",
   "metadata": {
    "tags": []
   },
   "outputs": [],
   "source": [
    "gam_proc <- function(outputname, cattarget, targets, dfraw, returnf=FALSE, weight=FALSE, noAUC=FALSE) {\n",
    "    resultlist <- list()\n",
    "    for (target in targets){\n",
    "        print(target)\n",
    "        flush.console()\n",
    "        dfraw2 <- dfraw %>% filter(Feature==target)            \n",
    "        if (target %in% cattarget){\n",
    "            dfraw2$Name <- as.factor(dfraw2$Name)\n",
    "            if (noAUC==FALSE){\n",
    "                eqnl <- val ~ Name + s(site_d,bs=\"re\") + roc2\n",
    "                eqnq <- val ~ Name + s(site_d,bs=\"re\") + roc2\n",
    "                eqns <- val ~ Name + s(site_d,bs=\"re\") + roc2\n",
    "                eqnt <- val ~ Name + s(site_d,bs=\"re\") + roc2 \n",
    "                resultl<-fit_proc(eqnl, dfraw2, target, 'linear', weight=weight)\n",
    "                resultq<-fit_proc(eqnq, dfraw2, target, 'quadratic', weight=weight)\n",
    "                results<-fit_proc(eqns, dfraw2, target, 'spline', weight=weight)\n",
    "                resultt<-fit_proc(eqnt, dfraw2, target, 'spline_interaction', weight=weight)            \n",
    "                result<-list(resultl, resultq, results, resultt)\n",
    "            }else{\n",
    "                eqnl <- val ~ Name + s(site_d,bs=\"re\")\n",
    "                eqnq <- val ~ Name + s(site_d,bs=\"re\")\n",
    "                eqns <- val ~ Name + s(site_d,bs=\"re\")\n",
    "                eqnt <- val ~ Name + s(site_d,bs=\"re\") \n",
    "                resultl<-fit_proc(eqnl, dfraw2, target, 'linear', weight=weight)\n",
    "                resultq<-fit_proc(eqnq, dfraw2, target, 'quadratic', weight=weight)\n",
    "                results<-fit_proc(eqns, dfraw2, target, 'spline', weight=weight)\n",
    "                resultt<-fit_proc(eqnt, dfraw2, target, 'spline_interaction', weight=weight)            \n",
    "                result<-list(resultl, resultq, results, resultt)\n",
    "            }\n",
    "        }else{\n",
    "            if (noAUC==FALSE){\n",
    "                eqnl <- val ~ poly(Name,1,raw=TRUE) + s(site_d,bs=\"re\") + roc2\n",
    "                eqnq <- val ~ poly(Name,2,raw=TRUE) + s(site_d,bs=\"re\") + roc2\n",
    "                eqns <- val ~ s(Name,k=10,bs='cr') + s(site_d,bs=\"re\") + roc2\n",
    "                eqnt <- val ~ s(Name,k=10,bs='cr') + s(site_d,bs=\"re\") + roc2 + ti(Name,roc2,bs='cr')            \n",
    "                resultl<-fit_proc(eqnl, dfraw2, target, 'linear')\n",
    "                resultq<-fit_proc(eqnq, dfraw2, target, 'quadratic')\n",
    "                results<-fit_proc(eqns, dfraw2, target, 'spline')\n",
    "                resultt<-fit_proc(eqnt, dfraw2, target, 'spline_interaction')            \n",
    "                result<-list(resultl, resultq, results, resultt)\n",
    "            }else{\n",
    "                eqnl <- val ~ poly(Name,1,raw=TRUE) + s(site_d,bs=\"re\")\n",
    "                eqnq <- val ~ poly(Name,2,raw=TRUE) + s(site_d,bs=\"re\")\n",
    "                eqns <- val ~ s(Name,k=10,bs='cr') + s(site_d,bs=\"re\")\n",
    "                eqnt <- val ~ s(Name,k=10,bs='cr') + s(site_d,bs=\"re\") + ti(Name,roc2,bs='cr')            \n",
    "                resultl<-fit_proc(eqnl, dfraw2, target, 'linear', weight=weight)\n",
    "                resultq<-fit_proc(eqnq, dfraw2, target, 'quadratic', weight=weight)\n",
    "                results<-fit_proc(eqns, dfraw2, target, 'spline', weight=weight)\n",
    "                resultt<-fit_proc(eqnt, dfraw2, target, 'spline_interaction', weight=weight)            \n",
    "                result<-list(resultl, resultq, results, resultt)\n",
    "            }\n",
    "        }\n",
    "        resultlist <- append(resultlist, list(result))\n",
    "    }\n",
    "    if (returnf){\n",
    "        return(resultlist)\n",
    "    }\n",
    "    output_to_python <- toJSON(resultlist, force = TRUE, digit=30)\n",
    "    write(output_to_python, paste0(outputname))\n",
    "}"
   ]
  },
  {
   "cell_type": "code",
   "execution_count": null,
   "id": "b5ea9213-911b-4e0c-9c2a-9b60c57790c6",
   "metadata": {
    "tags": []
   },
   "outputs": [],
   "source": [
    "# outputname <- \"gamalltmp_single_AUC_populationweight.json\"\n",
    "# gam_proc(outputname, cattarget, targets, dfraw, weight=TRUE, noAUC=FALSE)"
   ]
  },
  {
   "cell_type": "code",
   "execution_count": null,
   "id": "c345688a-f01c-4712-8cab-22eb1cd4fdaf",
   "metadata": {
    "jupyter": {
     "outputs_hidden": true
    },
    "tags": []
   },
   "outputs": [],
   "source": [
    "outputname <- \"gamalltmp_single_noAUC.json\"\n",
    "gam_proc(outputname, cattarget, targets, dfraw, weight=FALSE, noAUC=TRUE)"
   ]
  },
  {
   "cell_type": "code",
   "execution_count": null,
   "id": "532ba05b-46ac-4af2-a657-3b0234f4ac4a",
   "metadata": {
    "jupyter": {
     "outputs_hidden": true
    },
    "tags": []
   },
   "outputs": [],
   "source": [
    "# outputname <- \"gamalltmp_single_weightAUC2.json\"\n",
    "# gam_proc(outputname, cattarget, targets, dfraw, weight=TRUE, noAUC=TRUE)"
   ]
  },
  {
   "cell_type": "code",
   "execution_count": null,
   "id": "1a18c721-77b6-4f23-9e82-4c001fd4bf38",
   "metadata": {
    "jupyter": {
     "outputs_hidden": true
    },
    "tags": []
   },
   "outputs": [],
   "source": [
    "# outputname <- \"gamalltmp_single_weightAUC2.json\"\n",
    "# gam_proc(outputname, cattarget, targets, dfraw, weight=TRUE, noAUC=TRUE)"
   ]
  },
  {
   "cell_type": "code",
   "execution_count": null,
   "id": "c887428e-1712-44cb-ba73-43deb9f46716",
   "metadata": {},
   "outputs": [],
   "source": [
    "# dfraw2 <- dfraw %>% filter(Feature=='LAB::2345-7(mg/dL)') \n",
    "# #eqnl <- val ~ poly(Name,1,raw=TRUE) + s(site_d,bs=\"re\") \n",
    "# eqnq <- val ~ poly(Name,2,raw=TRUE) + s(site_d,bs=\"re\") \n",
    "# #eqns <- val ~ s(Name,k=10,bs='cr') + s(site_d,bs=\"re\") \n",
    "# #eqnt <- val ~ s(Name,k=10,bs='cr') + s(site_d,bs=\"re\")  + ti(Name,roc2,bs='cr')            \n",
    "# resultq<-fit_proc(eqnq, dfraw2, 'AGE', 'quadratic')\n",
    "# #results<-fit_proc(eqns, dfraw2, 'AGE', 'spline')\n",
    "\n",
    "# toJSON(resultq, force = TRUE, digit=30)\n",
    "\n",
    "# summary(resultq)\n",
    "\n",
    "# ## 2D\n",
    "\n",
    "# dfraw2 <- dfraw %>% filter(Feature=='AGE')\n",
    "# eqnl <- val ~ s(Name,k=10,bs='cr') + s(site_d,bs=\"re\") + roc2\n",
    "# xfit <- bam(eqnl, data=dfraw2, method='REML') \n",
    "# plot(xfit)\n",
    "\n",
    "# dfraw2 <- dfraw %>% filter(Feature=='AGE')\n",
    "# eqnl <- val ~ s(Name,k=10,bs='cr') + s(site_d,bs=\"re\") + roc2 + s(site_d,roc2,bs=\"re\")\n",
    "# xfit <- bam(eqnl, data=dfraw2, method='REML') \n",
    "# plot(xfit)\n",
    "\n",
    "# summary(xfit)"
   ]
  },
  {
   "cell_type": "code",
   "execution_count": null,
   "id": "b4645009-ec4c-41d5-b925-f2dd76d18a2b",
   "metadata": {},
   "outputs": [],
   "source": [
    "# Try 2 feature interaction"
   ]
  },
  {
   "cell_type": "code",
   "execution_count": null,
   "id": "0e915120-8b26-43d3-b07a-f91afdbf8def",
   "metadata": {},
   "outputs": [],
   "source": [
    "target_combo = combn(targets, 2, simplify = FALSE)\n",
    "outputname <- \"gamalltmp_double_interaction_quadratic.json\"\n",
    "reversed_target_combo <- lapply(target_combo, rev)\n",
    "# Combine the original and reversed lists\n",
    "combined_list <- c(target_combo, reversed_target_combo)"
   ]
  },
  {
   "cell_type": "code",
   "execution_count": null,
   "id": "d292167c-8e2c-4b4d-a1b7-60b427e945a7",
   "metadata": {},
   "outputs": [],
   "source": [
    "gam_proc2d <- function(cattarget, dfraw, f1, f2, stg, fs, oversample, model_type, returnf = FALSE) {\n",
    "\n",
    "    f1str <- str_replace_all(f1,'::','_')\n",
    "    f1str <- str_replace_all(f1str,'/','per')\n",
    "    f1str <- str_replace_all(f1str,'\\\\(','_')\n",
    "    f1str <- str_replace_all(f1str,'\\\\)','_')\n",
    "    \n",
    "    f2str <- str_replace_all(f2,'::','_')\n",
    "    f2str <- str_replace_all(f2str,'/','per')\n",
    "    f2str <- str_replace_all(f2str,'\\\\(','_')\n",
    "    f2str <- str_replace_all(f2str,'\\\\)','_')    \n",
    "\n",
    "    if (!returnf){\n",
    "        filename <- paste0('/home/hoyinchan/blue/program_data/AKI_CDM_PY/MetaRegression/gam2d_tmp/','gam2d_tmp_noAUC_quad_','_',f1str,'_',f2str,'_',stg,'_',fs,'_',oversample,'_',model_type,'.json')\n",
    "        if (file.exists(filename)){\n",
    "            return()\n",
    "        }\n",
    "    }cd Meta\n",
    "    \n",
    "    eqn_cc <- val ~ s(Name.x,k=10,bs='cr') + s(Name.y,k=10,bs='cr') + s(site_d,bs=\"re\") + ti(Name.x,Name.y,k=10,bs='cr')\n",
    "    eqn_cd <- val ~ s(Name.x,k=10,bs='cr') + s(Name.x,by=Name.y,k=10,bs='cr') + Name.y + s(site_d,bs=\"re\")\n",
    "\n",
    "    eqn_cs <- val ~ s(Name.x,k=10,bs='cr') + s(site_d,bs=\"re\") + ti(Name.x,Name.y,k=10,bs='cr')\n",
    "    \n",
    "    if (f1 %in% cattarget){\n",
    "        return()\n",
    "    }\n",
    "\n",
    "    dfraw21 <- dfraw %>% filter(Feature==f1)\n",
    "    dfraw22 <- dfraw %>% filter(Feature==f2)\n",
    "    dfraw23 <- dfraw21 %>% inner_join(dfraw22, by=c('ID','site_d', 'site_m', 'roc', 'roc2'))\n",
    "    dfraw23 <- dfraw23 %>% mutate(val=val.x+val.y)\n",
    "#    dfraw23 <- dfraw23 %>% mutate(val=val.x)\n",
    "\n",
    "    if (!f1 %in% cattarget & f2 %in% cattarget){\n",
    "        eqn <- eqn_cd\n",
    "        dfraw23$Name.y <- as.factor(dfraw23$Name.y)\n",
    "    } else if (!f1 %in% cattarget & !f2 %in% cattarget){\n",
    "        eqn <- eqn_cc\n",
    "    } else {\n",
    "        return()\n",
    "    }\n",
    "\n",
    "    xfit <- bam(eqn, data=dfraw23, method='REML') \n",
    "    sxfit<-summary(xfit)\n",
    "    pxfit<-plot(xfit)\n",
    "    for (i in 1:length(pxfit)){\n",
    "        pxfit[[i]]$raw=NULL\n",
    "    }\n",
    "    result<-list(f1, f2, as.list(sxfit), pxfit)\n",
    "    if (returnf){\n",
    "        return(result)\n",
    "    }\n",
    "    output_to_python <- toJSON(result, force = TRUE, digit=30)\n",
    "    write(output_to_python, filename)    \n",
    "}"
   ]
  },
  {
   "cell_type": "code",
   "execution_count": null,
   "id": "90c4fa8a-7b0b-414c-bfa1-ee35d55e921b",
   "metadata": {
    "tags": []
   },
   "outputs": [],
   "source": [
    "#gam_proc2d(cattarget, dfraw, target_combo[[179]][1], target_combo[[179]][2], stg, fs, oversample, model_type)"
   ]
  },
  {
   "cell_type": "code",
   "execution_count": null,
   "id": "69616f09-41bb-4966-9af5-565038b96672",
   "metadata": {
    "jupyter": {
     "outputs_hidden": true
    },
    "tags": []
   },
   "outputs": [],
   "source": [
    "# Load libraries\n",
    "library(foreach)\n",
    "library(doParallel)\n",
    "\n",
    "# Register parallel backends\n",
    "numCores <- 10  # Or set a specific number\n",
    "registerDoParallel(cores=numCores)\n",
    "\n",
    "# Parallel foreach loop\n",
    "foreach(tar = iter(target_combo)) %dopar% {\n",
    "#for (tar in target_combo){\n",
    "    tryCatch({\n",
    "        print(paste(tar[1], tar[2], 'running'))\n",
    "        flush.console()\n",
    "        gam_proc2d(cattarget, dfraw, tar[1], tar[2], stg, fs, oversample, model_type)\n",
    "    },\n",
    "    error = function(cond) {}\n",
    "    )\n",
    "}  "
   ]
  },
  {
   "cell_type": "code",
   "execution_count": null,
   "id": "885149ee-edbb-4222-8300-e35bfe5621bd",
   "metadata": {},
   "outputs": [],
   "source": []
  },
  {
   "cell_type": "code",
   "execution_count": null,
   "id": "523f89e2-65b0-4e61-8c40-3f63384ba731",
   "metadata": {},
   "outputs": [],
   "source": [
    "print('done')"
   ]
  },
  {
   "cell_type": "code",
   "execution_count": null,
   "id": "20796728-229d-40a5-a193-2bf937a9d5ce",
   "metadata": {
    "jupyter": {
     "outputs_hidden": true
    },
    "tags": []
   },
   "outputs": [],
   "source": [
    "xxx <- gam_proc2d(cattarget, dfraw, \"LAB::4544-3(%)\", 'PX:CH:J1940', stg, fs, oversample, model_type, returnf=TRUE)"
   ]
  },
  {
   "cell_type": "code",
   "execution_count": null,
   "id": "d74151a0-7b79-4914-983c-8c5ea293eba6",
   "metadata": {
    "tags": []
   },
   "outputs": [],
   "source": [
    "f2 <- 'AGE'\n",
    "f1 <- 'SYSTOLIC'\n",
    "returnf=FALSE\n",
    "\n",
    "f1str <- str_replace_all(f1,'::','_')\n",
    "f1str <- str_replace_all(f1str,'/','per')\n",
    "f1str <- str_replace_all(f1str,'\\\\(','_')\n",
    "f1str <- str_replace_all(f1str,'\\\\)','_')\n",
    "\n",
    "f2str <- str_replace_all(f2,'::','_')\n",
    "f2str <- str_replace_all(f2str,'/','per')\n",
    "f2str <- str_replace_all(f2str,'\\\\(','_')\n",
    "f2str <- str_replace_all(f2str,'\\\\)','_')    \n",
    "\n",
    "if (!returnf){\n",
    "    filename <- paste0('/home/hoyinchan/blue/program_data/AKI_CDM_PY/MetaRegression/gam2d_tmp/','gam2d_tmp_noAUC_partial_','_',f1str,'_',f2str,'_',stg,'_',fs,'_',oversample,'_',model_type,'.json')\n",
    "    if (file.exists(filename)){\n",
    "        return()\n",
    "    }\n",
    "}\n",
    "\n",
    "eqn_cc <- val ~ s(Name.x,k=10,bs='cr') + s(site_d,bs=\"re\") + ti(Name.x,Name.y,k=10,bs='cr')\n",
    "eqn_cd <- val ~ s(Name.x,k=10,bs='cr') + s(Name.x,by=Name.y,k=10,bs='cr') + Name.y + s(site_d,bs=\"re\")\n",
    "\n",
    "if (f1 %in% cattarget & !f2 %in% cattarget){\n",
    "    tmp = f1\n",
    "    f1 = f2\n",
    "    f2 = tmp\n",
    "}\n",
    "\n",
    "dfraw21 <- dfraw %>% filter(Feature==f1)\n",
    "dfraw22 <- dfraw %>% filter(Feature==f2)\n",
    "dfraw23 <- dfraw21 %>% inner_join(dfraw22, by=c('ID','site_d', 'site_m', 'roc', 'roc2'))\n",
    "#dfraw23 <- dfraw23 %>% mutate(val=val.x+val.y)\n",
    "dfraw23 <- dfraw23 %>% mutate(val=val.x)\n",
    "\n",
    "if (!f1 %in% cattarget & f2 %in% cattarget){\n",
    "    eqn <- eqn_cd\n",
    "    dfraw23$Name.y <- as.factor(dfraw23$Name.y)\n",
    "} else if (!f1 %in% cattarget & !f2 %in% cattarget){\n",
    "    eqn <- eqn_cc\n",
    "#    eqn <- eqn_qcc        \n",
    "} else {\n",
    "    return()\n",
    "}\n",
    "\n",
    "xfit <- bam(eqn, data=dfraw23, method='REML') \n",
    "sxfit<-summary(xfit)\n",
    "pxfit<-plot(xfit)\n",
    "\n",
    "for (i in 1:length(pxfit)){\n",
    "    pxfit[[i]]$raw=NULL\n",
    "}\n",
    "result<-list(f1, f2, as.list(sxfit), pxfit)\n",
    "if (returnf){\n",
    "    return(result)\n",
    "}\n",
    "output_to_python <- toJSON(result, force = TRUE, digit=30)"
   ]
  },
  {
   "cell_type": "code",
   "execution_count": null,
   "id": "e7b8acba-d51b-41d9-b62a-7439e43a3fb2",
   "metadata": {
    "tags": []
   },
   "outputs": [],
   "source": [
    "sxfit"
   ]
  },
  {
   "cell_type": "code",
   "execution_count": null,
   "id": "2d73a35b-2d31-4587-9e20-e0eafbca0dda",
   "metadata": {},
   "outputs": [],
   "source": []
  }
 ],
 "metadata": {
  "kernelspec": {
   "display_name": "AKI_CDM_R",
   "language": "R",
   "name": "ir"
  },
  "language_info": {
   "codemirror_mode": "r",
   "file_extension": ".r",
   "mimetype": "text/x-r-source",
   "name": "R",
   "pygments_lexer": "r",
   "version": "4.1.3"
  }
 },
 "nbformat": 4,
 "nbformat_minor": 5
}
