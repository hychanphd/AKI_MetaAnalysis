{
 "cells": [
  {
   "cell_type": "code",
   "execution_count": null,
   "metadata": {},
   "outputs": [],
   "source": [
    "%config IPCompleter.greedy=True"
   ]
  },
  {
   "cell_type": "code",
   "execution_count": null,
   "metadata": {},
   "outputs": [],
   "source": [
    "import numpy as np\n",
    "import pandas as pd\n",
    "from scipy import stats, optimize\n",
    "import csv\n",
    "import matplotlib.pyplot as plt\n",
    "#import pymare\n",
    "import itertools\n",
    "from pprint import pprint\n",
    "import pickle\n",
    "from sklearn.linear_model import LinearRegression\n",
    "import statsmodels.api as sm"
   ]
  },
  {
   "cell_type": "code",
   "execution_count": null,
   "metadata": {},
   "outputs": [],
   "source": [
    "class Curve:\n",
    "    def __init__(self, inputFeature, inputGain, inputCover, inputFrequency, inputRank, inputX, inputY):\n",
    "        self.feature = inputFeature\n",
    "        self.gain = inputGain\n",
    "        self.cover = inputCover\n",
    "        self.frequency = inputFrequency\n",
    "        self.rank = inputRank\n",
    "        self.x = inputX\n",
    "        self.y = inputY\n",
    "\n",
    "    def getMinX(self):\n",
    "        return np.min(self.x)\n",
    "    \n",
    "    def getMaxX(self):\n",
    "        return np.max(self.x)\n",
    "        \n",
    "    def normalizeCurve(self, minJ, maxJ):\n",
    "        self.norX = (self.x-minJ)/(maxJ-minJ)*2-1\n",
    "        self.minX = minJ\n",
    "        self.maxX = maxJ\n",
    "\n",
    "    def fitLegendre(self, deg):\n",
    "        self.fit = np.polynomial.legendre.Legendre.fit(self.norX, self.y, deg, domain = [-1,1], full=True)\n",
    "        \n",
    "    def getFit(self):\n",
    "        return self.fit[0]    \n",
    "\n",
    "    def plotCurve(self, show=True):\n",
    "        [fx, fy] = self.fit[0].linspace()\n",
    "        fx = (fx+1)/2*(self.maxX-self.minX)+self.minX\n",
    "        fig = plt.figure(1)\n",
    "        plt.title(self.feature, fontsize='16')\t\n",
    "        plt.xlabel(\"X\",fontsize='13')\t\n",
    "        plt.ylabel(\"log(oddRatio)\",fontsize='13')\t\n",
    "\n",
    "        plt.scatter(self.x, self.y, label='o')\t\n",
    "        plt.plot(fx, fy)\t\n",
    "\n",
    "        plt.legend(['raw', 'fitted'],loc='best')\n",
    "        plt.grid()\t\n",
    "        plt.xlim(np.min(self.x), np.max(self.x))\n",
    "        plt.ylim(np.min([0, np.min(self.y)]), np.max(self.y))\n",
    "        if show:\n",
    "            plt.show()\n",
    "        self.plt = plt\n",
    "        return plt  \n",
    "        "
   ]
  },
  {
   "cell_type": "code",
   "execution_count": null,
   "metadata": {},
   "outputs": [],
   "source": [
    "class DiscreteCurve:\n",
    "    def __init__(self, inputFeature, inputGain, inputCover, inputFrequency, inputRank, inputX, inputY):\n",
    "        self.feature = inputFeature\n",
    "        self.gain = inputGain\n",
    "        self.cover = inputCover\n",
    "        self.frequency = inputFrequency\n",
    "        self.rank = inputRank\n",
    "        self.x = inputX\n",
    "        self.y = inputY\n",
    "    \n",
    "    def getY(self):\n",
    "        return self.y"
   ]
  },
  {
   "cell_type": "code",
   "execution_count": null,
   "metadata": {},
   "outputs": [],
   "source": [
    "class Site:\n",
    "    def __init__(self, inputSite, inputPredTask, inputFsType, inputauc):\n",
    "        self.curve = dict()\n",
    "        self.discreteCurve = dict()\n",
    "        self.site = inputSite        \n",
    "        self.pred_task = inputPredTask\n",
    "        self.fs_type = inputFsType\n",
    "        self.auc = inputauc\n",
    "        \n",
    "    def addCurve(self, inputFeature, inputGain, inputCover, inputFrequency, inputRank, inputX, inputY):\n",
    "        if len(inputX) > 2:\n",
    "            self.curve[inputFeature] = Curve(inputFeature, inputGain, inputCover, inputFrequency, inputRank, inputX, inputY)\n",
    "        else:\n",
    "            self.discreteCurve[inputFeature] = DiscreteCurve(inputFeature, inputGain, inputCover, inputFrequency, inputRank, inputX, inputY)\n",
    "            \n",
    "    def getCurve(self):\n",
    "        return self.curve\n",
    "\n",
    "    def getMetaCood(self, topFeatures):\n",
    "        cood = list()\n",
    "        for f in topFeatures:\n",
    "            if f in self.curve:\n",
    "                cood.extend(self.curve[f].getFit().coef)\n",
    "            else:\n",
    "                cood.extend(self.curve['AGE'].getFit().coef) #TODO\n",
    "        return np.array(cood)\n",
    "    \n",
    "    def getTopCurve(self, inputRank):\n",
    "        return [key for key, value in self.curve.items() if value.rank <= inputRank]"
   ]
  },
  {
   "cell_type": "code",
   "execution_count": null,
   "metadata": {},
   "outputs": [],
   "source": [
    "class Task:\n",
    "    def __init__(self, inputPredTask, inputFsType, inputGrp, inputOverallMeasure):\n",
    "        self.pred_task = inputPredTask\n",
    "        self.fs_type = inputFsType        \n",
    "        self.grp = inputGrp\n",
    "        self.overall_meas = inputOverallMeasure\n",
    "        self.value = dict()\n",
    "        self.var = dict()\n",
    "        \n",
    "    def addResult(self, inputResult):\n",
    "        self.result = inputResult\n",
    "        \n",
    "    def addValue(self, site, value, var):\n",
    "        self.value[site] = value\n",
    "        self.var[site] = var"
   ]
  },
  {
   "cell_type": "code",
   "execution_count": null,
   "metadata": {},
   "outputs": [],
   "source": [
    "# Define necessary parameters\n",
    "data = dict()\n",
    "taskList = dict()\n",
    "#siteList = ['KUMC2018', 'MCRI2018', 'MCW2018', 'MU2018', 'UNMC2018', 'UTSW2018']\n",
    "pred_task = ['stg01', 'stg02up', 'stg12up']\n",
    "fs_type = ['full', 'rm']\n",
    "grp = ['Overall']\n",
    "overall_meas = ['opt_npv5', 'opt_ppv', 'opt_sens', 'opt_spec', 'prauc1', 'roauc']\n",
    "basepath = './data/'\n",
    "\n",
    "topCurveNum = 1000\n",
    "deg = 5\n",
    "crit = 0.0"
   ]
  },
  {
   "cell_type": "code",
   "execution_count": null,
   "metadata": {},
   "outputs": [],
   "source": [
    "df = pd.read_pickle('../result.pkl')\n",
    "siteList = df['site'].unique()\n",
    "data = dict()\n",
    "pred_task = ['stg01']\n",
    "fs_type=['rm_scr_bun']\n",
    "for datakey in itertools.product(*[siteList, pred_task, fs_type]):\n",
    "    sdf = df[df['site']==datakey[0]]\n",
    "    inputauc = sdf['auc'].iloc[0]\n",
    "    tempsite = Site(datakey[0], datakey[1], datakey[2], inputauc)    \n",
    "    Features = sdf['Feature'].unique()\n",
    "    for inputFeature in Features:\n",
    "        cdf = sdf[sdf['Feature']==inputFeature]\n",
    "#        inputGain = cdf['Gain'].iloc[0]\n",
    "#        inputCover = cdf['Cover'].iloc[0]\n",
    "#        inputFrequency = cdf['Frequency'].iloc[0]\n",
    "        inputRank = cdf['Importances'].iloc[0]\n",
    "        inputGain = cdf['Importances'].iloc[0]\n",
    "        inputCover = cdf['Importances'].iloc[0]\n",
    "        inputFrequency = cdf['Importances'].iloc[0]    \n",
    "        \n",
    "        inputX = cdf['fval']\n",
    "        inputY = cdf['mean_val']\n",
    "        tempsite.addCurve(inputFeature, inputGain, inputCover, inputFrequency, inputRank, inputX, inputY)\n",
    "    data[datakey]=tempsite    "
   ]
  },
  {
   "cell_type": "code",
   "execution_count": null,
   "metadata": {},
   "outputs": [],
   "source": [
    "#Select only top N features from all site and consolidate into one list\n",
    "topFeatures = dict()\n",
    "topFeaturesSite = dict()\n",
    "for datakey in itertools.product(*[pred_task, fs_type]):\n",
    "    tempTopFeature = list()\n",
    "    for s in siteList:\n",
    "        tempTopFeature.extend(data[(s, datakey[0], datakey[1])].getTopCurve(topCurveNum))\n",
    "    topFeatures[datakey] = np.unique(np.array(tempTopFeature))"
   ]
  },
  {
   "cell_type": "code",
   "execution_count": null,
   "metadata": {},
   "outputs": [],
   "source": [
    "topFeatures[datakey] = ['AGE']\n",
    "topF = topFeatures[datakey]"
   ]
  },
  {
   "cell_type": "code",
   "execution_count": null,
   "metadata": {},
   "outputs": [],
   "source": [
    "# Check if all top features exists in all site (if not remove feature from consideration)\n",
    "# May use imputation technique in future\n",
    "missingfea = dict()\n",
    "for datakey in itertools.product(*[pred_task, fs_type]):\n",
    "    removefeadict = dict()\n",
    "    for tf in topFeatures[datakey]:\n",
    "        haskey = [tf in data[(s,datakey[0], datakey[1])].getCurve() for s in siteList]\n",
    "        if not all(haskey):\n",
    "            removefeadict[tf] = [siteList[i] for i in range(len(siteList)) if not haskey[i]]\n",
    "#            print(tf + \" is missing in \" + str(removefeadict[tf]) + \" for \" + str((datakey[0], datakey[1])))\n",
    "    missingfea[datakey] = removefeadict\n",
    "#    topFeatures[datakey] = [x for x in topFeatures[datakey] if not x in missingfea[datakey]]"
   ]
  },
  {
   "cell_type": "code",
   "execution_count": null,
   "metadata": {},
   "outputs": [],
   "source": [
    "# Normalize curve domain to [-1,1]\n",
    "for datakey in itertools.product(*[pred_task, fs_type]):\n",
    "    for tf in topFeatures[datakey]:\n",
    "        minJ = float('inf')\n",
    "        maxJ = float('-inf')\n",
    "        for k, siteData in data.items():\n",
    "            if (k[1],k[2]) == datakey and tf in siteData.getCurve():\n",
    "                minJ = min(minJ, siteData.getCurve()[tf].getMinX())\n",
    "                maxJ = max(maxJ, siteData.getCurve()[tf].getMaxX())\n",
    "        for k, siteData in data.items():\n",
    "            if (k[1],k[2]) == datakey and tf in siteData.getCurve():\n",
    "                siteData.getCurve()[tf].normalizeCurve(minJ, maxJ)"
   ]
  },
  {
   "cell_type": "code",
   "execution_count": null,
   "metadata": {},
   "outputs": [],
   "source": [
    "# Fit Legendre\n",
    "for k, siteData in data.items():\n",
    "    for tf in topFeatures[(k[1], k[2])]:\n",
    "        if tf in siteData.getCurve():\n",
    "            siteData.getCurve()[tf].fitLegendre(deg)"
   ]
  },
  {
   "cell_type": "code",
   "execution_count": null,
   "metadata": {
    "tags": []
   },
   "outputs": [],
   "source": [
    "# Display fitting\n",
    "for k in itertools.product(*[siteList, pred_task, fs_type]):\n",
    "    for tf in topFeatures[(k[1], k[2])]:\n",
    "        if tf in data[k].getCurve():\n",
    "            data[k].getCurve()[tf].plotCurve(show=False)\n",
    "#        print(data[k].getCurve()[tf].getFit().coef)        "
   ]
  },
  {
   "cell_type": "code",
   "execution_count": null,
   "metadata": {
    "tags": []
   },
   "outputs": [],
   "source": [
    "#topF = ['WT','BP_SYSTOLIC','BP_DIASTOLIC','AGE', '2160-0']\n",
    "#y = np.array([data[k].auc for k in itertools.product(*[siteList, pred_task, fs_type])])\n",
    "#v = np.array([1 for k in itertools.product(*[siteList, pred_task, fs_type])])\n",
    "XT = list()\n",
    "y = list()\n",
    "v = list()\n",
    "\n",
    "for k in itertools.product(*[siteList, pred_task, fs_type]):\n",
    "    xt = data[k].getMetaCood(topF)\n",
    "    if not any(np.isnan(xt)):\n",
    "        XT.append(xt)\n",
    "        y.append(data[k].auc)\n",
    "        v.append(1)\n",
    "X = np.vstack(tuple(XT))\n",
    "\n",
    "#result = pymare.meta_regression(y, v, X, add_intercept=True, method='REML')\n",
    "#reg = LinearRegression().fit(X, y)\n",
    "model = sm.OLS(y,X)\n",
    "results = model.fit()\n",
    "results.summary()"
   ]
  },
  {
   "cell_type": "code",
   "execution_count": null,
   "metadata": {},
   "outputs": [],
   "source": [
    "# Meta Regression\n",
    "for k, t in taskList.items():\n",
    "    y = np.array([t.value[s] for s in siteList])\n",
    "    v = np.array([t.var[s] for s in siteList])\n",
    "    X = data[(siteList[0], t.pred_task, t.fs_type)].getMetaCood(topFeatures[(t.pred_task, t.fs_type)])  \n",
    "    for i in range(1, len(siteList)):\n",
    "        X = np.vstack((X, data[(siteList[i], t.pred_task, t.fs_type)].getMetaCood(topFeatures[(t.pred_task, t.fs_type)])))\n",
    "\n",
    "    t.result = pymare.meta_regression(y, v, X, add_intercept=True, method='REML')"
   ]
  },
  {
   "cell_type": "code",
   "execution_count": null,
   "metadata": {},
   "outputs": [],
   "source": []
  },
  {
   "cell_type": "code",
   "execution_count": null,
   "metadata": {},
   "outputs": [],
   "source": []
  }
 ],
 "metadata": {
  "kernelspec": {
   "display_name": "Python 3 (ipykernel)",
   "language": "python",
   "name": "python3"
  },
  "language_info": {
   "codemirror_mode": {
    "name": "ipython",
    "version": 3
   },
   "file_extension": ".py",
   "mimetype": "text/x-python",
   "name": "python",
   "nbconvert_exporter": "python",
   "pygments_lexer": "ipython3",
   "version": "3.10.12"
  }
 },
 "nbformat": 4,
 "nbformat_minor": 4
}
