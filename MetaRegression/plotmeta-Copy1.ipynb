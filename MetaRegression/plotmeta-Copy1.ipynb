{
 "cells": [
  {
   "cell_type": "code",
   "execution_count": null,
   "id": "173eed1f-a4c8-4973-8f7d-05d47226a732",
   "metadata": {
    "tags": []
   },
   "outputs": [],
   "source": [
    "import pandas as pd\n",
    "import xgboost as xgb\n",
    "import numpy as np\n",
    "import sklearn\n",
    "from sklearn.preprocessing import OneHotEncoder\n",
    "from sklearn.impute import SimpleImputer\n",
    "from imblearn.over_sampling import SMOTE\n",
    "from imblearn.pipeline import make_pipeline\n",
    "from imblearn.combine import SMOTEENN\n",
    "from imblearn.over_sampling import SMOTENC\n",
    "import matplotlib.pyplot as plt\n",
    "from PIL import Image\n",
    "from scipy.interpolate import BSpline, make_interp_spline, interp1d\n",
    "# import rpy2.robjects as robjects\n",
    "# from rpy2.robjects.packages import importr\n",
    "import csv\n",
    "from dfply import *\n",
    "from xgboost import XGBClassifier\n",
    "import itertools\n",
    "import os\n",
    "from sklearn.model_selection import RandomizedSearchCV, GridSearchCV\n",
    "from sklearn.metrics import roc_auc_score\n",
    "from sklearn.model_selection import StratifiedKFold\n",
    "import time\n",
    "import pickle\n",
    "import math\n",
    "import matplotlib.pyplot as plt\n",
    "from glob import glob\n",
    "\n",
    "import importlib\n",
    "\n",
    "import time\n",
    "import requests\n",
    "\n",
    "from joblib import Parallel, delayed\n",
    "from joblib import parallel_backend\n",
    "import seaborn as sns\n",
    "\n",
    "import generateSHAP\n",
    "import plotmeta\n",
    "\n",
    "from scipy import interpolate\n",
    "import statsmodels.api as sm\n",
    "from os.path import exists\n",
    "import matplotlib as mpl\n",
    "import os\n",
    "import json\n",
    "\n",
    "import dask as dd\n",
    "\n",
    "import dataframe_image"
   ]
  },
  {
   "cell_type": "code",
   "execution_count": null,
   "id": "f17265a8-9933-4747-a26e-a3245197b88d",
   "metadata": {
    "tags": []
   },
   "outputs": [],
   "source": [
    "loinctranslate = pd.read_csv('/home/hoyinchan/code/AKI_CDM_PY/loinc/LoincTable/Loinc.csv', low_memory=False)"
   ]
  },
  {
   "cell_type": "code",
   "execution_count": null,
   "id": "3dd18c48-f829-4910-836e-eb2f113e61eb",
   "metadata": {
    "tags": []
   },
   "outputs": [],
   "source": [
    "importlib.reload(plotmeta)\n",
    "plotshapsn = plotmeta.plotmeta(order='single', interaction = 'nointeraction')\n",
    "with open(\"/home/hoyinchan/blue/program_data/AKI_CDM_PY/MetaRegression/gamalltmp_single.pkl\", \"rb\") as f:\n",
    "    plotshap2 = pickle.load(f)\n",
    "plotshapsn.copy(plotshap2)\n",
    "plotshapsn.get_meta_data(filename=\"gamalltmp_single_noAUC.json\")\n",
    "plotshapsn.load_raw_data()"
   ]
  },
  {
   "cell_type": "code",
   "execution_count": null,
   "id": "1d1a5f86-9ef9-463b-8c3c-3c8bb0466f4f",
   "metadata": {
    "tags": []
   },
   "outputs": [],
   "source": [
    "plotshapsn.calculate_local_fit_all()"
   ]
  },
  {
   "cell_type": "code",
   "execution_count": null,
   "id": "e40277b4-e003-49e2-a115-de5f59d47d69",
   "metadata": {
    "tags": []
   },
   "outputs": [],
   "source": [
    "plotshapsn.plot_meta1(\"LAB::LG6373-7(mmol/L)\")"
   ]
  },
  {
   "cell_type": "code",
   "execution_count": null,
   "id": "fe8a5556-3def-40e0-adc9-290b2f10e89d",
   "metadata": {
    "tags": []
   },
   "outputs": [],
   "source": []
  },
  {
   "cell_type": "code",
   "execution_count": null,
   "id": "28d2e6a0-0a64-4a14-83f3-e89d77493476",
   "metadata": {
    "tags": []
   },
   "outputs": [],
   "source": []
  },
  {
   "cell_type": "code",
   "execution_count": null,
   "id": "9978d446-7125-4925-8123-30299f0c3e53",
   "metadata": {
    "tags": []
   },
   "outputs": [],
   "source": []
  },
  {
   "cell_type": "code",
   "execution_count": null,
   "id": "a8e051bd-837d-4942-ba49-821ddfc1faa0",
   "metadata": {
    "tags": []
   },
   "outputs": [],
   "source": []
  },
  {
   "cell_type": "code",
   "execution_count": null,
   "id": "644877b7-8579-4d5b-9c7e-73468e3cac55",
   "metadata": {
    "tags": []
   },
   "outputs": [],
   "source": [
    "filepath = \"/home/hoyinchan/blue/program_data/AKI_CDM_PY/MetaRegression/\""
   ]
  },
  {
   "cell_type": "code",
   "execution_count": null,
   "id": "5c1c10af-414b-4408-a5a0-061e21814e45",
   "metadata": {
    "tags": []
   },
   "outputs": [],
   "source": [
    "importlib.reload(plotmeta)\n",
    "plotshapdi = plotmeta.plotmeta(order='double', interaction = 'interaction')\n",
    "plotshapdi.get_meta_data()\n",
    "# with open(filepath+\"gamalltmp_double_interaction.pkl\", \"rb\") as f:\n",
    "#        plotshap2 = pickle.load(f)\n",
    "# plotshapdi.copy(plotshap2)"
   ]
  },
  {
   "cell_type": "code",
   "execution_count": null,
   "id": "f3162c80-3ebc-4c7b-b823-2b0b2b93a286",
   "metadata": {
    "tags": []
   },
   "outputs": [],
   "source": [
    "#plotshapdi.combine_interaction_json(path='/home/hoyinchan/blue/program_data/AKI_CDM_PY/MetaRegression/gam2d_tmp/')"
   ]
  },
  {
   "cell_type": "code",
   "execution_count": null,
   "id": "71128671-7f76-48f5-8e37-9635274e96ae",
   "metadata": {
    "jupyter": {
     "outputs_hidden": true
    },
    "tags": []
   },
   "outputs": [],
   "source": [
    "#plotshapdi.plot_fig3_cat(ext_obj=plotshapsn, numrow=8)"
   ]
  },
  {
   "cell_type": "code",
   "execution_count": null,
   "id": "7fd6426b-12de-44dd-b344-80a8f9d72d8a",
   "metadata": {
    "tags": []
   },
   "outputs": [],
   "source": [
    "#plotshapsn.plot_r2_rank()"
   ]
  },
  {
   "cell_type": "code",
   "execution_count": null,
   "id": "929ac8bd-1510-4d52-b8e3-270638a74673",
   "metadata": {
    "tags": []
   },
   "outputs": [],
   "source": [
    "plotshapdi.gamdata_fitdata['double_interaction']['p.coeff']"
   ]
  },
  {
   "cell_type": "code",
   "execution_count": null,
   "id": "f1437886-cb3a-4df9-9281-1ad7b54e1419",
   "metadata": {
    "jupyter": {
     "outputs_hidden": true
    },
    "tags": []
   },
   "outputs": [],
   "source": [
    "#plotshapdi.plot_fig3_cont(ext_obj=plotshapsn, numrow=24, plottype='addition')"
   ]
  },
  {
   "cell_type": "code",
   "execution_count": null,
   "id": "c5d6500e-f7d5-4eb0-a39c-b1e791c18ad9",
   "metadata": {
    "jupyter": {
     "outputs_hidden": true
    },
    "tags": []
   },
   "outputs": [],
   "source": [
    "#plotshapdi.plot_fig3_cont(ext_obj=plotshapsn, numrow=24, plottype='interactonly')"
   ]
  },
  {
   "cell_type": "code",
   "execution_count": null,
   "id": "60542a0e-3767-473c-8002-cb13be2b8bb4",
   "metadata": {
    "jupyter": {
     "outputs_hidden": true
    },
    "tags": []
   },
   "outputs": [],
   "source": [
    "#plotshapdi.plot_fig3_cont(ext_obj=plotshapsn, numrow=24, plottype='full')"
   ]
  },
  {
   "cell_type": "code",
   "execution_count": null,
   "id": "2b6beb1f-aa51-4c5f-85b3-5713b12e7420",
   "metadata": {
    "jupyter": {
     "outputs_hidden": true
    },
    "tags": []
   },
   "outputs": [],
   "source": [
    "#plotshapdi.plot_fig3_cont(ext_obj=plotshapsn, numrow=24, plottype='subtract')"
   ]
  },
  {
   "cell_type": "code",
   "execution_count": null,
   "id": "c4225fcf-d0ec-4be1-836c-2089e8b2d698",
   "metadata": {
    "jupyter": {
     "outputs_hidden": true
    },
    "tags": []
   },
   "outputs": [],
   "source": [
    "plot_fig3_cat(int_obj=plotshapdi, ext_obj=plotshapsn, numrow=24)\n",
    "\n",
    "from matplotlib.lines import Line2D"
   ]
  },
  {
   "cell_type": "code",
   "execution_count": null,
   "id": "4e9572c7-10da-46ee-b250-39e01139a088",
   "metadata": {
    "tags": []
   },
   "outputs": [],
   "source": [
    "numrow=24\n",
    "\n",
    "cin2 = plotshapdi.get_interaction_stat(ext_obj)\n",
    "cin2 = cin2[~cin2['0_x'].str.contains('PX')]\n",
    "cin2 = cin2[~cin2[-1].str.contains('PX')]\n",
    "#cin2['r.sq_diff'] = cin2['r.sq']-cin2['r.sq_max_y']\n",
    "cin2 = cin2[cin2['r.sq_diff']>0]\n",
    "cin2 = cin2.sort_values('r.sq_max', ascending=False)\n",
    "cin2 = cin2.groupby(-1).head(numrow).reset_index()\n",
    "cin3a = cin2.sort_values(['r.sq_diff'], ascending=False).groupby([-1]).head(1).reset_index(drop=True).sort_values(['r.sq_diff'], ascending=False)\n",
    "cin3b = cin2.sort_values(['r.sq_diff'], ascending=False).groupby(['0_x']).head(1).reset_index(drop=True).sort_values(['r.sq_diff'], ascending=False)\n",
    "\n",
    "cin3b = cin3b.drop(-1,axis=1)\n",
    "# Rename columns: _x to _tmp, _y to _x, and _tmp to _y\n",
    "cin3b.columns = [col.replace('_x', '_tmp') for col in cin3b.columns]\n",
    "cin3b.columns = [col.replace('_y', '_x') for col in cin3b.columns]\n",
    "cin3b.columns = [col.replace('_tmp', '_y') for col in cin3b.columns]\n",
    "# Rename the -1 column to '0_x'\n",
    "cin3b[-1] = cin3b['0_y'].copy()\n",
    "\n",
    "cin3 = pd.concat([cin3a,cin3b]).sort_values(['r.sq_diff'], ascending=False).drop_duplicates().head(numrow).reset_index(drop=True)\n",
    "cin3 = cin3.sort_values('r.sq_diff',ascending=False).reset_index(drop=True)\n",
    "\n",
    "# Create data table\n",
    "cin3_table = cin3[[-1,'0_x','r.sq','r.sq_max_y','r.sq_diff']]\n",
    "cin3_table.columns = ['Primary', 'Secondary', 'Multi r.sq', 'Uni r.sq', 'r.sq Diff']\n",
    "\n",
    "cin3_table['Primary'] = cin3_table['Primary'].apply(plotshapdi.extra_translate_omop)\n",
    "cin3_table['Secondary'] = cin3_table['Secondary'].apply(plotshapdi.extra_translate_omop)"
   ]
  },
  {
   "cell_type": "code",
   "execution_count": null,
   "id": "96edf699-db24-4ec4-b331-61a1ec53ddcc",
   "metadata": {
    "jupyter": {
     "outputs_hidden": true
    },
    "tags": []
   },
   "outputs": [],
   "source": [
    "cin3_table"
   ]
  },
  {
   "cell_type": "code",
   "execution_count": null,
   "id": "048b2b88-3763-4c2a-9134-4ed169ea145b",
   "metadata": {
    "tags": []
   },
   "outputs": [],
   "source": [
    "df = cin3_table\n",
    "outputname='Double'\n",
    "\n",
    "# Create a new Document\n",
    "doc = Document()\n",
    "table = doc.add_table(rows=1, cols=len(cin3_table.columns))  # Adjusted for the DataFrame structure\n",
    "\n",
    "# Insert the column names with center alignment and bold\n",
    "hdr_cells = table.rows[0].cells\n",
    "for i, column in enumerate(cin3_table.columns):\n",
    "    hdr_cells[i].text = column\n",
    "    hdr_cells[i].paragraphs[0].runs[0].font.bold = True\n",
    "    hdr_cells[i].paragraphs[0].alignment = WD_ALIGN_PARAGRAPH.CENTER\n",
    "\n",
    "# Insert the row data with center alignment for text and formatting for floats\n",
    "for _, row in cin3_table.iterrows():\n",
    "    row_cells = table.add_row().cells\n",
    "    for i, value in enumerate(row):\n",
    "        if isinstance(value, float):\n",
    "            # Formatting float values with 6 decimal places\n",
    "            row_cells[i].text = f\"{value:.6f}\"\n",
    "        else:\n",
    "            # Directly inserting text values\n",
    "            row_cells[i].text = value\n",
    "        row_cells[i].paragraphs[0].alignment = WD_ALIGN_PARAGRAPH.CENTER\n",
    "\n",
    "doc.save(outputname+'.docx') "
   ]
  },
  {
   "cell_type": "code",
   "execution_count": null,
   "id": "3e8348a3-8107-4842-a5d8-88941c78e8a5",
   "metadata": {
    "tags": []
   },
   "outputs": [],
   "source": []
  },
  {
   "cell_type": "code",
   "execution_count": null,
   "id": "d4eb44c8-488b-4bd3-b14a-4bca935495fa",
   "metadata": {
    "tags": []
   },
   "outputs": [],
   "source": []
  },
  {
   "cell_type": "code",
   "execution_count": null,
   "id": "e7e8510b-9e4f-4d0b-990f-4af333568dd1",
   "metadata": {
    "tags": []
   },
   "outputs": [],
   "source": []
  },
  {
   "cell_type": "code",
   "execution_count": null,
   "id": "f393749f-17cb-4e66-a49b-3b69d3a4f0d3",
   "metadata": {
    "tags": []
   },
   "outputs": [],
   "source": []
  },
  {
   "cell_type": "code",
   "execution_count": null,
   "id": "a5626baf-3d32-450f-9f0f-d92052739a20",
   "metadata": {
    "tags": []
   },
   "outputs": [],
   "source": []
  },
  {
   "cell_type": "code",
   "execution_count": null,
   "id": "394e168b-754b-41b9-a468-1ed25dfafd1b",
   "metadata": {
    "tags": []
   },
   "outputs": [],
   "source": []
  },
  {
   "cell_type": "code",
   "execution_count": null,
   "id": "a94d3623-1549-4749-b69d-399f2c4e9331",
   "metadata": {
    "tags": []
   },
   "outputs": [],
   "source": []
  },
  {
   "cell_type": "code",
   "execution_count": null,
   "id": "5011509f-579e-46e3-9547-8c7bf4772d38",
   "metadata": {
    "tags": []
   },
   "outputs": [],
   "source": []
  },
  {
   "cell_type": "code",
   "execution_count": null,
   "id": "7dd2a690-2fb1-4762-a185-384f88ac6396",
   "metadata": {
    "tags": []
   },
   "outputs": [],
   "source": []
  },
  {
   "cell_type": "code",
   "execution_count": null,
   "id": "0f23008f-cb0a-420b-9347-3fc15be78d3b",
   "metadata": {
    "tags": []
   },
   "outputs": [],
   "source": []
  },
  {
   "cell_type": "code",
   "execution_count": null,
   "id": "aeff2755-b9d3-44fd-a5b8-a504273d6fdf",
   "metadata": {},
   "outputs": [],
   "source": []
  }
 ],
 "metadata": {
  "kernelspec": {
   "display_name": "AKI_CDM_PY",
   "language": "python",
   "name": "aki_cdm_py"
  },
  "language_info": {
   "codemirror_mode": {
    "name": "ipython",
    "version": 3
   },
   "file_extension": ".py",
   "mimetype": "text/x-python",
   "name": "python",
   "nbconvert_exporter": "python",
   "pygments_lexer": "ipython3",
   "version": "3.6.15"
  }
 },
 "nbformat": 4,
 "nbformat_minor": 5
}
