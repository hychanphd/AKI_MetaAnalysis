{
 "cells": [
  {
   "cell_type": "code",
   "execution_count": null,
   "id": "a075e972-55ba-4dc9-9f1e-4844bde24be9",
   "metadata": {},
   "outputs": [],
   "source": [
    "import pandas as pd\n",
    "import xgboost as xgb\n",
    "import numpy as np\n",
    "import sklearn\n",
    "from sklearn.preprocessing import OneHotEncoder\n",
    "from sklearn.impute import SimpleImputer\n",
    "from imblearn.over_sampling import SMOTE\n",
    "from imblearn.pipeline import make_pipeline\n",
    "from imblearn.combine import SMOTEENN\n",
    "from imblearn.over_sampling import SMOTENC\n",
    "import matplotlib.pyplot as plt\n",
    "from PIL import Image\n",
    "from scipy.interpolate import BSpline, make_interp_spline, interp1d\n",
    "# import rpy2.robjects as robjects\n",
    "# from rpy2.robjects.packages import importr\n",
    "import csv\n",
    "from dfply import *\n",
    "from xgboost import XGBClassifier\n",
    "import itertools\n",
    "import os\n",
    "from sklearn.model_selection import RandomizedSearchCV, GridSearchCV\n",
    "from sklearn.metrics import roc_auc_score\n",
    "from sklearn.model_selection import StratifiedKFold\n",
    "import time\n",
    "import pickle\n",
    "import math\n",
    "import matplotlib.pyplot as plt\n",
    "from glob import glob\n",
    "\n",
    "import importlib\n",
    "\n",
    "import time\n",
    "import requests\n",
    "\n",
    "from joblib import Parallel, delayed\n",
    "from joblib import parallel_backend\n",
    "import seaborn as sns\n",
    "\n",
    "import generateSHAP\n",
    "import plotmeta\n",
    "\n",
    "from scipy import interpolate\n",
    "import statsmodels.api as sm\n",
    "from os.path import exists\n"
   ]
  },
  {
   "cell_type": "code",
   "execution_count": null,
   "id": "c7b92fa5-20bc-4b57-8c73-fb4c020adc7b",
   "metadata": {},
   "outputs": [],
   "source": [
    "datafolder = '/home/hoyinchan/blue/Data/data2021/data2021/'\n",
    "home_directory = \"/home/hoyinchan/code/AKI_CDM_PY/\""
   ]
  },
  {
   "cell_type": "code",
   "execution_count": null,
   "id": "799e1a64-6f40-4344-9713-4c056c5cacfb",
   "metadata": {},
   "outputs": [],
   "source": [
    "sites = ['MCRI', 'MCW', 'UIOWA', 'UMHC', 'UNMC', 'UofU', 'UTHSCSA', 'UTSW']\n",
    "sites_s = ['UPITT']\n",
    "stgs = [\"stg01\"]\n",
    "fss =  ['nofs']\n",
    "# stgs = [\"stg23\"]\n",
    "# fss =  ['nofs']\n",
    "oversamples = ['raw']\n",
    "model_types = ['catd']\n",
    "\n",
    "\n",
    "filename = 'shap_'+stgs[0]+'_'+fss[0]+'.pkl'"
   ]
  },
  {
   "cell_type": "code",
   "execution_count": null,
   "id": "450b9f8e-ba44-43ea-a1af-788f16b34eaf",
   "metadata": {},
   "outputs": [],
   "source": [
    "import generateSHAP\n",
    "importlib.reload(generateSHAP)\n",
    "shap3 = generateSHAP.generateSHAP()\n",
    "\n",
    "with open(datafolder+filename, \"rb\") as f:\n",
    "    shap2 = pickle.load(f)\n",
    "shap3.copy(shap2)"
   ]
  },
  {
   "cell_type": "code",
   "execution_count": null,
   "id": "ade121f3-8e40-4eb6-83e1-5dad90f8829a",
   "metadata": {},
   "outputs": [],
   "source": [
    "shap3.save()"
   ]
  },
  {
   "cell_type": "code",
   "execution_count": null,
   "id": "f07693e9-04b8-4f5e-8a16-4e13d6b4c169",
   "metadata": {
    "jupyter": {
     "outputs_hidden": true
    },
    "tags": []
   },
   "outputs": [],
   "source": [
    "shap3.cross_roc_all(n_jobs=34)"
   ]
  },
  {
   "cell_type": "code",
   "execution_count": null,
   "id": "aaea7289-ff90-4f09-a89e-2ac227f78b6a",
   "metadata": {},
   "outputs": [],
   "source": [
    "shap3.roc_heat_map()"
   ]
  },
  {
   "cell_type": "code",
   "execution_count": null,
   "id": "f363e956-3aae-47a7-ab40-d40f1d6c3ac6",
   "metadata": {},
   "outputs": [],
   "source": [
    "site_m = 'MCRI'\n",
    "site_d = 'UMHC'\n",
    "stg = \"stg01\"\n",
    "fs =  'nofs'\n",
    "# stgs = [\"stg23\"]\n",
    "# fss =  ['nofs']\n",
    "oversample = 'raw'\n",
    "model_type = 'catd'\n",
    "year=3000"
   ]
  },
  {
   "cell_type": "code",
   "execution_count": null,
   "id": "78d2b32e-ec8c-403a-86fc-096fdfffa5a6",
   "metadata": {},
   "outputs": [],
   "source": [
    "shap3.save_cross_roc()"
   ]
  },
  {
   "cell_type": "code",
   "execution_count": null,
   "id": "c655ac68-979c-42eb-a41a-41478e25ad44",
   "metadata": {},
   "outputs": [],
   "source": [
    "sites = shap3.sites"
   ]
  },
  {
   "cell_type": "code",
   "execution_count": null,
   "id": "1d4572c8-3182-4af8-8631-86d3067f4d7e",
   "metadata": {},
   "outputs": [],
   "source": [
    "sites = ['MCRI', 'MCW', 'UIOWA', 'UMHC', 'UNMC', 'UofU', 'UTHSCSA', 'UTSW', 'IUR', 'UPITT', 'KUMC']"
   ]
  },
  {
   "cell_type": "code",
   "execution_count": null,
   "id": "d01c6cb8-fb97-41a4-aec1-586129cf74ae",
   "metadata": {
    "tags": []
   },
   "outputs": [],
   "source": [
    "Parallel(n_jobs=30)(delayed(shap3.cross_roc)(site_m, site_d, 3000, stg, fs, oversample, model_type) \n",
    "                                             for site_m in sites for site_d in sites for stg in shap3.stgs \n",
    "                                             for fs in shap3.fss for oversample in shap3.oversamples for model_type in shap3.model_types) "
   ]
  },
  {
   "cell_type": "code",
   "execution_count": null,
   "id": "20104daf-a549-48d6-b901-934f6bab0779",
   "metadata": {},
   "outputs": [],
   "source": []
  }
 ],
 "metadata": {
  "kernelspec": {
   "display_name": "AKI_CDM_PY",
   "language": "python",
   "name": "aki_cdm_py"
  },
  "language_info": {
   "codemirror_mode": {
    "name": "ipython",
    "version": 3
   },
   "file_extension": ".py",
   "mimetype": "text/x-python",
   "name": "python",
   "nbconvert_exporter": "python",
   "pygments_lexer": "ipython3",
   "version": "3.6.15"
  }
 },
 "nbformat": 4,
 "nbformat_minor": 5
}
