{
 "cells": [
  {
   "cell_type": "code",
   "execution_count": null,
   "id": "940a90e3-cef2-45af-8a7d-44bbbd73c892",
   "metadata": {
    "tags": []
   },
   "outputs": [],
   "source": [
    "# import python packages\n",
    "import warnings\n",
    "warnings.filterwarnings(\"ignore\")\n",
    "\n",
    "import pandas as pd\n",
    "import numpy as np\n",
    "import pickle\n",
    "import os\n",
    "import importlib\n",
    "from scipy.stats import chi2_contingency\n",
    "from statsmodels.stats.multitest import multipletests\n",
    "import matplotlib.pyplot as plt\n",
    "import itertools\n",
    "from scipy import stats"
   ]
  },
  {
   "cell_type": "code",
   "execution_count": null,
   "id": "f46e3d80-332a-4053-85ad-f69aea8270ed",
   "metadata": {
    "tags": []
   },
   "outputs": [],
   "source": [
    "site_list = ['KUMC', 'UTSW', 'MCW', 'UofU', 'UIOWA', 'UMHC', 'UPITT', 'MCRI', 'UTHSCSA', 'UNMC']\n",
    "ext_list = ['csv','dsv', 'dsv', 'csv', 'csv', 'csv', 'csv', 'csv', 'csv']\n",
    "sep_list = [',','|', '|', '|', ',', ',', ',', ',', '|']\n",
    "encoding_list = ['utf-8','utf-8','utf-8','utf-8','utf-8','utf-8', 'windows-1252', 'utf-8','utf-16'] \n",
    "ct = 0\n",
    "\n",
    "daily_average = True\n",
    "\n",
    "\n",
    "site = site_list[ct]\n",
    "ext = ext_list[ct]\n",
    "sep = sep_list[ct]\n",
    "encoding = encoding_list[ct]\n",
    "path = []\n",
    "\n",
    "if site != 'KUMC':\n",
    "    rawpath = '/blue/yonghui.wu/hoyinchan/Data/data2022raw/' + site + '/raw/'\n",
    "else: \n",
    "    rawpath = '/blue/yonghui.wu/hoyinchan/Data/data2022raw/' + site + '_ORCALE/raw/'\n",
    "path.append(rawpath)\n",
    "path.append('/blue/yonghui.wu/hoyinchan/Data/data2022/' + site + '/')\n",
    "pdata = '/blue/yonghui.wu/hoyinchan/Data/data2022/'+ site \n",
    "site"
   ]
  },
  {
   "cell_type": "markdown",
   "id": "681ce242-1a01-4ee3-bf08-49b0837fc0f5",
   "metadata": {
    "tags": []
   },
   "source": [
    "# Comment on Baseline Def"
   ]
  },
  {
   "cell_type": "code",
   "execution_count": null,
   "id": "923ba62a-89d8-4e21-93c5-d5cdb217f26e",
   "metadata": {
    "tags": []
   },
   "outputs": [],
   "source": [
    "df_counts = list()\n",
    "for site in site_list:\n",
    "    print(site)\n",
    "    df_base = pd.read_pickle(pdata+'/df_base00.pkl')\n",
    "    df_base = df_base.drop(['SPECIMEN_DATE', 'RESULT_NUM'],axis=1)\n",
    "    df_base = df_base.drop_duplicates()\n",
    "    df_count = df_base.copy()\n",
    "    df_count['ONE_WEEK_SCR'] = df_count['ONE_WEEK_SCR'] == df_count['SERUM_CREAT_BASE']\n",
    "    df_count['ADMISSION_SCR'] = (df_count['ADMISSION_SCR'] == df_count['SERUM_CREAT_BASE']) & ~df_count['ONE_WEEK_SCR']\n",
    "    df_count['ONE_YEAR_SCR'] = (df_count['ONE_YEAR_SCR'] == df_count['SERUM_CREAT_BASE'])  & ~df_count['ONE_WEEK_SCR']\n",
    "    df_count['BASELINE_NO_MDRD'] = (df_count['BASELINE_NO_MDRD'] == df_count['SERUM_CREAT_BASE']) & ~df_count['ONE_WEEK_SCR'] & ~df_count['ONE_YEAR_SCR']\n",
    "    df_count = df_count[['ADMISSION_SCR', 'ONE_WEEK_SCR', 'ONE_YEAR_SCR', 'BASELINE_NO_MDRD']]\n",
    "    df_count = pd.DataFrame(df_count.sum()/df_count.shape[0])\n",
    "    df_count.columns = [site]\n",
    "    df_counts.append(df_count)\n",
    "\n",
    "df_countT = pd.concat(df_counts,axis=1)\n",
    "\n",
    "df_countT"
   ]
  },
  {
   "cell_type": "markdown",
   "id": "a65ba973-0d18-432b-bf6e-d7de1952fe7e",
   "metadata": {},
   "source": [
    "# Comment on Glucose"
   ]
  },
  {
   "cell_type": "code",
   "execution_count": null,
   "id": "4d314dc3-4ff5-4b42-af03-18e17236c0bc",
   "metadata": {
    "tags": []
   },
   "outputs": [],
   "source": [
    "import utils_function\n",
    "site = 'UTSW'\n",
    "configs_variables = utils_function.read_config(site)\n",
    "site, datafolder, home_directory = utils_function.get_commons(configs_variables)\n",
    "\n",
    "lab = pd.read_parquet(datafolder+site+'/p0_lab_g_'+site+'.parquet')\n",
    "lab_diabetes = lab[lab['LAB_LOINC'] == 'LG51070-7']\n",
    "lab_diabetes.to_parquet(datafolder+site+'/p0_lab_diabetes_'+site+'.parquet')"
   ]
  },
  {
   "cell_type": "markdown",
   "id": "0bcc6301-dee5-4af6-b04c-002da6d0d18d",
   "metadata": {
    "tags": []
   },
   "source": [
    "## Get A1c"
   ]
  },
  {
   "cell_type": "code",
   "execution_count": null,
   "id": "2ae062fb-b004-405d-a08f-1e72ebdf1baa",
   "metadata": {
    "tags": []
   },
   "outputs": [],
   "source": [
    "from concurrent.futures import ThreadPoolExecutor\n",
    "\n",
    "def process_site(site):\n",
    "    try:\n",
    "        configs_variables = utils_function.read_config(site)\n",
    "        site, datafolder, home_directory = utils_function.get_commons(configs_variables)\n",
    "\n",
    "        # Load lab data for the site\n",
    "        lab = pd.read_parquet(f\"{datafolder}{site}/p0_lab_g_{site}.parquet\")\n",
    "        \n",
    "        # Filter for diabetes-related lab results\n",
    "        lab_diabetes = lab[lab['LAB_LOINC'] == 'LG51070-7']\n",
    "        \n",
    "        # Save the filtered data back to a parquet file\n",
    "        lab_diabetes.to_parquet(f\"{datafolder}{site}/p0_lab_diabetes_{site}.parquet\")\n",
    "        \n",
    "        print(f\"Processing completed for site: {site}\")\n",
    "    except Exception as e:\n",
    "        print(f\"Error processing site {site}: {e}\")\n",
    "\n",
    "# List of sites to process\n",
    "site_list = ['KUMC', 'UTSW', 'MCW', 'UofU', 'UIOWA', 'UMHC', 'UPITT', 'UTHSCSA', 'UNMC']\n",
    "\n",
    "# Run the processing in parallel\n",
    "if __name__ == \"__main__\":\n",
    "    with ThreadPoolExecutor() as executor:\n",
    "        executor.map(process_site, site_list)"
   ]
  },
  {
   "cell_type": "markdown",
   "id": "7e69e069-2366-41ad-9608-2c83581758ce",
   "metadata": {
    "tags": []
   },
   "source": [
    "## Get A1c to shap"
   ]
  },
  {
   "cell_type": "code",
   "execution_count": null,
   "id": "515cb0e3-01c9-4392-819c-62dd27165a60",
   "metadata": {
    "tags": []
   },
   "outputs": [],
   "source": [
    "shaps = pd.read_parquet('/home/hoyinchan/blue/Data/data2022/shapalltmp.parquet')\n",
    "shaps = shaps[['site_m', 'site_d', 'LAB::LG7967-5(mg/dL)_Names', 'LAB::LG7967-5(mg/dL)_vals']]"
   ]
  },
  {
   "cell_type": "code",
   "execution_count": null,
   "id": "0088348b-a1a8-4afc-87f1-e08c3519f305",
   "metadata": {
    "tags": []
   },
   "outputs": [],
   "source": [
    "shaps"
   ]
  },
  {
   "cell_type": "code",
   "execution_count": null,
   "id": "776080ce-c1b8-40e0-b901-2b404284de07",
   "metadata": {
    "tags": []
   },
   "outputs": [],
   "source": [
    "lab_diabetes = list()\n",
    "for site in site_list:\n",
    "    try:\n",
    "        lab_diabete = pd.read_parquet(f\"{datafolder}{site}/p0_lab_diabetes_{site}.parquet\")\n",
    "        lab_diabete['site'] = site\n",
    "        lab_diabete['PATID'] = lab_diabete['PATID'].astype(str)\n",
    "        lab_diabete['ONSETS_ENCOUNTERID'] = lab_diabete['ONSETS_ENCOUNTERID'].astype(str)        \n",
    "        lab_diabetes.append(lab_diabete)\n",
    "    except Exception as e:\n",
    "        print(f\"Error processing site {site}: {e}\")\n",
    "\n",
    "lab_diabetesT = pd.concat(lab_diabetes)\n",
    "lab_diabetesT.index = lab_diabetesT['PATID'].astype(str)+'_'+lab_diabetesT['ONSETS_ENCOUNTERID'].astype(str)\n",
    "\n",
    "onsets_diabetes = list()\n",
    "for site in site_list:\n",
    "    try:\n",
    "        onsets_diabete = pd.read_pickle(f\"{datafolder}{site}/p0_onset_{site}.pkl\")\n",
    "        onsets_diabete['site'] = site\n",
    "        onsets_diabete['PATID'] = onsets_diabete['PATID'].astype(str)\n",
    "        onsets_diabete['ENCOUNTERID'] = onsets_diabete['ENCOUNTERID'].astype(str)        \n",
    "        onsets_diabetes.append(onsets_diabete)\n",
    "    except Exception as e:\n",
    "        print(f\"Error processing site {site}: {e}\")\n",
    "\n",
    "onsets_diabetesT = pd.concat(onsets_diabetes)"
   ]
  },
  {
   "cell_type": "code",
   "execution_count": null,
   "id": "bef58106-2ee5-4547-ba4a-f2c98ea08470",
   "metadata": {
    "tags": []
   },
   "outputs": [],
   "source": [
    "lab_diabetesT = lab_diabetesT[['PATID', 'site', 'RESULT_NUM', 'SPECIMEN_DATE']]\n",
    "onsets_diabetesT = onsets_diabetesT[['PATID', 'site', 'ENCOUNTERID', 'DISCHARGE_DATE']]\n",
    "lab_diabetesT = lab_diabetesT.merge(onsets_diabetesT, on = ['PATID', 'site'], how='left')\n",
    "lab_diabetesT = lab_diabetesT[lab_diabetesT['SPECIMEN_DATE'] <= lab_diabetesT['DISCHARGE_DATE']]\n",
    "lab_diabetesT  = lab_diabetesT.sort_values('SPECIMEN_DATE', ascending=False).groupby(['PATID', 'site']).first().reset_index()\n",
    "lab_diabetesT = lab_diabetesT[['PATID', 'ENCOUNTERID', 'RESULT_NUM', 'site']]\n",
    "lab_diabetesT.index = lab_diabetesT['PATID']+'_'+lab_diabetesT['ENCOUNTERID']"
   ]
  },
  {
   "cell_type": "code",
   "execution_count": null,
   "id": "e38c1e67-a5bd-495f-aca3-206a12939f1f",
   "metadata": {
    "tags": []
   },
   "outputs": [],
   "source": [
    "lab_diabetesT2 = lab_diabetesT.merge(shaps, left_index=True, right_index=True, how='outer')"
   ]
  },
  {
   "cell_type": "code",
   "execution_count": null,
   "id": "9158c507-c79d-43c1-8acc-94c1b334b855",
   "metadata": {
    "tags": []
   },
   "outputs": [],
   "source": [
    "lab_diabetesT2 = lab_diabetesT2[lab_diabetesT2['site']==lab_diabetesT2['site_d']]"
   ]
  },
  {
   "cell_type": "code",
   "execution_count": null,
   "id": "9e8c61d9-3b2c-496d-8c9a-ccd3b128808e",
   "metadata": {
    "tags": []
   },
   "outputs": [],
   "source": [
    "lab_diabetesT2p = lab_diabetesT2[['RESULT_NUM', 'LAB::LG7967-5(mg/dL)_vals']]"
   ]
  },
  {
   "cell_type": "code",
   "execution_count": null,
   "id": "973a4f14-1c2c-4d87-b073-7e105a1a3d5c",
   "metadata": {
    "tags": []
   },
   "outputs": [],
   "source": [
    "from scipy.stats import sem\n",
    "# Define bins for RESULT_NUM intervals\n",
    "lab_diabetesT2p['RESULT_NUM_bin'] = pd.cut(lab_diabetesT2p['RESULT_NUM'], \n",
    "                                           bins=np.arange(lab_diabetesT2p['RESULT_NUM'].min(), \n",
    "                                                          lab_diabetesT2p['RESULT_NUM'].max() + 0.1, \n",
    "                                                          0.1), \n",
    "                                           include_lowest=True)\n",
    "\n",
    "# Group by the bins and calculate statistics\n",
    "grouped = lab_diabetesT2p.groupby('RESULT_NUM_bin')['LAB::LG7967-5(mg/dL)_vals']\n",
    "mean_vals = grouped.mean()\n",
    "std_vals = grouped.std()\n",
    "count_vals = grouped.count()\n",
    "sem_vals = grouped.apply(sem)  # Standard Error of Mean\n",
    "ci_95 = sem_vals * 1.96  # Approximation for 95% confidence interval\n",
    "\n",
    "# Extract bin centers for plotting\n",
    "bin_centers = [interval.mid for interval in mean_vals.index.categories]\n",
    "\n",
    "# Plot the results\n",
    "plt.figure(figsize=(10, 6))\n",
    "plt.errorbar(bin_centers, mean_vals, yerr=ci_95, fmt='o', capsize=5, label='95% CI')\n",
    "plt.fill_between(bin_centers, mean_vals - ci_95, mean_vals + ci_95, alpha=0.2, label='95% CI range')\n",
    "plt.xlabel('RESULT_NUM (binned, 0.1 intervals)')\n",
    "plt.ylabel('LAB::LG7967-5 (mg/dL)')\n",
    "plt.title('Mean and 95% CI of LAB::LG7967-5(mg/dL) vs RESULT_NUM')\n",
    "plt.legend()\n",
    "plt.grid()\n",
    "plt.show()"
   ]
  },
  {
   "cell_type": "code",
   "execution_count": null,
   "id": "54e925d9-1185-4f48-b152-8bbc1c01905f",
   "metadata": {
    "tags": []
   },
   "outputs": [],
   "source": [
    "from scipy.stats import sem\n",
    "# Define bins for RESULT_NUM intervals\n",
    "lab_diabetesT2p['RESULT_NUM_bin'] = pd.cut(lab_diabetesT2p['RESULT_NUM'], \n",
    "                                           bins=np.arange(lab_diabetesT2p['RESULT_NUM'].min(), \n",
    "                                                          lab_diabetesT2p['RESULT_NUM'].max() + 0.1, \n",
    "                                                          0.1), \n",
    "                                           include_lowest=True)\n",
    "\n",
    "# Group by the bins and calculate statistics\n",
    "grouped = lab_diabetesT2p.groupby('RESULT_NUM_bin')['LAB::LG7967-5(mg/dL)_vals']\n",
    "mean_vals = grouped.mean()\n",
    "std_vals = grouped.std()\n",
    "count_vals = grouped.count()\n",
    "sem_vals = grouped.apply(sem)  # Standard Error of Mean\n",
    "ci_95 = sem_vals * 1.96  # Approximation for 95% confidence interval\n",
    "\n",
    "# Extract bin centers for plotting\n",
    "bin_centers = [interval.mid for interval in mean_vals.index.categories]\n",
    "\n",
    "# Plot the results\n",
    "plt.figure(figsize=(10, 6))\n",
    "plt.errorbar(bin_centers, mean_vals, yerr=ci_95, fmt='o', capsize=5, label='95% CI')\n",
    "plt.fill_between(bin_centers, mean_vals - ci_95, mean_vals + ci_95, alpha=0.2, label='95% CI range23')\n",
    "plt.xlabel('A1C [%]')\n",
    "plt.ylabel('SHAP of Glucose')\n",
    "#plt.legend()\n",
    "plt.grid()\n",
    "plt.xlim(0, 20) \n",
    "plt.axvline(x=5.7, color='red', linestyle='--', label='Threshold 5.7')\n",
    "plt.axvline(x=6.4, color='blue', linestyle='--', label='Threshold 6.4')\n",
    "\n",
    "plt.savefig(f\"a1c.svg\", bbox_inches='tight')\n",
    "plt.show()\n",
    "\n"
   ]
  },
  {
   "cell_type": "markdown",
   "id": "e21bbfd0-8a4f-4a5c-8750-f36d4a1d8ce1",
   "metadata": {},
   "source": [
    "## "
   ]
  }
 ],
 "metadata": {
  "kernelspec": {
   "display_name": "AKI_PM_TEMPORAL_MOEA",
   "language": "python",
   "name": "aki_pm_temporal_moea"
  },
  "language_info": {
   "codemirror_mode": {
    "name": "ipython",
    "version": 3
   },
   "file_extension": ".py",
   "mimetype": "text/x-python",
   "name": "python",
   "nbconvert_exporter": "python",
   "pygments_lexer": "ipython3",
   "version": "3.11.5"
  }
 },
 "nbformat": 4,
 "nbformat_minor": 5
}
