{
 "cells": [
  {
   "cell_type": "code",
   "execution_count": null,
   "id": "ba3d5f3c-8b8f-4482-83e6-121ec63c1661",
   "metadata": {
    "tags": []
   },
   "outputs": [],
   "source": [
    "import pandas as pd\n",
    "import utils_function\n",
    "import numpy as np"
   ]
  },
  {
   "cell_type": "code",
   "execution_count": null,
   "id": "c1fd4ca7-f52f-4a67-a0f5-4ccde1bb092b",
   "metadata": {
    "tags": []
   },
   "outputs": [],
   "source": [
    "site_list = ['KUMC', 'UTSW', 'MCW', 'UofU', 'UIOWA', 'UMHC', 'UPITT', 'UTHSCSA', 'UNMC']"
   ]
  },
  {
   "cell_type": "code",
   "execution_count": null,
   "id": "50ae786e-a45d-46e5-a5d9-b10b58a0fab5",
   "metadata": {
    "tags": []
   },
   "outputs": [],
   "source": [
    "site_list = ['KUMC']"
   ]
  },
  {
   "cell_type": "code",
   "execution_count": null,
   "id": "d56af498-8a98-4619-9963-0d7f12122130",
   "metadata": {
    "tags": []
   },
   "outputs": [],
   "source": [
    "for site in site_list:\n",
    "    configs_variables = utils_function.read_config(site)\n",
    "    datafolder = configs_variables['datafolder']\n",
    "    home_directory = configs_variables['home_directory']  \n",
    "\n",
    "    basefolder = \"/blue/yonghui.wu/hoyinchan/Data/Qi_code_and_data/\"\n",
    "\n",
    "    onset_new = pd.read_pickle(basefolder+\"onset_all_\"+site+\".pkl\")\n",
    "\n",
    "    onset_new['PATID'] = onset_new['PATID'].astype(str)\n",
    "    onset_new['ENCOUNTERID'] = onset_new['ENCOUNTERID'].astype(str)   \n",
    "    onset_new['AKI_STAGE']=onset_new['AKI_INIT_STG']\n",
    "    onset_new = onset_new.drop_duplicates()\n",
    "    onset_new['SINCE_ADMIT'] = onset_new['ONSET_SINCE_ADMIT']\n",
    "    onset_new.to_parquet(datafolder+site+'/p0_onset_'+site+'.parquet') "
   ]
  },
  {
   "cell_type": "code",
   "execution_count": null,
   "id": "995f234b-f428-437c-9263-1f03cfcb9a52",
   "metadata": {
    "tags": []
   },
   "outputs": [],
   "source": [
    "def count_AKI(onset, new_name, cohort_table=None):\n",
    "    cohort_table2 = onset[['ENCOUNTERID', 'AKI_STAGE']].groupby('AKI_STAGE').count()\n",
    "    cohort_table2.rename(columns={'ENCOUNTERID': new_name}, inplace=True)\n",
    "    # Add a row for the total of stages 1.0, 2.0, and 3.0\n",
    "    total = cohort_table2.loc[1.0:3.0].sum()\n",
    "    cohort_table2.loc['Total_AKI'] = total  \n",
    "    cohort_table2.loc['Total'] = onset.shape[0]\n",
    "    if cohort_table is not None:\n",
    "        cohort_table2 = pd.concat([cohort_table, cohort_table2], axis=1)\n",
    "    return cohort_table2"
   ]
  },
  {
   "cell_type": "code",
   "execution_count": null,
   "id": "d3bee803-a877-4983-8536-f650b735076a",
   "metadata": {
    "tags": []
   },
   "outputs": [],
   "source": [
    "cohort_table = count_AKI(onset_new, 'Raw_count')"
   ]
  },
  {
   "cell_type": "markdown",
   "id": "cd8f8d97-6bb7-47d6-b15f-8b1f1c06c84f",
   "metadata": {
    "tags": []
   },
   "source": [
    "## Create Flow Chart for baseline estimation"
   ]
  },
  {
   "cell_type": "code",
   "execution_count": null,
   "id": "c6b5252e-e401-4d1e-88dd-bbaf32ccb15c",
   "metadata": {
    "tags": []
   },
   "outputs": [],
   "source": [
    "flow_chart_dict = {'Total Encounters': 2034996,\n",
    " 'Total Patients': 1121851,\n",
    " 'Enc. with 1w SCr': 547952,\n",
    " 'Enc. without 1w SCr': 1487044,\n",
    " 'Enc. with 1y SCr': 895473,\n",
    " 'Enc. without 1y SCr': 591571,\n",
    " 'Non-CKD Enc. without 1y SCr': 578293,\n",
    " 'CKD Enc. without 1y SCr': 13278,\n",
    " 'Total Onset Enc.:': 414622,\n",
    " 'Total Onset Patients:': 315950,\n",
    " 'AKI1 Enc.': 270999,\n",
    " 'AKI2 Enc.': 88052,\n",
    " 'AKI3 Enc.': 55571}\n",
    "\n",
    "total_encounters = flow_chart_dict['Total Encounters']\n",
    "percentage_dict = {\n",
    "    key: np.round((value / total_encounters * 100),1) if isinstance(value, (int, float)) else value\n",
    "    for key, value in flow_chart_dict.items()\n",
    "}\n",
    "percentage_dict['Total Encounters']=100\n",
    "\n",
    "import schemdraw\n",
    "from schemdraw import flow\n",
    "\n",
    "arl = 2\n",
    "with schemdraw.Drawing() as d:\n",
    "    d.config(fontsize=14, unit=0.5)\n",
    "    # Start terminal\n",
    "    d += flow.Terminal().label('Estimate SCr baseline').fill('#2296dd')\n",
    "    # Arrow to decision\n",
    "    d += flow.Arrow().length(arl).label(f\"Encounter number\\nn={flow_chart_dict['Total Encounters']:,} ({percentage_dict['Total Encounters']}%)\")\n",
    "\n",
    "    # Decision box\n",
    "    decision = flow.Decision(E='Yes', S='No', w=5, h=3).label('SCr\\nwithin 7 days prior\\nto Admission?').fill('#EEE811')\n",
    "    d += decision  # Add the decision to the drawing    \n",
    "    # Arrow and square on east\n",
    "    d += flow.Arrow().right().at(decision.E).length(arl*2.5).label(f\"n={flow_chart_dict['Enc. with 1w SCr']:,} ({percentage_dict['Enc. with 1w SCr']}%)\", loc='bottom')\n",
    "    d += flow.Process(w=7.5, h=2).label('min(most recent SCr records\\nwith in 7 days prior to admission,\\nadmission 24h SCr value)').fill('#48b780')    \n",
    "    # Arrow and square on south\n",
    "    d += flow.Arrow().down().at(decision.S).length(arl).label(f\"n={flow_chart_dict['Enc. without 1w SCr']:,} ({percentage_dict['Enc. without 1w SCr']}%)\")\n",
    "\n",
    "    # Decision box\n",
    "    decision = flow.Decision(E='Yes', S='No', w=5, h=3).label('SCr\\n7-365 days prior to\\nAdmission?').fill('#EEE811')\n",
    "    d += decision  # Add the decision to the drawing    \n",
    "    # Arrow and square on east\n",
    "    d += flow.Arrow().right().at(decision.E).length(arl*2.5).label(f\"n={flow_chart_dict['Enc. with 1y SCr']:,} ({percentage_dict['Enc. with 1y SCr']}%)\", loc='bottom')\n",
    "    d += flow.Process(w=7.5, h=2).label('min(mean(most recent SCr records\\nwith in 7 days prior to admission),\\nadmission 24h SCr value)').fill('#48b780')    \n",
    "    # Arrow and square on south\n",
    "    d += flow.Arrow().down().at(decision.S).length(arl).label(f\"n={flow_chart_dict['Enc. without 1y SCr']:,} ({percentage_dict['Enc. without 1y SCr']}%)\")\n",
    "\n",
    "    # Decision box\n",
    "    decision = flow.Decision(E='Yes', S='No', w=5, h=3).label('CKD History?').fill('#EEE811')\n",
    "    d += decision  # Add the decision to the drawing    \n",
    "    # Arrow and square on east\n",
    "    d += flow.Arrow().right().at(decision.E).length(arl*2.5).fill('#EEE811').label(f\"n={flow_chart_dict['Non-CKD Enc. without 1y SCr']:,} ({percentage_dict['Non-CKD Enc. without 1y SCr']}%)\", loc='bottom')\n",
    "    d += flow.Process(w=7.5, h=2).label('minSCr estimated by MDRD\\nwith 75 mL/min/1.73m\\u00b2 eGFR,\\nadmission 24h SCr value)').fill('#48b780')    \n",
    "    # Arrow and square on south\n",
    "    d += flow.Arrow().down().at(decision.S).length(arl).label(f\"n={flow_chart_dict['CKD Enc. without 1y SCr']:,} ({percentage_dict['CKD Enc. without 1y SCr']}%)\")\n",
    "    \n",
    "    d += flow.Process(w=7, h=2.5).label('Drop encounters with CKD\\nhistory if no SCr\\nmeasurements can be found\\nfrom the last year.').fill('#48b780')\n",
    "    \n",
    "    # Show the drawing\n",
    "    d.draw()\n",
    "    d.save('scrbaseline.svg')"
   ]
  },
  {
   "cell_type": "code",
   "execution_count": null,
   "id": "a766f3ee-7f72-4539-be6b-d3ce3bdf5d82",
   "metadata": {
    "tags": []
   },
   "outputs": [],
   "source": []
  },
  {
   "cell_type": "markdown",
   "id": "a57a76c6-27c2-496d-b8bd-213db6712ade",
   "metadata": {},
   "source": [
    "## Feature counts"
   ]
  },
  {
   "cell_type": "code",
   "execution_count": null,
   "id": "2d405342-6eeb-4ff9-bfcf-6a61975aec28",
   "metadata": {
    "tags": []
   },
   "outputs": [],
   "source": [
    "sites = ['UTHSCSA', 'UTSW', 'MCW', 'UofU', 'UIOWA', 'UMHC', 'UNMC', 'KUMC', 'UPITT']\n",
    "configs_variables_list = [utils_function.read_config(site) for site in sites]"
   ]
  },
  {
   "cell_type": "code",
   "execution_count": null,
   "id": "2acc9ef5-fbfd-4ab5-9312-18a1b3066acb",
   "metadata": {
    "tags": []
   },
   "outputs": [],
   "source": [
    "# Get before and after drop nan\n",
    "all_columns_pre = dict()\n",
    "all_columns_drop_nan = dict()\n",
    "\n",
    "for configs_variables in configs_variables_list:\n",
    "    \n",
    "    site, datafolder, home_directory = utils_function.get_commons(configs_variables)    \n",
    "    \n",
    "    print(site)\n",
    "\n",
    "    stg = configs_variables['stg']\n",
    "    threshold = float(configs_variables['threshold_for_too_much_nan'])\n",
    "\n",
    "    onset = pd.read_parquet(configs_variables['datafolder']+configs_variables['site']+'/p0_onset_'+configs_variables['site']+'.parquet')\n",
    "    years = list(pd.to_datetime(onset['ADMIT_DATE']).dt.year.unique())    \n",
    "    bt_list = list()\n",
    "\n",
    "    columns_agg = list()\n",
    "    \n",
    "    for year in years:\n",
    "        # try:\n",
    "        data = pd.read_pickle(datafolder+site+'/bt3_'+site+'_'+str(year)+'.pkl')\n",
    "        columns_agg.extend(list(data.columns))\n",
    "    \n",
    "    bt_all = pd.read_pickle(datafolder+site+'/bt3pos_'+site+'_'+stg+'_3000.pkl')\n",
    "    \n",
    "    all_columns_pre[site] = np.unique(columns_agg)\n",
    "    all_columns_drop_nan[site] = list(bt_all.columns)"
   ]
  },
  {
   "cell_type": "code",
   "execution_count": null,
   "id": "434c10db-6486-4c87-9a77-25af2c272dfe",
   "metadata": {
    "tags": []
   },
   "outputs": [],
   "source": [
    "dict_of_lengths = {key: len(value) for key, value in all_columns_drop_nan.items()}"
   ]
  },
  {
   "cell_type": "code",
   "execution_count": null,
   "id": "e155f97e-c466-4c5f-b147-1be40492ef84",
   "metadata": {
    "tags": []
   },
   "outputs": [],
   "source": [
    "dict_of_lengths"
   ]
  },
  {
   "cell_type": "code",
   "execution_count": null,
   "id": "271da650-d50e-44cb-95f6-fcd3a55b7921",
   "metadata": {},
   "outputs": [],
   "source": []
  }
 ],
 "metadata": {
  "kernelspec": {
   "display_name": "AKI_timeseries",
   "language": "python",
   "name": "aki_timeseries"
  },
  "language_info": {
   "codemirror_mode": {
    "name": "ipython",
    "version": 3
   },
   "file_extension": ".py",
   "mimetype": "text/x-python",
   "name": "python",
   "nbconvert_exporter": "python",
   "pygments_lexer": "ipython3",
   "version": "3.11.3"
  }
 },
 "nbformat": 4,
 "nbformat_minor": 5
}
