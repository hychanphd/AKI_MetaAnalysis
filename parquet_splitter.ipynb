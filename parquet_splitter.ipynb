{
 "cells": [
  {
   "cell_type": "code",
   "execution_count": null,
   "id": "dbc98cd5-d06c-431f-a5b2-7177366dda7d",
   "metadata": {
    "tags": []
   },
   "outputs": [],
   "source": [
    "import utils_function\n",
    "import pandas as pd\n",
    "from dfply import *"
   ]
  },
  {
   "cell_type": "code",
   "execution_count": null,
   "id": "12b1dc65-ce5d-4bea-bc65-6077dcb8690d",
   "metadata": {
    "tags": []
   },
   "outputs": [],
   "source": [
    "site_list = ['KUMC', 'UTSW', 'MCW', 'UofU', 'UIOWA', 'UMHC', 'UPITT', 'UTHSCSA', 'UNMC']"
   ]
  },
  {
   "cell_type": "code",
   "execution_count": null,
   "id": "fe015360-654a-4811-8c94-bc7f786786aa",
   "metadata": {
    "tags": []
   },
   "outputs": [],
   "source": [
    "datanames = ['demo', 'vital_old', 'dx', 'px', 'lab_g', 'amed']"
   ]
  },
  {
   "cell_type": "code",
   "execution_count": null,
   "id": "02228064-1fcd-4898-a57f-53df16b425aa",
   "metadata": {
    "tags": []
   },
   "outputs": [],
   "source": [
    "configs_variable = utils_function.read_config('UTHSCSA')"
   ]
  },
  {
   "cell_type": "code",
   "execution_count": null,
   "id": "bbcba48b-67d4-4d02-a542-82d8ebbb504d",
   "metadata": {
    "tags": []
   },
   "outputs": [],
   "source": [
    "site, datafolder, home_directory = utils_function.get_commons(configs_variable)"
   ]
  },
  {
   "cell_type": "code",
   "execution_count": null,
   "id": "e569954a-007a-43ff-9bfb-48ee4ebd780c",
   "metadata": {
    "tags": []
   },
   "outputs": [],
   "source": [
    "onset = pd.read_parquet(configs_variable['datafolder']+configs_variable['site']+'/p0_onset_'+configs_variable['site']+'.parquet')\n",
    "onset['PATID'] = onset['PATID'].astype(str)\n",
    "onset['ENCOUNTERID'] = onset['ENCOUNTERID'].astype(str)\n",
    "years = list(pd.to_datetime(onset['ADMIT_DATE']).dt.year.unique())    "
   ]
  },
  {
   "cell_type": "code",
   "execution_count": null,
   "id": "cdf3e98a-e04c-4b0a-acaa-cd7faec7efe3",
   "metadata": {
    "tags": []
   },
   "outputs": [],
   "source": [
    "site = 'UTHSCSA'\n",
    "datanames = 'demo'"
   ]
  },
  {
   "cell_type": "code",
   "execution_count": null,
   "id": "9985d534-991a-4e07-807c-0856745a9c09",
   "metadata": {
    "tags": []
   },
   "outputs": [],
   "source": [
    "def spliter(site, dataname, suffix=''):\n",
    "\n",
    "    configs_variable = utils_function.read_config(site)\n",
    "    site, datafolder, home_directory = utils_function.get_commons(configs_variable)\n",
    "    onset = pd.read_parquet(configs_variable['datafolder']+configs_variable['site']+'/p0_onset_'+configs_variable['site']+'.parquet')\n",
    "    onset['PATID'] = onset['PATID'].astype(str)\n",
    "    onset['ENCOUNTERID'] = onset['ENCOUNTERID'].astype(str)\n",
    "    years = list(pd.to_datetime(onset['ADMIT_DATE']).dt.year.unique())    \n",
    "    \n",
    "    df = pd.read_parquet(datafolder+site+ f\"/p0_{dataname}_{site}{suffix}.parquet\")\n",
    "    df['PATID'] = df['PATID'].astype(str)\n",
    "    df['ENCOUNTERID'] = df['ENCOUNTERID'].astype(str)\n",
    "\n",
    "    for year in years:\n",
    "        print(f\"Splitting p0_{dataname}_{site}_{year}{suffix}.parquet\")\n",
    "        newdfX = pd.read_pickle(datafolder+site+'/onset_'+site+'_'+str(year)+'.pkl')[['PATID', 'ENCOUNTERID']]\n",
    "        newdfX['PATID'] = newdfX['PATID'].astype(str)\n",
    "        newdfX['ENCOUNTERID'] = newdfX['ENCOUNTERID'].astype(str)\n",
    "\n",
    "        newdfX = newdfX.merge(df, left_on=['PATID', 'ENCOUNTERID'], right_on=['PATID', 'ENCOUNTERID'], how='left')\n",
    "        newdfX.to_parquet(datafolder+site+ f\"/p0_{dataname}_{site}_{year}{suffix}.parquet\")"
   ]
  },
  {
   "cell_type": "code",
   "execution_count": null,
   "id": "35ff8885-b8ad-43b7-acd7-ee768049dd63",
   "metadata": {
    "tags": []
   },
   "outputs": [],
   "source": [
    "spliter(site, 'vital_old', '_nooutliner')"
   ]
  },
  {
   "cell_type": "code",
   "execution_count": null,
   "id": "e7d7873f-ceca-4fec-b656-6a75a348bbb5",
   "metadata": {},
   "outputs": [],
   "source": []
  },
  {
   "cell_type": "code",
   "execution_count": null,
   "id": "03c66374-5b8a-4621-a07a-e035f6dc8f8e",
   "metadata": {},
   "outputs": [],
   "source": []
  },
  {
   "cell_type": "code",
   "execution_count": null,
   "id": "a8360833-5b33-43ea-a282-28aa958ea202",
   "metadata": {},
   "outputs": [],
   "source": []
  },
  {
   "cell_type": "code",
   "execution_count": null,
   "id": "30d58010-c682-43e2-b5f2-7872cf3bcd5e",
   "metadata": {},
   "outputs": [],
   "source": []
  },
  {
   "cell_type": "code",
   "execution_count": null,
   "id": "a06164c8-2136-4c34-ae9f-390bbb4a02b8",
   "metadata": {},
   "outputs": [],
   "source": [
    "# vital = pd.read_parquet(datafolder+site+'/p0_vital_old_'+site+'_nooutliner.parquet')\n",
    "# vital = pd.read_parquet(datafolder+site+'/p0_vital_old_'+site+'.parquet')\n",
    "# demo = pd.read_parquet(datafolder+site+'/p0_demo_'+site+'.parquet')\n",
    "# dx = pd.read_parquet(datafolder+site+'/p0_dx_'+site+'.parquet')\n",
    "# px = pd.read_parquet(datafolder+site+'/p0_px_'+site+'.parquet')\n",
    "# lab = pd.read_parquet(datafolder+site+'/p0_lab_g_'+site+'_nooutliner.parquet')\n",
    "# lab = pd.read_parquet(datafolder+site+'/p0_lab_g_'+site+'.parquet')\n",
    "# amed = pd.read_parquet(datafolder+site+'/p0_amed_'+site+'.parquet')"
   ]
  }
 ],
 "metadata": {
  "kernelspec": {
   "display_name": "AKI_CDM_PY",
   "language": "python",
   "name": "aki_cdm_py"
  },
  "language_info": {
   "codemirror_mode": {
    "name": "ipython",
    "version": 3
   },
   "file_extension": ".py",
   "mimetype": "text/x-python",
   "name": "python",
   "nbconvert_exporter": "python",
   "pygments_lexer": "ipython3",
   "version": "3.6.15"
  }
 },
 "nbformat": 4,
 "nbformat_minor": 5
}
