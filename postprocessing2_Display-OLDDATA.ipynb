{
 "cells": [
  {
   "cell_type": "code",
   "execution_count": null,
   "id": "7ebe15a3-a091-4459-b70a-e3182a4613d7",
   "metadata": {},
   "outputs": [],
   "source": [
    "import pandas as pd\n",
    "import xgboost as xgb\n",
    "import numpy as np\n",
    "import sklearn\n",
    "from sklearn.preprocessing import OneHotEncoder\n",
    "from sklearn.impute import SimpleImputer\n",
    "from imblearn.over_sampling import SMOTE\n",
    "from imblearn.pipeline import make_pipeline\n",
    "from imblearn.combine import SMOTEENN\n",
    "from imblearn.over_sampling import SMOTENC\n",
    "import matplotlib.pyplot as plt\n",
    "from PIL import Image\n",
    "from scipy.interpolate import BSpline, make_interp_spline, interp1d\n",
    "#import rpy2.robjects as robjects\n",
    "#from rpy2.robjects.packages import importr\n",
    "import csv\n",
    "from dfply import *\n",
    "from xgboost import XGBClassifier\n",
    "import itertools\n",
    "import os\n",
    "from sklearn.model_selection import RandomizedSearchCV, GridSearchCV\n",
    "from sklearn.metrics import roc_auc_score\n",
    "from sklearn.model_selection import StratifiedKFold\n",
    "import time\n",
    "import pickle\n",
    "import math\n",
    "\n",
    "import importlib\n",
    "import ipynb.fs.full.postprocessing3_collect"
   ]
  },
  {
   "cell_type": "code",
   "execution_count": null,
   "id": "a1dbc2b7-9e42-4291-ae0a-7643d604dc39",
   "metadata": {},
   "outputs": [],
   "source": [
    "def plot_importance(df, ax=None, height=0.2,\n",
    "                    xlim=None, ylim=None,\n",
    "                    xlabel='score', ylabel='Feature', fmap='',\n",
    "                    importance_type='auc', max_num_features=None,\n",
    "                    grid=True, show_values=True, **kwargs):\n",
    "\n",
    "    title = importance_type\n",
    "    importance = (df >> select(ylabel, importance_type)).set_index('Feature').to_dict()[importance_type]\n",
    "    tuples = [(k, importance[k]) for k in importance]\n",
    "    if max_num_features is not None:\n",
    "        # pylint: disable=invalid-unary-operand-type\n",
    "        tuples = sorted(tuples, key=lambda x: x[1])[-max_num_features:]\n",
    "    else:\n",
    "        tuples = sorted(tuples, key=lambda x: x[1])\n",
    "    labels, values = zip(*tuples)\n",
    "    \n",
    "    if ax is None:\n",
    "        _, ax = plt.subplots(1, 1)\n",
    "\n",
    "    ylocs = np.arange(len(values))\n",
    "    ax.barh(ylocs, values, align='center', height=height, **kwargs)\n",
    "\n",
    "    if show_values is True:\n",
    "        for x, y in zip(values, ylocs):\n",
    "            ax.text(x + x/100, y, round(x,2), va='center')\n",
    "\n",
    "    ax.set_yticks(ylocs)\n",
    "    ax.set_yticklabels(labels)\n",
    "\n",
    "    if xlim is not None:\n",
    "        if not isinstance(xlim, tuple) or len(xlim) != 2:\n",
    "            raise ValueError('xlim must be a tuple of 2 elements')\n",
    "    else:\n",
    "        xlim = (0, max(values) * 1.1)\n",
    "    ax.set_xlim(xlim)\n",
    "\n",
    "    if ylim is not None:\n",
    "        if not isinstance(ylim, tuple) or len(ylim) != 2:\n",
    "            raise ValueError('ylim must be a tuple of 2 elements')\n",
    "    else:\n",
    "        ylim = (-1, len(values))\n",
    "    ax.set_ylim(ylim)\n",
    "\n",
    "    if title is not None:\n",
    "        ax.set_title(title)\n",
    "    if xlabel is not None:\n",
    "        ax.set_xlabel(xlabel)\n",
    "    if ylabel is not None:\n",
    "        ax.set_ylabel(ylabel)\n",
    "    ax.grid(grid)\n",
    "    return ax"
   ]
  },
  {
   "cell_type": "code",
   "execution_count": null,
   "id": "305a7aed-28ad-4f62-992a-cd125107199f",
   "metadata": {
    "tags": []
   },
   "outputs": [],
   "source": [
    "def top_n_SHAP(result, site, year, importance_type = 'Importances', max_num_features = 10, numgraphcol=2):\n",
    "    \n",
    "    shap_data = result >> mask(X.site==site) >> mask(X.year==year)    \n",
    "    #Print top_n SHAP plot\n",
    "#    importance_type = 'Importances'\n",
    "    A = (shap_data >> select('Feature', importance_type)).set_index('Feature').to_dict()[importance_type]\n",
    "    topf_n = sorted(A, key=A.get, reverse=True)[:max_num_features]\n",
    "    \n",
    "    plotindex=0\n",
    "    plt.clf()    \n",
    "    fltrow = math.ceil(max_num_features/numgraphcol)\n",
    "    fig = plt.figure(figsize=(9,4.5*fltrow))\n",
    "    \n",
    "    for f in topf_n:\n",
    "        plot_data = shap_data >> mask(X.Feature == f) >> select(X.fval, X.mean_val, X.se_val)\n",
    "#        plt.figure()    \n",
    "        plotindex = plotindex+1\n",
    "        plt.subplot(fltrow, numgraphcol, plotindex)\n",
    "        plt.scatter(x=plot_data['fval'],y=plot_data['mean_val'])\n",
    "        plt.errorbar(plot_data['fval'],plot_data['mean_val'], yerr=plot_data['se_val'], fmt=\"o\")\n",
    "        plt.title(f)\n",
    "        if plot_data.shape[0] > 2:\n",
    "            spl = np.polynomial.legendre.Legendre.fit(plot_data['fval'], plot_data['mean_val'],5, full=True)\n",
    "            [spline_x, spline_y] = spl[0].linspace()\n",
    "#            plt.plot(spline_x, spline_y)      \n",
    "            plt.grid()\n",
    "    plt.show()\n",
    "    #    plt.savefig('data/'+site+'/model_'+site+'_'+str(year)+'_'+f+'.png')    "
   ]
  },
  {
   "cell_type": "code",
   "execution_count": null,
   "id": "32b609c6-e5c6-49b8-9b37-30d34dfbf7c0",
   "metadata": {
    "tags": []
   },
   "outputs": [],
   "source": [
    "def one_feature_SHAP_allyear_allsite(shap_data, feature, sites=None, numgraphcol=2):\n",
    "    #Print top_n SHAP plot\n",
    "    shap_data = shap_data >> mask(X.Feature == feature)\n",
    "    if sites is None:\n",
    "        sites = shap_data['site'].unique()\n",
    "    years = shap_data['year'].unique()\n",
    "    years.sort()\n",
    "    \n",
    "    plotindex=0\n",
    "    plt.clf()    \n",
    "    fltrow = math.ceil(len(sites)/numgraphcol)\n",
    "    fig = plt.figure(figsize=(18/numgraphcol,9/numgraphcol*fltrow))\n",
    "\n",
    "    for site in sites:\n",
    "        plotindex = plotindex+1\n",
    "        plt.subplot(fltrow, numgraphcol, plotindex)    \n",
    "        shap_dataX = shap_data >> mask(X.site == site)\n",
    "        for yr in years:\n",
    "            plot_data = shap_dataX >> mask(X.year == yr) >> select(X.fval, X.mean_val, X.se_val)\n",
    "    #        plt.figure()    \n",
    "            plt.scatter(x=plot_data['fval'],y=plot_data['mean_val'])\n",
    "            plt.errorbar(plot_data['fval'],plot_data['mean_val'], yerr=plot_data['se_val'], fmt=\"o\")\n",
    "            if plot_data.shape[0] > 2:\n",
    "                spl = np.polynomial.legendre.Legendre.fit(plot_data['fval'], plot_data['mean_val'],5, full=True)\n",
    "                [spline_x, spline_y] = spl[0].linspace()\n",
    "    #            plt.plot(spline_x, spline_y)      \n",
    "        plt.title(site+\"_\"+feature)   \n",
    "        plt.grid()\n",
    "    plt.show()\n",
    "#    plt.savefig('allsite'+f+'.png')"
   ]
  },
  {
   "cell_type": "code",
   "execution_count": null,
   "id": "09c837bc-499f-4c6d-b716-829bce937f74",
   "metadata": {
    "tags": []
   },
   "outputs": [],
   "source": [
    "def one_feature_SHAP(shap_data, feature, site, numgraphcol=2):\n",
    "    #Print top_n SHAP plot\n",
    "    shap_dataX = shap_data >> mask(X.site == site) >> mask(X.Feature == feature)\n",
    "    years = shap_dataX['year'].unique()\n",
    "    years.sort()\n",
    "    \n",
    "    plotindex=0\n",
    "    plt.clf()    \n",
    "    fltrow = math.ceil(len(years)/numgraphcol)\n",
    "    fig = plt.figure(figsize=(9,4.5*fltrow))\n",
    "        \n",
    "    for yr in years:\n",
    "        plot_data = shap_dataX >> mask(X.year == yr) >> select(X.fval, X.mean_val, X.se_val)\n",
    "#        plt.figure()    \n",
    "        plotindex = plotindex+1\n",
    "        plt.subplot(fltrow, numgraphcol, plotindex)\n",
    "        plt.scatter(x=plot_data['fval'],y=plot_data['mean_val'])\n",
    "        plt.errorbar(plot_data['fval'],plot_data['mean_val'], yerr=plot_data['se_val'], fmt=\"o\")\n",
    "        plt.title(site+\"_\"+feature+\"_\"+str(yr))\n",
    "        if plot_data.shape[0] > 2:\n",
    "            spl = np.polynomial.legendre.Legendre.fit(plot_data['fval'], plot_data['mean_val'],5, full=True)\n",
    "            [spline_x, spline_y] = spl[0].linspace()\n",
    "#            plt.plot(spline_x, spline_y)      \n",
    "            plt.grid()\n",
    "    plt.show()\n",
    "    #    plt.savefig('data/'+site+'/model_'+site+'_'+str(year)+'_'+f+'.png')"
   ]
  },
  {
   "cell_type": "code",
   "execution_count": null,
   "id": "719cf934-32ff-4d36-9896-05a61df9513e",
   "metadata": {
    "tags": []
   },
   "outputs": [],
   "source": [
    "def model_comparison(model1, model2, stg='stg01', site = '', year='2016', oversample='raw', fs='rmscrbun', rmcol='005'):\n",
    "    import ipynb.fs.full.postprocessing3_collect\n",
    "    import importlib\n",
    "    importlib.reload(ipynb.fs.full.postprocessing3_collect)\n",
    "    data1 = ipynb.fs.full.postprocessing3_collect.result_split(model1, stg=stg, site =site, year=year, oversample=oversample, fs=fs, rmcol=rmcol, return_result=True)\n",
    "    data2 = ipynb.fs.full.postprocessing3_collect.result_split(model2, stg=stg, site =site, year=year, oversample=oversample, fs=fs, rmcol=rmcol, return_result=True)    \n",
    "    \n",
    "    data1 = list(data1.loc[:, ['site', 'auc']].sort_values('site').to_records(index=False))\n",
    "    data2 = list(data2.loc[:, ['site', 'auc']].sort_values('site').to_records(index=False))\n",
    "    labels1, values1 = zip(*data1)\n",
    "    labels2, values2 = zip(*data2)\n",
    "    \n",
    "    if ax is None:\n",
    "        _, ax = plt.subplots(1, 1)\n",
    "\n",
    "    ylocs1 = np.arange(len(values1))\n",
    "    ylocs2 = np.arange(len(values2))    \n",
    "    ax.barh(ylocs1, values1, align='center', height=height, label=model1, **kwargs)\n",
    "    ax.barh(ylocs2, values2, align='center', height=height, label=model2, **kwargs)\n",
    "\n",
    "    if show_values is True:\n",
    "        for x, y in zip(values1, ylocs1):\n",
    "            ax.text(x + x/100, y, round(x,2), va='center')\n",
    "        for x, y in zip(values2, ylocs2):\n",
    "            ax.text(x + x/100, y, round(x,2), va='center')\n",
    "\n",
    "    ax.set_yticks(ylocs1)\n",
    "    ax.set_yticklabels(labels)\n",
    "\n",
    "    if xlim is not None:\n",
    "        if not isinstance(xlim, tuple) or len(xlim) != 2:\n",
    "            raise ValueError('xlim must be a tuple of 2 elements')\n",
    "    else:\n",
    "        xlim = (0, max(values) * 1.1)\n",
    "    ax.set_xlim(xlim)\n",
    "\n",
    "    if ylim is not None:\n",
    "        if not isinstance(ylim, tuple) or len(ylim) != 2:\n",
    "            raise ValueError('ylim must be a tuple of 2 elements')\n",
    "    else:\n",
    "        ylim = (-1, len(values))\n",
    "    ax.set_ylim(ylim)\n",
    "\n",
    "    if title is not None:\n",
    "        ax.set_title(title)\n",
    "    if xlabel is not None:\n",
    "        ax.set_xlabel(xlabel)\n",
    "    if ylabel is not None:\n",
    "        ax.set_ylabel(ylabel)\n",
    "    ax.grid(grid)\n",
    "    return ax    "
   ]
  },
  {
   "cell_type": "code",
   "execution_count": null,
   "id": "84270ba4-bea6-4dd4-9080-75dcaeed2089",
   "metadata": {
    "tags": []
   },
   "outputs": [],
   "source": [
    "def top_features(shap_data, importance_type = 'Importances', max_num_features = 10):\n",
    "#    siteyr = shap_data['siteyr'].unique()\n",
    "    siteyrlen = shap_data.loc[:,['site', 'year']].drop_duplicates().shape[0]\n",
    "    #    years.sort()\n",
    "    rank_table = shap_data.sort_values(['site', 'year', importance_type], ascending=False).loc[:,['site', 'year', 'Feature']].drop_duplicates().groupby(['site', 'year']).head(max_num_features).reset_index(drop=True)\n",
    "    rank_table.loc[:, 'rank'] = list(range(1,max_num_features+1))*siteyrlen\n",
    "    rank_table = rank_table.pivot(index=['site', 'year'], columns='rank', values='Feature')\n",
    "    return rank_table   "
   ]
  },
  {
   "cell_type": "code",
   "execution_count": null,
   "id": "b4b9aa58-6d18-4576-8148-8d2901ff27b6",
   "metadata": {},
   "outputs": [],
   "source": [
    "importlib.reload(ipynb.fs.full.postprocessing3_collect)\n",
    "\n",
    "#Load statistics\n",
    "stg = 'stg23'\n",
    "fs = 'nofs'\n",
    "oversample='raw'\n",
    "model = 'catd'    \n",
    "rmcol = '005'\n",
    "#ipynb.fs.full.postprocessing3_collect.result_split(model, stg=stg, site = '', year='', oversample=oversample, fs=fs, rmcol=rmcol, return_result=False)\n",
    "#ipynb.fs.full.postprocessing3_collect.DEID(model, stg=stg, site = '', year='', oversample=oversample, fs=fs, rmcol=rmcol, return_result=False)\n",
    "result = pd.read_pickle(\"/home/hoyinchan/blue/Data/data2021/data2021/\"+'DEID_resultsplit_'+model+'_'+stg+'_'+fs+'_'+oversample+'_005.pkl')"
   ]
  },
  {
   "cell_type": "code",
   "execution_count": null,
   "id": "68d5f62d-a7dc-4fc0-b752-dc513e7d04e7",
   "metadata": {
    "tags": []
   },
   "outputs": [],
   "source": [
    "#Show top freatures for each site year \n",
    "top_features(result, max_num_features=5)"
   ]
  },
  {
   "cell_type": "code",
   "execution_count": null,
   "id": "4e6416b8-5ba7-467e-939a-11fbfa29d4db",
   "metadata": {},
   "outputs": [],
   "source": [
    "# auc per site/year\n",
    "plotdata = result\n",
    "plotdata = plotdata.astype({'year': 'str'})\n",
    "plotdata = (plotdata>>mutate(Feature=X.site+'_'+X.year)>>select('Feature','auc')).drop_duplicates()\n",
    "ax = plot_importance(plotdata, importance_type='auc', max_num_features = 10)"
   ]
  },
  {
   "cell_type": "code",
   "execution_count": null,
   "id": "01efb1c1-d556-4e9b-84f1-df37502eabae",
   "metadata": {},
   "outputs": [],
   "source": [
    "# average auc per site\n",
    "plotdata = result\n",
    "plotdata = plotdata.astype({'year': 'str'})\n",
    "plotdata = (plotdata>>mutate(Feature=X.site)>>select('Feature','auc')).drop_duplicates().groupby('Feature').mean().reset_index()\n",
    "ax = plot_importance(plotdata, importance_type='auc', max_num_features = 10)"
   ]
  },
  {
   "cell_type": "code",
   "execution_count": null,
   "id": "6810e779-f81f-4004-a96b-3f9087629b4e",
   "metadata": {},
   "outputs": [],
   "source": [
    "site = 'KUMC'\n",
    "year = 2013\n",
    "shap_data = result >> mask(X.site==site) >> mask(X.year==year)\n",
    "#plot feature importance\n",
    "importance_type = 'Importances'\n",
    "#importance_type = 'minmax_SHAP'\n",
    "#importance_type = 'varSHAP'\n",
    "ax = plot_importance(shap_data, importance_type=importance_type, max_num_features = 10)\n",
    "#ax.figure.savefig('data/'+site+'/model_'+site+'_'+str(year)+\"_feature_\"+importance_type+\".png\")"
   ]
  },
  {
   "cell_type": "code",
   "execution_count": null,
   "id": "f7159b22-7c9f-428c-b01e-ec202f0c98f7",
   "metadata": {
    "tags": []
   },
   "outputs": [],
   "source": [
    "top_n_SHAP(result, 'KUMC', 2013, importance_type=importance_type, max_num_features = 4, numgraphcol=2)"
   ]
  },
  {
   "cell_type": "code",
   "execution_count": null,
   "id": "e4bc94c3-c9da-432f-9d75-78f791640621",
   "metadata": {},
   "outputs": [],
   "source": [
    "one_feature_SHAP(result, 'AGE', 'KUMC')"
   ]
  },
  {
   "cell_type": "code",
   "execution_count": null,
   "id": "2b1c0175-9a94-4465-8946-44293f774e82",
   "metadata": {},
   "outputs": [],
   "source": [
    "one_feature_SHAP(result, 'AGE', 'MCRI')"
   ]
  },
  {
   "cell_type": "code",
   "execution_count": null,
   "id": "a746a6aa-94f7-4668-8714-98f5bdce663a",
   "metadata": {
    "jupyter": {
     "outputs_hidden": true
    },
    "tags": []
   },
   "outputs": [],
   "source": [
    "one_feature_SHAP_allyear_allsite(result, 'AGE', numgraphcol=2)"
   ]
  },
  {
   "cell_type": "code",
   "execution_count": null,
   "id": "5d205522-1335-42c6-b915-1ceaa7fe2f7d",
   "metadata": {},
   "outputs": [],
   "source": [
    "one_feature_SHAP_allyear_allsite(result, 'SYSTOLIC')"
   ]
  },
  {
   "cell_type": "code",
   "execution_count": null,
   "id": "ae3b59e3-d892-4bf3-bdf5-b3e5363159ea",
   "metadata": {},
   "outputs": [],
   "source": [
    "#Calcium\n",
    "one_feature_SHAP_allyear_allsite(result, 'LAB::17861-6(mg/dL)')"
   ]
  },
  {
   "cell_type": "code",
   "execution_count": null,
   "id": "f5a5c0d7-dca0-483e-ad79-0caf2bad29e8",
   "metadata": {},
   "outputs": [],
   "source": [
    "#Potassium\n",
    "one_feature_SHAP_allyear_allsite(result, 'LAB::2823-3(mmol/L)')"
   ]
  },
  {
   "cell_type": "code",
   "execution_count": null,
   "id": "6ce865e9-5fe7-430f-9765-ad07c6dab0c0",
   "metadata": {},
   "outputs": [],
   "source": [
    "#Chloride\n",
    "one_feature_SHAP_allyear_allsite(result, 'LAB::2075-0(mmol/L)')"
   ]
  },
  {
   "cell_type": "code",
   "execution_count": null,
   "id": "c767b966-81bc-4472-b786-3dba0eb0aba5",
   "metadata": {},
   "outputs": [],
   "source": []
  }
 ],
 "metadata": {
  "kernelspec": {
   "display_name": "AKI_CDM_PY",
   "language": "python",
   "name": "aki_cdm_py"
  },
  "language_info": {
   "codemirror_mode": {
    "name": "ipython",
    "version": 3
   },
   "file_extension": ".py",
   "mimetype": "text/x-python",
   "name": "python",
   "nbconvert_exporter": "python",
   "pygments_lexer": "ipython3",
   "version": "3.6.15"
  }
 },
 "nbformat": 4,
 "nbformat_minor": 5
}
