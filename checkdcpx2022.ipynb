{
 "cells": [
  {
   "cell_type": "code",
   "execution_count": null,
   "id": "936897e1-0e30-4bc7-a43a-32b8e1870b85",
   "metadata": {
    "ExecuteTime": {
     "end_time": "2023-12-03T23:37:41.318338Z",
     "start_time": "2023-12-03T23:37:39.324512Z"
    },
    "tags": []
   },
   "outputs": [],
   "source": [
    "# import python packages\n",
    "import warnings\n",
    "warnings.filterwarnings(\"ignore\")\n",
    "\n",
    "import pandas as pd\n",
    "import numpy as np\n",
    "import pickle\n",
    "import os\n",
    "import importlib\n",
    "from scipy.stats import chi2_contingency\n",
    "from statsmodels.stats.multitest import multipletests\n",
    "import matplotlib.pyplot as plt\n",
    "import itertools\n",
    "from scipy import stats"
   ]
  },
  {
   "cell_type": "code",
   "execution_count": null,
   "id": "aa2d1b6a-1c6c-4a77-b61b-be3530cbd079",
   "metadata": {
    "tags": []
   },
   "outputs": [],
   "source": [
    "site_list = ['KUMC', 'UTSW', 'MCW', 'UofU', 'UIOWA', 'UMHC', 'UPITT', 'MCRI', 'UTHSCSA', 'UNMC']\n",
    "ext_list = ['csv','dsv', 'dsv', 'csv', 'csv', 'csv', 'csv', 'csv', 'csv', 'csv']\n",
    "sep_list = [',','|', '|', '|', ',', ',', ',', ',', '|', '|']\n",
    "encoding_list = ['utf-8','utf-8','utf-8','utf-8','utf-8','utf-8', 'windows-1252', 'utf-8','utf-16', 'utf-16'] \n",
    "#ct = 0\n",
    "\n",
    "for ct in range(len(site_list)):\n",
    "\n",
    "    site = site_list[ct]\n",
    "    ext = ext_list[ct]\n",
    "    sep = sep_list[ct]\n",
    "    encoding = encoding_list[ct]\n",
    "    path = []\n",
    "\n",
    "    if site != 'KUMC':\n",
    "        rawpath = '/blue/yonghui.wu/hoyinchan/Data/data2022raw/' + site + '/raw/'\n",
    "    else: \n",
    "        rawpath = '/blue/yonghui.wu/hoyinchan/Data/data2022raw/' + site + '_ORCALE/raw/'\n",
    "    path.append(rawpath)\n",
    "    path.append('/blue/yonghui.wu/hoyinchan/Data/data2022/' + site + '/')\n",
    "    pdata = '/blue/yonghui.wu/hoyinchan/Data/data2022/'+ site \n",
    "    site\n",
    "\n",
    "    def try_load_csv(filename, ext, sep, path):\n",
    "        if 'UMHC' in path[0]:\n",
    "            filename = 'DEID_'+filename    \n",
    "        try:\n",
    "            # Try to load the file from the first path\n",
    "            df = pd.read_csv( path[0] +  filename + '.' + ext, engine=\"pyarrow\", sep=sep, encoding=encoding)\n",
    "        except Exception as e:\n",
    "            print(f\"Failed to load from {path[0]}: {e}. Loading converted csv...\")\n",
    "            try:\n",
    "                # If the first attempt fails, try to load the file from the second path\n",
    "                #df = pd.read_csv( path[0] +  filename + '.' + ext, engine=\"pyarrow\", sep=sep)\n",
    "                df = pd.read_csv(path[1] +  filename + '.csv', engine=\"pyarrow\", sep=',', encoding=encoding)\n",
    "            except Exception as e:\n",
    "                try:\n",
    "                    # If the first attempt fails, try to load the file from the second path\n",
    "                    df = pd.read_csv(path[1] +  filename + '.csv', sep=',', on_bad_lines = 'skip', encoding=encoding)\n",
    "                except Exception as e:\n",
    "                    # If the second attempt also fails, handle or re-raise the exception\n",
    "                    print(f\"Failed to load from {path[1]} as well: {e}\")\n",
    "                    #raise Exception(f\"Could not load the file from either path.\")\n",
    "\n",
    "        return df\n",
    "\n",
    "    print(site)\n",
    "\n",
    "    try:\n",
    "        dx = try_load_csv('AKI_DX', ext, sep, path)\n",
    "        print(dx.head(2))\n",
    "\n",
    "        px = try_load_csv('AKI_PX', ext, sep, path)\n",
    "        print(px.head(2))\n",
    "    except:\n",
    "        print(f\"fail {site}\")"
   ]
  },
  {
   "cell_type": "code",
   "execution_count": null,
   "id": "37137c44-8254-438d-aa5d-10ab808bf54d",
   "metadata": {},
   "outputs": [],
   "source": []
  }
 ],
 "metadata": {
  "kernelspec": {
   "display_name": "AKI_PM_TEMPORAL_MOEA",
   "language": "python",
   "name": "aki_pm_temporal_moea"
  },
  "language_info": {
   "codemirror_mode": {
    "name": "ipython",
    "version": 3
   },
   "file_extension": ".py",
   "mimetype": "text/x-python",
   "name": "python",
   "nbconvert_exporter": "python",
   "pygments_lexer": "ipython3",
   "version": "3.11.5"
  }
 },
 "nbformat": 4,
 "nbformat_minor": 5
}
