{
 "cells": [
  {
   "cell_type": "code",
   "execution_count": null,
   "id": "95d2950f-df7f-4a4a-986a-c3219ff1ac2d",
   "metadata": {},
   "outputs": [],
   "source": [
    "# Translate AKI_AMED_POSIX to csv\n",
    "# site: IUR, UNMC, UPITT, UTSW\n",
    "library(rxnorm)\n",
    "library(dplyr)\n",
    "library(data.table)\n",
    "library(reshape2)\n",
    "library(stringi)\n",
    "site <- 'UTSW'\n",
    "home_directory <- paste0('/home/hchan2/AKI/data/',site,'/raw/')\n",
    "amed <- readRDS(paste0(home_directory,\"AKI_AMED_POSIX.rda\"))\n",
    "write.csv(amed, paste0(home_directory,\"AKI_AMED.csv\"))"
   ]
  },
  {
   "cell_type": "code",
   "execution_count": null,
   "id": "85e63348-54a3-4162-8556-be2fb3e45d7d",
   "metadata": {},
   "outputs": [],
   "source": [
    "#library(devtools)\n",
    "#devtools::install_github(\"fabkury/ndc_map\")\n",
    "install.packages(\"tcltk\", repos='http://cran.us.r-project.org')"
   ]
  },
  {
   "cell_type": "code",
   "execution_count": null,
   "id": "0e9cd5ef-f92b-4e29-81c5-514bfc5cbfca",
   "metadata": {},
   "outputs": [],
   "source": [
    "print('done')"
   ]
  },
  {
   "cell_type": "code",
   "execution_count": null,
   "id": "e323bfca-ec85-4335-a19b-313c265f4a7c",
   "metadata": {},
   "outputs": [],
   "source": [
    "install.packages(\"mgcv\", repos='http://cran.us.r-project.org')"
   ]
  },
  {
   "cell_type": "code",
   "execution_count": null,
   "id": "484c1c2d-c8f2-470e-93c2-c4d55f5de008",
   "metadata": {},
   "outputs": [],
   "source": [
    "tl <- list()"
   ]
  },
  {
   "cell_type": "code",
   "execution_count": null,
   "id": "ce1b7d07-8d99-4847-a772-414df4d94b34",
   "metadata": {},
   "outputs": [],
   "source": [
    "tl['tt2'] <- data.frame('aa', 'bb')"
   ]
  },
  {
   "cell_type": "code",
   "execution_count": null,
   "id": "7c3efac9-77d5-4e49-a811-572032d0208b",
   "metadata": {},
   "outputs": [],
   "source": [
    "\n",
    "siteyrlist <- {}\n",
    "siteyrlist$foo$bar1 <- 1\n",
    "siteyrlist$foo$bar2 <- 2"
   ]
  },
  {
   "cell_type": "code",
   "execution_count": null,
   "id": "d0125a8d-6ef6-4acc-a08d-697f718d18e1",
   "metadata": {},
   "outputs": [],
   "source": []
  },
  {
   "cell_type": "code",
   "execution_count": null,
   "id": "da07baea-666e-4c40-a68e-2ad6c9b6a370",
   "metadata": {
    "tags": []
   },
   "outputs": [],
   "source": [
    "library(arrow)\n",
    "library(dplyr)\n",
    "library(mgcv)\n",
    "library(tidyverse)\n",
    "library(data.table)\n",
    "library(metagam)\n",
    "library(latex2exp)\n",
    "library(eivtools)\n",
    "library(plotly)\n",
    "library(stats)\n",
    "library(plotrix)\n",
    "library(fishmethods)\n",
    "library(metafor)"
   ]
  },
  {
   "cell_type": "code",
   "execution_count": null,
   "id": "bd4e554f-078a-4c7d-a6fa-3a09bfeb60cc",
   "metadata": {
    "tags": []
   },
   "outputs": [],
   "source": [
    "plot_fit2<-function(df2, gamobj, coeff){\n",
    "    \n",
    "    df2<- df2 %>% mutate(site = substr(siteyr,1,nchar(siteyr)-4))\n",
    "    #    df2<-df2 %>%\n",
    "    #        mutate(lwr = df2[[coeff]] - 2 * df2[[paste0(coeff,'_var')]],\n",
    "    #         upr = df2[[coeff]] + 2 * df2[[paste0(coeff,'_var')]])    \n",
    "\n",
    "    fit1_FIT<-predict(gamobj, se.fit=T) %>%\n",
    "      as_tibble() %>% \n",
    "      rename(fit_gam = fit) %>% \n",
    "      mutate(lwr_gam = fit_gam - 2 * se.fit,\n",
    "             upr_gam = fit_gam + 2 * se.fit)\n",
    "\n",
    "    ggplot()+\n",
    "    geom_point(aes(df2[[coeff]], df2$auc, color=df2$site))+\n",
    "    geom_line(aes(df2[[coeff]], fit1_FIT$fit_gam, color='red'))+\n",
    "    geom_ribbon(aes(x=df2[[coeff]], ymin=fit1_FIT$lwr_gam, ymax=fit1_FIT$upr_gam), alpha = 0.2, fill = \"red\")\n",
    "#    geom_errorbarh(aes(y=df2$auc, xmin=df2$lwr, xmax=df2$upr), alpha = 0.2)    \n",
    "}"
   ]
  },
  {
   "cell_type": "code",
   "execution_count": null,
   "id": "a20957f8-20bb-4d93-9dad-b5c58649c56f",
   "metadata": {},
   "outputs": [],
   "source": [
    "path <- \"metadata_mean.parquet\"\n",
    "df <- arrow::read_parquet(path)\n",
    "path <- \"metadata_raw.parquet\"\n",
    "dfraw <- arrow::read_parquet(path)"
   ]
  },
  {
   "cell_type": "code",
   "execution_count": null,
   "id": "baf1d445-3672-4bed-ac49-105b2e85b59b",
   "metadata": {},
   "outputs": [],
   "source": [
    "df = df %>% dplyr::select(-'__index_level_0__') %>% mutate(siteyr=paste0(site,year)) %>% filter(Importances!=0)\n",
    "\n",
    "#df = df %>% filter(!(site %in% list(\"MCRI\"))) %>% filter(!(sy %in% list(\"UMHC2013\", \"UMHC2020\")))\n",
    "df = df %>% filter(!(site %in% list(\"MCRI\", 'UPITT'))) %>% filter(!(siteyr %in% list(\"UMHC2020\")))\n",
    "\n",
    "siteyrlist = df %>% dplyr::select(siteyr) %>% unique\n",
    "featuredecodelist = df %>% dplyr::select(featuredecode) %>% unique\n",
    "dfraw = dfraw %>% rename(fval=Name) %>% rename(siteyr=siteyear) %>% dplyr::select(-'__index_level_0__')"
   ]
  },
  {
   "cell_type": "code",
   "execution_count": null,
   "id": "86cb76ee-850e-473c-ac4d-bcaf6db52421",
   "metadata": {
    "tags": []
   },
   "outputs": [],
   "source": [
    "filterdf <- df %>% \n",
    "    select(site,year,featuredecode,fval) %>% \n",
    "    group_by(site,year,featuredecode) %>% \n",
    "    summarise(min=min(fval), max=max(fval)) %>%\n",
    "    ungroup %>%\n",
    "    group_by(featuredecode) %>%\n",
    "    summarise(min_min=min(min), max_min=max(min), min_max=min(max), max_max=max(max), mean_min=mean(min), sd_min=sd(min), mean_max=mean(max), sd_max=sd(max)) %>%\n",
    "    mutate(upr=mean_max+3*sd_max, lwr=mean_min-3*sd_min) %>% \n",
    "    mutate(upr = replace(upr, featuredecode == \"AGE\", 89)) %>% \n",
    "    mutate(lwr = replace(lwr, featuredecode == \"AGE\", 18))\n",
    "\n",
    "df <- df %>% left_join(filterdf%>%select(featuredecode,upr,lwr), by='featuredecode') %>% filter(fval>=lwr) %>% filter(fval<=upr) %>% select(-upr, -lwr)\n",
    "dfraw <- dfraw %>% left_join(filterdf%>%select(featuredecode,upr,lwr), by='featuredecode') %>% filter(fval>=lwr) %>% filter(fval<=upr) %>% select(-upr, -lwr)"
   ]
  },
  {
   "cell_type": "code",
   "execution_count": null,
   "id": "b065759e-874f-4959-ba92-4d4e28c1d823",
   "metadata": {},
   "outputs": [],
   "source": [
    "frange <- dfraw %>% select(fval, featuredecode) %>% group_by(featuredecode) %>% \n",
    "                        summarize(min=min(fval),q10 =quantile(fval,probs=0.001),\n",
    "                                                q25 =quantile(fval,probs=0.25),\n",
    "                                                q375=quantile(fval,probs=0.375),\n",
    "                                                q50 =quantile(fval,probs=0.50),\n",
    "                                                q625=quantile(fval,probs=0.625),\n",
    "                                                q75 =quantile(fval,probs=0.75),\n",
    "                                                q90 =quantile(fval,probs=0.999),\n",
    "                                                max=max(fval))\n",
    "frange"
   ]
  },
  {
   "cell_type": "code",
   "execution_count": null,
   "id": "b4f62a29-73a0-4ec6-b310-a085cf5596fd",
   "metadata": {
    "tags": []
   },
   "outputs": [],
   "source": [
    "# fit curve at theior own domain\n",
    "# ptm <- proc.time()\n",
    "# gamdict <- list()\n",
    "# for (sy in siteyrlist$siteyr){\n",
    "#     dfrawsy <- dfraw %>% filter(siteyr==sy)\n",
    "#     syflist <- dfrawsy %>% select(featuredecode) %>% unique\n",
    "#     gamsydict <- list()\n",
    "#     for (syf in syflist$featuredecode){\n",
    "# #        print(paste0(sy,',',syf))\n",
    "# #        flush.console()\n",
    "#         dftt <- dfrawsy %>% filter(featuredecode==syf)\n",
    "#         if (!all(dftt['val']==0)){\n",
    "#             x<-list(gam(val ~ s(fval, k=40, bs='cs'), data=dftt, method='REML'))\n",
    "#             names(x) <- syf\n",
    "#             gamsydict <- append(gamsydict,x)\n",
    "#         }\n",
    "#     }\n",
    "#     gamsydict2<-list(gamsydict)\n",
    "#     names(gamsydict2) <- sy\n",
    "#     gamdict <- append(gamdict,gamsydict2)\n",
    "# }\n",
    "# proc.time() - ptm\n",
    "\n",
    "#saveRDS(gamdict, file = \"gamfitobj.rds\")\n",
    "#gamdict<-readRDS(file = \"gamfitobj.rds\")\n",
    "\n",
    "#Get the value at equal distance\n",
    "# fitlist = list()\n",
    "# for (sy in siteyrlist$siteyr){\n",
    "#     for (syf in frange$featuredecode){\n",
    "#         fr<-frange %>% filter(featuredecode==syf)\n",
    "#         newd<- data.frame(fval=seq(from=fr$min, to=fr$max, length.out=10))\n",
    "#         x<-gamdict[[sy]][[syf]]\n",
    "#         if (!is.null(x)){\n",
    "#             fit1_FIT <- list(data.frame(predict(x, newd, se.fit=T) %>% as_tibble() %>% mutate(siteyr=sy,featuredecode=syf),newd))\n",
    "#             fitlist <- append(fitlist,fit1_FIT)\n",
    "#         }\n",
    "#     }\n",
    "# }\n",
    "# fitlist<-rbindlist(fitlist) %>% mutate(fval=round(fval,2)) %>% mutate(fval=paste0(featuredecode,'.',fval))\n",
    "# fitlist<-fitlist %>% mutate(featuredecode=str_replace(featuredecode,'-','.')) %>% mutate(featuredecode=paste0('f',featuredecode))\n",
    "# fitlist<-fitlist %>% mutate(fval=str_replace(fval,'-','.')) %>% mutate(fval=paste0('f',fval))"
   ]
  },
  {
   "cell_type": "code",
   "execution_count": null,
   "id": "318fe58f-f02d-43eb-aaa2-2cc62fb2e887",
   "metadata": {
    "tags": []
   },
   "outputs": [],
   "source": [
    "#Alternatively fit and get coefficient\n",
    "\n",
    "#Make Average to be zero?\n",
    "#dfraw <- dfraw %>% group_by(siteyr, Feature) %>% mutate(val=val-mean(val)) %>% ungroup\n",
    "\n",
    "ptm <- proc.time()\n",
    "gamdict <- list()\n",
    "fitlist <- list()\n",
    "#sy <- 'KUMC2013'\n",
    "#syf <- 'SYSTOLIC'\n",
    "for (sy in siteyrlist$siteyr){\n",
    "#    site <- substr(sy, 0, nchar(sy)-4)    \n",
    "#    if ((site %in% list(\"MCRI\")) | sy %in% list(\"UMHC2013\", \"UMHC2020\")){\n",
    "#    if ((site %in% list(\"MCRI\")) | sy %in% list(\"UMHC2013\", \"UMHC2020\")){    \n",
    "#        next\n",
    "#    }    \n",
    "    dfrawsy <- dfraw %>% filter(siteyr==sy)\n",
    "    syflist <- dfrawsy %>% select(featuredecode) %>% unique\n",
    "    gamsydict <- list()\n",
    "    for (syf in syflist$featuredecode){\n",
    "        print(paste0(sy,'-',syf))\n",
    "        flush.console()\n",
    "        dftt <- dfrawsy %>% filter(featuredecode==syf)\n",
    "        fr<-frange %>% filter(featuredecode==syf)\n",
    "        if (!all(dftt['val']==0)){\n",
    "            x<-list(gam(val ~ s(fval, k=6, bs='cr'), data=dftt, method='REML', knots = list(fval = seq(from=fr$min, to=fr$max, length = 6))))\n",
    "            names(x) <- syf\n",
    "            gamsydict <- append(gamsydict,x)\n",
    "            \n",
    "            rangelist <- list()\n",
    "            for (i in 1:length(x[[syf]]$smooth[[1]]$xp)){\n",
    "                rangelist <- c(rangelist, paste0('r', x[[syf]]$smooth[[1]]$xp[i], 'r', x[[syf]]$smooth[[1]]$xp[i+1], 'r'))\n",
    "            }\n",
    "            rangelist <- rangelist[-length(rangelist)]\n",
    "            rangelist <- c('intercept', rangelist)\n",
    "            coeffdata <- cbind(data.frame(x[[syf]]$coefficient), data.frame(diag(x[[syf]]$Vc)), data.frame(transpose(rangelist)))\n",
    "            colnames(coeffdata) <- c('fit', 'se.fit', 'fval')\n",
    "            coeffdata <- coeffdata %>% mutate(siteyr=sy,featuredecode=syf)\n",
    "            coeffdata <- coeffdata[-1,]\n",
    "            coeffdata <- coeffdata %>% mutate(fval=paste0(featuredecode,'.',fval))\n",
    "            row.names(coeffdata) <- NULL\n",
    "            fitlist <- append(fitlist,list(coeffdata))            \n",
    "        }\n",
    "    }\n",
    "#    gamsydict2<-list(gamsydict)\n",
    "#    names(gamsydict2) <- sy\n",
    "#    gamdict <- append(gamdict,gamsydict2)\n",
    "}\n",
    "proc.time() - ptm\n",
    "#gamdict<-rbindlist(gamdict)\n",
    "fitlist<-rbindlist(fitlist) %>% mutate(featuredecode=str_replace(featuredecode,'-','d')) %>% mutate(featuredecode=paste0('f',featuredecode)) %>% mutate(fval=str_replace_all(fval,'-','d')) %>% mutate(fval=paste0('f',fval))"
   ]
  }
 ],
 "metadata": {
  "kernelspec": {
   "display_name": "R_meta_analysis_3.6",
   "language": "R",
   "name": "r_aki_meta_analysis_3.6"
  },
  "language_info": {
   "codemirror_mode": "r",
   "file_extension": ".r",
   "mimetype": "text/x-r-source",
   "name": "R",
   "pygments_lexer": "r",
   "version": "4.0.5"
  }
 },
 "nbformat": 4,
 "nbformat_minor": 5
}
