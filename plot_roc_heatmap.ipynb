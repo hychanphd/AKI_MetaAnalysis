{
 "cells": [
  {
   "cell_type": "code",
   "execution_count": null,
   "id": "f28709f3-edc0-446c-bb90-e59e995d7c68",
   "metadata": {
    "tags": []
   },
   "outputs": [],
   "source": [
    "import importlib\n",
    "\n",
    "# import ipynb.fs.full.preprocessing0\n",
    "# import ipynb.fs.full.preprocessing05\n",
    "# #import ipynb.fs.full.prepossessing075_akistage\n",
    "# import ipynb.fs.full.preprocessing1\n",
    "# import ipynb.fs.full.preprocessing2_BT\n",
    "# import ipynb.fs.full.preprocessing25_BTcorr\n",
    "# import ipynb.fs.full.preprocessing3_smote\n",
    "# #import ipynb.fs.full.preprocessing4\n",
    "# import preprocessing4\n",
    "\n",
    "# import ipynb.fs.full.runxgboost\n",
    "# import ipynb.fs.full.postprocessing1_SHAP\n",
    "# import ipynb.fs.full.postprocessing3_collect\n",
    "\n",
    "from ipynb.fs.full.slackbot import ping_slack\n",
    "import pandas as pd\n",
    "import xgboost as xgb\n",
    "import numpy as np\n",
    "import sklearn\n",
    "from sklearn.preprocessing import OneHotEncoder\n",
    "from sklearn.impute import SimpleImputer\n",
    "from imblearn.over_sampling import SMOTE\n",
    "from imblearn.pipeline import make_pipeline\n",
    "from imblearn.combine import SMOTEENN\n",
    "from imblearn.over_sampling import SMOTENC\n",
    "import matplotlib.pyplot as plt\n",
    "from PIL import Image\n",
    "from scipy.interpolate import BSpline, make_interp_spline, interp1d\n",
    "#import rpy2.robjects as robjects\n",
    "#from rpy2.robjects.packages import importr\n",
    "import csv\n",
    "from dfply import *\n",
    "from xgboost import XGBClassifier\n",
    "import itertools\n",
    "import os\n",
    "from tqdm import tqdm\n",
    "from os import listdir\n",
    "from os.path import isfile, join\n",
    "from os.path import exists\n",
    "import logging\n",
    "import time\n",
    "import pickle\n",
    "from sklearn.metrics import roc_auc_score, confusion_matrix\n",
    "from sklearn import metrics\n",
    "\n",
    "from sklearn.metrics import roc_curve, auc\n",
    "import matplotlib.pyplot as plt\n",
    "import numpy as np\n",
    "import seaborn as sns\n",
    "from scipy import stats"
   ]
  },
  {
   "cell_type": "code",
   "execution_count": null,
   "id": "54d641e5-9e72-4e1c-be5b-d69c9360840f",
   "metadata": {
    "tags": []
   },
   "outputs": [],
   "source": [
    "# Test Site\n",
    "#sites = ['IUR', 'MCRI', 'MCW', 'UIOWA', 'UMHC', 'UNMC', 'UofU', 'UPITT', 'UTHSCSA', 'UTSW']\n",
    "sites = ['IUR', 'MCW', 'UIOWA', 'UMHC', 'UNMC', 'UofU', 'UPITT', 'UTHSCSA', 'UTSW', 'KUMC']\n",
    "site_m='UIOWA'\n",
    "site_d='UNMC'\n",
    "year=3000\n",
    "stg = 'stg01'\n",
    "oversample = 'raw'\n",
    "fs = 'nofs'\n",
    "recol = '005'\n",
    "model_type = 'catd'\n",
    "n_jobs=4\n",
    "suffix = ''\n",
    "folds = 10"
   ]
  },
  {
   "cell_type": "code",
   "execution_count": null,
   "id": "9c0a0a30-ae42-4c59-8039-962d08dbac7c",
   "metadata": {
    "tags": []
   },
   "outputs": [],
   "source": [
    "shap_datas = list()\n",
    "for site_d in sites:\n",
    "    for site_m in sites:\n",
    "        for fold in range(folds):\n",
    "            try:\n",
    "                shap_data = pd.read_pickle('/home/hoyinchan/blue/Data/data2021/data2021/'+site_m+'/shapdata_cv_'+model_type+'_'+site_m+'_'+site_d+'_'+str(year)+'_'+stg+'_'+fs+'_'+oversample+'_'+str(fold)+'.pkl')\n",
    "                shap_datas.append(shap_data)\n",
    "            except:\n",
    "                pass\n",
    "shap_datas = pd.concat(shap_datas).reset_index(drop=True)    "
   ]
  },
  {
   "cell_type": "code",
   "execution_count": null,
   "id": "232685d7-95db-4d9f-ad94-e8f2093162bf",
   "metadata": {
    "tags": []
   },
   "outputs": [],
   "source": [
    "#Heatmap\n",
    "shap_datas_agg = shap_datas[['site_m', 'site_d', 'roc']].groupby(['site_m', 'site_d']).agg(['mean', 'std']).reset_index()\n",
    "\n",
    "site_key = {3:'MCW', 4:'UIOWA', 5:'UMHC', 6:'UNMC', 10:'UofU', 8:'UTHSCSA', 2:'KUMC', 9:'UTSW', 7:'UPITT', 1:'IUR'}\n",
    "site_keyr = {v: k for k, v in site_key.items()}\n",
    "\n",
    "shap_datas_agg['site_m'] = shap_datas_agg['site_m'].map(site_keyr)\n",
    "shap_datas_agg['site_d'] = shap_datas_agg['site_d'].map(site_keyr)\n",
    "\n",
    "shap_datas_agg.columns = ['site_m', 'site_d', 'mean', 'std']\n",
    "\n",
    "df = shap_datas_agg\n",
    "\n",
    "# Pivot the DataFrame to create a matrix for the heatmap\n",
    "pivot_mean = df.pivot(\"site_m\", \"site_d\", \"mean\")\n",
    "pivot_std = df.pivot(\"site_m\", \"site_d\", \"std\")\n",
    "\n",
    "# Plotting\n",
    "plt.figure(figsize=(10, 8.5))\n",
    "ax = sns.heatmap(pivot_mean, annot=False, fmt=\"\", cmap='coolwarm')\n",
    "plt.tick_params(axis='both', which='major', labelsize=10, labelbottom = False, left=False, bottom=False, top = False, labeltop=True)\n",
    "\n",
    "# Adding mean and standard deviation to the cell text\n",
    "for i in range(pivot_mean.shape[0]):\n",
    "    for j in range(pivot_mean.shape[1]):\n",
    "        mean = pivot_mean.iloc[i, j]\n",
    "        std = pivot_std.iloc[i, j]\n",
    "        if pd.notna(mean) and pd.notna(std):\n",
    "            text = f'{mean:.2f}\\n({std:.3f})'\n",
    "            plt.text(j + 0.5, i + 0.5, text, ha=\"center\", va=\"center\", fontdict={'size': 10})\n",
    "            \n",
    "# Rotate x-axis labels and move x-axis to the top\n",
    "ax.xaxis.set_label_position('top') \n",
    "plt.xlabel('model site', fontsize=20)\n",
    "plt.ylabel('data site', fontsize=20)\n",
    "plt.savefig('AUROC.svg', format='svg', bbox_inches='tight')"
   ]
  },
  {
   "cell_type": "code",
   "execution_count": null,
   "id": "42a87745-d591-46fe-83b3-ac7f6272e538",
   "metadata": {
    "tags": []
   },
   "outputs": [],
   "source": [
    "shap_datas = shap_datas[['site_m','site_d','roc']]\n",
    "shap_datas = shap_datas.groupby(['site_m','site_d']).mean().reset_index()\n",
    "shap_datas_trans = shap_datas[shap_datas['site_m']!=shap_datas['site_d']]\n",
    "shap_datas_notrans = shap_datas[shap_datas['site_m']==shap_datas['site_d']]\n",
    "shap_datas_notrans.columns = [['site_m','site_d','roc_origin']]\n",
    "shap_datas_notrans = shap_datas_notrans[['site_m','roc_origin']]"
   ]
  },
  {
   "cell_type": "code",
   "execution_count": null,
   "id": "54883486-1256-4628-a9b2-9b05d63d53a6",
   "metadata": {
    "tags": []
   },
   "outputs": [],
   "source": [
    "shap_datas_trans = shap_datas_trans[['site_m', 'roc']].groupby('site_m').mean().reset_index()"
   ]
  },
  {
   "cell_type": "code",
   "execution_count": null,
   "id": "8828c583-e2fa-4e65-8774-1b2260eb6fc6",
   "metadata": {
    "tags": []
   },
   "outputs": [],
   "source": [
    "shap_datas_trans = pd.concat([shap_datas_trans, shap_datas_notrans.reset_index(drop=True)], axis=1)"
   ]
  },
  {
   "cell_type": "code",
   "execution_count": null,
   "id": "bfed39f8-7d89-447a-8849-e5f17a5d6e1a",
   "metadata": {
    "tags": []
   },
   "outputs": [],
   "source": [
    "shap_datas_trans['transport'] = shap_datas_trans['roc']/shap_datas_trans[('roc_origin',)]"
   ]
  },
  {
   "cell_type": "code",
   "execution_count": null,
   "id": "671d158c-cd42-4d47-b584-e3754d3bda94",
   "metadata": {
    "tags": []
   },
   "outputs": [],
   "source": [
    "shap_datas_trans"
   ]
  },
  {
   "cell_type": "code",
   "execution_count": null,
   "id": "ee5633f8-cd65-4070-bff6-f1d7852ab16c",
   "metadata": {
    "tags": []
   },
   "outputs": [],
   "source": []
  },
  {
   "cell_type": "code",
   "execution_count": null,
   "id": "1650af79-dfbb-4f3e-9d02-f7409c6c7377",
   "metadata": {
    "tags": []
   },
   "outputs": [],
   "source": []
  },
  {
   "cell_type": "code",
   "execution_count": null,
   "id": "5a5b91f8-973d-468e-a8d4-f8478d5fd016",
   "metadata": {
    "tags": []
   },
   "outputs": [],
   "source": []
  },
  {
   "cell_type": "code",
   "execution_count": null,
   "id": "33d5887e-0255-4606-b978-b528fb316960",
   "metadata": {
    "tags": []
   },
   "outputs": [],
   "source": [
    "#Spider Plot\n",
    "def create_radar_chart_with_confidence(df):\n",
    "    # Categories (site_d)\n",
    "    categories = df['site_d'].unique()\n",
    "    N = len(categories)\n",
    "\n",
    "    # Angle for each axis\n",
    "    angles = [n / float(N) * 2 * np.pi for n in range(N)]\n",
    "    angles += angles[:1]\n",
    "\n",
    "    # Initialize the radar plot\n",
    "    fig, ax = plt.subplots(figsize=(8, 8), subplot_kw=dict(polar=True))\n",
    "\n",
    "    # Draw one axis per variable and add labels\n",
    "    plt.xticks(angles[:-1], categories)\n",
    "\n",
    "    # Draw each site_m with its confidence interval\n",
    "    for site_m in df['site_m'].unique():\n",
    "        site_df = df[df['site_m'] == site_m]\n",
    "        values = site_df['mean'].tolist()\n",
    "        values += values[:1]\n",
    "\n",
    "        # Confidence interval calculation\n",
    "        ci_upper = (site_df['mean'] + 1.96 * site_df['std']).tolist()\n",
    "        ci_upper += ci_upper[:1]\n",
    "\n",
    "        ci_lower = (site_df['mean'] - 1.96 * site_df['std']).tolist()\n",
    "        ci_lower += ci_lower[:1]\n",
    "\n",
    "        ax.plot(angles, values, linewidth=2, linestyle='solid', label=f'Model {site_m}')\n",
    "        ax.fill_between(angles, ci_lower, ci_upper, alpha=0.4)\n",
    "\n",
    "    # Add legend\n",
    "    plt.legend(loc='center left', bbox_to_anchor=(1.05, 0.5))\n",
    "    plt.savefig('AUROC_spider.svg', format='svg', bbox_inches='tight')\n",
    "\n",
    "create_radar_chart_with_confidence(shap_datas_agg)"
   ]
  },
  {
   "cell_type": "code",
   "execution_count": null,
   "id": "b0b98e03-5e6e-42ad-900c-e86a54ef1786",
   "metadata": {
    "tags": []
   },
   "outputs": [],
   "source": [
    "#Feature rank map\n",
    "models = dict()\n",
    "for site_m in sites:\n",
    "    for fold in range(10):\n",
    "        models[(site_m, fold)] = pickle.load(open('/home/hoyinchan/blue/Data/data2021/data2021/'+site_m+'/boosttrap_'+model_type+'_'+site_m+'_'+str(year)+'_'+stg+'_'+fs+'_'+oversample+'_'+str(fold)+'.pkl', 'rb'))\n",
    "\n",
    "df_importances = list()\n",
    "for site_m in sites:\n",
    "    for fold in range(10):\n",
    "        importances = models[(site_m, fold)][-3].get_feature_importance(prettified=True)\n",
    "        importances['site'] = site_m\n",
    "        importances['fold'] = fold\n",
    "        importances['rank'] = importances['Importances'].rank(method='min', ascending=False)-1      \n",
    "        importances = importances[importances['rank']<100]\n",
    "        importances['rank'] = (100-importances['rank'])/100\n",
    "        df_importances.append(importances)\n",
    "\n",
    "df_importances = pd.concat(df_importances)\n",
    "df_importances = df_importances[['Feature Id', 'rank', 'site']].groupby(['Feature Id', 'site']).median().reset_index()\n",
    "df_importances['Feature Id no unit'] = df_importances['Feature Id'].str.split('(').str[0]\n",
    "\n",
    "df_importances_raw2 = df_importances.copy()\n",
    "\n",
    "df_importances_stat = df_importances[['Feature Id no unit', 'rank']].groupby(['Feature Id no unit']).quantile([0.25, 0.5, 0.75]).reset_index().pivot(index='level_1', columns=['Feature Id no unit'], values='rank').T.reset_index()\n",
    "df_importances_stat['IQR'] = df_importances_stat[0.75]-df_importances_stat[0.25]\n",
    "df_importances_stat.index = df_importances_stat['Feature Id no unit'].copy()\n",
    "df_importances_stat = df_importances_stat[[0.5, 'IQR']]\n",
    "df_importances_stat.columns = ['Median', 'IQR']\n",
    "\n",
    "df_importances_count = df_importances[['Feature Id no unit', 'site']].groupby('Feature Id no unit').count()/10\n",
    "df_importances_count.columns = ['Count']\n",
    "\n",
    "df_importances_stat = df_importances_stat.merge(df_importances_count, left_index=True, right_index=True)\n",
    "\n",
    "df_importances_top5 = df_importances_stat[['Median', 'Count']].sort_values('Median',ascending=False).groupby('Count').rank(method='first', ascending=False)\n",
    "df_importances_top5.columns = ['Label_rank']\n",
    "\n",
    "df_importances_top5=df_importances_top5[df_importances_top5['Label_rank']<=5]\n",
    "df_importances_top5['Label_rank'] = -1*(df_importances_top5['Label_rank']-3)-2\n",
    "df_importances_stat = df_importances_stat.merge(df_importances_top5[['Label_rank']], left_index=True, right_index=True, how='left').fillna(-100)"
   ]
  },
  {
   "cell_type": "code",
   "execution_count": null,
   "id": "5622c87a-fb74-4105-bdbb-87a11ef2ab8d",
   "metadata": {
    "tags": []
   },
   "outputs": [],
   "source": [
    "# df_importances[df_importances['Feature Id'].str.contains('1863-0')]\n",
    "# df_importances[df_importances['Feature Id'].str.contains('39.95')]\n",
    "# df_importances[df_importances['Feature Id'].str.contains('1963-8')]"
   ]
  },
  {
   "cell_type": "code",
   "execution_count": null,
   "id": "28d8ac38-a546-49e9-9256-bffdf67f7ec8",
   "metadata": {
    "tags": []
   },
   "outputs": [],
   "source": [
    "df_importances[df_importances['Feature Id no unit']=='LAB::1962-0']"
   ]
  },
  {
   "cell_type": "code",
   "execution_count": null,
   "id": "92e22385-a686-4d57-b29a-440bec477327",
   "metadata": {
    "tags": []
   },
   "outputs": [],
   "source": [
    "df_importances[df_importances['Feature Id no unit']=='LAB::LG4454-7']"
   ]
  },
  {
   "cell_type": "code",
   "execution_count": null,
   "id": "32aa9477-53bd-4635-990d-762c4ef210d3",
   "metadata": {
    "tags": []
   },
   "outputs": [],
   "source": [
    "df_importances[df_importances['Feature Id no unit']=='LAB::LG2807-8']"
   ]
  },
  {
   "cell_type": "code",
   "execution_count": null,
   "id": "8ca4f221-29f0-4f8c-8781-41079b09b166",
   "metadata": {
    "tags": []
   },
   "outputs": [],
   "source": [
    "df_importances['Feature Id no unit'].unique()"
   ]
  },
  {
   "cell_type": "code",
   "execution_count": null,
   "id": "464a74ea-f6d6-4da9-854c-1848c7d17d25",
   "metadata": {
    "tags": []
   },
   "outputs": [],
   "source": [
    "#Translate label to omop\n",
    "\n",
    "def translate_omop_pre():\n",
    "#        path_concept = \"/home/hoyinchan/code/concept_vocab/\"\n",
    "    path_concept =\"/blue/yonghui.wu/hoyinchan/concept_vocab/\"\n",
    "    concept = pd.read_csv(path_concept+'CONCEPT.csv', sep='\\t')\n",
    "    concept['vocabulary_id'] = concept['vocabulary_id'].replace('CPT4', 'HCPCS')\n",
    "    concept['concept_code'] = concept['concept_code'].astype(str)\n",
    "    return concept\n",
    "#        concept_cpt4 = pd.read_csv(path_concept+'CONCEPT_CPT4.csv', sep='\\t')\n",
    "#        concept = pd.concat([concept, concept_cpt4])\n",
    "\n",
    "def translate_omop(label):\n",
    "    def get_vocabulary_id(prefix):\n",
    "        return {\n",
    "            'LAB': 'LOINC',\n",
    "            'MEDRX': 'RxNorm',\n",
    "            'PXCH': 'HCPCS',\n",
    "            'PX09': 'ICD9Proc',\n",
    "            'PX10': 'ICD10PCS',\n",
    "            'MEDATC':'ATC'\n",
    "            \n",
    "        }.get(prefix, None)\n",
    "\n",
    "    try:\n",
    "        prefix, code, extra = label.split(':')\n",
    "        try:\n",
    "            extra = extra.split('(')[0]    \n",
    "        except:\n",
    "            pass\n",
    "    #    extra = extra.replace('.','')\n",
    "        if prefix == 'PX':\n",
    "            prefix = prefix+code\n",
    "        if prefix == 'MED':\n",
    "            prefix = prefix+code  \n",
    "        if prefix == 'DX':\n",
    "            prefix = prefix+code              \n",
    "        label_omop = concept[(concept['concept_code'] == extra) & (concept['vocabulary_id'] == get_vocabulary_id(prefix))]['concept_name'].iloc[0]\n",
    "    except:\n",
    "        label_omop = label\n",
    "    return label_omop\n",
    "\n",
    "#concept = translate_omop_pre()\n",
    "#omop_label = {x:translate_omop(x, concept) for x in df_importances_stat[df_importances_stat['Label_rank']!=-100].index}\n",
    "# first_dixt = {x:plotshapsn.translate_omop(x) for x in plotshapsn.shapdf['Feature'].unique()}\n",
    "# Then ask ChatGPT to extract \"extract the medical procedure, medication or Lab measurement from...\"\n",
    "def extra_translate_omop(label):\n",
    "    extracted_data = {\n",
    "        'AGE': 'AGE',\n",
    "        'DX:09:428bt6': 'Heart failure (428)',\n",
    "        'LAB::10466-1': 'Anion gap 3 (10466-1)',\n",
    "        'LAB::14979-9': 'aPTT (14979-9)',\n",
    "        'LAB::17861-6': 'Calcium (17861-6)',\n",
    "        'LAB::1863-0': 'Anion gap 4 (1863-0)',\n",
    "        'LAB::19123-9': 'Magnesium (19123-9)',\n",
    "        'LAB::1920-8': 'Aspartate aminotransferase (1920-8)',\n",
    "        'LAB::1962-0': 'Deprecated Bicarbonate (1962-0)',\n",
    "        'LAB::1963-8': 'Bicarbonate (1963-8)',\n",
    "        'LAB::2028-9': 'Carbon dioxide, total (2028-9)',\n",
    "        'LAB::20570-8': 'Hematocrit (20570-8)',\n",
    "        'LAB::2075-0': 'Chloride (2075-0)',\n",
    "        'LAB::2160-0': 'Creatinine (2160-0)',\n",
    "        'LAB::2340-8': 'Glucose (2340-8)',\n",
    "        'LAB::2345-7': 'Glucose (2345-7)',\n",
    "        'LAB::26464-8': 'Leukocytes (26464-8)',\n",
    "        'LAB::26478-8': 'Lymphocytes/100 leukocytes (26478-8)',\n",
    "        'LAB::2708-6': 'Oxygen saturation (2708-6)',\n",
    "        'LAB::3094-0': 'Urea nitrogen (3094-0)',\n",
    "        'LAB::3097-3': 'Urea nitrogen/Creatinine ratio (3097-3)',\n",
    "        'LAB::33037-3': 'Anion gap (33037-3)',\n",
    "        'LAB::38483-4': 'Creatinine (38483-4)',\n",
    "        'LAB::4092-3': 'Vancomycin (4092-3)',\n",
    "        'LAB::41653-7': 'Glucose (41653-7)',\n",
    "        'LAB::43413-4': 'Blood product units requested (43413-4)',\n",
    "        'LAB::4544-3': 'Hematocrit (4544-3)',\n",
    "        'LAB::48642-3': 'GFR predicted among non-blacks (48642-3)',\n",
    "        'LAB::5902-2': 'Prothrombin time (PT) (5902-2)',\n",
    "        'LAB::6690-2': 'Leukocytes (6690-2)',\n",
    "        'LAB::713-8': 'Eosinophils/100 leukocytes (713-8)',\n",
    "        'LAB::731-0': 'Lymphocytes (731-0)',\n",
    "        'LAB::736-9': 'Lymphocytes/100 leukocytes (736-9)',\n",
    "        'LAB::777-3': 'Platelets (777-3)',\n",
    "        'LAB::788-0': 'Erythrocyte distribution width (788-0)',\n",
    "        'LAB::789-8': 'Erythrocytes (789-8)',\n",
    "        'LAB::LG5665-7': 'Alkaline phosphatase (LG5665-7)',\n",
    "        'MED:ATC:C03CA': 'Sulfonamides, plain (C03CA)',\n",
    "        'MED:ATC:J01CG': 'Beta-lactamase inhibitors (J01CG)',\n",
    "        'ORIGINAL_BMI': 'BMI',\n",
    "        'PX:09:39.61': 'Extracorporeal circulation auxiliary to open heart surgery (39.61)',\n",
    "        'PX:09:39.95': 'Hemodialysis (39.95)',\n",
    "        'PX:09:96.72': 'Continuous invasive mechanical ventilation >96 hrs (96.72)',\n",
    "        'PX:09:99.04': 'Transfusion of packed cells (99.04)',\n",
    "        'PX:10:5A1955Z': 'Respiratory Ventilation >96 hrs (5A1955Z)',\n",
    "        'PX:CH:36415': 'Venous blood collection (36415)',\n",
    "        'PX:CH:97116': 'Therapeutic procedure; gait training (97116)',\n",
    "        'PX:CH:A6257': 'Transparent film dressing (A6257)',\n",
    "        'PX:CH:J1940': 'Furosemide injection (J1940)',\n",
    "        'PX:CH:J2543': 'Piperacillin/tazobactam injection (J2543)',\n",
    "        'LAB::2777-1': 'Phosphate (789-8)',\n",
    "        'LAB::1975-2': 'Bilirubin.total (1975-2)',\n",
    "        'LAB::2823-3': 'Potassium (2823-2)',\n",
    "        'LAB::2951-2': 'Sodium (2951-2)',\n",
    "        'LAB::718-7': 'Hemoglobin (718-7)'\n",
    "    }\n",
    "    return extracted_data.get(label, label)"
   ]
  },
  {
   "cell_type": "code",
   "execution_count": null,
   "id": "15a65671-6bf8-4f66-8d2f-2e0ba1cab0e4",
   "metadata": {
    "tags": []
   },
   "outputs": [],
   "source": [
    "#Customize height if overlap\n",
    "df_importances_stat['cusheight'] = 1\n",
    "df_importances_stat.loc['PX:09:96.72', 'cusheight'] = 1.75\n",
    "df_importances_stat.loc['LAB::3097-3', 'cusheight'] = 1.75\n",
    "df_importances_stat.loc['LAB::1863-0', 'cusheight'] = 1.75\n",
    "df_importances_stat.loc['PX:09:39.95', 'cusheight'] = 1.75\n",
    "df_importances_stat.loc['LAB::41653-7', 'cusheight'] = 1.75\n",
    "df_importances_stat.loc['LAB::41653-7', 'cusheight'] = 1.75"
   ]
  },
  {
   "cell_type": "code",
   "execution_count": null,
   "id": "3766cf1a-e6fb-404b-94fb-0ef7ad016f6d",
   "metadata": {
    "tags": []
   },
   "outputs": [],
   "source": [
    "#len(df_importances_raw2['Feature Id'].unique()) #667\n",
    "#len(df_importances_stat.index) #568"
   ]
  },
  {
   "cell_type": "code",
   "execution_count": null,
   "id": "240c30b2-1622-43d9-b50a-d21701887570",
   "metadata": {
    "tags": []
   },
   "outputs": [],
   "source": [
    "#Plot\n",
    "df = df_importances_stat\n",
    "\n",
    "# Scatter plot\n",
    "plt.figure(figsize=(20, 12))\n",
    "scatter = plt.scatter(df['Median'], df['Count'], c=df['IQR'], cmap='coolwarm', s=200)\n",
    "\n",
    "# Colorbar for IQR\n",
    "cbar  = plt.colorbar(scatter, label='IQR Value')\n",
    "cbar.ax.tick_params(labelsize=12)  # Increase font size for color bar ticks\n",
    "cbar.set_label('IQR Value', fontsize=20)  # Increase font size for color bar label\n",
    "\n",
    "# Add text for points where Label is True with annotation lines\n",
    "for idx, row in df.iterrows():\n",
    "    if row['Label_rank']!=-100:\n",
    "        plt.annotate(\n",
    "            extra_translate_omop(idx), \n",
    "            xy=(row['Median'], row['Count']), \n",
    "            xytext=(row['Median'] + 0.07*row['Label_rank']-0.06, row['Count'] + 0.03*[-row['cusheight'] if row['Label_rank']%2==1 else row['cusheight']][0]),  # adjust text position\n",
    "            arrowprops=dict(arrowstyle='-', lw=1),\n",
    "            fontsize=9\n",
    "        )\n",
    "\n",
    "# Set y-ticks to be at intervals of 0.1\n",
    "plt.yticks(np.arange(0, 1.1, 0.1))\n",
    "\n",
    "# Adding grid lines\n",
    "plt.grid(True)\n",
    "        \n",
    "# Increase font size for x and y ticks\n",
    "plt.xticks(fontsize=12)\n",
    "plt.yticks(fontsize=12)    \n",
    "    \n",
    "plt.xlabel('Importance ranking (median of soft ranking)', fontsize = 20)\n",
    "plt.ylabel('Commonality across sites', fontsize= 20)\n",
    "plt.savefig('feature_ranks.svg', bbox_inches='tight')"
   ]
  },
  {
   "cell_type": "code",
   "execution_count": null,
   "id": "2c1e9773-0ed1-4469-a3e1-17612e5ce937",
   "metadata": {
    "tags": []
   },
   "outputs": [],
   "source": [
    "df_importances_stat"
   ]
  },
  {
   "cell_type": "code",
   "execution_count": null,
   "id": "ff744c80-c9a1-41fa-9865-9a2f2f02220e",
   "metadata": {
    "tags": []
   },
   "outputs": [],
   "source": []
  },
  {
   "cell_type": "code",
   "execution_count": null,
   "id": "332b4d88-0305-4141-8fab-7761697ccd3f",
   "metadata": {
    "tags": []
   },
   "outputs": [],
   "source": []
  },
  {
   "cell_type": "code",
   "execution_count": null,
   "id": "56e09cf7-c45d-480d-839b-daf90e202c8f",
   "metadata": {
    "tags": []
   },
   "outputs": [],
   "source": []
  },
  {
   "cell_type": "code",
   "execution_count": null,
   "id": "480b6c46-e075-4fac-bf07-420ab0d08d45",
   "metadata": {
    "tags": []
   },
   "outputs": [],
   "source": []
  },
  {
   "cell_type": "code",
   "execution_count": null,
   "id": "310a34b8-a54a-4049-8504-76221a5f7a5b",
   "metadata": {
    "tags": []
   },
   "outputs": [],
   "source": []
  },
  {
   "cell_type": "code",
   "execution_count": null,
   "id": "84a9e4b9-3f22-4529-a917-194fa00077c9",
   "metadata": {
    "tags": []
   },
   "outputs": [],
   "source": []
  },
  {
   "cell_type": "code",
   "execution_count": null,
   "id": "c994e00c-8ed7-4890-a587-bae7e61889ba",
   "metadata": {
    "tags": []
   },
   "outputs": [],
   "source": []
  },
  {
   "cell_type": "code",
   "execution_count": null,
   "id": "8ce26aa4-fb51-452f-b1ae-7f87a8553e23",
   "metadata": {
    "tags": []
   },
   "outputs": [],
   "source": []
  },
  {
   "cell_type": "code",
   "execution_count": null,
   "id": "b3327ceb-c9d9-4a2f-a8e8-5fa760b7c2e7",
   "metadata": {
    "tags": []
   },
   "outputs": [],
   "source": [
    "r2 = pd.read_csv('MetaRegression/r2svg.csv')\n",
    "#r2['Feature Id no unit'] = r2['0'].str.split('(').str[0]\n",
    "#r2.index = r2['Feature Id no unit']\n",
    "#df_importances_stat2 = df_importances_stat.merge(r2, how='inner', right_index=True, left_index=True)"
   ]
  },
  {
   "cell_type": "code",
   "execution_count": null,
   "id": "9bc924cb-ac0c-4cab-95ee-77c354151650",
   "metadata": {
    "tags": []
   },
   "outputs": [],
   "source": [
    "shap_datas_agg = shap_datas[['site_m', 'site_d', 'roc']].groupby(['site_m', 'site_d']).agg(['mean', 'std']).reset_index()\n",
    "shap_datas_agg.columns = ['site_m', 'site_d', 'mean', 'std']\n",
    "shap_datas_agg = shap_datas_agg[['site_m', 'site_d', 'mean']]\n",
    "\n",
    "shap_datas_agg_1  = shap_datas_agg[shap_datas_agg['site_m']==shap_datas_agg['site_d']]\n",
    "shap_datas_agg_2  = shap_datas_agg[shap_datas_agg['site_m']!=shap_datas_agg['site_d']]\n",
    "shap_datas_agg_2 = shap_datas_agg_2[['site_m', 'mean']].groupby('site_m').mean().reset_index()\n",
    "shap_datas_agg_2.columns = ['site_m', 'ext_mean']\n",
    "\n",
    "shap_datas_agg_1 = shap_datas_agg_1.merge(shap_datas_agg_2, on='site_m', how='inner')\n",
    "shap_datas_agg_1['transportability'] = shap_datas_agg_1['ext_mean']/shap_datas_agg_1['mean']\n",
    "#shap_datas_agg_1.sort_values('transportability',ascending=False)"
   ]
  },
  {
   "cell_type": "code",
   "execution_count": null,
   "id": "49edd497-c7ac-4ecc-ae21-7ae30804b024",
   "metadata": {
    "tags": []
   },
   "outputs": [],
   "source": [
    "df_importances_raw = df_importances_raw2.copy()\n",
    "df_importances_raw = df_importances_raw.merge(r2[['0', 'r.sq_spline_noAUC']], left_on='Feature Id',right_on='0', how='inner')"
   ]
  },
  {
   "cell_type": "code",
   "execution_count": null,
   "id": "790d9dbb-fe2c-4eba-8ff6-0135889af223",
   "metadata": {
    "tags": []
   },
   "outputs": [],
   "source": [
    "# Create a DataFrame of all possible combinations\n",
    "all_combos = pd.MultiIndex.from_product([\n",
    "    df_importances_raw['Feature Id no unit'].unique(),\n",
    "    df_importances_raw['site'].unique()\n",
    "], names=['Feature Id no unit', 'site']).to_frame(index=False)\n",
    "\n",
    "# Merge with the original DataFrame\n",
    "df_full = pd.merge(all_combos, df_importances_raw, on=['Feature Id no unit', 'site'], how='left')"
   ]
  },
  {
   "cell_type": "code",
   "execution_count": null,
   "id": "af41be20-453c-4a63-b078-e980c709ac1d",
   "metadata": {
    "tags": []
   },
   "outputs": [],
   "source": [
    "# Fill missing values with 0\n",
    "df_full['r.sq_spline_noAUC'] = df_full['r.sq_spline_noAUC'].fillna(0)\n",
    "df_full['rank'] = df_full['rank'].fillna(0)"
   ]
  },
  {
   "cell_type": "code",
   "execution_count": null,
   "id": "53a91be5-1f69-4227-88ad-16cfc82c7684",
   "metadata": {
    "tags": []
   },
   "outputs": [],
   "source": [
    "df_importances_raw = df_full\n",
    "\n",
    "df_importances_raw = df_importances_raw.merge(shap_datas_agg_1[['site_m','transportability']], left_on='site',right_on='site_m',how='left')\n",
    "#df_importances_raw['Feature Id no unit'] = df_importances_raw['Feature Id'].str.split('(').str[0]\n",
    "df_importances_raw = df_importances_raw[['Feature Id no unit', 'rank', 'site', 'r.sq_spline_noAUC', 'transportability']]\n",
    "df_importances_raw['Feature Id no unit'] = df_importances_raw['Feature Id no unit'].apply(extra_translate_omop)"
   ]
  },
  {
   "cell_type": "code",
   "execution_count": null,
   "id": "6a838442-253f-489c-b209-b2f46de5c866",
   "metadata": {
    "tags": []
   },
   "outputs": [],
   "source": [
    "# Sort DataFrame by 'transportability' in descending order\n",
    "df_importances_raw = df_importances_raw.sort_values(by='transportability', ascending=False)\n",
    "\n",
    "# Create a mapping for 'site' to display transportability\n",
    "df_importances_raw['site_label'] = df_importances_raw['site'] + \" (\" + df_importances_raw['transportability'].round(2).astype(str) + \")\"\n",
    "\n",
    "# Normalize 'r.sq_spline_noAUC' for size scaling\n",
    "size = df_importances_raw['r.sq_spline_noAUC'] * 100  # Adjust the scaling factor as needed\n",
    "\n",
    "# Assign unique colors to each unique 'Feature Id no unit'\n",
    "colors = plt.cm.viridis(np.linspace(0, 1, len(df_importances_raw['Feature Id no unit'].unique())))\n",
    "color_dict = dict(zip(df_importances_raw['Feature Id no unit'].unique(), colors))\n",
    "\n",
    "# Create the scatter plot\n",
    "plt.figure(figsize=(12, 8))\n",
    "for feature in df_importances_raw['Feature Id no unit'].unique():\n",
    "    idx = df_importances_raw['Feature Id no unit'] == feature\n",
    "    plt.scatter(df_importances_raw['site_label'][idx], df_importances_raw['rank'][idx], \n",
    "                s=size[idx], c=[color_dict[feature]], label=feature, alpha=0.7)\n",
    "\n",
    "# Add labels and title\n",
    "plt.xlabel('Site (Transportability)')\n",
    "plt.ylabel('Rank')\n",
    "plt.title('Scatter Plot by Feature, Site, and Rank')\n",
    "plt.xticks(rotation=45)  # Rotate x-axis labels for better readability\n",
    "\n",
    "# Add a legend\n",
    "plt.legend(title='Feature Id no unit', bbox_to_anchor=(1.05, 1), loc='upper left')\n",
    "\n",
    "# Turn on grid lines\n",
    "plt.grid(True)\n",
    "\n",
    "# Show the plot\n",
    "plt.tight_layout()\n",
    "plt.show()"
   ]
  },
  {
   "cell_type": "code",
   "execution_count": null,
   "id": "d8f57518-b92b-4a6d-9f4c-0a91298a8cbd",
   "metadata": {
    "tags": []
   },
   "outputs": [],
   "source": [
    "df_importances_avg = df_importances_raw[['site','rank','r.sq_spline_noAUC']].groupby('site').sum()\n",
    "\n",
    "# Calculate the weighted rank for each row\n",
    "df_importances_raw['weighted_rank'] = df_importances_raw['rank'] * df_importances_raw['r.sq_spline_noAUC']\n",
    "\n",
    "# Group by 'site' and calculate the sum of weighted ranks and the sum of weights\n",
    "grouped = df_importances_raw.groupby('site').agg(\n",
    "    total_weighted_rank=pd.NamedAgg(column='weighted_rank', aggfunc='sum'),\n",
    "    total_weight=pd.NamedAgg(column='r.sq_spline_noAUC', aggfunc='sum')\n",
    ")\n",
    "\n",
    "# Calculate the weighted average of rank for each site\n",
    "grouped['weighted_avg_rank'] = grouped['total_weighted_rank'] / grouped['total_weight']\n",
    "\n",
    "# Reset index of the grouped DataFrame to merge\n",
    "grouped_reset = grouped.reset_index()\n",
    "\n",
    "# Merge the weighted average rank back to the original DataFrame\n",
    "df_importances_raw = pd.merge(df_importances_raw, grouped_reset[['site', 'weighted_avg_rank']], on='site', how='left')"
   ]
  },
  {
   "cell_type": "code",
   "execution_count": null,
   "id": "ddd60780-c489-41fd-b879-91ac7669b0bb",
   "metadata": {
    "tags": []
   },
   "outputs": [],
   "source": [
    "# Filter out the data for the site 'IUR'\n",
    "#df_filtered = df_importances_raw[df_importances_raw['site'] != 'IUR']\n",
    "df_filtered = df_importances_raw.copy()\n",
    "df_filtered['site'] = df_filtered['site'].map(site_keyr)\n",
    "\n",
    "# Selecting the data for the plot\n",
    "x = df_filtered['weighted_avg_rank']\n",
    "y = df_filtered['transportability']\n",
    "\n",
    "# Perform linear regression\n",
    "slope, intercept, r_value, _, _ = stats.linregress(x, y)\n",
    "fit_line = slope * x + intercept\n",
    "r_squared = r_value**2  # Coefficient of determination (R^2)\n",
    "\n",
    "# Creating the scatter plot\n",
    "plt.figure(figsize=(10, 6))\n",
    "plt.scatter(x, y)\n",
    "\n",
    "# Labeling each point with its site\n",
    "label_offset_y = 0.0025\n",
    "for i, row in df_filtered.iterrows():\n",
    "    plt.text(row['weighted_avg_rank'], row['transportability'] + label_offset_y, row['site'], fontsize=9, ha='center')\n",
    "\n",
    "# Plotting the linear fit line\n",
    "plt.plot(x, fit_line, color='red', label=f'Linear fit: y={slope:.2f}x+{intercept:.2f}')\n",
    "\n",
    "# Adding labels, title, legend, grid, and R^2 value\n",
    "plt.xlabel('Weighted Average Rank')\n",
    "plt.ylabel('Transportability')\n",
    "plt.legend()\n",
    "plt.grid(True)\n",
    "plt.text(0.05, 0.95, f'$R^2$ = {r_squared:.2f}', transform=plt.gca().transAxes)  # Display R^2 on plot\n",
    "\n",
    "# Show the plot\n",
    "plt.show()"
   ]
  },
  {
   "cell_type": "code",
   "execution_count": null,
   "id": "b4846d70-f5f8-4bf5-8890-519f6249d5e5",
   "metadata": {
    "tags": []
   },
   "outputs": [],
   "source": []
  },
  {
   "cell_type": "code",
   "execution_count": null,
   "id": "7c2c0efb-64e1-4b6b-bd26-64e4dd514472",
   "metadata": {
    "tags": []
   },
   "outputs": [],
   "source": []
  },
  {
   "cell_type": "code",
   "execution_count": null,
   "id": "3008080a-3b7e-4198-afe2-7a7327a11b71",
   "metadata": {
    "tags": []
   },
   "outputs": [],
   "source": []
  },
  {
   "cell_type": "code",
   "execution_count": null,
   "id": "e2c0871e-86ce-4b2e-8ab7-3fb2589ad389",
   "metadata": {
    "tags": []
   },
   "outputs": [],
   "source": []
  },
  {
   "cell_type": "code",
   "execution_count": null,
   "id": "d5297d81-9d04-4ecb-b701-9c407fbc7d2e",
   "metadata": {
    "tags": []
   },
   "outputs": [],
   "source": []
  },
  {
   "cell_type": "code",
   "execution_count": null,
   "id": "5e163322-63df-4eb4-ad22-1416df93d2c7",
   "metadata": {
    "tags": []
   },
   "outputs": [],
   "source": []
  },
  {
   "cell_type": "code",
   "execution_count": null,
   "id": "ff017a39-2ae1-45f8-8624-6a50399def1f",
   "metadata": {
    "tags": []
   },
   "outputs": [],
   "source": []
  },
  {
   "cell_type": "code",
   "execution_count": null,
   "id": "da2a83ef-25fb-40db-981c-b22d22c200ed",
   "metadata": {
    "tags": []
   },
   "outputs": [],
   "source": [
    "#ROC plot\n",
    "\n",
    "shap_datas = shap_datas.dropna()\n",
    "\n",
    "from itertools import chain\n",
    "out1 = (shap_datas.groupby(['site_m', 'site_d'], as_index=False)['y_test']\n",
    "         .agg(lambda x: list(chain.from_iterable(x)))\n",
    "       )\n",
    "out2 = (shap_datas.groupby(['site_m', 'site_d'], as_index=False)['pred']\n",
    "         .agg(lambda x: list(chain.from_iterable(x)))\n",
    "       )\n",
    "\n",
    "roc_plot = out1.merge(out2, on=['site_m', 'site_d'],  how='left')\n",
    "\n",
    "pivot_df = roc_plot\n",
    "\n",
    "pivot_df['site_m'] = pivot_df['site_m'].map(site_keyr)\n",
    "pivot_df['site_d'] = pivot_df['site_d'].map(site_keyr)\n",
    "pivot_df = pivot_df.merge(shap_datas_agg, on=['site_m','site_d'],how='left')\n",
    "\n",
    "plt.figure(figsize=(10, 8.5))\n",
    "for index, row in pivot_df.iterrows():\n",
    "    y_test = row['y_test']\n",
    "    pred = row['pred']\n",
    "    # Compute ROC curve and ROC area\n",
    "    fpr, tpr, thresholds = roc_curve(y_test, pred)\n",
    "    roc_auc = auc(fpr, tpr)\n",
    "\n",
    "    # Plotting\n",
    "    lw = 2\n",
    "    plt.plot(fpr, tpr)\n",
    "#             lw=lw, label=str(row['site_m'])+':'+str(row['site_d']) % mean)\n",
    "    \n",
    "plt.plot([0, 1], [0, 1], color='navy', lw=lw, linestyle='--')\n",
    "plt.xlim([0.0, 1.0])\n",
    "plt.ylim([0.0, 1.05])\n",
    "plt.xlabel('False Positive Rate', fontsize=20)\n",
    "plt.ylabel('True Positive Rate', fontsize=20)\n",
    "plt.title('ROC', fontsize=20)\n",
    "#plt.legend(loc=\"lower right\")\n",
    "plt.savefig('ROC.svg', format='svg', bbox_inches='tight')\n",
    "#plt.show()"
   ]
  },
  {
   "cell_type": "code",
   "execution_count": null,
   "id": "d42ed0bc-a876-4140-872a-45d4c8c36f42",
   "metadata": {},
   "outputs": [],
   "source": []
  }
 ],
 "metadata": {
  "kernelspec": {
   "display_name": "AKI_CDM_PY",
   "language": "python",
   "name": "aki_cdm_py"
  },
  "language_info": {
   "codemirror_mode": {
    "name": "ipython",
    "version": 3
   },
   "file_extension": ".py",
   "mimetype": "text/x-python",
   "name": "python",
   "nbconvert_exporter": "python",
   "pygments_lexer": "ipython3",
   "version": "3.6.15"
  }
 },
 "nbformat": 4,
 "nbformat_minor": 5
}
