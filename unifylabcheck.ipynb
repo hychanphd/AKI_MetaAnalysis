{
 "cells": [
  {
   "cell_type": "code",
   "execution_count": null,
   "id": "66c19bce-6294-4947-87e8-a297668a5020",
   "metadata": {
    "tags": []
   },
   "outputs": [],
   "source": [
    "import pandas as pd"
   ]
  },
  {
   "cell_type": "code",
   "execution_count": null,
   "id": "1520a072-b631-47d2-8c19-3a2a065f2307",
   "metadata": {
    "tags": []
   },
   "outputs": [],
   "source": [
    "labg = pd.read_parquet('/home/hoyinchan/blue/Data/data2022/UofU/p0_lab_g_UofU.parquet')"
   ]
  },
  {
   "cell_type": "code",
   "execution_count": null,
   "id": "625ed143-963b-4680-b510-c0f32915b084",
   "metadata": {
    "tags": []
   },
   "outputs": [],
   "source": [
    "lab = pd.read_parquet('/home/hoyinchan/blue/Data/data2022/UofU/p0_lab_UofU.parquet')"
   ]
  },
  {
   "cell_type": "code",
   "execution_count": null,
   "id": "2375049b-378d-4c11-b5c0-044f24ceb147",
   "metadata": {
    "tags": []
   },
   "outputs": [],
   "source": [
    "labg.columns"
   ]
  },
  {
   "cell_type": "code",
   "execution_count": null,
   "id": "adb5c27c-4ae5-430e-85a4-bc0158e6841b",
   "metadata": {
    "tags": []
   },
   "outputs": [],
   "source": [
    "lab.columns"
   ]
  },
  {
   "cell_type": "code",
   "execution_count": null,
   "id": "a0abc981-5b92-4f26-83f5-8345d7860458",
   "metadata": {
    "tags": []
   },
   "outputs": [],
   "source": [
    "from IPython.display import Audio\n",
    "sound_file = 'beep-11.wav'\n",
    "Audio(sound_file, autoplay=True)"
   ]
  },
  {
   "cell_type": "code",
   "execution_count": null,
   "id": "07a8b2e9-4df7-4a84-92a7-e2f788ea4e8d",
   "metadata": {
    "tags": []
   },
   "outputs": [],
   "source": [
    "z"
   ]
  },
  {
   "cell_type": "code",
   "execution_count": null,
   "id": "674d4aac-c214-4399-98dd-dc062bf4daba",
   "metadata": {
    "tags": []
   },
   "outputs": [],
   "source": [
    "labg = labg[['PATID', 'ENCOUNTERID', 'LAB_LOINC', 'RESULT_NUM', 'RESULT_UNIT', 'DAYS_SINCE_ADMIT']]"
   ]
  },
  {
   "cell_type": "code",
   "execution_count": null,
   "id": "6ce65db0-02d0-403f-905a-74e57cec5bcc",
   "metadata": {},
   "outputs": [],
   "source": [
    "lab = lab[['PATID', 'ENCOUNTERID', 'LAB_LOINC', 'RESULT_NUM', 'RESULT_UNIT', 'DAYS_SINCE_ADMIT']]"
   ]
  },
  {
   "cell_type": "code",
   "execution_count": null,
   "id": "cc970619-6076-4652-81e0-2537137438c8",
   "metadata": {},
   "outputs": [],
   "source": [
    "labg = labg.drop_duplicates()"
   ]
  },
  {
   "cell_type": "code",
   "execution_count": null,
   "id": "4811f264-7f2d-4f1e-b4e4-734aa54264e0",
   "metadata": {},
   "outputs": [],
   "source": [
    "lab = lab.drop_duplicates()"
   ]
  },
  {
   "cell_type": "code",
   "execution_count": null,
   "id": "f865d5b5-37a5-48ff-a3d2-ee1254e84263",
   "metadata": {},
   "outputs": [],
   "source": [
    "labxxx = labg.merge(lab,on=['PATID', 'ENCOUNTERID', 'LAB_LOINC', 'DAYS_SINCE_ADMIT'],how='inner')"
   ]
  },
  {
   "cell_type": "code",
   "execution_count": null,
   "id": "248c959b-cc60-4b6d-8976-f827a5a92363",
   "metadata": {},
   "outputs": [],
   "source": [
    "labxyx = labxxx[labxxx['RESULT_UNIT_x']!=labxxx['RESULT_UNIT_y']]"
   ]
  },
  {
   "cell_type": "code",
   "execution_count": null,
   "id": "06b63aac-378e-454d-afa5-8f28194d0f4f",
   "metadata": {},
   "outputs": [],
   "source": [
    "labxy"
   ]
  },
  {
   "cell_type": "code",
   "execution_count": null,
   "id": "ee67c852-b049-4b21-b36c-83accb4b70bd",
   "metadata": {},
   "outputs": [],
   "source": [
    "import preprocessing1"
   ]
  },
  {
   "cell_type": "code",
   "execution_count": null,
   "id": "75ef3224-c184-43f9-8400-8d40fdafece4",
   "metadata": {},
   "outputs": [],
   "source": [
    "import importlib\n",
    "importlib.reload(preprocessing1)"
   ]
  },
  {
   "cell_type": "code",
   "execution_count": null,
   "id": "e9eb53f8-9314-4abf-87e3-491ba20a4a46",
   "metadata": {},
   "outputs": [],
   "source": [
    "import pandas as pd\n",
    "import xgboost as xgb\n",
    "import numpy as np\n",
    "import sklearn\n",
    "from sklearn.preprocessing import OneHotEncoder\n",
    "from sklearn.impute import SimpleImputer\n",
    "from imblearn.over_sampling import SMOTE\n",
    "from imblearn.pipeline import make_pipeline\n",
    "from imblearn.combine import SMOTEENN\n",
    "from imblearn.over_sampling import SMOTENC\n",
    "import matplotlib.pyplot as plt\n",
    "from PIL import Image\n",
    "from scipy.interpolate import BSpline, make_interp_spline, interp1d\n",
    "#import rpy2.robjects as robjects\n",
    "#from rpy2.robjects.packages import importr\n",
    "import csv\n",
    "from dfply import *\n",
    "from xgboost import XGBClassifier\n",
    "import logging\n",
    "from sys import getsizeof\n",
    "import utils_function\n",
    "import os\n",
    "import itertools\n",
    "import pickle5 as pickle"
   ]
  },
  {
   "cell_type": "code",
   "execution_count": null,
   "id": "4881c6fe-5358-4d0a-9cdc-fe52e4b11823",
   "metadata": {},
   "outputs": [],
   "source": [
    "UCUMunitX = pd.read_csv('UCUMunitX.csv')"
   ]
  },
  {
   "cell_type": "code",
   "execution_count": null,
   "id": "e9c29789-3657-4bf8-8066-f3e8e3e6a753",
   "metadata": {},
   "outputs": [],
   "source": [
    "UCUMunitX = UCUMunitX[UCUMunitX['factor_final'].notna()]"
   ]
  },
  {
   "cell_type": "code",
   "execution_count": null,
   "id": "09112add-9224-4053-96b0-fe6cb4d47e3a",
   "metadata": {},
   "outputs": [],
   "source": [
    "UCUMunitX"
   ]
  },
  {
   "cell_type": "code",
   "execution_count": null,
   "id": "8b1a5c09-7699-44b0-9d8f-c81437384a51",
   "metadata": {},
   "outputs": [],
   "source": [
    "local_custom_convert =  pd.read_csv('local_custom_convert.csv')"
   ]
  },
  {
   "cell_type": "code",
   "execution_count": null,
   "id": "4d34d2eb-7105-4911-8882-578c6d9cb9fc",
   "metadata": {
    "tags": []
   },
   "outputs": [],
   "source": [
    "site = 'UofU'"
   ]
  },
  {
   "cell_type": "code",
   "execution_count": null,
   "id": "d3a8bbf9-ad6c-4d76-9456-1e910da5d4df",
   "metadata": {
    "tags": []
   },
   "outputs": [],
   "source": [
    "configs_variables = utils_function.read_config(site)\n",
    "datafolder = configs_variables['datafolder']\n",
    "home_directory = configs_variables['home_directory'] "
   ]
  },
  {
   "cell_type": "code",
   "execution_count": null,
   "id": "79c5afd7-41be-4492-b165-4649eecd396b",
   "metadata": {},
   "outputs": [],
   "source": [
    "loincmap3 =pd.read_csv(home_directory+'loinc/AccessoryFiles/GroupFile/GroupLoincTerms.csv') "
   ]
  },
  {
   "cell_type": "code",
   "execution_count": null,
   "id": "eee04840-d4a0-40d7-96ad-8c75b2fc0030",
   "metadata": {
    "tags": []
   },
   "outputs": [],
   "source": [
    "labtest = lab.copy()"
   ]
  },
  {
   "cell_type": "code",
   "execution_count": null,
   "id": "c08b93e6-2311-47f7-bb4e-f6524829475f",
   "metadata": {
    "tags": []
   },
   "outputs": [],
   "source": [
    "labtest['site']=site"
   ]
  },
  {
   "cell_type": "code",
   "execution_count": null,
   "id": "9292e5d0-ba59-4d9f-ad41-f764d4496790",
   "metadata": {
    "tags": []
   },
   "outputs": [],
   "source": [
    "labtest2 = labtest.merge(local_custom_convert, left_on = ['LAB_LOINC', 'site', 'RESULT_UNIT'], right_on = ['LAB_LOINC', 'site', 'SOURCE_UNIT'], how='left')\n",
    "labtest2['NEW_UNIT'] = np.where(labtest2['TARGET_UNIT'].notnull(), labtest2['TARGET_UNIT'], labtest2['RESULT_UNIT'])\n",
    "labtest2['NEW_RESULT_NUM'] = np.where(labtest2['TARGET_UNIT'].notnull(), labtest2['Multipliyer']*labtest2['RESULT_NUM'], labtest2['RESULT_NUM'])\n",
    "\n",
    "labtest3 = labtest2.copy()\n",
    "labtest3['RESULT_UNIT'] = labtest3['NEW_UNIT']\n",
    "labtest3['RESULT_NUM'] = labtest3['NEW_RESULT_NUM']\n",
    "labtest3 = labtest3.drop(['NEW_UNIT', 'NEW_RESULT_NUM', 'SOURCE_UNIT', 'TARGET_UNIT', 'LONG_COMMON_NAME', 'Multipliyer'], axis=1)\n",
    "\n",
    "labtest4 = labtest3.merge(UCUMunitX, on = ['LAB_LOINC', 'RESULT_UNIT'], how='left').copy()\n",
    "labtest4['NEW_UNIT'] = np.where(labtest4['FINAL_UNIT'].notnull(), labtest4['FINAL_UNIT'], labtest4['RESULT_UNIT'])\n",
    "labtest4['NEW_RESULT_NUM'] = np.where(labtest4['FINAL_UNIT'].notnull(), labtest4['factor_final']*labtest4['RESULT_NUM'], labtest4['RESULT_NUM'])\n",
    "labtest4['NEW_LAB_LOINC'] = np.where(labtest4['FINAL_UNIT'].notnull(), labtest4['GroupId'], labtest4['LAB_LOINC'])\n",
    "labtest4['RESULT_UNIT'] = labtest4['NEW_UNIT']\n",
    "labtest4['RESULT_NUM'] = labtest4['NEW_RESULT_NUM']\n",
    "labtest4['LAB_LOINC'] = labtest4['NEW_LAB_LOINC']\n",
    "labtest4 = labtest4.drop(['GroupId', 'EXAMPLE_UCUM_UNITS',\n",
    "       'EXAMPLE_UCUM_UNITS_FINAL', 'RESULT_UNIT_CONSENSUS', 'FINAL_UNIT',\n",
    "       'FINAL_Multiplyer', 'RESULT_UNIT_API', 'FINAL_UNIT_API', 'factor_final',\n",
    "       'NEW_UNIT', 'NEW_RESULT_NUM', 'NEW_LAB_LOINC'], axis=1)\n",
    "\n",
    "mmc = loincmap3[loincmap3['Category']=='Mass-Molar conversion'][['GroupId']]\n",
    "labtest4 = labtest4.merge(mmc, left_on = 'LAB_LOINC', right_on='GroupId', how='left', indicator=True)\n",
    "labtest4 = labtest4[labtest4['_merge']=='left_only']\n",
    "labtest4 = labtest4.drop(['GroupId', '_merge'],axis=1)"
   ]
  },
  {
   "cell_type": "code",
   "execution_count": null,
   "id": "96390255-3e54-4ed0-8e74-2a7ce5a0f9c1",
   "metadata": {
    "tags": []
   },
   "outputs": [],
   "source": [
    "UCUMqualX = pd.read_csv('UCUMqualX.csv')\n",
    "labtest5 = labtest4.copy()\n",
    "labtest5 = labtest5.merge(UCUMqualX[['LAB_LOINC', 'GroupId']].drop_duplicates(), on='LAB_LOINC', how='left')\n",
    "labtest5['NEW_LAB_LOINC'] = np.where(labtest5['GroupId'].notnull(), labtest5['GroupId'], labtest5['LAB_LOINC'])\n",
    "labtest5['LAB_LOINC'] = labtest5['NEW_LAB_LOINC']\n",
    "labtest5 = labtest5.drop(['GroupId','NEW_LAB_LOINC'],axis=1)\n",
    "labtest5 = labtest5.drop('site',axis=1)\n",
    "labtest5 = labtest5.drop_duplicates()"
   ]
  },
  {
   "cell_type": "code",
   "execution_count": null,
   "id": "d89ead15-724a-4c02-b0d4-f078aa263f5a",
   "metadata": {},
   "outputs": [],
   "source": [
    "labtest4 = labtest3.merge(UCUMunitX, on = ['LAB_LOINC', 'RESULT_UNIT'], how='left').copy()"
   ]
  },
  {
   "cell_type": "code",
   "execution_count": null,
   "id": "44ed5f3c-5f8c-43bd-b004-97c41a2ee5aa",
   "metadata": {
    "tags": []
   },
   "outputs": [],
   "source": [
    "labtest4['NEW_UNIT'] = np.where(labtest4['FINAL_UNIT'].notnull(), labtest4['FINAL_UNIT'], labtest4['RESULT_UNIT'])\n",
    "labtest4['NEW_RESULT_NUM'] = np.where(labtest4['FINAL_UNIT'].notnull(), labtest4['factor_final']*labtest4['RESULT_NUM'], labtest4['RESULT_NUM'])\n",
    "labtest4['NEW_LAB_LOINC'] = np.where(labtest4['FINAL_UNIT'].notnull(), labtest4['GroupId'], labtest4['LAB_LOINC'])"
   ]
  },
  {
   "cell_type": "code",
   "execution_count": null,
   "id": "c29c60f2-d9a8-44a7-82a9-98e6b8ea5a8d",
   "metadata": {
    "tags": []
   },
   "outputs": [],
   "source": [
    "labtest4['RESULT_UNIT'] = labtest4['NEW_UNIT']\n",
    "labtest4['RESULT_NUM'] = labtest4['NEW_RESULT_NUM']\n",
    "labtest4['LAB_LOINC'] = labtest4['NEW_LAB_LOINC']"
   ]
  },
  {
   "cell_type": "code",
   "execution_count": null,
   "id": "5a0764ef-9b8f-473b-b245-14f96edf76b2",
   "metadata": {
    "tags": []
   },
   "outputs": [],
   "source": [
    "labtest4 = labtest4.drop(['GroupId', 'EXAMPLE_UCUM_UNITS',\n",
    "       'EXAMPLE_UCUM_UNITS_FINAL', 'RESULT_UNIT_CONSENSUS', 'FINAL_UNIT',\n",
    "       'FINAL_Multiplyer', 'RESULT_UNIT_API', 'FINAL_UNIT_API', 'factor_final',\n",
    "       'NEW_UNIT', 'NEW_RESULT_NUM', 'NEW_LAB_LOINC'], axis=1)"
   ]
  },
  {
   "cell_type": "code",
   "execution_count": null,
   "id": "ab1b142f-5fd3-4a7f-b961-3c2626b71dc6",
   "metadata": {
    "tags": []
   },
   "outputs": [],
   "source": [
    "labtest4"
   ]
  },
  {
   "cell_type": "code",
   "execution_count": null,
   "id": "89d459a1-ff42-4ecd-8876-8a9f70a6c1b7",
   "metadata": {},
   "outputs": [],
   "source": [
    "mmc = loincmap3[loincmap3['Category']=='Mass-Molar conversion'][['GroupId']]\n",
    "labtest4 = labtest4.merge(mmc, left_on = 'LAB_LOINC', right_on='GroupId', how='left', indicator=True)\n",
    "labtest4 = labtest4[labtest4['_merge']=='left_only']\n",
    "labtest4 = labtest4.drop(['GroupId', '_merge'],axis=1)"
   ]
  },
  {
   "cell_type": "code",
   "execution_count": null,
   "id": "ff2223a5-ae9d-499e-8edf-7a9c87dccd45",
   "metadata": {},
   "outputs": [],
   "source": [
    "labtest4"
   ]
  }
 ],
 "metadata": {
  "kernelspec": {
   "display_name": "AKI_CDM_PY",
   "language": "python",
   "name": "aki_cdm_py"
  },
  "language_info": {
   "codemirror_mode": {
    "name": "ipython",
    "version": 3
   },
   "file_extension": ".py",
   "mimetype": "text/x-python",
   "name": "python",
   "nbconvert_exporter": "python",
   "pygments_lexer": "ipython3",
   "version": "3.6.15"
  }
 },
 "nbformat": 4,
 "nbformat_minor": 5
}
