{
 "cells": [
  {
   "cell_type": "code",
   "execution_count": null,
   "id": "746c582e-ec39-4e9a-965f-6a45e4c01cc9",
   "metadata": {
    "tags": []
   },
   "outputs": [],
   "source": [
    "import importlib\n",
    "\n",
    "import ipynb.fs.full.preprocessing0\n",
    "import ipynb.fs.full.preprocessing05\n",
    "#import ipynb.fs.full.prepossessing075_akistage\n",
    "import preprocessing1\n",
    "#import ipynb.fs.full.preprocessing2_BT\n",
    "import preprocessing2_BT\n",
    "\n",
    "import ipynb.fs.full.preprocessing25_BTcorr\n",
    "import ipynb.fs.full.preprocessing3_smote\n",
    "#import ipynb.fs.full.preprocessing4\n",
    "import preprocessing4\n",
    "\n",
    "#import ipynb.fs.full.runxgboost\n",
    "import runxgboost\n",
    "\n",
    "#import ipynb.fs.full.postprocessing1_SHAP\n",
    "\n",
    "import postprocessing1_SHAP\n",
    "\n",
    "import ipynb.fs.full.postprocessing3_collect\n",
    "\n",
    "from ipynb.fs.full.slackbot import ping_slack\n",
    "import pandas as pd\n",
    "import xgboost as xgb\n",
    "import numpy as np\n",
    "import sklearn\n",
    "from sklearn.preprocessing import OneHotEncoder\n",
    "from sklearn.impute import SimpleImputer\n",
    "from imblearn.over_sampling import SMOTE\n",
    "from imblearn.pipeline import make_pipeline\n",
    "from imblearn.combine import SMOTEENN\n",
    "from imblearn.over_sampling import SMOTENC\n",
    "import matplotlib.pyplot as plt\n",
    "from PIL import Image\n",
    "from scipy.interpolate import BSpline, make_interp_spline, interp1d\n",
    "#import rpy2.robjects as robjects\n",
    "#from rpy2.robjects.packages import importr\n",
    "import csv\n",
    "from dfply import *\n",
    "from xgboost import XGBClassifier\n",
    "import itertools\n",
    "import os\n",
    "from tqdm import tqdm\n",
    "from os import listdir\n",
    "from os.path import isfile, join\n",
    "from os.path import exists\n",
    "import logging\n",
    "import time\n",
    "\n",
    "import utils_function\n",
    "import seaborn as sns\n",
    "from scipy import stats\n",
    "\n",
    "import plot_utils\n",
    "import pickle\n",
    "\n",
    "import utils_code2name"
   ]
  },
  {
   "cell_type": "code",
   "execution_count": null,
   "id": "3d458ba0-4b70-4d34-a8c6-54475e120386",
   "metadata": {
    "tags": []
   },
   "outputs": [],
   "source": [
    "importlib.reload(ipynb.fs.full.preprocessing0)\n",
    "importlib.reload(ipynb.fs.full.preprocessing05)\n",
    "#importlib.reload(ipynb.fs.full.prepossessing075_akistage)\n",
    "importlib.reload(preprocessing1)\n",
    "importlib.reload(preprocessing2_BT)\n",
    "importlib.reload(ipynb.fs.full.preprocessing25_BTcorr)\n",
    "importlib.reload(ipynb.fs.full.preprocessing3_smote)\n",
    "# #importlib.reload(ipynb.fs.full.preprocessing4)\n",
    "importlib.reload(preprocessing4)\n",
    "importlib.reload(runxgboost)\n",
    "importlib.reload(postprocessing1_SHAP)\n",
    "importlib.reload(ipynb.fs.full.postprocessing3_collect)\n",
    "importlib.reload(postprocessing1_SHAP)\n",
    "importlib.reload(utils_function)\n",
    "importlib.reload(plot_utils)\n",
    "importlib.reload(utils_code2name)"
   ]
  },
  {
   "cell_type": "code",
   "execution_count": null,
   "id": "bea0114f-8144-4bec-812c-aeeda55cc5db",
   "metadata": {
    "tags": []
   },
   "outputs": [],
   "source": [
    "site_list = ['KUMC', 'UTSW', 'MCW', 'UofU', 'UIOWA', 'UMHC', 'UPITT', 'UTHSCSA', 'UNMC']\n",
    "configs_variables = [utils_function.read_config(site) for site in site_list]"
   ]
  },
  {
   "cell_type": "code",
   "execution_count": null,
   "id": "25850cb9-a438-4d3c-82e8-b2ba761c3eba",
   "metadata": {
    "tags": []
   },
   "outputs": [],
   "source": [
    "plot_utils.geb_top_top(configs_variables)"
   ]
  },
  {
   "cell_type": "code",
   "execution_count": null,
   "id": "5b254240-cd1c-4978-9a2c-0aaa67a9dba2",
   "metadata": {
    "tags": []
   },
   "outputs": [],
   "source": [
    "site, datafolder, home_directory = utils_function.get_commons(configs_variables[0])"
   ]
  },
  {
   "cell_type": "code",
   "execution_count": null,
   "id": "69917786-889f-47f3-97c7-dafe8c277dc9",
   "metadata": {
    "tags": []
   },
   "outputs": [],
   "source": [
    "''' \n",
    "statistics\n",
    "'''\n",
    "onset_counts = list()\n",
    "sumv = 0\n",
    "sump = 0\n",
    "#for site in site_list:\n",
    "for site in site_list:\n",
    "    onset = pd.read_parquet(datafolder+site+'/p0_onset_'+site+'.parquet')\n",
    "    onset = onset.drop_duplicates()\n",
    "    onset_count = onset[['ENCOUNTERID', 'AKI_STAGE']].groupby('AKI_STAGE').count()/onset.shape[0]\n",
    "    sump += onset[['PATID']].drop_duplicates().shape[0]\n",
    "    sumv += onset.shape[0]\n",
    "    onset_count.columns = [site]\n",
    "    onset_counts.append(onset_count)\n",
    "onset_count = np.round(pd.concat(onset_counts,axis=1).T,2)\n"
   ]
  },
  {
   "cell_type": "code",
   "execution_count": null,
   "id": "8ae43126-17be-4806-8e07-04c1139ccb4b",
   "metadata": {
    "tags": []
   },
   "outputs": [],
   "source": [
    "'''\n",
    "Collect cross_validationr results\n",
    "'''\n",
    "shap_datas = plot_utils.collect_cross_cv(configs_variables)"
   ]
  },
  {
   "cell_type": "code",
   "execution_count": null,
   "id": "be2501f9-c700-4aa5-bfb6-2eeb8711d83d",
   "metadata": {
    "tags": []
   },
   "outputs": [],
   "source": [
    "#Avg model transportability\n",
    "shap_datas_ext = shap_datas[shap_datas['site_m']!=  shap_datas['site_d']].groupby('site_m').mean().reset_index()\n",
    "shap_datas_in = shap_datas[shap_datas['site_m']==  shap_datas['site_d']].groupby('site_m').mean().reset_index()"
   ]
  },
  {
   "cell_type": "code",
   "execution_count": null,
   "id": "1fff132a-454d-48b4-b4b7-556cb35d7798",
   "metadata": {
    "tags": []
   },
   "outputs": [],
   "source": [
    "# shap_datas_ext.rename({'roc':'roc_ext','prauc':'prauc_ext'}, inplace=True)\n",
    "# shap_datas_ext.rename({'roc':'roc_in','prauc':'prauc_in'}, inplace=True)\n",
    "shap_datasx = shap_datas_ext.merge(shap_datas_in,on='site_m',how='inner')\n",
    "shap_datasx['trans'] = shap_datasx['roc_x']/shap_datasx['roc_y']\n",
    "shap_datasx"
   ]
  },
  {
   "cell_type": "code",
   "execution_count": null,
   "id": "7bcfb9f5-34b0-4663-be15-f1d95675378c",
   "metadata": {
    "tags": []
   },
   "outputs": [],
   "source": [
    "plot_utils.headmap(shap_datas, target='prauc', site_ano=True)"
   ]
  },
  {
   "cell_type": "code",
   "execution_count": null,
   "id": "2022b986-71bd-4fe0-803f-d514050c8954",
   "metadata": {
    "tags": []
   },
   "outputs": [],
   "source": [
    "plot_utils.headmap(shap_datas, site_ano=True)"
   ]
  },
  {
   "cell_type": "code",
   "execution_count": null,
   "id": "46c485a3-98b6-47d6-8cce-6f1f8e2f24d8",
   "metadata": {
    "tags": []
   },
   "outputs": [],
   "source": [
    "#plot_utils.create_radar_chart_with_confidence(shap_datas, site_ano=True)"
   ]
  },
  {
   "cell_type": "code",
   "execution_count": null,
   "id": "ee3bae18-15af-4dff-9a7a-07ebc641f031",
   "metadata": {
    "tags": []
   },
   "outputs": [],
   "source": [
    "#plot_utils.create_radar_chart_with_confidence(shap_datas, target='prauc', site_ano=True)"
   ]
  },
  {
   "cell_type": "code",
   "execution_count": null,
   "id": "b212efc5-8799-41b8-a8c2-26c733dd1671",
   "metadata": {
    "tags": []
   },
   "outputs": [],
   "source": [
    "importlib.reload(plot_utils)\n",
    "\n",
    "df_importances, df_importances_stat = plot_utils.get_importances_features_stat(configs_variables)"
   ]
  },
  {
   "cell_type": "code",
   "execution_count": null,
   "id": "daf14753-ae9a-49c7-93cc-a40464a0dc12",
   "metadata": {
    "tags": []
   },
   "outputs": [],
   "source": [
    "code_translator = utils_code2name.code2name()\n",
    "#code_translator.load_concept()\n",
    "#omop_label = {x:code_translator.translate_omop(x) for x in df_importances_stat[df_importances_stat['Label_rank']!=-100].index}\n",
    "#omop_label = {x:code_translator.custom_translate_omop_2022(x) for x in df_importances_stat[df_importances_stat['Label_rank']!=-100].index}"
   ]
  },
  {
   "cell_type": "code",
   "execution_count": null,
   "id": "256b4951-fa20-4dd3-abbf-36b900cf6101",
   "metadata": {
    "tags": []
   },
   "outputs": [],
   "source": [
    "df_importances_stat[['PX:' in x for x in df_importances_stat.index]].sort_values('Median')"
   ]
  },
  {
   "cell_type": "code",
   "execution_count": null,
   "id": "2cb96939-e91f-4488-aab0-7074decec515",
   "metadata": {
    "tags": []
   },
   "outputs": [],
   "source": [
    "df_importances_stat.to_pickle('Fig2_plot_feature_importance_data.pkl')"
   ]
  },
  {
   "cell_type": "code",
   "execution_count": null,
   "id": "da53ef70-e7cc-466a-bc77-10769b908a37",
   "metadata": {
    "tags": []
   },
   "outputs": [],
   "source": [
    "importlib.reload(plot_utils)\n",
    "importlib.reload(utils_code2name)\n",
    "code_translator = utils_code2name.code2name()\n",
    "include_list=['PX:CH:J2543', 'PX:CH:36415']\n",
    "modify_list=['LAB::LG7967-5', 'MED:ATC:B01AB', 'LAB::LG32857-1', 'LAB::LG50024-5', 'LAB::26505-8', 'LAB::18182-6', 'LAB::LG6139-2']\n",
    "#modify_list = ['LAB::LG50024-5', 'LAB::LG1962-0']\n",
    "\n",
    "plot_utils.plot_feature_importance(df_importances_stat, code_translator.custom_translate_omop_2022_2_no_lonic, modify_list, include_list)"
   ]
  },
  {
   "cell_type": "code",
   "execution_count": null,
   "id": "3d8f054c-3c4e-4505-b9e7-7f16724de6dd",
   "metadata": {
    "tags": []
   },
   "outputs": [],
   "source": [
    "extracted_data = {\n",
    "    'LAB::LG6657-3': 'Creatinine (LAB:LONIC:LG6657-3)',\n",
    "    'LAB::48642-3': 'Glomerular filtration rate predicted among non-blacks (LAB:LONIC:48642-3)',}\n",
    "extracted_data.get('LAB::LG6657-3', 'LAB::LG6657-3').rsplit(\" \", 1)[0]"
   ]
  },
  {
   "cell_type": "code",
   "execution_count": null,
   "id": "aa4e464e-687b-46ae-ab89-5b752318b13a",
   "metadata": {
    "tags": []
   },
   "outputs": [],
   "source": [
    "#omop_label = {x:code_translator.translate_omop(x) for x in df['Feature Id no unit'].unique()}\n",
    "\n",
    "df = df_importances.sort_values('rank', ascending=False).reset_index().groupby('site').head(10)\n",
    "df['Feature Id'] = [code_translator.custom_translate_omop_2022_2(x) for x in df['Feature Id no unit']]\n",
    "df = df[['Feature Id', 'site', 'rank']]\n",
    "df = df.sort_values(by=['site', 'rank'], ascending=[True, False])\n",
    "df['rank2'] = df.groupby('site').cumcount() + 1\n",
    "df_pivot = df.pivot(index='site', columns='rank2', values='Feature Id')\n",
    "\n",
    "df_pivot"
   ]
  },
  {
   "cell_type": "code",
   "execution_count": null,
   "id": "e3232401-8349-4cfe-8d1f-661c76576219",
   "metadata": {
    "tags": []
   },
   "outputs": [],
   "source": [
    "#df_importances[df_importances['Feature Id no unit']=='LAB::LG32850-6']"
   ]
  },
  {
   "cell_type": "code",
   "execution_count": null,
   "id": "0437edfc-cb9b-4cef-967d-bc08280e18cd",
   "metadata": {
    "tags": []
   },
   "outputs": [],
   "source": [
    "importlib.reload(plot_utils)\n",
    "\n",
    "df_importances, df_importances_stat = plot_utils.get_importances_features_stat(configs_variables)\n",
    "external_heatmap_df = pd.read_csv('r2svg.csv').drop('Unnamed: 0',axis=1)"
   ]
  },
  {
   "cell_type": "code",
   "execution_count": null,
   "id": "131815e4-31cc-4ef9-8edc-6210b9486cb5",
   "metadata": {
    "tags": []
   },
   "outputs": [],
   "source": [
    "df_importances"
   ]
  },
  {
   "cell_type": "code",
   "execution_count": null,
   "id": "2dc172b6-27e0-46d1-897a-47b158b24340",
   "metadata": {
    "tags": []
   },
   "outputs": [],
   "source": []
  },
  {
   "cell_type": "code",
   "execution_count": null,
   "id": "456a8688-9ec0-4a3d-a9bc-1bb67247a207",
   "metadata": {
    "tags": []
   },
   "outputs": [],
   "source": [
    "importlib.reload(plot_utils)\n",
    "include_list=['LAB::LG32892-8', 'AGE', 'LAB::LG4454-7']\n",
    "modify_list=['LAB::LG6373-7', 'LAB::1962-0', 'MED:ATC:B01AB', 'LAB::LG32857-1', 'LAB::LG50024-5', 'LAB::26505-8', 'LAB::18182-6', 'LAB::LG6139-2']\n",
    "plot_utils.plot_feature_importancer2(df_importances_stat, external_heatmap_df, code_translator.custom_translate_omop_2022_2_no_lonic, modify_list, include_list)"
   ]
  },
  {
   "cell_type": "code",
   "execution_count": null,
   "id": "57e79886-ced5-4902-961c-92d9ddf68416",
   "metadata": {},
   "outputs": [],
   "source": []
  },
  {
   "cell_type": "code",
   "execution_count": null,
   "id": "53d8ee1f-03b2-401f-b9db-ad1390893ab4",
   "metadata": {},
   "outputs": [],
   "source": []
  }
 ],
 "metadata": {
  "kernelspec": {
   "display_name": "AKI_CDM_PY",
   "language": "python",
   "name": "aki_cdm_py"
  },
  "language_info": {
   "codemirror_mode": {
    "name": "ipython",
    "version": 3
   },
   "file_extension": ".py",
   "mimetype": "text/x-python",
   "name": "python",
   "nbconvert_exporter": "python",
   "pygments_lexer": "ipython3",
   "version": "3.6.15"
  }
 },
 "nbformat": 4,
 "nbformat_minor": 5
}
