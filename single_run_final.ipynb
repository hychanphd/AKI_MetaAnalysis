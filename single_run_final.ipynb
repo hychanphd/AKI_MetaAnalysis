{
 "cells": [
  {
   "cell_type": "markdown",
   "id": "67577495-375e-45ab-bfe1-d701f5925b79",
   "metadata": {
    "tags": []
   },
   "source": [
    "# This file included the complete pipeline without parallelization\n",
    "Use single_run_patallel.py for parallelization"
   ]
  },
  {
   "cell_type": "markdown",
   "id": "6cd76996-f6d0-4899-a7ec-b5e4b06d4e20",
   "metadata": {
    "jp-MarkdownHeadingCollapsed": true,
    "tags": []
   },
   "source": [
    "# Library Imports"
   ]
  },
  {
   "cell_type": "code",
   "execution_count": null,
   "id": "f9a19197-04da-49d2-b35d-e386ee7f39c8",
   "metadata": {
    "tags": []
   },
   "outputs": [],
   "source": [
    "import importlib\n",
    "\n",
    "import ipynb.fs.full.preprocessing0\n",
    "import ipynb.fs.full.preprocessing05\n",
    "#import ipynb.fs.full.prepossessing075_akistage\n",
    "import preprocessing1\n",
    "#import ipynb.fs.full.preprocessing2_BT\n",
    "import preprocessing2_BT\n",
    "\n",
    "import ipynb.fs.full.preprocessing25_BTcorr\n",
    "import ipynb.fs.full.preprocessing3_smote\n",
    "#import ipynb.fs.full.preprocessing4\n",
    "import preprocessing4\n",
    "\n",
    "#import ipynb.fs.full.runxgboost\n",
    "import runxgboost\n",
    "\n",
    "#import ipynb.fs.full.postprocessing1_SHAP\n",
    "\n",
    "import postprocessing1_SHAP\n",
    "\n",
    "import ipynb.fs.full.postprocessing3_collect\n",
    "\n",
    "from ipynb.fs.full.slackbot import ping_slack\n",
    "import pandas as pd\n",
    "import xgboost as xgb\n",
    "import numpy as np\n",
    "import sklearn\n",
    "from sklearn.preprocessing import OneHotEncoder\n",
    "from sklearn.impute import SimpleImputer\n",
    "from imblearn.over_sampling import SMOTE\n",
    "from imblearn.pipeline import make_pipeline\n",
    "from imblearn.combine import SMOTEENN\n",
    "from imblearn.over_sampling import SMOTENC\n",
    "import matplotlib.pyplot as plt\n",
    "from PIL import Image\n",
    "from scipy.interpolate import BSpline, make_interp_spline, interp1d\n",
    "#import rpy2.robjects as robjects\n",
    "#from rpy2.robjects.packages import importr\n",
    "import csv\n",
    "from dfply import *\n",
    "from xgboost import XGBClassifier\n",
    "import itertools\n",
    "import os\n",
    "from tqdm import tqdm\n",
    "from os import listdir\n",
    "from os.path import isfile, join\n",
    "from os.path import exists\n",
    "import logging\n",
    "import time\n",
    "\n",
    "import utils_function\n",
    "\n",
    "#Reload library to update on any change\n",
    "#importlib.reload(ipynb.fs.full.preprocessing0)\n",
    "importlib.reload(ipynb.fs.full.preprocessing05)\n",
    "#importlib.reload(ipynb.fs.full.preapossessing075_akistage)\n",
    "importlib.reload(preprocessing1)\n",
    "importlib.reload(preprocessing2_BT)\n",
    "importlib.reload(ipynb.fs.full.preprocessing25_BTcorr)\n",
    "importlib.reload(ipynb.fs.full.preprocessing3_smote)\n",
    "# #importlib.reload(ipynb.fs.full.preprocessing4)\n",
    "importlib.reload(preprocessing4)\n",
    "importlib.reload(runxgboost)\n",
    "importlib.reload(postprocessing1_SHAP)\n",
    "importlib.reload(ipynb.fs.full.postprocessing3_collect)\n",
    "importlib.reload(postprocessing1_SHAP)\n",
    "importlib.reload(utils_function)"
   ]
  },
  {
   "cell_type": "markdown",
   "id": "486cd084-3797-4f77-b055-812f223161a2",
   "metadata": {
    "tags": []
   },
   "source": [
    "# Data Requirement\n",
    "Data should be in POCRNET CDM Format"
   ]
  },
  {
   "cell_type": "markdown",
   "id": "f227e3b3-940b-4503-9c79-a8b961fb1e24",
   "metadata": {
    "tags": []
   },
   "source": [
    "# Generate Lab Loinc groups and Unit\n",
    "\n",
    "This session unified lab measurements into unified units and group LOINC code into LOINC groups "
   ]
  },
  {
   "cell_type": "code",
   "execution_count": null,
   "id": "b89d27f8-31aa-45d4-9676-55d36092b710",
   "metadata": {
    "tags": []
   },
   "outputs": [],
   "source": [
    "# labunify.py\n",
    "# Description: A class for unifying lab units and group LOINC code into LOINC groups.\n",
    "# Output files: local_custom_convert.csv\n",
    "# This file unify the lab units within single site\n",
    "# Output files: UCUMqualX.csv\n",
    "# This file cleans the quantitative labs\n",
    "# Output files: UCUMunitX.csv\n",
    "# This file unify the lab units globally\n",
    "# Generated file to be used in preprocessing1.unify_lab\n",
    "\n",
    "import labunify\n",
    "labunify_obj = labunify.labunify()\n",
    "labunify_obj.read_loinc()\n",
    "labunify_obj.read_lab()\n",
    "labunify_obj.get_all_relation()\n",
    "labunify_obj.gen_local_conversion_table()\n",
    "labunify_obj.local_custom_convert.to_csv('local_custom_convert.csv')\n",
    "labunify_obj.get_consensus_unit()\n",
    "labunify_obj.UCUMunitX.to_csv('UCUMunitX.csv')\n",
    "labunify_obj.handle_qualitative()\n",
    "labunify_obj.UCUMqualX.to_csv('UCUMqualX.csv')"
   ]
  },
  {
   "cell_type": "markdown",
   "id": "33afa2d9-45d0-4982-be72-6979fc041897",
   "metadata": {
    "tags": []
   },
   "source": [
    "# Generate RX to ATC conversion Table\n",
    "\n",
    "This session convert all RX and NDC code to ATC code lv4"
   ]
  },
  {
   "cell_type": "code",
   "execution_count": null,
   "id": "8b66ba20-1739-443e-8aae-452959cee0b5",
   "metadata": {
    "tags": []
   },
   "outputs": [],
   "source": [
    "# Cross-reference medunify.ipynb\n",
    "# Run rxnorm2atcR_site.ipynb to translate at the end\n",
    "\n",
    "# rxnorm2atcR_site.ipynb\n",
    "# Description: This file convert RX and NDC code to ATC4th code \n",
    "# Output files: med_unified_conversion_rx2atc.parquet\n",
    "# This files contain conversion from ndc to rx\n",
    "# Output files: med_unified_conversion_nd2rx.parquet\n",
    "# This files contain conversion from rx to ATC4th\n",
    "# To be used in preprocessing1.amed\n",
    "\n",
    "sites = ['UTSW', 'MCW', 'UofU', 'UIOWA', 'UMHC', 'UPITT', 'UTHSCSA', 'UNMC', 'KUMC']\n",
    "configs_variable = utils_function.read_config('UTHSCSA')\n",
    "site, datafolder, home_directory = utils_function.get_commons(configs_variable)\n",
    "\n",
    "#Collect all med code in database\n",
    "ameds = []\n",
    "for site in sites:\n",
    "    print(site)\n",
    "    ameds.append(pd.read_parquet(datafolder+site+'/p0_amed_'+site+'.parquet')[['MEDADMIN_TYPE', 'MEDADMIN_CODE']].drop_duplicates())\n",
    "\n",
    "amed = pd.concat(ameds).drop_duplicates()\n",
    "    amed.to_parquet(datafolder+'/med_unified_conversion_before.parquet')\n",
    "    \n",
    "print(\"RUN rxnorm2atcR_site.ipynb\")"
   ]
  },
  {
   "cell_type": "markdown",
   "id": "d593b823-223b-4218-beee-33f988a67286",
   "metadata": {
    "tags": []
   },
   "source": [
    "# Preprocessing\n",
    "\n",
    "This session prepare preprocess the data from multiple sites into a single table for machine learning"
   ]
  },
  {
   "cell_type": "code",
   "execution_count": null,
   "id": "4077e9e5-0440-4036-8186-696500729583",
   "metadata": {
    "tags": []
   },
   "outputs": [],
   "source": [
    "# Read the config files for variables\n",
    "# The location of config files is at '/home/hoyinchan/code/AKI_CDM_PY/configs_files/publish_config/Configs_init.txt'\n",
    "\n",
    "site_list = ['KUMC', 'UTSW', 'MCW', 'UofU', 'UIOWA', 'UMHC', 'UPITT', 'UTHSCSA', 'UNMC']\n",
    "for site in site_list:\n",
    "    configs_variables = utils_function.read_config(site, suffix='init', config_base_location='/lahome/hoyinchan/code/AKI_CDM_PY/configs_files/publish_config/')\n",
    "    utils_function.write_config(configs_variables, suffix=site)\n",
    "    configs_variables\n",
    "\n",
    "# Change the sites name here    \n",
    "configs_variable = utils_function.read_config('KUMC')"
   ]
  },
  {
   "cell_type": "code",
   "execution_count": null,
   "id": "aec71774-f2a5-4067-b12f-83e79d594661",
   "metadata": {
    "tags": []
   },
   "outputs": [],
   "source": [
    "# Unify Lab\n",
    "preprocessing1.unify_lab(configs_variables)\n",
    "\n",
    "# Drop outliner\n",
    "ipynb.fs.full.preprocessing05.lab_drop_outliner(configs_variables)\n",
    "ipynb.fs.full.preprocessing05.vital_drop_outliner(configs_variables)\n",
    "\n",
    "# Split dataset into smaller files if needed for RAM consideration, using 'year' as index \n",
    "# Run parquet_splitter.py (reference: parquet_splitter.ipynb)\n",
    "\n",
    "onset = pd.read_parquet(configs_variable['datafolder']+configs_variable['site']+'/p0_onset_'+configs_variable['site']+'.parquet')\n",
    "years = list(pd.to_datetime(onset['ADMIT_DATE']).dt.year.unique())    \n",
    "\n",
    "# Preprocess raw table into extracted table (per year)\n",
    "for year in years:\n",
    "    preprocessing1.demo(configs_variable,year)\n",
    "    preprocessing1.vital(configs_variable,year)\n",
    "    preprocessing1.dx(configs_variable,year)\n",
    "    preprocessing1.px(configs_variable,year)\n",
    "    preprocessing1.lab(configs_variable,year)            \n",
    "    preprocessing1.amed(configs_variable,year)\n",
    "    preprocessing2_BT.bigtable(configs_variable,year)\n",
    "\n",
    "# Preprocess raw table into extracted table, drop missing data, set flag, rename column\n",
    "preprocessing4.combinebtpos(configs_variable)\n",
    "\n",
    "# GLOBAL (Abandoned)\n",
    "# Collect ALL site, then use preprocessing25_BTcorr to remove correlated variables\n",
    "# Generate site correlation\n",
    "#ipynb.fs.full.preprocessing25_BTcorr.generate_corr(configs_variable)\n",
    "\n",
    "# Calculate global corr and feature selection (run it in preprocessing25_BTcorr.ipynb\n",
    "#ipynb.fs.full.preprocessing25_BTcorr.calculate_corr_occurence_new()\n",
    "\n",
    "# Drop columns based on result\n",
    "#ipynb.fs.full.preprocessing25_BTcorr.remove_correlated_features(configs_variable)"
   ]
  },
  {
   "cell_type": "markdown",
   "id": "c7b67f14-3265-4eed-a9e7-9d4ddc28316a",
   "metadata": {
    "tags": []
   },
   "source": [
    "# Run CatBoost"
   ]
  },
  {
   "cell_type": "code",
   "execution_count": null,
   "id": "2318ed39-8d89-4e05-a4d9-506cb386fee5",
   "metadata": {
    "tags": []
   },
   "outputs": [],
   "source": [
    "# Create test train split with different oversample strategy\n",
    "ipynb.fs.full.preprocessing3_smote.generate_all_pre_catboost(configs_variable)\n",
    "\n",
    "# Create Cross validation sets\n",
    "ipynb.fs.full.preprocessing3_smote.gen_crossvalidate(configs_variable)\n",
    "\n",
    "# Run single catboost\n",
    "runxgboost.runxgboost(configs_variable)\n",
    "\n",
    "# 10-fold cross validation\n",
    "ipynb.fs.full.runxgboost.gen_crossvalidate(configs_variable)\n",
    "for i in range(configs_variables['n_splits']):\n",
    "    runxgboost.boosttrapcatboost(configs_variable, i)"
   ]
  },
  {
   "cell_type": "markdown",
   "id": "64ab7128-a557-42d8-a67c-2c792c3a399d",
   "metadata": {
    "tags": []
   },
   "source": [
    "# Postprocessing\n",
    "\n",
    "Calculate the SHAP values for use in meta-analysis (Need to run every site CatBoost before running this code)"
   ]
  },
  {
   "cell_type": "code",
   "execution_count": null,
   "id": "8dfb466a-fdbf-4193-a767-35f3e03e4e03",
   "metadata": {
    "tags": []
   },
   "outputs": [],
   "source": [
    "sites = ['MCW', 'UIOWA', 'UMHC', 'UNMC', 'UofU', 'UTHSCSA', 'KUMC', 'UTSW', 'UPITT']\n",
    "\n",
    "# External validation\n",
    "for configs_variables_m in configs_variables:\n",
    "    for configs_variables_d in configs_variables:\n",
    "        for i in range(configs_variables['n_splits']):\n",
    "            postprocessing1_SHAP.collectSHAP_cross_sub_validate(configs_variables_m, configs_variables_d, i)\n",
    "            \n",
    "# Collect SHAP raw for Metaregression\n",
    "ipynb.fs.full.postprocessing3_collect.collect_collectSHAPraw_cross_sub(configs_variables)"
   ]
  },
  {
   "cell_type": "markdown",
   "id": "2721172c-1467-4d73-9b1a-9d0d827a6f50",
   "metadata": {
    "tags": []
   },
   "source": [
    "# Meta-regression\n",
    "Run MetaRegression/metagam3R.ipynb"
   ]
  },
  {
   "cell_type": "markdown",
   "id": "47bd7727-b329-4b5a-accf-5a57fef6c1c3",
   "metadata": {
    "tags": []
   },
   "source": [
    "# Interrupted Time series\n",
    "Run timeseries/medication_its.ipynb and timeseries/medication_itsR.ipynb"
   ]
  },
  {
   "cell_type": "markdown",
   "id": "966fe96a-7306-4206-a631-fe99841c8662",
   "metadata": {
    "tags": []
   },
   "source": [
    "# Confounding Analysis\n",
    "\n",
    "Run timeries/confounder_regression_analysis.ipynb and Run timeries/confounder_regression_analysisR.ipynb\n"
   ]
  },
  {
   "cell_type": "markdown",
   "id": "3913224c-8558-43c5-92c8-6a74679bf9ef",
   "metadata": {
    "tags": []
   },
   "source": [
    "# Ploting script\n",
    "\n",
    "For AUROC heatmap and feature importance plot, run plots_for_paper.ipynb\n",
    "\n",
    "For demographic table, run gen_demo_table.ipynb\n",
    "\n",
    "For flow chart, feature counts, run Produce_Cohort_Table2.ipynb\n",
    "\n",
    "For Meta-regression plots, run plotmeta.ipynb\n",
    "\n",
    "For Interrupted Time series plots, run timeries/medication_itsplot.ipynb and timeries/medication_itsplotR.ipynb"
   ]
  },
  {
   "cell_type": "code",
   "execution_count": null,
   "id": "8bd749a0-3576-40d9-98f1-0dd07d43c8d3",
   "metadata": {
    "tags": []
   },
   "outputs": [],
   "source": []
  },
  {
   "cell_type": "code",
   "execution_count": null,
   "id": "9de860a9-9d57-4463-95ee-ffaba466d35f",
   "metadata": {
    "tags": []
   },
   "outputs": [],
   "source": []
  },
  {
   "cell_type": "code",
   "execution_count": null,
   "id": "fbce1bd2-4282-42b6-acfa-5d7a59ab5e04",
   "metadata": {
    "tags": []
   },
   "outputs": [],
   "source": [
    "# Turn to timeseries folder for timeseries analysis"
   ]
  },
  {
   "cell_type": "code",
   "execution_count": null,
   "id": "2a0068a8-92ba-4870-835f-f6596b41bdc2",
   "metadata": {
    "tags": []
   },
   "outputs": [],
   "source": []
  }
 ],
 "metadata": {
  "kernelspec": {
   "display_name": "AKI_CDM_PY",
   "language": "python",
   "name": "aki_cdm_py"
  },
  "language_info": {
   "codemirror_mode": {
    "name": "ipython",
    "version": 3
   },
   "file_extension": ".py",
   "mimetype": "text/x-python",
   "name": "python",
   "nbconvert_exporter": "python",
   "pygments_lexer": "ipython3",
   "version": "3.6.15"
  }
 },
 "nbformat": 4,
 "nbformat_minor": 5
}
