{
 "cells": [
  {
   "cell_type": "code",
   "execution_count": null,
   "id": "190f43ac-2162-41c9-a5e1-2a9747290e32",
   "metadata": {
    "tags": []
   },
   "outputs": [],
   "source": [
    "import importlib\n",
    "\n",
    "import ipynb.fs.full.preprocessing0\n",
    "import ipynb.fs.full.preprocessing05\n",
    "#import ipynb.fs.full.prepossessing075_akistage\n",
    "import preprocessing1\n",
    "#import ipynb.fs.full.preprocessing2_BT\n",
    "import preprocessing2_BT\n",
    "\n",
    "import ipynb.fs.full.preprocessing25_BTcorr\n",
    "import ipynb.fs.full.preprocessing3_smote\n",
    "#import ipynb.fs.full.preprocessing4\n",
    "import preprocessing4\n",
    "\n",
    "#import ipynb.fs.full.runxgboost\n",
    "import runxgboost\n",
    "\n",
    "#import ipynb.fs.full.postprocessing1_SHAP\n",
    "\n",
    "import postprocessing1_SHAP\n",
    "\n",
    "import ipynb.fs.full.postprocessing3_collect\n",
    "\n",
    "from ipynb.fs.full.slackbot import ping_slack\n",
    "import pandas as pd\n",
    "import xgboost as xgb\n",
    "import numpy as np\n",
    "import sklearn\n",
    "from sklearn.preprocessing import OneHotEncoder\n",
    "from sklearn.impute import SimpleImputer\n",
    "from imblearn.over_sampling import SMOTE\n",
    "from imblearn.pipeline import make_pipeline\n",
    "from imblearn.combine import SMOTEENN\n",
    "from imblearn.over_sampling import SMOTENC\n",
    "import matplotlib.pyplot as plt\n",
    "from PIL import Image\n",
    "from scipy.interpolate import BSpline, make_interp_spline, interp1d\n",
    "#import rpy2.robjects as robjects\n",
    "#from rpy2.robjects.packages import importr\n",
    "import csv\n",
    "from dfply import *\n",
    "from xgboost import XGBClassifier\n",
    "import itertools\n",
    "import os\n",
    "from tqdm import tqdm\n",
    "from os import listdir\n",
    "from os.path import isfile, join\n",
    "from os.path import exists\n",
    "import logging\n",
    "import time\n",
    "\n",
    "import utils_function"
   ]
  },
  {
   "cell_type": "code",
   "execution_count": null,
   "id": "5ca1e368-6f18-4e56-b77e-8c5b91cf58c4",
   "metadata": {
    "tags": []
   },
   "outputs": [],
   "source": [
    "#Reload library to update on any change\n",
    "importlib.reload(ipynb.fs.full.preprocessing0)\n",
    "importlib.reload(ipynb.fs.full.preprocessing05)\n",
    "#importlib.reload(ipynb.fs.full.preapossessing075_akistage)\n",
    "importlib.reload(preprocessing1)\n",
    "importlib.reload(preprocessing2_BT)\n",
    "importlib.reload(ipynb.fs.full.preprocessing25_BTcorr)\n",
    "importlib.reload(ipynb.fs.full.preprocessing3_smote)\n",
    "# #importlib.reload(ipynb.fs.full.preprocessing4)\n",
    "importlib.reload(preprocessing4)\n",
    "importlib.reload(runxgboost)\n",
    "importlib.reload(postprocessing1_SHAP)\n",
    "importlib.reload(ipynb.fs.full.postprocessing3_collect)\n",
    "importlib.reload(postprocessing1_SHAP)\n",
    "importlib.reload(utils_function)"
   ]
  },
  {
   "cell_type": "code",
   "execution_count": null,
   "id": "fbce1bd2-4282-42b6-acfa-5d7a59ab5e04",
   "metadata": {
    "tags": []
   },
   "outputs": [],
   "source": [
    "site_list = ['KUMC', 'UTSW', 'MCW', 'UofU', 'UIOWA', 'UMHC', 'UPITT', 'UTHSCSA', 'UNMC']\n",
    "for site in site_list:\n",
    "    # Read the config files for variables\n",
    "    # The location of config files is at '/home/hoyinchan/code/AKI_CDM_PY/configs_files/publish_config/Configs_init.txt'\n",
    "    configs_variables = utils_function.read_config(site, suffix='init', config_base_location='/home/hoyinchan/code/AKI_CDM_PY/configs_files/publish_config/')\n",
    "    utils_function.write_config(configs_variables, suffix=site)\n",
    "    configs_variables"
   ]
  },
  {
   "cell_type": "code",
   "execution_count": null,
   "id": "2a0068a8-92ba-4870-835f-f6596b41bdc2",
   "metadata": {
    "tags": []
   },
   "outputs": [],
   "source": [
    "configs_variable = utils_function.read_config('UTHSCSA')"
   ]
  },
  {
   "cell_type": "code",
   "execution_count": null,
   "id": "51832ef7-8fdd-4778-a9e5-40a1e183e7cb",
   "metadata": {
    "tags": []
   },
   "outputs": [],
   "source": [
    "configs_variables = [utils_function.read_config(site) for site in site_list]"
   ]
  },
  {
   "cell_type": "code",
   "execution_count": null,
   "id": "9139d69c-99b2-4bb2-a99c-08eb8c567305",
   "metadata": {
    "tags": []
   },
   "outputs": [],
   "source": [
    "configs_variable['rerun_flag'] = True"
   ]
  },
  {
   "cell_type": "code",
   "execution_count": null,
   "id": "b4c10b2a-b29d-4b53-ad82-52de01443e0b",
   "metadata": {
    "tags": []
   },
   "outputs": [],
   "source": [
    "# Run preprocessing0-2022.ipynb"
   ]
  },
  {
   "cell_type": "code",
   "execution_count": null,
   "id": "e0155419-3622-4dd1-b606-161020b52eff",
   "metadata": {
    "tags": []
   },
   "outputs": [],
   "source": [
    "# AKI onset staging (ERIC)\n",
    "# Run preprocessing_onset_individualscr.ipynb\n",
    "# Run preprocessing0-2022_p0_onsets.ipynb\n",
    "# Run proprocess0_gencovid.ipynb\n",
    "# Run preprocessing0-2022.ipynb"
   ]
  },
  {
   "cell_type": "code",
   "execution_count": null,
   "id": "a8955dfb-7776-43ed-b3ca-aa5fb647a735",
   "metadata": {
    "tags": []
   },
   "outputs": [],
   "source": [
    "# Conver pkl to parquest for backward competability\n",
    "# Run convert_to_parquet.ipynb"
   ]
  },
  {
   "cell_type": "code",
   "execution_count": null,
   "id": "4a867b02-4c39-4cf0-964c-882ff94dca78",
   "metadata": {
    "tags": []
   },
   "outputs": [],
   "source": []
  },
  {
   "cell_type": "code",
   "execution_count": null,
   "id": "0b09c23e-e318-4498-a4fa-d8bc847b8921",
   "metadata": {
    "tags": []
   },
   "outputs": [],
   "source": []
  },
  {
   "cell_type": "code",
   "execution_count": null,
   "id": "a52f87cb-9d7d-4a81-a6b2-d8c865e6bc2c",
   "metadata": {
    "tags": []
   },
   "outputs": [],
   "source": [
    "year=2015"
   ]
  },
  {
   "cell_type": "code",
   "execution_count": null,
   "id": "0a2310a5-0c06-482f-8cdb-84a719434652",
   "metadata": {
    "tags": []
   },
   "outputs": [],
   "source": [
    "# run medunify.ipynb to create 'rxnorm_out.csv' and 'ndc_out.csv'"
   ]
  },
  {
   "cell_type": "code",
   "execution_count": null,
   "id": "cce465f2-00fd-446a-81f9-d7bde53628a8",
   "metadata": {
    "tags": []
   },
   "outputs": [],
   "source": [
    "# Run labunitunify.ipynb to create 'UCUMunitX.csv' and 'local_custom_convert.csv'"
   ]
  },
  {
   "cell_type": "code",
   "execution_count": null,
   "id": "2832335f-c1c9-4604-88a5-02f89b67052c",
   "metadata": {
    "collapsed": true,
    "jupyter": {
     "outputs_hidden": true
    },
    "tags": []
   },
   "outputs": [],
   "source": [
    "# Unify Lab\n",
    "preprocessing1.unify_lab(configs_variables)"
   ]
  },
  {
   "cell_type": "code",
   "execution_count": null,
   "id": "d6f987bb-575e-4e14-8099-2b3dc633fb49",
   "metadata": {},
   "outputs": [],
   "source": [
    "# Drop outliner\n",
    "ipynb.fs.full.preprocessing05.lab_drop_outliner(configs_variables)\n",
    "ipynb.fs.full.preprocessing05.vital_drop_outliner(configs_variables)"
   ]
  },
  {
   "cell_type": "code",
   "execution_count": null,
   "id": "9b2c4bf0-50df-4699-a868-aca8ae97edac",
   "metadata": {},
   "outputs": [],
   "source": [
    "# Split dataset into smaller files\n",
    "# Run parquet_splitter.py (reference: parquet_splitter.ipynb)"
   ]
  },
  {
   "cell_type": "code",
   "execution_count": null,
   "id": "de028d71-aea1-4674-8fbf-d09431a2f661",
   "metadata": {},
   "outputs": [],
   "source": [
    "# Get years\n",
    "onset = pd.read_parquet(configs_variable['datafolder']+configs_variable['site']+'/p0_onset_'+configs_variable['site']+'.parquet')\n",
    "years = list(pd.to_datetime(onset['ADMIT_DATE']).dt.year.unique())    "
   ]
  },
  {
   "cell_type": "code",
   "execution_count": null,
   "id": "87c185ed-1cd3-4ba5-8599-a1d07cee98b7",
   "metadata": {},
   "outputs": [],
   "source": [
    "# Preprocess raw table into extracted table (per year)\n",
    "for year in years:\n",
    "    preprocessing1.demo(configs_variable,year)\n",
    "    preprocessing1.vital(configs_variable,year)\n",
    "    preprocessing1.dx(configs_variable,year)\n",
    "    preprocessing1.px(configs_variable,year)\n",
    "    preprocessing1.lab(configs_variable,year)            \n",
    "    preprocessing1.amed(configs_variable,year)\n",
    "    preprocessing2_BT.bigtable(configs_variable,year)"
   ]
  },
  {
   "cell_type": "code",
   "execution_count": null,
   "id": "b563b811-eed1-41dc-bd06-5d48361f1092",
   "metadata": {},
   "outputs": [],
   "source": [
    "# Preprocess raw table into extracted table, drop missing data, set flag, rename column\n",
    "preprocessing4.combinebtpos(configs_variable)"
   ]
  },
  {
   "cell_type": "code",
   "execution_count": null,
   "id": "f70186ce-5eb4-46ca-9c85-b77f5a196b83",
   "metadata": {},
   "outputs": [],
   "source": [
    "# GLOBAL\n",
    "\n",
    "# Collect ALL site, then use preprocessing25_BTcorr to remove correlated variables\n",
    "# Generate site correlation\n",
    "ipynb.fs.full.preprocessing25_BTcorr.generate_corr(configs_variable)\n",
    "\n",
    "# Calculate global corr and feature selection (run it in preprocessing25_BTcorr.ipynb\n",
    "#ipynb.fs.full.preprocessing25_BTcorr.calculate_corr_occurence_new()\n",
    "\n",
    "# Drop columns based on result\n",
    "ipynb.fs.full.preprocessing25_BTcorr.remove_correlated_features(configs_variable)"
   ]
  },
  {
   "cell_type": "code",
   "execution_count": null,
   "id": "94fb4e02-d16a-466d-af63-7225b37e2d37",
   "metadata": {},
   "outputs": [],
   "source": [
    "# Create test train split with different oversample strategy\n",
    "ipynb.fs.full.preprocessing3_smote.generate_all_pre_catboost(configs_variable)\n",
    "\n",
    "# Create Cross validation sets\n",
    "ipynb.fs.full.preprocessing3_smote.gen_crossvalidate(configs_variable)"
   ]
  },
  {
   "cell_type": "code",
   "execution_count": null,
   "id": "2d6faf43-9cb0-4f12-973f-41b5c2a0c546",
   "metadata": {},
   "outputs": [],
   "source": [
    "# Run single catboost\n",
    "runxgboost.runxgboost(configs_variable)\n",
    "\n",
    "# Run Cross Validate\n",
    "ipynb.fs.full.runxgboost.gen_crossvalidate(configs_variable)\n",
    "for i in range(configs_variables['n_splits']):\n",
    "    runxgboost.boosttrapcatboost(configs_variable, i)"
   ]
  },
  {
   "cell_type": "code",
   "execution_count": null,
   "id": "7046b367-16bc-4ce0-9df7-f10739dade0e",
   "metadata": {},
   "outputs": [],
   "source": [
    "# Start Multisite NOW"
   ]
  },
  {
   "cell_type": "code",
   "execution_count": null,
   "id": "d91fac6c-61b6-4a29-8df4-2083a32df368",
   "metadata": {},
   "outputs": [],
   "source": [
    "sites = ['MCW', 'UIOWA', 'UMHC', 'UNMC', 'UofU', 'UTHSCSA', 'KUMC', 'UTSW', 'UPITT']"
   ]
  },
  {
   "cell_type": "code",
   "execution_count": null,
   "id": "d2df5b49-42da-4f43-b195-07dc141fb9ea",
   "metadata": {},
   "outputs": [],
   "source": [
    "# External validation\n",
    "for configs_variables_m in configs_variables:\n",
    "    for configs_variables_d in configs_variables:\n",
    "#        ipynb.fs.full.postprocessing1_SHAP.collectSHAP_sub(sites_m, sites_d)\n",
    "        postprocessing1_SHAP.collectSHAPraw_cross_sub(configs_variables_m, configs_variables_d)"
   ]
  },
  {
   "cell_type": "code",
   "execution_count": null,
   "id": "f01b3d5b-7cd6-4d96-89ec-e4b8650bce71",
   "metadata": {},
   "outputs": [],
   "source": [
    "# External validation for CV\n",
    "for configs_variables_m in configs_variables:\n",
    "    for configs_variables_d in configs_variables:\n",
    "        for i in range(configs_variables['n_splits']):\n",
    "            postprocessing1_SHAP.collectSHAP_cross_sub_validate(configs_variables_m, configs_variables_d, i)"
   ]
  },
  {
   "cell_type": "code",
   "execution_count": null,
   "id": "081521f0-bada-4af5-b287-664614c4cdd4",
   "metadata": {
    "tags": []
   },
   "outputs": [],
   "source": [
    "# Collect SHAP raw for Metaregression\n",
    "ipynb.fs.full.postprocessing3_collect.collect_collectSHAPraw_cross_sub(configs_variables)"
   ]
  },
  {
   "cell_type": "code",
   "execution_count": null,
   "id": "9a13d94e-e967-44b2-a122-be3e4bdb7b05",
   "metadata": {
    "tags": []
   },
   "outputs": [],
   "source": [
    "# Turn to plots_for_paper.ipynb for basic plot generation"
   ]
  },
  {
   "cell_type": "code",
   "execution_count": null,
   "id": "71f5e883-e104-4a91-98be-22c019bef97b",
   "metadata": {
    "tags": []
   },
   "outputs": [],
   "source": [
    "# Turn to MetaRegression folder for MetaRegression\n",
    "# metagam3R.ipynb"
   ]
  },
  {
   "cell_type": "code",
   "execution_count": null,
   "id": "d6794e6d-aaf6-4e80-86d3-588cad47fbbe",
   "metadata": {
    "tags": []
   },
   "outputs": [],
   "source": [
    "# Turn to timeseries folder for timeseries analysis"
   ]
  },
  {
   "cell_type": "code",
   "execution_count": null,
   "id": "15e9ce1b-3a05-4669-ae00-1c0365b51191",
   "metadata": {},
   "outputs": [],
   "source": []
  }
 ],
 "metadata": {
  "kernelspec": {
   "display_name": "AKI_CDM_PY",
   "language": "python",
   "name": "aki_cdm_py"
  },
  "language_info": {
   "codemirror_mode": {
    "name": "ipython",
    "version": 3
   },
   "file_extension": ".py",
   "mimetype": "text/x-python",
   "name": "python",
   "nbconvert_exporter": "python",
   "pygments_lexer": "ipython3",
   "version": "3.6.15"
  }
 },
 "nbformat": 4,
 "nbformat_minor": 5
}
