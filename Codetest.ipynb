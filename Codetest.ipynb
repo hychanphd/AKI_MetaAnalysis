{
 "cells": [
  {
   "cell_type": "code",
   "execution_count": null,
   "id": "06daed6a-6966-4a09-97e6-fbbd2aac3c65",
   "metadata": {},
   "outputs": [],
   "source": [
    "import numpy as np\n",
    "import scipy.sparse\n",
    "import pandas as pd"
   ]
  },
  {
   "cell_type": "code",
   "execution_count": null,
   "id": "b2199aaf-828c-465e-8673-4bb57f4b6073",
   "metadata": {},
   "outputs": [],
   "source": [
    "x = scipy.sparse.rand(1000,1000)"
   ]
  },
  {
   "cell_type": "code",
   "execution_count": null,
   "id": "d4e44f8e-0dc2-4e41-97e4-3e079277a85e",
   "metadata": {},
   "outputs": [],
   "source": [
    "x.data.nbytes"
   ]
  },
  {
   "cell_type": "code",
   "execution_count": null,
   "id": "344943bd-6cfe-41c5-9be2-3279d8548c94",
   "metadata": {},
   "outputs": [],
   "source": [
    "x.toarray().nbytes"
   ]
  },
  {
   "cell_type": "code",
   "execution_count": null,
   "id": "5cf7809b-1ea1-437d-903a-5cac3ccff7aa",
   "metadata": {},
   "outputs": [],
   "source": [
    "site = 'UofU'\n",
    "year = 2015\n",
    "px = pd.read_pickle('data/'+site+'/px_'+site+'_'+str(year)+'.pkl')"
   ]
  },
  {
   "cell_type": "code",
   "execution_count": null,
   "id": "00d29af2-3c5b-4e81-8d80-0c25741267e1",
   "metadata": {},
   "outputs": [],
   "source": [
    "pxsc = px.select_dtypes('bool').to_coo(\"Sparse\")"
   ]
  },
  {
   "cell_type": "code",
   "execution_count": null,
   "id": "a76be1fd-c9cf-47c7-acdd-fcd3d4631eaa",
   "metadata": {},
   "outputs": [],
   "source": [
    "px.memory_usage().sum()"
   ]
  },
  {
   "cell_type": "code",
   "execution_count": null,
   "id": "0f012aa9-d21d-4e43-8c5b-22406ac7ff1a",
   "metadata": {},
   "outputs": [],
   "source": [
    "pxs.memory_usage().sum()"
   ]
  },
  {
   "cell_type": "code",
   "execution_count": null,
   "id": "1d2aabf6-91dd-4670-b59f-5f51b390a79b",
   "metadata": {},
   "outputs": [],
   "source": [
    "import numpy as np\n",
    "cimport numpy\n",
    "cdef numpy.ndarray x\n",
    "x = np.random.randint(2, size=(10000, 1000000), dtype=np.bool)"
   ]
  },
  {
   "cell_type": "code",
   "execution_count": null,
   "id": "e24c64eb-71e6-4682-92f2-1cedbdbd49d5",
   "metadata": {},
   "outputs": [],
   "source": [
    "s = 20\n",
    "mask = np.random.randint(1000, size=s)"
   ]
  },
  {
   "cell_type": "code",
   "execution_count": null,
   "id": "493946bc-5453-4893-8144-db51f23467b2",
   "metadata": {},
   "outputs": [],
   "source": [
    "%%time\n",
    "t2 = np.prod(x[mask, :], axis=0)\n",
    "\n",
    "%%time\n",
    "t = x[mask[0],:]\n",
    "for i in range(1,s):\n",
    "    t = t & x[mask[i],:]\n",
    "\n",
    "%%time\n",
    "t1 = np.logical_and.reduce(x[mask,:])\n",
    "\n",
    "%%time\n",
    "np.all(x[mask, :], axis=0).shape"
   ]
  },
  {
   "cell_type": "code",
   "execution_count": null,
   "id": "671c2b62-44f1-4614-9b2a-92fab99b9c01",
   "metadata": {},
   "outputs": [],
   "source": [
    "z = x[:,range(100000)]"
   ]
  },
  {
   "cell_type": "code",
   "execution_count": null,
   "id": "c0333f4e-3cd6-4e08-a7b0-7398dc16001d",
   "metadata": {},
   "outputs": [],
   "source": [
    "%%time\n",
    "# fastest for support calculation\n",
    "t = z[mask[0],:]\n",
    "for i in range(1,s):\n",
    "    t = np.logical_and(t, z[mask[i],:])"
   ]
  },
  {
   "cell_type": "code",
   "execution_count": null,
   "id": "099d71fe-a779-4905-b405-90908ddfa49c",
   "metadata": {},
   "outputs": [],
   "source": [
    "def fun1(a,b):\n",
    "    return a+b\n",
    "def fun2(a,b):\n",
    "    return a-b\n",
    "funs = [fun1, fun2]\n",
    "[f(2,1) for f in funs]"
   ]
  },
  {
   "cell_type": "code",
   "execution_count": null,
   "id": "e8004285-e31a-4ab7-bb88-626cba0c283b",
   "metadata": {},
   "outputs": [],
   "source": [
    "x = ['a', 'b']\n",
    "[x.upper() for x in x]"
   ]
  },
  {
   "cell_type": "code",
   "execution_count": null,
   "id": "1ec0a63b-3d4f-45f4-bdd9-977f521bbf0b",
   "metadata": {},
   "outputs": [],
   "source": [
    "a = None\n",
    "if a:\n",
    "    print('yesy')"
   ]
  },
  {
   "cell_type": "code",
   "execution_count": null,
   "id": "4ac67688-16a6-4440-8c17-22eec03bfcf4",
   "metadata": {},
   "outputs": [],
   "source": [
    "if not a:\n",
    "    print('no')"
   ]
  },
  {
   "cell_type": "code",
   "execution_count": null,
   "id": "91f2fe65-cfa5-4bf9-9b00-53d83217ae34",
   "metadata": {},
   "outputs": [],
   "source": []
  }
 ],
 "metadata": {
  "kernelspec": {
   "display_name": "Python 3",
   "language": "python",
   "name": "python3"
  },
  "language_info": {
   "codemirror_mode": {
    "name": "ipython",
    "version": 3
   },
   "file_extension": ".py",
   "mimetype": "text/x-python",
   "name": "python",
   "nbconvert_exporter": "python",
   "pygments_lexer": "ipython3",
   "version": "3.6.13"
  }
 },
 "nbformat": 4,
 "nbformat_minor": 5
}
