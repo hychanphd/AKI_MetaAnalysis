{
 "cells": [
  {
   "cell_type": "code",
   "execution_count": null,
   "id": "f8953525-6659-4d5c-80ce-21662f1efd36",
   "metadata": {
    "tags": []
   },
   "outputs": [],
   "source": [
    "import pandas as pd\n",
    "import utils_function"
   ]
  },
  {
   "cell_type": "code",
   "execution_count": null,
   "id": "f9f4ed15-d5c8-4f66-82e9-55282b7d0eac",
   "metadata": {
    "tags": []
   },
   "outputs": [],
   "source": [
    "site = 'UMHC'"
   ]
  },
  {
   "cell_type": "code",
   "execution_count": null,
   "id": "2de466c2-44b6-459e-bc49-8269595e3e80",
   "metadata": {
    "tags": []
   },
   "outputs": [],
   "source": [
    "configs_variables = utils_function.read_config(site)\n",
    "datafolder = configs_variables['datafolder']\n",
    "home_directory = configs_variables['home_directory']"
   ]
  },
  {
   "cell_type": "code",
   "execution_count": null,
   "id": "efb24a2e-4d67-4478-be72-4428e643345f",
   "metadata": {
    "tags": []
   },
   "outputs": [],
   "source": [
    "site_list = ['KUMC', 'UTSW', 'MCW', 'UofU', 'UIOWA', 'UMHC', 'UPITT', 'UTHSCSA', 'UNMC']"
   ]
  },
  {
   "cell_type": "code",
   "execution_count": null,
   "id": "3a8a758b-d989-4900-8988-67aa71616a51",
   "metadata": {
    "tags": []
   },
   "outputs": [],
   "source": [
    "for site in site_list:\n",
    "    amed =pd.read_parquet(f\"{datafolder}{site}/p0_amed_{site}.parquet\")\n",
    "    if len(amed['MEDADMIN_TYPE'].unique()) > 1 or amed['MEDADMIN_TYPE'].unique()[0]!='RX':\n",
    "        break"
   ]
  },
  {
   "cell_type": "code",
   "execution_count": null,
   "id": "1e6e3dbc-a5bd-473d-8ed1-56409f9e96cd",
   "metadata": {
    "tags": []
   },
   "outputs": [],
   "source": [
    "site"
   ]
  },
  {
   "cell_type": "code",
   "execution_count": null,
   "id": "cb81db9b-0cdb-47b2-acde-6bdf629e73aa",
   "metadata": {
    "tags": []
   },
   "outputs": [],
   "source": [
    "amed =pd.read_parquet(f\"{datafolder}{site}/p0_amed_{site}.parquet\")"
   ]
  },
  {
   "cell_type": "code",
   "execution_count": null,
   "id": "c9fe69b8-f7bd-4cdd-bcf1-adeccd555485",
   "metadata": {
    "tags": []
   },
   "outputs": [],
   "source": [
    "pmed =pd.read_parquet(f\"{datafolder}{site}/p0_pmed_{site}.parquet\")"
   ]
  },
  {
   "cell_type": "code",
   "execution_count": null,
   "id": "827235c3-b1d9-4938-a9a2-f19ebfe66c94",
   "metadata": {
    "tags": []
   },
   "outputs": [],
   "source": [
    "amed['PRESCRIBINGID'] = amed['PRESCRIBINGID'].astype(float)\n",
    "pmed['PRESCRIBINGID'] = pmed['PRESCRIBINGID'].astype(float)"
   ]
  },
  {
   "cell_type": "code",
   "execution_count": null,
   "id": "ea62a861-7192-43c3-8f36-c2648cb275e7",
   "metadata": {
    "tags": []
   },
   "outputs": [],
   "source": [
    "amed = amed.merge(pmed[['PRESCRIBINGID', 'RXNORM_CUI']].drop_duplicates(), on = 'PRESCRIBINGID', how = 'left')"
   ]
  },
  {
   "cell_type": "code",
   "execution_count": null,
   "id": "9df549be-3781-4902-84ac-7e390a688d5e",
   "metadata": {
    "tags": []
   },
   "outputs": [],
   "source": [
    "amed"
   ]
  },
  {
   "cell_type": "code",
   "execution_count": null,
   "id": "216e3f36-8976-4376-a3d6-d8ce2198b82c",
   "metadata": {
    "tags": []
   },
   "outputs": [],
   "source": [
    "amed.columns"
   ]
  },
  {
   "cell_type": "code",
   "execution_count": null,
   "id": "2f615385-6c37-4161-bb6b-96778e03b8b4",
   "metadata": {
    "tags": []
   },
   "outputs": [],
   "source": [
    "amed[amed['RXNORM_CUI'].notna()]"
   ]
  },
  {
   "cell_type": "code",
   "execution_count": null,
   "id": "0b5b2671-74b0-4682-9207-2fd706977f3a",
   "metadata": {},
   "outputs": [],
   "source": []
  }
 ],
 "metadata": {
  "kernelspec": {
   "display_name": "AKI_CDM_PY",
   "language": "python",
   "name": "aki_cdm_py"
  },
  "language_info": {
   "codemirror_mode": {
    "name": "ipython",
    "version": 3
   },
   "file_extension": ".py",
   "mimetype": "text/x-python",
   "name": "python",
   "nbconvert_exporter": "python",
   "pygments_lexer": "ipython3",
   "version": "3.6.15"
  }
 },
 "nbformat": 4,
 "nbformat_minor": 5
}
