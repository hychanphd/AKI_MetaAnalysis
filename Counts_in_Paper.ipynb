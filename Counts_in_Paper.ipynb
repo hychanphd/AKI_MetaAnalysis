{
 "cells": [
  {
   "cell_type": "code",
   "execution_count": null,
   "id": "8f6c0215-80ab-4153-b685-6eaf23674c03",
   "metadata": {
    "tags": []
   },
   "outputs": [],
   "source": [
    "import pandas as pd\n",
    "import xgboost as xgb\n",
    "import numpy as np\n",
    "import sklearn\n",
    "from sklearn.preprocessing import OneHotEncoder\n",
    "from sklearn.impute import SimpleImputer\n",
    "from imblearn.over_sampling import SMOTE\n",
    "from imblearn.pipeline import make_pipeline\n",
    "from imblearn.combine import SMOTEENN\n",
    "from imblearn.over_sampling import SMOTENC\n",
    "import matplotlib.pyplot as plt"
   ]
  },
  {
   "cell_type": "code",
   "execution_count": null,
   "id": "70d09db0-2d00-4a45-be6d-c6aeffebabca",
   "metadata": {
    "tags": []
   },
   "outputs": [],
   "source": [
    "sites = ['UTHSCSA', 'UTSW', 'MCW', 'UofU', 'UIOWA', 'UMHC', 'UNMC', 'KUMC', 'UPITT']\n",
    "datafolder = '/blue/yonghui.wu/hoyinchan/Data/data2022/'"
   ]
  },
  {
   "cell_type": "code",
   "execution_count": null,
   "id": "a475c055-2b7e-4b5c-bcc8-8417bd4cba38",
   "metadata": {
    "tags": []
   },
   "outputs": [],
   "source": [
    "# Count total paitients\n",
    "total = 0\n",
    "for site in sites:\n",
    "    print(site)\n",
    "    onset = pd.read_parquet(datafolder+site+'/p0_onset_'+site+'.parquet')\n",
    "    total+=len(onset['PATID'].unique())"
   ]
  },
  {
   "cell_type": "code",
   "execution_count": null,
   "id": "f67cf970-3ad7-465c-b0a8-472a65a87be1",
   "metadata": {
    "tags": []
   },
   "outputs": [],
   "source": [
    "site = 'MCW'\n",
    "onset = pd.read_parquet(datafolder+site+'/p0_onset_'+site+'.parquet')"
   ]
  },
  {
   "cell_type": "code",
   "execution_count": null,
   "id": "a4d2784e-2c93-4ac4-bd5e-ed1d16481ecc",
   "metadata": {
    "tags": []
   },
   "outputs": [],
   "source": [
    "len(onset['PATID'].unique())"
   ]
  },
  {
   "cell_type": "code",
   "execution_count": null,
   "id": "d89e48d5-0bf8-4d8c-aefe-adacac4a6b69",
   "metadata": {
    "tags": []
   },
   "outputs": [],
   "source": [
    "total"
   ]
  },
  {
   "cell_type": "code",
   "execution_count": null,
   "id": "6082b9b3-6d6f-416c-8510-939017cf0083",
   "metadata": {},
   "outputs": [],
   "source": []
  }
 ],
 "metadata": {
  "kernelspec": {
   "display_name": "AKI_CDM_PY",
   "language": "python",
   "name": "aki_cdm_py"
  },
  "language_info": {
   "codemirror_mode": {
    "name": "ipython",
    "version": 3
   },
   "file_extension": ".py",
   "mimetype": "text/x-python",
   "name": "python",
   "nbconvert_exporter": "python",
   "pygments_lexer": "ipython3",
   "version": "3.6.15"
  }
 },
 "nbformat": 4,
 "nbformat_minor": 5
}
