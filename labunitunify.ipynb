{
 "cells": [
  {
   "cell_type": "code",
   "execution_count": null,
   "id": "67b403ad-f24e-4cdc-9f1f-aadfac07ed54",
   "metadata": {},
   "outputs": [],
   "source": [
    "import pandas as pd\n",
    "import xgboost as xgb\n",
    "import numpy as np\n",
    "import sklearn\n",
    "from sklearn.preprocessing import OneHotEncoder\n",
    "from sklearn.impute import SimpleImputer\n",
    "from imblearn.over_sampling import SMOTE\n",
    "from imblearn.pipeline import make_pipeline\n",
    "from imblearn.combine import SMOTEENN\n",
    "from imblearn.over_sampling import SMOTENC\n",
    "import matplotlib.pyplot as plt\n",
    "from PIL import Image\n",
    "from scipy.interpolate import BSpline, make_interp_spline, interp1d\n",
    "import rpy2.robjects as robjects\n",
    "from rpy2.robjects.packages import importr\n",
    "import csv\n",
    "from dfply import *\n",
    "from xgboost import XGBClassifier\n",
    "import itertools\n",
    "import os\n",
    "from sklearn.model_selection import RandomizedSearchCV, GridSearchCV\n",
    "from sklearn.metrics import roc_auc_score\n",
    "from sklearn.model_selection import StratifiedKFold\n",
    "import time\n",
    "import pickle\n",
    "import math\n",
    "import matplotlib.pyplot as plt\n",
    "from glob import glob"
   ]
  },
  {
   "cell_type": "code",
   "execution_count": null,
   "id": "3ff734b6-4024-4c2a-82b8-6ebf13cbf4dc",
   "metadata": {},
   "outputs": [],
   "source": [
    "sites = ['MCRI', 'IUR', 'MCW', 'UIOWA', 'UMHC', 'UNMC', 'UofU', 'UPITT', 'UTHSCSA', 'KUMC', 'UTSW']"
   ]
  },
  {
   "cell_type": "code",
   "execution_count": null,
   "id": "33d08d06-a407-4993-b4ea-bdfbb2c97686",
   "metadata": {},
   "outputs": [],
   "source": [
    "labs = list()\n",
    "sites = ['MCRI', 'IUR', 'MCW', 'UIOWA', 'UMHC', 'UNMC', 'UofU', 'UPITT', 'UTHSCSA', 'KUMC', 'UTSW']\n",
    "for site in sites:\n",
    "    lab = pd.read_pickle('data/'+site+'/p0_lab_'+site+'.pkl')\n",
    "    lab = lab[[\"RESULT_NUM\", \"LAB_LOINC\", \"LAB_PX_TYPE\", \"RESULT_UNIT\", \"RESULT_QUAL\"]]\n",
    "    labs.append(lab)\n",
    "laball = pd.concat(labs, axis=0, sort=False)"
   ]
  },
  {
   "cell_type": "code",
   "execution_count": null,
   "id": "d9c9da2d-ce26-4dc0-a147-08bfdc391ef4",
   "metadata": {},
   "outputs": [],
   "source": [
    "laballuni = laball[[\"LAB_LOINC\", \"RESULT_UNIT\"]].drop_duplicates()\n",
    "laballuni = laballuni[np.logical_and(laballuni['RESULT_UNIT'] != 'NI', laballuni['RESULT_UNIT'] != 'OT')]\n",
    "laballuni = laballuni[np.logical_and(laballuni['RESULT_UNIT'] != 'UN', laballuni['RESULT_UNIT'].notnull())]"
   ]
  },
  {
   "cell_type": "code",
   "execution_count": null,
   "id": "d85cfa40-4e7a-4cee-92b6-27138730dfba",
   "metadata": {},
   "outputs": [],
   "source": [
    "laballunig = laballuni.groupby('LAB_LOINC').size().reset_index()\n",
    "laballunig.columns = ['LAB_LOINC', 'count']"
   ]
  },
  {
   "cell_type": "code",
   "execution_count": null,
   "id": "67f9cc1e-8324-4a33-b2c0-333f829bf11b",
   "metadata": {},
   "outputs": [],
   "source": [
    "labelunigg = pd.merge(laballuni, laballunig, how='left')"
   ]
  },
  {
   "cell_type": "code",
   "execution_count": null,
   "id": "fbb54461-fa5f-4a08-b5c4-32ed881071af",
   "metadata": {},
   "outputs": [],
   "source": [
    "labelunigg[labelunigg['count']>1].sort_values('LAB_LOINC').to_csv('unitcovert.csv')"
   ]
  },
  {
   "cell_type": "code",
   "execution_count": null,
   "id": "c0fcb086-b663-4753-bbba-7e0f54583134",
   "metadata": {},
   "outputs": [],
   "source": []
  }
 ],
 "metadata": {
  "kernelspec": {
   "display_name": "Python 3 (ipykernel)",
   "language": "python",
   "name": "python3"
  },
  "language_info": {
   "codemirror_mode": {
    "name": "ipython",
    "version": 3
   },
   "file_extension": ".py",
   "mimetype": "text/x-python",
   "name": "python",
   "nbconvert_exporter": "python",
   "pygments_lexer": "ipython3",
   "version": "3.7.4"
  }
 },
 "nbformat": 4,
 "nbformat_minor": 5
}
