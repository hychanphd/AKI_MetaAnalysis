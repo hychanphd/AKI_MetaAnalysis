{
 "cells": [
  {
   "cell_type": "code",
   "execution_count": null,
   "id": "67b403ad-f24e-4cdc-9f1f-aadfac07ed54",
   "metadata": {},
   "outputs": [],
   "source": [
    "import pandas as pd\n",
    "import xgboost as xgb\n",
    "import numpy as np\n",
    "import sklearn\n",
    "from sklearn.preprocessing import OneHotEncoder\n",
    "from sklearn.impute import SimpleImputer\n",
    "from imblearn.over_sampling import SMOTE\n",
    "from imblearn.pipeline import make_pipeline\n",
    "from imblearn.combine import SMOTEENN\n",
    "from imblearn.over_sampling import SMOTENC\n",
    "import matplotlib.pyplot as plt\n",
    "from PIL import Image\n",
    "from scipy.interpolate import BSpline, make_interp_spline, interp1d\n",
    "# import rpy2.robjects as robjects\n",
    "# from rpy2.robjects.packages import importr\n",
    "import csv\n",
    "from dfply import *\n",
    "from xgboost import XGBClassifier\n",
    "import itertools\n",
    "import os\n",
    "from sklearn.model_selection import RandomizedSearchCV, GridSearchCV\n",
    "from sklearn.metrics import roc_auc_score\n",
    "from sklearn.model_selection import StratifiedKFold\n",
    "import time\n",
    "import pickle\n",
    "import math\n",
    "import matplotlib.pyplot as plt\n",
    "from glob import glob\n",
    "\n",
    "from joblib import parallel_backend\n",
    "from joblib import Parallel, delayed\n",
    "\n",
    "import importlib\n",
    "\n",
    "import time\n",
    "import requests\n",
    "import labunify\n",
    "import pickle"
   ]
  },
  {
   "cell_type": "code",
   "execution_count": null,
   "id": "3ff734b6-4024-4c2a-82b8-6ebf13cbf4dc",
   "metadata": {},
   "outputs": [],
   "source": [
    "#sites = ['MCRI', 'IUR', 'MCW', 'UIOWA', 'UMHC', 'UNMC', 'UofU', 'UPITT', 'UTHSCSA', 'KUMC', 'UTSW']\n",
    "datafolder = '/home/hoyinchan/blue/Data/data2021/data2021/'\n",
    "home_directory = \"/home/hoyinchan/code/AKI_CDM_PY/\""
   ]
  },
  {
   "cell_type": "code",
   "execution_count": null,
   "id": "ab9a9838-f93f-40b7-8a26-aff9915012c0",
   "metadata": {},
   "outputs": [],
   "source": [
    "# with open(datafolder+\"tmp_labobj.pkl\", \"wb\") as f:\n",
    "#     pickle.dump(labobj2, f)\n",
    "# with open(datafolder+\"tmp_labobj.pkl\", \"rb\") as f:\n",
    "#     labobj = pickle.load(f)"
   ]
  },
  {
   "cell_type": "code",
   "execution_count": null,
   "id": "2d3ed383-7267-42b6-b064-ef4e4c4c85d9",
   "metadata": {},
   "outputs": [],
   "source": [
    "#Run from raw to generate 'UCUMunitX.csv' and 'local_custom_convert.csv'"
   ]
  },
  {
   "cell_type": "code",
   "execution_count": null,
   "id": "2e0b3291-dfe5-4cf1-930e-6f92a8596523",
   "metadata": {
    "tags": []
   },
   "outputs": [],
   "source": [
    "labunify_obj = labunify.labunify()\n",
    "labunify_obj.read_loinc()\n",
    "labunify_obj.read_lab()\n",
    "labunify_obj.get_all_relation()\n",
    "labunify_obj.gen_local_conversion_table()\n",
    "labunify_obj.local_custom_convert.to_csv('local_custom_convert.csv')\n",
    "labunify_obj.get_consensus_unit()\n",
    "labunify_obj.UCUMunitX.to_csv('UCUMunitX.csv')\n",
    "labunify_obj.handle_qualitative()\n",
    "labunify_obj.UCUMqualX.to_csv('UCUMqualX.csv')"
   ]
  },
  {
   "cell_type": "code",
   "execution_count": null,
   "id": "0039fc86-a945-4db7-80d1-c77fe24a0243",
   "metadata": {
    "tags": []
   },
   "outputs": [],
   "source": [
    "# import labunify\n",
    "# importlib.reload(labunify)\n",
    "# labunify_obj2 = labunify.labunify()\n",
    "# labunify_obj2.copy(labunify_obj)"
   ]
  },
  {
   "cell_type": "code",
   "execution_count": null,
   "id": "8298e292-698a-47e3-92e6-a0dc21e88f15",
   "metadata": {
    "jupyter": {
     "outputs_hidden": true
    },
    "tags": []
   },
   "outputs": [],
   "source": [
    "# # Specify the filename\n",
    "# filename = '/blue/yonghui.wu/hoyinchan/Data/data2022/labunify_obj.pkl'\n",
    "\n",
    "# # Open a file for writing in binary mode\n",
    "# with open(filename, 'wb') as file:\n",
    "#     # Use pickle.dump() to serialize and save the object\n",
    "#     pickle.dump(labunify_obj2, file)\n",
    "\n",
    "# labunify_obj = labunify.labunify()\n",
    "# labunify_obj.copy(labunify_obj2)\n",
    "\n",
    "# labunify_obj.gen_local_conversion_table()\n",
    "# labunify_obj.local_custom_convert.to_csv('local_custom_convert.csv')\n",
    "# labunify_obj.get_consensus_unit()\n",
    "\n",
    "# #labunify_obj.generate_UCUM()\n",
    "\n",
    "# labunify_obj.UCUMunitX\n",
    "\n",
    "# labunify_obj.UCUMunitX.to_csv('UCUMunitX_new.csv')\n",
    "\n",
    "# labunify_obj.handle_qualitative()\n",
    "\n",
    "# labunify_obj.UCUMqualX.to_csv('UCUMqualX_new.csv')"
   ]
  },
  {
   "cell_type": "code",
   "execution_count": null,
   "id": "45f13c7e-1707-4c08-bb3d-ecdf08ff897d",
   "metadata": {},
   "outputs": [],
   "source": []
  }
 ],
 "metadata": {
  "kernelspec": {
   "display_name": "AKI_CDM_PY",
   "language": "python",
   "name": "aki_cdm_py"
  },
  "language_info": {
   "codemirror_mode": {
    "name": "ipython",
    "version": 3
   },
   "file_extension": ".py",
   "mimetype": "text/x-python",
   "name": "python",
   "nbconvert_exporter": "python",
   "pygments_lexer": "ipython3",
   "version": "3.6.15"
  }
 },
 "nbformat": 4,
 "nbformat_minor": 5
}
