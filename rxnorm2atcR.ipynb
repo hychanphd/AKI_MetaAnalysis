{
 "cells": [
  {
   "cell_type": "code",
   "execution_count": null,
   "metadata": {},
   "outputs": [],
   "source": [
    "# This is R code in juptyer lab, to install R kernel in jupter, open R session inside your oen anaconda environment\n",
    "# type in the following:\n",
    "# install.packages(\"devtools\")\n",
    "# devtools::install_github(\"IRkernel/IRkernel\")\n",
    "# IRkernel::installspec()\n",
    "# then restart jupterlab\n",
    "# ref: https://richpauloo.github.io/2018-05-16-Installing-the-R-kernel-in-Jupyter-Lab/\n",
    "library(rxnorm)\n",
    "library(dplyr)\n",
    "library(data.table)\n",
    "library(reshape2)\n",
    "library(stringi)\n",
    "home_directory = \"/home/hchan2/AKI/AKI_Python/\""
   ]
  },
  {
   "cell_type": "code",
   "execution_count": null,
   "metadata": {},
   "outputs": [],
   "source": [
    "RIGHT = function(x,n){\n",
    "  substring(x,nchar(x)-n+1)\n",
    "}"
   ]
  },
  {
   "cell_type": "code",
   "execution_count": null,
   "metadata": {},
   "outputs": [],
   "source": [
    "# read data\n",
    "rxnorm_data_ext <- readRDS(paste0(home_directory,\"rxnorm2atcdict.rda\"))\n",
    "rxnorm_data_new <- read.delim(paste0(home_directory,\"rxnormtmp.csv\"), sep=\",\", stringsAsFactors=F, header = FALSE)"
   ]
  },
  {
   "cell_type": "code",
   "execution_count": null,
   "metadata": {},
   "outputs": [],
   "source": [
    "# find new query needed\n",
    "rxnorm_data_q <- rxnorm_data_new %>% filter(!V1 %in% rxnorm_data_ext$V1)"
   ]
  },
  {
   "cell_type": "code",
   "execution_count": null,
   "metadata": {},
   "outputs": [],
   "source": [
    "#query new data\n",
    "rxnorm_data_new_q <- rxnorm_data_q %>% mutate(V2=sapply(V1, rxnorm::get_atc))"
   ]
  },
  {
   "cell_type": "code",
   "execution_count": null,
   "metadata": {},
   "outputs": [],
   "source": [
    "#add new query to database\n",
    "rxnorm_data_ext <- rbind(rxnorm_data_ext, rxnorm_data_new_q)\n",
    "saveRDS(rxnorm_data_ext, paste0(home_directory,\"rxnorm2atcdict.rda\"))"
   ]
  },
  {
   "cell_type": "code",
   "execution_count": null,
   "metadata": {},
   "outputs": [],
   "source": [
    "# process output for python\n",
    "rxnorm_data_out <- rxnorm_data_ext %>% filter(V1 %in% rxnorm_data_new$V1)\n",
    "rxnorm_data_out[\"id\"] <- rownames(rxnorm_data_out)\n",
    "flatten_list <- melt(rxnorm_data_out$V2) %>% mutate(id=as.character(L1)) %>% \n",
    "                left_join(rxnorm_data_out, by=\"id\") %>%\n",
    "                select(V1, value) %>% mutate(V2=as.character(value)) %>% \n",
    "                mutate(V3=V2) %>%\n",
    "#                mutate(V3=RIGHT(V2,1)) %>%\n",
    "                select(V1, V3) %>% rename(c(\"Rxcui\"=\"V1\", \"ATC4th\"=\"V3\")) %>% unique\n",
    "write.csv(x=flatten_list, file='/home/hchan2/AKI/AKI_Python/rxnorm_out.csv', row.names = FALSE)"
   ]
  },
  {
   "cell_type": "code",
   "execution_count": null,
   "metadata": {},
   "outputs": [],
   "source": []
  }
 ],
 "metadata": {
  "kernelspec": {
   "display_name": "R_meta_analysis_3.6",
   "language": "R",
   "name": "r_aki_meta_analysis_3.6"
  },
  "language_info": {
   "codemirror_mode": "r",
   "file_extension": ".r",
   "mimetype": "text/x-r-source",
   "name": "R",
   "pygments_lexer": "r",
   "version": "4.0.5"
  }
 },
 "nbformat": 4,
 "nbformat_minor": 4
}
