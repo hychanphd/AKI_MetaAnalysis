{
 "cells": [
  {
   "cell_type": "code",
   "execution_count": null,
   "id": "7ebe15a3-a091-4459-b70a-e3182a4613d7",
   "metadata": {},
   "outputs": [],
   "source": [
    "import pandas as pd\n",
    "import xgboost as xgb\n",
    "import numpy as np\n",
    "import sklearn\n",
    "from sklearn.preprocessing import OneHotEncoder\n",
    "from sklearn.impute import SimpleImputer\n",
    "from imblearn.over_sampling import SMOTE\n",
    "from imblearn.pipeline import make_pipeline\n",
    "from imblearn.combine import SMOTEENN\n",
    "from imblearn.over_sampling import SMOTENC\n",
    "import matplotlib.pyplot as plt\n",
    "from PIL import Image\n",
    "\n",
    "from scipy.interpolate import BSpline, make_interp_spline, interp1d\n",
    "#import rpy2.robjects as robjects\n",
    "#from rpy2.robjects.packages import importr\n",
    "import csv\n",
    "from dfply import *\n",
    "from xgboost import XGBClassifier\n",
    "import itertools\n",
    "import os\n",
    "from sklearn.model_selection import RandomizedSearchCV, GridSearchCV\n",
    "from sklearn.metrics import roc_auc_score\n",
    "from sklearn.model_selection import StratifiedKFold\n",
    "import time\n",
    "import pickle\n",
    "import math\n",
    "\n",
    "import importlib\n",
    "import ipynb.fs.full.postprocessing3_collect"
   ]
  },
  {
   "cell_type": "code",
   "execution_count": null,
   "id": "a1dbc2b7-9e42-4291-ae0a-7643d604dc39",
   "metadata": {},
   "outputs": [],
   "source": [
    "def plot_importance(df, ax=None, height=0.2,\n",
    "                    xlim=None, ylim=None,\n",
    "                    xlabel='score', ylabel='Feature', fmap='',\n",
    "                    importance_type='auc', max_num_features=None,\n",
    "                    grid=True, show_values=True, **kwargs):\n",
    "\n",
    "    title = importance_type\n",
    "    importance = (df >> select(ylabel, importance_type)).set_index(ylabel).to_dict()[importance_type]\n",
    "    tuples = [(k, importance[k]) for k in importance]\n",
    "    if max_num_features is not None:\n",
    "        # pylint: disable=invalid-unary-operand-type\n",
    "        tuples = sorted(tuples, key=lambda x: x[1])[-max_num_features:]\n",
    "    else:\n",
    "        tuples = sorted(tuples, key=lambda x: x[1])\n",
    "    labels, values = zip(*tuples)\n",
    "    \n",
    "    if ax is None:\n",
    "        _, ax = plt.subplots(1, 1)\n",
    "\n",
    "    ylocs = np.arange(len(values))\n",
    "    ax.barh(ylocs, values, align='center', height=height, **kwargs)\n",
    "\n",
    "    if show_values is True:\n",
    "        for x, y in zip(values, ylocs):\n",
    "            ax.text(x + x/100, y, round(x,2), va='center')\n",
    "\n",
    "    ax.set_yticks(ylocs)\n",
    "    ax.set_yticklabels(labels)\n",
    "\n",
    "    if xlim is not None:\n",
    "        if not isinstance(xlim, tuple) or len(xlim) != 2:\n",
    "            raise ValueError('xlim must be a tuple of 2 elements')\n",
    "    else:\n",
    "        xlim = (0, max(values) * 1.1)\n",
    "    ax.set_xlim(xlim)\n",
    "\n",
    "    if ylim is not None:\n",
    "        if not isinstance(ylim, tuple) or len(ylim) != 2:\n",
    "            raise ValueError('ylim must be a tuple of 2 elements')\n",
    "    else:\n",
    "        ylim = (-1, len(values))\n",
    "    ax.set_ylim(ylim)\n",
    "\n",
    "    if title is not None:\n",
    "        ax.set_title(title)\n",
    "    if xlabel is not None:\n",
    "        ax.set_xlabel(xlabel)\n",
    "    if ylabel is not None:\n",
    "        ax.set_ylabel(ylabel)\n",
    "    ax.grid(grid)\n",
    "    return ax"
   ]
  },
  {
   "cell_type": "code",
   "execution_count": null,
   "id": "305a7aed-28ad-4f62-992a-cd125107199f",
   "metadata": {
    "tags": []
   },
   "outputs": [],
   "source": [
    "def top_n_SHAP(result, site, year, importance_type = 'Importances', max_num_features = 10, numgraphcol=2):\n",
    "    \n",
    "    shap_data = result >> mask(X.site==site) >> mask(X.year==year)    \n",
    "    #Print top_n SHAP plot\n",
    "#    importance_type = 'Importances'\n",
    "    A = (shap_data >> select('Feature', importance_type)).set_index('Feature').to_dict()[importance_type]\n",
    "    topf_n = sorted(A, key=A.get, reverse=True)[:max_num_features]\n",
    "    \n",
    "    plotindex=0\n",
    "    plt.clf()    \n",
    "    fltrow = math.ceil(max_num_features/numgraphcol)\n",
    "    fig = plt.figure(figsize=(9,4.5*fltrow))\n",
    "    \n",
    "    for f in topf_n:\n",
    "        plot_data = shap_data >> mask(X.Feature == f) >> select(X.fval, X.mean_val, X.se_val)\n",
    "#        plt.figure()    \n",
    "        plotindex = plotindex+1\n",
    "        plt.subplot(fltrow, numgraphcol, plotindex)\n",
    "        plt.scatter(x=plot_data['fval'],y=plot_data['mean_val'])\n",
    "        plt.errorbar(plot_data['fval'],plot_data['mean_val'], yerr=plot_data['se_val'], fmt=\"o\")\n",
    "        plt.title(f)\n",
    "        # if plot_data.shape[0] > 2:\n",
    "        #     spl = np.polynomial.legendre.Legendre.fit(plot_data['fval'], plot_data['mean_val'],5, full=True)\n",
    "        #     [spline_x, spline_y] = spl[0].linspace()\n",
    "#            plt.plot(spline_x, spline_y)      \n",
    "        plt.grid()\n",
    "    plt.show()\n",
    "    #    plt.savefig('data/'+site+'/model_'+site+'_'+str(year)+'_'+f+'.png')    "
   ]
  },
  {
   "cell_type": "code",
   "execution_count": null,
   "id": "32b609c6-e5c6-49b8-9b37-30d34dfbf7c0",
   "metadata": {
    "tags": []
   },
   "outputs": [],
   "source": [
    "def one_feature_SHAP_allyear_allsite(shap_data, feature, sites=None, numgraphcol=5):\n",
    "    #Print top_n SHAP plot\n",
    "    shap_data = shap_data >> mask(X.Feature == feature)\n",
    "    if sites is None:\n",
    "        sites = shap_data['site'].unique()\n",
    "    years = shap_data['year'].unique()\n",
    "    years.sort()\n",
    "    \n",
    "    plotindex=0\n",
    "    plt.clf()    \n",
    "    fltrow = math.ceil(len(sites)/numgraphcol)\n",
    "#    fig = plt.figure(figsize=(18/numgraphcol,9/numgraphcol*fltrow))\n",
    "    fig = plt.figure(figsize=(22.5,9))\n",
    "\n",
    "    for site in sites:\n",
    "        plotindex = plotindex+1\n",
    "        plt.subplot(fltrow, numgraphcol, plotindex)    \n",
    "        shap_dataX = shap_data >> mask(X.site == site)\n",
    "        for yr in years:\n",
    "            plot_data = shap_dataX >> mask(X.year == yr) >> select(X.fval, X.mean_val, X.se_val)\n",
    "    #        plt.figure()    \n",
    "            plt.scatter(x=plot_data['fval'],y=plot_data['mean_val'])\n",
    "            plt.errorbar(plot_data['fval'],plot_data['mean_val'], yerr=plot_data['se_val'], fmt=\"o\")\n",
    "#            if plot_data.shape[0] > 2:\n",
    "#                spl = np.polynomial.legendre.Legendre.fit(plot_data['fval'], plot_data['mean_val'],5, full=True)\n",
    "#                [spline_x, spline_y] = spl[0].linspace()\n",
    "#    #            plt.plot(spline_x, spline_y)                 \n",
    "        plt.title(site+\"_\"+feature)   \n",
    "        plt.grid()\n",
    "        plt.ylim([-0.5, 2])\n",
    "    plt.show()\n",
    "    return fig\n",
    "#    plt.savefig('allsite'+f+'.png')"
   ]
  },
  {
   "cell_type": "code",
   "execution_count": null,
   "id": "58eaab16-032b-4d70-902a-2fa80f4a7b35",
   "metadata": {
    "tags": []
   },
   "outputs": [],
   "source": [
    "def one_feature_SHAP(shap_data, feature, site, numgraphcol=2):\n",
    "    #Print top_n SHAP plot\n",
    "    shap_dataX = shap_data >> mask(X.site == site) >> mask(X.Feature == feature)\n",
    "    years = shap_dataX['year'].unique()\n",
    "    years.sort()\n",
    "    \n",
    "    plotindex=0\n",
    "    plt.clf()    \n",
    "    fltrow = math.ceil(len(years)/numgraphcol)\n",
    "    fig = plt.figure(figsize=(9,4.5*fltrow))\n",
    "        \n",
    "    for yr in years:\n",
    "        plot_data = shap_dataX >> mask(X.year == yr) >> select(X.fval, X.mean_val, X.se_val)\n",
    "#        plt.figure()    \n",
    "        plotindex = plotindex+1\n",
    "        plt.subplot(fltrow, numgraphcol, plotindex)\n",
    "        plt.scatter(x=plot_data['fval'],y=plot_data['mean_val'])\n",
    "        plt.errorbar(plot_data['fval'],plot_data['mean_val'], yerr=plot_data['se_val'], fmt=\"o\")\n",
    "        plt.title(site+\"_\"+feature+\"_\"+str(yr))\n",
    "#         if plot_data.shape[0] > 2:\n",
    "#             spl = np.polynomial.legendre.Legendre.fit(plot_data['fval'], plot_data['mean_val'],5, full=True)\n",
    "#             [spline_x, spline_y] = spl[0].linspace()\n",
    "#            plt.plot(spline_x, spline_y)      \n",
    "        plt.grid()\n",
    "    plt.show()\n",
    "    return fig    \n",
    "    #    plt.savefig('data/'+site+'/model_'+site+'_'+str(year)+'_'+f+'.png')"
   ]
  },
  {
   "cell_type": "code",
   "execution_count": null,
   "id": "988ff295-9b97-4352-a9ca-96f70c9059dd",
   "metadata": {
    "tags": []
   },
   "outputs": [],
   "source": [
    "def zero_feature_SHAP(shap_data, feature, site, yr, vline=[], vlinelabel=[]):     \n",
    "    fig = plt.figure()    \n",
    "    cmap = ['r', 'b', 'g', 'y', 'c']\n",
    "    shap_dataX = shap_data >> mask(X.site == site) >> mask(X.Feature == feature)\n",
    "    plot_data = shap_dataX >> mask(X.year == yr) >> select(X.fval, X.mean_val, X.se_val)\n",
    "    plt.scatter(x=plot_data['fval'],y=plot_data['mean_val'])\n",
    "    plt.errorbar(plot_data['fval'],plot_data['mean_val'], yerr=plot_data['se_val'], fmt=\"o\")\n",
    "#    plt.vlines(vline, ymin=plot_data['mean_val'].min(), ymax=plot_data['mean_val'].max(), label=vlinelabel, colors=cmap[:len(vlinelabel)])\n",
    "    for i in range(len(vline)):\n",
    "        plt.vlines(vline[i], ymin=plot_data['mean_val'].min(), ymax=plot_data['mean_val'].max(), label=vlinelabel[i], colors='r')        \n",
    "#    plt.legend()\n",
    "    plt.title(site+\"_\"+feature+\"_\"+str(yr))\n",
    "    plt.grid()\n",
    "    plt.show()\n",
    "    return fig\n",
    "    #    plt.savefig('data/'+site+'/model_'+site+'_'+str(year)+'_'+f+'.png')"
   ]
  },
  {
   "cell_type": "code",
   "execution_count": null,
   "id": "719cf934-32ff-4d36-9896-05a61df9513e",
   "metadata": {
    "tags": []
   },
   "outputs": [],
   "source": [
    "def model_comparison(model1, model2, stg='stg01', site = '', year='2016', oversample='raw', fs='rmscrbun', rmcol='005'):\n",
    "    import ipynb.fs.full.postprocessing3_collect\n",
    "    import importlib\n",
    "    importlib.reload(ipynb.fs.full.postprocessing3_collect)\n",
    "    data1 = ipynb.fs.full.postprocessing3_collect.result_split(model1, stg=stg, site =site, year=year, oversample=oversample, fs=fs, rmcol=rmcol, return_result=True)\n",
    "    data2 = ipynb.fs.full.postprocessing3_collect.result_split(model2, stg=stg, site =site, year=year, oversample=oversample, fs=fs, rmcol=rmcol, return_result=True)    \n",
    "    \n",
    "    data1 = list(data1.loc[:, ['site', 'auc']].sort_values('site').to_records(index=False))\n",
    "    data2 = list(data2.loc[:, ['site', 'auc']].sort_values('site').to_records(index=False))\n",
    "    labels1, values1 = zip(*data1)\n",
    "    labels2, values2 = zip(*data2)\n",
    "    \n",
    "    if ax is None:\n",
    "        _, ax = plt.subplots(1, 1)\n",
    "\n",
    "    ylocs1 = np.arange(len(values1))\n",
    "    ylocs2 = np.arange(len(values2))    \n",
    "    ax.barh(ylocs1, values1, align='center', height=height, label=model1, **kwargs)\n",
    "    ax.barh(ylocs2, values2, align='center', height=height, label=model2, **kwargs)\n",
    "\n",
    "    if show_values is True:\n",
    "        for x, y in zip(values1, ylocs1):\n",
    "            ax.text(x + x/100, y, round(x,2), va='center')\n",
    "        for x, y in zip(values2, ylocs2):\n",
    "            ax.text(x + x/100, y, round(x,2), va='center')\n",
    "\n",
    "    ax.set_yticks(ylocs1)\n",
    "    ax.set_yticklabels(labels)\n",
    "\n",
    "    if xlim is not None:\n",
    "        if not isinstance(xlim, tuple) or len(xlim) != 2:\n",
    "            raise ValueError('xlim must be a tuple of 2 elements')\n",
    "    else:\n",
    "        xlim = (0, max(values) * 1.1)\n",
    "    ax.set_xlim(xlim)\n",
    "\n",
    "    if ylim is not None:\n",
    "        if not isinstance(ylim, tuple) or len(ylim) != 2:\n",
    "            raise ValueError('ylim must be a tuple of 2 elements')\n",
    "    else:\n",
    "        ylim = (-1, len(values))\n",
    "    ax.set_ylim(ylim)\n",
    "\n",
    "    if title is not None:\n",
    "        ax.set_title(title)\n",
    "    if xlabel is not None:\n",
    "        ax.set_xlabel(xlabel)\n",
    "    if ylabel is not None:\n",
    "        ax.set_ylabel(ylabel)\n",
    "    ax.grid(grid)\n",
    "    return ax    "
   ]
  },
  {
   "cell_type": "code",
   "execution_count": null,
   "id": "84270ba4-bea6-4dd4-9080-75dcaeed2089",
   "metadata": {
    "tags": []
   },
   "outputs": [],
   "source": [
    "def top_features(shap_data, importance_type = 'Importances', max_num_features = 10):\n",
    "#    siteyr = shap_data['siteyr'].unique()\n",
    "    siteyrlen = shap_data.loc[:,['site', 'year']].drop_duplicates().shape[0]\n",
    "    #    years.sort()\n",
    "    rank_table = shap_data.sort_values(['site', 'year', importance_type], ascending=False).loc[:,['site', 'year', 'Feature']].drop_duplicates().groupby(['site', 'year']).head(max_num_features).reset_index(drop=True)\n",
    "    rank_table.loc[:, 'rank'] = list(range(1,max_num_features+1))*siteyrlen\n",
    "    rank_table = rank_table.pivot(index=['site', 'year'], columns='rank', values='Feature')\n",
    "    return rank_table   "
   ]
  },
  {
   "cell_type": "code",
   "execution_count": null,
   "id": "d4307012-4cee-4184-94b9-40fba7cbf1df",
   "metadata": {
    "tags": []
   },
   "outputs": [],
   "source": [
    "def top_features_no_lab(shap_data, importance_type = 'Importances', max_num_features = 10):\n",
    "    siteyrlen = shap_data.loc[:,['site', 'year']].drop_duplicates().shape[0]\n",
    "    shap_dataX = shap_data[['site', 'year','Feature','Importances']].drop_duplicates()\n",
    "    shap_dataX['irank'] = shap_dataX[['site', 'year','Importances']].drop_duplicates().groupby(['site', 'year']).rank(\"dense\", ascending=False)\n",
    "    shap_dataX = shap_dataX[~shap_dataX['Feature'].str.contains('LAB')]\n",
    "    shap_dataX['Feature(Rank)'] = shap_dataX['Feature']+'('+shap_dataX['irank'].astype(str)+')'\n",
    "    shap_dataX['Dummyrank'] = shap_dataX[['site', 'year', 'irank']].drop_duplicates().groupby(['site', 'year']).rank(\"dense\", ascending=True)\n",
    "    return shap_dataX[['site', 'year', 'Dummyrank', 'Feature(Rank)']].dropna().pivot(index=['site', 'year'], columns='Dummyrank', values='Feature(Rank)').reset_index().iloc[:,:(max_num_features+2)]"
   ]
  },
  {
   "cell_type": "code",
   "execution_count": null,
   "id": "8c45508b-36ab-404f-96a1-59c658284df6",
   "metadata": {
    "tags": []
   },
   "outputs": [],
   "source": [
    "def top_features_med(shap_data, importance_type = 'Importances', max_num_features = 10):\n",
    "    siteyrlen = shap_data.loc[:,['site', 'year']].drop_duplicates().shape[0]\n",
    "    shap_dataX = shap_data[['site', 'year','Feature','Importances']].drop_duplicates()\n",
    "    shap_dataX['irank'] = shap_dataX[['site', 'year','Importances']].drop_duplicates().groupby(['site', 'year']).rank(\"dense\", ascending=False)\n",
    "    shap_dataX = shap_dataX[shap_dataX['Feature'].str.contains('MED')]\n",
    "    shap_dataX['Feature(Rank)'] = shap_dataX['Feature']+'('+shap_dataX['irank'].astype(str)+')'\n",
    "    shap_dataX['Dummyrank'] = shap_dataX[['site', 'year', 'irank']].drop_duplicates().groupby(['site', 'year']).rank(\"dense\", ascending=True)\n",
    "    return shap_dataX[['site', 'year', 'Dummyrank', 'Feature(Rank)']].dropna().pivot(index=['site', 'year'], columns='Dummyrank', values='Feature(Rank)').reset_index().iloc[:,:(max_num_features+2)]"
   ]
  },
  {
   "cell_type": "code",
   "execution_count": null,
   "id": "158ccdf8-c6c7-4f88-ac72-ab5213e56e38",
   "metadata": {
    "tags": []
   },
   "outputs": [],
   "source": [
    "importlib.reload(ipynb.fs.full.postprocessing3_collect)\n",
    "\n",
    "#Load statistics\n",
    "stg = 'stg01'\n",
    "#fs = 'rmscrbun'\n",
    "fs = 'nofs'\n",
    "#fs = 'onlymed'\n",
    "oversample='raw'\n",
    "model = 'catd'    \n",
    "rmcol = '005'\n",
    "year = '3000'\n",
    "\n",
    "#ipynb.fs.full.postprocessing3_collect.result_split(model, stg=stg, site = '', year='', oversample=oversample, fs=fs, rmcol=rmcol, return_result=False)\n",
    "\n",
    "ipynb.fs.full.postprocessing3_collect.DEID(model, stg=stg, site = '', year=year, oversample=oversample, fs=fs, rmcol=rmcol, return_result=False)\n",
    "\n",
    "#result = pd.read_pickle('DEID_resultsplit_'+model+'_'+stg+'_'+fs+'_'+oversample+'_005.pkl')\n",
    "result = pd.read_pickle(\"/home/hoyinchan/blue/Data/data2021/data2021/\"+'DEID_resultsplit_'+model+'_'+stg+'_'+year+'_'+fs+'_'+oversample+'_005.pkl')"
   ]
  },
  {
   "cell_type": "code",
   "execution_count": null,
   "id": "791898df-3ef2-41ad-92f6-476e9d89f27b",
   "metadata": {
    "tags": []
   },
   "outputs": [],
   "source": [
    "def lablonic2name(lonic):\n",
    "    if lonic.split(':')[0] != 'LAB':\n",
    "        return lonic\n",
    "    lonic = lonic.split(':')[2].split('(')[0]\n",
    "    import requests\n",
    "    r = requests.get('https://loinc.org/'+lonic+'/')\n",
    "    from bs4 import BeautifulSoup\n",
    "    soup = BeautifulSoup(r.text, 'html.parser')\n",
    "    return soup.find('meta', {'property':\"og:title\"})['content'].split(' ')[0] + '(' + lonic + ')'"
   ]
  },
  {
   "cell_type": "code",
   "execution_count": null,
   "id": "659117a1-5241-4462-b9fc-07fb5ba33af2",
   "metadata": {},
   "outputs": [],
   "source": [
    "def atc2name(ATC):\n",
    "    ATC_Split = str(ATC).split(':')\n",
    "    if ATC_Split[0] != 'MED' or ATC_Split[1] != 'ATC':\n",
    "        return ATC\n",
    "    rank = ATC.split(':')[2].split('(')[1]    \n",
    "    ATC = ATC.split(':')[2].split('(')[0]\n",
    "    if ATC == 'L01XC':\n",
    "        return 'Monoclonal antibodies(L01XC)'+ '(' + rank\n",
    "    import requests\n",
    "    url = 'https://www.whocc.no/atc_ddd_index/?code='+ATC+'&showdescription=no'\n",
    "    r = requests.get(url)\n",
    "    from bs4 import BeautifulSoup\n",
    "    soup = BeautifulSoup(r.text, 'html.parser')\n",
    "    #return soup.find('meta', {'property':\"og:title\"})['content'].split(' ')[0] + '(' + lonic + ')'    \n",
    "    return soup.find_all('a', {'href':\"./?code=\"+ATC+\"&showdescription=no\"})[0].text + '(' + ATC + ')' + '(' + rank"
   ]
  },
  {
   "cell_type": "code",
   "execution_count": null,
   "id": "75114f13-4afb-4fcf-8a27-55f8ca46f3f8",
   "metadata": {},
   "outputs": [],
   "source": [
    "def atc2name2(ATC):\n",
    "    try:\n",
    "        if ATC == 'L01XC':\n",
    "            return 'Monoclonal antibodies(L01XC)'\n",
    "        import requests\n",
    "        url = 'https://www.whocc.no/atc_ddd_index/?code='+ATC+'&showdescription=no'\n",
    "        r = requests.get(url)\n",
    "        from bs4 import BeautifulSoup\n",
    "        soup = BeautifulSoup(r.text, 'html.parser')\n",
    "        return soup.find_all('a', {'href':\"./?code=\"+ATC+\"&showdescription=no\"})[0].text\n",
    "    except:\n",
    "        return ATC"
   ]
  },
  {
   "cell_type": "code",
   "execution_count": null,
   "id": "d920da4b-cc9c-4d97-8fc9-96de2518839c",
   "metadata": {
    "tags": []
   },
   "outputs": [],
   "source": [
    "import matplotlib.pylab as plt\n",
    "plt.rcParams['figure.dpi'] = 200\n",
    "myax = plot_importance(result,ylabel='site')"
   ]
  },
  {
   "cell_type": "code",
   "execution_count": null,
   "id": "691d6305-0c8d-4895-9795-537abf8ceef4",
   "metadata": {
    "tags": []
   },
   "outputs": [],
   "source": [
    "#avg_rank = result[result['site']!='MCRI'][['site','Feature','Importances','rank']].drop_duplicates()[['Feature','rank']].groupby('Feature').sum().reset_index().sort_values('rank').head(10)\n",
    "max_rank = result[result['site']!='MCRI'][['site','rank']].groupby('site').max().reset_index()\n",
    "max_rank.columns = ['site','max_rank']\n",
    "from itertools import product\n",
    "allsite_faature = pd.DataFrame(list(product(result[result['site']!='MCRI']['site'].unique(), result[result['site']!='MCRI']['Feature'].unique())), columns=['site', 'Feature'])"
   ]
  },
  {
   "cell_type": "code",
   "execution_count": null,
   "id": "e9bb3a0e-318b-4d31-94fb-e2949a615650",
   "metadata": {
    "tags": []
   },
   "outputs": [],
   "source": [
    "max_rank"
   ]
  },
  {
   "cell_type": "code",
   "execution_count": null,
   "id": "5ddf71cb-38b9-4e11-a8c9-c3b2879fc5b3",
   "metadata": {
    "tags": []
   },
   "outputs": [],
   "source": [
    "allsite_faature2 = allsite_faature.merge(max_rank, on ='site', how='left').merge(result, on =['site','Feature'], how='left')"
   ]
  },
  {
   "cell_type": "code",
   "execution_count": null,
   "id": "fac30ec8-5a46-483d-bc5a-4e1bad8df0f3",
   "metadata": {
    "tags": []
   },
   "outputs": [],
   "source": [
    "allsite_faature2 = allsite_faature2[['site','Feature','rank']]\n",
    "allsite_faature2 = allsite_faature2.fillna(min(max_rank['max_rank']))"
   ]
  },
  {
   "cell_type": "code",
   "execution_count": null,
   "id": "6c61f888-2884-489c-b928-4ba36374e308",
   "metadata": {
    "tags": []
   },
   "outputs": [],
   "source": [
    "allsite_faature3 = allsite_faature2[['site','Feature','rank',]].drop_duplicates()\n",
    "allsite_faature3 = allsite_faature3.drop_duplicates()[['Feature','rank']].groupby('Feature').sum().reset_index().sort_values('rank').head(30)\n",
    "allsite_faature3.index = allsite_faature3['rank']\n",
    "allsite_faature3 = allsite_faature3.drop('rank',axis=1)\n",
    "allsite_faature3.iloc[20:30,:]"
   ]
  },
  {
   "cell_type": "code",
   "execution_count": null,
   "id": "f3fcbe05-3220-4f22-b3f0-d4a2e561dc23",
   "metadata": {
    "tags": []
   },
   "outputs": [],
   "source": []
  },
  {
   "cell_type": "code",
   "execution_count": null,
   "id": "7568ec43-a904-4157-8488-05157f5ae99e",
   "metadata": {
    "tags": []
   },
   "outputs": [],
   "source": []
  },
  {
   "cell_type": "code",
   "execution_count": null,
   "id": "1dd0e4f1-7617-40fe-8c8a-2e7ae67b1889",
   "metadata": {
    "tags": []
   },
   "outputs": [],
   "source": [
    "#Show top freatures for each site year \n",
    "ttf = top_features(result, max_num_features=10).reset_index().drop('year',axis=1)\n",
    "ttf.style.hide_index()"
   ]
  },
  {
   "cell_type": "code",
   "execution_count": null,
   "id": "1c6e910c-0515-405b-8a88-aec2a9790eca",
   "metadata": {},
   "outputs": [],
   "source": [
    "maxmaxfcount = ttf.melt().groupby('value').count().sort_values('rank',ascending=False)\n",
    "maxffindex = maxmaxfcount[maxmaxfcount['rank']>2].index\n",
    "siteflist = result[['site', 'Feature']].drop_duplicates()\n",
    "maxmaxfexi = siteflist[[x in list(maxffindex) for x in siteflist['Feature']]].groupby('Feature').count()\n",
    "d1 = maxmaxfcount[maxmaxfcount['rank']>3].merge(maxmaxfexi, left_index=True, right_index=True)"
   ]
  },
  {
   "cell_type": "code",
   "execution_count": null,
   "id": "586e2a09-aea3-46d4-a9f7-b9337fde168f",
   "metadata": {},
   "outputs": [],
   "source": [
    "d1['name'] = [lablonic2name(x) for x in d1.index]\n",
    "d1"
   ]
  },
  {
   "cell_type": "code",
   "execution_count": null,
   "id": "140999d0-e167-473a-8d76-be91484beba9",
   "metadata": {},
   "outputs": [],
   "source": []
  },
  {
   "cell_type": "code",
   "execution_count": null,
   "id": "c354fc11-dd17-4313-9f20-b9dbb7232a0a",
   "metadata": {},
   "outputs": [],
   "source": [
    "topf = top_features(result, max_num_features=50).reset_index()\n",
    "topf = topf[topf['site']=='UTSW']\n",
    "topf.drop(['site', 'year'],axis=1).stack().unique()"
   ]
  },
  {
   "cell_type": "code",
   "execution_count": null,
   "id": "bcf3e7f0-c9b6-40ce-83d0-db33ee172577",
   "metadata": {},
   "outputs": [],
   "source": [
    "topmed = top_features_med(result, max_num_features=10)\n",
    "topmed"
   ]
  },
  {
   "cell_type": "code",
   "execution_count": null,
   "id": "d2c2e547-cee5-4cc9-8f92-e907ecf969ba",
   "metadata": {
    "tags": []
   },
   "outputs": [],
   "source": [
    "#topmed.drop('year',axis=1).applymap(lambda x: x.split(':')[-1]).style.hide_index()\n",
    "topmed.drop('year',axis=1).applymap(lambda x: x.split(':')[-1] if type(x) == str else x).style.hide_index()"
   ]
  },
  {
   "cell_type": "code",
   "execution_count": null,
   "id": "dbeb67ac-d6f3-4c7a-8b9f-487daf366577",
   "metadata": {
    "tags": []
   },
   "outputs": [],
   "source": [
    "[x.split('(')[0] for x in topmed[topmed['site']=='UTSW'].drop(['site','year'],axis=1).stack().unique()]"
   ]
  },
  {
   "cell_type": "code",
   "execution_count": null,
   "id": "0a310877-afdf-4efe-a6df-cfa7f22a6463",
   "metadata": {
    "jupyter": {
     "outputs_hidden": true
    },
    "tags": []
   },
   "outputs": [],
   "source": [
    "topmedrank = pd.DataFrame(topmed.drop(['site','year'],axis=1).applymap(lambda x : (x.split('(')[0].split(':')[-1] if float(x.split('(')[-1].split(')')[0]) <= 30 else np.nan) if type(x) == str else x).melt()[['value']]['value'].value_counts()).reset_index()\n",
    "topmedrank['name'] = topmedrank['index'].apply(atc2name2)\n",
    "topmedrank['name(ATC)'] = topmedrank['name'] + '(' + topmedrank['index'] + ')'\n",
    "\n",
    "df_high_corr = pd.read_csv('df_high_corr.csv')\n",
    "df_low_corr = pd.read_csv('df_low_corr.csv')\n",
    "\n",
    "df_high_corr['index2'] = [x.split(':')[-1] for x in df_high_corr['index']]\n",
    "df_low_corr['index2'] = [x.split(':')[-1] for x in df_low_corr['index']]\n",
    "df_high_corr = df_high_corr[df_high_corr['corr'] > 0].copy()\n",
    "df_low_corr = df_low_corr[df_low_corr['corr'] > 0].copy()\n",
    "df_high_corr_count = pd.DataFrame(df_high_corr.groupby('index2').size()).reset_index()\n",
    "df_high_corr_count.columns = ['index2','count_high']\n",
    "df_low_corr_count = pd.DataFrame(df_low_corr.groupby('index2').size()).reset_index()\n",
    "df_low_corr_count.columns = ['index2','count_low']\n",
    "\n",
    "topmedrankX1 = topmedrank.merge(df_high_corr_count, left_on='index', right_on='index2', how='left').fillna(0).drop('index2',axis=1)\n",
    "topmedrankX1['count_high'] = topmedrankX1['count_high'].astype(int)\n",
    "topmedrankX2 = topmedrankX1.merge(df_low_corr_count, left_on='index', right_on='index2', how='left').fillna(0).drop('index2',axis=1)\n",
    "topmedrankX2['count_low'] = topmedrankX2['count_low'].astype(int)\n",
    "\n",
    "pd.set_option('display.max_colwidth', None)\n",
    "topmedrankX2['name(ATC)[high:low]'] = topmedrankX2['name(ATC)'] + '[' + topmedrankX2['count_high'].astype(str) + ':' + topmedrankX2['count_low'].astype(str) + ']'\n",
    "topmedrankX2['combinestr'] = topmedrankX2[['value', 'name(ATC)[high:low]']].groupby('value').transform(lambda x: ','.join(x))\n",
    "topmedrankX2[['value', 'combinestr']].drop_duplicates()"
   ]
  },
  {
   "cell_type": "code",
   "execution_count": null,
   "id": "c1372c28-1f1a-4ed4-9776-26caf98e425b",
   "metadata": {
    "tags": []
   },
   "outputs": [],
   "source": [
    "topmedrankX2[['value', 'combinestr']].drop_duplicates().style.hide_index()"
   ]
  },
  {
   "cell_type": "code",
   "execution_count": null,
   "id": "4660c007-1764-4fee-9285-423e03ecef6b",
   "metadata": {
    "tags": []
   },
   "outputs": [],
   "source": [
    "df_low_corr_avg = df_low_corr[['index2', 'corr']].groupby('index2').mean().reset_index()\n",
    "df_low_corr_avg.columns = ['index2', 'low_avg_corr']\n",
    "df_high_corr_avg = df_high_corr[['index2', 'corr']].groupby('index2').mean().reset_index()\n",
    "df_high_corr_avg.columns = ['index2', 'high_avg_corr']"
   ]
  },
  {
   "cell_type": "code",
   "execution_count": null,
   "id": "16199940-b1c1-4a8d-9e5a-7cb86c0b610e",
   "metadata": {
    "jupyter": {
     "outputs_hidden": true
    },
    "tags": []
   },
   "outputs": [],
   "source": [
    "# auc per site/year\n",
    "plotdata = result\n",
    "plotdata = plotdata.astype({'year': 'str'})\n",
    "plotdata = (plotdata>>mutate(Feature=X.site+'_'+X.year)>>select('Feature','auc')).drop_duplicates()\n",
    "ax = plot_importance(plotdata, importance_type='auc', max_num_features = 10)"
   ]
  },
  {
   "cell_type": "code",
   "execution_count": null,
   "id": "01efb1c1-d556-4e9b-84f1-df37502eabae",
   "metadata": {},
   "outputs": [],
   "source": [
    "# average auc per site\n",
    "plotdata = result\n",
    "plotdata = plotdata.astype({'year': 'str'})\n",
    "plotdata = (plotdata>>mutate(Feature=X.site)>>select('Feature','auc')).drop_duplicates().groupby('Feature').mean().reset_index()\n",
    "ax = plot_importance(plotdata, importance_type='auc', max_num_features = 10)"
   ]
  },
  {
   "cell_type": "code",
   "execution_count": null,
   "id": "6810e779-f81f-4004-a96b-3f9087629b4e",
   "metadata": {},
   "outputs": [],
   "source": [
    "site = 'KUMC'\n",
    "year = 3000\n",
    "shap_data = result >> mask(X.site==site) >> mask(X.year==year)\n",
    "#plot feature importance\n",
    "importance_type = 'Importances'\n",
    "#importance_type = 'minmax_SHAP'\n",
    "#importance_type = 'varSHAP'\n",
    "ax = plot_importance(shap_data, importance_type=importance_type, max_num_features = 10)\n",
    "#ax.figure.savefig('data/'+site+'/model_'+site+'_'+str(year)+\"_feature_\"+importance_type+\".png\")"
   ]
  },
  {
   "cell_type": "code",
   "execution_count": null,
   "id": "f7159b22-7c9f-428c-b01e-ec202f0c98f7",
   "metadata": {
    "tags": []
   },
   "outputs": [],
   "source": [
    "top_n_SHAP(result, 'KUMC', 3000, importance_type=importance_type, max_num_features = 4, numgraphcol=2)"
   ]
  },
  {
   "cell_type": "code",
   "execution_count": null,
   "id": "e4bc94c3-c9da-432f-9d75-78f791640621",
   "metadata": {},
   "outputs": [],
   "source": [
    "one_feature_SHAP(result, 'AGE', 'KUMC')"
   ]
  },
  {
   "cell_type": "code",
   "execution_count": null,
   "id": "2b1c0175-9a94-4465-8946-44293f774e82",
   "metadata": {
    "tags": []
   },
   "outputs": [],
   "source": [
    "one_feature_SHAP(result, 'AGE', 'MCRI')"
   ]
  },
  {
   "cell_type": "code",
   "execution_count": null,
   "id": "a746a6aa-94f7-4668-8714-98f5bdce663a",
   "metadata": {
    "tags": []
   },
   "outputs": [],
   "source": [
    "one_feature_SHAP_allyear_allsite(result, 'AGE', numgraphcol=2)"
   ]
  },
  {
   "cell_type": "code",
   "execution_count": null,
   "id": "5d205522-1335-42c6-b915-1ceaa7fe2f7d",
   "metadata": {
    "tags": []
   },
   "outputs": [],
   "source": [
    "one_feature_SHAP_allyear_allsite(result, 'LAB::2075-0(mmol/L)')"
   ]
  },
  {
   "cell_type": "code",
   "execution_count": null,
   "id": "ae3b59e3-d892-4bf3-bdf5-b3e5363159ea",
   "metadata": {
    "tags": []
   },
   "outputs": [],
   "source": [
    "#Calcium\n",
    "one_feature_SHAP_allyear_allsite(result, 'LAB::17861-6(mg/dL)')"
   ]
  },
  {
   "cell_type": "code",
   "execution_count": null,
   "id": "f5a5c0d7-dca0-483e-ad79-0caf2bad29e8",
   "metadata": {},
   "outputs": [],
   "source": [
    "#Potassium\n",
    "myfig = one_feature_SHAP_allyear_allsite(result, 'LAB::2823-3(mmol/L)')\n",
    "myfig.savefig(\"SHAP2823_3_potassium.svg\")"
   ]
  },
  {
   "cell_type": "code",
   "execution_count": null,
   "id": "6ce865e9-5fe7-430f-9765-ad07c6dab0c0",
   "metadata": {
    "tags": []
   },
   "outputs": [],
   "source": [
    "#Chloride\n",
    "one_feature_SHAP_allyear_allsite(result, 'SYSTOLIC')"
   ]
  },
  {
   "cell_type": "code",
   "execution_count": null,
   "id": "286bb008-0094-4203-a2da-7314a3e8000f",
   "metadata": {},
   "outputs": [],
   "source": [
    "result2 = result[result['Feature'] == 'AGE']\n",
    "result2[['site', 'Importances']].drop_duplicates().groupby('site').mean().sort_values('Importances')"
   ]
  },
  {
   "cell_type": "code",
   "execution_count": null,
   "id": "c9aa5a02-749d-4547-8962-c4cb9668f558",
   "metadata": {
    "tags": []
   },
   "outputs": [],
   "source": [
    "result2"
   ]
  },
  {
   "cell_type": "code",
   "execution_count": null,
   "id": "57de4fed-ddb0-4cd2-a46d-1b07427d48ad",
   "metadata": {},
   "outputs": [],
   "source": [
    "one_feature_SHAP_allyear_allsite(result, '2823-3')"
   ]
  },
  {
   "cell_type": "code",
   "execution_count": null,
   "id": "c33c4b67-f757-436e-bb26-9d0ce1e71c20",
   "metadata": {},
   "outputs": [],
   "source": [
    "one_feature_SHAP(result, 'SYSTOLIC', 'MCRI')"
   ]
  },
  {
   "cell_type": "code",
   "execution_count": null,
   "id": "3c930555-196a-4914-9a4e-3da2edbdb4ad",
   "metadata": {},
   "outputs": [],
   "source": [
    "from catboost import CatBoost, Pool\n",
    "stg = 'stg01'\n",
    "fs = 'rmscrbun'\n",
    "oversample='raw'\n",
    "model_type = 'catd'    \n",
    "rmcol = '005'\n",
    "site = 'MCRI'\n",
    "year = '2011'\n",
    "suffix=''\n",
    "year=3000\n",
    "model = pickle.load(open('data/'+site+'/model_'+model_type+'_'+site+'_'+str(year)+'_'+stg+'_'+fs+'_'+oversample+'.pkl', 'rb'))\n",
    "X_train = pd.read_pickle('data/'+site+'/X_train_'+site+'_'+str(year)+'_'+stg+'_'+fs+'_'+oversample+suffix+'.pkl')\n",
    "y_train = pd.read_pickle('data/'+site+'/y_train_'+site+'_'+str(year)+'_'+stg+'_'+fs+'_'+oversample+suffix+'.pkl')"
   ]
  },
  {
   "cell_type": "code",
   "execution_count": null,
   "id": "6ae28f88-a18a-4267-af04-af593c15b78b",
   "metadata": {},
   "outputs": [],
   "source": [
    "is_cat = (X_train.dtypes == bool)\n",
    "cat_features_index = np.where(is_cat)[0]"
   ]
  },
  {
   "cell_type": "code",
   "execution_count": null,
   "id": "a1c06a7b-37d5-40f7-80af-2ac029389553",
   "metadata": {},
   "outputs": [],
   "source": [
    "pool = Pool(X_train, y_train, cat_features=cat_features_index, feature_names=list(X_train.columns))"
   ]
  },
  {
   "cell_type": "code",
   "execution_count": null,
   "id": "2bbb7e1e-846c-46eb-8cb0-c58903538380",
   "metadata": {},
   "outputs": [],
   "source": [
    "model.save_model('testtree.txt', format=\"json\", export_parameters=None)"
   ]
  },
  {
   "cell_type": "code",
   "execution_count": null,
   "id": "b16b11b5-22f5-433f-9481-62caff1166ba",
   "metadata": {},
   "outputs": [],
   "source": [
    "tfea = 'SYSTOLIC'\n",
    "\n",
    "ageidx = np.where(np.array(model.feature_names_) == tfea)[0][0]"
   ]
  },
  {
   "cell_type": "code",
   "execution_count": null,
   "id": "d33d54d7-3216-4f85-9884-cc38635d1497",
   "metadata": {},
   "outputs": [],
   "source": [
    "import json\n",
    "f = open('testtree.txt')\n",
    "tree = json.load(f)\n",
    "f.close()"
   ]
  },
  {
   "cell_type": "code",
   "execution_count": null,
   "id": "d89f3239-ca4c-4a6a-90c4-7b14661b975f",
   "metadata": {},
   "outputs": [],
   "source": [
    "for i in range(len(tree['features_info']['float_features'])):\n",
    "    if tree['features_info']['float_features'][i]['flat_feature_index'] == ageidx:\n",
    "        print(i)\n",
    "        ageidx2 = i"
   ]
  },
  {
   "cell_type": "code",
   "execution_count": null,
   "id": "755feeca-a34f-47b3-afd5-ec53ace0760a",
   "metadata": {
    "tags": []
   },
   "outputs": [],
   "source": [
    "#model.plot_tree(tree_idx=38,pool=pool)"
   ]
  },
  {
   "cell_type": "code",
   "execution_count": null,
   "id": "9ba251d0-2709-4b81-bd7b-df83d6249b1c",
   "metadata": {
    "tags": []
   },
   "outputs": [],
   "source": [
    "#tree['oblivious_trees'][5]\n",
    "sp0 = X_train['SYSTOLIC']<93.33\n",
    "sp1 = np.logical_and(X_train['SYSTOLIC']>=93.33, X_train['SYSTOLIC']<=109.25)\n",
    "sp2 = X_train['SYSTOLIC']>109.25\n",
    "spt = np.logical_not(np.isnan(X_train['SYSTOLIC']))\n",
    "p0 = y_train[sp0].sum()/sp0.sum()\n",
    "p1 = y_train[sp1].sum()/sp1.sum()\n",
    "p2 = y_train[sp2].sum()/sp2.sum()\n",
    "pt = y_train[spt].sum()/spt.sum()\n",
    "print(p0, p1, p2, pt)"
   ]
  },
  {
   "cell_type": "code",
   "execution_count": null,
   "id": "b2b7450f-8383-46b0-8b48-fe4ed1a7789f",
   "metadata": {
    "tags": []
   },
   "outputs": [],
   "source": [
    "#tree['oblivious_trees'][5]\n",
    "sp0 = X_train['SYSTOLIC']<93.33\n",
    "sp1 = np.logical_and(X_train['SYSTOLIC']>=93.33, X_train['SYSTOLIC']<=108.25)\n",
    "sp2 = X_train['SYSTOLIC']>108.25\n",
    "spt = np.logical_not(np.isnan(X_train['SYSTOLIC']))\n",
    "p0 = y_train[sp0].sum()/sp0.sum()\n",
    "p1 = y_train[sp1].sum()/sp1.sum()\n",
    "p2 = y_train[sp2].sum()/sp2.sum()\n",
    "pt = y_train[spt].sum()/spt.sum()\n",
    "print(p0, p1, p2, pt)"
   ]
  },
  {
   "cell_type": "code",
   "execution_count": null,
   "id": "573fca32-c9ce-4e6a-bf44-6d76e60cffca",
   "metadata": {},
   "outputs": [],
   "source": [
    "#tree['oblivious_trees'][5]\n",
    "sp0 = X_train['SYSTOLIC']<93.33\n",
    "sp1 = np.logical_and(X_train['SYSTOLIC']>=108.25, X_train['SYSTOLIC']<=110.25)\n",
    "sp2 = X_train['SYSTOLIC']>108.25\n",
    "spt = np.logical_not(np.isnan(X_train['SYSTOLIC']))\n",
    "p0 = y_train[sp0].sum()/sp0.sum()\n",
    "p1 = y_train[sp1].sum()/sp1.sum()\n",
    "p2 = y_train[sp2].sum()/sp2.sum()\n",
    "pt = y_train[spt].sum()/spt.sum()\n",
    "print(p0, p1, p2, pt)\n"
   ]
  },
  {
   "cell_type": "code",
   "execution_count": null,
   "id": "98e34563-9b83-42c6-aaee-3ebde88468a7",
   "metadata": {},
   "outputs": [],
   "source": [
    "#myfig = zero_feature_SHAP(result, tfea, 'MCRI', int(year), vline=vline[:7], vlinelabel=vlinelabel[:7])\n",
    "myfig = zero_feature_SHAP(result, tfea, 'MCRI', 3000, vline=vline[:7], vlinelabel=vlinelabel[:7])\n",
    "print(list(zip(vline,vlinelabel))[:7])\n",
    "myfig.savefig(\"SHAP_MCRI_2011_overelay2013.svg\")"
   ]
  },
  {
   "cell_type": "code",
   "execution_count": null,
   "id": "46aaa5a6-c7c4-4e02-9198-7f276778bc08",
   "metadata": {},
   "outputs": [],
   "source": [
    "zero_feature_SHAP(result, tfea, 'UIOWA', int(year), vline=vline[:7], vlinelabel=vlinelabel[:7])\n",
    "print(list(zip(vline,vlinelabel))[:7])"
   ]
  },
  {
   "cell_type": "code",
   "execution_count": null,
   "id": "fc6b39b9-15d2-400d-972d-4cc29c1f8b50",
   "metadata": {
    "tags": []
   },
   "outputs": [],
   "source": [
    "vline = []\n",
    "vlinelabel = []\n",
    "rank=0\n",
    "for i in range(len(tree['oblivious_trees'])):\n",
    "    for j in range(len(tree['oblivious_trees'][i]['splits'])):\n",
    "        if 'float_feature_index' in tree['oblivious_trees'][i]['splits'][j].keys():\n",
    "#            print(tree['oblivious_trees'][i]['splits'][j]['float_feature_index'])\n",
    "            if tree['oblivious_trees'][i]['splits'][j]['float_feature_index'] == ageidx2:\n",
    "                print(i, j, tree['oblivious_trees'][i]['splits'][j])\n",
    "                vline.append(tree['oblivious_trees'][i]['splits'][j]['border'])\n",
    "                vlinelabel.append(i)"
   ]
  },
  {
   "cell_type": "code",
   "execution_count": null,
   "id": "35f4c419-5899-445c-bd88-1f9079e1bfc3",
   "metadata": {},
   "outputs": [],
   "source": []
  },
  {
   "cell_type": "code",
   "execution_count": null,
   "id": "c0ab863a-f9c5-4675-a2e0-517b7c3d3207",
   "metadata": {},
   "outputs": [],
   "source": []
  },
  {
   "cell_type": "code",
   "execution_count": null,
   "id": "5315c478-d014-40d1-b48c-be1c891ccbe9",
   "metadata": {},
   "outputs": [],
   "source": []
  }
 ],
 "metadata": {
  "kernelspec": {
   "display_name": "AKI_CDM_PY",
   "language": "python",
   "name": "aki_cdm_py"
  },
  "language_info": {
   "codemirror_mode": {
    "name": "ipython",
    "version": 3
   },
   "file_extension": ".py",
   "mimetype": "text/x-python",
   "name": "python",
   "nbconvert_exporter": "python",
   "pygments_lexer": "ipython3",
   "version": "3.6.15"
  }
 },
 "nbformat": 4,
 "nbformat_minor": 5
}
