{
 "cells": [
  {
   "cell_type": "code",
   "execution_count": 1,
   "metadata": {},
   "outputs": [],
   "source": [
    "# This is R code in juptyer lab, to install R kernel in jupter, open R session inside your oen anaconda environment\n",
    "# type in the following:\n",
    "# install.packages(\"devtools\") (fail)\n",
    "# conda install -c conda-forge r-devtools (Use this)\n",
    "# conda install -c conda-forge gcc\n",
    "# devtools::install_github(\"IRkernel/IRkernel\")\n",
    "# IRkernel::installspec()\n",
    "# then restart jupterlab\n",
    "# ref: https://richpauloo.github.io/2018-05-16-Installing-the-R-kernel-in-Jupyter-Lab/"
   ]
  },
  {
   "cell_type": "code",
   "execution_count": 1,
   "metadata": {},
   "outputs": [],
   "source": [
    "# "
   ]
  },
  {
   "cell_type": "code",
   "execution_count": 2,
   "metadata": {},
   "outputs": [
    {
     "name": "stderr",
     "output_type": "stream",
     "text": [
      "\n",
      "Attaching package: ‘data.table’\n",
      "\n",
      "\n",
      "The following objects are masked from ‘package:dplyr’:\n",
      "\n",
      "    between, first, last\n",
      "\n",
      "\n",
      "\n",
      "Attaching package: ‘reshape2’\n",
      "\n",
      "\n",
      "The following objects are masked from ‘package:data.table’:\n",
      "\n",
      "    dcast, melt\n",
      "\n",
      "\n"
     ]
    }
   ],
   "source": [
    "library(rxnorm)\n",
    "library(dplyr)\n",
    "library(data.table)\n",
    "library(reshape2)\n",
    "library(stringi)"
   ]
  },
  {
   "cell_type": "code",
   "execution_count": 3,
   "metadata": {},
   "outputs": [],
   "source": [
    "RIGHT = function(x,n){\n",
    "  substring(x,nchar(x)-n+1)\n",
    "}"
   ]
  },
  {
   "cell_type": "code",
   "execution_count": 6,
   "metadata": {},
   "outputs": [],
   "source": [
    "# read data\n",
    "query_per_site_rx <- function(site){\n",
    "    home_directory = \"/home/hoyinchan/code/AKI_CDM_PY/\"\n",
    "    rxnorm_data_ext <- readRDS(paste0(home_directory,\"rxnorm2atcdict.rda\"))\n",
    "    rxnorm_data_new <- read.delim(paste0('/home/hoyinchan/blue/Data/data2021/data2021/',site,\"/rxnormtmp_\",site,\".csv\"), sep=\",\", stringsAsFactors=F, header = FALSE)\n",
    "\n",
    "    # find new query needed\n",
    "    rxnorm_data_q <- rxnorm_data_new %>% filter(!V1 %in% rxnorm_data_ext$V1)\n",
    "\n",
    "    #query new data\n",
    "    rxnorm_data_new_q <- rxnorm_data_q %>% mutate(V2=sapply(V1, rxnorm::get_atc))\n",
    "\n",
    "    #add new query to database\n",
    "    rxnorm_data_ext <- rbind(rxnorm_data_ext, rxnorm_data_new_q)\n",
    "    saveRDS(rxnorm_data_ext, paste0(home_directory,\"rxnorm2atcdict.rda\"))\n",
    "\n",
    "    # process output for python\n",
    "    rxnorm_data_out <- rxnorm_data_ext %>% filter(V1 %in% rxnorm_data_new$V1)\n",
    "    rxnorm_data_out[\"id\"] <- rownames(rxnorm_data_out)\n",
    "    flatten_list <- melt(rxnorm_data_out$V2) %>% mutate(id=as.character(L1)) %>% \n",
    "                    left_join(rxnorm_data_out, by=\"id\") %>%\n",
    "                    select(V1, value) %>% mutate(V2=as.character(value)) %>% \n",
    "                    mutate(V3=V2) %>%\n",
    "    #                mutate(V3=RIGHT(V2,1)) %>%\n",
    "                    select(V1, V3) %>% rename(c(\"Rxcui\"=\"V1\", \"ATC4th\"=\"V3\")) %>% unique\n",
    "    write.csv(x=flatten_list, file=paste0('/home/hoyinchan/blue/Data/data2021/data2021/',site,'/rxnorm_out_',site,'.csv'), row.names = FALSE)\n",
    "    print(site)\n",
    "}"
   ]
  },
  {
   "cell_type": "code",
   "execution_count": 7,
   "metadata": {},
   "outputs": [],
   "source": [
    "#sites <- list('IUR', 'MCRI', 'MCW', 'UIOWA', 'UNMC', 'UofU', 'UPITT', 'UTSW')\n",
    "sites <- list('MCRI', 'MCW', 'UIOWA', 'UNMC', 'UofU', 'UPITT', 'UTSW')\n",
    "#sites <- list('KUMC')"
   ]
  },
  {
   "cell_type": "code",
   "execution_count": 9,
   "metadata": {},
   "outputs": [
    {
     "name": "stdout",
     "output_type": "stream",
     "text": [
      "[1] \"MCRI\"\n",
      "[1] \"MCW\"\n",
      "[1] \"UIOWA\"\n",
      "[1] \"UNMC\"\n",
      "[1] \"UofU\"\n",
      "[1] \"UPITT\"\n",
      "[1] \"UTSW\"\n"
     ]
    }
   ],
   "source": [
    "for (site in sites){\n",
    "    query_per_site_rx(site)\n",
    "}"
   ]
  },
  {
   "cell_type": "code",
   "execution_count": 13,
   "metadata": {},
   "outputs": [],
   "source": [
    "query_per_site_ndc <- function(site){\n",
    "    home_directory = \"/home/hoyinchan/code/AKI_CDM_PY/\"\n",
    "    ndc_data_ext <- readRDS(paste0(home_directory,\"ndc2rxnorm2atcdict.rda\"))\n",
    "    ndc_data_new <- read.delim(paste0('/home/hoyinchan/blue/Data/data2021/data2021/',site,\"/ndctmp_\",site,\".csv\"), sep=\",\", stringsAsFactors=F, header = FALSE, colClasses=c('character'))\n",
    "\n",
    "    # find new query needed\n",
    "    ndc_data_q <- ndc_data_new %>% filter(!V1 %in% ndc_data_ext$V1)\n",
    "\n",
    "    #query new data\n",
    "    ndc_data_new_q <- ndc_data_q %>% mutate(V2=sapply(V1, rxnorm::from_ndc))\n",
    "\n",
    "    ndc_data_new_q2 <- ndc_data_new_q %>% mutate(V3=sapply(V2, rxnorm::get_atc))\n",
    "\n",
    "    #add new query to database (ndc2rxnorm2atc)\n",
    "    ndc_data_ext <- rbind(ndc_data_ext, ndc_data_new_q2)\n",
    "    saveRDS(ndc_data_ext, paste0(home_directory,\"ndc2rxnorm2atcdict.rda\"))\n",
    "\n",
    "    ndc_data_ext <- ndc_data_ext %>% select(-V2) %>% rename(V2=V3)\n",
    "    ndc_data_out <- ndc_data_ext %>% filter(V1 %in% ndc_data_new$V1)\n",
    "    ndc_data_out[\"id\"] <- ndc_data_out$V1\n",
    "\n",
    "    flatten_list <- melt(ndc_data_out$V2) %>% mutate(id=as.character(L1)) %>% \n",
    "                    left_join(ndc_data_out, by=\"id\") %>%\n",
    "                    select(V1, value) %>% mutate(V2=as.character(value)) %>%\n",
    "                    mutate(V3=V2) %>%\n",
    "    #                mutate(V3=RIGHT(V2,1)) %>%\n",
    "                    select(V1, V3) %>% rename(c(\"ndc\"=\"V1\", \"ATC4th\"=\"V3\")) %>% unique\n",
    "\n",
    "    write.csv(x=flatten_list, file=paste0('/home/hoyinchan/blue/Data/data2021/data2021/',site,'/ndc_out_',site,'.csv'), row.names = FALSE)\n",
    "    print(site)\n",
    "}"
   ]
  },
  {
   "cell_type": "code",
   "execution_count": 14,
   "metadata": {},
   "outputs": [
    {
     "name": "stdout",
     "output_type": "stream",
     "text": [
      "[1] \"UTHSCSA\"\n",
      "[1] \"UMHC\"\n"
     ]
    }
   ],
   "source": [
    "sites <- list('UTHSCSA', 'UMHC')\n",
    "for (site in sites){\n",
    "    query_per_site_ndc(site)\n",
    "}"
   ]
  },
  {
   "cell_type": "code",
   "execution_count": null,
   "metadata": {},
   "outputs": [],
   "source": []
  }
 ],
 "metadata": {
  "kernelspec": {
   "display_name": "AKI_CDM_R",
   "language": "R",
   "name": "ir"
  },
  "language_info": {
   "codemirror_mode": "r",
   "file_extension": ".r",
   "mimetype": "text/x-r-source",
   "name": "R",
   "pygments_lexer": "r",
   "version": "4.1.3"
  }
 },
 "nbformat": 4,
 "nbformat_minor": 4
}
