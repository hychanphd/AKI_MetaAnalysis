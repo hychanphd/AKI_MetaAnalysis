{
 "cells": [
  {
   "cell_type": "code",
   "execution_count": null,
   "metadata": {},
   "outputs": [],
   "source": [
    "# This is R code in juptyer lab, to install R kernel in jupter, open R session inside your oen anaconda environment\n",
    "# type in the following:\n",
    "# install.packages(\"devtools\") (fail)\n",
    "# conda install -c conda-forge r-devtools (Use this)\n",
    "# conda install -c conda-forge gcc\n",
    "# devtools::install_github(\"IRkernel/IRkernel\")\n",
    "# IRkernel::installspec()\n",
    "# then restart jupterlab\n",
    "# ref: https://richpauloo.github.io/2018-05-16-Installing-the-R-kernel-in-Jupyter-Lab/\n",
    "library(rxnorm)\n",
    "library(dplyr)\n",
    "library(data.table)\n",
    "library(reshape2)\n",
    "library(stringi)"
   ]
  },
  {
   "cell_type": "code",
   "execution_count": null,
   "metadata": {},
   "outputs": [],
   "source": [
    "RIGHT = function(x,n){\n",
    "  substring(x,nchar(x)-n+1)\n",
    "}"
   ]
  },
  {
   "cell_type": "code",
   "execution_count": null,
   "metadata": {},
   "outputs": [],
   "source": [
    "# read data\n",
    "query_per_site_rx <- function(site){\n",
    "    home_directory = \"/home/hchan2/AKI/AKI_Python/\"\n",
    "    rxnorm_data_ext <- readRDS(paste0(home_directory,\"rxnorm2atcdict.rda\"))\n",
    "    rxnorm_data_new <- read.delim(paste0(home_directory,'data/',site,\"/rxnormtmp_\",site,\".csv\"), sep=\",\", stringsAsFactors=F, header = FALSE)\n",
    "\n",
    "    # find new query needed\n",
    "    rxnorm_data_q <- rxnorm_data_new %>% filter(!V1 %in% rxnorm_data_ext$V1)\n",
    "\n",
    "    #query new data\n",
    "    rxnorm_data_new_q <- rxnorm_data_q %>% mutate(V2=sapply(V1, rxnorm::get_atc))\n",
    "\n",
    "    #add new query to database\n",
    "    rxnorm_data_ext <- rbind(rxnorm_data_ext, rxnorm_data_new_q)\n",
    "    saveRDS(rxnorm_data_ext, paste0(home_directory,\"rxnorm2atcdict.rda\"))\n",
    "\n",
    "    # process output for python\n",
    "    rxnorm_data_out <- rxnorm_data_ext %>% filter(V1 %in% rxnorm_data_new$V1)\n",
    "    rxnorm_data_out[\"id\"] <- rownames(rxnorm_data_out)\n",
    "    flatten_list <- melt(rxnorm_data_out$V2) %>% mutate(id=as.character(L1)) %>% \n",
    "                    left_join(rxnorm_data_out, by=\"id\") %>%\n",
    "                    select(V1, value) %>% mutate(V2=as.character(value)) %>% \n",
    "                    mutate(V3=V2) %>%\n",
    "    #                mutate(V3=RIGHT(V2,1)) %>%\n",
    "                    select(V1, V3) %>% rename(c(\"Rxcui\"=\"V1\", \"ATC4th\"=\"V3\")) %>% unique\n",
    "    write.csv(x=flatten_list, file=paste0('/home/hchan2/AKI/AKI_Python/data/',site,'/rxnorm_out_',site,'.csv'), row.names = FALSE)\n",
    "    print(site)\n",
    "}"
   ]
  },
  {
   "cell_type": "code",
   "execution_count": null,
   "metadata": {},
   "outputs": [],
   "source": [
    "#sites <- list('IUR', 'MCRI', 'MCW', 'UIOWA', 'UNMC', 'UofU', 'UPITT', 'UTSW')\n",
    "sites <- list('KUMC')"
   ]
  },
  {
   "cell_type": "code",
   "execution_count": null,
   "metadata": {},
   "outputs": [],
   "source": [
    "for (site in sites){\n",
    "    query_per_site_rx(site)\n",
    "}"
   ]
  },
  {
   "cell_type": "code",
   "execution_count": null,
   "metadata": {},
   "outputs": [],
   "source": [
    "query_per_site_ndc <- function(site){\n",
    "    home_directory = \"/home/hchan2/AKI/AKI_Python/\"\n",
    "    ndc_data_ext <- readRDS(paste0(home_ndirectory,\"ndc2rxnorm2atcdict.rda\"))\n",
    "    ndc_data_new <- read.delim(paste0(home_directory,'data/',site,\"/ndctmp_\",site,\".csv\"), sep=\",\", stringsAsFactors=F, header = FALSE, colClasses=c('character'))\n",
    "\n",
    "    # find new query needed\n",
    "    ndc_data_q <- ndc_data_new %>% filter(!V1 %in% ndc_data_ext$V1)\n",
    "\n",
    "    #query new data\n",
    "    ndc_data_new_q <- ndc_data_q %>% mutate(V2=sapply(V1, rxnorm::from_ndc))\n",
    "\n",
    "    ndc_data_new_q2 <- ndc_data_new_q %>% mutate(V3=sapply(V2, rxnorm::get_atc))\n",
    "\n",
    "    #add new query to database (ndc2rxnorm2atc)\n",
    "    ndc_data_ext <- rbind(ndc_data_ext, ndc_data_new_q2)\n",
    "    saveRDS(ndc_data_ext, paste0(home_directory,\"ndc2rxnorm2atcdict.rda\"))\n",
    "\n",
    "    ndc_data_ext <- ndc_data_ext %>% select(-V2) %>% rename(V2=V3)\n",
    "    ndc_data_out <- ndc_data_ext %>% filter(V1 %in% ndc_data_new$V1)\n",
    "    ndc_data_out[\"id\"] <- ndc_data_out$V1\n",
    "\n",
    "    flatten_list <- melt(ndc_data_out$V2) %>% mutate(id=as.character(L1)) %>% \n",
    "                    left_join(ndc_data_out, by=\"id\") %>%\n",
    "                    select(V1, value) %>% mutate(V2=as.character(value)) %>%\n",
    "                    mutate(V3=V2) %>%\n",
    "    #                mutate(V3=RIGHT(V2,1)) %>%\n",
    "                    select(V1, V3) %>% rename(c(\"ndc\"=\"V1\", \"ATC4th\"=\"V3\")) %>% unique\n",
    "\n",
    "    write.csv(x=flatten_list, file=paste0('/home/hchan2/AKI/AKI_Python/data/',site,'/ndc_out_',site,'.csv'), row.names = FALSE)\n",
    "    print(site)\n",
    "}"
   ]
  },
  {
   "cell_type": "code",
   "execution_count": null,
   "metadata": {},
   "outputs": [],
   "source": []
  }
 ],
 "metadata": {
  "kernelspec": {
   "display_name": "R_meta_analysis_3.6",
   "language": "R",
   "name": "r_aki_meta_analysis_3.6"
  },
  "language_info": {
   "codemirror_mode": "r",
   "file_extension": ".r",
   "mimetype": "text/x-r-source",
   "name": "R",
   "pygments_lexer": "r",
   "version": "4.0.5"
  }
 },
 "nbformat": 4,
 "nbformat_minor": 4
}
