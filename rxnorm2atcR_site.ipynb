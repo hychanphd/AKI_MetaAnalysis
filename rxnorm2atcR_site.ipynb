{
 "cells": [
  {
   "cell_type": "code",
   "execution_count": null,
   "metadata": {
    "tags": []
   },
   "outputs": [],
   "source": [
    "# rxnorm2atcR_site.ipynb\n",
    "# Description: This file convert RX and NDC code to ATC4th code \n",
    "# Output files: med_unified_conversion_rx2atc.parquet\n",
    "# This files contain conversion from ndc to rx\n",
    "# Output files: med_unified_conversion_nd2rx.parquet\n",
    "# This files contain conversion from rx to ATC4th\n",
    "# To be used in preprocessing1.amed"
   ]
  },
  {
   "cell_type": "code",
   "execution_count": null,
   "metadata": {
    "tags": []
   },
   "outputs": [],
   "source": [
    "# This is R code in juptyer lab, to install R kernel in jupter, open R session inside your oen anaconda environment\n",
    "# type in the following:\n",
    "# install.packages(\"devtools\") (fail)\n",
    "# conda install -c conda-forge r-devtools (Use this)\n",
    "# conda install -c conda-forge gcc\n",
    "# devtools::install_github(\"IRkernel/IRkernel\")\n",
    "# IRkernel::installspec()\n",
    "# then restart jupterlab\n",
    "# ref: https://richpauloo.github.io/2018-05-16-Installing-the-R-kernel-in-Jupyter-Lab/"
   ]
  },
  {
   "cell_type": "code",
   "execution_count": null,
   "metadata": {
    "tags": []
   },
   "outputs": [],
   "source": [
    "library(rxnorm)\n",
    "library(dplyr)\n",
    "library(data.table)\n",
    "library(reshape2)\n",
    "library(stringi)\n",
    "library(arrow)\n",
    "library(tidyr)"
   ]
  },
  {
   "cell_type": "code",
   "execution_count": null,
   "metadata": {},
   "outputs": [],
   "source": [
    "path <- '/blue/yonghui.wu/hoyinchan/Data/data2022/'"
   ]
  },
  {
   "cell_type": "code",
   "execution_count": null,
   "metadata": {},
   "outputs": [],
   "source": [
    "amed <- arrow::read_parquet(paste0(path,\"med_unified_conversion_before.parquet\"))"
   ]
  },
  {
   "cell_type": "code",
   "execution_count": null,
   "metadata": {},
   "outputs": [],
   "source": [
    "amed <- amed %>% select(-'__index_level_0__')"
   ]
  },
  {
   "cell_type": "code",
   "execution_count": null,
   "metadata": {},
   "outputs": [],
   "source": [
    "# Translate ND to RX\n",
    "\n",
    "nd_table <- amed %>% filter(MEDADMIN_TYPE=='ND') %>% select(-'MEDADMIN_TYPE')\n",
    "\n",
    "nd_table <- nd_table %>%\n",
    "  mutate(RX=sapply(MEDADMIN_CODE, rxnorm::from_ndc)) %>% # Apply function to each row and store in new column 'RX'\n",
    "  rename(ND = MEDADMIN_CODE) # Rename 'MEDADMIN_CODE' to 'ND'\n",
    "\n",
    "nd_table <- na.omit(nd_table)\n",
    "nd_table %>% arrow::write_parquet(paste0(path,\"med_unified_conversion_nd2rx.parquet\"))"
   ]
  },
  {
   "cell_type": "code",
   "execution_count": null,
   "metadata": {
    "tags": []
   },
   "outputs": [],
   "source": [
    "# Translate RX to ATC4th\n",
    "rx_table <- amed %>% filter(MEDADMIN_TYPE=='RX') %>% select(-'MEDADMIN_TYPE') %>% rename(RX = MEDADMIN_CODE)\n",
    "rx_table <- unique(c(rx_table$RX, nd_table$RX))\n",
    "rx_table <- data.frame(RX = rx_table)\n",
    "\n",
    "rx_table <- rx_table %>% \n",
    "    mutate(ATC=sapply(RX, rxnorm::get_atc)) # Apply function to each row and store in new column 'ATC'\n",
    "rx_table <- na.omit(rx_table)\n",
    "rx_table %>% arrow::write_parquet(paste0(path,\"med_unified_conversion_rx2atc.parquet\"))\n",
    "\n",
    "rx_table_expanded <- rx_table %>%\n",
    "  unnest(ATC)\n",
    "rx_table_expanded <- na.omit(rx_table_expanded)\n",
    "rx_table_expanded %>% arrow::write_parquet(paste0(path,\"med_unified_conversion_rx2atc.parquet\"))"
   ]
  },
  {
   "cell_type": "code",
   "execution_count": null,
   "metadata": {
    "tags": []
   },
   "outputs": [],
   "source": [
    "length(unique(rx_table_expanded$RX))"
   ]
  },
  {
   "cell_type": "code",
   "execution_count": null,
   "metadata": {
    "tags": []
   },
   "outputs": [],
   "source": [
    "13825/19148"
   ]
  },
  {
   "cell_type": "code",
   "execution_count": null,
   "metadata": {},
   "outputs": [],
   "source": []
  },
  {
   "cell_type": "code",
   "execution_count": null,
   "metadata": {},
   "outputs": [],
   "source": []
  },
  {
   "cell_type": "code",
   "execution_count": null,
   "metadata": {},
   "outputs": [],
   "source": []
  },
  {
   "cell_type": "code",
   "execution_count": null,
   "metadata": {},
   "outputs": [],
   "source": []
  },
  {
   "cell_type": "code",
   "execution_count": null,
   "metadata": {},
   "outputs": [],
   "source": []
  }
 ],
 "metadata": {
  "kernelspec": {
   "display_name": "AKI_CDM_R",
   "language": "R",
   "name": "ir"
  },
  "language_info": {
   "codemirror_mode": "r",
   "file_extension": ".r",
   "mimetype": "text/x-r-source",
   "name": "R",
   "pygments_lexer": "r",
   "version": "4.1.3"
  }
 },
 "nbformat": 4,
 "nbformat_minor": 4
}
