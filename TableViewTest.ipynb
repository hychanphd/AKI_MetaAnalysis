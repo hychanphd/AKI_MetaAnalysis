{
 "cells": [
  {
   "cell_type": "code",
   "execution_count": null,
   "id": "f1ed372c",
   "metadata": {
    "tags": []
   },
   "outputs": [],
   "source": [
    "import pandas as pd\n",
    "import numpy as np\n",
    "import itertools\n",
    "from scipy.stats import fisher_exact\n",
    "import shelve\n",
    "import pickle\n",
    "import pandas as pd\n",
    "import numpy as np\n",
    "import sklearn\n",
    "from sklearn.preprocessing import OneHotEncoder\n",
    "from sklearn.impute import SimpleImputer\n",
    "import matplotlib.pyplot as plt\n",
    "from PIL import Image\n",
    "from scipy.interpolate import BSpline, make_interp_spline, interp1d\n",
    "import csv\n",
    "from dfply import *\n",
    "import itertools\n",
    "import os\n",
    "import logging\n",
    "from sys import getsizeof\n",
    "import sklearn\n",
    "import time\n",
    "from sklearn.metrics import roc_auc_score\n",
    "from catboost import Pool, cv\n",
    "import xgboost\n",
    "import catboost\n",
    "import scipy.stats as st\n",
    "\n",
    "import importlib\n",
    "from joblib import Parallel, delayed\n",
    "from joblib import parallel_backend\n",
    "\n",
    "import ipynb.fs.full.preprocessing1\n",
    "import preprocessing4"
   ]
  },
  {
   "cell_type": "code",
   "execution_count": null,
   "id": "035017e7",
   "metadata": {
    "tags": []
   },
   "outputs": [],
   "source": [
    "# Test Site\n",
    "#sites = ['IUR', 'MCRI', 'MCW', 'UIOWA', 'UMHC', 'UNMC', 'UofU', 'UPITT', 'UTHSCSA', 'UTSW']\n",
    "sites = ['IUR', 'MCRI', 'MCW', 'UIOWA', 'UMHC', 'UNMC', 'UofU', 'UPITT', 'UTHSCSA', 'UTSW']\n",
    "site='KUMC'\n",
    "year=3000\n",
    "stg = 'stg01'\n",
    "oversample = 'raw'\n",
    "fs = 'nofs'\n",
    "recol = '005'\n",
    "model_type = 'catd'\n",
    "n_jobs=4"
   ]
  },
  {
   "cell_type": "code",
   "execution_count": null,
   "id": "8cfecc2a-455a-4e7a-9866-d73dbb64c8a4",
   "metadata": {
    "tags": []
   },
   "outputs": [],
   "source": [
    "bt_all = pd.read_pickle('/home/hoyinchan/blue/Data/data2021/data2021/'+site+'/bt3pos_'+site+'_'+stg+'_3000.pkl')"
   ]
  },
  {
   "cell_type": "code",
   "execution_count": null,
   "id": "8fcc363b-60b6-4cfd-9d8e-56918ab3cc46",
   "metadata": {
    "tags": []
   },
   "outputs": [],
   "source": [
    "len(bt_all.columns)"
   ]
  },
  {
   "cell_type": "code",
   "execution_count": null,
   "id": "d36c5934-e811-4c8f-b315-863bffa307ce",
   "metadata": {},
   "outputs": [],
   "source": []
  },
  {
   "cell_type": "code",
   "execution_count": null,
   "id": "24be228a-a7a4-4544-8d60-88e00da46dcd",
   "metadata": {},
   "outputs": [],
   "source": []
  },
  {
   "cell_type": "code",
   "execution_count": null,
   "id": "cdc0d75b-67ae-4552-91fd-7af009c0675c",
   "metadata": {},
   "outputs": [],
   "source": [
    "site='UTHSCSA'\n",
    "year=2016\n",
    "#data = pd.read_pickle('/home/hoyinchan/blue/Data/data2021/data2021/'+site+'/bt3_'+site+'_'+str(year)+'.pkl')\n",
    "px = pd.read_pickle('/home/hoyinchan/blue/Data/data2021/data2021/'+site+'/p0_px_'+site+'.pkl')\n",
    "onset = pd.read_pickle('/home/hoyinchan/blue/Data/data2021/data2021/'+site+'/p0_onset_'+site+'.pkl')\n",
    "lab = pd.read_pickle('/home/hoyinchan/blue/Data/data2021/data2021/'+site+'/p0_lab_g_'+site+'.pkl')"
   ]
  },
  {
   "cell_type": "code",
   "execution_count": null,
   "id": "0ae73cce-9a69-4e39-8ee1-f60448bc12d6",
   "metadata": {},
   "outputs": [],
   "source": [
    "data['PX:CH:90935'].sum()"
   ]
  },
  {
   "cell_type": "code",
   "execution_count": null,
   "id": "b8d8c5e4-4e07-47cc-9d02-5a0a79d6167c",
   "metadata": {},
   "outputs": [],
   "source": [
    "(data['PX:CH:90935']*(data['FLAG']!=0).astype(int)).sum()"
   ]
  },
  {
   "cell_type": "code",
   "execution_count": null,
   "id": "0ebd3653-406f-4d0a-b5a8-2b7ec169ff0e",
   "metadata": {},
   "outputs": [],
   "source": [
    "(data['FLAG']!=0).astype(int).sum()"
   ]
  },
  {
   "cell_type": "code",
   "execution_count": null,
   "id": "cd2f9e37-a266-4fe9-88ec-5fee95bc9a69",
   "metadata": {},
   "outputs": [],
   "source": [
    "pxd = px[px['PX'].str.contains('90935|90937|90940|90945|90947|90999').fillna(False)]"
   ]
  },
  {
   "cell_type": "code",
   "execution_count": null,
   "id": "d13d91a1-9156-4a79-b684-a7c4fdaabe79",
   "metadata": {},
   "outputs": [],
   "source": [
    "pxd = pxd.merge(onset, on=['PATID','ENCOUNTERID'], how='left')"
   ]
  },
  {
   "cell_type": "code",
   "execution_count": null,
   "id": "cff0ad95-0896-4ab4-89fb-453c94a5230c",
   "metadata": {},
   "outputs": [],
   "source": [
    "pxd2 = pxd[((pxd['AKI1_SINCE_ADMIT'] > pxd['DAYS_SINCE_ADMIT']+1).fillna(False)) | ((pxd['AKI2_SINCE_ADMIT'] > pxd['DAYS_SINCE_ADMIT']+1).fillna(False)) | ((pxd['AKI3_SINCE_ADMIT'] > pxd['DAYS_SINCE_ADMIT']+1).fillna(False))]"
   ]
  },
  {
   "cell_type": "code",
   "execution_count": null,
   "id": "f52fd68e-8d45-4a7a-b2b5-57a257b412cf",
   "metadata": {},
   "outputs": [],
   "source": [
    "labd = pxd2[['PATID','ENCOUNTERID']].drop_duplicates().merge(lab, on=['PATID','ENCOUNTERID'] , how='left')"
   ]
  },
  {
   "cell_type": "code",
   "execution_count": null,
   "id": "cf09f9dd-37c7-4f6b-a2b0-1e86d7eb6f99",
   "metadata": {},
   "outputs": [],
   "source": [
    "labd[labd['LAB_LOINC']=='2160-0'].groupby(['PATID','ENCOUNTERID']).count().sort_values('SPECIMEN_SOURCE')"
   ]
  },
  {
   "cell_type": "code",
   "execution_count": null,
   "id": "5d9a1548-4201-4efa-85f1-f32f9639172a",
   "metadata": {},
   "outputs": [],
   "source": [
    "lab[lab['LAB_LOINC']=='2160-0'].groupby(['PATID','ENCOUNTERID']).count().sort_values('SPECIMEN_SOURCE')"
   ]
  },
  {
   "cell_type": "code",
   "execution_count": null,
   "id": "e163a71b-2916-4a90-8d14-8edd966bf395",
   "metadata": {},
   "outputs": [],
   "source": []
  },
  {
   "cell_type": "code",
   "execution_count": null,
   "id": "3c5efc4c-5cc0-44de-b7da-3bd7283d83a0",
   "metadata": {},
   "outputs": [],
   "source": []
  }
 ],
 "metadata": {
  "kernelspec": {
   "display_name": "AKI_CDM_PY",
   "language": "python",
   "name": "aki_cdm_py"
  },
  "language_info": {
   "codemirror_mode": {
    "name": "ipython",
    "version": 3
   },
   "file_extension": ".py",
   "mimetype": "text/x-python",
   "name": "python",
   "nbconvert_exporter": "python",
   "pygments_lexer": "ipython3",
   "version": "3.6.15"
  }
 },
 "nbformat": 4,
 "nbformat_minor": 5
}
