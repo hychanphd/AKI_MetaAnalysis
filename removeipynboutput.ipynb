{
 "cells": [
  {
   "cell_type": "code",
   "execution_count": null,
   "id": "e43f17a2-60b0-45e2-84fa-f433ed194c1b",
   "metadata": {},
   "outputs": [],
   "source": [
    "import os\n",
    "from glob import glob"
   ]
  },
  {
   "cell_type": "code",
   "execution_count": null,
   "id": "d00a03f4-59bb-4e52-9ab6-025acd39da5b",
   "metadata": {},
   "outputs": [],
   "source": [
    "home_dir = 'AKI_Python'\n",
    "home_dir = '/home/hchan2/AKI/'+home_dir\n",
    "dir_list = []"
   ]
  },
  {
   "cell_type": "code",
   "execution_count": null,
   "id": "afe5dc39-bcca-4f87-928a-9621eccbc9a6",
   "metadata": {
    "tags": []
   },
   "outputs": [],
   "source": [
    "for path, subdirs, files in os.walk(home_dir):\n",
    "    for name in files:\n",
    "        dir_list.append(os.path.join(path, name))"
   ]
  },
  {
   "cell_type": "code",
   "execution_count": null,
   "id": "685a2ec0-f9a3-4c18-aa19-76010f6645d4",
   "metadata": {},
   "outputs": [],
   "source": [
    "dir_list = [x for x in dir_list if '.ipynb' in x and '.ipynb_checkpoints' not in x]"
   ]
  },
  {
   "cell_type": "code",
   "execution_count": null,
   "id": "9ddde4fe-8452-434c-9e0c-f4289132cf33",
   "metadata": {
    "jupyter": {
     "outputs_hidden": true
    },
    "tags": []
   },
   "outputs": [],
   "source": [
    "dir_list"
   ]
  },
  {
   "cell_type": "code",
   "execution_count": null,
   "id": "666abc89-33c6-45e0-9c85-68d6559b77fd",
   "metadata": {},
   "outputs": [],
   "source": [
    "for ip in dir_list:\n",
    "    command = \"jupyter nbconvert --clear-output --inplace \" + ip\n",
    "    os.system(command)"
   ]
  },
  {
   "cell_type": "code",
   "execution_count": null,
   "id": "e2fda52c-419b-4a53-8c42-0ab539ee94b6",
   "metadata": {},
   "outputs": [],
   "source": []
  }
 ],
 "metadata": {
  "kernelspec": {
   "display_name": "Python 3 (ipykernel)",
   "language": "python",
   "name": "python3"
  },
  "language_info": {
   "codemirror_mode": {
    "name": "ipython",
    "version": 3
   },
   "file_extension": ".py",
   "mimetype": "text/x-python",
   "name": "python",
   "nbconvert_exporter": "python",
   "pygments_lexer": "ipython3",
   "version": "3.10.4"
  }
 },
 "nbformat": 4,
 "nbformat_minor": 5
}
