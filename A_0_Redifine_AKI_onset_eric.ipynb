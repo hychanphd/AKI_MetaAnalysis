{
 "cells": [
  {
   "cell_type": "code",
   "execution_count": null,
   "id": "0cf3e44f-3b88-485b-80b6-24764bfd4e87",
   "metadata": {
    "tags": []
   },
   "outputs": [],
   "source": [
    "import pandas as pd\n",
    "import numpy as np\n",
    "import matplotlib.pyplot as plt\n",
    "from tqdm.auto import tqdm\n",
    "tqdm.pandas()\n",
    "pd.set_option('display.max_columns', None)\n",
    "from A_Data_Merge_eric import read_AKI_ONSETS, read_AKI_LAB_SCR, read_AKI_DEMO, read_AKI_DX\n",
    "#%store -r ct_names\n",
    "#%store -r raw_path\n",
    "\n",
    "raw_path = '/home/hoyinchan/blue/Data/data2021raw/'\n",
    "ct_names = ['MCW', 'UIOWA', 'UMHC', 'UNMC', 'UofU', 'UTHSCSA', 'KUMC', 'UTSW', 'UPITT', 'UNMC']"
   ]
  },
  {
   "cell_type": "code",
   "execution_count": null,
   "id": "9701833a-bd96-451d-ac79-2f5620dc46e8",
   "metadata": {
    "tags": []
   },
   "outputs": [],
   "source": [
    "import importlib\n",
    "importlib.reload(A_Data_Merge_eric)\n",
    "from A_Data_Merge_eric import read_AKI_ONSETS, read_AKI_LAB_SCR, read_AKI_DEMO, read_AKI_DX"
   ]
  },
  {
   "cell_type": "code",
   "execution_count": null,
   "id": "73b500c7-f06e-46ed-b635-0fcc844ca2d3",
   "metadata": {
    "tags": []
   },
   "outputs": [],
   "source": [
    "def format_and_concat(mode, dfs):\n",
    "    processed_dfs = format_dfs(mode, dfs)\n",
    "    one_df = concat_dfs_to_one(processed_dfs)\n",
    "    return one_df"
   ]
  },
  {
   "cell_type": "code",
   "execution_count": null,
   "id": "ceb5eeef-02ef-438c-98f1-543e179140a7",
   "metadata": {
    "tags": []
   },
   "outputs": [],
   "source": [
    "def format_dfs(mode, dfs):\n",
    "    processed_dfs = dict()\n",
    "    for key, df in tqdm(dfs.items()):    \n",
    "        #convert id columns to string\n",
    "        df['PATID'] = df['PATID'].astype(str)\n",
    "        df['ONSETS_ENCOUNTERID'] = df['ONSETS_ENCOUNTERID'].astype(str)\n",
    "        \n",
    "        if mode == 'ONSET':\n",
    "            # Converting string data type into datetime object\n",
    "            df['ADMIT_DATE'] = pd.to_datetime(df['ADMIT_DATE'], format='mixed')\n",
    "            df['DISCHARGE_DATE'] = pd.to_datetime(df['DISCHARGE_DATE'], format='mixed')\n",
    "            df['AKI1_ONSET'] = pd.to_datetime(df['AKI1_ONSET'], format='mixed')\n",
    "            df['AKI2_ONSET'] = pd.to_datetime(df['AKI2_ONSET'], format='mixed')\n",
    "            df['AKI3_ONSET'] = pd.to_datetime(df['AKI3_ONSET'], format='mixed')\n",
    "        elif mode == 'SCR':\n",
    "            # Converting string data type into datetime object\n",
    "            df['SPECIMEN_DATE'] = pd.to_datetime(df['SPECIMEN_DATE'], format='mixed')\n",
    "            # Extract just the date part(Only needed by UMHC data)\n",
    "            if key == 'UMHC':\n",
    "                df['SPECIMEN_DATE'] = df['SPECIMEN_DATE'].dt.date\n",
    "                df['SPECIMEN_DATE'] = pd.to_datetime(df['SPECIMEN_DATE'])\n",
    "\n",
    "        # add center name column\n",
    "        if key == 'KUMC_ORCALE':\n",
    "            df['CENTER_NAME'] = 'KUMC'\n",
    "        else:\n",
    "            df['CENTER_NAME'] = key\n",
    "        \n",
    "        processed_dfs[key] = df\n",
    "    return processed_dfs"
   ]
  },
  {
   "cell_type": "code",
   "execution_count": null,
   "id": "23d95111-2722-42fd-ae4c-4285287f114a",
   "metadata": {
    "tags": []
   },
   "outputs": [],
   "source": [
    "def concat_dfs_to_one(dfs):\n",
    "    dfs_to_concat = []\n",
    "    for this_df in dfs.values():\n",
    "        dfs_to_concat.append(this_df)\n",
    "    one_df = pd.concat(dfs_to_concat, axis = 0)\n",
    "    return one_df"
   ]
  },
  {
   "cell_type": "code",
   "execution_count": null,
   "id": "d320a723-f106-469b-b7fc-981c2cf9f10e",
   "metadata": {
    "jupyter": {
     "outputs_hidden": true
    },
    "tags": []
   },
   "outputs": [],
   "source": [
    "ONSETS_dfs = read_AKI_ONSETS(ct_names,raw_path)\n",
    "SCR_dfs = read_AKI_LAB_SCR(ct_names, raw_path)"
   ]
  },
  {
   "cell_type": "code",
   "execution_count": null,
   "id": "48aab254-ed45-4f8b-9ffa-3875f3e9fbd9",
   "metadata": {
    "tags": []
   },
   "outputs": [],
   "source": [
    "ONSETs = format_and_concat('ONSET', ONSETS_dfs)\n",
    "SCRs = format_and_concat('SCR', SCR_dfs)"
   ]
  },
  {
   "cell_type": "code",
   "execution_count": null,
   "id": "c9bda87a-1739-4ceb-a884-cfb560f60b15",
   "metadata": {
    "tags": []
   },
   "outputs": [],
   "source": [
    "ori_num_unique_combinations = ONSETs.groupby(['CENTER_NAME', 'PATID', 'ONSETS_ENCOUNTERID']).ngroups"
   ]
  },
  {
   "cell_type": "code",
   "execution_count": null,
   "id": "f0c7fa1c-6278-4279-8e0c-37d14cc45c5b",
   "metadata": {
    "tags": []
   },
   "outputs": [],
   "source": [
    "ori_num_unique_combinations"
   ]
  },
  {
   "cell_type": "code",
   "execution_count": null,
   "id": "de7704bf-66ab-4b70-8d2b-acccc22d89a1",
   "metadata": {
    "tags": []
   },
   "outputs": [],
   "source": [
    "complete_df = ONSETs.merge(SCRs[['ONSETS_ENCOUNTERID', 'PATID', 'SPECIMEN_DATE', 'RESULT_NUM', 'CENTER_NAME']],\n",
    "                          on = ['CENTER_NAME', 'PATID', 'ONSETS_ENCOUNTERID'],\n",
    "                          how = 'left')"
   ]
  },
  {
   "cell_type": "code",
   "execution_count": null,
   "id": "f868967d",
   "metadata": {},
   "outputs": [],
   "source": [
    "complete_df"
   ]
  },
  {
   "cell_type": "markdown",
   "id": "b860ad72",
   "metadata": {},
   "source": [
    "# Estimate SCr Baseline"
   ]
  },
  {
   "cell_type": "code",
   "execution_count": null,
   "id": "792f9e2d",
   "metadata": {},
   "outputs": [],
   "source": [
    "pat_id_cols = [\"CENTER_NAME\", \"PATID\",  \"ONSETS_ENCOUNTERID\"]"
   ]
  },
  {
   "cell_type": "markdown",
   "id": "05296962",
   "metadata": {},
   "source": [
    "1. min between the min of 1-week prior admission SCr and within 24 hour after admission SCr"
   ]
  },
  {
   "cell_type": "code",
   "execution_count": null,
   "id": "db8cbb8b",
   "metadata": {},
   "outputs": [],
   "source": [
    "#SCr within 24 hour after admission, that is admission day and one day after, get mean\n",
    "admission_SCr = complete_df[(complete_df.SPECIMEN_DATE >= complete_df.ADMIT_DATE) & \\\n",
    "                            (complete_df.SPECIMEN_DATE <= (complete_df.ADMIT_DATE + pd.Timedelta(days=1)))].copy()"
   ]
  },
  {
   "cell_type": "code",
   "execution_count": null,
   "id": "1fb6dcdd",
   "metadata": {},
   "outputs": [],
   "source": [
    "# Admission SCr is the mean of all the SCr within 24h admission\n",
    "admission_SCr = admission_SCr.groupby(pat_id_cols)['RESULT_NUM'].mean().reset_index()"
   ]
  },
  {
   "cell_type": "code",
   "execution_count": null,
   "id": "effa8e31",
   "metadata": {},
   "outputs": [],
   "source": [
    "admission_SCr.rename(columns = {\"RESULT_NUM\": \"ADMISSION_SCR\"}, inplace = True)"
   ]
  },
  {
   "cell_type": "code",
   "execution_count": null,
   "id": "d6d3a02e",
   "metadata": {},
   "outputs": [],
   "source": [
    "#merge the ADMISSION_SCR back to the main frame\n",
    "complete_df = complete_df.merge(admission_SCr, \n",
    "                                on = pat_id_cols,\n",
    "                               how = \"left\")"
   ]
  },
  {
   "cell_type": "code",
   "execution_count": null,
   "id": "9da86e0a",
   "metadata": {},
   "outputs": [],
   "source": [
    "# patient do not have admission SCr\n",
    "complete_df.ADMISSION_SCR.isna().mean()"
   ]
  },
  {
   "cell_type": "code",
   "execution_count": null,
   "id": "b899e1a8",
   "metadata": {},
   "outputs": [],
   "source": [
    "#SCr within 7 days prior to admission\n",
    "one_week_prior_admission = complete_df[(complete_df.SPECIMEN_DATE >= complete_df.ADMIT_DATE - pd.Timedelta(days=7)) & \\\n",
    "                                 (complete_df.SPECIMEN_DATE < complete_df.ADMIT_DATE)].copy()"
   ]
  },
  {
   "cell_type": "code",
   "execution_count": null,
   "id": "31528675",
   "metadata": {},
   "outputs": [],
   "source": [
    "one_week_prior_admission = one_week_prior_admission.groupby(pat_id_cols)['RESULT_NUM'].min().reset_index()"
   ]
  },
  {
   "cell_type": "code",
   "execution_count": null,
   "id": "5e0fff2a",
   "metadata": {},
   "outputs": [],
   "source": [
    "one_week_prior_admission.rename(columns = {\"RESULT_NUM\": \"ONE_WEEK_SCR\"}, inplace = True)"
   ]
  },
  {
   "cell_type": "code",
   "execution_count": null,
   "id": "3cccb506",
   "metadata": {},
   "outputs": [],
   "source": [
    "complete_df = complete_df.merge(one_week_prior_admission, \n",
    "                                on = pat_id_cols,\n",
    "                               how = \"left\")"
   ]
  },
  {
   "cell_type": "code",
   "execution_count": null,
   "id": "f0895201",
   "metadata": {},
   "outputs": [],
   "source": [
    "#take the min between one week SCr and admission SCr\n",
    "complete_df.loc[complete_df.ONE_WEEK_SCR.notna(), \"BASELINE_EST_1\"] = \\\n",
    "np.min(complete_df.loc[complete_df.ONE_WEEK_SCR.notna(), [\"ONE_WEEK_SCR\",\"ADMISSION_SCR\"]], axis = 1)"
   ]
  },
  {
   "cell_type": "code",
   "execution_count": null,
   "id": "ecf1e90a",
   "metadata": {},
   "outputs": [],
   "source": [
    "#get the percentage of encounters that do not have past 7-day records\n",
    "criterion1_no_missing = complete_df.loc[complete_df.ONE_WEEK_SCR.notna(), :].groupby(pat_id_cols).ngroups\n",
    "criterion1_missing_rate = 1 - criterion1_no_missing / ori_num_unique_combinations"
   ]
  },
  {
   "cell_type": "code",
   "execution_count": null,
   "id": "e2800fec",
   "metadata": {},
   "outputs": [],
   "source": [
    "ori_num_unique_combinations"
   ]
  },
  {
   "cell_type": "code",
   "execution_count": null,
   "id": "563f1bb7",
   "metadata": {},
   "outputs": [],
   "source": [
    "ori_num_unique_combinations - criterion1_no_missing"
   ]
  },
  {
   "cell_type": "code",
   "execution_count": null,
   "id": "31968b35",
   "metadata": {},
   "outputs": [],
   "source": [
    "criterion1_missing_rate"
   ]
  },
  {
   "cell_type": "markdown",
   "id": "d0cafc1d",
   "metadata": {},
   "source": [
    "2. pre-admission 365-7 day mean"
   ]
  },
  {
   "cell_type": "code",
   "execution_count": null,
   "id": "75399027",
   "metadata": {},
   "outputs": [],
   "source": [
    "#here we only care about SCr measurements within 1 year before hospitalization\n",
    "one_year_prior_admission = complete_df[(complete_df.SPECIMEN_DATE < (complete_df.ADMIT_DATE - pd.Timedelta(days=7))) & \\\n",
    "                                 (complete_df.SPECIMEN_DATE >= (complete_df.ADMIT_DATE - pd.Timedelta(days=365)))].copy()"
   ]
  },
  {
   "cell_type": "code",
   "execution_count": null,
   "id": "97a91542",
   "metadata": {},
   "outputs": [],
   "source": [
    "one_year_prior_admission = one_year_prior_admission.loc[:, pat_id_cols + [\"RESULT_NUM\"]]"
   ]
  },
  {
   "cell_type": "code",
   "execution_count": null,
   "id": "eaeedfb4",
   "metadata": {},
   "outputs": [],
   "source": [
    "one_year_prior_admission = one_year_prior_admission.groupby(pat_id_cols)['RESULT_NUM'].min().reset_index()"
   ]
  },
  {
   "cell_type": "code",
   "execution_count": null,
   "id": "99a96efc",
   "metadata": {},
   "outputs": [],
   "source": [
    "one_year_prior_admission.rename(columns = {\"RESULT_NUM\": \"ONE_YEAR_SCR\"}, inplace = True)"
   ]
  },
  {
   "cell_type": "code",
   "execution_count": null,
   "id": "2fd7df2e",
   "metadata": {},
   "outputs": [],
   "source": [
    "complete_df = complete_df.merge(one_year_prior_admission, \n",
    "                                on = pat_id_cols,\n",
    "                               how = \"left\")"
   ]
  },
  {
   "cell_type": "code",
   "execution_count": null,
   "id": "abf82853",
   "metadata": {},
   "outputs": [],
   "source": [
    "#take the min between one week SCr and admission SCr\n",
    "complete_df.loc[complete_df.ONE_YEAR_SCR.notna(), \"BASELINE_EST_2\"] = \\\n",
    "np.min(complete_df.loc[complete_df.ONE_YEAR_SCR.notna(), [\"ONE_YEAR_SCR\",\"ADMISSION_SCR\"]], axis = 1)"
   ]
  },
  {
   "cell_type": "markdown",
   "id": "61d636b8",
   "metadata": {},
   "source": [
    "check how many are still missing"
   ]
  },
  {
   "cell_type": "code",
   "execution_count": null,
   "id": "c73811b4",
   "metadata": {},
   "outputs": [],
   "source": [
    "# priority 1: 7day SCr, priority 2: one year SCr\n",
    "complete_df[\"BASELINE_NO_MDRD\"] = \\\n",
    "np.where(complete_df['BASELINE_EST_1'].isna(), complete_df['BASELINE_EST_2'], complete_df['BASELINE_EST_1'])"
   ]
  },
  {
   "cell_type": "code",
   "execution_count": null,
   "id": "94e23df5",
   "metadata": {},
   "outputs": [],
   "source": [
    "#get the percentage of encounters that do not have any 1-year records\n",
    "criterion12_no_missing = complete_df.loc[complete_df.BASELINE_NO_MDRD.notna(), :].groupby(pat_id_cols).ngroups\n",
    "criterion12_missing_rate = 1 - criterion12_no_missing / ori_num_unique_combinations"
   ]
  },
  {
   "cell_type": "code",
   "execution_count": null,
   "id": "be0cbc39",
   "metadata": {},
   "outputs": [],
   "source": [
    "ori_num_unique_combinations - criterion12_no_missing"
   ]
  },
  {
   "cell_type": "code",
   "execution_count": null,
   "id": "63a47a86",
   "metadata": {},
   "outputs": [],
   "source": [
    "criterion12_missing_rate"
   ]
  },
  {
   "cell_type": "markdown",
   "id": "21ba384b",
   "metadata": {},
   "source": [
    "3. MDRD to estimate baseline (only for non-CKD patients)"
   ]
  },
  {
   "cell_type": "code",
   "execution_count": null,
   "id": "9ef39e28",
   "metadata": {},
   "outputs": [],
   "source": [
    "#get those need to use MDRD to impute baseline\n",
    "pat_to_MDRD = complete_df.loc[complete_df.BASELINE_NO_MDRD.isna(), pat_id_cols+[\"ADMIT_DATE\", \"ADMISSION_SCR\"]]\n",
    "#one patient one row\n",
    "pat_to_MDRD.drop_duplicates(subset=pat_id_cols, keep=\"first\", inplace = True)"
   ]
  },
  {
   "cell_type": "code",
   "execution_count": null,
   "id": "6ff25619",
   "metadata": {},
   "outputs": [],
   "source": [
    "pat_to_MDRD"
   ]
  },
  {
   "cell_type": "code",
   "execution_count": null,
   "id": "2de160f3",
   "metadata": {},
   "outputs": [],
   "source": [
    "#read in DX to check CKD\n",
    "AKI_DX_dfs = read_AKI_DX(ct_names, raw_path)"
   ]
  },
  {
   "cell_type": "code",
   "execution_count": null,
   "id": "3cf12eca",
   "metadata": {},
   "outputs": [],
   "source": [
    "def concat_and_format_dfs(dictionary):\n",
    "    df_complete = []\n",
    "    for ct_name in tqdm(dictionary.keys()):\n",
    "        if ct_name == \"KUMC_ORCALE\":\n",
    "            dictionary[ct_name][\"CENTER_NAME\"] = \"KUMC\"\n",
    "        else:\n",
    "            dictionary[ct_name][\"CENTER_NAME\"] = ct_name\n",
    "\n",
    "        df_complete.append(dictionary[ct_name])  \n",
    "    \n",
    "    df_complete = pd.concat(df_complete, axis = 0)\n",
    "    \n",
    "    return df_complete"
   ]
  },
  {
   "cell_type": "code",
   "execution_count": null,
   "id": "a7c75e63",
   "metadata": {},
   "outputs": [],
   "source": [
    "DX_complete = concat_and_format_dfs(AKI_DX_dfs)"
   ]
  },
  {
   "cell_type": "code",
   "execution_count": null,
   "id": "f300d0c4",
   "metadata": {},
   "outputs": [],
   "source": [
    "DX_complete"
   ]
  },
  {
   "cell_type": "code",
   "execution_count": null,
   "id": "1cade255",
   "metadata": {},
   "outputs": [],
   "source": [
    "#adjust name and data type\n",
    "DX_complete[\"PATID\"] = DX_complete[\"PATID\"].astype(str)\n",
    "DX_complete[\"DX\"] = DX_complete[\"DX\"].astype(str)\n",
    "DX_complete[\"DX_TYPE\"] = DX_complete[\"DX_TYPE\"].astype(str)\n",
    "DX_complete['DX_TYPE'] = DX_complete['DX_TYPE'].replace('09', '9')"
   ]
  },
  {
   "cell_type": "code",
   "execution_count": null,
   "id": "61fa24fc",
   "metadata": {},
   "outputs": [],
   "source": [
    "pat_to_MDRD[\"PATID\"] = pat_to_MDRD[\"PATID\"].astype(str)\n",
    "pat_to_MDRD_check_CKD = pat_to_MDRD.merge(DX_complete, \n",
    "                                          on = [\"CENTER_NAME\", \"PATID\"], \n",
    "                                          how = \"left\")"
   ]
  },
  {
   "cell_type": "code",
   "execution_count": null,
   "id": "b92b23da",
   "metadata": {},
   "outputs": [],
   "source": [
    "pat_to_MDRD_check_CKD.DX_DATE.isna().mean()"
   ]
  },
  {
   "cell_type": "code",
   "execution_count": null,
   "id": "eb8e4c8e",
   "metadata": {},
   "outputs": [],
   "source": [
    "# calculate DX_DATE for missing\n",
    "pat_to_MDRD_check_CKD.loc[pat_to_MDRD_check_CKD.DX_DATE.isna(), \"DX_DATE\"] = \\\n",
    "pat_to_MDRD_check_CKD.loc[pat_to_MDRD_check_CKD.DX_DATE.isna(), \"ADMIT_DATE\"] + \\\n",
    "pd.to_timedelta(pat_to_MDRD_check_CKD.loc[pat_to_MDRD_check_CKD.DX_DATE.isna(), 'DAYS_SINCE_ADMIT'], unit='D')"
   ]
  },
  {
   "cell_type": "code",
   "execution_count": null,
   "id": "7a2e1aa2",
   "metadata": {},
   "outputs": [],
   "source": [
    "#still have patients that do not have DX in the database\n",
    "pat_to_MDRD_check_CKD.DX_DATE.isna().mean()"
   ]
  },
  {
   "cell_type": "code",
   "execution_count": null,
   "id": "b1fde205",
   "metadata": {},
   "outputs": [],
   "source": [
    "# filter out those DX after admission\n",
    "pat_to_MDRD_check_CKD = pat_to_MDRD_check_CKD[pat_to_MDRD_check_CKD.DX_DATE <= \\\n",
    "                                             pat_to_MDRD_check_CKD.ADMIT_DATE]"
   ]
  },
  {
   "cell_type": "code",
   "execution_count": null,
   "id": "c2988d14",
   "metadata": {},
   "outputs": [],
   "source": [
    "assert(pat_to_MDRD_check_CKD.DX_DATE.isna().mean() == 0)"
   ]
  },
  {
   "cell_type": "code",
   "execution_count": null,
   "id": "20056a53",
   "metadata": {},
   "outputs": [],
   "source": [
    "CKD_code = [\"585.1\",\"585.2\",\"585.3\",\"585.4\",\"585.5\",\"585.9\",\n",
    "            \"N18.1\",\"N18.2\",\"N18.3\",\"N18.4\",\n",
    "           \"N18.5\",\"N18.6\",\"N18.9\"]"
   ]
  },
  {
   "cell_type": "code",
   "execution_count": null,
   "id": "0ac535c4",
   "metadata": {},
   "outputs": [],
   "source": [
    "pat_to_MDRD_with_CKD = pat_to_MDRD_check_CKD[pat_to_MDRD_check_CKD.DX.isin(CKD_code)]"
   ]
  },
  {
   "cell_type": "code",
   "execution_count": null,
   "id": "79177dda",
   "metadata": {},
   "outputs": [],
   "source": [
    "n_CKD_encounter = pat_to_MDRD_with_CKD.groupby(pat_id_cols).ngroups"
   ]
  },
  {
   "cell_type": "code",
   "execution_count": null,
   "id": "b481937b",
   "metadata": {},
   "outputs": [],
   "source": [
    "n_CKD_encounter"
   ]
  },
  {
   "cell_type": "code",
   "execution_count": null,
   "id": "e948fb9c",
   "metadata": {},
   "outputs": [],
   "source": [
    "CKD_no_history_rate = n_CKD_encounter / ori_num_unique_combinations"
   ]
  },
  {
   "cell_type": "code",
   "execution_count": null,
   "id": "37e44909",
   "metadata": {},
   "outputs": [],
   "source": [
    "CKD_no_history_rate"
   ]
  },
  {
   "cell_type": "code",
   "execution_count": null,
   "id": "b9989bd1",
   "metadata": {},
   "outputs": [],
   "source": [
    "patid_without_CKD = list(pat_to_MDRD.loc[~pat_to_MDRD.PATID.isin(pat_to_MDRD_with_CKD.PATID),\n",
    "                                         \"PATID\"].unique())"
   ]
  },
  {
   "cell_type": "code",
   "execution_count": null,
   "id": "b200dd92",
   "metadata": {},
   "outputs": [],
   "source": [
    "len(patid_without_CKD)"
   ]
  },
  {
   "cell_type": "markdown",
   "id": "b1d05925",
   "metadata": {},
   "source": [
    "Apply MDRD to NON-CKD patients"
   ]
  },
  {
   "cell_type": "code",
   "execution_count": null,
   "id": "298d49eb",
   "metadata": {},
   "outputs": [],
   "source": [
    "KDIGO_baseline = np.array([\n",
    "    [1.5, 1.3, 1.2, 1.0],\n",
    "    [1.5, 1.2, 1.1, 1.0],\n",
    "    [1.4, 1.2, 1.1, 0.9],\n",
    "    [1.3, 1.1, 1.0, 0.9],\n",
    "    [1.3, 1.1, 1.0, 0.8],\n",
    "    [1.2, 1.0, 0.9, 0.8]\n",
    "])\n",
    "KDIGO_baseline = pd.DataFrame(KDIGO_baseline, columns = [\"Black males\", \"Other males\",\n",
    "                                                        \"Black females\", \"Other females\"],\n",
    "                             index = [\"20-24\", \"25-29\", \"30-39\", \"40-54\", \"55-65\", \">65\"])"
   ]
  },
  {
   "cell_type": "code",
   "execution_count": null,
   "id": "26a2ed6f",
   "metadata": {},
   "outputs": [],
   "source": [
    "KDIGO_baseline"
   ]
  },
  {
   "cell_type": "code",
   "execution_count": null,
   "id": "ccf2d2c1",
   "metadata": {},
   "outputs": [],
   "source": [
    "#read in DEMO to get age sex and race\n",
    "AKI_DEMO_dfs = read_AKI_DEMO(ct_names, raw_path)"
   ]
  },
  {
   "cell_type": "code",
   "execution_count": null,
   "id": "c94f6df7",
   "metadata": {},
   "outputs": [],
   "source": [
    "#concate DEMO together\n",
    "DEMO_complete = []\n",
    "for ct_name in tqdm(AKI_DEMO_dfs.keys()):\n",
    "    if ct_name == \"KUMC_ORCALE\":\n",
    "        AKI_DEMO_dfs[ct_name][\"CENTER_NAME\"] = \"KUMC\"\n",
    "    else:\n",
    "        AKI_DEMO_dfs[ct_name][\"CENTER_NAME\"] = ct_name\n",
    "    \n",
    "    DEMO_complete.append(AKI_DEMO_dfs[ct_name])"
   ]
  },
  {
   "cell_type": "code",
   "execution_count": null,
   "id": "f971150e",
   "metadata": {},
   "outputs": [],
   "source": [
    "DEMO_complete = pd.concat(DEMO_complete, axis = 0)\n",
    "#adjust data type\n",
    "DEMO_complete[\"ONSETS_ENCOUNTERID\"] = \\\n",
    "DEMO_complete[\"ONSETS_ENCOUNTERID\"].astype(str)\n",
    "DEMO_complete[\"PATID\"] = DEMO_complete[\"PATID\"].astype(str)\n",
    "DEMO_complete[\"AGE\"] = DEMO_complete[\"AGE\"].astype(int)"
   ]
  },
  {
   "cell_type": "code",
   "execution_count": null,
   "id": "2af3a536",
   "metadata": {},
   "outputs": [],
   "source": [
    "pat_to_MDRD"
   ]
  },
  {
   "cell_type": "code",
   "execution_count": null,
   "id": "3bd2e695",
   "metadata": {},
   "outputs": [],
   "source": [
    "#merge DEMO with pat_to_MRDR\n",
    "#one patient one row \n",
    "pat_to_MDRD = pat_to_MDRD.merge(DEMO_complete, on = pat_id_cols, how = \"left\")"
   ]
  },
  {
   "cell_type": "code",
   "execution_count": null,
   "id": "33c462cc",
   "metadata": {},
   "outputs": [],
   "source": [
    "pat_to_MDRD['SEX'] = pat_to_MDRD['SEX'].replace(['UN', 'NI'], 'F')"
   ]
  },
  {
   "cell_type": "code",
   "execution_count": null,
   "id": "0178acf0",
   "metadata": {},
   "outputs": [],
   "source": [
    "def inverse_MDRD(row):\n",
    "    age = row[\"AGE\"]\n",
    "    is_male = True if row[\"SEX\"] == \"M\" else False\n",
    "    is_black = True if (row[\"RACE\"] == \"03\" or row[\"RACE\"] == \"RACE:black\") else False\n",
    "        \n",
    "    if is_male and is_black:\n",
    "        if age <= 24:\n",
    "            return KDIGO_baseline.loc[\"20-24\", \"Black males\"]\n",
    "        elif 25 <= age <= 29:\n",
    "            return KDIGO_baseline.loc[\"25-29\", \"Black males\"]\n",
    "        elif 30 <= age <= 39:\n",
    "            return KDIGO_baseline.loc[\"30-39\", \"Black males\"]\n",
    "        elif 40 <= age <= 54:\n",
    "            return KDIGO_baseline.loc[\"40-54\", \"Black males\"]\n",
    "        elif 55 <= age <= 65:\n",
    "            return KDIGO_baseline.loc[\"55-65\", \"Black males\"]\n",
    "        elif age > 65:\n",
    "            return KDIGO_baseline.loc[\">65\", \"Black males\"]\n",
    "    \n",
    "    if is_male and not is_black:\n",
    "        if age <= 24:\n",
    "            return KDIGO_baseline.loc[\"20-24\", \"Other males\"]\n",
    "        elif 25 <= age <= 29:\n",
    "            return KDIGO_baseline.loc[\"25-29\", \"Other males\"]\n",
    "        elif 30 <= age <= 39:\n",
    "            return KDIGO_baseline.loc[\"30-39\", \"Other males\"]\n",
    "        elif 40 <= age <= 54:\n",
    "            return KDIGO_baseline.loc[\"40-54\", \"Other males\"]\n",
    "        elif 55 <= age <= 65:\n",
    "            return KDIGO_baseline.loc[\"55-65\", \"Other males\"]\n",
    "        elif age > 65:\n",
    "            return KDIGO_baseline.loc[\">65\", \"Other males\"]\n",
    "\n",
    "    if not is_male and is_black:\n",
    "        if age <= 24:\n",
    "            return KDIGO_baseline.loc[\"20-24\", \"Black females\"]\n",
    "        elif 25 <= age <= 29:\n",
    "            return KDIGO_baseline.loc[\"25-29\", \"Black females\"]\n",
    "        elif 30 <= age <= 39:\n",
    "            return KDIGO_baseline.loc[\"30-39\", \"Black females\"]\n",
    "        elif 40 <= age <= 54:\n",
    "            return KDIGO_baseline.loc[\"40-54\", \"Black females\"]\n",
    "        elif 55 <= age <= 65:\n",
    "            return KDIGO_baseline.loc[\"55-65\", \"Black females\"]\n",
    "        elif age > 65:\n",
    "            return KDIGO_baseline.loc[\">65\", \"Black females\"]\n",
    "    \n",
    "    if not is_male and not is_black:\n",
    "        if age <= 24:\n",
    "            return KDIGO_baseline.loc[\"20-24\", \"Other females\"]\n",
    "        elif 25 <= age <= 29:\n",
    "            return KDIGO_baseline.loc[\"25-29\", \"Other females\"]\n",
    "        elif 30 <= age <= 39:\n",
    "            return KDIGO_baseline.loc[\"30-39\", \"Other females\"]\n",
    "        elif 40 <= age <= 54:\n",
    "            return KDIGO_baseline.loc[\"40-54\", \"Other females\"]\n",
    "        elif 55 <= age <= 65:\n",
    "            return KDIGO_baseline.loc[\"55-65\", \"Other females\"]\n",
    "        elif age > 65:\n",
    "            return KDIGO_baseline.loc[\">65\", \"Other females\"]"
   ]
  },
  {
   "cell_type": "code",
   "execution_count": null,
   "id": "dbe44caf",
   "metadata": {},
   "outputs": [],
   "source": [
    "#calculate on non CKD patient\n",
    "pat_to_MDRD.loc[pat_to_MDRD.PATID.isin(patid_without_CKD), \"BASELINE_MDRD\"] = pat_to_MDRD.apply(inverse_MDRD, axis = 1)"
   ]
  },
  {
   "cell_type": "code",
   "execution_count": null,
   "id": "774ddf5b",
   "metadata": {},
   "outputs": [],
   "source": [
    "#for CKD patients without prior history, use admission SCr\n",
    "pat_to_MDRD[\"BASELINE_EST_3\"] = np.min(pat_to_MDRD[[\"ADMISSION_SCR\", \"BASELINE_MDRD\"]], axis = 1)"
   ]
  },
  {
   "cell_type": "code",
   "execution_count": null,
   "id": "6a0f8c1f",
   "metadata": {},
   "outputs": [],
   "source": [
    "#merge back MRDR computation results\n",
    "complete_df = complete_df.merge(pat_to_MDRD[pat_id_cols + [\"BASELINE_EST_3\"]], \n",
    "                                on = pat_id_cols,\n",
    "                               how = \"left\")"
   ]
  },
  {
   "cell_type": "code",
   "execution_count": null,
   "id": "2a068f52",
   "metadata": {},
   "outputs": [],
   "source": [
    "#replace the old baseline\n",
    "# since BASELINE_NO_MDRD and BASELINE_EST_3 are mutually exclusive, just use min\n",
    "complete_df[\"SERUM_CREAT_BASE\"] = np.min(complete_df[[\"BASELINE_NO_MDRD\", \"BASELINE_EST_3\"]], axis = 1)"
   ]
  },
  {
   "cell_type": "code",
   "execution_count": null,
   "id": "2c1f82c6",
   "metadata": {},
   "outputs": [],
   "source": [
    "#drop those still cannot find baseline\n",
    "complete_df = complete_df.dropna(subset=['SERUM_CREAT_BASE'])"
   ]
  },
  {
   "cell_type": "code",
   "execution_count": null,
   "id": "e9e88b61",
   "metadata": {},
   "outputs": [],
   "source": [
    "assert(complete_df.SERUM_CREAT_BASE.isna().mean() == 0)"
   ]
  },
  {
   "cell_type": "markdown",
   "id": "cedf63ce",
   "metadata": {},
   "source": [
    "# Proprocessing"
   ]
  },
  {
   "cell_type": "code",
   "execution_count": null,
   "id": "693e1d1d-994a-4c1c-ab08-6497223ed313",
   "metadata": {
    "tags": []
   },
   "outputs": [],
   "source": [
    "#here we only care about SCr measurements within hospitalization, thus we filter out those history records\n",
    "complete_df_filter = complete_df[(complete_df.SPECIMEN_DATE >= complete_df.ADMIT_DATE) & \\\n",
    "                                 (complete_df.SPECIMEN_DATE <= complete_df.DISCHARGE_DATE)].copy()"
   ]
  },
  {
   "cell_type": "code",
   "execution_count": null,
   "id": "4f9be990-2160-4ce8-a5d6-c65f94c41129",
   "metadata": {
    "tags": []
   },
   "outputs": [],
   "source": [
    "num_unique_combinations = complete_df_filter.groupby(pat_id_cols).ngroups"
   ]
  },
  {
   "cell_type": "code",
   "execution_count": null,
   "id": "c1edc660-53a9-4dfc-ac44-829d1eed7b60",
   "metadata": {
    "tags": []
   },
   "outputs": [],
   "source": [
    "num_unique_combinations"
   ]
  },
  {
   "cell_type": "code",
   "execution_count": null,
   "id": "617db726-c15d-4cc2-9669-6eb108498860",
   "metadata": {
    "tags": []
   },
   "outputs": [],
   "source": [
    "sorted_df = complete_df_filter.sort_values(pat_id_cols + ['SPECIMEN_DATE'])\n",
    "complete_df_filter_sorted = sorted_df.reset_index(drop=True)"
   ]
  },
  {
   "cell_type": "code",
   "execution_count": null,
   "id": "eb0cd6cf",
   "metadata": {},
   "outputs": [],
   "source": [
    "#do not need these columns\n",
    "complete_df_filter_sorted.drop([\"ADMISSION_SCR\", \"ONE_WEEK_SCR\", \"ONE_YEAR_SCR\",\n",
    "                                \"BASELINE_EST_1\", \"BASELINE_EST_2\", \"BASELINE_NO_MDRD\",\n",
    "                               \"BASELINE_EST_3\"], axis = 1, inplace = True)"
   ]
  },
  {
   "cell_type": "code",
   "execution_count": null,
   "id": "6ec1583f",
   "metadata": {},
   "outputs": [],
   "source": [
    "complete_df_filter_sorted"
   ]
  },
  {
   "cell_type": "markdown",
   "id": "4b1b4800-4fd4-4197-a752-10ad2e1f40c1",
   "metadata": {},
   "source": [
    "# Find AKI Stage 1"
   ]
  },
  {
   "cell_type": "code",
   "execution_count": null,
   "id": "02e9ac05",
   "metadata": {},
   "outputs": [],
   "source": [
    "from multiprocessing import Pool, cpu_count"
   ]
  },
  {
   "cell_type": "code",
   "execution_count": null,
   "id": "c3577a74",
   "metadata": {},
   "outputs": [],
   "source": [
    "# get the max SCr increment within past 2 days\n",
    "def calculate_max_diff(group):\n",
    "    max_diffs = []\n",
    "    for index, row in group.iterrows():\n",
    "        # past 2 days records\n",
    "        past_2_days = group[(group['SPECIMEN_DATE'] >= row['SPECIMEN_DATE'] - \\\n",
    "                             pd.Timedelta(days=2)) & (group['SPECIMEN_DATE'] < row['SPECIMEN_DATE'])]\n",
    "        if not past_2_days.empty:\n",
    "            # difference\n",
    "            diffs = row['RESULT_NUM'] - past_2_days['RESULT_NUM']\n",
    "            max_diff = diffs.max()\n",
    "        else:\n",
    "            max_diff = pd.NA\n",
    "        max_diffs.append(max_diff)\n",
    "    group['TWO_DAY_MAX_DIFF'] = max_diffs\n",
    "    return group"
   ]
  },
  {
   "cell_type": "code",
   "execution_count": null,
   "id": "f78c4193",
   "metadata": {},
   "outputs": [],
   "source": [
    "encounter_grouped = complete_df_filter_sorted.groupby(pat_id_cols)\n",
    "groups = [group for _, group in encounter_grouped]"
   ]
  },
  {
   "cell_type": "code",
   "execution_count": null,
   "id": "9ac479c5",
   "metadata": {},
   "outputs": [],
   "source": [
    "len(complete_df_filter_sorted)"
   ]
  },
  {
   "cell_type": "code",
   "execution_count": null,
   "id": "4ee1dec2",
   "metadata": {},
   "outputs": [],
   "source": [
    "len(groups)"
   ]
  },
  {
   "cell_type": "code",
   "execution_count": null,
   "id": "1902a959",
   "metadata": {},
   "outputs": [],
   "source": [
    "with Pool(cpu_count()) as p:\n",
    "    ret_list = list(tqdm(p.imap(calculate_max_diff, groups), \n",
    "                         total=len(groups), \n",
    "                         desc=\"Calculating Differences\"))"
   ]
  },
  {
   "cell_type": "code",
   "execution_count": null,
   "id": "5f074cd0",
   "metadata": {},
   "outputs": [],
   "source": [
    "finished_df = pd.concat(ret_list, axis = 0, ignore_index=True)"
   ]
  },
  {
   "cell_type": "code",
   "execution_count": null,
   "id": "db98ce7e",
   "metadata": {},
   "outputs": [],
   "source": [
    "assert(len(finished_df) == len(complete_df_filter_sorted))"
   ]
  },
  {
   "cell_type": "code",
   "execution_count": null,
   "id": "aa9db3d0-b654-4552-9f6a-3bcc34b0d701",
   "metadata": {
    "tags": []
   },
   "outputs": [],
   "source": [
    "finished_df['ONSETS_NOT_CHANGE'] = \\\n",
    "finished_df['ONSETS_ENCOUNTERID'] == \\\n",
    "finished_df['ONSETS_ENCOUNTERID'].shift()"
   ]
  },
  {
   "cell_type": "code",
   "execution_count": null,
   "id": "7868272f-735d-4793-b4b2-64e6fb5f4414",
   "metadata": {
    "tags": []
   },
   "outputs": [],
   "source": [
    "#here we get the cumulative max measurements within each group\n",
    "finished_df['CUMMAX_RESULT_NUM'] = \\\n",
    "finished_df.groupby(pat_id_cols)['RESULT_NUM'].cummax()"
   ]
  },
  {
   "cell_type": "code",
   "execution_count": null,
   "id": "ac76b109-5f14-4cac-8ac8-03f0b7928deb",
   "metadata": {
    "tags": []
   },
   "outputs": [],
   "source": [
    "finished_df"
   ]
  },
  {
   "cell_type": "code",
   "execution_count": null,
   "id": "4103fce9-4cc3-4d06-9d46-4c01953cc69e",
   "metadata": {
    "tags": []
   },
   "outputs": [],
   "source": [
    "#AKI stage 1 definition part 1, absolute increment of 0.3 within 48 hours\n",
    "condition1 = (finished_df['TWO_DAY_MAX_DIFF'] >= 0.3)\n",
    "#AKI stage 1 definition part 2, fold increment\n",
    "condition2 = (finished_df['RESULT_NUM'] >= 1.5 * finished_df['SERUM_CREAT_BASE']) & \\\n",
    "(finished_df['RESULT_NUM'] < 2.0 * finished_df['SERUM_CREAT_BASE'])\n",
    "#we require that onset src should be the max value until that time, so that higher stage will overwrite lower stage\n",
    "condition3 = (finished_df['ONSETS_NOT_CHANGE']) & \\\n",
    "(finished_df['RESULT_NUM'] == finished_df['CUMMAX_RESULT_NUM'])"
   ]
  },
  {
   "cell_type": "code",
   "execution_count": null,
   "id": "a40ba543-780c-4bd2-9b6b-8cd921b4f8a3",
   "metadata": {
    "tags": []
   },
   "outputs": [],
   "source": [
    "#measurement satisfying AKI-1 \n",
    "AKI_def = finished_df[(condition1 | condition2) & condition3]"
   ]
  },
  {
   "cell_type": "code",
   "execution_count": null,
   "id": "106417df-d694-430c-825d-5aadfc481d27",
   "metadata": {
    "tags": []
   },
   "outputs": [],
   "source": [
    "AKI_def"
   ]
  },
  {
   "cell_type": "code",
   "execution_count": null,
   "id": "020956ca-8174-4b38-b3c0-ad832643322f",
   "metadata": {
    "tags": []
   },
   "outputs": [],
   "source": [
    "# very first measurement satisfying AKI-1 \n",
    "AKI_def_first = AKI_def.groupby(pat_id_cols).first().reset_index().copy()"
   ]
  },
  {
   "cell_type": "code",
   "execution_count": null,
   "id": "2f59cdc7-0261-468b-b1b0-25b385fd1255",
   "metadata": {
    "tags": []
   },
   "outputs": [],
   "source": [
    "AKI_def_first.rename(columns = {'SPECIMEN_DATE': 'AKI1_ONSET_NEW'}, inplace = True)"
   ]
  },
  {
   "cell_type": "code",
   "execution_count": null,
   "id": "86b6573f-09bb-47e7-aee8-c3557069fa27",
   "metadata": {
    "tags": []
   },
   "outputs": [],
   "source": [
    "# merge back AKI-1 onset date\n",
    "AKI_def_all = \\\n",
    "finished_df.merge(AKI_def_first[pat_id_cols + ['AKI1_ONSET_NEW']], \n",
    "                  on=pat_id_cols, how='left')"
   ]
  },
  {
   "cell_type": "code",
   "execution_count": null,
   "id": "32487658-c292-4919-bcb6-12146552f39e",
   "metadata": {
    "tags": []
   },
   "outputs": [],
   "source": [
    "AKI_def_all"
   ]
  },
  {
   "cell_type": "markdown",
   "id": "6a8ed69f-0481-4c41-8a8a-3912b6e53cd5",
   "metadata": {},
   "source": [
    "# Find AKI Stage 2"
   ]
  },
  {
   "cell_type": "code",
   "execution_count": null,
   "id": "bacc823e-dd4e-4fd2-a3f7-41411dc0b18c",
   "metadata": {
    "tags": []
   },
   "outputs": [],
   "source": [
    "condition4 = (finished_df['RESULT_NUM'] >= 2.0 * finished_df['SERUM_CREAT_BASE']) & \\\n",
    "(finished_df['RESULT_NUM'] < 3.0 * finished_df['SERUM_CREAT_BASE'])"
   ]
  },
  {
   "cell_type": "code",
   "execution_count": null,
   "id": "e38aafff-8aed-4235-97a8-994b1d389d45",
   "metadata": {
    "tags": []
   },
   "outputs": [],
   "source": [
    "AKI_def2 = finished_df[condition4 & condition3]\n",
    "AKI_def2_first = AKI_def2.groupby(pat_id_cols).first().reset_index().copy()"
   ]
  },
  {
   "cell_type": "code",
   "execution_count": null,
   "id": "9c0e70df-520a-4fbe-a1f4-1e6d602d1d8b",
   "metadata": {
    "tags": []
   },
   "outputs": [],
   "source": [
    "AKI_def2_first.rename(columns = {'SPECIMEN_DATE': 'AKI2_ONSET_NEW'}, inplace = True)"
   ]
  },
  {
   "cell_type": "code",
   "execution_count": null,
   "id": "eeb919eb-490b-45ad-b128-bf4fde95b6e1",
   "metadata": {
    "tags": []
   },
   "outputs": [],
   "source": [
    "# merge back AKI-2 onset date\n",
    "AKI_def2_all = \\\n",
    "AKI_def_all.merge(AKI_def2_first[pat_id_cols + ['AKI2_ONSET_NEW']], \n",
    "                     on=pat_id_cols, \n",
    "                     how='left')"
   ]
  },
  {
   "cell_type": "markdown",
   "id": "aa3ee010-6e2f-4793-8225-6926b11567bb",
   "metadata": {},
   "source": [
    "# Find AKI Stage 3"
   ]
  },
  {
   "cell_type": "code",
   "execution_count": null,
   "id": "f9ecace4-3758-470c-a6ce-ea3d8a14c148",
   "metadata": {
    "tags": []
   },
   "outputs": [],
   "source": [
    "condition5 = (finished_df['RESULT_NUM'] >= 3.0 * finished_df['SERUM_CREAT_BASE'])\n",
    "condition6 = (finished_df['RESULT_NUM'] >= 4.0)"
   ]
  },
  {
   "cell_type": "code",
   "execution_count": null,
   "id": "21bf64ab-0706-4386-882e-7eefc68427a6",
   "metadata": {
    "tags": []
   },
   "outputs": [],
   "source": [
    "AKI_def3 = finished_df[(condition5 | condition6) & condition3]\n",
    "AKI_def3_first = AKI_def3.groupby(['CENTER_NAME', 'PATID', 'ONSETS_ENCOUNTERID']).first().reset_index().copy()"
   ]
  },
  {
   "cell_type": "code",
   "execution_count": null,
   "id": "fa2d9021-0b0a-48d5-9a20-938373cf9b56",
   "metadata": {
    "tags": []
   },
   "outputs": [],
   "source": [
    "AKI_def3_first.rename(columns = {'SPECIMEN_DATE': 'AKI3_ONSET_NEW'}, inplace = True)"
   ]
  },
  {
   "cell_type": "code",
   "execution_count": null,
   "id": "8419f150-3e23-47cd-8268-b8b0ace0fc53",
   "metadata": {
    "tags": []
   },
   "outputs": [],
   "source": [
    "# merge back AKI-3 onset date\n",
    "AKI_def3_all = \\\n",
    "AKI_def2_all.merge(AKI_def3_first[pat_id_cols + ['AKI3_ONSET_NEW']], \n",
    "                     on=pat_id_cols, \n",
    "                     how='left')"
   ]
  },
  {
   "cell_type": "code",
   "execution_count": null,
   "id": "7b1e4608-f5e0-41df-a6bb-801b3b8afe31",
   "metadata": {
    "tags": []
   },
   "outputs": [],
   "source": [
    "AKI_def3_all"
   ]
  },
  {
   "cell_type": "markdown",
   "id": "0cede6a6-94ad-488f-af0a-d0bd6a20103f",
   "metadata": {},
   "source": [
    "# Processing before Saving"
   ]
  },
  {
   "cell_type": "code",
   "execution_count": null,
   "id": "0f8313e5-99ac-464e-b7ed-9ebf6791bdf7",
   "metadata": {
    "tags": []
   },
   "outputs": [],
   "source": [
    "AKI_def3_all.drop(['AKI1_ONSET', 'AKI2_ONSET', 'AKI3_ONSET'], axis = 1, inplace = True)"
   ]
  },
  {
   "cell_type": "code",
   "execution_count": null,
   "id": "85498009-4863-410e-8184-fc044719e33a",
   "metadata": {
    "tags": []
   },
   "outputs": [],
   "source": [
    "AKI_def3_all.rename(columns = {\n",
    "    'AKI1_ONSET_NEW':'AKI1_ONSET',\n",
    "    'AKI2_ONSET_NEW':'AKI2_ONSET',\n",
    "    'AKI3_ONSET_NEW':'AKI3_ONSET',\n",
    "}, inplace = True)"
   ]
  },
  {
   "cell_type": "code",
   "execution_count": null,
   "id": "2aa7d409-911d-44d9-b5e4-2b7784362ea5",
   "metadata": {
    "tags": []
   },
   "outputs": [],
   "source": [
    "AKI_def3_all['NONAKI_SINCE_ADMIT'] = np.where(\n",
    "    AKI_def3_all['AKI1_ONSET'].notna() | AKI_def3_all['AKI2_ONSET'].notna() | AKI_def3_all['AKI3_ONSET'].notna(), \n",
    "    False, \n",
    "    True\n",
    ")"
   ]
  },
  {
   "cell_type": "code",
   "execution_count": null,
   "id": "12d80d87-3bcb-4328-af28-5d82eff52c4e",
   "metadata": {
    "tags": []
   },
   "outputs": [],
   "source": [
    "AKI_def_use = AKI_def3_all[['PATID', 'ONSETS_ENCOUNTERID', 'ADMIT_DATE', 'DISCHARGE_DATE', 'SERUM_CREAT_BASE',\n",
    "                          'NONAKI_SINCE_ADMIT', 'AKI1_ONSET', 'AKI2_ONSET', 'AKI3_ONSET', 'CENTER_NAME']].copy()"
   ]
  },
  {
   "cell_type": "code",
   "execution_count": null,
   "id": "21d4ba8b-dc71-4fa1-b0d4-95e2be143878",
   "metadata": {
    "tags": []
   },
   "outputs": [],
   "source": [
    "#each encounter we only keep one row info\n",
    "AKI_def_use = AKI_def_use.groupby(pat_id_cols).first().reset_index().copy()"
   ]
  },
  {
   "cell_type": "code",
   "execution_count": null,
   "id": "048b2928-08db-43cd-9e40-4d8f3ff58e4a",
   "metadata": {
    "tags": []
   },
   "outputs": [],
   "source": [
    "num_unique_combinations = AKI_def_use.groupby(pat_id_cols).ngroups"
   ]
  },
  {
   "cell_type": "code",
   "execution_count": null,
   "id": "950a6be7-ce0e-4657-ab5f-43f7d0927e73",
   "metadata": {
    "tags": []
   },
   "outputs": [],
   "source": [
    "num_unique_combinations"
   ]
  },
  {
   "cell_type": "markdown",
   "id": "d42fa24b-ab91-47df-9670-3e4254c13ab8",
   "metadata": {},
   "source": [
    "# Save New Onsets to Folder"
   ]
  },
  {
   "cell_type": "code",
   "execution_count": null,
   "id": "2a20c399-510c-4c78-811b-955f335cf996",
   "metadata": {
    "tags": []
   },
   "outputs": [],
   "source": [
    "AKI_def_use.to_csv('/blue/yonghui.wu/lideyi/AKI_subphenotyping_project_v3/NEW_ONSETS/NEW_ONSETS.csv', index=False)"
   ]
  }
 ],
 "metadata": {
  "kernelspec": {
   "display_name": "AKI_CDM_PY",
   "language": "python",
   "name": "aki_cdm_py"
  },
  "language_info": {
   "codemirror_mode": {
    "name": "ipython",
    "version": 3
   },
   "file_extension": ".py",
   "mimetype": "text/x-python",
   "name": "python",
   "nbconvert_exporter": "python",
   "pygments_lexer": "ipython3",
   "version": "3.6.15"
  }
 },
 "nbformat": 4,
 "nbformat_minor": 5
}
