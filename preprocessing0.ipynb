{
 "cells": [
  {
   "cell_type": "raw",
   "id": "40486212-3dd7-4c78-82f3-cfbeb9d4cd5b",
   "metadata": {},
   "source": [
    "# Centealized dataset unification\n",
    "import pandas as pd\n",
    "import xgboost as xgb\n",
    "import numpy as np\n",
    "import sklearn\n",
    "from sklearn.preprocessing import OneHotEncoder\n",
    "from sklearn.impute import SimpleImputer\n",
    "from imblearn.over_sampling import SMOTE\n",
    "from imblearn.pipeline import make_pipeline\n",
    "from imblearn.combine import SMOTEENN\n",
    "from imblearn.over_sampling import SMOTENC\n",
    "import matplotlib.pyplot as plt\n",
    "from PIL import Image\n",
    "from scipy.interpolate import BSpline, make_interp_spline, interp1d\n",
    "#import rpy2.robjects as robjects\n",
    "#from rpy2.robjects.packages import importr\n",
    "import csv\n",
    "from dfply import *\n",
    "from xgboost import XGBClassifier\n",
    "import itertools\n",
    "import os\n",
    "import logging\n",
    "from sys import getsizeof"
   ]
  },
  {
   "cell_type": "code",
   "execution_count": null,
   "id": "31c5c83e-208d-43ac-aaf3-0b4de15a9bc3",
   "metadata": {},
   "outputs": [],
   "source": [
    "def MCW_convert(site, dataname, datacols, datadtypes, sep='|', ext='dsv'):\n",
    "    datafolder = '/home/hoyinchan/blue/Data/data2021raw/'\n",
    "    if dataname == 'onset':\n",
    "        filename = 'AKI_ONSETS'\n",
    "    else:\n",
    "        filename = 'AKI_'+dataname.upper()\n",
    "    \n",
    "    datacolsX = [x.lower() for x in datacols]\n",
    "    datadtypesX = {key.lower(): value for key, value in datadtypes.items()}\n",
    "    datatt = pd.read_csv(datafolder+site+'/raw/'+filename+'.'+ext,sep=sep, usecols=datacolsX, dtype=(datadtypesX))\n",
    "    datatt.columns = [x.upper() for x in datatt.columns]\n",
    "    datatt.to_pickle('/home/hoyinchan/blue/Data/data2021/data2021/'+site+'/p0_'+dataname+'_'+site+'.pkl')\n",
    "    return datatt    "
   ]
  },
  {
   "cell_type": "code",
   "execution_count": null,
   "id": "dfcc417f-1a2d-472a-8bfa-11b5893f165e",
   "metadata": {},
   "outputs": [],
   "source": [
    "def UofU_convert(site, dataname, datacols, datadtypes, sep='|', ext='txt'):\n",
    "    datafolder = '/home/hoyinchan/blue/Data/data2021raw/'\n",
    "    if dataname == 'onset':\n",
    "        filename = 'AKI_ONSETS'\n",
    "    else:\n",
    "        filename = 'AKI_'+dataname.upper()\n",
    "    \n",
    "    datatt = pd.read_csv(datafolder+site+'/raw/'+filename+'.'+ext,sep=sep, usecols=datacols, dtype=(datadtypes))\n",
    "    datatt.to_pickle('/home/hoyinchan/blue/Data/data2021/data2021/'+site+'/p0_'+dataname+'_'+site+'.pkl')\n",
    "    return datatt    "
   ]
  },
  {
   "cell_type": "code",
   "execution_count": null,
   "id": "ea8befd2-fc7f-4aa6-8346-6fbf58b6113e",
   "metadata": {},
   "outputs": [],
   "source": [
    "def UTSW_convert(site, dataname, datacols, datadtypes, sep='|', ext='dsv'):\n",
    "    datafolder = '/home/hoyinchan/blue/Data/data2021raw/'\n",
    "    if dataname == 'onset':\n",
    "        filename = 'AKI_ONSETS'\n",
    "    else:\n",
    "        filename = 'AKI_'+dataname.upper()\n",
    "    \n",
    "    if dataname == 'amed':\n",
    "        sep=','\n",
    "        ext='csv'\n",
    "#    datacolsX = [x.lower() for x in datacols]\n",
    "#    datadtypesX = {key.lower(): value for key, value in datadtypes.items()}\n",
    "    datatt = pd.read_csv(datafolder+site+'/raw/'+filename+'.'+ext,sep=sep, usecols=datacols, dtype=(datadtypes))\n",
    "#    datatt.columns = [x.upper() for x in datatt.columns]\n",
    "    datatt.to_pickle('/home/hoyinchan/blue/Data/data2021/data2021/'+site+'/p0_'+dataname+'_'+site+'.pkl')\n",
    "    return datatt    "
   ]
  },
  {
   "cell_type": "code",
   "execution_count": null,
   "id": "d7b29cbc-3ecc-4e4d-b812-1ae7c68458f4",
   "metadata": {},
   "outputs": [],
   "source": [
    "def UPITT_convert(site, dataname, datacols, datadtypes, sep=',', ext='csv'):\n",
    "    datafolder = '/home/hoyinchan/blue/Data/data2021raw/'\n",
    "    if dataname == 'onset':\n",
    "        filename = 'AKI_ONSETS'\n",
    "    else:\n",
    "        filename = 'AKI_'+dataname.upper()\n",
    "    if dataname == 'lab':\n",
    "        datatt = pd.read_csv(datafolder+site+'/raw/'+filename+'.'+ext,sep=sep, usecols=datacols, dtype=(datadtypes), encoding='windows-1252')        \n",
    "    else:\n",
    "        datatt = pd.read_csv(datafolder+site+'/raw/'+filename+'.'+ext,sep=sep, usecols=datacols, dtype=(datadtypes))\n",
    "    datatt.to_pickle('/home/hoyinchan/blue/Data/data2021/data2021/'+site+'/p0_'+dataname+'_'+site+'.pkl')\n",
    "#    return datatt\n",
    "#   onset = pd.read_pickle('data/'+site+'/p0_onset_'+site+'.pkl')\n",
    "    print('Finished p0 '+dataname+' on site '+site, flush = True)  "
   ]
  },
  {
   "cell_type": "code",
   "execution_count": null,
   "id": "e4d5d493-a5f8-47be-a1a6-56121b7e60a9",
   "metadata": {},
   "outputs": [],
   "source": [
    "def IUR_convert(site, dataname, datacols, datadtypes, sep=',', ext='csv'):\n",
    "    datafolder = '/home/hoyinchan/blue/Data/data2021raw/'\n",
    "    if dataname == 'onset':\n",
    "        filename = 'AKI_ONSETS'\n",
    "    else:\n",
    "        filename = 'AKI_'+dataname.upper()\n",
    "\n",
    "    if dataname == 'lab':\n",
    "        datatt = pd.read_csv(datafolder+site+'/raw/'+filename+'.'+ext,sep=sep, usecols=datacols, dtype=(datadtypes))        \n",
    "        datatt.loc[:,'PATID']       = datatt['PATID'].map(lambda x: x.lstrip('0'))\n",
    "        datatt.loc[:,'ENCOUNTERID'] = datatt['ENCOUNTERID'].map(lambda x: x.lstrip('0'))        \n",
    "    else:\n",
    "        datatt = pd.read_csv(datafolder+site+'/raw/'+filename+'.'+ext,sep=sep, usecols=datacols, dtype=(datadtypes))\n",
    "    datatt.to_pickle('/home/hoyinchan/blue/Data/data2021/data2021/'+site+'/p0_'+dataname+'_'+site+'.pkl')\n",
    "\n",
    "    #    return datatt\n",
    "#   onset = pd.read_pickle('data/'+site+'/p0_onset_'+site+'.pkl')\n",
    "    print('Finished p0 '+dataname+' on site '+site, flush = True)    "
   ]
  },
  {
   "cell_type": "code",
   "execution_count": null,
   "id": "1fc3668e-ec17-4db4-a94f-6150554f8cb7",
   "metadata": {},
   "outputs": [],
   "source": [
    "def KUMC_convert(site, dataname, datacols, datadtypes, sep=',', ext='csv'):\n",
    "    datafolder = '/home/hoyinchan/blue/Data/data2021raw/'\n",
    "    if dataname == 'onset':\n",
    "        filename = 'AKI_ONSETS'\n",
    "    else:\n",
    "        filename = 'AKI_'+dataname.upper()\n",
    "    if dataname == 'lab':\n",
    "#        datacols = [\"PATID\", \"ENCOUNTERID\", \"DAYS_SINCE_ADMIT\",\n",
    "        datacols = [\"PATID\", \"ENCOUNTERID\", \"DAYS_SINCE_ADMIT\",\n",
    "                    \"RESULT_NUM\", \"LAB_LOINC\",\n",
    "                    \"LAB_PX_TYPE\", \"RESULT_UNIT\", \"RESULT_QUAL\", \"SPECIMEN_SOURCE\"]\n",
    "#        datadtypes =  {\"PATID\": 'object', \"ENCOUNTERID\": 'object', \"AKI1_SINCE_ADMIT\": 'Int64', \n",
    "        datadtypes =  {\"PATID\": 'object', \"ENCOUNTERID\": 'object', \"AKI1_SINCE_ADMIT\": 'Int64', \n",
    "                       \"RESULT_NUM\":\"Float64\",  \"LAB_LOINC\": 'object',\n",
    "                       \"LAB_PX_TYPE\": 'object', \"RESULT_UNIT\": 'object', \"RESULT_QUAL\": 'object',\n",
    "                       \"SPECIMEN_SOURCE\": \"object\"}        \n",
    "        datatt = pd.read_csv(datafolder+site+'/raw/'+filename+'.'+ext,sep=sep, usecols=datacols, dtype=(datadtypes))        \n",
    "        datatt = datatt[datatt['LAB_LOINC'].notnull()]\n",
    "        mask =  datatt['RESULT_NUM'].isnull()\n",
    "#        datatt.loc[mask, 'RESULT_QUAL'] = datatt.loc[mask, 'RAW_RESULT']        \n",
    "#        datatt = datatt.drop('RAW_RESULT', axis=1) \n",
    "    else:\n",
    "        datatt = pd.read_csv(datafolder+site+'/raw/'+filename+'.'+ext,sep=sep, usecols=datacols, dtype=(datadtypes))\n",
    "\n",
    "    datatt = datatt.rename(columns={\"ENCOUNTERID\": \"ENCOUNTERID\"})\n",
    "    datatt.to_pickle('/home/hoyinchan/blue/Data/data2021/data2021/'+site+'/p0_'+dataname+'_'+site+'.pkl')\n",
    "\n",
    "    #    return datatt\n",
    "#   onset = pd.read_pickle('data/'+site+'/p0_onset_'+site+'.pkl')\n",
    "    print('Finished p0 '+dataname+' on site '+site, flush = True)  "
   ]
  },
  {
   "cell_type": "code",
   "execution_count": null,
   "id": "f7213c51-d2af-4b91-b659-6ddbbdf38a64",
   "metadata": {},
   "outputs": [],
   "source": [
    "def MCRI_convert(site, dataname, datacols, datadtypes, sep=',', ext='csv'):\n",
    "    datafolder = '/home/hoyinchan/blue/Data/data2021raw/'\n",
    "    if dataname == 'onset':\n",
    "        filename = 'AKI_ONSETS'\n",
    "    else:\n",
    "        filename = 'AKI_'+dataname.upper()\n",
    "\n",
    "    if dataname == 'amed':\n",
    "        datatt = pd.read_csv(datafolder+site+'/raw/'+filename+'.'+ext,sep=sep, usecols=datacols, dtype=(datadtypes))        \n",
    "        datatt = datatt[datatt['MEDADMIN_CODE'].notnull()]\n",
    "    else:\n",
    "        datatt = pd.read_csv(datafolder+site+'/raw/'+filename+'.'+ext,sep=sep, usecols=datacols, dtype=(datadtypes))\n",
    "    datatt.to_pickle('/home/hoyinchan/blue/Data/data2021/data2021/'+site+'/p0_'+dataname+'_'+site+'.pkl')\n",
    "\n",
    "    #    return datatt\n",
    "#   onset = pd.read_pickle('data/'+site+'/p0_onset_'+site+'.pkl')\n",
    "    print('Finished p0 '+dataname+' on site '+site, flush = True)  "
   ]
  },
  {
   "cell_type": "code",
   "execution_count": null,
   "id": "0c003971-79b6-4705-840d-aee2267433ee",
   "metadata": {},
   "outputs": [],
   "source": [
    "def read_and_save(site, dataname, datacols, datadtypes, sep=',', ext='csv'):\n",
    "    print('Running p0 '+dataname+' on site '+site, flush = True)                    \n",
    "    if site == 'UTSW':\n",
    "        return UTSW_convert('UTSW', dataname, datacols, datadtypes)\n",
    "    elif site == 'UofU':\n",
    "        return UofU_convert('UofU', dataname, datacols, datadtypes)\n",
    "    elif site == 'MCW':\n",
    "        return MCW_convert('MCW', dataname, datacols, datadtypes)\n",
    "    elif site == 'UPITT':\n",
    "        return UPITT_convert('UPITT', dataname, datacols, datadtypes)    \n",
    "    elif site == 'IUR':\n",
    "        return IUR_convert('IUR', dataname, datacols, datadtypes)    \n",
    "    elif site == 'KUMC':\n",
    "        return KUMC_convert('KUMC', dataname, datacols, datadtypes)    \n",
    "    elif site == 'MCRI':\n",
    "        return MCRI_convert('MCRI', dataname, datacols, datadtypes)    \n",
    "    \n",
    "        \n",
    "    datafolder = '/home/hoyinchan/blue/Data/data2021raw/'\n",
    "    if dataname == 'onset':\n",
    "        filename = 'AKI_ONSETS'\n",
    "    else:\n",
    "        filename = 'AKI_'+dataname.upper()\n",
    "    datatt = pd.read_csv(datafolder+site+'/raw/'+filename+'.'+ext,sep=sep, usecols=datacols, dtype=(datadtypes))\n",
    "    datatt = datatt.rename(columns={\"ENCOUNTERID\": \"ENCOUNTERID\"})\n",
    "    datatt.to_pickle('/home/hoyinchan/blue/Data/data2021/data2021/'+site+'/p0_'+dataname+'_'+site+'.pkl')\n",
    "#    return datatt\n",
    "#   onset = pd.read_pickle('data/'+site+'/p0_onset_'+site+'.pkl')\n",
    "    print('Finished p0 '+dataname+' on site '+site, flush = True)                    "
   ]
  },
  {
   "cell_type": "code",
   "execution_count": null,
   "id": "2b652fb8-7de5-44d4-afab-173347be6945",
   "metadata": {
    "tags": []
   },
   "outputs": [],
   "source": [
    "def read_and_save_onset(site):\n",
    "    datafolder = '/home/hoyinchan/blue/Data/data2021raw/'\n",
    "\n",
    "    # onset\n",
    "    onset_cols = ['ADMIT_DATE', \"PATID\", \"ENCOUNTERID\", \n",
    "                  \"NONAKI_SINCE_ADMIT\", \"NONAKI_ANCHOR\",\n",
    "                  \"AKI1_SINCE_ADMIT\", \"AKI1_ONSET\", \n",
    "                  \"AKI2_SINCE_ADMIT\", \"AKI2_ONSET\", \n",
    "                  \"AKI3_SINCE_ADMIT\", \"AKI3_ONSET\"]\n",
    "    onset_dtypes =  {'ADMIT_DATE': 'object', \"PATID\": 'object', \"ENCOUNTERID\": 'object', \n",
    "                     \"NONAKI_SINCE_ADMIT\": 'Int64', \"NONAKI_ANCHOR\": 'object',                      \n",
    "                     \"AKI1_SINCE_ADMIT\": 'Int64', \"AKI1_ONSET\": 'object', \n",
    "                     \"AKI2_SINCE_ADMIT\": 'Int64', \"AKI2_ONSET\": 'object', \n",
    "                     \"AKI3_SINCE_ADMIT\": 'Int64', \"AKI3_ONSET\": 'object'}\n",
    "    read_and_save(site, 'onset', onset_cols, onset_dtypes)    "
   ]
  },
  {
   "cell_type": "code",
   "execution_count": null,
   "id": "dce85970-6054-4a98-9462-144ba0e79da0",
   "metadata": {
    "tags": []
   },
   "outputs": [],
   "source": [
    "def read_and_save_vital(site):\n",
    "    datafolder = '/home/hoyinchan/blue/Data/data2021raw/'\n",
    "\n",
    "    # vital\n",
    "    vital_cols = [\"PATID\", \"ENCOUNTERID\", \"DAYS_SINCE_ADMIT\", \n",
    "                  \"SYSTOLIC\", \"DIASTOLIC\", \"ORIGINAL_BMI\", \"WT\"]\n",
    "    vital_dtypes =  {\"PATID\": 'object', \"ENCOUNTERID\": 'object', \"AKI1_SINCE_ADMIT\": 'Int64', \n",
    "                     \"SYSTOLIC\": 'Float64', \"DIASTOLIC\": 'Float64', \"ORIGINAL_BMI\": 'Float64', \"WT\": 'Float64'}\n",
    "    read_and_save(site, 'vital', vital_cols, vital_dtypes)    "
   ]
  },
  {
   "cell_type": "code",
   "execution_count": null,
   "id": "f18725a0-b4da-4149-a0d6-df939813a18e",
   "metadata": {
    "tags": []
   },
   "outputs": [],
   "source": [
    "def read_and_save_demo(site):\n",
    "    datafolder = '/home/hoyinchan/blue/Data/data2021raw/'\n",
    "\n",
    "    #demo\n",
    "    demo_cols = [\"PATID\", \"ENCOUNTERID\", \n",
    "                  \"AGE\", \"SEX\", \"RACE\", \"HISPANIC\"]\n",
    "    demo_dtypes =  {\"PATID\": 'object', \"ENCOUNTERID\": 'object', \n",
    "                     \"SEX\": 'Int64', \"SEX\": 'category', \"RACE\": 'category', \"HISPANIC\": 'category'}\n",
    "    read_and_save(site, 'demo', demo_cols, demo_dtypes)    "
   ]
  },
  {
   "cell_type": "code",
   "execution_count": null,
   "id": "79c601c9-5dd3-4b90-a4c4-cdd3028c48b9",
   "metadata": {
    "tags": []
   },
   "outputs": [],
   "source": [
    "def read_and_save_dx(site):\n",
    "    datafolder = '/home/hoyinchan/blue/Data/data2021raw/'\n",
    "\n",
    "    # dx\n",
    "    dx_cols = [\"PATID\", \"ENCOUNTERID\", \"DAYS_SINCE_ADMIT\", \n",
    "                  \"DX\", \"DX_TYPE\"]\n",
    "    dx_dtypes =  {\"PATID\": 'object', \"ENCOUNTERID\": 'object', \"AKI1_SINCE_ADMIT\": 'Int64', \n",
    "                     \"DX\": 'object', \"DX_TYPE\": 'object'}\n",
    "    read_and_save(site, 'dx', dx_cols, dx_dtypes)"
   ]
  },
  {
   "cell_type": "code",
   "execution_count": null,
   "id": "f3e577b1-4373-4ea9-9521-a03ca0d9cd35",
   "metadata": {
    "tags": []
   },
   "outputs": [],
   "source": [
    "def read_and_save_px(site):\n",
    "    datafolder = '/home/hoyinchan/blue/Data/data2021raw/'\n",
    "\n",
    "    # px\n",
    "    px_cols = [\"PATID\", \"ENCOUNTERID\", \"DAYS_SINCE_ADMIT\", \n",
    "                  \"PX\", \"PX_TYPE\"]\n",
    "    px_dtypes =  {\"PATID\": 'object', \"ENCOUNTERID\": 'object', \"AKI1_SINCE_ADMIT\": 'Int64', \n",
    "                     \"PX\": 'object', \"PX_TYPE\": 'object'}\n",
    "    read_and_save(site, 'px', px_cols, px_dtypes)    "
   ]
  },
  {
   "cell_type": "code",
   "execution_count": null,
   "id": "a59760fd-e493-4b6e-977a-db73ad814f9b",
   "metadata": {
    "tags": []
   },
   "outputs": [],
   "source": [
    "def read_and_save_lab(site):\n",
    "    datafolder = '/home/hoyinchan/blue/Data/data2021raw/'\n",
    "\n",
    "    # lab\n",
    "#    lab_cols = [\"PATID\", \"ENCOUNTERID\", \"DAYS_SINCE_ADMIT\",\n",
    "    lab_cols = [\"PATID\", \"ENCOUNTERID\", \"DAYS_SINCE_ADMIT\",\n",
    "                \"RESULT_NUM\", \"LAB_LOINC\",\n",
    "                \"LAB_PX_TYPE\", \"RESULT_UNIT\", \"RESULT_QUAL\", \"SPECIMEN_SOURCE\"]\n",
    "    lab_dtypes =  {\"PATID\": 'object', \"ENCOUNTERID\": 'object', \"AKI1_SINCE_ADMIT\": 'Int64',     \n",
    "#    lab_dtypes =  {\"PATID\": 'object', \"ENCOUNTERID\": 'object', \"AKI1_SINCE_ADMIT\": 'Int64', \n",
    "                   \"RESULT_NUM\":\"Float64\",  \"LAB_LOINC\": 'object',\n",
    "                   \"LAB_PX_TYPE\": 'object', \"RESULT_UNIT\": 'object', \"RESULT_QUAL\": 'object', \"SPECIMEN_SOURCE\": 'object'}\n",
    "    read_and_save(site, 'lab', lab_cols, lab_dtypes)    "
   ]
  },
  {
   "cell_type": "code",
   "execution_count": null,
   "id": "2553238e-bf28-4ed3-9a96-6832367cef27",
   "metadata": {
    "tags": []
   },
   "outputs": [],
   "source": [
    "def read_and_save_lab_all(site):\n",
    "    datafolder = '/home/hoyinchan/blue/Data/data2021raw/'\n",
    "    read_and_save(site, 'laball', None, None)    "
   ]
  },
  {
   "cell_type": "code",
   "execution_count": null,
   "id": "903dfa8f-f5c0-444a-a9c7-00bfef5c2a7b",
   "metadata": {
    "tags": []
   },
   "outputs": [],
   "source": [
    "def read_and_save_amed(site):\n",
    "    datafolder = '/home/hoyinchan/blue/Data/data2021raw/'\n",
    "\n",
    "    # amed\n",
    "    amed_cols = [\"PATID\", \"ENCOUNTERID\", \"DAYS_SINCE_ADMIT\", \n",
    "                  \"MEDADMIN_TYPE\", \"MEDADMIN_CODE\"]\n",
    "    amed_dtypes =  {\"PATID\": 'object', \"ENCOUNTERID\": 'object', \"AKI1_SINCE_ADMIT\": 'Int64', \n",
    "                     \"MEDADMIN_TYPE\": \"object\", \"MEDADMIN_CODE\": 'object'}    \n",
    "    read_and_save(site, 'amed', amed_cols, amed_dtypes)    "
   ]
  },
  {
   "cell_type": "code",
   "execution_count": null,
   "id": "42bb6d84-bd52-49e1-a3de-461f6acdfda1",
   "metadata": {},
   "outputs": [],
   "source": [
    "def read_and_save_all(site):\n",
    "    read_and_save_onset(site)\n",
    "    read_and_save_demo(site)\n",
    "    read_and_save_vital(site)\n",
    "    read_and_save_dx(site)\n",
    "    read_and_save_px(site)\n",
    "    read_and_save_lab(site)\n",
    "    read_and_save_amed(site)"
   ]
  },
  {
   "cell_type": "code",
   "execution_count": null,
   "id": "885fb21a-8f0e-4a92-bc71-cc085f32b9b1",
   "metadata": {
    "tags": []
   },
   "outputs": [],
   "source": [
    "# datafolder = '/home/hoyinchan/blue/Data/data2021raw/'\n",
    "# site='MCRI'\n",
    "# ext = 'csv'\n",
    "# sep=','\n",
    "# filename='AKI_ONSETS'\n",
    "# datacols = ['ADMIT_DATE', \"PATID\", \"ENCOUNTERID\", \"AKI1_SINCE_ADMIT\", \"AKI1_ONSET\", \n",
    "#               \"AKI2_SINCE_ADMIT\", \"AKI2_ONSET\", \"AKI3_SINCE_ADMIT\", \"AKI3_ONSET\"]\n",
    "# datadtypes =  {'ADMIT_DATE': 'object', \"PATID\": 'object', \"ENCOUNTERID\": 'object', \n",
    "#                  \"AKI1_SINCE_ADMIT\": 'Int64', \"AKI1_ONSET\": 'object', \n",
    "#                  \"AKI2_SINCE_ADMIT\": 'Int64', \"AKI2_ONSET\": 'object', \n",
    "#                  \"AKI3_SINCE_ADMIT\": 'Int64', \"AKI3_ONSET\": 'object'}\n",
    "# datatt = pd.read_csv(datafolder+site+'/raw/'+filename+'.'+ext,sep=sep, usecols=datacols, dtype=(datadtypes))\n",
    "# datatt"
   ]
  },
  {
   "cell_type": "code",
   "execution_count": null,
   "id": "943dd64d-c6fe-4246-99c8-c4417ea2f98c",
   "metadata": {},
   "outputs": [],
   "source": []
  }
 ],
 "metadata": {
  "kernelspec": {
   "display_name": "AKI_CDM_PY",
   "language": "python",
   "name": "aki_cdm_py"
  },
  "language_info": {
   "codemirror_mode": {
    "name": "ipython",
    "version": 3
   },
   "file_extension": ".py",
   "mimetype": "text/x-python",
   "name": "python",
   "nbconvert_exporter": "python",
   "pygments_lexer": "ipython3",
   "version": "3.6.15"
  }
 },
 "nbformat": 4,
 "nbformat_minor": 5
}
