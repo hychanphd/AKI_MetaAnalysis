{
 "cells": [
  {
   "cell_type": "code",
   "execution_count": null,
   "id": "b500c544-81dd-4e20-8cd3-cce977a05a95",
   "metadata": {},
   "outputs": [],
   "source": [
    "import pandas as pd\n",
    "import xgboost as xgb\n",
    "import numpy as np\n",
    "import sklearn\n",
    "from sklearn.preprocessing import OneHotEncoder\n",
    "from sklearn.impute import SimpleImputer\n",
    "from imblearn.over_sampling import SMOTE\n",
    "from imblearn.pipeline import make_pipeline\n",
    "from imblearn.combine import SMOTEENN\n",
    "from imblearn.over_sampling import SMOTENC\n",
    "import matplotlib.pyplot as plt\n",
    "from PIL import Image\n",
    "from scipy.interpolate import BSpline, make_interp_spline, interp1d\n",
    "import rpy2.robjects as robjects\n",
    "from rpy2.robjects.packages import importr\n",
    "import csv\n",
    "from dfply import *\n",
    "from xgboost import XGBClassifier\n",
    "import itertools\n",
    "import os"
   ]
  },
  {
   "cell_type": "code",
   "execution_count": null,
   "id": "1495c026-bdb2-460f-8e2d-ea97243c9150",
   "metadata": {},
   "outputs": [],
   "source": [
    "#sites = ['MCRI', 'IUR', 'MCRI', 'MCW', 'UIOWA', 'UMHC', 'UNMC', 'UofU', 'UPITT', 'UTHSCSA', 'UTSW']\n",
    "#sites = ['MCRI', 'IUR', 'MCRI', 'MCW', 'UIOWA', 'UNMC', 'UofU', 'UPITT', 'UTSW']\n",
    "sites = ['KUMC']"
   ]
  },
  {
   "cell_type": "code",
   "execution_count": null,
   "id": "c7b1c308-fd4a-4f9d-837d-fa9fac0f5353",
   "metadata": {},
   "outputs": [],
   "source": [
    "# Generate RXnorm\n",
    "for site in sites:\n",
    "    datafolder = '/home/hchan2/AKI/data/'+site\n",
    "    home_directory = \"/home/hchan2/AKI/AKI_Python/\"\n",
    "    print(site)\n",
    "    try:\n",
    "#        amed = pd.read_csv(datafolder+'/raw/'+'AKI_AMED'+'.csv',sep=',', usecols=datacolsX, dtype=(datadtypesX)))\n",
    "        amed = pd.read_pickle('data/'+site+'/p0_amed_'+site+'.pkl')\n",
    "        print(amed.columns)\n",
    "        pd.DataFrame(amed['MEDADMIN_CODE'].unique()).to_csv('/home/hchan2/AKI/AKI_Python/rxnormtmp_'+site+'.csv', sep=',', index=False, header = False)\n",
    "    except FileNotFoundError:\n",
    "        print(site+': fiLE NOT FOUND')"
   ]
  },
  {
   "cell_type": "code",
   "execution_count": null,
   "id": "da43bfb6-174a-4268-bf4a-0860fc1565d9",
   "metadata": {},
   "outputs": [],
   "source": [
    "# generate NDC\n",
    "sites = ['UTHSCSA', 'UMHC']\n",
    "for site in sites:\n",
    "    datafolder = '/home/hchan2/AKI/data/'+site\n",
    "    home_directory = \"/home/hchan2/AKI/AKI_Python/\"\n",
    "    print(site)\n",
    "    try:\n",
    "        amed = pd.read_pickle('data/'+site+'/p0_amed_'+site+'.pkl')\n",
    "        #pd.DataFrame(amed['MEDADMIN_CODE'].unique()).to_csv('/home/hchan2/AKI/AKI_Python/ndctmp_'+site+'.csv', sep=',', index=False, header = False)\n",
    "        np.savetxt('/home/hchan2/AKI/AKI_Python/data/'+site+'/ndctmp_'+site+'.csv', amed['MEDADMIN_CODE'].unique(), fmt=\"%s\")\n",
    "    except FileNotFoundError:\n",
    "        print(site+': fiLE NOT FOUND')        "
   ]
  },
  {
   "cell_type": "code",
   "execution_count": null,
   "id": "cb7d105a-63ad-4947-b5fb-b3f1bb974aa5",
   "metadata": {},
   "outputs": [],
   "source": []
  }
 ],
 "metadata": {
  "kernelspec": {
   "display_name": "Python 3 (ipykernel)",
   "language": "python",
   "name": "python3"
  },
  "language_info": {
   "codemirror_mode": {
    "name": "ipython",
    "version": 3
   },
   "file_extension": ".py",
   "mimetype": "text/x-python",
   "name": "python",
   "nbconvert_exporter": "python",
   "pygments_lexer": "ipython3",
   "version": "3.7.4"
  }
 },
 "nbformat": 4,
 "nbformat_minor": 5
}
