{
 "cells": [
  {
   "cell_type": "code",
   "execution_count": 2,
   "id": "b500c544-81dd-4e20-8cd3-cce977a05a95",
   "metadata": {},
   "outputs": [],
   "source": [
    "import pandas as pd\n",
    "import xgboost as xgb\n",
    "import numpy as np\n",
    "import sklearn\n",
    "from sklearn.preprocessing import OneHotEncoder\n",
    "from sklearn.impute import SimpleImputer\n",
    "from imblearn.over_sampling import SMOTE\n",
    "from imblearn.pipeline import make_pipeline\n",
    "from imblearn.combine import SMOTEENN\n",
    "from imblearn.over_sampling import SMOTENC\n",
    "import matplotlib.pyplot as plt\n",
    "from PIL import Image\n",
    "from scipy.interpolate import BSpline, make_interp_spline, interp1d\n",
    "#import rpy2.robjects as robjects\n",
    "#from rpy2.robjects.packages import importr\n",
    "import csv\n",
    "from dfply import *\n",
    "from xgboost import XGBClassifier\n",
    "import itertools\n",
    "import os"
   ]
  },
  {
   "cell_type": "code",
   "execution_count": 9,
   "id": "1495c026-bdb2-460f-8e2d-ea97243c9150",
   "metadata": {},
   "outputs": [],
   "source": [
    "#sites = ['MCRI', 'IUR', 'MCRI', 'MCW', 'UIOWA', 'UMHC', 'UNMC', 'UofU', 'UPITT', 'UTHSCSA', 'UTSW']\n",
    "sites = ['MCRI', 'MCRI', 'MCW', 'UIOWA', 'UNMC', 'UofU', 'UPITT', 'UTSW']\n",
    "#sites = ['KUMC']"
   ]
  },
  {
   "cell_type": "code",
   "execution_count": 10,
   "id": "c7b1c308-fd4a-4f9d-837d-fa9fac0f5353",
   "metadata": {
    "tags": []
   },
   "outputs": [
    {
     "name": "stdout",
     "output_type": "stream",
     "text": [
      "MCRI\n",
      "Index(['PATID', 'ENCOUNTERID', 'MEDADMIN_TYPE', 'MEDADMIN_CODE',\n",
      "       'DAYS_SINCE_ADMIT'],\n",
      "      dtype='object')\n",
      "MCRI\n",
      "Index(['PATID', 'ENCOUNTERID', 'MEDADMIN_TYPE', 'MEDADMIN_CODE',\n",
      "       'DAYS_SINCE_ADMIT'],\n",
      "      dtype='object')\n",
      "MCW\n",
      "Index(['PATID', 'ENCOUNTERID', 'MEDADMIN_TYPE', 'MEDADMIN_CODE',\n",
      "       'DAYS_SINCE_ADMIT'],\n",
      "      dtype='object')\n",
      "UIOWA\n",
      "Index(['PATID', 'ENCOUNTERID', 'MEDADMIN_TYPE', 'MEDADMIN_CODE',\n",
      "       'DAYS_SINCE_ADMIT'],\n",
      "      dtype='object')\n",
      "UNMC\n",
      "Index(['PATID', 'ENCOUNTERID', 'MEDADMIN_CODE', 'DAYS_SINCE_ADMIT',\n",
      "       'MEDADMIN_TYPE'],\n",
      "      dtype='object')\n",
      "UofU\n",
      "Index(['PATID', 'ENCOUNTERID', 'MEDADMIN_TYPE', 'MEDADMIN_CODE',\n",
      "       'DAYS_SINCE_ADMIT'],\n",
      "      dtype='object')\n",
      "UPITT\n",
      "Index(['PATID', 'ENCOUNTERID', 'MEDADMIN_CODE', 'DAYS_SINCE_ADMIT',\n",
      "       'MEDADMIN_TYPE'],\n",
      "      dtype='object')\n",
      "UTSW\n",
      "Index(['PATID', 'ENCOUNTERID', 'MEDADMIN_CODE', 'DAYS_SINCE_ADMIT',\n",
      "       'MEDADMIN_TYPE'],\n",
      "      dtype='object')\n"
     ]
    }
   ],
   "source": [
    "# Generate RXnorm\n",
    "for site in sites:\n",
    "    datafolder = '/home/hchan2/AKI/data/'+site\n",
    "    home_directory = \"/home/hchan2/AKI/AKI_Python/\"\n",
    "    print(site)\n",
    "    try:\n",
    "#        amed = pd.read_csv(datafolder+'/raw/'+'AKI_AMED'+'.csv',sep=',', usecols=datacolsX, dtype=(datadtypesX)))\n",
    "        amed = pd.read_pickle('/home/hoyinchan/blue/Data/data2021/data2021/'+site+'/p0_amed_'+site+'.pkl')\n",
    "        print(amed.columns)\n",
    "        pd.DataFrame(amed['MEDADMIN_CODE'].unique()).to_csv('/home/hoyinchan/blue/Data/data2021/data2021/'+site+'/rxnormtmp_'+site+'.csv', sep=',', index=False, header = False)\n",
    "    except FileNotFoundError:\n",
    "        print(site+': fiLE NOT FOUND')"
   ]
  },
  {
   "cell_type": "code",
   "execution_count": 7,
   "id": "da43bfb6-174a-4268-bf4a-0860fc1565d9",
   "metadata": {},
   "outputs": [
    {
     "name": "stdout",
     "output_type": "stream",
     "text": [
      "UTHSCSA\n",
      "UMHC\n"
     ]
    }
   ],
   "source": [
    "# generate NDC\n",
    "sites = ['UTHSCSA', 'UMHC']\n",
    "for site in sites:\n",
    "    datafolder = '/home/hchan2/AKI/data/'+site\n",
    "    home_directory = \"/home/hchan2/AKI/AKI_Python/\"\n",
    "    print(site)\n",
    "    try:\n",
    "        amed = pd.read_pickle('/home/hoyinchan/blue/Data/data2021/data2021/'+site+'/p0_amed_'+site+'.pkl')\n",
    "        #pd.DataFrame(amed['MEDADMIN_CODE'].unique()).to_csv('/home/hchan2/AKI/AKI_Python/ndctmp_'+site+'.csv', sep=',', index=False, header = False)\n",
    "        np.savetxt('/home/hoyinchan/blue/Data/data2021/data2021/'+site+'/ndctmp_'+site+'.csv', amed['MEDADMIN_CODE'].unique(), fmt=\"%s\")\n",
    "    except FileNotFoundError:\n",
    "        print(site+': fiLE NOT FOUND')        "
   ]
  },
  {
   "cell_type": "code",
   "execution_count": null,
   "id": "cb7d105a-63ad-4947-b5fb-b3f1bb974aa5",
   "metadata": {},
   "outputs": [],
   "source": []
  }
 ],
 "metadata": {
  "kernelspec": {
   "display_name": "AKI_CDM_PY",
   "language": "python",
   "name": "aki_cdm_py"
  },
  "language_info": {
   "codemirror_mode": {
    "name": "ipython",
    "version": 3
   },
   "file_extension": ".py",
   "mimetype": "text/x-python",
   "name": "python",
   "nbconvert_exporter": "python",
   "pygments_lexer": "ipython3",
   "version": "3.6.15"
  }
 },
 "nbformat": 4,
 "nbformat_minor": 5
}
