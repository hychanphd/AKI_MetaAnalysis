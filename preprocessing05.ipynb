{
 "cells": [
  {
   "cell_type": "code",
   "execution_count": null,
   "id": "2f0998e6-7ba4-49e7-bb80-75eab51c439a",
   "metadata": {},
   "outputs": [],
   "source": [
    "# remove outliner using IQR\n",
    "import pandas as pd\n",
    "import xgboost as xgb\n",
    "import numpy as np\n",
    "import sklearn\n",
    "from sklearn.preprocessing import OneHotEncoder\n",
    "from sklearn.impute import SimpleImputer\n",
    "from imblearn.over_sampling import SMOTE\n",
    "from imblearn.pipeline import make_pipeline\n",
    "from imblearn.combine import SMOTEENN\n",
    "from imblearn.over_sampling import SMOTENC\n",
    "import matplotlib.pyplot as plt\n",
    "from PIL import Image\n",
    "from scipy.interpolate import BSpline, make_interp_spline, interp1d\n",
    "#import rpy2.robjects as robjects\n",
    "#from rpy2.robjects.packages import importr\n",
    "import csv\n",
    "from dfply import *\n",
    "from xgboost import XGBClassifier\n",
    "import itertools\n",
    "import os\n",
    "import logging\n",
    "from sys import getsizeof\n",
    "import utils_function"
   ]
  },
  {
   "cell_type": "code",
   "execution_count": null,
   "id": "0f546e0b-5a1e-4297-ab53-8e2bf2e28b0a",
   "metadata": {},
   "outputs": [],
   "source": [
    "def lab_drop_outliner(configs_variables):\n",
    "    dataname = 'lab_g'\n",
    "    site, datafolder, home_directory = utils_function.get_commons(configs_variables)      \n",
    "    if not configs_variables['rerun_flag'] and os.path.exists(datafolder+site+'/p0_'+dataname+'_'+site+'_nooutliner.parquet'):\n",
    "        print('Existed: p0_'+dataname+'_'+site+'_nooutliner.parquet')\n",
    "        return\n",
    "    \n",
    "    print('Running p05 '+dataname+' on site '+site, flush = True)                    \n",
    "    \n",
    "    datatt = pd.read_parquet(datafolder+site+'/p0_'+dataname+'_'+site+'.parquet')\n",
    "    datatt['PATID'] = datatt['PATID'].astype(str)\n",
    "    datatt['ENCOUNTERID'] = datatt['ENCOUNTERID'].astype(str)    \n",
    "    \n",
    "    stats = datatt[datatt['RESULT_NUM'].notnull()][['LAB_LOINC','RESULT_NUM','RESULT_UNIT']].groupby(['LAB_LOINC','RESULT_UNIT']).agg([np.size, np.mean, np.std, np.median, np.var, np.min, np.max, lambda x: np.percentile(x, q=25), lambda x: np.percentile(x, q=75)]).reset_index()\n",
    "    stats.columns = ['LAB_LOINC','RESULT_UNIT','size','mean','std','median','var','amin','amax','Q1','Q3']\n",
    "    stats = stats.assign(IQR=lambda x: x.Q3-x.Q1).assign(IQRlwr=lambda x: x['Q1']-1.5*x['IQR']).assign(IQRupr=lambda x: x['Q3']+1.5*x['IQR']).assign(sigmalwr=lambda x: x['mean']-2.7*x['std']).assign(sigmaupr=lambda x: x['mean']+2.7*x['std'])\n",
    "    datatt = pd.merge(datatt, stats[['LAB_LOINC','RESULT_UNIT', 'IQRlwr', 'IQRupr']], left_on=['LAB_LOINC', 'RESULT_UNIT'], right_on=['LAB_LOINC', 'RESULT_UNIT'], how='left')\n",
    "    datatt = datatt[datatt['RESULT_NUM'].isnull() | ((datatt['RESULT_NUM'] >= datatt['IQRlwr']) & (datatt['RESULT_NUM'] <= datatt['IQRupr']))].drop(['IQRlwr', 'IQRupr'],axis=1)\n",
    "    datatt.to_parquet(datafolder+site+'/p0_'+dataname+'_'+site+'_nooutliner.parquet')\n",
    "    \n",
    "    print('Finished p05 '+dataname+'_nooutliner on site '+site, flush = True)                    "
   ]
  },
  {
   "cell_type": "code",
   "execution_count": null,
   "id": "b109f6c8-7b50-4b89-a89a-6748803bde6d",
   "metadata": {
    "tags": []
   },
   "outputs": [],
   "source": [
    "def vital_drop_outliner(configs_variables):\n",
    "    dataname = 'vital_old'    \n",
    "    site, datafolder, home_directory = utils_function.get_commons(configs_variables)      \n",
    "    if not configs_variables['rerun_flag'] and os.path.exists(datafolder+site+'/p0_'+dataname+'_'+site+'_nooutliner.parquet'):\n",
    "        print('Existed: p0_'+dataname+'_'+site+'_nooutliner.parquet')\n",
    "        return\n",
    "    \n",
    "    print('Running p05 '+dataname+' on site '+site, flush = True)                    \n",
    "\n",
    "    datatt = pd.read_parquet(datafolder+site+'/p0_'+dataname+'_'+site+'.parquet')\n",
    "    datatt['PATID'] = datatt['PATID'].astype(str)\n",
    "    datatt['ENCOUNTERID'] = datatt['ENCOUNTERID'].astype(str)    \n",
    "    \n",
    "    datatt2 = pd.melt(datatt, id_vars=[], value_vars=['WT','SYSTOLIC','DIASTOLIC','ORIGINAL_BMI'])\n",
    "\n",
    "    stats = datatt2[datatt2['value'].notnull()].groupby('variable').agg([np.size, np.mean, np.std, np.median, np.var, np.min, np.max, lambda x: np.percentile(x, q=25), lambda x: np.percentile(x, q=75)])\n",
    "    stats.columns = ['size','mean','std','median','var','amin','amax','Q1','Q3']\n",
    "    stats = stats.assign(IQR=lambda x: x.Q3-x.Q1).assign(IQRlwr=lambda x: x['Q1']-1.5*x['IQR']).assign(IQRupr=lambda x: x['Q3']+1.5*x['IQR']).assign(sigmalwr=lambda x: x['mean']-2.7*x['std']).assign(sigmaupr=lambda x: x['mean']+2.7*x['std'])\n",
    "\n",
    "    datatt['WT'] = datatt['WT'].where(datatt['WT'] >= stats.at['WT','IQRlwr']).where(datatt['WT'] <= stats.at['WT','IQRupr'])\n",
    "    datatt['ORIGINAL_BMI'] = datatt['ORIGINAL_BMI'].where(datatt['ORIGINAL_BMI'] >= stats.at['ORIGINAL_BMI','IQRlwr']).where(datatt['ORIGINAL_BMI'] <= stats.at['ORIGINAL_BMI','IQRupr'])\n",
    "    datatt['DIASTOLIC'] = datatt['DIASTOLIC'].where(datatt['DIASTOLIC'] >= stats.at['DIASTOLIC','IQRlwr']).where(datatt['DIASTOLIC'] <= stats.at['DIASTOLIC','IQRupr'])\n",
    "    datatt['SYSTOLIC'] = datatt['SYSTOLIC'].where(datatt['SYSTOLIC'] >= stats.at['SYSTOLIC','IQRlwr']).where(datatt['SYSTOLIC'] <= stats.at['SYSTOLIC','IQRupr'])\n",
    "\n",
    "    datatt = datatt.dropna(subset=['WT','SYSTOLIC','DIASTOLIC','ORIGINAL_BMI'], how='all')\n",
    "\n",
    "    datatt.to_parquet(datafolder+site+'/p0_'+dataname+'_'+site+'_nooutliner.parquet')\n",
    "    \n",
    "    print('Finished p05 '+dataname+'_nooutliner on site '+site, flush = True)                        "
   ]
  },
  {
   "cell_type": "code",
   "execution_count": null,
   "id": "a077bfda-3a00-46de-bbc1-be8fd76e9c6e",
   "metadata": {},
   "outputs": [],
   "source": []
  }
 ],
 "metadata": {
  "kernelspec": {
   "display_name": "AKI_CDM_PY",
   "language": "python",
   "name": "aki_cdm_py"
  },
  "language_info": {
   "codemirror_mode": {
    "name": "ipython",
    "version": 3
   },
   "file_extension": ".py",
   "mimetype": "text/x-python",
   "name": "python",
   "nbconvert_exporter": "python",
   "pygments_lexer": "ipython3",
   "version": "3.6.15"
  }
 },
 "nbformat": 4,
 "nbformat_minor": 5
}
