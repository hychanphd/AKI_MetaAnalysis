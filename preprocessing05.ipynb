{
 "cells": [
  {
   "cell_type": "raw",
   "id": "3e82e1bc-5f8e-4feb-99b3-8fe382b1f149",
   "metadata": {},
   "source": [
    "# remove outliner using IQR\n",
    "import pandas as pd\n",
    "import xgboost as xgb\n",
    "import numpy as np\n",
    "import sklearn\n",
    "from sklearn.preprocessing import OneHotEncoder\n",
    "from sklearn.impute import SimpleImputer\n",
    "from imblearn.over_sampling import SMOTE\n",
    "from imblearn.pipeline import make_pipeline\n",
    "from imblearn.combine import SMOTEENN\n",
    "from imblearn.over_sampling import SMOTENC\n",
    "import matplotlib.pyplot as plt\n",
    "from PIL import Image\n",
    "from scipy.interpolate import BSpline, make_interp_spline, interp1d\n",
    "#import rpy2.robjects as robjects\n",
    "#from rpy2.robjects.packages import importr\n",
    "import csv\n",
    "from dfply import *\n",
    "from xgboost import XGBClassifier\n",
    "import itertools\n",
    "import os\n",
    "import logging\n",
    "from sys import getsizeof"
   ]
  },
  {
   "cell_type": "code",
   "execution_count": null,
   "id": "138a6516-84d8-4951-b5c3-dcfe24ad6693",
   "metadata": {},
   "outputs": [],
   "source": [
    "def lab_drop_outliner(site):\n",
    "    dataname = 'lab'\n",
    "    print('Running p05 '+dataname+' on site '+site, flush = True)                    \n",
    "    \n",
    "    datatt = pd.read_pickle('data/'+site+'/p0_'+dataname+'_'+site+'.pkl')\n",
    "    stats = datatt[datatt['RESULT_NUM'].notnull()][['LAB_LOINC','RESULT_NUM','RESULT_UNIT']].groupby(['LAB_LOINC','RESULT_UNIT']).agg([np.size, np.mean, np.std, np.median, np.var, np.min, np.max, lambda x: np.percentile(x, q=25), lambda x: np.percentile(x, q=75)]).reset_index()\n",
    "    stats.columns = ['LAB_LOINC','RESULT_UNIT','size','mean','std','median','var','amin','amax','Q1','Q3']\n",
    "    stats = stats.assign(IQR=lambda x: x.Q3-x.Q1).assign(IQRlwr=lambda x: x['Q1']-1.5*x['IQR']).assign(IQRupr=lambda x: x['Q3']+1.5*x['IQR']).assign(sigmalwr=lambda x: x['mean']-2.7*x['std']).assign(sigmaupr=lambda x: x['mean']+2.7*x['std'])\n",
    "    datatt = pd.merge(datatt, stats[['LAB_LOINC','RESULT_UNIT', 'IQRlwr', 'IQRupr']], left_on=['LAB_LOINC', 'RESULT_UNIT'], right_on=['LAB_LOINC', 'RESULT_UNIT'], how='left')\n",
    "    datatt = datatt[datatt['RESULT_NUM'].isnull() | ((datatt['RESULT_NUM'] >= datatt['IQRlwr']) & (datatt['RESULT_NUM'] <= datatt['IQRupr']))].drop(['IQRlwr', 'IQRupr'],axis=1)\n",
    "    datatt.to_pickle('data/'+site+'/p0_'+dataname+'_'+site+'_drop.pkl')\n",
    "    \n",
    "    print('Finished p05 '+dataname+' on site '+site, flush = True)                    "
   ]
  },
  {
   "cell_type": "code",
   "execution_count": null,
   "id": "b109f6c8-7b50-4b89-a89a-6748803bde6d",
   "metadata": {
    "tags": []
   },
   "outputs": [],
   "source": [
    "def vital_drop_outliner(site):\n",
    "    dataname = 'vital'\n",
    "    print('Running p05 '+dataname+' on site '+site, flush = True)                    \n",
    "\n",
    "    datatt = pd.read_pickle('data/'+site+'/p0_'+dataname+'_'+site+'.pkl')\n",
    "\n",
    "    #stats = datatt['WT'][datatt['WT'].notnull()].agg([np.size, np.mean, np.std, np.median, np.var, np.min, np.max, lambda x: np.percentile(x, q=25), lambda x: np.percentile(x, q=75)]\n",
    "\n",
    "    datatt2 = pd.melt(datatt, id_vars=[], value_vars=['WT','SYSTOLIC','DIASTOLIC','ORIGINAL_BMI'])\n",
    "\n",
    "    stats = datatt2[datatt2['value'].notnull()].groupby('variable').agg([np.size, np.mean, np.std, np.median, np.var, np.min, np.max, lambda x: np.percentile(x, q=25), lambda x: np.percentile(x, q=75)])\n",
    "    stats.columns = ['size','mean','std','median','var','amin','amax','Q1','Q3']\n",
    "    stats = stats.assign(IQR=lambda x: x.Q3-x.Q1).assign(IQRlwr=lambda x: x['Q1']-1.5*x['IQR']).assign(IQRupr=lambda x: x['Q3']+1.5*x['IQR']).assign(sigmalwr=lambda x: x['mean']-2.7*x['std']).assign(sigmaupr=lambda x: x['mean']+2.7*x['std'])\n",
    "\n",
    "    datatt['WT'] = datatt['WT'].where(datatt['WT'] >= stats.at['WT','IQRlwr']).where(datatt['WT'] <= stats.at['WT','IQRupr'])\n",
    "    datatt['ORIGINAL_BMI'] = datatt['ORIGINAL_BMI'].where(datatt['ORIGINAL_BMI'] >= stats.at['ORIGINAL_BMI','IQRlwr']).where(datatt['ORIGINAL_BMI'] <= stats.at['ORIGINAL_BMI','IQRupr'])\n",
    "    datatt['DIASTOLIC'] = datatt['DIASTOLIC'].where(datatt['DIASTOLIC'] >= stats.at['DIASTOLIC','IQRlwr']).where(datatt['DIASTOLIC'] <= stats.at['DIASTOLIC','IQRupr'])\n",
    "    datatt['SYSTOLIC'] = datatt['SYSTOLIC'].where(datatt['SYSTOLIC'] >= stats.at['SYSTOLIC','IQRlwr']).where(datatt['SYSTOLIC'] <= stats.at['SYSTOLIC','IQRupr'])\n",
    "\n",
    "    datatt = datatt.dropna(subset=['WT','SYSTOLIC','DIASTOLIC','ORIGINAL_BMI'])\n",
    "\n",
    "    datatt.to_pickle('data/'+site+'/p0_'+dataname+'_'+site+'_drop.pkl')\n",
    "    \n",
    "    print('Finished p05 '+dataname+' on site '+site, flush = True)                        "
   ]
  },
  {
   "cell_type": "code",
   "execution_count": null,
   "id": "133d19ce-7627-4bfc-86a4-78cd69375c24",
   "metadata": {},
   "outputs": [],
   "source": [
    "if __name__ == \"__main__\":\n",
    "    site='MCRI'\n",
    "    dataname = 'vital'\n",
    "    print('Running p05 '+dataname+' on site '+site, flush = True)                    \n",
    "\n",
    "    datatt = pd.read_pickle('data/'+site+'/p0_'+dataname+'_'+site+'.pkl')\n",
    "\n",
    "    #stats = datatt['WT'][datatt['WT'].notnull()].agg([np.size, np.mean, np.std, np.median, np.var, np.min, np.max, lambda x: np.percentile(x, q=25), lambda x: np.percentile(x, q=75)]\n",
    "\n",
    "    datatt2 = pd.melt(datatt, id_vars=[], value_vars=['WT','SYSTOLIC','DIASTOLIC','ORIGINAL_BMI'])\n",
    "\n",
    "    stats = datatt2[datatt2['value'].notnull()].groupby('variable').agg([np.size, np.mean, np.std, np.median, np.var, np.min, np.max, lambda x: np.percentile(x, q=25), lambda x: np.percentile(x, q=75)])\n",
    "    stats.columns = ['size','mean','std','median','var','amin','amax','Q1','Q3']\n",
    "    stats = stats.assign(IQR=lambda x: x.Q3-x.Q1).assign(IQRlwr=lambda x: x['Q1']-1.5*x['IQR']).assign(IQRupr=lambda x: x['Q3']+1.5*x['IQR']).assign(sigmalwr=lambda x: x['mean']-2.7*x['std']).assign(sigmaupr=lambda x: x['mean']+2.7*x['std'])\n",
    "\n",
    "    datatt['WT'] = datatt['WT'].where(datatt['WT'] >= stats.at['WT','IQRlwr']).where(datatt['WT'] <= stats.at['WT','IQRupr'])\n",
    "    datatt['ORIGINAL_BMI'] = datatt['ORIGINAL_BMI'].where(datatt['ORIGINAL_BMI'] >= stats.at['ORIGINAL_BMI','IQRlwr']).where(datatt['ORIGINAL_BMI'] <= stats.at['ORIGINAL_BMI','IQRupr'])\n",
    "    datatt['DIASTOLIC'] = datatt['DIASTOLIC'].where(datatt['DIASTOLIC'] >= stats.at['DIASTOLIC','IQRlwr']).where(datatt['DIASTOLIC'] <= stats.at['DIASTOLIC','IQRupr'])\n",
    "    datatt['SYSTOLIC'] = datatt['SYSTOLIC'].where(datatt['SYSTOLIC'] >= stats.at['SYSTOLIC','IQRlwr']).where(datatt['SYSTOLIC'] <= stats.at['SYSTOLIC','IQRupr'])\n",
    "\n",
    "    datatt = datatt.dropna(subset=['WT','SYSTOLIC','DIASTOLIC','ORIGINAL_BMI'])\n",
    "\n",
    "    datatt.to_pickle('data/'+site+'/p0_'+dataname+'_'+site+'_drop.pkl')\n",
    "    \n",
    "    print('Finished p05 '+dataname+' on site '+site, flush = True) \n",
    "    \n",
    "    "
   ]
  },
  {
   "cell_type": "code",
   "execution_count": null,
   "id": "f16e3f8c-dd88-4c4f-9ebe-b853b650357f",
   "metadata": {},
   "outputs": [],
   "source": [
    "#stats"
   ]
  },
  {
   "cell_type": "code",
   "execution_count": null,
   "id": "ceaece1b-0174-4025-a9c0-ccbacb3e6e96",
   "metadata": {},
   "outputs": [],
   "source": [
    "#datatt2[datatt2['variable']=='SYSTOLIC'][datatt2['value']>180].value_counts()"
   ]
  },
  {
   "cell_type": "code",
   "execution_count": null,
   "id": "a077bfda-3a00-46de-bbc1-be8fd76e9c6e",
   "metadata": {},
   "outputs": [],
   "source": []
  }
 ],
 "metadata": {
  "kernelspec": {
   "display_name": "Python 3 (ipykernel)",
   "language": "python",
   "name": "python3"
  },
  "language_info": {
   "codemirror_mode": {
    "name": "ipython",
    "version": 3
   },
   "file_extension": ".py",
   "mimetype": "text/x-python",
   "name": "python",
   "nbconvert_exporter": "python",
   "pygments_lexer": "ipython3",
   "version": "3.11.4"
  }
 },
 "nbformat": 4,
 "nbformat_minor": 5
}
