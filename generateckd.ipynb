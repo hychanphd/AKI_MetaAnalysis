{
 "cells": [
  {
   "cell_type": "code",
   "execution_count": null,
   "id": "c15420f6-b9fc-40e5-ac38-31db321fb1d7",
   "metadata": {},
   "outputs": [],
   "source": []
  },
  {
   "cell_type": "code",
   "execution_count": null,
   "id": "e9547dd9-8d06-437f-8c51-2b75d35e66df",
   "metadata": {},
   "outputs": [],
   "source": [
    "def generate_ckd_table(site):\n",
    "#site='MCRI'\n",
    "#if True:\n",
    "\n",
    "    print('Running ckd_generate on site '+site, flush = True)            \n",
    "\n",
    "    ext = {'MCW':'dsv', 'UofU':'txt', 'UTSW':'dsv'}\n",
    "    sep = {'MCW':'|',   'UofU':'|',   'UTSW':'|'}    \n",
    "\n",
    "    print('Running staging on site '+site, flush = True)            \n",
    "\n",
    "    if site in ext.keys():       \n",
    "        labcsv=pd.read_csv(home_dir+site+'/raw/AKI_LAB.'+ext[site],sep=sep[site])\n",
    "        labcsv.columns = [y.upper() for y in labcsv.columns]        \n",
    "        onsetcsv=pd.read_csv(home_dir+site+'/raw/AKI_ONSETS.'+ext[site],sep=sep[site])        \n",
    "        onsetcsv.columns = [y.upper() for y in onsetcsv.columns]                \n",
    "    elif site =='UPITT':\n",
    "        labcsv=pd.read_csv(home_dir+site+'/raw/AKI_LAB.csv', encoding='windows-1252')    \n",
    "        labcsv.columns = [y.upper() for y in labcsv.columns]            \n",
    "        onsetcsv=pd.read_csv(home_dir+site+'/raw/AKI_ONSETS.csv')    \n",
    "        onsetcsv.columns = [y.upper() for y in onsetcsv.columns]        \n",
    "    else:\n",
    "        labcsv=pd.read_csv(home_dir+site+'/raw/AKI_LAB.csv')    \n",
    "        labcsv.columns = [y.upper() for y in labcsv.columns]        \n",
    "        onsetcsv=pd.read_csv(home_dir+site+'/raw/AKI_ONSETS.csv')    \n",
    "        onsetcsv.columns = [y.upper() for y in onsetcsv.columns]        \n",
    "\n",
    "    if site == 'UPITT':        \n",
    "        labcsv['SPECIMEN_DATE_TIME'] = pd.to_datetime(labcsv['SPECIMEN_DATE_TIME'], format='%Y:%m:%d %H:%M')\n",
    "    else:\n",
    "        labcsv['SPECIMEN_DATE_TIME'] = pd.to_datetime(labcsv['SPECIMEN_DATE_TIME'])            \n",
    "\n",
    "    if site == 'UPITT':        \n",
    "        labcsv['LAB_ORDER_DATE'] = pd.to_datetime(labcsv['LAB_ORDER_DATE'], format='%m/%d/%Y')\n",
    "    else:\n",
    "        labcsv['LAB_ORDER_DATE'] = pd.to_datetime(labcsv['LAB_ORDER_DATE'])                \n",
    "\n",
    "    onset = pd.read_pickle('data/'+site+'/p0_onset_'+site+'.pkl')        \n",
    "    lab = pd.read_pickle('data/'+site+'/p0_lab_'+site+'.pkl')\n",
    "    px = pd.read_pickle('data/'+site+'/p0_px_'+site+'.pkl')\n",
    "\n",
    "\n",
    "    scr = labcsv[labcsv['LAB_LOINC'].isin(['2160-0','38483-4','14682-9','21232-4','35203-9','44784-7','59826-8'])]\n",
    "    #    scr = lab[lab['LAB_LOINC'].isin(['2160-0','38483-4','14682-9','21232-4','35203-9','44784-7','59826-8'])]\n",
    "    scr = scr[scr['RESULT_UNIT'].str.upper().isin(['MG/DL','MG'])]\n",
    "    scr = scr[scr['RESULT_NUM']>0]\n",
    "    scr = scr[scr['SPECIMEN_SOURCE']!='URINE']\n",
    "\n",
    "\n",
    "    demo = pd.read_pickle('data/'+site+'/p0_demo_'+site+'.pkl')\n",
    "\n",
    "    efgr = scr.copy()\n",
    "    efgr = efgr[['PATID','ENCOUNTERID','LAB_ORDER_DATE','SPECIMEN_DATE_TIME','RESULT_DATE_TIME','RESULT_NUM']].groupby(['PATID', 'ENCOUNTERID','LAB_ORDER_DATE','SPECIMEN_DATE_TIME','RESULT_DATE_TIME']).mean().reset_index()\n",
    "    efgr = efgr.loc[efgr.groupby(['PATID','ENCOUNTERID'])['LAB_ORDER_DATE'].idxmin()]\n",
    "    efgr = efgr.astype({'PATID':'string', 'ENCOUNTERID':'string'})\n",
    "    efgr = efgr.astype({'PATID':'object', 'ENCOUNTERID':'object'})\n",
    "\n",
    "    efgr2 = efgr.merge(demo, left_on=['PATID', 'ENCOUNTERID'], right_on=['PATID', 'ENCOUNTERID'], how='left')\n",
    "    efgr2['SEX_CODE'] = np.where(efgr2['SEX']=='F', 1, 0)\n",
    "    efgr2['AFRICAN_CODE'] = np.where(efgr2['RACE']=='03', 1, 0)\n",
    "    efgr2['EGFR'] = 175*np.power(efgr2['RESULT_NUM'],-1.154)*np.power(efgr2['AGE'],-0.203)*(0.742*efgr2['SEX_CODE']+(1-efgr2['SEX_CODE']))*(1.212*efgr2['AFRICAN_CODE']+(1-efgr2['AFRICAN_CODE']))\n",
    "    efgr2['CKD_group'] = np.where(efgr2['EGFR']>90, 1,\n",
    "                         np.where(efgr2['EGFR']>60, 2,\n",
    "                         np.where(efgr2['EGFR']>30, 3, 4)))\n",
    "    efgr2 = efgr2[['PATID', 'ENCOUNTERID', 'EGFR', 'CKD_group']]\n",
    "\n",
    "    efgr2.to_pickle('data/'+site+'/p0_'+'ckdgroup'+'_'+site+'.pkl')"
   ]
  },
  {
   "cell_type": "code",
   "execution_count": null,
   "id": "21d777d2-2512-48ec-8bc2-250fcc7293bf",
   "metadata": {},
   "outputs": [],
   "source": [
    "site = 'UTHSCSA'\n",
    "onset = pd.read_pickle('data/'+site+'/p0_onset_'+site+'.pkl')        \n",
    "onsetcsv = pd.read_csv(home_dir+site+'/raw/AKI_ONSETS.csv')"
   ]
  },
  {
   "cell_type": "code",
   "execution_count": null,
   "id": "39c83322-c0b6-4212-a660-70f304d991d9",
   "metadata": {},
   "outputs": [],
   "source": [
    "onset0 = onsetcsv[onsetcsv['NONAKI_ANCHOR'].notnull()]\n",
    "onset1 = onsetcsv[np.logical_and(onsetcsv['AKI1_ONSET'].notnull(), np.logical_and(onsetcsv['AKI2_ONSET'].isnull(), onsetcsv['AKI3_ONSET'].isnull()))]\n",
    "onset2 = onsetcsv[np.logical_and(onsetcsv['AKI2_ONSET'].notnull(), onsetcsv['AKI3_ONSET'].isnull())]\n",
    "onset3 = onsetcsv[onsetcsv['AKI3_ONSET'].notnull()]"
   ]
  },
  {
   "cell_type": "code",
   "execution_count": null,
   "id": "b8634d94-6611-4c78-9249-ac87ce8fca3d",
   "metadata": {},
   "outputs": [],
   "source": [
    "onsetcsv.dtypes"
   ]
  },
  {
   "cell_type": "code",
   "execution_count": null,
   "id": "c84fc438-aec2-42e9-adb8-02c62de0e43b",
   "metadata": {},
   "outputs": [],
   "source": [
    "onsetX = onset1[['SERUM_CREAT_BASE', 'AKI1_SCR', 'AKI1_INC']].copy()"
   ]
  },
  {
   "cell_type": "code",
   "execution_count": null,
   "id": "ba8292cb-1ab3-4457-ab9d-557f3f926056",
   "metadata": {},
   "outputs": [],
   "source": [
    "onsetX['SCR_DIFF'] = (onsetX['AKI1_SCR']-onsetX['SERUM_CREAT_BASE']).copy()\n",
    "onsetX['SCR_R'] = (onsetX['AKI1_SCR']/onsetX['SERUM_CREAT_BASE']).copy()"
   ]
  },
  {
   "cell_type": "code",
   "execution_count": null,
   "id": "9ec6c7e0-5cdb-4cde-819e-1aa0b187ee4b",
   "metadata": {},
   "outputs": [],
   "source": [
    "onsetX"
   ]
  }
 ],
 "metadata": {
  "kernelspec": {
   "display_name": "Python 3",
   "language": "python",
   "name": "python3"
  },
  "language_info": {
   "codemirror_mode": {
    "name": "ipython",
    "version": 3
   },
   "file_extension": ".py",
   "mimetype": "text/x-python",
   "name": "python",
   "nbconvert_exporter": "python",
   "pygments_lexer": "ipython3",
   "version": "3.6.13"
  }
 },
 "nbformat": 4,
 "nbformat_minor": 5
}
