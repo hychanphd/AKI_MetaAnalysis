{
 "cells": [
  {
   "cell_type": "code",
   "execution_count": null,
   "id": "27b43049-e09b-41c7-b95e-1ac48cbf4aa1",
   "metadata": {
    "tags": []
   },
   "outputs": [],
   "source": [
    "import utils_function\n",
    "import pandas as pd\n",
    "import os"
   ]
  },
  {
   "cell_type": "code",
   "execution_count": null,
   "id": "89e6225c-7d43-42f9-b083-273cc4450117",
   "metadata": {
    "tags": []
   },
   "outputs": [],
   "source": [
    "site_list = ['KUMC', 'UTSW', 'MCW', 'UofU', 'UIOWA', 'UMHC', 'UPITT', 'UTHSCSA', 'UNMC']\n",
    "dataset_names = [\n",
    "    'amed',\n",
    "    # 'demo',\n",
    "    # 'demo_death',\n",
    "    'dmed',\n",
    "    # 'dx',\n",
    "    # 'dx_current',\n",
    "    # 'lab_scr',\n",
    "    'pmed',\n",
    "    # 'px',\n",
    "    # 'vital_old',\n",
    "    # 'vital',\n",
    "    # 'lab'\n",
    "]"
   ]
  },
  {
   "cell_type": "code",
   "execution_count": null,
   "id": "a320cecf-f899-4022-9d3e-35dd967a88a4",
   "metadata": {
    "tags": []
   },
   "outputs": [],
   "source": [
    "def parquest_convert(site, dataname):\n",
    "\n",
    "    configs_variables = utils_function.read_config(site)\n",
    "    datafolder = configs_variables['datafolder']\n",
    "    home_directory = configs_variables['home_directory'] \n",
    "\n",
    "#    if os.path.exists(datafolder+site+f\"/p0_{dataname}_\"+site+\".parquet\"):\n",
    "#        print(\"Exists: \"+datafolder+site+f\"/p0_{dataname}_\"+site+\".parquet\")\n",
    "#        return\n",
    "    \n",
    "    labtest = pd.read_pickle(datafolder+site+f\"/p0_{dataname}_\"+site+\".pkl\")\n",
    "    labtest.to_parquet(datafolder+site+f\"/p0_{dataname}_\"+site+\".parquet\")\n",
    "    return f\"{site}:{dataname}\""
   ]
  },
  {
   "cell_type": "code",
   "execution_count": null,
   "id": "3fa0dde8-3395-4927-8ded-d3c8a4e04bae",
   "metadata": {
    "tags": []
   },
   "outputs": [],
   "source": [
    "import concurrent.futures"
   ]
  },
  {
   "cell_type": "code",
   "execution_count": null,
   "id": "853b017f-3898-45f4-b1c3-19e383299851",
   "metadata": {
    "tags": []
   },
   "outputs": [],
   "source": [
    "# Use ProcessPoolExecutor to execute parallel processing\n",
    "with concurrent.futures.ProcessPoolExecutor(max_workers=10) as executor:\n",
    "    # Create a list of futures\n",
    "    futures = []\n",
    "    for site in site_list:\n",
    "        for dataname in dataset_names:\n",
    "            # Schedule the function to be called\n",
    "            future = executor.submit(parquest_convert, site, dataname)\n",
    "            futures.append(future)\n",
    "\n",
    "    # Optionally, wait for completion and handle results\n",
    "    for future in concurrent.futures.as_completed(futures):\n",
    "        try:\n",
    "            # Result handling if necessary\n",
    "            result = future.result()  # This will raise exceptions if the function threw any\n",
    "            print(f\"Task completed with result: {result}\")\n",
    "        except Exception as e:\n",
    "            print(f\"An error occurred: {str(e)}\")"
   ]
  },
  {
   "cell_type": "code",
   "execution_count": null,
   "id": "a0a9e34c-4b09-4fc3-aa68-12caa5eba0a1",
   "metadata": {
    "tags": []
   },
   "outputs": [],
   "source": [
    "site_list"
   ]
  },
  {
   "cell_type": "code",
   "execution_count": null,
   "id": "2cc5c666-ecc7-434e-88ea-71c73e0ee042",
   "metadata": {
    "tags": []
   },
   "outputs": [],
   "source": [
    "for site in site_list:\n",
    "    parquest_convert(site, 'amed')"
   ]
  },
  {
   "cell_type": "code",
   "execution_count": null,
   "id": "576841b2-daaa-4f09-b3cc-43a23fa372b8",
   "metadata": {},
   "outputs": [],
   "source": [
    "from IPython.display import Audio\n",
    "sound_file = 'beep-11.wav'\n",
    "Audio(sound_file, autoplay=True)"
   ]
  },
  {
   "cell_type": "code",
   "execution_count": null,
   "id": "e086dd35-9f33-4aa1-9ef4-f8d4df3d744f",
   "metadata": {},
   "outputs": [],
   "source": []
  }
 ],
 "metadata": {
  "kernelspec": {
   "display_name": "AKI_PM_TEMPORAL_MOEA",
   "language": "python",
   "name": "aki_pm_temporal_moea"
  },
  "language_info": {
   "codemirror_mode": {
    "name": "ipython",
    "version": 3
   },
   "file_extension": ".py",
   "mimetype": "text/x-python",
   "name": "python",
   "nbconvert_exporter": "python",
   "pygments_lexer": "ipython3",
   "version": "3.11.5"
  }
 },
 "nbformat": 4,
 "nbformat_minor": 5
}
