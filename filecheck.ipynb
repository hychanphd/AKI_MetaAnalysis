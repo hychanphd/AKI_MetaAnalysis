{
 "cells": [
  {
   "cell_type": "code",
   "execution_count": null,
   "id": "048c981d-257f-43b9-a9cd-77d061a8c06d",
   "metadata": {
    "tags": []
   },
   "outputs": [],
   "source": [
    "import os\n",
    "import pandas as pd\n",
    "\n",
    "import utils_function"
   ]
  },
  {
   "cell_type": "code",
   "execution_count": null,
   "id": "1076e53c-ae77-4969-87a1-b59ca434ca24",
   "metadata": {
    "tags": []
   },
   "outputs": [],
   "source": [
    "# Define the list of sites\n",
    "site_list = ['KUMC', 'UTSW', 'MCW', 'UofU', 'UIOWA', 'UMHC', 'UPITT', 'UTHSCSA', 'UNMC']\n",
    "\n",
    "# Define the list of datasets and their date columns\n",
    "datasets = [\n",
    "    ('amed', 'MEDADMIN_START_DATE'),\n",
    "    ('demo', 'DEATH_DATE'),\n",
    "    ('demo_death', 'DEATH_DATE'),\n",
    "    ('dmed', 'DISPENSE_DATE'),\n",
    "    ('dx', 'DX_DATE'),\n",
    "    ('dx_current', 'DX_DATE'),\n",
    "    ('lab_scr', 'SPECIMEN_DATE'),\n",
    "    ('pmed', 'RX_START_DATE'),\n",
    "    ('px', 'PX_DATE'),\n",
    "    ('vital_old', 'MEASURE_DATE'),\n",
    "    ('vital', 'OBSCLIN_START_DATE'),\n",
    "    ('lab', 'OBSCLIN_START_DATE')\n",
    "]\n",
    "\n",
    "# Function to check if a file exists and report if it does not\n",
    "def check_files(site, datasets):\n",
    "    # Base directory path\n",
    "    base_path = '/blue/yonghui.wu/hoyinchan/Data/data2022/'\n",
    "    \n",
    "    missing_files = []  # List to hold the names of missing files\n",
    "    for dataset, _ in datasets:\n",
    "        # Construct the expected filename\n",
    "        filename = f'p0_{dataset}_{site}.pkl'\n",
    "        full_path = os.path.join(base_path, site, filename)\n",
    "        \n",
    "        # Check if the file exists\n",
    "        if not os.path.exists(full_path):\n",
    "            missing_files.append(full_path)\n",
    "    \n",
    "    return missing_files"
   ]
  },
  {
   "cell_type": "code",
   "execution_count": null,
   "id": "e6918145-9927-47ad-b7cc-83299e277de8",
   "metadata": {
    "tags": []
   },
   "outputs": [],
   "source": [
    "# Main execution loop\n",
    "for site in site_list:\n",
    "    missing = check_files(site, datasets)\n",
    "    if missing:\n",
    "        print(f\"Missing files for site {site}:\")\n",
    "        for m in missing:\n",
    "            print(m)\n",
    "    else:\n",
    "        print(f\"All files are present for site {site}.\")"
   ]
  },
  {
   "cell_type": "code",
   "execution_count": null,
   "id": "4bd9ad19-cead-4073-93d0-a84d4cdacb2c",
   "metadata": {
    "tags": []
   },
   "outputs": [],
   "source": [
    "# Define the list of sites\n",
    "site_list = ['KUMC', 'UTSW', 'MCW', 'UofU', 'UIOWA', 'UMHC', 'UPITT', 'UTHSCSA', 'UNMC']\n",
    "\n",
    "# Define the list of datasets and their date columns\n",
    "datasets = [\n",
    "    ('amed', 'MEDADMIN_START_DATE'),\n",
    "    ('demo', 'DEATH_DATE'),\n",
    "    ('demo_death', 'DEATH_DATE'),\n",
    "    ('dmed', 'DISPENSE_DATE'),\n",
    "    ('dx', 'DX_DATE'),\n",
    "    ('dx_current', 'DX_DATE'),\n",
    "    ('lab_scr', 'SPECIMEN_DATE'),\n",
    "    ('pmed', 'RX_START_DATE'),\n",
    "    ('px', 'PX_DATE'),\n",
    "    ('vital_old', 'MEASURE_DATE'),\n",
    "    ('vital', 'OBSCLIN_START_DATE'),\n",
    "    ('lab', 'OBSCLIN_START_DATE')\n",
    "]\n",
    "\n",
    "# Function to check if a file exists, read it, print column names, and count rows\n",
    "def check_and_print_columns(site, datasets):\n",
    "    # Base directory path\n",
    "    base_path = '/blue/yonghui.wu/hoyinchan/Data/data2022/'\n",
    "    \n",
    "    for dataset, _ in datasets:\n",
    "        # Construct the expected filename\n",
    "        filename = f'p0_{dataset}_{site}.pkl'\n",
    "        full_path = os.path.join(base_path, site, filename)\n",
    "        \n",
    "        # Check if the file exists and read it\n",
    "        if os.path.exists(full_path):\n",
    "            # Load the DataFrame from a pickle file\n",
    "            df = pd.read_pickle(full_path)\n",
    "            print(f\"Columns in {filename}: {df.columns.tolist()}\")\n",
    "            print(f\"Number of rows in {filename}: {df.shape[0]}\")\n",
    "        else:\n",
    "            print(f\"File not found: {full_path}\")\n",
    "\n",
    "# Main execution loop\n",
    "for site in site_list:\n",
    "    print(f\"Processing site {site}\")\n",
    "    check_and_print_columns(site, datasets)\n",
    "check_and_print_columns('UofU', datasets)"
   ]
  },
  {
   "cell_type": "code",
   "execution_count": null,
   "id": "2484eec7-45c4-4f1d-8908-88ff215817de",
   "metadata": {},
   "outputs": [],
   "source": []
  },
  {
   "cell_type": "code",
   "execution_count": null,
   "id": "c0b072da-0b12-45a6-9d3b-2e3476b5b29b",
   "metadata": {},
   "outputs": [],
   "source": [
    "#Check for existence of all file after preprocess1.py\n",
    "\n",
    "# Define the list of sites\n",
    "site_list = ['KUMC', 'UTSW', 'MCW', 'UofU', 'UIOWA', 'UMHC', 'UPITT', 'UTHSCSA', 'UNMC']\n",
    "\n",
    "# Define the list of datasets and their date columns\n",
    "#datanames = ['onset', 'vital', 'demo', 'dx', 'px', 'labcat', 'labnum', 'amed', 'bt3']\n",
    "datanames = ['bt3']\n",
    "\n",
    "for site in site_list:\n",
    "    configs_variable = utils_function.read_config(site)\n",
    "    site, datafolder, home_directory = utils_function.get_commons(configs_variable)\n",
    "    onset = pd.read_parquet(configs_variable['datafolder']+configs_variable['site']+'/p0_onset_'+configs_variable['site']+'.parquet')\n",
    "    years = list(pd.to_datetime(onset['ADMIT_DATE']).dt.year.unique()) \n",
    "    for year in years:\n",
    "        for dataname in datanames:\n",
    "            if not os.path.exists(datafolder+site+'/'+dataname+'_'+site+'_'+str(year)+'.pkl'):\n",
    "                print(dataname+'_'+site+'_'+str(year)+'.pkl')"
   ]
  },
  {
   "cell_type": "code",
   "execution_count": null,
   "id": "e35ff4df-26cd-42f9-a4f6-9a3c318304bc",
   "metadata": {},
   "outputs": [],
   "source": []
  }
 ],
 "metadata": {
  "kernelspec": {
   "display_name": "AKI_PM_TEMPORAL_MOEA",
   "language": "python",
   "name": "aki_pm_temporal_moea"
  },
  "language_info": {
   "codemirror_mode": {
    "name": "ipython",
    "version": 3
   },
   "file_extension": ".py",
   "mimetype": "text/x-python",
   "name": "python",
   "nbconvert_exporter": "python",
   "pygments_lexer": "ipython3",
   "version": "3.11.5"
  }
 },
 "nbformat": 4,
 "nbformat_minor": 5
}
