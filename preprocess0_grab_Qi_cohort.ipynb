{
 "cells": [
  {
   "cell_type": "code",
   "execution_count": null,
   "id": "d7f8c135-757f-4cf0-828d-223462fc4f2b",
   "metadata": {
    "tags": []
   },
   "outputs": [],
   "source": [
    "import pandas as pd\n",
    "import numpy as np"
   ]
  },
  {
   "cell_type": "code",
   "execution_count": null,
   "id": "afb62096-2677-4660-b877-6033e947fa8d",
   "metadata": {
    "tags": []
   },
   "outputs": [],
   "source": [
    "import pickle\n",
    "\n",
    "# Define the path to the pickle file\n",
    "path = \"/home/hoyinchan/blue/Data/Qi_code_and_data/onset_and_baseline_dict.pkl\"\n",
    "\n",
    "# Load the dictionary from the pickle file\n",
    "try:\n",
    "    with open(path, 'rb') as file:\n",
    "        onset_and_baseline_dict = pickle.load(file)\n",
    "    \n",
    "    # Display the keys of the dictionary to understand its structure\n",
    "    print(\"Keys in the dictionary:\", onset_and_baseline_dict.keys())\n",
    "except FileNotFoundError:\n",
    "    print(f\"The file at {path} was not found. Please check the file path.\")\n",
    "except Exception as e:\n",
    "    print(f\"An error occurred while loading the file: {e}\")"
   ]
  },
  {
   "cell_type": "code",
   "execution_count": null,
   "id": "be0bda35-6cd9-4ec2-ace2-bd193926fb14",
   "metadata": {
    "tags": []
   },
   "outputs": [],
   "source": [
    "for k in onset_and_baseline_dict.keys():\n",
    "    if k != 'MCRI':\n",
    "        pdata = '/blue/yonghui.wu/hoyinchan/Data/data2022/'+ k\n",
    "        onset = onset_and_baseline_dict[k][0]\n",
    "        onset['PATID'] = onset['PATID'].astype(str)\n",
    "        onset['ENCOUNTERID'] = onset['ENCOUNTERID'].astype(str)    \n",
    "        onset['AKI_STAGE'] = onset['AKI_INIT_STG']\n",
    "#        onset['ONSET_SINCE_ADMIT'] = onset[['AKI1_SINCE_ADMIT', 'AKI2_SINCE_ADMIT', 'AKI3_SINCE_ADMIT']].min(axis=1)\n",
    "        onset.to_parquet(pdata+'/onset00.parquet')\n",
    "        print(pdata+'/onset00.parquet')"
   ]
  },
  {
   "cell_type": "code",
   "execution_count": null,
   "id": "7158589b-725e-4505-9bce-aae91ac5a628",
   "metadata": {
    "tags": []
   },
   "outputs": [],
   "source": [
    "k = 'KUMC'\n",
    "pdata = '/blue/yonghui.wu/hoyinchan/Data/data2022/'+ k\n",
    "onset = onset_and_baseline_dict[k][0]"
   ]
  },
  {
   "cell_type": "code",
   "execution_count": null,
   "id": "cf762c82-5415-407c-bd3d-0321b4c12e24",
   "metadata": {
    "tags": []
   },
   "outputs": [],
   "source": [
    "onset[['AKI_STAGE', 'ENCOUNTERID']].groupby('AKI_STAGE').count().reset_index()"
   ]
  },
  {
   "cell_type": "code",
   "execution_count": null,
   "id": "8399ab53-0fa2-41c9-a425-ba64af89ab7b",
   "metadata": {
    "tags": []
   },
   "outputs": [],
   "source": [
    "onset[['AKI_STAGE', 'ENCOUNTERID']].groupby('AKI_STAGE').count().reset_index()"
   ]
  },
  {
   "cell_type": "code",
   "execution_count": null,
   "id": "447028d8-90b3-4063-ac85-ef32d799664d",
   "metadata": {},
   "outputs": [],
   "source": []
  }
 ],
 "metadata": {
  "kernelspec": {
   "display_name": "Python 3 (ipykernel)",
   "language": "python",
   "name": "python3"
  },
  "language_info": {
   "codemirror_mode": {
    "name": "ipython",
    "version": 3
   },
   "file_extension": ".py",
   "mimetype": "text/x-python",
   "name": "python",
   "nbconvert_exporter": "python",
   "pygments_lexer": "ipython3",
   "version": "3.10.12"
  }
 },
 "nbformat": 4,
 "nbformat_minor": 5
}
