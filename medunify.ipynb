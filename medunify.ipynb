{
 "cells": [
  {
   "cell_type": "code",
   "execution_count": null,
   "id": "98998b03-df4d-458f-bf3f-b1e04c4d7d90",
   "metadata": {
    "tags": []
   },
   "outputs": [],
   "source": [
    "import importlib\n",
    "\n",
    "import ipynb.fs.full.preprocessing0\n",
    "import ipynb.fs.full.preprocessing05\n",
    "#import ipynb.fs.full.prepossessing075_akistage\n",
    "import preprocessing1\n",
    "#import ipynb.fs.full.preprocessing2_BT\n",
    "import preprocessing2_BT\n",
    "\n",
    "import ipynb.fs.full.preprocessing25_BTcorr\n",
    "import ipynb.fs.full.preprocessing3_smote\n",
    "#import ipynb.fs.full.preprocessing4\n",
    "import preprocessing4\n",
    "\n",
    "#import ipynb.fs.full.runxgboost\n",
    "import runxgboost\n",
    "\n",
    "#import ipynb.fs.full.postprocessing1_SHAP\n",
    "\n",
    "import postprocessing1_SHAP\n",
    "\n",
    "import ipynb.fs.full.postprocessing3_collect\n",
    "\n",
    "from ipynb.fs.full.slackbot import ping_slack\n",
    "import pandas as pd\n",
    "import xgboost as xgb\n",
    "import numpy as np\n",
    "import sklearn\n",
    "from sklearn.preprocessing import OneHotEncoder\n",
    "from sklearn.impute import SimpleImputer\n",
    "from imblearn.over_sampling import SMOTE\n",
    "from imblearn.pipeline import make_pipeline\n",
    "from imblearn.combine import SMOTEENN\n",
    "from imblearn.over_sampling import SMOTENC\n",
    "import matplotlib.pyplot as plt\n",
    "from PIL import Image\n",
    "from scipy.interpolate import BSpline, make_interp_spline, interp1d\n",
    "#import rpy2.robjects as robjects\n",
    "#from rpy2.robjects.packages import importr\n",
    "import csv\n",
    "from dfply import *\n",
    "from xgboost import XGBClassifier\n",
    "import itertools\n",
    "import os\n",
    "from tqdm import tqdm\n",
    "from os import listdir\n",
    "from os.path import isfile, join\n",
    "from os.path import exists\n",
    "import logging\n",
    "import time\n",
    "\n",
    "import utils_function"
   ]
  },
  {
   "cell_type": "code",
   "execution_count": null,
   "id": "e2861b0f-6d59-48c0-ba52-9f0aa8ad465b",
   "metadata": {
    "tags": []
   },
   "outputs": [],
   "source": [
    "sites = ['UTSW', 'MCW', 'UofU', 'UIOWA', 'UMHC', 'UPITT', 'UTHSCSA', 'UNMC', 'KUMC']\n",
    "configs_variable = utils_function.read_config('UTHSCSA')\n",
    "site, datafolder, home_directory = utils_function.get_commons(configs_variable)"
   ]
  },
  {
   "cell_type": "code",
   "execution_count": null,
   "id": "3140effb-2a1a-4d23-8371-a406e75d70f7",
   "metadata": {},
   "outputs": [],
   "source": [
    "#Collect all med code in database\n",
    "\n",
    "ameds = []\n",
    "for site in sites:\n",
    "    print(site)\n",
    "    ameds.append(pd.read_parquet(datafolder+site+'/p0_amed_'+site+'.parquet')[['MEDADMIN_TYPE', 'MEDADMIN_CODE']].drop_duplicates())\n",
    "\n",
    "amed = pd.concat(ameds).drop_duplicates()\n",
    "    amed.to_parquet(datafolder+'/med_unified_conversion_before.parquet')"
   ]
  },
  {
   "cell_type": "code",
   "execution_count": null,
   "id": "5d11ce6c-9fbd-4e81-bd0e-b8dde8ae9359",
   "metadata": {
    "tags": []
   },
   "outputs": [],
   "source": [
    "#Run rxnorm2atcR_site.ipynb to translate"
   ]
  },
  {
   "cell_type": "code",
   "execution_count": null,
   "id": "cb911de8-9e94-49bc-9769-eae28a737091",
   "metadata": {},
   "outputs": [],
   "source": [
    "# # Tables\n",
    "# nd2rx = pd.read_parquet(datafolder+'/med_unified_conversion_nd2rx.parquet')\n",
    "# rx2atc = pd.read_parquet(datafolder+'/med_unified_conversion_rx2atc.parquet')"
   ]
  }
 ],
 "metadata": {
  "kernelspec": {
   "display_name": "AKI_CDM_PY",
   "language": "python",
   "name": "aki_cdm_py"
  },
  "language_info": {
   "codemirror_mode": {
    "name": "ipython",
    "version": 3
   },
   "file_extension": ".py",
   "mimetype": "text/x-python",
   "name": "python",
   "nbconvert_exporter": "python",
   "pygments_lexer": "ipython3",
   "version": "3.6.15"
  }
 },
 "nbformat": 4,
 "nbformat_minor": 5
}
