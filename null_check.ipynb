{
 "cells": [
  {
   "cell_type": "code",
   "execution_count": null,
   "id": "135ed6c6-5ec1-4450-81b8-2d3869dee14e",
   "metadata": {
    "tags": []
   },
   "outputs": [],
   "source": [
    "import utils_function\n",
    "import pandas as pd"
   ]
  },
  {
   "cell_type": "code",
   "execution_count": null,
   "id": "ef8ead0b-11f3-485d-ac16-a09e24f3b8a8",
   "metadata": {
    "tags": []
   },
   "outputs": [],
   "source": [
    "site_list = ['KUMC', 'UTSW', 'MCW', 'UofU', 'UIOWA', 'UMHC', 'UPITT', 'UTHSCSA', 'UNMC']"
   ]
  },
  {
   "cell_type": "code",
   "execution_count": null,
   "id": "93ec42b1-9d6d-4a1b-a4ed-a4feaffbb92c",
   "metadata": {
    "tags": []
   },
   "outputs": [],
   "source": [
    "labtests = []\n",
    "for site in site_list:\n",
    "    print(site)\n",
    "    configs_variables = utils_function.read_config(site)\n",
    "    site, datafolder, home_directory = utils_function.get_commons(configs_variables)\n",
    "    labtest = pd.read_parquet(datafolder+site+f\"/p0_lab_g_\"+site+\".parquet\", columns=['ENCOUNTERID', 'RESULT_QUAL'])\n",
    "    labtest['ENCOUNTERID'] = labtest['ENCOUNTERID'].astype(str)\n",
    "    labtests.append(labtest)"
   ]
  },
  {
   "cell_type": "code",
   "execution_count": null,
   "id": "5e38937b-a7e7-45db-855a-fa32762b3e5b",
   "metadata": {
    "tags": []
   },
   "outputs": [],
   "source": [
    "labtestsp = pd.concat(labtests)"
   ]
  },
  {
   "cell_type": "code",
   "execution_count": null,
   "id": "f099bc48-d6fb-481a-b6be-9c0c4d3267cb",
   "metadata": {
    "tags": []
   },
   "outputs": [],
   "source": [
    "labtestspg = labtestsp[['RESULT_QUAL','ENCOUNTERID']].groupby('RESULT_QUAL').count().sort_values('ENCOUNTERID', ascending=False)"
   ]
  },
  {
   "cell_type": "code",
   "execution_count": null,
   "id": "262e4e04-4d0e-42ba-9c7a-ec83308097d2",
   "metadata": {
    "tags": []
   },
   "outputs": [],
   "source": [
    "labtestspg.head(30)"
   ]
  },
  {
   "cell_type": "code",
   "execution_count": null,
   "id": "e4910014-1bb9-4576-bf2a-a9ea02fd72f7",
   "metadata": {},
   "outputs": [],
   "source": []
  }
 ],
 "metadata": {
  "kernelspec": {
   "display_name": "AKI_CDM_PY",
   "language": "python",
   "name": "aki_cdm_py"
  },
  "language_info": {
   "codemirror_mode": {
    "name": "ipython",
    "version": 3
   },
   "file_extension": ".py",
   "mimetype": "text/x-python",
   "name": "python",
   "nbconvert_exporter": "python",
   "pygments_lexer": "ipython3",
   "version": "3.6.15"
  }
 },
 "nbformat": 4,
 "nbformat_minor": 5
}
