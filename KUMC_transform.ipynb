{
 "cells": [
  {
   "cell_type": "code",
   "execution_count": null,
   "id": "9b3eba81-d60a-40c7-b3f9-c94de4fc0c7a",
   "metadata": {},
   "outputs": [],
   "source": [
    "import pandas as pd\n",
    "import numpy as np\n",
    "import itertools\n",
    "from scipy.stats import fisher_exact\n",
    "import shelve\n",
    "import pickle\n",
    "import pandas as pd\n",
    "import numpy as np\n",
    "import sklearn\n",
    "from sklearn.preprocessing import OneHotEncoder\n",
    "from sklearn.impute import SimpleImputer\n",
    "import matplotlib.pyplot as plt\n",
    "from PIL import Image\n",
    "from scipy.interpolate import BSpline, make_interp_spline, interp1d\n",
    "import csv\n",
    "from dfply import *\n",
    "import itertools\n",
    "import os\n",
    "import logging\n",
    "from sys import getsizeof\n",
    "import sklearn\n",
    "import time\n",
    "from sklearn.metrics import roc_auc_score\n",
    "from catboost import Pool, cv\n",
    "import xgboost\n",
    "import catboost\n",
    "import scipy.stats as st\n",
    "\n",
    "import importlib\n",
    "from joblib import Parallel, delayed\n",
    "from joblib import parallel_backend\n",
    "\n",
    "import ipynb.fs.full.preprocessing1\n",
    "\n",
    "import dask.dataframe as dd\n",
    "import dask"
   ]
  },
  {
   "cell_type": "code",
   "execution_count": null,
   "id": "618fb027-883f-4add-8a28-4ccc73651e88",
   "metadata": {
    "tags": []
   },
   "outputs": [],
   "source": [
    "datafolder = '/home/hoyinchan/blue/Data/data2021raw/'\n",
    "data_onset = pd.read_csv(datafolder+'KUMC'+'/raw_OLD_FORMAT/'+'AKI_ONSETS.csv')\n",
    "data_onset = data_onset[data_onset['BCCOVID'] == 1]\n",
    "data_onset = data_onset.drop('BCCOVID',axis=1)\n",
    "data_onset['ADMIT_DATE'] = pd.to_datetime(data_onset['ADMIT_YEAR'].astype(str)+'-01-02 00:00:00.000')\n",
    "data_onset= data_onset.drop('ADMIT_YEAR',axis=1)\n",
    "data_onset['NONAKI_ANCHOR'] = data_onset['ADMIT_DATE']+pd.to_timedelta(data_onset['NONAKI_SINCE_ADMIT'], \"d\") \n",
    "data_onset['AKI1_ONSET'] = data_onset['ADMIT_DATE']+pd.to_timedelta(data_onset['AKI1_SINCE_ADMIT'], \"d\") \n",
    "data_onset['AKI2_ONSET'] = data_onset['ADMIT_DATE']+pd.to_timedelta(data_onset['AKI2_SINCE_ADMIT'], \"d\") \n",
    "data_onset['AKI3_ONSET'] = data_onset['ADMIT_DATE']+pd.to_timedelta(data_onset['AKI3_SINCE_ADMIT'], \"d\") \n",
    "data_onset.to_parquet(datafolder+'KUMC'+'/raw/'+'AKI_ONSETS.parquet')\n",
    "data_onset.to_csv(datafolder+'KUMC'+'/raw/'+'AKI_ONSETS.csv')"
   ]
  },
  {
   "cell_type": "code",
   "execution_count": null,
   "id": "bbb07d2d-46a4-424c-ba21-5b93d081275e",
   "metadata": {
    "tags": []
   },
   "outputs": [],
   "source": []
  },
  {
   "cell_type": "code",
   "execution_count": null,
   "id": "856c6e44-9a23-44e8-bad2-ae3f6571b1ec",
   "metadata": {
    "tags": []
   },
   "outputs": [],
   "source": []
  },
  {
   "cell_type": "code",
   "execution_count": null,
   "id": "05f0115a-2063-447b-bab6-146bafc8116e",
   "metadata": {
    "tags": []
   },
   "outputs": [],
   "source": []
  },
  {
   "cell_type": "code",
   "execution_count": null,
   "id": "c23333b0-df1e-4f47-80a0-1e2979229479",
   "metadata": {
    "tags": []
   },
   "outputs": [],
   "source": []
  },
  {
   "cell_type": "code",
   "execution_count": null,
   "id": "81462f22-fd4f-4405-ac7b-8881d2a52719",
   "metadata": {},
   "outputs": [],
   "source": [
    "def change_enc_raw(data2, colname):\n",
    "    data=data2.copy()\n",
    "    data.columns = colname\n",
    "    data['ENCOUNTERID'] = data['ONSETS_ENCOUNTERID']\n",
    "    data = data.drop('ONSETS_ENCOUNTERID',axis=1)\n",
    "    return data"
   ]
  },
  {
   "cell_type": "code",
   "execution_count": null,
   "id": "d3fbaa5c-20f7-4ff3-8fad-233b8eddfbe3",
   "metadata": {},
   "outputs": [],
   "source": [
    "def modify_dates(data2, feature_names, mode='int'):\n",
    "    data=data2.copy()\n",
    "    data_onset = pd.read_csv(datafolder+'KUMC'+'/raw/'+'AKI_ONSETS.csv')\n",
    "    data = data.merge(data_onset[['PATID','ENCOUNTERID','ADMIT_DATE']].drop_duplicates(), on=['PATID','ENCOUNTERID'], how='left')\n",
    "    for f in feature_names:\n",
    "        time_feature = f+'_TIME'\n",
    "        datetime_feature = f+'_DATE_TIME'        \n",
    "        if mode != 'int':\n",
    "            data['DAYS_SINCE_ADMIT'] = data['DAYS_SINCE_ADMIT'].map(np.floor).astype(int)        \n",
    "        data[datetime_feature] = pd.to_datetime(data['ADMIT_DATE'])+pd.to_timedelta(data['DAYS_SINCE_ADMIT'], \"d\")+pd.to_timedelta(data[time_feature]+':00')\n",
    "    return data"
   ]
  },
  {
   "cell_type": "code",
   "execution_count": null,
   "id": "eca784cd-04fc-44e5-92d9-aa749a84648d",
   "metadata": {},
   "outputs": [],
   "source": [
    "def modify_dates2(data2, out_feature_names, mode='int'):\n",
    "    data=data2.copy()\n",
    "    data_onset = pd.read_csv(datafolder+'KUMC'+'/raw/'+'AKI_ONSETS.csv')\n",
    "    data = data.merge(data_onset[['PATID','ENCOUNTERID','ADMIT_DATE']].drop_duplicates(), on=['PATID','ENCOUNTERID'], how='left')\n",
    "    if mode != 'int':\n",
    "        data['DAYS_SINCE_ADMIT'] = data['DAYS_SINCE_ADMIT'].map(np.floor).astype(int) \n",
    "    data[out_feature_names] = pd.to_datetime(data['ADMIT_DATE'])+pd.to_timedelta(data['DAYS_SINCE_ADMIT'], \"d\")\n",
    "    return data"
   ]
  },
  {
   "cell_type": "code",
   "execution_count": null,
   "id": "993e68b1-7331-4288-b5e8-d99911cb447c",
   "metadata": {},
   "outputs": [],
   "source": [
    "def missolenous(data2):\n",
    "    data=data2.copy()\n",
    "#    data = data.drop(['ADMIT_DATE', 'MEDADMINID', 'MEDADMIN_PROVIDERID', 'MEDADMIN_DOSE_ADMIN_UNIT', 'PRESCRIBINGID'],axis=1)\n",
    "#    data = data.drop(['BIRTH_TIME', 'BIRTH_TIME', 'GENDER_IDENTITY', 'PAT_PREF_LANGUAGE_SPOKEN', 'BIOBANK_FLAG', 'SEXUAL_ORIENTATION', ],axis=1)\n",
    "#    data = data.drop(['PROVIDERID', 'DIAGNOSISID', 'ENC_TYPE', 'DX_POA'],axis=1, errors='ignore')\n",
    "#    data = data.drop(['ADMIT_DATE', 'PPX', 'ENC_TYPE', 'PROCEDURESID'],axis=1, errors='ignore')\n",
    "#    data = data.drop(['ADMIT_DATE', 'VITALID', 'MEASURE_TIME', 'VITAL_SOURCE', 'BP_POSITION'],axis=1, errors='ignore')\n",
    "    data = data.drop(['ADMIT_DATE', 'PRESCRIBINGID', 'RX_PROVIDERID', 'RX_ORDER_TIME', 'RX_DOSE_ORDERED', 'RX_DOSE_ORDERED_UNIT', 'RX_DOSE_FORM', 'RX_PRN_FLAG', 'RX_ROUTE', 'RX_SOURCE', 'RX_DISPENSE_AS_WRITTEN'],axis=1, errors='ignore')\n",
    "    data = data[[x for x in data.columns if 'RAW' not in x]]\n",
    "    return data"
   ]
  },
  {
   "cell_type": "code",
   "execution_count": null,
   "id": "bf800d64-adaa-4d2d-954a-859fb8924dff",
   "metadata": {},
   "outputs": [],
   "source": [
    "def batch(data, filename, feature_names, mode='int'):\n",
    "#    datac = dd.read_csv(datafolder+'KUMC'+'/raw_OLD_FORMAT/'+filename+'.csv', blocksize=188e6)      \n",
    "#    colnames = datac.columns\n",
    "    data = change_enc_raw(data, colnames)\n",
    "    data = modify_dates2(data, feature_names, mode=mode)\n",
    "#    data = lab_proc(data)    \n",
    "    data = missolenous(data)\n",
    "#        data.to_pickle(datafolder+'KUMC'+'/raw/'+filename+'.pkl')\n",
    "    return data"
   ]
  },
  {
   "cell_type": "code",
   "execution_count": null,
   "id": "ee3a27dc-51c8-4cd7-bde5-c98788356bef",
   "metadata": {},
   "outputs": [],
   "source": [
    "vital = ['AKI_VITAL', ['MEASURE'], 'int']\n",
    "px    = ['AKI_PX', [], 'int']\n",
    "lab   = ['AKI_LAB', ['SPECIMEN', 'RESULT'], 'int']\n",
    "dx    = ['AKI_DX', [], 'int']\n",
    "dmed  = ['AKI_DMED', [], 'int']\n",
    "demo  = ['AKI_DEMO', [], 'int']\n",
    "amed  = ['AKI_AMED', ['MEDADMIN_START', 'MEDADMIN_STOP'], 'float']"
   ]
  },
  {
   "cell_type": "code",
   "execution_count": null,
   "id": "126b548c-e2e8-4bf3-a23e-f4960b772fd6",
   "metadata": {},
   "outputs": [],
   "source": [
    "import os\n",
    "files_lab = os.listdir(datafolder+'KUMC'+'/raw_OLD_FORMAT/'+'AKI_AMED_SPLIT/')"
   ]
  },
  {
   "cell_type": "code",
   "execution_count": null,
   "id": "46c3085f-cc6f-4efa-8264-bcaa68db05bc",
   "metadata": {},
   "outputs": [],
   "source": [
    "#files_lab = files_lab[0:2]"
   ]
  },
  {
   "cell_type": "code",
   "execution_count": null,
   "id": "e2fed139-09f5-4d5e-bfe3-0a849df2b6db",
   "metadata": {},
   "outputs": [],
   "source": [
    "def readcsvchunk(filename, datafolder):\n",
    "    fname = datafolder+'KUMC'+'/raw_OLD_FORMAT/'+'AKI_AMED_SPLIT/'+filename\n",
    "    return pd.read_csv(fname, header=None)\n",
    "amed = Parallel(n_jobs=63)(delayed(readcsvchunk)(flab, datafolder) for flab in files_lab)"
   ]
  },
  {
   "cell_type": "code",
   "execution_count": null,
   "id": "4294b227-888a-4eba-8f12-5549b7393321",
   "metadata": {
    "tags": []
   },
   "outputs": [],
   "source": [
    "amed = Parallel(n_jobs=63)(delayed(batch)(flab_df, 'AKI_AMED', ['MEDADMIN_START', 'MEDADMIN_STOP'], 'float') for flab_df in amed)\n",
    "amed_con = pd.concat(amed)\n",
    "amed_con.to_parquet(datafolder+'KUMC'+'/raw/'+'AKI_AMED'+'.csv')"
   ]
  },
  {
   "cell_type": "code",
   "execution_count": null,
   "id": "a27af47d-d051-40e4-b0e5-a1f0f0cf9b32",
   "metadata": {},
   "outputs": [],
   "source": [
    "pmed = pd.read_csv(datafolder+'KUMC'+'/raw_OLD_FORMAT/'+'AKI_PMED'+'.csv', low_memory=False)      \n",
    "pmed = change_enc_raw(pmed, pmed.columns)\n",
    "pmed = modify_dates(pmed, ['RX_ORDER'], mode='int')\n",
    "pmed = missolenous(pmed)\n",
    "pmed['RX_START_DATE'] = pmed['RX_ORDER_DATE_TIME'].dt.date\n",
    "pmed['RX_END_DATE'] = pmed['RX_ORDER_DATE_TIME'].dt.date\n",
    "#vital.to_parquet(datafolder+'KUMC'+'/raw/'+'AKI_VITAL'+'.parquet')"
   ]
  },
  {
   "cell_type": "code",
   "execution_count": null,
   "id": "949a5a34-3f81-4782-a1b0-ac7060ebc543",
   "metadata": {},
   "outputs": [],
   "source": [
    "def convert_parquest_to_csv(dilename, datafolder):\n",
    "    if 'parquet' in dilename:\n",
    "        data = pd.read_parquet(datafolder+'KUMC'+'/raw/'+dilename)\n",
    "        data.to_csv(datafolder+'KUMC'+'/raw/'+dilename.replace('parquet', 'csv'))"
   ]
  },
  {
   "cell_type": "code",
   "execution_count": null,
   "id": "2676e5a7-4a21-440c-b322-8e18251f6933",
   "metadata": {},
   "outputs": [],
   "source": [
    "import os\n",
    "files_lab = os.listdir(datafolder+'KUMC'+'/raw/')"
   ]
  },
  {
   "cell_type": "code",
   "execution_count": null,
   "id": "cb504357-5ec2-427b-974b-de54cd2e1606",
   "metadata": {},
   "outputs": [],
   "source": [
    "Parallel(n_jobs=10)(delayed(convert_parquest_to_csv)(flab, datafolder) for flab in files_lab)"
   ]
  },
  {
   "cell_type": "code",
   "execution_count": null,
   "id": "d0602e89-7aab-4b34-9442-22fd503d130e",
   "metadata": {},
   "outputs": [],
   "source": [
    "pmed.to_csv(datafolder+'KUMC'+'/raw/'+'AKI_PMED'+'.csv')"
   ]
  },
  {
   "cell_type": "code",
   "execution_count": null,
   "id": "3f2603ec-7f8f-45c7-a3e1-5913f1953687",
   "metadata": {},
   "outputs": [],
   "source": [
    "pmed"
   ]
  },
  {
   "cell_type": "code",
   "execution_count": null,
   "id": "3cfc0637-dd88-4e43-b85d-915470e2ee98",
   "metadata": {},
   "outputs": [],
   "source": []
  }
 ],
 "metadata": {
  "kernelspec": {
   "display_name": "AKI_CDM_PY",
   "language": "python",
   "name": "aki_cdm_py"
  },
  "language_info": {
   "codemirror_mode": {
    "name": "ipython",
    "version": 3
   },
   "file_extension": ".py",
   "mimetype": "text/x-python",
   "name": "python",
   "nbconvert_exporter": "python",
   "pygments_lexer": "ipython3",
   "version": "3.6.15"
  }
 },
 "nbformat": 4,
 "nbformat_minor": 5
}
