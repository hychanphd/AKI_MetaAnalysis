{
 "cells": [
  {
   "cell_type": "code",
   "execution_count": null,
   "id": "d0ab203c-8b59-4f48-a840-ff532ea14893",
   "metadata": {},
   "outputs": [],
   "source": [
    "# Site Specific Code\n",
    "import pandas as pd\n",
    "import xgboost as xgb\n",
    "import numpy as np\n",
    "import sklearn\n",
    "from sklearn.preprocessing import OneHotEncoder\n",
    "from sklearn.impute import SimpleImputer\n",
    "from imblearn.over_sampling import SMOTE\n",
    "from imblearn.pipeline import make_pipeline\n",
    "from imblearn.combine import SMOTEENN\n",
    "from imblearn.over_sampling import SMOTENC\n",
    "import matplotlib.pyplot as plt\n",
    "from PIL import Image\n",
    "from scipy.interpolate import BSpline, make_interp_spline, interp1d\n",
    "import rpy2.robjects as robjects\n",
    "from rpy2.robjects.packages import importr\n",
    "import csv\n",
    "from dfply import *\n",
    "from xgboost import XGBClassifier\n",
    "import itertools\n",
    "import os"
   ]
  },
  {
   "cell_type": "code",
   "execution_count": null,
   "id": "998ccc13-7a2e-4b30-b2cb-c41c1080c7c0",
   "metadata": {},
   "outputs": [],
   "source": [
    "# UTSW, MCW translate lower case columns name to upper case and format to csv\n",
    "# UofU translate txt to csv\n",
    "site = ['UTSW', 'MCW', 'UofU']\n",
    "lower = ['lower', 'lower', 'upper']\n",
    "ext = ['dsv', 'dsv', 'txt']\n",
    "sep = ['|', '|', '|']\n",
    "\n",
    "#site=['UTSW']\n",
    "#lower = ['lower']\n",
    "#ext = ['dsv']\n",
    "#sep = ['|']\n",
    "\n",
    "def change_header_save_csv(name, ext, sep, site):\n",
    "    datafolder = '/home/hchan2/AKI/data/'+site\n",
    "    home_directory = \"/home/hchan2/AKI/AKI_Python/\"\n",
    "    print(name)\n",
    "    data = pd.read_csv(datafolder+'/raw/'+name+'.'+ext,sep=sep, dtype=({'PATID': 'object', 'ENCOUNTERID': 'object'}))\n",
    "    data.columns = [x.upper() for x in data.columns]\n",
    "    data.to_csv(datafolder+'/raw/'+name+'.csv', sep=',', index=False)\n",
    "    \n",
    "def change_header_save_csv_dx(lower, ext, sep, site):\n",
    "    datafolder = '/home/hchan2/AKI/data/'+site\n",
    "    home_directory = \"/home/hchan2/AKI/AKI_Python/\"    \n",
    "    print('AKI_DX')\n",
    "    if lower == 'upper':\n",
    "        data = pd.read_csv(datafolder+'/raw/'+'AKI_DX'+'.'+ext,sep=sep, dtype=({'PATID': 'object', 'ENCOUNTERID': 'object', 'DX_TYPE': 'object', 'DX': 'object'}))\n",
    "    else:\n",
    "        data = pd.read_csv(datafolder+'/raw/'+'AKI_DX'+'.'+ext,sep=sep, dtype=({'patid': 'object', 'encounterid': 'object', 'dx_type': 'object', 'dx': 'object'}))\n",
    "    data.columns = [x.upper() for x in data.columns]\n",
    "    data.to_csv(datafolder+'/raw/'+name+'.csv', sep=',', index=False)\n",
    "\n",
    "#for i in range(3):    \n",
    "#    change_header_save_csv('AKI_ONSETS', ext[i], sep[i], site[i])   \n",
    "#for i in range(3):    \n",
    "#    change_header_save_csv('AKI_VITAL', ext[i], sep[i], site[i])\n",
    "#for i in range(3):        \n",
    "#    change_header_save_csv('AKI_DEMO', ext[i], sep[i], site[i])\n",
    "#for i in range(3):        \n",
    "#    change_header_save_csv_dx(lower[i], ext[i], sep[i], site[i])\n",
    "#for i in range(3):    \n",
    "#    change_header_save_csv('AKI_PX', ext[i], sep[i], site[i])\n",
    "for i in range(1,3):    \n",
    "    change_header_save_csv('AKI_LAB', ext[i], sep[i], site[i])\n",
    "#for i in range(1):\n",
    "#    change_header_save_csv('AKI_AMED', ext[i], sep[i], site[i])"
   ]
  },
  {
   "cell_type": "code",
   "execution_count": null,
   "id": "d8da5cd7-a469-4f1e-a200-fdbc5153af97",
   "metadata": {},
   "outputs": [],
   "source": [
    "# date time convert for onset table\n",
    "# site:\n",
    "\n",
    "\n"
   ]
  },
  {
   "cell_type": "code",
   "execution_count": null,
   "id": "d89576f2-8122-492a-812e-7c7d1d88da0c",
   "metadata": {},
   "outputs": [],
   "source": []
  }
 ],
 "metadata": {
  "kernelspec": {
   "display_name": "AKI_meta_analysis_3.6",
   "language": "python",
   "name": "firstenv"
  },
  "language_info": {
   "codemirror_mode": {
    "name": "ipython",
    "version": 3
   },
   "file_extension": ".py",
   "mimetype": "text/x-python",
   "name": "python",
   "nbconvert_exporter": "python",
   "pygments_lexer": "ipython3",
   "version": "3.6.13"
  }
 },
 "nbformat": 4,
 "nbformat_minor": 5
}
