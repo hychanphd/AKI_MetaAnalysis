{
 "cells": [
  {
   "cell_type": "code",
   "execution_count": null,
   "id": "8573cb3c-273c-4182-9f43-c1e05dcf853b",
   "metadata": {
    "tags": []
   },
   "outputs": [],
   "source": [
    "import importlib\n",
    "\n",
    "import ipynb.fs.full.preprocessing0\n",
    "import ipynb.fs.full.preprocessing05\n",
    "#import ipynb.fs.full.prepossessing075_akistage\n",
    "import preprocessing1\n",
    "#import ipynb.fs.full.preprocessing2_BT\n",
    "import preprocessing2_BT\n",
    "\n",
    "import ipynb.fs.full.preprocessing25_BTcorr\n",
    "import ipynb.fs.full.preprocessing3_smote\n",
    "#import ipynb.fs.full.preprocessing4\n",
    "import preprocessing4\n",
    "\n",
    "#import ipynb.fs.full.runxgboost\n",
    "import runxgboost\n",
    "\n",
    "#import ipynb.fs.full.postprocessing1_SHAP\n",
    "\n",
    "import postprocessing1_SHAP\n",
    "\n",
    "import ipynb.fs.full.postprocessing3_collect\n",
    "\n",
    "from ipynb.fs.full.slackbot import ping_slack\n",
    "import pandas as pd\n",
    "import xgboost as xgb\n",
    "import numpy as np\n",
    "import sklearn\n",
    "from sklearn.preprocessing import OneHotEncoder\n",
    "from sklearn.impute import SimpleImputer\n",
    "from imblearn.over_sampling import SMOTE\n",
    "from imblearn.pipeline import make_pipeline\n",
    "from imblearn.combine import SMOTEENN\n",
    "from imblearn.over_sampling import SMOTENC\n",
    "import matplotlib.pyplot as plt\n",
    "from PIL import Image\n",
    "from scipy.interpolate import BSpline, make_interp_spline, interp1d\n",
    "#import rpy2.rstrs as rstrs\n",
    "#from rpy2.rstrs.packages import importr\n",
    "import csv\n",
    "from dfply import *\n",
    "from xgboost import XGBClassifier\n",
    "import itertools\n",
    "import os\n",
    "from tqdm import tqdm\n",
    "from os import listdir\n",
    "from os.path import isfile, join\n",
    "from os.path import exists\n",
    "import logging\n",
    "import time\n",
    "import pickle\n",
    "import utils_function\n",
    "from sklearn.metrics import roc_auc_score\n",
    "\n",
    "import plot_utils"
   ]
  },
  {
   "cell_type": "code",
   "execution_count": null,
   "id": "2cd44b24-54f8-4c0f-be7a-ec221c391940",
   "metadata": {
    "tags": []
   },
   "outputs": [],
   "source": [
    "#Reload library to update on any change\n",
    "importlib.reload(ipynb.fs.full.preprocessing0)\n",
    "importlib.reload(ipynb.fs.full.preprocessing05)\n",
    "#importlib.reload(ipynb.fs.full.preapossessing075_akistage)\n",
    "importlib.reload(preprocessing1)\n",
    "importlib.reload(preprocessing2_BT)\n",
    "importlib.reload(ipynb.fs.full.preprocessing25_BTcorr)\n",
    "importlib.reload(ipynb.fs.full.preprocessing3_smote)\n",
    "# #importlib.reload(ipynb.fs.full.preprocessing4)\n",
    "importlib.reload(preprocessing4)\n",
    "importlib.reload(runxgboost)\n",
    "importlib.reload(postprocessing1_SHAP)\n",
    "importlib.reload(ipynb.fs.full.postprocessing3_collect)\n",
    "importlib.reload(postprocessing1_SHAP)\n",
    "importlib.reload(utils_function)\n",
    "importlib.reload(plot_utils)"
   ]
  },
  {
   "cell_type": "code",
   "execution_count": null,
   "id": "1fee9b3f-05d8-4120-8e91-856b9e46bd23",
   "metadata": {
    "tags": []
   },
   "outputs": [],
   "source": [
    "site_list = ['KUMC', 'UTSW', 'MCW', 'UofU', 'UIOWA', 'UMHC', 'UPITT', 'UTHSCSA', 'UNMC']\n",
    "for site in site_list:\n",
    "    # Read the config files for variables\n",
    "    # The location of config files is at '/home/hoyinchan/code/AKI_CDM_PY/configs_files/publish_config/Configs_init.txt'\n",
    "    configs_variables = utils_function.read_config(site, suffix='init', config_base_location='/home/hoyinchan/code/AKI_CDM_PY/configs_files/publish_config/')\n",
    "    utils_function.write_config(configs_variables, suffix=site)\n",
    "    configs_variables"
   ]
  },
  {
   "cell_type": "code",
   "execution_count": null,
   "id": "20f698c5-60aa-4283-b1bc-054835d9251c",
   "metadata": {
    "tags": []
   },
   "outputs": [],
   "source": [
    "configs_variables = [utils_function.read_config(site) for site in site_list]"
   ]
  },
  {
   "cell_type": "code",
   "execution_count": null,
   "id": "3954c2b2-6450-4e2b-a798-fc6015cab429",
   "metadata": {
    "tags": []
   },
   "outputs": [],
   "source": [
    "configs_variables[7]['rerun_flag']=True"
   ]
  },
  {
   "cell_type": "code",
   "execution_count": null,
   "id": "9551db6f-b934-48f4-8a2d-640a9780dc29",
   "metadata": {
    "tags": []
   },
   "outputs": [],
   "source": [
    "#postprocessing1_SHAP.collectSHAPraw_cross_sub(configs_variables[7], configs_variables[7], returnflag=False)"
   ]
  },
  {
   "cell_type": "code",
   "execution_count": null,
   "id": "0b709494-6d76-4b6d-ad09-30fb2405cba8",
   "metadata": {
    "tags": []
   },
   "outputs": [],
   "source": [
    "#ipynb.fs.full.postprocessing3_collect.collect_collectSHAPraw_cross_sub_pre(configs_variables)"
   ]
  },
  {
   "cell_type": "code",
   "execution_count": null,
   "id": "2e590e82-4553-47fe-b42e-c80fcac48430",
   "metadata": {
    "tags": []
   },
   "outputs": [],
   "source": [
    "configs_variable = configs_variables[1]"
   ]
  },
  {
   "cell_type": "code",
   "execution_count": null,
   "id": "0364b734-8e3d-4b73-9ed2-1219cf9fe837",
   "metadata": {
    "tags": []
   },
   "outputs": [],
   "source": [
    "# #for configs_variable in configs_variables[[0,1,-1]]:\n",
    "# for configs_variable in [configs_variables[i] for i in [1, 0, -1]]:\n",
    "#     site, datafolder, home_directory = utils_function.get_commons(configs_variable)\n",
    "#     print(site)\n",
    "#     try:\n",
    "#         dialysis, pdialysis, vdialysis = count_dialysis(configs_variable)\n",
    "#         print(dialysis, pdialysis, vdialysis)\n",
    "#     except:\n",
    "#         pass"
   ]
  },
  {
   "cell_type": "code",
   "execution_count": null,
   "id": "7285169d-ffe9-4bd2-a8dd-658cd2124649",
   "metadata": {
    "tags": []
   },
   "outputs": [],
   "source": [
    "def count_dialysis(configs_variable):\n",
    "# configs_variable = configs_variables[1]\n",
    "# if True:\n",
    "    site, datafolder, home_directory = utils_function.get_commons(configs_variable)\n",
    "    stg = configs_variable['stg']\n",
    "    fs= configs_variable['fs']\n",
    "    oversample=configs_variable['oversample']\n",
    "    suffix='nc'    \n",
    "\n",
    "    onset = pd.read_parquet(datafolder+site+'/p0_onset_'+site+'.parquet')\n",
    "    covid = pd.read_parquet(datafolder+site+'/p0_covid_status_'+site+'.parquet')\n",
    "    \n",
    "    px = pd.read_parquet(datafolder+site+'/p0_px_'+site+'.parquet')\n",
    "    px['PATID'] = px['PATID'].astype(str)\n",
    "    px['ENCOUNTERID'] = px['ENCOUNTERID'].astype(str)        \n",
    "    px['PX_TYPE'] = px['PX_TYPE'].astype(str)\n",
    "    px = px.drop_duplicates()    \n",
    "\n",
    "    # dx = pd.read_parquet(datafolder+site+'/p0_dx_current_'+site+'.parquet')\n",
    "    lab = pd.read_parquet(datafolder+site+'/p0_lab_'+site+'.parquet')\n",
    "\n",
    "    onset['PATID'] = onset['PATID'].astype(str)\n",
    "    onset['ENCOUNTERID'] = onset['ENCOUNTERID'].astype(str)  \n",
    "    covid['PATID'] = covid['PATID'].astype(str)\n",
    "    covid['ENCOUNTERID'] = covid['ENCOUNTERID'].astype(str)  \n",
    "\n",
    "    lab['PATID'] = lab['PATID'].astype(str)\n",
    "    lab['ENCOUNTERID'] = lab['ENCOUNTERID'].astype(str)  \n",
    "\n",
    "    px['PX'] = px['PX'].astype(str)\n",
    "\n",
    "    dialysis_ch = ('90935','90937', '90940', '90945', '90947', '90989', '90993', '90997', '90999')\n",
    "    dialysis_icd9 = ('39.93','39.95','54.98')\n",
    "    dialysis_icd10 = ('5A1D00Z','5A1D60Z','5A1D70Z','5A1D80Z','5A1D90Z')\n",
    "\n",
    "    dialysis = px[(px['PX_TYPE']=='CH') & (px['PX'].str.startswith(dialysis_ch, na=False)) | (px['PX_TYPE']=='10') & (px['PX'].str.startswith(dialysis_icd10, na=False)) | (px['PX_TYPE']=='09') & (px['PX'].str.startswith(dialysis_icd9, na=False))]\n",
    "\n",
    "    dialysis_first = dialysis[['PATID', 'ONSETS_ENCOUNTERID', 'PX_DATE']].sort_values('PX_DATE').groupby(['PATID', 'ONSETS_ENCOUNTERID']).first().reset_index()\n",
    "    dialysis_first['ONSETS_ENCOUNTERID'] = dialysis_first['ONSETS_ENCOUNTERID'].astype(str)   \n",
    "\n",
    "    dialysis_first = dialysis_first.merge(covid, left_on=['PATID', 'ONSETS_ENCOUNTERID'], right_on=['PATID', 'ENCOUNTERID'], how='left')\n",
    "    dialysis_first = dialysis_first[dialysis_first['BCCOVID']]\n",
    "    dialysis_first = dialysis_first.drop(['BCCOVID'],axis=1)\n",
    "\n",
    "    dialysis_first = dialysis_first.merge(onset, left_on=['PATID', 'ONSETS_ENCOUNTERID'], right_on=['PATID', 'ENCOUNTERID'], how='left')\n",
    "    dialysis_first = dialysis_first[dialysis_first['AKI_STAGE']>0]\n",
    "    dialysis_first = dialysis_first[['PATID', 'ONSETS_ENCOUNTERID', 'PX_DATE']]\n",
    "            \n",
    "    lablonic = {             \"Potassium\":('2823-3', '77142-8', '6298-4'), \n",
    "                             \"pH\":(\"11558-4\", \"97536-7\", \"2744-1\", \"2753-2\"), \n",
    "                             \"BUN\":(\"59570-2\", \"6299-2\", \"3094-0\", \"14937-7\", \"12961-9\")}\n",
    "\n",
    "    lablonic_values = {code for values in lablonic.values() for code in values}\n",
    "\n",
    "    filtered_lab = lab[lab['LAB_PX'].isin(lablonic_values)]\n",
    "\n",
    "    filtered_lab = filtered_lab[filtered_lab['DAYS_SINCE_ADMIT']>=0]\n",
    "    filtered_lab['ONSETS_ENCOUNTERID'] = filtered_lab['ONSETS_ENCOUNTERID'].astype(str)\n",
    "    filtered_lab = dialysis_first.merge(filtered_lab, on=['PATID', 'ONSETS_ENCOUNTERID'], how='left')\n",
    "    filtered_lab = filtered_lab[['PATID', 'ONSETS_ENCOUNTERID', 'PX_DATE', 'SPECIMEN_DATE', 'RESULT_NUM', 'LAB_PX']].groupby(['PATID', 'ONSETS_ENCOUNTERID', 'PX_DATE', 'SPECIMEN_DATE', 'LAB_PX']).mean().reset_index()\n",
    "    filtered_lab = filtered_lab[filtered_lab['PX_DATE']>=filtered_lab['SPECIMEN_DATE']]\n",
    "    filtered_lab = filtered_lab.sort_values('SPECIMEN_DATE', ascending=False).groupby(['PATID', 'ONSETS_ENCOUNTERID', 'LAB_PX']).first().reset_index()\n",
    "\n",
    "    threshold = {'Potassium':6, 'pH':7.5, 'BUN':100.8}\n",
    "\n",
    "    def map_lab_name(lab_px):\n",
    "        for lab_name, codes in lablonic.items():\n",
    "            if lab_px in codes:\n",
    "                return lab_name\n",
    "        return None\n",
    "\n",
    "    filtered_lab = dialysis_first[['PATID', 'ONSETS_ENCOUNTERID']].drop_duplicates().merge(filtered_lab, on = ['PATID', 'ONSETS_ENCOUNTERID'], how='inner')\n",
    "    filtered_lab['LAB_NAME'] = filtered_lab['LAB_PX'].apply(map_lab_name)\n",
    "    filtered_lab = filtered_lab.dropna(subset=['LAB_NAME'])\n",
    "    \n",
    "    pivoted_df = filtered_lab.pivot(index=['PATID', 'ONSETS_ENCOUNTERID'], columns='LAB_NAME', values='RESULT_NUM').reset_index()    \n",
    "    pivoted_df['hyperkalemia'] = pivoted_df['Potassium']>6\n",
    "    pivoted_df['acidosis'] = pivoted_df['pH']<7.15\n",
    "    pivoted_df['uremia'] = pivoted_df['BUN']>=100.8\n",
    "    \n",
    "    pivoted_df = dialysis_first.merge(pivoted_df, on = ['PATID', 'ONSETS_ENCOUNTERID'], how='inner')\n",
    "        \n",
    "    return dialysis_first, pivoted_df\n",
    "        \n",
    "#     for key in ['Potassium', 'pH', 'BUN']:\n",
    "#         filtered_lab2 = filtered_lab[filtered_lab['LAB_PX'].isin(lablonic[key])]\n",
    "#         if key == 'Potassium':\n",
    "#             filtered_lab2 = filtered_lab2[filtered_lab2['RESULT_NUM']<6]\n",
    "#         elif key == 'pH':\n",
    "#             filtered_lab2 = filtered_lab2[filtered_lab2['RESULT_NUM']>7.15]        \n",
    "#         else:\n",
    "#             filtered_lab2 = filtered_lab2[filtered_lab2['RESULT_NUM']<=100.8]\n",
    "            \n",
    "                \n",
    "#         dialysis_first = dialysis_first.merge(filtered_lab2[['PATID', 'ONSETS_ENCOUNTERID']], on = ['PATID', 'ONSETS_ENCOUNTERID'], how='inner')\n",
    "    \n",
    "#     pdialysis = dialysis_first[['PATID', 'ONSETS_ENCOUNTERID']].drop_duplicates().shape[0]\n",
    "       \n",
    "#     return ndialysis, pdialysis, vdialysis"
   ]
  },
  {
   "cell_type": "code",
   "execution_count": null,
   "id": "38d8e7b4-d77e-44f1-8c35-49fe50c8fe09",
   "metadata": {
    "tags": []
   },
   "outputs": [],
   "source": [
    "configs_variable"
   ]
  },
  {
   "cell_type": "code",
   "execution_count": null,
   "id": "962a2369-257b-41f2-97cd-15c85f44ed5a",
   "metadata": {
    "tags": []
   },
   "outputs": [],
   "source": [
    "dialysis_first, dialysis_condition_lab = count_dialysis(configs_variable)"
   ]
  },
  {
   "cell_type": "code",
   "execution_count": null,
   "id": "ebb6832a-84f8-4b15-9124-20b8e13e63a9",
   "metadata": {
    "tags": []
   },
   "outputs": [],
   "source": [
    "dialysis_first"
   ]
  },
  {
   "cell_type": "code",
   "execution_count": null,
   "id": "949d5214-a285-4141-b8c0-e6ff73b4f110",
   "metadata": {
    "tags": []
   },
   "outputs": [],
   "source": [
    "dialysis_condition_lab"
   ]
  },
  {
   "cell_type": "code",
   "execution_count": null,
   "id": "fc9389cc-24bd-400a-ac49-df545c85df94",
   "metadata": {
    "tags": []
   },
   "outputs": [],
   "source": []
  },
  {
   "cell_type": "code",
   "execution_count": null,
   "id": "14906be1-73b7-452a-8398-08ce2c0e15ee",
   "metadata": {
    "tags": []
   },
   "outputs": [],
   "source": []
  },
  {
   "cell_type": "code",
   "execution_count": null,
   "id": "43700eef-23aa-465b-b82c-1568fc8a908a",
   "metadata": {
    "tags": []
   },
   "outputs": [],
   "source": []
  },
  {
   "cell_type": "code",
   "execution_count": null,
   "id": "0cd4e35f-8aaf-4685-9eb7-5688c38591d3",
   "metadata": {
    "tags": []
   },
   "outputs": [],
   "source": []
  },
  {
   "cell_type": "code",
   "execution_count": null,
   "id": "8af050f1-13af-4840-853a-5db0c90cf07c",
   "metadata": {
    "tags": []
   },
   "outputs": [],
   "source": []
  },
  {
   "cell_type": "code",
   "execution_count": null,
   "id": "6eae4c07-4b8c-4ca9-8a97-09dfb3083931",
   "metadata": {
    "tags": []
   },
   "outputs": [],
   "source": []
  },
  {
   "cell_type": "code",
   "execution_count": null,
   "id": "592ffac2-bc6d-453f-91cc-4ad8ab55c8d9",
   "metadata": {
    "tags": []
   },
   "outputs": [],
   "source": []
  },
  {
   "cell_type": "code",
   "execution_count": null,
   "id": "5144eee0-2ca2-4251-b45f-4fcdd230d456",
   "metadata": {
    "tags": []
   },
   "outputs": [],
   "source": [
    "site, datafolder, home_directory = utils_function.get_commons(configs_variables[1])\n",
    "stg = configs_variable['stg']\n",
    "fs= configs_variable['fs']\n",
    "oversample=configs_variable['oversample']\n",
    "suffix='nc'    \n",
    "\n",
    "dx = pd.read_parquet(datafolder+site+'/p0_dx_current_'+site+'.parquet')\n",
    "dx['PATID'] = dx['PATID'].astype(str)\n",
    "dx['ENCOUNTERID'] = dx['ENCOUNTERID'].astype(str)        \n",
    "dx['DX_TYPE'] = dx['DX_TYPE'].astype(str)\n",
    "dx = dx.drop_duplicates()    "
   ]
  },
  {
   "cell_type": "code",
   "execution_count": null,
   "id": "865bfb5d-0be5-4fe3-aa44-42ea8765f093",
   "metadata": {
    "tags": []
   },
   "outputs": [],
   "source": [
    "dx_dx9_range  = {'Pulmonary edema':('514'), \n",
    "                 'Oliguria or anuria':('788.5')\n",
    "                  }              \n",
    "dx_dx10_range  = {'Pulmonary edema':('J81.0','J81.1'), \n",
    "                  'Oliguria or anuria':('R34')\n",
    "                  }        \n",
    "dx9_values = {code for values in dx_dx9_range.values() for code in values}\n",
    "dx10_values = {code for values in dx_dx10_range.values() for code in values}\n",
    "\n",
    "dx['DX_TYPE'] = dx['DX_TYPE'].astype(str)\n",
    "\n",
    "dx = dx[((dx['DX_TYPE']=='10') &  dx['DX'].isin(dx10_values)) | ((dx['DX_TYPE']!='10') &  dx['DX'].isin(dx9_values))]\n",
    "\n",
    "dx['ONSETS_ENCOUNTERID'] = dx['ONSETS_ENCOUNTERID'].astype(str)"
   ]
  },
  {
   "cell_type": "code",
   "execution_count": null,
   "id": "81206ea8-4dd9-484e-9390-97418c4214ac",
   "metadata": {
    "tags": []
   },
   "outputs": [],
   "source": [
    "filtered_dx = dialysis_first[['PATID', 'ONSETS_ENCOUNTERID']].merge(dx, on = ['PATID', 'ONSETS_ENCOUNTERID'], how='left', indicator=True)\n",
    "\n",
    "filtered_dx = filtered_dx[filtered_dx['_merge']=='left_only']"
   ]
  },
  {
   "cell_type": "code",
   "execution_count": null,
   "id": "5ef71995-289a-46cf-b047-aef5b1895af3",
   "metadata": {
    "tags": []
   },
   "outputs": [],
   "source": [
    "filtered_dx"
   ]
  },
  {
   "cell_type": "code",
   "execution_count": null,
   "id": "fec2a02a-7d80-4604-861e-042743dbee7a",
   "metadata": {
    "tags": []
   },
   "outputs": [],
   "source": [
    "dx"
   ]
  },
  {
   "cell_type": "code",
   "execution_count": null,
   "id": "cbfe585d-3b92-4615-94ac-18ad93a24761",
   "metadata": {
    "tags": []
   },
   "outputs": [],
   "source": [
    "dialysis_first2"
   ]
  },
  {
   "cell_type": "code",
   "execution_count": null,
   "id": "107165e7-cb81-4425-ae22-571d754829de",
   "metadata": {},
   "outputs": [],
   "source": []
  }
 ],
 "metadata": {
  "kernelspec": {
   "display_name": "AKI_CDM_PY",
   "language": "python",
   "name": "aki_cdm_py"
  },
  "language_info": {
   "codemirror_mode": {
    "name": "ipython",
    "version": 3
   },
   "file_extension": ".py",
   "mimetype": "text/x-python",
   "name": "python",
   "nbconvert_exporter": "python",
   "pygments_lexer": "ipython3",
   "version": "3.6.15"
  }
 },
 "nbformat": 4,
 "nbformat_minor": 5
}
