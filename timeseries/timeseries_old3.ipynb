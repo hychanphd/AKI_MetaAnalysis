{
 "cells": [
  {
   "cell_type": "code",
   "execution_count": null,
   "id": "c4b1b80f-17f3-4f94-8358-e29e5166e83c",
   "metadata": {},
   "outputs": [],
   "source": [
    "import pandas as pd\n",
    "import numpy as np\n",
    "import itertools\n",
    "from scipy.stats import fisher_exact\n",
    "import shelve\n",
    "import pickle\n",
    "import pandas as pd\n",
    "import numpy as np\n",
    "import sklearn\n",
    "from sklearn.preprocessing import OneHotEncoder\n",
    "from sklearn.impute import SimpleImputer\n",
    "import matplotlib.pyplot as plt\n",
    "from PIL import Image\n",
    "from scipy.interpolate import BSpline, make_interp_spline, interp1d\n",
    "import csv\n",
    "from dfply import *\n",
    "import itertools\n",
    "import os\n",
    "import logging\n",
    "from sys import getsizeof\n",
    "import sklearn\n",
    "import time\n",
    "from sklearn.metrics import roc_auc_score\n",
    "from catboost import Pool, cv\n",
    "import xgboost\n",
    "import catboost\n",
    "import scipy.stats as st\n",
    "\n",
    "import importlib\n",
    "from joblib import Parallel, delayed\n",
    "from joblib import parallel_backend\n",
    "\n",
    "import pandas as pd\n",
    "import numpy as np\n",
    "import matplotlib.pyplot as plt\n",
    "from pandas.plotting import lag_plot\n",
    "#from statsmodels.tsa.vector_ar.var_model import VARY\n",
    "from statsmodels.tsa.stattools import adfuller, kpss, grangercausalitytests, pacf\n",
    "from statsmodels.graphics.tsaplots import plot_pacf\n",
    "import warnings\n",
    "warnings.filterwarnings(\"ignore\")\n",
    "import scipy\n",
    "import datetime\n",
    "\n",
    "from joblib import Parallel, delayed\n",
    "\n",
    "import pyarrow\n",
    "import concurrent.futures"
   ]
  },
  {
   "cell_type": "code",
   "execution_count": null,
   "id": "01a3488f-1050-49a6-84a6-9241d6428baf",
   "metadata": {
    "tags": []
   },
   "outputs": [],
   "source": [
    "import myccm\n",
    "importlib.reload(myccm)"
   ]
  },
  {
   "cell_type": "code",
   "execution_count": null,
   "id": "473b6a8a-02bc-4739-b12e-e6d62327f929",
   "metadata": {
    "tags": []
   },
   "outputs": [],
   "source": [
    "#sites = ['MCRI', 'IUR', 'MCW', 'UIOWA', 'UMHC', 'UNMC', 'UofU', 'UPITT', 'UTHSCSA', 'KUMC', 'UTSW']\n",
    "sites = ['IUR', 'MCW', 'UIOWA', 'UMHC', 'UNMC', 'UofU', 'UPITT', 'UTHSCSA', 'KUMC', 'UTSW']"
   ]
  },
  {
   "cell_type": "code",
   "execution_count": null,
   "id": "55ca6097-59f8-4895-95ee-521b30337b0b",
   "metadata": {
    "tags": []
   },
   "outputs": [],
   "source": [
    "loincs_cofounder_potassium = ['2157-6', #creatine kinase\n",
    "                              '1920-8', #AST      \n",
    "                              '2532-0', #LDH\n",
    "                              '4542-7', #Haptoglobin \n",
    "                              '3084-1'] #uric acid\n",
    "loincs_potassium = ['2823-3', '2160-0']"
   ]
  },
  {
   "cell_type": "code",
   "execution_count": null,
   "id": "10281e42-b9c3-46e7-9f2d-705bc8212acf",
   "metadata": {
    "tags": []
   },
   "outputs": [],
   "source": [
    "import myccm\n",
    "labXs = list()\n",
    "for site in sites:\n",
    "    try:\n",
    "        print(site)\n",
    "        myccmX = myccm.myccm()\n",
    "        myccmX.get_onsetdata(site=site)                \n",
    "        myccmX.get_data(site=site)      \n",
    "        labt = myccmX.labX\n",
    "        labt['site'] = site\n",
    "        labXs.append(labt)\n",
    "    except:\n",
    "       print('not working')\n",
    "    # for loinc1 in loincs_cofounder_potassium:\n",
    "    #     for loinc2 in loincs_potassium:\n",
    "    #         try:\n",
    "    #             generate_data_for_pco(loinc1, loinc2)\n",
    "    #         except:\n",
    "    #             pass"
   ]
  },
  {
   "cell_type": "code",
   "execution_count": null,
   "id": "6a21cfbf-5dd1-4c2d-b0e9-cd3e7d5a6e3a",
   "metadata": {
    "tags": []
   },
   "outputs": [],
   "source": [
    "def process_site(site):\n",
    "    try:\n",
    "        print(site)\n",
    "        myccmX = myccm.myccm()\n",
    "        myccmX.get_onsetdata(site=site)                \n",
    "        myccmX.get_data(site=site)      \n",
    "        labt = myccmX.labX\n",
    "        labt['site'] = site\n",
    "        return labt    \n",
    "    except Exception as e: \n",
    "        print('not working for site:', site, 'Error:', e)\n",
    "\n",
    "def parallel_processing(sites):\n",
    "    labXs = []\n",
    "    with concurrent.futures.ProcessPoolExecutor() as executor:\n",
    "        results = executor.map(process_site, sites)        \n",
    "        for result in results:\n",
    "            labXs.extend(result)\n",
    "    return labXs\n",
    "\n",
    "labXs = parallel_processing(sites)"
   ]
  },
  {
   "cell_type": "code",
   "execution_count": null,
   "id": "18ecf4fd-05fe-4d09-872f-e10d49315e22",
   "metadata": {
    "tags": []
   },
   "outputs": [],
   "source": []
  },
  {
   "cell_type": "code",
   "execution_count": null,
   "id": "3bf65d5c-9442-44bf-8e39-06b180cc52c5",
   "metadata": {
    "tags": []
   },
   "outputs": [],
   "source": []
  },
  {
   "cell_type": "code",
   "execution_count": null,
   "id": "b7fface4-930f-4331-9cc0-28bdb37fa0a2",
   "metadata": {
    "tags": []
   },
   "outputs": [],
   "source": []
  },
  {
   "cell_type": "code",
   "execution_count": null,
   "id": "fa45511f-bba4-486f-846b-529003dff135",
   "metadata": {
    "tags": []
   },
   "outputs": [],
   "source": []
  },
  {
   "cell_type": "code",
   "execution_count": null,
   "id": "d7cc6d2f-36ad-46c1-82ad-701f1133829e",
   "metadata": {
    "tags": []
   },
   "outputs": [],
   "source": [
    "def generate_data_for_pco(loinc1, loinc2, labX):\n",
    "    outputlab = labX[labX['LAB_LOINC'].str.contains('|'.join([loinc1,loinc2])).fillna(False)]\n",
    "\n",
    "    outputlab = outputlab[['ENCOUNTERID','DAYS_SINCE_ADMIT','RESULT_NUM','LAB_LOINC']]\n",
    "\n",
    "    outputlab = outputlab.groupby(['ENCOUNTERID','DAYS_SINCE_ADMIT','LAB_LOINC']).mean().reset_index()\n",
    "\n",
    "    xxx = outputlab.groupby(['ENCOUNTERID','LAB_LOINC'])['DAYS_SINCE_ADMIT'].count().reset_index().pivot(index='ENCOUNTERID', columns='LAB_LOINC', values='DAYS_SINCE_ADMIT').dropna()\n",
    "\n",
    "    xxx = xxx[(xxx[loinc1]>=6)&(xxx[loinc2]>=6)]\n",
    "\n",
    "    outputlab2 = xxx.merge(outputlab, on='ENCOUNTERID', how='left')\n",
    "\n",
    "    xxx2 = outputlab2.groupby(['ENCOUNTERID','LAB_LOINC'])['DAYS_SINCE_ADMIT'].max().reset_index().pivot(index='ENCOUNTERID', columns='LAB_LOINC', values='DAYS_SINCE_ADMIT').dropna()\n",
    "\n",
    "    pltdf = xxx2.groupby(loinc1).count()\n",
    "\n",
    "    outputlab21 = outputlab2[outputlab2['LAB_LOINC']==loinc1]\n",
    "    outputlab22 = outputlab2[outputlab2['LAB_LOINC']==loinc2]\n",
    "\n",
    "    outputlab21 = outputlab21[['ENCOUNTERID','DAYS_SINCE_ADMIT','RESULT_NUM']]\n",
    "    outputlab21 = outputlab21.pivot(index='DAYS_SINCE_ADMIT', columns='ENCOUNTERID', values='RESULT_NUM')\n",
    "    outputlab21 = outputlab21.interpolate(limit_direction='both')\n",
    "    outputlab21 = outputlab21[outputlab21.index<=7]\n",
    "\n",
    "    outputlab22 = outputlab22[['ENCOUNTERID','DAYS_SINCE_ADMIT','RESULT_NUM']]\n",
    "    outputlab22 = outputlab22.pivot(index='DAYS_SINCE_ADMIT', columns='ENCOUNTERID', values='RESULT_NUM')\n",
    "    outputlab22 = outputlab22.interpolate(limit_direction='both')\n",
    "    outputlab22 = outputlab22[outputlab22.index<=7]\n",
    "\n",
    "    datafolder = '/home/hoyinchan/blue/Data/data2021raw/'\n",
    "\n",
    "    outputlab21.columns = outputlab21.columns.astype(str)\n",
    "    outputlab22.columns = outputlab22.columns.astype(str)\n",
    "\n",
    "    outputlab21.to_parquet(datafolder+site+'outputlab'+loinc1+loinc2+'.parquet')\n",
    "    outputlab22.to_parquet(datafolder+site+'outputlab'+loinc2+loinc1+'.parquet')"
   ]
  },
  {
   "cell_type": "code",
   "execution_count": null,
   "id": "8a21e591-ff73-4f9d-8a13-cb6fe31cbcdf",
   "metadata": {},
   "outputs": [],
   "source": []
  }
 ],
 "metadata": {
  "kernelspec": {
   "display_name": "AKI_CDM_PY",
   "language": "python",
   "name": "aki_cdm_py"
  },
  "language_info": {
   "codemirror_mode": {
    "name": "ipython",
    "version": 3
   },
   "file_extension": ".py",
   "mimetype": "text/x-python",
   "name": "python",
   "nbconvert_exporter": "python",
   "pygments_lexer": "ipython3",
   "version": "3.6.15"
  }
 },
 "nbformat": 4,
 "nbformat_minor": 5
}
