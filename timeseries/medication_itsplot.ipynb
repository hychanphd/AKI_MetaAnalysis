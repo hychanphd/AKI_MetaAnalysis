{
 "cells": [
  {
   "cell_type": "code",
   "execution_count": null,
   "id": "007a5429-0a24-42ca-b2f9-2f59f43b5289",
   "metadata": {
    "tags": []
   },
   "outputs": [],
   "source": [
    "import pandas as pd\n",
    "import numpy as np\n",
    "import itertools\n",
    "from scipy.stats import fisher_exact\n",
    "import shelve\n",
    "import pickle\n",
    "import pandas as pd\n",
    "import numpy as np\n",
    "import sklearn\n",
    "from sklearn.preprocessing import OneHotEncoder\n",
    "from sklearn.impute import SimpleImputer\n",
    "import matplotlib.pyplot as plt\n",
    "from PIL import Image\n",
    "from scipy.interpolate import BSpline, make_interp_spline, interp1d\n",
    "import csv\n",
    "from dfply import *\n",
    "import itertools\n",
    "import os\n",
    "import logging\n",
    "from sys import getsizeof\n",
    "import sklearn\n",
    "import time\n",
    "from sklearn.metrics import roc_auc_score\n",
    "from catboost import Pool, cv\n",
    "import xgboost\n",
    "import catboost\n",
    "import scipy.stats as st\n",
    "\n",
    "import importlib\n",
    "from joblib import Parallel, delayed\n",
    "from joblib import parallel_backend\n",
    "\n",
    "import pandas as pd\n",
    "import numpy as np\n",
    "import matplotlib.pyplot as plt\n",
    "from pandas.plotting import lag_plot\n",
    "#from statsmodels.tsa.vector_ar.var_model import VARY\n",
    "from statsmodels.tsa.stattools import adfuller, kpss, grangercausalitytests, pacf\n",
    "from statsmodels.graphics.tsaplots import plot_pacf\n",
    "import warnings\n",
    "warnings.filterwarnings(\"ignore\")\n",
    "import scipy\n",
    "import datetime\n",
    "\n",
    "from joblib import Parallel, delayed\n",
    "\n",
    "import scipy\n",
    "import importlib\n",
    "from itertools import combinations\n",
    "import forestplot as fp\n",
    "import statsmodels.api as sm\n",
    "import pyarrow\n",
    "import concurrent.futures"
   ]
  },
  {
   "cell_type": "code",
   "execution_count": null,
   "id": "78ec49ea-2b11-4e22-8eb4-e61c2998c620",
   "metadata": {
    "tags": []
   },
   "outputs": [],
   "source": [
    "sites = ['UTHSCSA', 'KUMC', 'MCW', 'UMHC', 'UNMC', 'UTSW', 'UofU', 'UPITT', 'IUR', 'UIOWA']"
   ]
  },
  {
   "cell_type": "code",
   "execution_count": null,
   "id": "7baf5408-dee7-47eb-b9b7-a5c0a0c70b76",
   "metadata": {
    "tags": []
   },
   "outputs": [],
   "source": [
    "datafolder = '/home/hoyinchan/blue/Data/data2022/'"
   ]
  },
  {
   "cell_type": "code",
   "execution_count": null,
   "id": "43856d22-3ec7-43bd-9532-fc0a28340ad7",
   "metadata": {
    "tags": []
   },
   "outputs": [],
   "source": [
    "dict_med2 =   {'MED:ATC:A07DA': 'DiphenoxylateLoperamide(LK):A07DA',\n",
    "              'MED:ATC:C03CA': 'FurosemideBumetanideTorsemide(LKLNa):C03CA',\n",
    "              'MED:ATC:C03CB': 'FurosemideBumetanideTorsemide(LKLNa):C03CA',\n",
    "              'MED:ATC:C03EB': 'FurosemideBumetanideTorsemide(LKLNa):C03EB',\n",
    "              'MED:ATC:C03AA': 'hydrochlorothiazide(LNa):C03AA',\n",
    "              'MED:ATC:C03AB': 'hydrochlorothiazide(LNa):C03AB',\n",
    "              'MED:ATC:C03AH': 'chlorothiazide(LNa):C03AH',\n",
    "              'MED:ATC:C03BA': 'chlorthalidone(LNa):C03BA',\n",
    "              'MED:ATC:C03EA': 'hydrochlorothiazide(LNa):C03EA',\n",
    "              'MED:ATC:C09DX': 'SacubitrilValsartan(HK):C09DX',\n",
    "              'MED:ATC:C03DA': 'eplerenone(HK):C03DA',\n",
    "              'MED:ATC:C03XA': 'tolvaptan(LNa):C03XA',\n",
    "              'MED:ATC:C09XA': 'hydrochlorothiazide(LNa):C09XA',\n",
    "              'MED:ATC:C09DX': 'hydrochlorothiazide(LNa):C09DX',\n",
    "              'MED:ATC:C03AX': 'hydrochlorothiazide(LNa):C03AX',\n",
    "              'MED:ATC:C09BX': 'hydrochlorothiazide(LNa):C09BX',\n",
    "              'MED:ATC:M05BA': 'PamidronateZoledronate(HCa):M05BA',\n",
    "              'MED:ATC:M05BB': 'etidronate(HCa):M05BB'}\n",
    "\n",
    "dict_med =   {'MED:ATC:A07DA': 'Antipropulsives(LK):A07DA',\n",
    "              'MED:ATC:C03CA': 'Sulfonamides, plain(LKLNa):C03CA',\n",
    "              'MED:ATC:C03CB': 'Sulfonamides, plain(LKLNa):C03CA',\n",
    "              'MED:ATC:C03EB': 'High-ceiling diuretics and potassium-sparing agents(LKLNa):C03EB',\n",
    "              'MED:ATC:C03AA': 'Thiazides, plain(LNa):C03AA',\n",
    "              'MED:ATC:C03AB': 'Thiazides and potassium in combination(LNa):C03AB',\n",
    "              'MED:ATC:C03AH': 'Thiazides, combinations with psycholeptics and/or analgesics(LNa):C03AH',\n",
    "              'MED:ATC:C03BA': 'Sulfonamides, plain(LNa):C03BA',\n",
    "              'MED:ATC:C03EA': 'Low-ceiling diuretics and potassium-sparing agents(LNa):C03EA',\n",
    "              'MED:ATC:C09DX': 'Angiotensin II receptor blockers (ARBs), other combinations(HK):C09DX',\n",
    "              'MED:ATC:C03DA': 'Aldosterone antagonists(HK):C03DA',\n",
    "              'MED:ATC:C03XA': 'Vasopressin antagonists(LNa):C03XA',\n",
    "              'MED:ATC:C09XA': 'Renin-inhibitors(LNa):C09XA',\n",
    "              'MED:ATC:C09DX': 'Angiotensin II receptor blockers (ARBs), other combinations(LNa):C09DX',\n",
    "              'MED:ATC:C03AX': 'Thiazides, combinations with other drugs(LNa):C03AX',\n",
    "              'MED:ATC:C09BX': 'ACE inhibitors, other combinations(LNa):C09BX',\n",
    "              'MED:ATC:M05BA': 'Bisphosphonates(HCa):M05BA',\n",
    "              'MED:ATC:M05BB': 'Bisphosphonates, combinations(HCa):M05BB'}"
   ]
  },
  {
   "cell_type": "code",
   "execution_count": null,
   "id": "ed3d3704-0c88-411a-85a5-b7a02e779d67",
   "metadata": {
    "tags": []
   },
   "outputs": [],
   "source": [
    "# lab_loinc = {'2823-3':'potassium',\n",
    "#             '17861-6':'calcium',\n",
    "#             '2951-2':'sodium', \n",
    "#             '2160-0':'sCr'}\n",
    "lab_loinc = {'LG49936-4':'potassium',\n",
    "                'LG49864-8':'calcium',\n",
    "                'LG11363-5':'sodium', \n",
    "                'LG6657-3':'sCr'}"
   ]
  },
  {
   "cell_type": "code",
   "execution_count": null,
   "id": "4c06d71f-c54b-4db7-8465-df73213df739",
   "metadata": {
    "tags": []
   },
   "outputs": [],
   "source": [
    "nhanes2d = {}\n",
    "for loinc in list(lab_loinc.keys()):\n",
    "    for med in list(dict_med.keys()):\n",
    "        try:\n",
    "#            nhanes2 = pd.read_parquet(datafolder+''+'xtitsa_result_'+loinc.replace(\"-\",'')+med.replace(\":\",'')+'.parquet')            \n",
    "#            nhanes2 = pd.read_parquet(datafolder+''+'xtitsa_result_no7_'+loinc.replace(\"-\",'')+med.replace(\":\",'')+'.parquet')\n",
    "            nhanes2 = pd.read_parquet(datafolder+''+'xtitsa_result_norslope_'+loinc.replace(\"-\",'')+med.replace(\":\",'')+'.parquet')\n",
    "            nhanes2 = nhanes2.sort_values(['DAYS_SINCE_ADMIT','predict'])\n",
    "            nhanes2['m'] = med\n",
    "            nhanes2['l'] = loinc            \n",
    "            nhanes2d[(med, loinc)] = nhanes2\n",
    "        except Exception as e: \n",
    "            print('not working for site:', loinc, med, 'Error:', e)"
   ]
  },
  {
   "cell_type": "code",
   "execution_count": null,
   "id": "5759ebb5-c098-450e-ab8d-044a45062529",
   "metadata": {
    "jupyter": {
     "outputs_hidden": true
    },
    "tags": []
   },
   "outputs": [],
   "source": [
    "nhanes2d"
   ]
  },
  {
   "cell_type": "code",
   "execution_count": null,
   "id": "a275d802-6b63-45f9-a6d6-dfc5698d0cf3",
   "metadata": {
    "tags": []
   },
   "outputs": [],
   "source": [
    "import matplotlib.pyplot as plt\n",
    "\n",
    "def plot_its_base(dataframes, lab_loinc, dict_med):\n",
    "    \n",
    "    fig, axes = plt.subplots(1, 2, figsize=(15, 5))  # 1x2 grid\n",
    "\n",
    "    for i, (df, ax) in enumerate(zip(dataframes, axes)):\n",
    "        plotdfpre = df[df['posttreatment'] == '0']\n",
    "        plotdfpost = df[df['posttreatment'] == '1']\n",
    "\n",
    "        ax.plot(plotdfpre['DAYS_SINCE_ADMIT'], plotdfpre['predict'], color='blue', label='Pre-treatment')\n",
    "        ax.plot(plotdfpost['DAYS_SINCE_ADMIT'], plotdfpost['predict'], color='red', label='Post-treatment')\n",
    "        \n",
    "        # Add solid dots for data at x=0\n",
    "        if 0 in plotdfpre['DAYS_SINCE_ADMIT'].values:\n",
    "            ax.scatter(0, plotdfpre[plotdfpre['DAYS_SINCE_ADMIT'] == 0]['predict'].iloc[0], color='blue', s=50, zorder=5)\n",
    "        if 0 in plotdfpost['DAYS_SINCE_ADMIT'].values:\n",
    "            ax.scatter(0, plotdfpost[plotdfpost['DAYS_SINCE_ADMIT'] == 0]['predict'].iloc[0], color='red', s=50, zorder=5)\n",
    "\n",
    "        # Add a vertical line at DAYS_SINCE_ADMIT=0\n",
    "        ax.axvline(x=0, color='grey', linestyle='--', label='Treatment Start')\n",
    "\n",
    "        # Set the y-label using the lab_loinc dictionary\n",
    "        loinc_code = plotdfpre['l'].iloc[0]\n",
    "        ylabel = lab_loinc.get(loinc_code, loinc_code)\n",
    "        ax.set_ylabel(ylabel)\n",
    "        \n",
    "        ax.legend(loc='best')\n",
    "        ax.grid(True, which='both', linestyle='--', linewidth=0.5)\n",
    "\n",
    "        ax.set_xlabel('DAYS_SINCE_TREATMENT')\n",
    "\n",
    "        if i == 1:  # index for the right-hand side plot\n",
    "            ax.yaxis.tick_right()\n",
    "            ax.yaxis.set_label_position(\"right\")\n",
    "            \n",
    "    # Use value at [0, 'm'] from plotdfpre as the key to get the suptitle from dict_med\n",
    "    med_key = plotdfpre['m'].iloc[0]\n",
    "    suptitle_text = dict_med.get(med_key, med_key)\n",
    "    plt.suptitle(suptitle_text)\n",
    "\n",
    "    # Adjust the layout for better display\n",
    "    plt.tight_layout()\n",
    "    fig.savefig('xtitsa_plot1_' + ylabel.replace(\"-\", '') + suptitle_text.replace(\":\", '') + '.svg')\n",
    "    plt.show()"
   ]
  },
  {
   "cell_type": "code",
   "execution_count": null,
   "id": "4659ba98-f2c5-4afc-959d-730a25fa4735",
   "metadata": {
    "jupyter": {
     "outputs_hidden": true
    },
    "tags": []
   },
   "outputs": [],
   "source": [
    "#med = 'MED:ATC:A07DA'\n",
    "for med in list(dict_med.keys()):\n",
    "    try:\n",
    "        if 'K)'in dict_med[med]:\n",
    "#            lab_loinc_me = ['2823-3', '2160-0']\n",
    "            lab_loinc_me = ['LG49936-4', 'LG6657-3']\n",
    "        if 'Na)'in dict_med[med]:\n",
    "#            lab_loinc_me = ['2951-2', '2160-0']\n",
    "            lab_loinc_me = ['LG11363-5', 'LG6657-3']\n",
    "        if 'Ca)'in dict_med[med]:\n",
    "#            lab_loinc_me = ['17861-6', '2160-0']     \n",
    "            lab_loinc_me = ['LG49864-8', 'LG6657-3']            \n",
    "        dataframes = [nhanes2d[(med, loinc)] for loinc in lab_loinc_me]\n",
    "        plot_its_base(dataframes, lab_loinc, dict_med)\n",
    "    except Exception as e: \n",
    "        print('not working for site:', loinc, med, 'Error:', e)  "
   ]
  },
  {
   "cell_type": "code",
   "execution_count": null,
   "id": "5d62b756-847b-4c71-afbb-8d5c38d30d87",
   "metadata": {
    "jupyter": {
     "outputs_hidden": true
    },
    "tags": []
   },
   "outputs": [],
   "source": [
    "#med = 'MED:ATC:A07DA'\n",
    "for med in list(dict_med.keys()):\n",
    "    try:\n",
    "        if 'K)'in dict_med[med]:\n",
    "#            lab_loinc_me = ['2823-3', '2160-0']\n",
    "            lab_loinc_me = ['LG49936-4', 'LG6657-3']\n",
    "        if 'Na)'in dict_med[med]:\n",
    "#            lab_loinc_me = ['2951-2', '2160-0']\n",
    "            lab_loinc_me = ['LG11363-5', 'LG6657-3']\n",
    "        if 'Ca)'in dict_med[med]:\n",
    "#            lab_loinc_me = ['17861-6', '2160-0']     \n",
    "            lab_loinc_me = ['LG49864-8', 'LG6657-3']           \n",
    "        dataframes = [nhanes2d[(med, loinc)] for loinc in lab_loinc_me]\n",
    "        plot_its_base(dataframes, lab_loinc, dict_med)\n",
    "    except Exception as e: \n",
    "        print('not working for site:', loinc, med, 'Error:', e)        "
   ]
  },
  {
   "cell_type": "code",
   "execution_count": null,
   "id": "e1a9f567-5701-4282-868b-cc7b42df1eb2",
   "metadata": {
    "tags": []
   },
   "outputs": [],
   "source": [
    "nhanes2a = pd.concat(list(nhanes2d.values()))"
   ]
  },
  {
   "cell_type": "code",
   "execution_count": null,
   "id": "fb6f04ad-9874-45f4-b030-a8eaf3f93abf",
   "metadata": {
    "tags": []
   },
   "outputs": [],
   "source": [
    "nhanes2a"
   ]
  },
  {
   "cell_type": "code",
   "execution_count": null,
   "id": "21a01183-168b-4efa-89f6-d28d4603834e",
   "metadata": {
    "tags": []
   },
   "outputs": [],
   "source": [
    "nhanes2a = nhanes2a[['intercept', 'interceptp', 'slope', 'slopep',\n",
    "       'interceptconfl', 'interceptconfh', 'slopeconfl', 'slopeconfh', 'l',\n",
    "       'm']].drop_duplicates()"
   ]
  },
  {
   "cell_type": "code",
   "execution_count": null,
   "id": "2e75c7b7-17ee-4cc8-8420-57ca45d11aab",
   "metadata": {
    "tags": []
   },
   "outputs": [],
   "source": [
    "def get_loinc_for_med(med):\n",
    "    if 'K)'in dict_med[med]:\n",
    "#            return ['2823-3', '2160-0']\n",
    "       return ['LG49936-4', 'LG6657-3']\n",
    "    if 'Na)'in dict_med[med]:\n",
    "#            return ['2951-2', '2160-0']\n",
    "        return ['LG11363-5', 'LG6657-3']\n",
    "    if 'Ca)'in dict_med[med]:\n",
    "#            return ['17861-6', '2160-0']     \n",
    "        return ['LG49864-8', 'LG6657-3']      \n",
    "    return []\n",
    "\n",
    "filtered_nhanes2a = nhanes2a.loc[nhanes2a.apply(lambda row: row['l'] in get_loinc_for_med(row['m']), axis=1)]"
   ]
  },
  {
   "cell_type": "code",
   "execution_count": null,
   "id": "5da610c0-3bca-430d-b0ce-1dfb573b33f1",
   "metadata": {
    "tags": []
   },
   "outputs": [],
   "source": [
    "filtered_nhanes2a"
   ]
  },
  {
   "cell_type": "code",
   "execution_count": null,
   "id": "852a3221-9c2f-4c26-b3e8-8cb1acca7246",
   "metadata": {
    "tags": []
   },
   "outputs": [],
   "source": [
    "order = {'LG6657-3': 1}\n",
    "filtered_nhanes2a['sort_order'] = filtered_nhanes2a['l'].map(order).fillna(0)"
   ]
  },
  {
   "cell_type": "code",
   "execution_count": null,
   "id": "41c08bb7-d2e3-4a9d-83cb-766214e26bc0",
   "metadata": {
    "tags": []
   },
   "outputs": [],
   "source": [
    "filtered_nhanes2a['m'] = filtered_nhanes2a['m'].map(dict_med).fillna(filtered_nhanes2a['m'])\n",
    "\n",
    "# Replace LOINC code in the 'l' column with its respective name from lab_loinc\n",
    "filtered_nhanes2a['l'] = filtered_nhanes2a['l'].map(lab_loinc).fillna(filtered_nhanes2a['l'])\n",
    "\n",
    "# Sorting to ensure that 'sCr' (which corresponds to '2160-0') is at the bottom of each group\n",
    "filtered_nhanes2a=filtered_nhanes2a.sort_values('sort_order')"
   ]
  },
  {
   "cell_type": "code",
   "execution_count": null,
   "id": "b146e6b0-158a-4f1b-a37f-a7745cfdc10d",
   "metadata": {
    "tags": []
   },
   "outputs": [],
   "source": [
    "# Prepare data for slope forest plot\n",
    "df_slope = filtered_nhanes2a[['l', 'm', 'slope', 'slopeconfl', 'slopeconfh', 'slopep']]\n",
    "df_slope.columns = ['label', 'group', 'r', 'll', 'hl', 'p-val']\n",
    "\n",
    "# Prepare data for intercept forest plot\n",
    "df_intercept = filtered_nhanes2a[['l', 'm', 'intercept', 'interceptconfl', 'interceptconfh', 'interceptp']]\n",
    "df_intercept.columns = ['label', 'group', 'r', 'll', 'hl', 'p-val']"
   ]
  },
  {
   "cell_type": "code",
   "execution_count": null,
   "id": "4799b6da-3c4e-4709-a5ca-b9344a1b82a0",
   "metadata": {
    "tags": []
   },
   "outputs": [],
   "source": [
    "df_slope = df_slope.sort_values('group', ascending=False)\n",
    "df_slope['p-val'] = df_slope['p-val'].round(2)"
   ]
  },
  {
   "cell_type": "code",
   "execution_count": null,
   "id": "8f8a8818-3cc0-4b96-91f1-e9941d5a0ccf",
   "metadata": {
    "tags": []
   },
   "outputs": [],
   "source": [
    "df_slope['formatted_p-val'] = df_slope['p-val'].apply(lambda x: f'{x:.2f}')"
   ]
  },
  {
   "cell_type": "code",
   "execution_count": null,
   "id": "51b1d3a2-8d41-43c8-b3f3-a5cdcfc60eea",
   "metadata": {
    "tags": []
   },
   "outputs": [],
   "source": [
    "gg = list(df_slope['group'].unique())\n",
    "df_slope1 = df_slope[df_slope['group'].isin(gg[1:5]+gg[7:10])]"
   ]
  },
  {
   "cell_type": "code",
   "execution_count": null,
   "id": "c125b391-83ce-4d47-a346-e56cd88563d5",
   "metadata": {
    "tags": []
   },
   "outputs": [],
   "source": [
    "df_slope = df_slope.replace(\n",
    "    'Angiotensin II receptor blockers (ARBs), other combinations(LNa):C09DX',\n",
    "    'Angiotensin II receptor blockers (ARBs)(LNa):C09DX'\n",
    ")"
   ]
  },
  {
   "cell_type": "code",
   "execution_count": null,
   "id": "3b1fd81f-db97-4a25-bd07-2d38cd7e484a",
   "metadata": {
    "tags": []
   },
   "outputs": [],
   "source": [
    "df_slope.to_parquet('forestplot.parquet')"
   ]
  },
  {
   "cell_type": "code",
   "execution_count": null,
   "id": "392612b4-56ec-41c6-94eb-cc42ba0f762c",
   "metadata": {
    "tags": []
   },
   "outputs": [],
   "source": [
    "df_slope"
   ]
  },
  {
   "cell_type": "code",
   "execution_count": null,
   "id": "4a7a054e-676f-46eb-b6a8-ae79ad47b975",
   "metadata": {
    "tags": []
   },
   "outputs": [],
   "source": [
    "# df_slope2 = df_slope[df_slope['group'].isin(gg[5:7])]\n",
    "\n",
    "# def custom_sort_key(x):\n",
    "#     return (x == 'sCr', x)\n",
    "\n",
    "# # Sort the DataFrame with 'sCr' coming last\n",
    "# df_slope1 = df_slope1.sort_values(by='label', key=lambda col: col.map(custom_sort_key)).reset_index(drop=True)\n",
    "# df_slope2 = df_slope2.sort_values(by='label', key=lambda col: col.map(custom_sort_key)).reset_index(drop=True)\n",
    "\n",
    "# df_slope3 = df_slope3.sort_values(by='group')\n",
    "\n",
    "# # Create the data for the table\n",
    "# data = {\n",
    "#     \"label\": [\"sCr\", \"calcium\", \"sCr\", \"potassium\"],\n",
    "#     \"group\": [\n",
    "#         \"A\",\n",
    "#         \"A\",\n",
    "#         \"C\",\n",
    "#         \"C\",\n",
    "#     ],\n",
    "#     \"r\": [0.013939, -0.05, 0.01, 0.02],\n",
    "#     \"ll\": [0.002706, -0.08, 0.00, 0.01],\n",
    "#     \"hl\": [0.015, -0.01, 0.02, 0.03],\n",
    "#     \"p-val\": [0.0, 0.0, 0.0, 0.0],\n",
    "#     \"formatted_p-val\": [\"0.00\", \"0.00\", \"0.00\", \"0.00\"],\n",
    "# }\n",
    "\n",
    "# # Create the DataFrame\n",
    "# df = pd.DataFrame(data)\n",
    "\n",
    "# # Set the index to match the provided table\n",
    "# df.index = [0,1,2,3]\n",
    "\n",
    "# # Creating the forest plots\n",
    "# # For intercept\n",
    "# fp.forestplot(df,\n",
    "#               figsize = (6, 6),\n",
    "#               estimate=\"r\",  \n",
    "#               ll=\"ll\", hl=\"hl\",  \n",
    "#               varlabel=\"label\",  \n",
    "#               capitalize=True,  # Capitalize labels\n",
    "#               groupvar=\"group\",  # Add variable groupings \n",
    "# #              pval=\"p-val\",  # Column of p-value to be reported on right\n",
    "#               color_alt_rows=True,  # Gray alternate rows\n",
    "# #              annote=[],\n",
    "# #              annoteheaders=[],\n",
    "#               annote=[\"est_ci\"],  # columns to report on left of plot\n",
    "#               annoteheaders=[\"Est. (95% Conf. Int.)\"],  # ^corresponding headers\n",
    "#               rightannote=[\"formatted_p-val\"],  # columns to report on right of plot\n",
    "#               right_annoteheaders=[\"P-value\"],  # ^corresponding headers              \n",
    "#               xlabel=\"Slope\",  # x-label title\n",
    "#               table=True,\n",
    "#               **{\"ylabel_size\": 20,\n",
    "#                  \"xtick_size\": 12,}\n",
    "# #                 \"offset\": 1,}  # control size of printed ylabel\n",
    "#               )\n",
    "# plt.savefig(\"intercept_forest1.svg\", bbox_inches=\"tight\")\n",
    "\n",
    "# df\n",
    "\n",
    "# fp.forestplot(df_slope2,\n",
    "#               figsize = (5, 2),\n",
    "#               table=True,\n",
    "#               estimate=\"r\",  \n",
    "#               ll=\"ll\", hl=\"hl\",  \n",
    "#               varlabel=\"label\",  \n",
    "#               capitalize=True,  # Capitalize labels\n",
    "#               groupvar=\"group\",  # Add variable groupings \n",
    "# #              pval=\"p-val\",  # Column of p-value to be reported on right\n",
    "#               color_alt_rows=True,  # Gray alternate rows\n",
    "# #              annote=[],\n",
    "# #              annoteheaders=[],\n",
    "#               annote=[\"est_ci\"],  # columns to report on left of plot\n",
    "#               annoteheaders=[\"Est. (95% Conf. Int.)\"],  # ^corresponding headers\n",
    "#               rightannote=[\"formatted_p-val\"],  # columns to report on right of plot\n",
    "#               right_annoteheaders=[\"P-value\"],  # ^corresponding headers              \n",
    "#               xlabel=\"Slope\",  # x-label title\n",
    "#               **{\"ylabel_size\": 20,\n",
    "#                  \"xtick_size\": 12,}\n",
    "# #                 \"offset\": 1,}  # control size of printed ylabel\n",
    "#               )\n",
    "# plt.savefig(\"intercept_forest2.svg\", bbox_inches=\"tight\")"
   ]
  },
  {
   "cell_type": "code",
   "execution_count": null,
   "id": "6498c4c8-d49d-4d45-ad4d-bddce529921f",
   "metadata": {},
   "outputs": [],
   "source": []
  }
 ],
 "metadata": {
  "kernelspec": {
   "display_name": "AKI_timeseries",
   "language": "python",
   "name": "aki_timeseries"
  },
  "language_info": {
   "codemirror_mode": {
    "name": "ipython",
    "version": 3
   },
   "file_extension": ".py",
   "mimetype": "text/x-python",
   "name": "python",
   "nbconvert_exporter": "python",
   "pygments_lexer": "ipython3",
   "version": "3.11.3"
  }
 },
 "nbformat": 4,
 "nbformat_minor": 5
}
