{
 "cells": [
  {
   "cell_type": "code",
   "execution_count": null,
   "id": "d90d96c6-0d1f-49d3-a4ab-9b1fa4be32cf",
   "metadata": {
    "jupyter": {
     "outputs_hidden": true
    },
    "tags": []
   },
   "outputs": [],
   "source": [
    "Packages <- c(\"lmerTest\", \"arrow\", \"mgcv\", \"dplyr\" , \"effects\")\n",
    "invisible(lapply(Packages, library, character.only = TRUE))"
   ]
  },
  {
   "cell_type": "code",
   "execution_count": null,
   "id": "2d462a4e-8228-43fa-b560-88da848acc4d",
   "metadata": {
    "tags": []
   },
   "outputs": [],
   "source": [
    "packageVersion(\"rlang\")"
   ]
  },
  {
   "cell_type": "code",
   "execution_count": null,
   "id": "fdc6c043-1f3e-4791-b9d3-018c3a359280",
   "metadata": {
    "tags": []
   },
   "outputs": [],
   "source": [
    "datafolder <- '/home/hoyinchan/blue/Data/data2022/'"
   ]
  },
  {
   "cell_type": "code",
   "execution_count": null,
   "id": "1012d757-e930-4751-aae3-0ba9e123544e",
   "metadata": {
    "tags": []
   },
   "outputs": [],
   "source": [
    "meds <- c('MEDATCA07DA',\n",
    " 'MEDATCC03CA',\n",
    " 'MEDATCC03CB',\n",
    " 'MEDATCC03EB',\n",
    " 'MEDATCC03AA',\n",
    " 'MEDATCC03AB',\n",
    " 'MEDATCC03AH',\n",
    " 'MEDATCC03BA',\n",
    " 'MEDATCC03EA',\n",
    " 'MEDATCC09DX',\n",
    " 'MEDATCC03DA',\n",
    " 'MEDATCC03XA',\n",
    " 'MEDATCC09XA',\n",
    " 'MEDATCC03AX',\n",
    " 'MEDATCC09BX',\n",
    " 'MEDATCM05BA',\n",
    " 'MEDATCM05BB')"
   ]
  },
  {
   "cell_type": "code",
   "execution_count": null,
   "id": "8344cecf-6702-440d-8977-365d7ef8ba19",
   "metadata": {
    "tags": []
   },
   "outputs": [],
   "source": [
    "#loincs <- c('28233', '178616', '29512', '21600')\n",
    "# lab_loinc = {'2823-3':'potassium',\n",
    "#             '17861-6':'calcium',\n",
    "#             '2951-2':'sodium', \n",
    "#             '2160-0':'sCr'}\n",
    "\n",
    "\n",
    "loincs <- c('LG49936-4', 'LG49864-8', 'LG11363-5', 'LG6657-3')\n",
    "# lab_loinc = {'LG49936-4':'potassium',\n",
    "#                 'LG49864-8':'calcium',\n",
    "#                 'LG11363-5':'sodium', \n",
    "#                 'LG6657-3':'sCr'}\n",
    "\n",
    "loincs <- gsub(\"-\", \"\", loincs)"
   ]
  },
  {
   "cell_type": "code",
   "execution_count": null,
   "id": "4522abef-9ce8-4578-ab8a-d1ba4b85a847",
   "metadata": {
    "tags": []
   },
   "outputs": [],
   "source": [
    "for (m in meds){\n",
    "    for (l in loincs){\n",
    "        tryCatch({\n",
    "            path1 = paste0(datafolder,'xtitsa_',l,m,'.parquet')\n",
    "            if (!file.exists(path1)) {\n",
    "                cat(path1, \"do not exists\")\n",
    "                next\n",
    "            }\n",
    "            \n",
    "            df <- arrow::read_parquet(path1)\n",
    "            df <- df %>% filter(DAYS_SINCE_ADMIT>=-7) %>% filter(DAYS_SINCE_ADMIT<=7)\n",
    "            df$posttreatment <- as.factor(df$posttreatment)\n",
    "#            x <- glm(RESULT_NUM ~  (1|ID) + posttreatment*DAYS_SINCE_ADMIT, data=df)\n",
    "            x <- lmer(RESULT_NUM ~  (1|ID) + (0 + DAYS_SINCE_ADMIT|ID) + posttreatment*DAYS_SINCE_ADMIT, data=df, REML = FALSE,                       \n",
    "                      control = lmerControl(optimizer ='optimx', optCtrl=list(method='L-BFGS-B')))\n",
    "            \n",
    "            # x <- lmer(RESULT_NUM ~  (1|ID) + posttreatment*DAYS_SINCE_ADMIT, data=df, REML = FALSE,                       \n",
    "            #           control = lmerControl(optimizer ='optimx', optCtrl=list(method='L-BFGS-B')))            \n",
    "            print(paste(m, l, signif(fixef(x)[['posttreatment1']], digits = 2), coef(summary(x))['posttreatment1', 'Pr(>|t|)'], coef(summary(x))['posttreatment1', 'Pr(>|t|)']<0.05))\n",
    "            print(paste(m, l, signif(fixef(x)[['posttreatment1:DAYS_SINCE_ADMIT']], digits = 2), coef(summary(x))['posttreatment1:DAYS_SINCE_ADMIT', 'Pr(>|t|)'], coef(summary(x))['posttreatment1:DAYS_SINCE_ADMIT', 'Pr(>|t|)']<0.05))\n",
    "            flush.console()\n",
    "            confx<-confint(x, method=\"Wald\")\n",
    "            df$predict <- predict(x, newdata = df, type = \"response\", re.form = NA)\n",
    "            df$intercept <- fixef(x)[['posttreatment1']]\n",
    "            df$interceptp <- coef(summary(x))['posttreatment1', 'Pr(>|t|)']\n",
    "            df$slope <- fixef(x)[['posttreatment1:DAYS_SINCE_ADMIT']]\n",
    "            df$slopep <- coef(summary(x))['posttreatment1:DAYS_SINCE_ADMIT', 'Pr(>|t|)']             \n",
    "            df$interceptconfl <- confx['posttreatment1','2.5 %']\n",
    "            df$interceptconfh <- confx['posttreatment1','97.5 %']\n",
    "            df$slopeconfl <- confx['posttreatment1:DAYS_SINCE_ADMIT','2.5 %']\n",
    "            df$slopeconfh <- confx['posttreatment1:DAYS_SINCE_ADMIT','97.5 %']            \n",
    "            df$l <- l\n",
    "            df$m <- m\n",
    "#            path2 = paste0(datafolder,'xtitsa_result_',l,m,'.parquet')            \n",
    "            path2 = paste0(datafolder,'xtitsa_result_norslope_',l,m,'.parquet')\n",
    "            arrow::write_parquet(df, path2)\n",
    "                },                 \n",
    "#            print(paste(m, l, signif(fixef(x)[['posttreatment:DAYS_SINCE_ADMIT']], digits = 2)))},            \n",
    "#        warning = function(w){},\n",
    "        error = function(e) {print(paste(m, l, e))})\n",
    "    }\n",
    "}"
   ]
  },
  {
   "cell_type": "code",
   "execution_count": null,
   "id": "8fe1a6cc-7590-4b19-8d90-de969735d87f",
   "metadata": {
    "tags": []
   },
   "outputs": [],
   "source": []
  },
  {
   "cell_type": "code",
   "execution_count": null,
   "id": "69a0e26f-c7f2-4fae-a88b-3bade015e912",
   "metadata": {
    "tags": []
   },
   "outputs": [],
   "source": []
  },
  {
   "cell_type": "code",
   "execution_count": null,
   "id": "6a8f45a1-fc99-46ee-9cf5-604acae2543e",
   "metadata": {
    "tags": []
   },
   "outputs": [],
   "source": [
    "print('done')"
   ]
  },
  {
   "cell_type": "code",
   "execution_count": null,
   "id": "c712dd46-72b2-4f4b-8552-827ee62e954b",
   "metadata": {
    "tags": []
   },
   "outputs": [],
   "source": []
  },
  {
   "cell_type": "code",
   "execution_count": null,
   "id": "9ba2fc3a-8e8c-4682-a68c-37feb7383cb5",
   "metadata": {
    "tags": []
   },
   "outputs": [],
   "source": []
  },
  {
   "cell_type": "code",
   "execution_count": null,
   "id": "8887ffae-a729-4cb6-b5b4-a5aaf3c7689a",
   "metadata": {
    "tags": []
   },
   "outputs": [],
   "source": []
  },
  {
   "cell_type": "code",
   "execution_count": null,
   "id": "e7859292-43bc-4f8c-9b8d-02324e8f0379",
   "metadata": {
    "tags": []
   },
   "outputs": [],
   "source": [
    "# l <- '21600'\n",
    "# m <- 'MEDATCA07DA'\n",
    "\n",
    "# path1 = paste0(datafolder,'xtitsa_',l,m,'.parquet')\n",
    "# df <- arrow::read_parquet(path1)\n",
    "# df <- df %>% filter(DAYS_SINCE_ADMIT>=-7) %>% filter(DAYS_SINCE_ADMIT<=7)\n",
    "# df$posttreatment <- as.factor(df$posttreatment)\n",
    "# #            x <- glm(RESULT_NUM ~  (1|ID) + posttreatment*DAYS_SINCE_ADMIT, data=df)\n",
    "# x <- lmer(RESULT_NUM ~  (1|ID) + (0 + DAYS_SINCE_ADMIT|ID) + posttreatment*DAYS_SINCE_ADMIT, data=df, REML = FALSE,                       \n",
    "#           control = lmerControl(optimizer ='optimx', optCtrl=list(method='L-BFGS-B')))"
   ]
  },
  {
   "cell_type": "code",
   "execution_count": null,
   "id": "fcf9c1f5-f828-4d07-937b-ea9a1b9fbdfe",
   "metadata": {
    "tags": []
   },
   "outputs": [],
   "source": [
    "# x"
   ]
  },
  {
   "cell_type": "code",
   "execution_count": null,
   "id": "64faa4c7-8548-4dad-8e2c-e3fac6ce54ad",
   "metadata": {
    "jupyter": {
     "outputs_hidden": true
    },
    "tags": []
   },
   "outputs": [],
   "source": [
    "# coef(x)$ID"
   ]
  },
  {
   "cell_type": "code",
   "execution_count": null,
   "id": "5a9225b3-b034-428e-af1c-838f5d2452c9",
   "metadata": {
    "tags": []
   },
   "outputs": [],
   "source": [
    "# summary(x)"
   ]
  },
  {
   "cell_type": "code",
   "execution_count": null,
   "id": "8cfb8c2a-0503-43ca-ae18-6ab2a9a236bd",
   "metadata": {
    "jupyter": {
     "outputs_hidden": true
    },
    "tags": []
   },
   "outputs": [],
   "source": [
    "# confint(x, method=\"Wald\")"
   ]
  },
  {
   "cell_type": "code",
   "execution_count": null,
   "id": "1a8b2c65-530a-479e-b597-dc6b6ebfacc8",
   "metadata": {},
   "outputs": [],
   "source": []
  }
 ],
 "metadata": {
  "kernelspec": {
   "display_name": "AKI_CDM_R",
   "language": "R",
   "name": "ir"
  },
  "language_info": {
   "codemirror_mode": "r",
   "file_extension": ".r",
   "mimetype": "text/x-r-source",
   "name": "R",
   "pygments_lexer": "r",
   "version": "4.1.3"
  }
 },
 "nbformat": 4,
 "nbformat_minor": 5
}
