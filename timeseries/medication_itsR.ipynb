{
 "cells": [
  {
   "cell_type": "code",
   "execution_count": 1,
   "id": "d90d96c6-0d1f-49d3-a4ab-9b1fa4be32cf",
   "metadata": {
    "collapsed": true,
    "jupyter": {
     "outputs_hidden": true
    },
    "tags": []
   },
   "outputs": [
    {
     "name": "stderr",
     "output_type": "stream",
     "text": [
      "Loading required package: lme4\n",
      "\n",
      "Loading required package: Matrix\n",
      "\n",
      "\n",
      "Attaching package: ‘lmerTest’\n",
      "\n",
      "\n",
      "The following object is masked from ‘package:lme4’:\n",
      "\n",
      "    lmer\n",
      "\n",
      "\n",
      "The following object is masked from ‘package:stats’:\n",
      "\n",
      "    step\n",
      "\n",
      "\n",
      "\n",
      "Attaching package: ‘arrow’\n",
      "\n",
      "\n",
      "The following object is masked from ‘package:utils’:\n",
      "\n",
      "    timestamp\n",
      "\n",
      "\n",
      "Loading required package: nlme\n",
      "\n",
      "\n",
      "Attaching package: ‘nlme’\n",
      "\n",
      "\n",
      "The following object is masked from ‘package:lme4’:\n",
      "\n",
      "    lmList\n",
      "\n",
      "\n",
      "This is mgcv 1.9-0. For overview type 'help(\"mgcv-package\")'.\n",
      "\n",
      "\n",
      "Attaching package: ‘dplyr’\n",
      "\n",
      "\n",
      "The following object is masked from ‘package:nlme’:\n",
      "\n",
      "    collapse\n",
      "\n",
      "\n",
      "The following objects are masked from ‘package:stats’:\n",
      "\n",
      "    filter, lag\n",
      "\n",
      "\n",
      "The following objects are masked from ‘package:base’:\n",
      "\n",
      "    intersect, setdiff, setequal, union\n",
      "\n",
      "\n",
      "Loading required package: carData\n",
      "\n",
      "lattice theme set by effectsTheme()\n",
      "See ?effectsTheme for details.\n",
      "\n"
     ]
    }
   ],
   "source": [
    "Packages <- c(\"lmerTest\", \"arrow\", \"mgcv\", \"dplyr\" , \"effects\")\n",
    "invisible(lapply(Packages, library, character.only = TRUE))"
   ]
  },
  {
   "cell_type": "code",
   "execution_count": 2,
   "id": "2d462a4e-8228-43fa-b560-88da848acc4d",
   "metadata": {
    "tags": []
   },
   "outputs": [
    {
     "data": {
      "text/plain": [
       "[1] ‘1.1.1’"
      ]
     },
     "metadata": {},
     "output_type": "display_data"
    }
   ],
   "source": [
    "packageVersion(\"rlang\")"
   ]
  },
  {
   "cell_type": "code",
   "execution_count": 3,
   "id": "fdc6c043-1f3e-4791-b9d3-018c3a359280",
   "metadata": {
    "tags": []
   },
   "outputs": [],
   "source": [
    "datafolder <- '/home/hoyinchan/blue/Data/data2022/'"
   ]
  },
  {
   "cell_type": "code",
   "execution_count": 4,
   "id": "1012d757-e930-4751-aae3-0ba9e123544e",
   "metadata": {
    "tags": []
   },
   "outputs": [],
   "source": [
    "meds <- c('MEDATCA07DA',\n",
    " 'MEDATCC03CA',\n",
    " 'MEDATCC03CB',\n",
    " 'MEDATCC03EB',\n",
    " 'MEDATCC03AA',\n",
    " 'MEDATCC03AB',\n",
    " 'MEDATCC03AH',\n",
    " 'MEDATCC03BA',\n",
    " 'MEDATCC03EA',\n",
    " 'MEDATCC09DX',\n",
    " 'MEDATCC03DA',\n",
    " 'MEDATCC03XA',\n",
    " 'MEDATCC09XA',\n",
    " 'MEDATCC03AX',\n",
    " 'MEDATCC09BX',\n",
    " 'MEDATCM05BA',\n",
    " 'MEDATCM05BB')"
   ]
  },
  {
   "cell_type": "code",
   "execution_count": 5,
   "id": "8344cecf-6702-440d-8977-365d7ef8ba19",
   "metadata": {
    "tags": []
   },
   "outputs": [],
   "source": [
    "#loincs <- c('28233', '178616', '29512', '21600')\n",
    "# lab_loinc = {'2823-3':'potassium',\n",
    "#             '17861-6':'calcium',\n",
    "#             '2951-2':'sodium', \n",
    "#             '2160-0':'sCr'}\n",
    "\n",
    "\n",
    "loincs <- c('LG49936-4', 'LG49864-8', 'LG11363-5', 'LG6657-3')\n",
    "# lab_loinc = {'LG49936-4':'potassium',\n",
    "#                 'LG49864-8':'calcium',\n",
    "#                 'LG11363-5':'sodium', \n",
    "#                 'LG6657-3':'sCr'}\n",
    "\n",
    "loincs <- gsub(\"-\", \"\", loincs)"
   ]
  },
  {
   "cell_type": "code",
   "execution_count": 6,
   "id": "4522abef-9ce8-4578-ab8a-d1ba4b85a847",
   "metadata": {
    "tags": []
   },
   "outputs": [
    {
     "name": "stderr",
     "output_type": "stream",
     "text": [
      "Loading required namespace: optimx\n",
      "\n",
      "Warning message in checkConv(attr(opt, \"derivs\"), opt$par, ctrl = control$checkConv, :\n",
      "“Model failed to converge with max|grad| = 0.00605717 (tol = 0.002, component 1)”\n"
     ]
    },
    {
     "name": "stdout",
     "output_type": "stream",
     "text": [
      "[1] \"MEDATCA07DA LG499364 0.017 9.22340403782062e-08 TRUE\"\n",
      "[1] \"MEDATCA07DA LG499364 0.017 5.44461588213939e-65 TRUE\"\n",
      "[1] \"MEDATCA07DA LG498648 0.001 0.759985797063547 FALSE\"\n",
      "[1] \"MEDATCA07DA LG498648 0.042 5.25836444077053e-301 TRUE\"\n",
      "[1] \"MEDATCA07DA LG113635 0.18 2.10281122045866e-20 TRUE\"\n",
      "[1] \"MEDATCA07DA LG113635 0.039 2.55461231627529e-09 TRUE\"\n",
      "[1] \"MEDATCA07DA LG66573 0.0031 0.00173718002174601 TRUE\"\n",
      "[1] \"MEDATCA07DA LG66573 0.012 4.76694960984174e-286 TRUE\"\n"
     ]
    },
    {
     "name": "stderr",
     "output_type": "stream",
     "text": [
      "Warning message in checkConv(attr(opt, \"derivs\"), opt$par, ctrl = control$checkConv, :\n",
      "“Model is nearly unidentifiable: very large eigenvalue\n",
      " - Rescale variables?”\n"
     ]
    },
    {
     "name": "stdout",
     "output_type": "stream",
     "text": [
      "[1] \"MEDATCC03CA LG499364 -0.031 9.15423106447988e-79 TRUE\"\n",
      "[1] \"MEDATCC03CA LG499364 0.0025 0.00023143123164548 TRUE\"\n"
     ]
    },
    {
     "name": "stderr",
     "output_type": "stream",
     "text": [
      "Warning message in checkConv(attr(opt, \"derivs\"), opt$par, ctrl = control$checkConv, :\n",
      "“Model failed to converge with max|grad| = 0.00212592 (tol = 0.002, component 1)”\n",
      "Warning message in checkConv(attr(opt, \"derivs\"), opt$par, ctrl = control$checkConv, :\n",
      "“Model is nearly unidentifiable: very large eigenvalue\n",
      " - Rescale variables?”\n"
     ]
    },
    {
     "name": "stdout",
     "output_type": "stream",
     "text": [
      "[1] \"MEDATCC03CA LG498648 0.079 0 TRUE\"\n",
      "[1] \"MEDATCC03CA LG498648 0.1 0 TRUE\"\n"
     ]
    },
    {
     "name": "stderr",
     "output_type": "stream",
     "text": [
      "Warning message in checkConv(attr(opt, \"derivs\"), opt$par, ctrl = control$checkConv, :\n",
      "“Model is nearly unidentifiable: very large eigenvalue\n",
      " - Rescale variables?”\n"
     ]
    },
    {
     "name": "stdout",
     "output_type": "stream",
     "text": [
      "[1] \"MEDATCC03CA LG113635 -0.42 0 TRUE\"\n",
      "[1] \"MEDATCC03CA LG113635 -0.29 0 TRUE\"\n"
     ]
    },
    {
     "name": "stderr",
     "output_type": "stream",
     "text": [
      "Warning message in checkConv(attr(opt, \"derivs\"), opt$par, ctrl = control$checkConv, :\n",
      "“Model failed to converge with max|grad| = 0.00392246 (tol = 0.002, component 1)”\n",
      "Warning message in checkConv(attr(opt, \"derivs\"), opt$par, ctrl = control$checkConv, :\n",
      "“Model is nearly unidentifiable: very large eigenvalue\n",
      " - Rescale variables?”\n"
     ]
    },
    {
     "name": "stdout",
     "output_type": "stream",
     "text": [
      "[1] \"MEDATCC03CA LG66573 0.0096 2.24803108170315e-22 TRUE\"\n",
      "[1] \"MEDATCC03CA LG66573 0.011 6.96301637184235e-181 TRUE\"\n",
      "/home/hoyinchan/blue/Data/data2022/xtitsa_LG499364MEDATCC03CB.parquet do not exists/home/hoyinchan/blue/Data/data2022/xtitsa_LG498648MEDATCC03CB.parquet do not exists/home/hoyinchan/blue/Data/data2022/xtitsa_LG113635MEDATCC03CB.parquet do not exists/home/hoyinchan/blue/Data/data2022/xtitsa_LG66573MEDATCC03CB.parquet do not exists/home/hoyinchan/blue/Data/data2022/xtitsa_LG499364MEDATCC03EB.parquet do not exists/home/hoyinchan/blue/Data/data2022/xtitsa_LG498648MEDATCC03EB.parquet do not exists/home/hoyinchan/blue/Data/data2022/xtitsa_LG113635MEDATCC03EB.parquet do not exists/home/hoyinchan/blue/Data/data2022/xtitsa_LG66573MEDATCC03EB.parquet do not exists[1] \"MEDATCC03AA LG499364 -0.0093 0.00463981802166155 TRUE\"\n",
      "[1] \"MEDATCC03AA LG499364 0.0073 1.86341427366264e-06 TRUE\"\n"
     ]
    },
    {
     "name": "stderr",
     "output_type": "stream",
     "text": [
      "Warning message in checkConv(attr(opt, \"derivs\"), opt$par, ctrl = control$checkConv, :\n",
      "“Model failed to converge with max|grad| = 0.0054858 (tol = 0.002, component 1)”\n"
     ]
    },
    {
     "name": "stdout",
     "output_type": "stream",
     "text": [
      "[1] \"MEDATCC03AA LG498648 -0.053 4.4830543746768e-50 TRUE\"\n",
      "[1] \"MEDATCC03AA LG498648 0.078 0 TRUE\"\n",
      "[1] \"MEDATCC03AA LG113635 -0.4 4.06541511228867e-84 TRUE\"\n",
      "[1] \"MEDATCC03AA LG113635 -0.22 6.5692000078448e-98 TRUE\"\n"
     ]
    },
    {
     "name": "stderr",
     "output_type": "stream",
     "text": [
      "Warning message in checkConv(attr(opt, \"derivs\"), opt$par, ctrl = control$checkConv, :\n",
      "“Model is nearly unidentifiable: very large eigenvalue\n",
      " - Rescale variables?”\n"
     ]
    },
    {
     "name": "stdout",
     "output_type": "stream",
     "text": [
      "[1] \"MEDATCC03AA LG66573 0.0068 0.0807406211866816 FALSE\"\n",
      "[1] \"MEDATCC03AA LG66573 0.0059 0.000318216189708684 TRUE\"\n",
      "/home/hoyinchan/blue/Data/data2022/xtitsa_LG499364MEDATCC03AB.parquet do not exists/home/hoyinchan/blue/Data/data2022/xtitsa_LG498648MEDATCC03AB.parquet do not exists/home/hoyinchan/blue/Data/data2022/xtitsa_LG113635MEDATCC03AB.parquet do not exists/home/hoyinchan/blue/Data/data2022/xtitsa_LG66573MEDATCC03AB.parquet do not exists/home/hoyinchan/blue/Data/data2022/xtitsa_LG499364MEDATCC03AH.parquet do not exists/home/hoyinchan/blue/Data/data2022/xtitsa_LG498648MEDATCC03AH.parquet do not exists/home/hoyinchan/blue/Data/data2022/xtitsa_LG113635MEDATCC03AH.parquet do not exists/home/hoyinchan/blue/Data/data2022/xtitsa_LG66573MEDATCC03AH.parquet do not exists"
     ]
    },
    {
     "name": "stderr",
     "output_type": "stream",
     "text": [
      "Warning message in checkConv(attr(opt, \"derivs\"), opt$par, ctrl = control$checkConv, :\n",
      "“Model failed to converge with max|grad| = 0.00713431 (tol = 0.002, component 1)”\n"
     ]
    },
    {
     "name": "stdout",
     "output_type": "stream",
     "text": [
      "[1] \"MEDATCC03BA LG499364 -0.077 7.81973708526893e-40 TRUE\"\n",
      "[1] \"MEDATCC03BA LG499364 0.029 1.33175298878123e-34 TRUE\"\n",
      "[1] \"MEDATCC03BA LG498648 0.091 8.9257787993449e-75 TRUE\"\n",
      "[1] \"MEDATCC03BA LG498648 0.054 6.09101337462531e-143 TRUE\"\n",
      "[1] \"MEDATCC03BA LG113635 -0.45 1.71414970939021e-46 TRUE\"\n",
      "[1] \"MEDATCC03BA LG113635 -0.16 1.95658757137194e-32 TRUE\"\n",
      "[1] \"MEDATCC03BA LG66573 0.042 8.96882879705052e-72 TRUE\"\n",
      "[1] \"MEDATCC03BA LG66573 0.015 5.79517774478504e-50 TRUE\"\n",
      "/home/hoyinchan/blue/Data/data2022/xtitsa_LG499364MEDATCC03EA.parquet do not exists/home/hoyinchan/blue/Data/data2022/xtitsa_LG498648MEDATCC03EA.parquet do not exists/home/hoyinchan/blue/Data/data2022/xtitsa_LG113635MEDATCC03EA.parquet do not exists/home/hoyinchan/blue/Data/data2022/xtitsa_LG66573MEDATCC03EA.parquet do not exists[1] \"MEDATCC09DX LG499364 -0.0068 0.684440517214448 FALSE\"\n",
      "[1] \"MEDATCC09DX LG499364 0.037 2.48218580502776e-06 TRUE\"\n",
      "[1] \"MEDATCC09DX LG498648 -0.065 1.90834845205847e-05 TRUE\"\n",
      "[1] \"MEDATCC09DX LG498648 0.0091 0.236703497961266 FALSE\"\n",
      "[1] \"MEDATCC09DX LG113635 0.11 0.242308816952235 FALSE\"\n",
      "[1] \"MEDATCC09DX LG113635 -0.03 0.527298193001568 FALSE\"\n",
      "[1] \"MEDATCC09DX LG66573 0.0082 0.129611646607544 FALSE\"\n",
      "[1] \"MEDATCC09DX LG66573 0.025 7.85209853019774e-18 TRUE\"\n",
      "[1] \"MEDATCC03DA LG499364 0.028 1.89502022249743e-17 TRUE\"\n",
      "[1] \"MEDATCC03DA LG499364 0.049 4.45444285543946e-217 TRUE\"\n",
      "[1] \"MEDATCC03DA LG498648 -0.052 5.082452133276e-64 TRUE\"\n",
      "[1] \"MEDATCC03DA LG498648 0.052 8.69848428782173e-253 TRUE\"\n"
     ]
    },
    {
     "name": "stderr",
     "output_type": "stream",
     "text": [
      "Warning message in checkConv(attr(opt, \"derivs\"), opt$par, ctrl = control$checkConv, :\n",
      "“Model failed to converge with max|grad| = 0.00306662 (tol = 0.002, component 1)”\n"
     ]
    },
    {
     "name": "stdout",
     "output_type": "stream",
     "text": [
      "[1] \"MEDATCC03DA LG113635 -0.24 2.73244080352777e-36 TRUE\"\n",
      "[1] \"MEDATCC03DA LG113635 -0.29 1.27269265935827e-201 TRUE\"\n",
      "[1] \"MEDATCC03DA LG66573 0.0094 3.25208936305268e-12 TRUE\"\n",
      "[1] \"MEDATCC03DA LG66573 0.022 2.62728238831315e-240 TRUE\"\n",
      "[1] \"MEDATCC03XA LG499364 -0.025 0.287579169824201 FALSE\"\n",
      "[1] \"MEDATCC03XA LG499364 -0.049 2.77309663483304e-08 TRUE\"\n",
      "[1] \"MEDATCC03XA LG498648 0.25 2.05611559988481e-33 TRUE\"\n",
      "[1] \"MEDATCC03XA LG498648 0.091 8.0134350938883e-30 TRUE\"\n",
      "[1] \"MEDATCC03XA LG113635 2.1 3.25517470206708e-33 TRUE\"\n",
      "[1] \"MEDATCC03XA LG113635 1.8 1.51412332432177e-144 TRUE\"\n",
      "[1] \"MEDATCC03XA LG66573 0.056 1.36255606085376e-17 TRUE\"\n",
      "[1] \"MEDATCC03XA LG66573 0.0063 0.0138485761714209 TRUE\"\n",
      "[1] \"MEDATCC09XA LG499364 -0.12 0.036985441391702 TRUE\"\n",
      "[1] \"MEDATCC09XA LG499364 -0.057 0.145785141584169 FALSE\"\n",
      "[1] \"MEDATCC09XA LG498648 -0.28 2.13264303682701e-05 TRUE\"\n",
      "[1] \"MEDATCC09XA LG498648 0.0074 0.872582683789654 FALSE\"\n",
      "[1] \"MEDATCC09XA LG113635 -0.044 0.897109247994976 FALSE\"\n",
      "[1] \"MEDATCC09XA LG113635 -0.11 0.657771578067936 FALSE\"\n",
      "[1] \"MEDATCC09XA LG66573 -0.044 0.0180864090348199 TRUE\"\n",
      "[1] \"MEDATCC09XA LG66573 -0.017 0.195183573466482 FALSE\"\n",
      "/home/hoyinchan/blue/Data/data2022/xtitsa_LG499364MEDATCC03AX.parquet do not exists/home/hoyinchan/blue/Data/data2022/xtitsa_LG498648MEDATCC03AX.parquet do not exists/home/hoyinchan/blue/Data/data2022/xtitsa_LG113635MEDATCC03AX.parquet do not exists/home/hoyinchan/blue/Data/data2022/xtitsa_LG66573MEDATCC03AX.parquet do not exists/home/hoyinchan/blue/Data/data2022/xtitsa_LG499364MEDATCC09BX.parquet do not exists/home/hoyinchan/blue/Data/data2022/xtitsa_LG498648MEDATCC09BX.parquet do not exists/home/hoyinchan/blue/Data/data2022/xtitsa_LG113635MEDATCC09BX.parquet do not exists/home/hoyinchan/blue/Data/data2022/xtitsa_LG66573MEDATCC09BX.parquet do not exists"
     ]
    },
    {
     "name": "stderr",
     "output_type": "stream",
     "text": [
      "Warning message in checkConv(attr(opt, \"derivs\"), opt$par, ctrl = control$checkConv, :\n",
      "“Model failed to converge with max|grad| = 0.00207384 (tol = 0.002, component 1)”\n"
     ]
    },
    {
     "name": "stdout",
     "output_type": "stream",
     "text": [
      "[1] \"MEDATCM05BA LG499364 -0.015 0.089548335126709 FALSE\"\n",
      "[1] \"MEDATCM05BA LG499364 -0.0058 0.100196741290388 FALSE\"\n",
      "[1] \"MEDATCM05BA LG498648 -0.14 4.63494994673907e-25 TRUE\"\n",
      "[1] \"MEDATCM05BA LG498648 -0.054 3.49032312860716e-20 TRUE\"\n",
      "[1] \"MEDATCM05BA LG113635 -0.11 0.0553299352925547 FALSE\"\n",
      "[1] \"MEDATCM05BA LG113635 -0.083 0.000539634600036417 TRUE\"\n",
      "[1] \"MEDATCM05BA LG66573 -0.00018 0.938665514621562 FALSE\"\n",
      "[1] \"MEDATCM05BA LG66573 0.0087 9.09424740978141e-17 TRUE\"\n",
      "/home/hoyinchan/blue/Data/data2022/xtitsa_LG499364MEDATCM05BB.parquet do not exists/home/hoyinchan/blue/Data/data2022/xtitsa_LG498648MEDATCM05BB.parquet do not exists/home/hoyinchan/blue/Data/data2022/xtitsa_LG113635MEDATCM05BB.parquet do not exists/home/hoyinchan/blue/Data/data2022/xtitsa_LG66573MEDATCM05BB.parquet do not exists"
     ]
    }
   ],
   "source": [
    "for (m in meds){\n",
    "    for (l in loincs){\n",
    "        tryCatch({\n",
    "            path1 = paste0(datafolder,'xtitsa_',l,m,'.parquet')\n",
    "            if (!file.exists(path1)) {\n",
    "                cat(path1, \"do not exists\")\n",
    "                next\n",
    "            }\n",
    "            \n",
    "            df <- arrow::read_parquet(path1)\n",
    "            df <- df %>% filter(DAYS_SINCE_ADMIT>=-7) %>% filter(DAYS_SINCE_ADMIT<=7)\n",
    "            df$posttreatment <- as.factor(df$posttreatment)\n",
    "#            x <- glm(RESULT_NUM ~  (1|ID) + posttreatment*DAYS_SINCE_ADMIT, data=df)\n",
    "            x <- lmer(RESULT_NUM ~  (1|ID) + (0 + DAYS_SINCE_ADMIT|ID) + posttreatment*DAYS_SINCE_ADMIT, data=df, REML = FALSE,                       \n",
    "                      control = lmerControl(optimizer ='optimx', optCtrl=list(method='L-BFGS-B')))\n",
    "            \n",
    "            # x <- lmer(RESULT_NUM ~  (1|ID) + posttreatment*DAYS_SINCE_ADMIT, data=df, REML = FALSE,                       \n",
    "            #           control = lmerControl(optimizer ='optimx', optCtrl=list(method='L-BFGS-B')))            \n",
    "            print(paste(m, l, signif(fixef(x)[['posttreatment1']], digits = 2), coef(summary(x))['posttreatment1', 'Pr(>|t|)'], coef(summary(x))['posttreatment1', 'Pr(>|t|)']<0.05))\n",
    "            print(paste(m, l, signif(fixef(x)[['posttreatment1:DAYS_SINCE_ADMIT']], digits = 2), coef(summary(x))['posttreatment1:DAYS_SINCE_ADMIT', 'Pr(>|t|)'], coef(summary(x))['posttreatment1:DAYS_SINCE_ADMIT', 'Pr(>|t|)']<0.05))\n",
    "            flush.console()\n",
    "            confx<-confint(x, method=\"Wald\")\n",
    "            df$predict <- predict(x, newdata = df, type = \"response\", re.form = NA)\n",
    "            df$intercept <- fixef(x)[['posttreatment1']]\n",
    "            df$interceptp <- coef(summary(x))['posttreatment1', 'Pr(>|t|)']\n",
    "            df$slope <- fixef(x)[['posttreatment1:DAYS_SINCE_ADMIT']]\n",
    "            df$slopep <- coef(summary(x))['posttreatment1:DAYS_SINCE_ADMIT', 'Pr(>|t|)']             \n",
    "            df$interceptconfl <- confx['posttreatment1','2.5 %']\n",
    "            df$interceptconfh <- confx['posttreatment1','97.5 %']\n",
    "            df$slopeconfl <- confx['posttreatment1:DAYS_SINCE_ADMIT','2.5 %']\n",
    "            df$slopeconfh <- confx['posttreatment1:DAYS_SINCE_ADMIT','97.5 %']            \n",
    "            df$l <- l\n",
    "            df$m <- m\n",
    "#            path2 = paste0(datafolder,'xtitsa_result_',l,m,'.parquet')            \n",
    "            path2 = paste0(datafolder,'xtitsa_result_norslope_',l,m,'.parquet')\n",
    "            arrow::write_parquet(df, path2)\n",
    "                },                 \n",
    "#            print(paste(m, l, signif(fixef(x)[['posttreatment:DAYS_SINCE_ADMIT']], digits = 2)))},            \n",
    "#        warning = function(w){},\n",
    "        error = function(e) {print(paste(m, l, e))})\n",
    "    }\n",
    "}"
   ]
  },
  {
   "cell_type": "code",
   "execution_count": null,
   "id": "8fe1a6cc-7590-4b19-8d90-de969735d87f",
   "metadata": {
    "tags": []
   },
   "outputs": [],
   "source": []
  },
  {
   "cell_type": "code",
   "execution_count": null,
   "id": "69a0e26f-c7f2-4fae-a88b-3bade015e912",
   "metadata": {
    "tags": []
   },
   "outputs": [],
   "source": []
  },
  {
   "cell_type": "code",
   "execution_count": 7,
   "id": "6a8f45a1-fc99-46ee-9cf5-604acae2543e",
   "metadata": {
    "tags": []
   },
   "outputs": [
    {
     "name": "stdout",
     "output_type": "stream",
     "text": [
      "[1] \"done\"\n"
     ]
    }
   ],
   "source": [
    "print('done')"
   ]
  },
  {
   "cell_type": "code",
   "execution_count": null,
   "id": "c712dd46-72b2-4f4b-8552-827ee62e954b",
   "metadata": {
    "tags": []
   },
   "outputs": [],
   "source": []
  },
  {
   "cell_type": "code",
   "execution_count": null,
   "id": "9ba2fc3a-8e8c-4682-a68c-37feb7383cb5",
   "metadata": {
    "tags": []
   },
   "outputs": [],
   "source": []
  },
  {
   "cell_type": "code",
   "execution_count": null,
   "id": "8887ffae-a729-4cb6-b5b4-a5aaf3c7689a",
   "metadata": {
    "tags": []
   },
   "outputs": [],
   "source": []
  },
  {
   "cell_type": "code",
   "execution_count": null,
   "id": "e7859292-43bc-4f8c-9b8d-02324e8f0379",
   "metadata": {
    "tags": []
   },
   "outputs": [],
   "source": [
    "# l <- '21600'\n",
    "# m <- 'MEDATCA07DA'\n",
    "\n",
    "# path1 = paste0(datafolder,'xtitsa_',l,m,'.parquet')\n",
    "# df <- arrow::read_parquet(path1)\n",
    "# df <- df %>% filter(DAYS_SINCE_ADMIT>=-7) %>% filter(DAYS_SINCE_ADMIT<=7)\n",
    "# df$posttreatment <- as.factor(df$posttreatment)\n",
    "# #            x <- glm(RESULT_NUM ~  (1|ID) + posttreatment*DAYS_SINCE_ADMIT, data=df)\n",
    "# x <- lmer(RESULT_NUM ~  (1|ID) + (0 + DAYS_SINCE_ADMIT|ID) + posttreatment*DAYS_SINCE_ADMIT, data=df, REML = FALSE,                       \n",
    "#           control = lmerControl(optimizer ='optimx', optCtrl=list(method='L-BFGS-B')))"
   ]
  },
  {
   "cell_type": "code",
   "execution_count": null,
   "id": "fcf9c1f5-f828-4d07-937b-ea9a1b9fbdfe",
   "metadata": {
    "tags": []
   },
   "outputs": [],
   "source": [
    "# x"
   ]
  },
  {
   "cell_type": "code",
   "execution_count": null,
   "id": "64faa4c7-8548-4dad-8e2c-e3fac6ce54ad",
   "metadata": {
    "collapsed": true,
    "jupyter": {
     "outputs_hidden": true
    },
    "tags": []
   },
   "outputs": [],
   "source": [
    "# coef(x)$ID"
   ]
  },
  {
   "cell_type": "code",
   "execution_count": null,
   "id": "5a9225b3-b034-428e-af1c-838f5d2452c9",
   "metadata": {
    "tags": []
   },
   "outputs": [],
   "source": [
    "# summary(x)"
   ]
  },
  {
   "cell_type": "code",
   "execution_count": null,
   "id": "8cfb8c2a-0503-43ca-ae18-6ab2a9a236bd",
   "metadata": {
    "collapsed": true,
    "jupyter": {
     "outputs_hidden": true
    },
    "tags": []
   },
   "outputs": [],
   "source": [
    "# confint(x, method=\"Wald\")"
   ]
  },
  {
   "cell_type": "code",
   "execution_count": null,
   "id": "1a8b2c65-530a-479e-b597-dc6b6ebfacc8",
   "metadata": {},
   "outputs": [],
   "source": []
  }
 ],
 "metadata": {
  "kernelspec": {
   "display_name": "AKI_CDM_R",
   "language": "R",
   "name": "ir"
  },
  "language_info": {
   "codemirror_mode": "r",
   "file_extension": ".r",
   "mimetype": "text/x-r-source",
   "name": "R",
   "pygments_lexer": "r",
   "version": "4.1.3"
  }
 },
 "nbformat": 4,
 "nbformat_minor": 5
}
