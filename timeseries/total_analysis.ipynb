{
 "cells": [
  {
   "cell_type": "code",
   "execution_count": null,
   "id": "3c0dea82-03ae-412b-b04d-46354151cd16",
   "metadata": {},
   "outputs": [],
   "source": [
    "import pandas as pd\n",
    "import numpy as np\n",
    "import itertools\n",
    "from scipy.stats import fisher_exact\n",
    "import shelve\n",
    "import pickle\n",
    "import pandas as pd\n",
    "import numpy as np\n",
    "import sklearn\n",
    "from sklearn.preprocessing import OneHotEncoder\n",
    "from sklearn.impute import SimpleImputer\n",
    "import matplotlib.pyplot as plt\n",
    "from PIL import Image\n",
    "from scipy.interpolate import BSpline, make_interp_spline, interp1d\n",
    "import csv\n",
    "from dfply import *\n",
    "import itertools\n",
    "import os\n",
    "import logging\n",
    "from sys import getsizeof\n",
    "import sklearn\n",
    "import time\n",
    "from sklearn.metrics import roc_auc_score\n",
    "from catboost import Pool, cv\n",
    "import xgboost\n",
    "import catboost\n",
    "import scipy.stats as st\n",
    "\n",
    "import importlib\n",
    "from joblib import Parallel, delayed\n",
    "from joblib import parallel_backend\n",
    "\n",
    "import pandas as pd\n",
    "import numpy as np\n",
    "import matplotlib.pyplot as plt\n",
    "from pandas.plotting import lag_plot\n",
    "from statsmodels.tsa.vector_ar.var_model import VAR\n",
    "from statsmodels.tsa.stattools import adfuller, kpss, grangercausalitytests, pacf\n",
    "from statsmodels.graphics.tsaplots import plot_pacf\n",
    "import warnings\n",
    "warnings.filterwarnings(\"ignore\")\n",
    "import scipy\n",
    "import datetime\n",
    "\n",
    "from joblib import Parallel, delayed\n",
    "import os\n",
    "import statsmodels"
   ]
  },
  {
   "cell_type": "code",
   "execution_count": null,
   "id": "75a01956-0461-4d99-a5fb-429f145f31d5",
   "metadata": {
    "tags": []
   },
   "outputs": [],
   "source": []
  },
  {
   "cell_type": "code",
   "execution_count": null,
   "id": "db110783-3875-46fe-b7a4-a4ceb3da9631",
   "metadata": {
    "tags": []
   },
   "outputs": [],
   "source": [
    "#director = './OLD_RESULT/'\n",
    "director = './'\n",
    "resultsfiles = [director+x for x in os.listdir(director) if 'result_' in x ]\n",
    "\n",
    "loinc1 = '0000000'\n",
    "#loinc1 = '1920-8'\n",
    "loinc2 = '17861-6'\n",
    "loinc3 = '2160-0'\n",
    "loinc1 = loinc1.replace('-','_')\n",
    "loinc2 = loinc2.replace('-','_')\n",
    "loinc3 = loinc3.replace('-','_')\n",
    "targetbool = (pd.DataFrame(resultsfiles)[0].str.contains(loinc1).astype(int) + pd.DataFrame(resultsfiles)[0].str.contains(loinc2).astype(int) + pd.DataFrame(resultsfiles)[0].str.contains(loinc3).astype(int))==2\n",
    "resultsfiles = pd.DataFrame(resultsfiles)[targetbool].iloc[:,0].to_numpy()\n",
    "resultsfiles"
   ]
  },
  {
   "cell_type": "code",
   "execution_count": null,
   "id": "9a5387d9-aef1-43b9-93c6-0bd6d12cf3bb",
   "metadata": {
    "tags": []
   },
   "outputs": [],
   "source": [
    "csvs = list()\n",
    "for file in resultsfiles:\n",
    "    try:\n",
    "        csvtemp = pd.read_csv(file).drop('Unnamed: 0',axis=1, errors='ignore').dropna()\n",
    "        csvs.append(csvtemp)\n",
    "    except:\n",
    "        pass\n",
    "#csvt = pd.concat(csvs)\n",
    "#csvt = csvt[(csvt['Num_Diff1']!=19) & (csvt['Num_Diff2']!=19)]\n",
    "def preprocess(csvt):\n",
    "    pvalue1_adj = statsmodels.stats.multitest.multipletests(csvt['pvalue1'])\n",
    "    pvalue2_adj = statsmodels.stats.multitest.multipletests(csvt['pvalue2'])\n",
    "\n",
    "    csvt['pvalue1_adj'] = pvalue1_adj[1]\n",
    "    csvt['pvalue2_adj'] = pvalue2_adj[1]\n",
    "\n",
    "    csvt['1xmap2_adj'] = csvt['1xmap2'] & (csvt['pvalue1_adj']<0.05)\n",
    "    csvt['2xmap1_adj'] = csvt['2xmap1'] & (csvt['pvalue2_adj']<0.05)\n",
    "    return csvt\n",
    "\n",
    "csvs = [preprocess(x) for x in csvs]"
   ]
  },
  {
   "cell_type": "code",
   "execution_count": null,
   "id": "225c676f-1097-4257-827a-632e47a13d71",
   "metadata": {},
   "outputs": [],
   "source": [
    "df = csvs[0].copy()\n",
    "df['1xmap2_only'] = df['1xmap2_adj'] & ~ df['2xmap1_adj']\n",
    "df['2xmap1_only'] = df['2xmap1_adj'] & ~ df['1xmap2_adj']\n",
    "df['bidiredction'] = df['2xmap1_adj'] & df['1xmap2_adj']"
   ]
  },
  {
   "cell_type": "code",
   "execution_count": null,
   "id": "94b52425-0349-44ca-835a-4e4bea2eb8fc",
   "metadata": {},
   "outputs": [],
   "source": [
    "str1 = df['feature1'].iloc[0]+' <-  '+df['feature2'].iloc[0]+ ' : '+str(df['1xmap2_only'].sum())\n",
    "str2 = df['feature1'].iloc[0]+'  -> '+df['feature2'].iloc[0]+ ' : '+str(df['2xmap1_only'].sum())\n",
    "str3 = df['feature1'].iloc[0]+' <-> '+df['feature2'].iloc[0]+ ' : '+str(df['bidiredction'].sum())"
   ]
  },
  {
   "cell_type": "code",
   "execution_count": null,
   "id": "b7f1fcb8-5bd9-4978-834a-6491ebc5bdeb",
   "metadata": {},
   "outputs": [],
   "source": [
    "print(df['site'].iloc[0])\n",
    "print(str1)\n",
    "print(str2)\n",
    "print(str3)\n",
    "print(df.shape[0])"
   ]
  },
  {
   "cell_type": "code",
   "execution_count": null,
   "id": "126461f3-0015-4b62-9f14-d767b3a4cc1d",
   "metadata": {},
   "outputs": [],
   "source": [
    "df.columns"
   ]
  },
  {
   "cell_type": "code",
   "execution_count": null,
   "id": "e6a06cd9-573c-49ca-822f-637449354915",
   "metadata": {},
   "outputs": [],
   "source": [
    "df[df['1xmap2_only']]['rho1_last'].mean()"
   ]
  },
  {
   "cell_type": "code",
   "execution_count": null,
   "id": "7fb756b0-2b65-4ffd-a200-b6fd62340625",
   "metadata": {},
   "outputs": [],
   "source": [
    "df[df['2xmap1_only']]['rho2_last'].mean()"
   ]
  },
  {
   "cell_type": "code",
   "execution_count": null,
   "id": "2559ec7d-5e1a-4ecd-b9c3-e47cc18b3b0d",
   "metadata": {},
   "outputs": [],
   "source": [
    "csvs[1][['PATID' ,'ENCOUNTERID', 'feature1', 'feature2', '1xmap2_adj','2xmap1_adj']].merge(csvs[2][['PATID' ,'ENCOUNTERID', 'feature1', 'feature2', '1xmap2_adj','2xmap1_adj']], on=['PATID' ,'ENCOUNTERID'], how='left')"
   ]
  },
  {
   "cell_type": "code",
   "execution_count": null,
   "id": "efd6bdda-d5d4-446c-b693-1004f8dd8ece",
   "metadata": {},
   "outputs": [],
   "source": [
    "csvs[0][['PATID' ,'ENCOUNTERID', 'feature1', 'feature2', '1xmap2_adj','2xmap1_adj']].merge(csvs[2][['PATID' ,'ENCOUNTERID', 'feature1', 'feature2', '1xmap2_adj','2xmap1_adj']], on=['PATID' ,'ENCOUNTERID'], how='left')"
   ]
  },
  {
   "cell_type": "code",
   "execution_count": null,
   "id": "e76d1a07-dd16-442a-952b-bd2c7d27df99",
   "metadata": {},
   "outputs": [],
   "source": [
    "csvs[0][['PATID' ,'ENCOUNTERID', 'feature1', 'feature2', '1xmap2_adj','2xmap1_adj']].merge(csvs[1][['PATID' ,'ENCOUNTERID', 'feature1', 'feature2', '1xmap2_adj','2xmap1_adj']], on=['PATID' ,'ENCOUNTERID'], how='left')"
   ]
  },
  {
   "cell_type": "code",
   "execution_count": null,
   "id": "99687c36-5cc3-435a-a8e3-00ff9afcdf6e",
   "metadata": {},
   "outputs": [],
   "source": []
  }
 ],
 "metadata": {
  "kernelspec": {
   "display_name": "AKI_timeseries",
   "language": "python",
   "name": "aki_timeseries"
  },
  "language_info": {
   "codemirror_mode": {
    "name": "ipython",
    "version": 3
   },
   "file_extension": ".py",
   "mimetype": "text/x-python",
   "name": "python",
   "nbconvert_exporter": "python",
   "pygments_lexer": "ipython3",
   "version": "3.11.3"
  }
 },
 "nbformat": 4,
 "nbformat_minor": 5
}
