{
 "cells": [
  {
   "cell_type": "code",
   "execution_count": null,
   "id": "122298f2-fe40-4f60-8edd-ed8fc027e035",
   "metadata": {
    "jupyter": {
     "outputs_hidden": true
    },
    "tags": []
   },
   "outputs": [],
   "source": [
    "Packages <- c(\"plm\", \"arrow\", \"panelvar\", \"dplyr\", \"psych\", \"tidyverse\", \"lmerTest\")\n",
    "invisible(lapply(Packages, library, character.only = TRUE))"
   ]
  },
  {
   "cell_type": "code",
   "execution_count": null,
   "id": "23ffe615-6941-4a7f-b3b2-1f9109a61bb5",
   "metadata": {
    "tags": []
   },
   "outputs": [],
   "source": [
    "loincs_cofounder_potassium <- c('2157-6', #creatine kinase\n",
    "                              'LG6033-7', #AST      \n",
    "                              '2532-0', #LDH\n",
    "                              'LG44861-9', #Haptoglobin \n",
    "                              'LG49755-8') #uric acid\n",
    "bp_cofounder_potassium <- c('DIASTOLIC','SYSTOLIC')\n",
    "loincs_potassium = c('LG49936-4', 'LG6657-3')"
   ]
  },
  {
   "cell_type": "code",
   "execution_count": null,
   "id": "61243798-81f5-42d6-a24c-41be6dce63c2",
   "metadata": {
    "tags": []
   },
   "outputs": [],
   "source": [
    "loinc1 <- 'LG49936-4'\n",
    "loinc2 <- 'LG6657-3'\n",
    "datafolder <- '/home/hoyinchan/blue/Data/data2022/'"
   ]
  },
  {
   "cell_type": "code",
   "execution_count": null,
   "id": "20c94868-e22e-4961-8221-70896fc15239",
   "metadata": {
    "tags": []
   },
   "outputs": [],
   "source": [
    "outputlab3 <- list()\n",
    "#for (loinc1 in loincs_cofounder_potassium){\n",
    "#for (loinc1 in bp_cofounder_potassium){\n",
    "for (loinc1 in c(loincs_cofounder_potassium, bp_cofounder_potassium)){\n",
    "    for (loinc2 in loincs_potassium){\n",
    "        key <- paste0(loinc1,loinc2)\n",
    "        path1 <- paste0(datafolder,'outputlab',loinc1,loinc2,'.parquet')\n",
    "        outputlab3[[key]] <- arrow::read_parquet(path1)\n",
    "    }\n",
    "}"
   ]
  },
  {
   "cell_type": "code",
   "execution_count": null,
   "id": "26225c30-d4d2-4065-86d9-5459202a8a22",
   "metadata": {
    "tags": []
   },
   "outputs": [],
   "source": [
    "#for (loinc1 in loincs_cofounder_potassium){\n",
    "#for (loinc1 in bp_cofounder_potassium){    \n",
    "for (loinc1 in c(loincs_cofounder_potassium, bp_cofounder_potassium)){\n",
    "    for (loinc2 in loincs_potassium){\n",
    "        key <- paste0(loinc1,loinc2)\n",
    "        print(paste(loinc1, loinc2))        \n",
    "        pGrunfeld_unbal <- pdata.frame(outputlab3[[key]], index = c(\"ID\", \"DAYS_SINCE_ADMIT\"))        \n",
    "        tryCatch({\n",
    "            print(purtest(pGrunfeld_unbal$res, pmax=2, test =\"madwu\"))\n",
    "        }, error=function(e){})\n",
    "        tryCatch({\n",
    "            print(cipstest(pGrunfeld_unbal$res, pmax=1))\n",
    "        }, error=function(e){})\n",
    "        \n",
    "    }\n",
    "}"
   ]
  },
  {
   "cell_type": "code",
   "execution_count": null,
   "id": "50a7420d-57cd-4fa5-a3bf-fabf34d584de",
   "metadata": {
    "tags": []
   },
   "outputs": [],
   "source": [
    "# pGrunfeld_unbal <- pdata.frame(outputlab3, index = c(\"ID\", \"DAYS_SINCE_ADMIT\"))\n",
    "# print(purtest(pGrunfeld_unbal$res, pmax=3, test =\"madwu\"))"
   ]
  },
  {
   "cell_type": "code",
   "execution_count": null,
   "id": "876a2fe4-8523-4954-b7f5-789bec22b910",
   "metadata": {
    "jupyter": {
     "outputs_hidden": true
    },
    "tags": []
   },
   "outputs": [],
   "source": [
    "pathp <- paste0(datafolder,'outputlab_Pearson.parquet')\n",
    "pearson <- arrow::read_parquet(pathp)\n",
    "\n",
    "#testdf <- pearson %>% filter(loinc1==loinc1) %>% filter(loinc2==loinc2)\n",
    "\n",
    "avg_pearson <- function(n, r){\n",
    "#    n <- testdf$n\n",
    "#    r <- testdf$pearson\n",
    "    z <- fisherz(r)\n",
    "    k<-length(testdf$ID)\n",
    "    fisherz2r(sum((n-1)*r)/(sum(n)-3*k))\n",
    "}\n",
    "\n",
    "\n",
    "pearson %>% group_by(loinc1, loinc2) %>% summarise(avg_pear=avg_pearson(n,pearson)) %>% ungroup()"
   ]
  },
  {
   "cell_type": "code",
   "execution_count": null,
   "id": "0a0d2109-488b-4e89-bba1-2e496d14257c",
   "metadata": {},
   "outputs": [],
   "source": []
  },
  {
   "cell_type": "code",
   "execution_count": null,
   "id": "1ab68df9-60b1-4c40-a730-f04a155a7e23",
   "metadata": {},
   "outputs": [],
   "source": []
  }
 ],
 "metadata": {
  "kernelspec": {
   "display_name": "AKI_CDM_R",
   "language": "R",
   "name": "ir"
  },
  "language_info": {
   "codemirror_mode": "r",
   "file_extension": ".r",
   "mimetype": "text/x-r-source",
   "name": "R",
   "pygments_lexer": "r",
   "version": "4.1.3"
  }
 },
 "nbformat": 4,
 "nbformat_minor": 5
}
