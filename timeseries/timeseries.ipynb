{
 "cells": [
  {
   "cell_type": "code",
   "execution_count": null,
   "id": "c4b1b80f-17f3-4f94-8358-e29e5166e83c",
   "metadata": {
    "tags": []
   },
   "outputs": [],
   "source": [
    "import pandas as pd\n",
    "import numpy as np\n",
    "import itertools\n",
    "from scipy.stats import fisher_exact\n",
    "import shelve\n",
    "import pickle\n",
    "import pandas as pd\n",
    "import numpy as np\n",
    "import sklearn\n",
    "from sklearn.preprocessing import OneHotEncoder\n",
    "from sklearn.impute import SimpleImputer\n",
    "import matplotlib.pyplot as plt\n",
    "from PIL import Image\n",
    "from scipy.interpolate import BSpline, make_interp_spline, interp1d\n",
    "import csv\n",
    "from dfply import *\n",
    "import itertools\n",
    "import os\n",
    "import logging\n",
    "from sys import getsizeof\n",
    "import sklearn\n",
    "import time\n",
    "from sklearn.metrics import roc_auc_score\n",
    "from catboost import Pool, cv\n",
    "import xgboost\n",
    "import catboost\n",
    "import scipy.stats as st\n",
    "\n",
    "import importlib\n",
    "from joblib import Parallel, delayed\n",
    "from joblib import parallel_backend\n",
    "\n",
    "import pandas as pd\n",
    "import numpy as np\n",
    "import matplotlib.pyplot as plt\n",
    "from pandas.plotting import lag_plot\n",
    "#from statsmodels.tsa.vector_ar.var_model import VARY\n",
    "from statsmodels.tsa.stattools import adfuller, kpss, grangercausalitytests, pacf\n",
    "from statsmodels.graphics.tsaplots import plot_pacf\n",
    "import warnings\n",
    "warnings.filterwarnings(\"ignore\")\n",
    "import scipy\n",
    "import datetime\n",
    "\n",
    "from joblib import Parallel, delayed\n",
    "\n",
    "import pyarrow\n",
    "import concurrent.futures\n",
    "import statsmodels.api as sm\n",
    "import statsmodels.tsa.stattools as ts\n",
    "from itertools import product\n",
    "\n",
    "import statsmodels"
   ]
  },
  {
   "cell_type": "code",
   "execution_count": null,
   "id": "01a3488f-1050-49a6-84a6-9241d6428baf",
   "metadata": {
    "tags": []
   },
   "outputs": [],
   "source": [
    "import myccm\n",
    "importlib.reload(myccm)"
   ]
  },
  {
   "cell_type": "code",
   "execution_count": null,
   "id": "473b6a8a-02bc-4739-b12e-e6d62327f929",
   "metadata": {
    "tags": []
   },
   "outputs": [],
   "source": [
    "sites = ['MCRI', 'IUR', 'MCW', 'UIOWA', 'UMHC', 'UNMC', 'UofU', 'UPITT', 'UTHSCSA', 'KUMC', 'UTSW']\n",
    "#sites = ['KUMC', 'UTSW', 'MCW', 'UofU', 'UIOWA', 'UMHC', 'UPITT', 'UTHSCSA', 'UNMC']\n",
    "datafolder = '/home/hoyinchan/blue/Data/data2022/'"
   ]
  },
  {
   "cell_type": "code",
   "execution_count": null,
   "id": "8b84dea8-5769-45f1-975c-de36faf0ec7c",
   "metadata": {
    "tags": []
   },
   "outputs": [],
   "source": [
    "# loincs_cofounder_potassium = ['2157-6', #creatine kinase\n",
    "#                               '1920-8', #AST      \n",
    "#                               '2532-0', #LDH\n",
    "#                               '4542-7', #Haptoglobin \n",
    "#                               '3084-1'] #uric acid\n",
    "#bp_cofounder_potassium = ['DIASTOLIC','SYSTOLIC']\n",
    "#loincs_potassium = ['2823-3', '2160-0']\n",
    "\n",
    "loincs_cofounder_potassium = ['2157-6', # 'creatineKinase(HK)',\n",
    "                               'LG6033-7', # 'AST(HK)',      \n",
    "                               '2532-0',  # 'LDH(HK)',\n",
    "                               'LG44861-9', # 'Haptoglobin(HK)', \n",
    "                               'LG49755-8'] # 'uricAcid(HK)'}\n",
    "bp_cofounder_potassium = ['DIASTOLIC','SYSTOLIC']\n",
    "loincs_potassium = ['LG49936-4', 'LG6657-3']\n",
    "\n",
    "loincs_dependents = ['LG49864-8', #Ca\n",
    "                     'LG11363-5', #Na\n",
    "                     'LG6657-3'] #K, $sCr"
   ]
  },
  {
   "cell_type": "code",
   "execution_count": null,
   "id": "10281e42-b9c3-46e7-9f2d-705bc8212acf",
   "metadata": {
    "tags": []
   },
   "outputs": [],
   "source": [
    "# import myccm\n",
    "# labXs = list()\n",
    "# for site in sites:\n",
    "#     try:\n",
    "#         print(site)\n",
    "# #        myccmX = myccm.myccm()\n",
    "# #        myccmX.get_onsetdata(site=site)                \n",
    "# #        myccmX.get_data(site=site)      \n",
    "# #        myccmX.get_vitaldata(site=site)     \n",
    "# #        labt = myccmX.labX\n",
    "# #        labt = pd.read_csv(datafolder+site+'/raw/AKI_VITAL.csv')\n",
    "#         labt['site'] = site\n",
    "#         labXs.append(labt)\n",
    "#     except:\n",
    "#        print('not working')\n",
    "#     # for loinc1 in loincs_cofounder_potassium:\n",
    "#     #     for loinc2 in loincs_potassium:\n",
    "#     #         try:\n",
    "#     #             generate_data_for_pco(loinc1, loinc2)\n",
    "#     #         except:\n",
    "#     #             pass"
   ]
  },
  {
   "cell_type": "code",
   "execution_count": null,
   "id": "d9a7cdb3-7920-4f8c-bb44-dbd40457bab2",
   "metadata": {
    "tags": []
   },
   "outputs": [],
   "source": [
    "def process_site(site):\n",
    "    try:\n",
    "        print(site)\n",
    "        myccmX = myccm.myccm()\n",
    "        myccmX.get_onsetdata(site=site)                \n",
    "        myccmX.get_data(loincs_cofounder_potassium, loincs_potassium, loincs_dependents, site=site)      \n",
    "#        labt = myccmX.labX\n",
    "\n",
    "        # myccmX.get_vitaldata(site=site)\n",
    "        \n",
    "        labt = myccmX.labV\n",
    "        labt['site'] = site\n",
    "        \n",
    "        return labt    \n",
    "    except Exception as e: \n",
    "        print('not working for site:', site, 'Error:', e)\n",
    "        return None\n",
    "\n",
    "def parallel_processing(sites):\n",
    "    labXs = []\n",
    "    with concurrent.futures.ProcessPoolExecutor(max_workers=9) as executor:\n",
    "        results = executor.map(process_site, sites)        \n",
    "#        for result in results:\n",
    "#            labXs.extend(result)\n",
    "    return results\n",
    "\n",
    "labXs = parallel_processing(sites)\n",
    "\n",
    "labX2 = list(labXs)\n",
    "labX3 = [x for x in labX2 if isinstance(x, pd.DataFrame)]\n",
    "labX4 = pd.concat(labX3)\n",
    "\n",
    "labX4['PATID'] = labX4['PATID'].astype(str)\n",
    "labX4['ENCOUNTERID'] = labX4['ENCOUNTERID'].astype(str)\n",
    "labX4['ID'] = labX4['PATID']+'_'+labX4['ENCOUNTERID']+'_'+labX4['site']\n",
    "labX4['DAYS_SINCE_ADMIT'] = labX4['DAYS_SINCE_ADMIT'].astype(int)\n",
    "labX4.to_parquet(datafolder+'alllab.parquet')\n",
    "#labX4.to_parquet(datafolder+'allvital.parquet')"
   ]
  },
  {
   "cell_type": "code",
   "execution_count": null,
   "id": "2bd86c4a-cf9e-43ea-9706-35d93850c2f3",
   "metadata": {
    "tags": []
   },
   "outputs": [],
   "source": [
    "labV = pd.read_parquet(datafolder+'allvital.parquet')\n",
    "labX = pd.read_parquet(datafolder+'alllab.parquet')\n",
    "labV = labV[['ID','DAYS_SINCE_ADMIT','DIASTOLIC','SYSTOLIC', 'site']]\n",
    "labV = pd.melt(labV, id_vars=['ID', 'DAYS_SINCE_ADMIT', 'site'], value_vars=['DIASTOLIC', 'SYSTOLIC'])\n",
    "labV = labV.rename({'variable':'LAB_LOINC', 'value':'RESULT_NUM' },axis=1)\n",
    "labX = pd.concat([labX, labV])"
   ]
  },
  {
   "cell_type": "code",
   "execution_count": null,
   "id": "931aa4ab-ea51-40b8-ae14-0a4b745b2f2d",
   "metadata": {
    "tags": []
   },
   "outputs": [],
   "source": [
    "#for loinc1 in loincs_cofounder_potassium:\n",
    "for loinc1 in loincs_cofounder_potassium+bp_cofounder_potassium:\n",
    "    for loinc2 in loincs_potassium:\n",
    "        try:\n",
    "            gen_files(loinc1, loinc2)\n",
    "        except Exception as e: \n",
    "            print('not working for site:', loinc1, loinc2, 'Error:', e)"
   ]
  },
  {
   "cell_type": "code",
   "execution_count": null,
   "id": "a94d43b5-1193-49ab-94d2-a4089eb6a4a9",
   "metadata": {
    "tags": []
   },
   "outputs": [],
   "source": [
    "def gen_files(loinc1, loinc2, l=10):\n",
    "#    labX = pd.read_parquet(datafolder+'alllab.parquet')\n",
    "    outputlab = labX[labX['LAB_LOINC'].str.contains('|'.join([loinc1,loinc2])).fillna(False)]\n",
    "\n",
    "    outputlab = outputlab[['ID','DAYS_SINCE_ADMIT','RESULT_NUM','LAB_LOINC', 'site']]\n",
    "    outputlab = outputlab.groupby(['ID','DAYS_SINCE_ADMIT','LAB_LOINC', 'site']).mean().reset_index()\n",
    "\n",
    "    def get_residue(xx):\n",
    "        xxp = xx.pivot(index='DAYS_SINCE_ADMIT', columns='LAB_LOINC', values='RESULT_NUM')\n",
    "        xxp = xxp.reindex(list(range(xxp.index.min(),xxp.index.max()+1)))\n",
    "        xxp = xxp.interpolate(limit_area='inside').dropna()\n",
    "        try:\n",
    "            model = sm.OLS(xxp[loinc2], xxp[loinc1])\n",
    "            res = model.fit()\n",
    "            xxp['res'] = res.resid\n",
    "            return xxp\n",
    "        except:\n",
    "            return None\n",
    "        #cadf = ts.adfuller(res.resid)\n",
    "\n",
    "    xxx = outputlab.groupby(['ID','LAB_LOINC'])['DAYS_SINCE_ADMIT'].count().reset_index().pivot(index='ID', columns='LAB_LOINC', values='DAYS_SINCE_ADMIT').dropna()\n",
    "    xxx = xxx[(xxx[loinc1]>=l)&(xxx[loinc2]>=l)]\n",
    "\n",
    "    outputlab2 = xxx.merge(outputlab, on='ID', how='left')\n",
    "    outputlab2 = outputlab2[outputlab.columns]\n",
    "\n",
    "    outputlab3 = outputlab2.groupby(['ID','site']).apply(get_residue).reset_index().dropna()\n",
    "    outputlab3 = outputlab3.rename({0:'res'},axis=1)\n",
    "\n",
    "    outputlab3['ID'] = pd.factorize(outputlab3['ID'])[0]\n",
    "\n",
    "    datafolder = '/home/hoyinchan/blue/Data/data2022/'\n",
    "    print(loinc1, loinc2, len(outputlab3['ID'].unique()))\n",
    "    outputlab3.to_parquet(datafolder+'outputlab'+loinc1+loinc2+'.parquet')"
   ]
  },
  {
   "cell_type": "code",
   "execution_count": null,
   "id": "62946117-e117-46dd-aaae-7d62e53ed0ba",
   "metadata": {
    "tags": []
   },
   "outputs": [],
   "source": [
    "loinc1 = 'LG6033-7'\n",
    "loinc2 = 'LG6657-3'\n",
    "l = 10"
   ]
  },
  {
   "cell_type": "code",
   "execution_count": null,
   "id": "bc09b935-8e8c-47f6-866a-c2bc8e25a33c",
   "metadata": {
    "tags": []
   },
   "outputs": [],
   "source": [
    "pdfs = list()\n",
    "for loinc1 in loincs_cofounder_potassium+bp_cofounder_potassium:\n",
    "    for loinc2 in loincs_potassium:\n",
    "        try:\n",
    "            outputlab = labX[labX['LAB_LOINC'].str.contains('|'.join([loinc1,loinc2])).fillna(False)]\n",
    "\n",
    "            outputlab = outputlab[['ID','DAYS_SINCE_ADMIT','RESULT_NUM','LAB_LOINC', 'site']]\n",
    "            outputlab = outputlab.groupby(['ID','DAYS_SINCE_ADMIT','LAB_LOINC', 'site']).mean().reset_index()\n",
    "            xxx = outputlab.groupby(['ID','LAB_LOINC'])['DAYS_SINCE_ADMIT'].count().reset_index().pivot(index='ID', columns='LAB_LOINC', values='DAYS_SINCE_ADMIT').dropna()\n",
    "            xxx = xxx[(xxx[loinc1]>=l)&(xxx[loinc2]>=l)]\n",
    "\n",
    "            outputlab2 = xxx.merge(outputlab, on='ID', how='left')\n",
    "            outputlab2 = outputlab2[outputlab.columns]\n",
    "\n",
    "            outputlab2 = outputlab2.pivot(index=['ID', 'DAYS_SINCE_ADMIT'], columns='LAB_LOINC', values='RESULT_NUM').reset_index()\n",
    "            #outputlab2 = outputlab2.reindex(list(range(xxp.index.min(),xxp.index.max()+1)))\n",
    "\n",
    "            outputlab3 = outputlab2.dropna()\n",
    "\n",
    "            xxxc = outputlab3.groupby('ID').count().reset_index()\n",
    "            xxxc = xxxc[xxxc['DAYS_SINCE_ADMIT']>=10]\n",
    "            xxxc['n'] = xxxc['DAYS_SINCE_ADMIT']\n",
    "            \n",
    "            outputlab3 = outputlab3.merge(xxxc[['ID', 'n']], how='inner')\n",
    "\n",
    "            def pearson_sub(df):\n",
    "                c = list(df.columns)\n",
    "                c.remove('ID')\n",
    "                c.remove('DAYS_SINCE_ADMIT')\n",
    "                return scipy.stats.pearsonr(df[c[0]], df[c[1]])[0]\n",
    "\n",
    "            pdf = outputlab3.groupby(['ID','n']).apply(pearson_sub).reset_index()\n",
    "            pdf['loinc1'] = loinc1\n",
    "            pdf['loinc2'] = loinc2\n",
    "            pdfs.append(pdf)\n",
    "        except:\n",
    "            pass\n",
    "pdfs = pd.concat(pdfs)"
   ]
  },
  {
   "cell_type": "code",
   "execution_count": null,
   "id": "9d4cb000-1e49-4ec9-b94c-8eaec464cbf2",
   "metadata": {
    "tags": []
   },
   "outputs": [],
   "source": [
    "pdfs = pdfs.rename({0:'pearson'},axis=1)"
   ]
  },
  {
   "cell_type": "code",
   "execution_count": null,
   "id": "e7a42170-913c-42d4-ae81-0dacc332e5fa",
   "metadata": {
    "tags": []
   },
   "outputs": [],
   "source": [
    "#pdfs.to_parquet(datafolder+'outputlab_Pearson.parquet')"
   ]
  },
  {
   "cell_type": "code",
   "execution_count": null,
   "id": "29bfded5-8ebb-49c0-b407-832aaca3aee4",
   "metadata": {
    "tags": []
   },
   "outputs": [],
   "source": [
    "pdfs = pd.read_parquet(datafolder+'outputlab_Pearson.parquet')"
   ]
  },
  {
   "cell_type": "code",
   "execution_count": null,
   "id": "42b0dcf1-aab5-4ee8-ad93-a6161a38bf04",
   "metadata": {
    "tags": []
   },
   "outputs": [],
   "source": [
    "plist = list()\n",
    "def calcualte_raw_p(labX, loinc1, loinc2):\n",
    "    dflist = list()    \n",
    "    outputlabX = labX[labX['LAB_LOINC'].str.contains('|'.join([loinc1,loinc2])).fillna(False)]    \n",
    "    \n",
    "    myplist = list()\n",
    "    for shift in range(-7,8):\n",
    "        outputlab = outputlabX[['ID','DAYS_SINCE_ADMIT','RESULT_NUM','LAB_LOINC', 'site']].copy()     \n",
    "\n",
    "        outputlab.loc[outputlab['LAB_LOINC'] == loinc2, 'DAYS_SINCE_ADMIT'] -= shift\n",
    "\n",
    "        outputlab = outputlab.groupby(['ID','DAYS_SINCE_ADMIT','LAB_LOINC', 'site']).mean().reset_index()\n",
    "        xxx = outputlab.groupby(['ID','LAB_LOINC'])['DAYS_SINCE_ADMIT'].count().reset_index().pivot(index='ID', columns='LAB_LOINC', values='DAYS_SINCE_ADMIT').dropna()\n",
    "        xxx = xxx[(xxx[loinc1]>=l)&(xxx[loinc2]>=l)]\n",
    "\n",
    "        outputlab2 = xxx.merge(outputlab, on='ID', how='left')\n",
    "        outputlab2 = outputlab2[outputlab.columns]\n",
    "\n",
    "        outputlab2 = outputlab2.pivot(index=['ID', 'DAYS_SINCE_ADMIT'], columns='LAB_LOINC', values='RESULT_NUM').reset_index()\n",
    "        #outputlab2 = outputlab2.reindex(list(range(xxp.index.min(),xxp.index.max()+1)))\n",
    "\n",
    "        outputlab3 = outputlab2.dropna()\n",
    "\n",
    "        xxxc = outputlab3.groupby('ID').count().reset_index()\n",
    "        xxxc = xxxc[xxxc['DAYS_SINCE_ADMIT']>=10]\n",
    "        xxxc['n'] = xxxc['DAYS_SINCE_ADMIT']\n",
    "\n",
    "        outputlab3 = outputlab3.merge(xxxc[['ID', 'n']], how='inner')\n",
    "        outputlab3['shift']=shift\n",
    "        dflist.append(outputlab3)\n",
    "        \n",
    "        pear = scipy.stats.pearsonr(outputlab3[loinc1], outputlab3[loinc2])\n",
    "        myplist.append([loinc1, loinc2, shift, pear[0], pear[1]])\n",
    "        \n",
    "    dflist = pd.concat(dflist)\n",
    "    dflist.to_parquet(datafolder+''+'xtllr_'+loinc1.replace(\"-\",'')+loinc2.replace(\"-\",'')+'.parquet')\n",
    "    return myplist\n",
    "\n",
    "for loinc1 in loincs_cofounder_potassium+bp_cofounder_potassium:\n",
    "    for loinc2 in loincs_potassium:\n",
    "        try:\n",
    "            print(loinc1, loinc2)\n",
    "            plist.append(calcualte_raw_p(labX, loinc1, loinc2))\n",
    "            print('Done: ', loinc1, loinc2)            \n",
    "        except:\n",
    "            pass        \n",
    "#plist=pd.DataFrame(plist)"
   ]
  },
  {
   "cell_type": "code",
   "execution_count": null,
   "id": "54e9a542-66a5-4a5a-9336-6652fd316795",
   "metadata": {
    "tags": []
   },
   "outputs": [],
   "source": [
    "#plist_tmp = plist.copy()\n",
    "plist = plist_tmp.copy()"
   ]
  },
  {
   "cell_type": "code",
   "execution_count": null,
   "id": "84c5b8d0-ee82-45c0-b447-6f6d4bafac24",
   "metadata": {
    "tags": []
   },
   "outputs": [],
   "source": [
    "plist = [item for sublist in plist for item in sublist]\n",
    "plist=pd.DataFrame(plist)"
   ]
  },
  {
   "cell_type": "code",
   "execution_count": null,
   "id": "158e1d4f-a3c9-40f8-90d5-5e50dac52416",
   "metadata": {
    "tags": []
   },
   "outputs": [],
   "source": [
    "plist[0].unique()"
   ]
  },
  {
   "cell_type": "code",
   "execution_count": null,
   "id": "8d566798-b1b9-45b7-93dc-1f260ecb9eb4",
   "metadata": {
    "tags": []
   },
   "outputs": [],
   "source": [
    "plist.columns = ['loinc1', 'loinc2', 'shift', 'rho', 'pvalue']"
   ]
  },
  {
   "cell_type": "code",
   "execution_count": null,
   "id": "28eb4509-d4d5-4a6d-9e7d-edb2191a858a",
   "metadata": {
    "tags": []
   },
   "outputs": [],
   "source": [
    "plist.to_parquet(datafolder+''+'plist.parquet')"
   ]
  },
  {
   "cell_type": "code",
   "execution_count": null,
   "id": "63e85277-562e-4228-be6c-82ad8498dc1c",
   "metadata": {
    "tags": []
   },
   "outputs": [],
   "source": [
    "plist = pd.read_parquet(datafolder+''+'plist.parquet')"
   ]
  },
  {
   "cell_type": "code",
   "execution_count": null,
   "id": "5afdf4ef-525f-4552-81df-9bbe283d1a23",
   "metadata": {
    "tags": []
   },
   "outputs": [],
   "source": [
    "plist['loinc1'].unique()"
   ]
  },
  {
   "cell_type": "code",
   "execution_count": null,
   "id": "7d23d890-02b7-4d34-aac9-9abfc9178956",
   "metadata": {
    "tags": []
   },
   "outputs": [],
   "source": [
    "# loincs_cofounder_potassium_names = {\n",
    "#     '2157-6': 'creatine kinase',\n",
    "#     '1920-8': 'AST',\n",
    "#     '2532-0': 'LDH',\n",
    "#     '4542-7': 'Haptoglobin',\n",
    "#     '3084-1': 'uric acid'\n",
    "# }\n",
    "\n",
    "loincs_cofounder_potassium_names = {'2157-6': 'creatineKinase',\n",
    "                               'LG6033-7': 'AST',      \n",
    "                               '2532-0': 'LDH',\n",
    "                               'LG44861-9': 'Haptoglobin', \n",
    "                               'LG49755-8': 'uricAcid'}\n",
    "\n",
    "bp_cofounder_potassium_names = {\n",
    "    'DIASTOLIC': 'Diastolic Blood Pressure',\n",
    "    'SYSTOLIC': 'Systolic Blood Pressure'\n",
    "}\n",
    "\n",
    "# loincs_potassium_names = {\n",
    "#     '2823-3': 'Potassium',\n",
    "#     '2160-0': 'Scr'\n",
    "# }\n",
    "\n",
    "loincs_potassium_names = {\n",
    "    'LG49936-4': 'Potassium',\n",
    "    'LG6657-3': 'Scr'\n",
    "}\n",
    "\n",
    "\n",
    "# Combine all dictionaries into one for simplicity\n",
    "all_mappings = {**loincs_cofounder_potassium_names, **bp_cofounder_potassium_names, **loincs_potassium_names}"
   ]
  },
  {
   "cell_type": "code",
   "execution_count": null,
   "id": "e175655b-5025-4dec-a6c8-681e90c97f0b",
   "metadata": {
    "tags": []
   },
   "outputs": [],
   "source": [
    "# Translate loinc1 and loinc2 using the mapping\n",
    "plist['loinc1'] = plist['loinc1'].replace(all_mappings)\n",
    "plist['loinc2'] = plist['loinc2'].replace(all_mappings)"
   ]
  },
  {
   "cell_type": "code",
   "execution_count": null,
   "id": "e177e543-a78c-4d63-843d-fa7c4699e5eb",
   "metadata": {
    "tags": []
   },
   "outputs": [],
   "source": []
  },
  {
   "cell_type": "code",
   "execution_count": null,
   "id": "0adffc90-f3b6-4b21-bc30-4cbfa23eeba0",
   "metadata": {
    "tags": []
   },
   "outputs": [],
   "source": [
    "selectx = list(loincs_cofounder_potassium_names.values())\n",
    "selectx.remove('Haptoglobin')\n",
    "selectx = '|'.join(selectx)\n",
    "plist = plist[plist['loinc1'].str.contains(selectx)]\n",
    "plist['pvalue_adj'] = statsmodels.stats.multitest.multipletests(plist['pvalue'])[1]"
   ]
  },
  {
   "cell_type": "code",
   "execution_count": null,
   "id": "ca413a0a-8d8f-44cb-9abb-cc6dadf60480",
   "metadata": {
    "tags": []
   },
   "outputs": [],
   "source": [
    "# Set up the 2x4 subplots\n",
    "fig, axs = plt.subplots(2, 4, figsize=(20, 8))\n",
    "fig.tight_layout(w_pad=2.0, h_pad=2.0)\n",
    "\n",
    "unique_loinc1_values = plist['loinc1'].unique()\n",
    "\n",
    "for i, loinc1_value in enumerate(unique_loinc1_values):\n",
    "    # Filter data for current loinc1_value and 'Potassium'\n",
    "    potassium_data = plist[(plist['loinc1'] == loinc1_value) & (plist['loinc2'] == 'Potassium')]\n",
    "    potassium_colors = ['red' if p >= 0.05 else 'blue' for p in potassium_data['pvalue_adj']]\n",
    "    \n",
    "    # Filter data for current loinc1_value and 'SCr'\n",
    "    scr_data = plist[(plist['loinc1'] == loinc1_value) & (plist['loinc2'] == 'Scr')]\n",
    "    scr_colors = ['red' if p >= 0.05 else 'blue' for p in scr_data['pvalue_adj']]\n",
    "\n",
    "    # Plot line and scatter for 'Potassium' on top row\n",
    "    axs[0, i].plot(potassium_data['shift'], potassium_data['rho'], linestyle='-', color='black')  # line connecting dots\n",
    "    axs[0, i].scatter(potassium_data['shift'], potassium_data['rho'], color=potassium_colors)\n",
    "    axs[0, i].set_title(f\"{loinc1_value.replace('creatineKinase', 'CK').replace('uricAcid', 'Uric Acid')} - Potassium\", fontsize=25)\n",
    "    if i == 0:\n",
    "        axs[0, i].set_ylabel(r'$\\rho$', fontsize=25)\n",
    "    else:\n",
    "        axs[0, i].set_ylabel(\"\")\n",
    "    axs[0, i].set_xticks([])\n",
    "    axs[0, i].axvline(0, color='gray', linestyle='--')\n",
    "    axs[0, i].axhline(0, color='gray', linestyle='--')\n",
    "\n",
    "    # Plot line and scatter for 'SCr' on bottom row\n",
    "    axs[1, i].plot(scr_data['shift'], scr_data['rho'], linestyle='-', color='black')  # line connecting dots\n",
    "    axs[1, i].scatter(scr_data['shift'], scr_data['rho'], color=scr_colors)\n",
    "    axs[1, i].set_title(f\"{loinc1_value.replace('creatineKinase', 'CK').replace('uricAcid', 'Uric Acid')} - SCr\", fontsize=25)\n",
    "    axs[1, i].set_xlabel(\"Lag\", fontsize=25)\n",
    "    if i == 0:\n",
    "        axs[1, i].set_ylabel(r'$\\rho$', fontsize=25)\n",
    "    else:\n",
    "        axs[1, i].set_ylabel(\"\")\n",
    "    axs[1, i].axvline(0, color='gray', linestyle='--')\n",
    "    axs[1, i].axhline(0, color='gray', linestyle='--')\n",
    "    \n",
    "    axs[0, i].tick_params(axis='both', which='major', labelsize=15)\n",
    "    axs[1, i].tick_params(axis='both', which='major', labelsize=15)\n",
    "\n",
    "plt.savefig('lagged_correlation.svg', bbox_inches='tight')\n",
    "plt.show()"
   ]
  },
  {
   "cell_type": "code",
   "execution_count": null,
   "id": "fc0cc11c-71eb-41b4-a168-35f35b8beb3b",
   "metadata": {
    "tags": []
   },
   "outputs": [],
   "source": []
  },
  {
   "cell_type": "code",
   "execution_count": null,
   "id": "a074c676-9bfb-4146-88f8-80f0f7f3cbe8",
   "metadata": {
    "tags": []
   },
   "outputs": [],
   "source": [
    "plist2 = pd.DataFrame(plist2)"
   ]
  },
  {
   "cell_type": "code",
   "execution_count": null,
   "id": "7bd869d6-faaa-453e-8c0d-0d841e842b7a",
   "metadata": {
    "tags": []
   },
   "outputs": [],
   "source": [
    "plist2.columns = ['loinc1', 'loinc2', 'shift', 'rho', 'pvalue']"
   ]
  },
  {
   "cell_type": "code",
   "execution_count": null,
   "id": "96e309da-44c7-4a0b-a5fa-1a3839132de3",
   "metadata": {
    "tags": []
   },
   "outputs": [],
   "source": [
    "plt.plot(plist2['shift'],plist2['rho'])"
   ]
  },
  {
   "cell_type": "code",
   "execution_count": null,
   "id": "938f3b62-4a19-48a7-add1-09088ee83e0f",
   "metadata": {},
   "outputs": [],
   "source": []
  },
  {
   "cell_type": "code",
   "execution_count": null,
   "id": "8d2b7a70-0855-4b9e-a947-ad591893a799",
   "metadata": {},
   "outputs": [],
   "source": []
  },
  {
   "cell_type": "code",
   "execution_count": null,
   "id": "6482a09a-63fa-458c-9f7e-5f6125809224",
   "metadata": {},
   "outputs": [],
   "source": []
  },
  {
   "cell_type": "code",
   "execution_count": null,
   "id": "49d5f75c-ea1e-4da1-aff0-fe1207f6f31e",
   "metadata": {},
   "outputs": [],
   "source": []
  }
 ],
 "metadata": {
  "kernelspec": {
   "display_name": "AKI_CDM_PY",
   "language": "python",
   "name": "aki_cdm_py"
  },
  "language_info": {
   "codemirror_mode": {
    "name": "ipython",
    "version": 3
   },
   "file_extension": ".py",
   "mimetype": "text/x-python",
   "name": "python",
   "nbconvert_exporter": "python",
   "pygments_lexer": "ipython3",
   "version": "3.6.15"
  }
 },
 "nbformat": 4,
 "nbformat_minor": 5
}
