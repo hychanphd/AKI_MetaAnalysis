{
 "cells": [
  {
   "cell_type": "code",
   "execution_count": null,
   "id": "3ed37f9e-9d73-40eb-b014-f7e7c6b8c5be",
   "metadata": {
    "tags": []
   },
   "outputs": [],
   "source": [
    "X <- matrix(rnorm(200),100,2)\n",
    "y <- 0.3*X[,1] + 1.2*X[,2] + rnorm(100)"
   ]
  },
  {
   "cell_type": "code",
   "execution_count": null,
   "id": "3676497d-c51e-4dcb-89bb-da45b7b97232",
   "metadata": {
    "tags": []
   },
   "outputs": [],
   "source": [
    "X"
   ]
  },
  {
   "cell_type": "code",
   "execution_count": null,
   "id": "7d6b5a42-3df4-44f6-a924-b253888590de",
   "metadata": {},
   "outputs": [],
   "source": []
  }
 ],
 "metadata": {
  "kernelspec": {
   "display_name": "AKI_CDM_R",
   "language": "R",
   "name": "ir"
  },
  "language_info": {
   "codemirror_mode": "r",
   "file_extension": ".r",
   "mimetype": "text/x-r-source",
   "name": "R",
   "pygments_lexer": "r",
   "version": "4.1.3"
  }
 },
 "nbformat": 4,
 "nbformat_minor": 5
}
