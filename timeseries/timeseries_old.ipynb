{
 "cells": [
  {
   "cell_type": "code",
   "execution_count": null,
   "id": "b1c95181-1593-4de6-ac16-9f491bac76e6",
   "metadata": {},
   "outputs": [],
   "source": [
    "import pandas as pd\n",
    "import numpy as np\n",
    "import itertools\n",
    "from scipy.stats import fisher_exact\n",
    "import shelve\n",
    "import pickle\n",
    "import pandas as pd\n",
    "import numpy as np\n",
    "import sklearn\n",
    "from sklearn.preprocessing import OneHotEncoder\n",
    "from sklearn.impute import SimpleImputer\n",
    "import matplotlib.pyplot as plt\n",
    "from PIL import Image\n",
    "from scipy.interpolate import BSpline, make_interp_spline, interp1d\n",
    "import csv\n",
    "from dfply import *\n",
    "import itertools\n",
    "import os\n",
    "import logging\n",
    "from sys import getsizeof\n",
    "import sklearn\n",
    "import time\n",
    "from sklearn.metrics import roc_auc_score\n",
    "from catboost import Pool, cv\n",
    "import xgboost\n",
    "import catboost\n",
    "import scipy.stats as st\n",
    "\n",
    "import importlib\n",
    "from joblib import Parallel, delayed\n",
    "from joblib import parallel_backend\n",
    "\n",
    "import pandas as pd\n",
    "import numpy as np\n",
    "import matplotlib.pyplot as plt\n",
    "from pandas.plotting import lag_plot\n",
    "from statsmodels.tsa.vector_ar.var_model import VAR\n",
    "from statsmodels.tsa.stattools import adfuller, kpss, grangercausalitytests, pacf\n",
    "from statsmodels.graphics.tsaplots import plot_pacf\n",
    "import warnings\n",
    "warnings.filterwarnings(\"ignore\")\n",
    "import scipy\n",
    "import datetime.timedelt"
   ]
  },
  {
   "cell_type": "code",
   "execution_count": null,
   "id": "33c1a99f-1c79-433f-88ec-8eeb9eb35434",
   "metadata": {
    "tags": []
   },
   "outputs": [],
   "source": [
    "site = 'UTHSCSA'\n",
    "datafolder = '/home/hoyinchan/blue/Data/data2021raw/'\n",
    "lab = pd.read_csv(datafolder+site+'/raw/AKI_LAB.csv')\n",
    "onset = pd.read_csv(datafolder+site+'/raw/AKI_ONSETS.csv') \n",
    "onset = onset[onset['NONAKI_SINCE_ADMIT'].isnull()]\n",
    "labx = lab[(lab['LAB_LOINC']=='2160-0') | (lab['LAB_LOINC']=='17861-6')]\n",
    "labx = labx[['PATID','ENCOUNTERID','SPECIMEN_DATE_TIME','LAB_LOINC','RESULT_NUM']]\n",
    "labx['SPECIMEN_DATE_TIME'] = pd.to_datetime(labx['SPECIMEN_DATE_TIME'])\n",
    "labx = labx.groupby(['PATID','ENCOUNTERID','SPECIMEN_DATE_TIME','LAB_LOINC']).mean().reset_index()\n",
    "labxx = labx.pivot(index=['PATID','ENCOUNTERID','SPECIMEN_DATE_TIME'], columns = 'LAB_LOINC', values='RESULT_NUM').reset_index()\n",
    "data_count = labxx.groupby(['PATID','ENCOUNTERID']).count().sort_values('SPECIMEN_DATE_TIME').reset_index()"
   ]
  },
  {
   "cell_type": "code",
   "execution_count": null,
   "id": "570df52f-54ce-4900-b388-1816f945af95",
   "metadata": {},
   "outputs": [],
   "source": [
    "onset = onset[['PATID','ENCOUNTERID', '', 'AKI1_SINCE_ADMIT', 'AKI2_SINCE_ADMIT', 'AKI3_SINCE_ADMIT']].min(axis=1)"
   ]
  },
  {
   "cell_type": "code",
   "execution_count": null,
   "id": "25822e6e-5a75-441f-b2eb-35a8dc46693d",
   "metadata": {},
   "outputs": [],
   "source": [
    "onset"
   ]
  },
  {
   "cell_type": "code",
   "execution_count": null,
   "id": "358c91ae-e515-4217-a658-4e3e06069578",
   "metadata": {},
   "outputs": [],
   "source": [
    "data_count.tail(10)"
   ]
  },
  {
   "cell_type": "code",
   "execution_count": null,
   "id": "8d96bd4d-6ff2-422b-84a0-9384ebc9ca5d",
   "metadata": {},
   "outputs": [],
   "source": [
    "tmp = labxx[labxx['ENCOUNTERID']==58476972183]"
   ]
  },
  {
   "cell_type": "code",
   "execution_count": null,
   "id": "8b544be2-58fe-4f51-bc11-5d27e2d8cb6e",
   "metadata": {},
   "outputs": [],
   "source": [
    "data_count['ENCOUNTERID'].iloc[-1]"
   ]
  },
  {
   "cell_type": "code",
   "execution_count": null,
   "id": "afc5077b-2c5e-4432-82a5-3d94aae8c607",
   "metadata": {},
   "outputs": [],
   "source": [
    "tmp.index=tmp['SPECIMEN_DATE_TIME']"
   ]
  },
  {
   "cell_type": "code",
   "execution_count": null,
   "id": "0cff1e66-9a98-46ff-8de6-b677b86062a0",
   "metadata": {},
   "outputs": [],
   "source": [
    "s = tmp['17861-6']\n",
    "r = tmp['2160-0']"
   ]
  },
  {
   "cell_type": "code",
   "execution_count": null,
   "id": "3a7c9fce-7d17-4b2f-b043-4e70d65f6c3b",
   "metadata": {},
   "outputs": [],
   "source": [
    "td = (np.diff(s.index).mean().astype('timedelta64[h]')*1).astype(int)\n",
    "td = str(td)+'H'"
   ]
  },
  {
   "cell_type": "code",
   "execution_count": null,
   "id": "59120028-ac47-47dd-bdb3-473a6e3feb7f",
   "metadata": {},
   "outputs": [],
   "source": [
    "def regular_ts(s):\n",
    "    oidx = s.index\n",
    "    nidx = pd.date_range(oidx.min(), oidx.max(), freq=td)\n",
    "    res = s.reindex(oidx.union(nidx)).interpolate('index').reindex(nidx)\n",
    "    res.plot(style='.-')\n",
    "    s.plot(style='o')    \n",
    "    return res"
   ]
  },
  {
   "cell_type": "code",
   "execution_count": null,
   "id": "2da01b04-b4d3-430f-9dfc-ba9b7006e48b",
   "metadata": {},
   "outputs": [],
   "source": [
    "s = regular_ts(s)"
   ]
  },
  {
   "cell_type": "code",
   "execution_count": null,
   "id": "13b5e2ea-6756-4a9f-b685-45a8dfc621f1",
   "metadata": {},
   "outputs": [],
   "source": [
    "r = regular_ts(r)"
   ]
  },
  {
   "cell_type": "code",
   "execution_count": null,
   "id": "73818bfe-cce1-4000-b28f-304b6f828111",
   "metadata": {},
   "outputs": [],
   "source": [
    "tentmap_df = pd.DataFrame([s, r]).T\n",
    "tentmap_df = tentmap_df.reset_index(drop=True).reset_index()\n",
    "tentmap_df.columns = ['Time','calcium', 'scr']"
   ]
  },
  {
   "cell_type": "code",
   "execution_count": null,
   "id": "a9196457-855b-496e-aa07-06b8ae0e0076",
   "metadata": {},
   "outputs": [],
   "source": [
    "tentmap_df.to_parquet('tentmap_df.parquet')"
   ]
  },
  {
   "cell_type": "code",
   "execution_count": null,
   "id": "c5adf543-7558-49e5-8e18-728e18412427",
   "metadata": {},
   "outputs": [],
   "source": [
    "plt.scatter(x=s.index, y=s)"
   ]
  },
  {
   "cell_type": "code",
   "execution_count": null,
   "id": "a7b66bc0-cbac-4a35-b875-333db19960c8",
   "metadata": {},
   "outputs": [],
   "source": [
    "testdf = pd.DataFrame([0,1,2,3,4,5,6,7,8,9,10])"
   ]
  },
  {
   "cell_type": "code",
   "execution_count": null,
   "id": "b6505588-e5a8-414b-b354-8d2f7f53b75a",
   "metadata": {},
   "outputs": [],
   "source": [
    "testdf = testdf.reset_index()"
   ]
  },
  {
   "cell_type": "code",
   "execution_count": null,
   "id": "b6893cf4-5d5b-4e42-be2e-2043b93bf280",
   "metadata": {},
   "outputs": [],
   "source": [
    "testdf.columns = ['Time', 'x']"
   ]
  },
  {
   "cell_type": "code",
   "execution_count": null,
   "id": "681d90f1-0c85-4452-b416-b8a206fc6712",
   "metadata": {},
   "outputs": [],
   "source": []
  },
  {
   "cell_type": "code",
   "execution_count": null,
   "id": "e2e3edb5-338a-4b20-8127-2f0b068ebeb7",
   "metadata": {},
   "outputs": [],
   "source": [
    "pyEDM.Embed(dataFrame=testdf, columns='x', E=4, tau=-2)"
   ]
  },
  {
   "cell_type": "code",
   "execution_count": null,
   "id": "19a121c5-2192-4399-ba89-4a7ca95c1443",
   "metadata": {
    "tags": []
   },
   "outputs": [],
   "source": [
    "import pyEDM"
   ]
  },
  {
   "cell_type": "code",
   "execution_count": null,
   "id": "59a548fd-dbfa-49ed-aa8e-1d66e355ef98",
   "metadata": {
    "tags": []
   },
   "outputs": [],
   "source": [
    "optimal_emdeddings = list()\n",
    "lx = tentmap_df.shape[0]\n",
    "lib = \"1 \"+str(lx)\n",
    "pred = lib\n",
    "for tau in range(-10,0):\n",
    "    for E in range(1,10):\n",
    "        try:\n",
    "            x1 = pyEDM.Simplex(dataFrame=tentmap_df, lib=lib , pred=pred, columns='calcium', target='calcium', Tp=1, tau=tau, E=E)\n",
    "            optimal_emdedding = pd.DataFrame([E, pyEDM.ComputeError(x1['Observations'], x1['Predictions'])['rho']]).T\n",
    "            optimal_emdedding.columns = ['E', 'rho']\n",
    "#            optimal_emdedding = pyEDM.EmbedDimension(dataFrame=tentmap_df, lib=lib , pred=pred, columns='calcium', target='calcium', Tp=1, tau=tau, maxE=7)\n",
    "            optimal_emdedding['tau'] = tau\n",
    "            optimal_emdedding['target'] = 'calcium'\n",
    "            optimal_emdeddings.append(optimal_emdedding)        \n",
    "            \n",
    "            x1 = pyEDM.Simplex(dataFrame=tentmap_df, lib=lib , pred=pred, columns='scr', target='scr', Tp=1, tau=tau, E=E)\n",
    "            optimal_emdedding = pd.DataFrame([E, pyEDM.ComputeError(x1['Observations'], x1['Predictions'])['rho']]).T\n",
    "            optimal_emdedding.columns = ['E', 'rho']            \n",
    "#            optimal_emdedding = pyEDM.EmbedDimension(dataFrame=tentmap_df, lib=lib , pred=pred, columns='scr', target='scr', Tp=1, tau=tau, maxE=7)\n",
    "            optimal_emdedding['tau'] = tau     \n",
    "            optimal_emdedding['target'] = 'scr'        \n",
    "            optimal_emdeddings.append(optimal_emdedding)\n",
    "        except:\n",
    "            pass\n",
    "optimal_emdeddings = pd.concat(optimal_emdeddings)"
   ]
  },
  {
   "cell_type": "code",
   "execution_count": null,
   "id": "fd3b8e01-cb29-40c7-acf2-ecace0e98415",
   "metadata": {},
   "outputs": [],
   "source": [
    "optimal_values = optimal_emdeddings.sort_values('tau',ascending=False).groupby('target').head(1)"
   ]
  },
  {
   "cell_type": "code",
   "execution_count": null,
   "id": "a892618b-c274-4501-b5b0-e8733b3293d4",
   "metadata": {},
   "outputs": [],
   "source": [
    "#libSizes = ','.join(str(x) for x in list(range(5, len(tentmap_df),5)))\n",
    "libSizes=str(len(tentmap_df)-1)"
   ]
  },
  {
   "cell_type": "code",
   "execution_count": null,
   "id": "78f0c703-4f9b-484c-9e7c-7fda40fd1315",
   "metadata": {
    "tags": []
   },
   "outputs": [],
   "source": [
    "step = 5\n",
    "sample = 10\n",
    "libSizes = ' '.join([str(x) for x in [5, tdf.shape[0], 5]])"
   ]
  },
  {
   "cell_type": "code",
   "execution_count": null,
   "id": "66803798-d671-442b-b16a-3cdf22ab9754",
   "metadata": {
    "tags": []
   },
   "outputs": [],
   "source": [
    "r1 = pyEDM.CCM(dataFrame=tdf, columns='calcium', target='scr', E=2, Tp=1, tau=-1, sample = 10, libSizes=libSizes, replacement=True, includeData=True)\n",
    "r2 = pyEDM.CCM(dataFrame=tdf, columns='scr', target='calcium', E=1, Tp=1, tau=-1, sample = 10, libSizes=libSizes, replacement=True, includeData=True)"
   ]
  },
  {
   "cell_type": "code",
   "execution_count": null,
   "id": "a3fe70b6-995e-4220-a9cb-3c887862ffe1",
   "metadata": {
    "tags": []
   },
   "outputs": [],
   "source": [
    "r1['PredictStats1']"
   ]
  },
  {
   "cell_type": "code",
   "execution_count": null,
   "id": "b2b430f5-b75e-45f7-83f8-3986450f3753",
   "metadata": {
    "tags": []
   },
   "outputs": [],
   "source": [
    "def ttest(a):\n",
    "    return scipy.stats.ttest_1samp(a, 0).pvalue"
   ]
  },
  {
   "cell_type": "code",
   "execution_count": null,
   "id": "fa56fb5d-5981-42a5-baeb-1041d3f78072",
   "metadata": {
    "tags": []
   },
   "outputs": [],
   "source": [
    "r1p = r1['PredictStats1'][['E','nn','tau','LibSize','rho']].groupby(['E','nn','tau','LibSize']).agg([np.mean, np.std, ttest]).reset_index()\n",
    "r2p = r2['PredictStats1'][['E','nn','tau','LibSize','rho']].groupby(['E','nn','tau','LibSize']).agg([np.mean, np.std, ttest]).reset_index()"
   ]
  },
  {
   "cell_type": "code",
   "execution_count": null,
   "id": "8931bc9f-809f-4d37-b605-7cf7d05901e7",
   "metadata": {
    "tags": []
   },
   "outputs": [],
   "source": [
    "plt.plot(r1p['LibSize'], r1p[('rho','mean')])\n",
    "plt.fill_between(r1p['LibSize'], r1p[('rho','mean')]-2*r1p[('rho','std')], r1p[('rho','mean')]+2*r1p[('rho','std')], alpha=0.1)\n",
    "plt.plot(r2p['LibSize'], r2p[('rho','mean')])\n",
    "plt.fill_between(r2p['LibSize'], r2p[('rho','mean')]-2*r2p[('rho','std')], r2p[('rho','mean')]+2*r2p[('rho','std')], alpha=0.1)\n",
    "plt.axhline(y=0, color='g')\n",
    "plt.show()"
   ]
  },
  {
   "cell_type": "code",
   "execution_count": null,
   "id": "0965b855-cf92-4dcb-88be-1e47a1c710e7",
   "metadata": {
    "tags": []
   },
   "outputs": [],
   "source": [
    "Tps = list(range(-10,10))\n",
    "rphos = list()\n",
    "for Tp in Tps: \n",
    "    tdf = tentmap_df.copy()\n",
    "    sample = 200    \n",
    "#    libSizes=str(len(tdf))\n",
    "    libSizes=str(50)\n",
    "    rpho = pyEDM.CCM(dataFrame=tdf, columns='calcium', target='scr', E=4, Tp=Tp, tau=-1, sample = sample, libSizes=libSizes, replacement=True, includeData=True)\n",
    "    rpho['Tp'] = Tp\n",
    "    rphos.append(rpho)\n",
    "rphodf = pd.concat([x['LibMeans'] for x in rphos])\n",
    "rphodf['std'] = [x['PredictStats1']['rho'].std() for x in rphos]\n",
    "rphodf['Tp'] = [x['Tp'] for x in rphos]"
   ]
  },
  {
   "cell_type": "code",
   "execution_count": null,
   "id": "fc8d6c3a-b117-40a6-b3e7-b1f55b0b7d1f",
   "metadata": {},
   "outputs": [],
   "source": [
    "plt.plot(rphodf['Tp'], rphodf['calcium:scr'])\n",
    "plt.fill_between(rphodf['Tp'], rphodf['calcium:scr']-rphodf['std'], rphodf['calcium:scr']+rphodf['std'],alpha=0.1)\n",
    "plt.axvline(x=0, color='r')\n",
    "plt.axhline(y=0, color='g')"
   ]
  },
  {
   "cell_type": "code",
   "execution_count": null,
   "id": "4dd3d241-6e10-41a7-9dd5-68a48eb40511",
   "metadata": {},
   "outputs": [],
   "source": [
    "Tps = list(range(-10,10))\n",
    "rphos = list()\n",
    "bootstrap = 10\n",
    "for Tp in Tps: \n",
    "    tdf = tentmap_df.copy()\n",
    "    sample = 100\n",
    "#    libSizes=str(len(tdf))    \n",
    "    libSizes=str(50)    \n",
    "    rpho = pyEDM.CCM(dataFrame=tdf, columns='scr', target='calcium', E = 1, Tp=Tp, tau=-1, sample = 100, libSizes=libSizes, replacement=True, includeData=True)\n",
    "    rpho['Tp'] = Tp\n",
    "    rphos.append(rpho)\n",
    "rphodf = pd.concat([x['LibMeans'] for x in rphos])\n",
    "rphodf['std'] = [x['PredictStats1']['rho'].std() for x in rphos]\n",
    "rphodf['Tp'] = [x['Tp'] for x in rphos]"
   ]
  },
  {
   "cell_type": "code",
   "execution_count": null,
   "id": "4327a29c-3f8c-4172-a587-e93ca68a3bb6",
   "metadata": {},
   "outputs": [],
   "source": [
    "plt.plot(rphodf['Tp'], rphodf['scr:calcium'])\n",
    "plt.fill_between(rphodf['Tp'], rphodf['scr:calcium']-rphodf['std'], rphodf['scr:calcium']+rphodf['std'],alpha=0.1)\n",
    "plt.axvline(x=0, color='r')\n",
    "plt.axhline(y=0, color='g')"
   ]
  },
  {
   "cell_type": "code",
   "execution_count": null,
   "id": "44dfdd41-641c-4b76-9668-706b6fb02435",
   "metadata": {},
   "outputs": [],
   "source": [
    "import myccm"
   ]
  },
  {
   "cell_type": "code",
   "execution_count": null,
   "id": "e3606cd9-3cdf-41ba-992e-b3068ffa4eac",
   "metadata": {},
   "outputs": [],
   "source": []
  }
 ],
 "metadata": {
  "kernelspec": {
   "display_name": "AKI_CDM_PY",
   "language": "python",
   "name": "aki_cdm_py"
  },
  "language_info": {
   "codemirror_mode": {
    "name": "ipython",
    "version": 3
   },
   "file_extension": ".py",
   "mimetype": "text/x-python",
   "name": "python",
   "nbconvert_exporter": "python",
   "pygments_lexer": "ipython3",
   "version": "3.6.15"
  }
 },
 "nbformat": 4,
 "nbformat_minor": 5
}
