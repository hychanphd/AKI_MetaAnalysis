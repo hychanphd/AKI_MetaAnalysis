{
 "cells": [
  {
   "cell_type": "code",
   "execution_count": null,
   "id": "14dee485-3c3a-459a-9859-229d7d94438a",
   "metadata": {
    "tags": []
   },
   "outputs": [],
   "source": [
    "import pandas as pd\n",
    "import numpy as np\n",
    "import itertools\n",
    "from scipy.stats import fisher_exact\n",
    "import shelve\n",
    "import pickle\n",
    "import pandas as pd\n",
    "import numpy as np\n",
    "import sklearn\n",
    "from sklearn.preprocessing import OneHotEncoder\n",
    "from sklearn.impute import SimpleImputer\n",
    "import matplotlib.pyplot as plt\n",
    "from PIL import Image\n",
    "from scipy.interpolate import BSpline, make_interp_spline, interp1d\n",
    "import csv\n",
    "from dfply import *\n",
    "import itertools\n",
    "import os\n",
    "import logging\n",
    "from sys import getsizeof\n",
    "import sklearn\n",
    "import time\n",
    "from sklearn.metrics import roc_auc_score\n",
    "from catboost import Pool, cv\n",
    "import xgboost\n",
    "import catboost\n",
    "import scipy.stats as st\n",
    "\n",
    "import importlib\n",
    "from joblib import Parallel, delayed\n",
    "from joblib import parallel_backend\n",
    "\n",
    "import pandas as pd\n",
    "import numpy as np\n",
    "import matplotlib.pyplot as plt\n",
    "from pandas.plotting import lag_plot\n",
    "#from statsmodels.tsa.vector_ar.var_model import VARY\n",
    "from statsmodels.tsa.stattools import adfuller, kpss, grangercausalitytests, pacf\n",
    "from statsmodels.graphics.tsaplots import plot_pacf\n",
    "import warnings\n",
    "warnings.filterwarnings(\"ignore\")\n",
    "import scipy\n",
    "import datetime\n",
    "\n",
    "from joblib import Parallel, delayed\n",
    "\n",
    "import scipy\n",
    "import importlib\n",
    "from itertools import combinations\n",
    "import forestplot as fp\n",
    "import statsmodels.api as sm\n",
    "import pyarrow\n",
    "import concurrent.futures"
   ]
  },
  {
   "cell_type": "code",
   "execution_count": null,
   "id": "1ca17b01-483f-4053-9791-99459822c2a2",
   "metadata": {
    "tags": []
   },
   "outputs": [],
   "source": [
    "# 2021\n",
    "# site='KUMC'\n",
    "# print(site)\n",
    "# import myits\n",
    "# importlib.reload(myits)\n",
    "# datafolder = '/home/hoyinchan/blue/Data/data2021raw/'\n",
    "# myitsX = myits.myits()\n",
    "# myitsX.get_onsetdata(site=site)                \n",
    "# myitsX.get_data(site=site)\n",
    "# myitsX.get_meddata(site=site)\n",
    "# myitsX.set_loincs_pair()\n",
    "# myitsX.med_code_transform()\n",
    "# myitsX.extract_med_data()\n",
    "# myitsX.lab = None\n",
    "# with open(datafolder+'myits2_tmp_'+site+'.pkl', \"wb\") as f:\n",
    "#      pickle.dump(myitsX,f)\n",
    "# myitsX.run()"
   ]
  },
  {
   "cell_type": "code",
   "execution_count": null,
   "id": "6fd420c5-d887-4fe5-9c31-6746e6e7d4b7",
   "metadata": {
    "tags": []
   },
   "outputs": [],
   "source": [
    "site = 'UTHSCSA'\n",
    "'/home/hoyinchan/blue/Data/data2022/'+site+'/p0_onset_'+site+'.parquet'"
   ]
  },
  {
   "cell_type": "code",
   "execution_count": null,
   "id": "422a1021-c883-408f-b047-7e8634564d0c",
   "metadata": {
    "tags": []
   },
   "outputs": [],
   "source": [
    "#sites = ['UTHSCSA', 'UTSW', 'MCW', 'UofU', 'UIOWA', 'UMHC', 'UNMC', 'KUMC', 'UPITT']\n",
    "sites = ['UIOWA', 'UMHC', 'UNMC', 'KUMC', 'UPITT']\n",
    "#sites = ['UTHSCSA']\n",
    "for site in sites:\n",
    "    try:\n",
    "        print(site)\n",
    "        import myits\n",
    "        importlib.reload(myits)\n",
    "        datafolder = '/home/hoyinchan/blue/Data/data2022/'\n",
    "\n",
    "        myitsX = myits.myits()\n",
    "        myitsX.get_onsetdata(site=site)                \n",
    "        myitsX.get_data(site=site)\n",
    "        myitsX.get_meddata(site=site)\n",
    "        myitsX.set_loincs_pair()\n",
    "        myitsX.med_code_transform()\n",
    "        myitsX.extract_med_data()\n",
    "        myitsX.lab = None\n",
    "        with open(datafolder+'myits2_tmp_'+site+'.pkl', \"wb\") as f:\n",
    "             pickle.dump(myitsX,f)\n",
    "        print(f\"Finished {site}\")\n",
    "        # myitsX.run()\n",
    "    except:\n",
    "        pass\n",
    "\n",
    "# myitsX.combine_output(prefix=datafolder+'myco4_corr_', outname='mlr7_cofounder')\n",
    "# myitsX.combine_output(prefix=datafolder+'myco4_corrsig_', outname='mlr7sig_cofounder')\n",
    "# myitsX.combine_output(prefix=datafolder+'myco4_corrraw_', outname='mlr7raw_cofounder')\n",
    "\n",
    "# myitsX.calculate_all3(mydatatype='slope')\n",
    "# myitsX.calculate_all3(mydatatype='intercept')"
   ]
  },
  {
   "cell_type": "code",
   "execution_count": null,
   "id": "c7ae6cb2-8157-4a6a-b073-3fa7556972da",
   "metadata": {
    "tags": []
   },
   "outputs": [],
   "source": [
    "sites = ['UTHSCSA', 'UTSW', 'MCW', 'UofU', 'UIOWA', 'UMHC', 'UNMC', 'KUMC', 'UPITT']"
   ]
  },
  {
   "cell_type": "code",
   "execution_count": null,
   "id": "e9be4555-7a97-462d-8ca2-c5d9afd9a349",
   "metadata": {
    "tags": []
   },
   "outputs": [],
   "source": [
    "import myits\n",
    "importlib.reload(myits)\n",
    "datafolder = '/home/hoyinchan/blue/Data/data2022/'\n",
    "\n",
    "#for site in sites:\n",
    "def get_labxx(site):    \n",
    "    try:\n",
    "        myitsX = myits.myits()\n",
    "        with open(datafolder+'myits2_tmp_'+site+'.pkl', \"rb\") as f:\n",
    "            myitsX2 = pickle.load(f)\n",
    "        myitsX.copy(myitsX2)\n",
    "        myitsX.calculate_pretreatment()\n",
    "        myitsX.pre_post_count()\n",
    "        myitsX.labxx['site'] = site\n",
    "        return myitsX.labxx\n",
    "    except Exception as e: \n",
    "        print('not working for site:', site, 'Error:', e)\n",
    "        return None"
   ]
  },
  {
   "cell_type": "code",
   "execution_count": null,
   "id": "c200b286-8d05-490e-8e96-44109afbb2a6",
   "metadata": {
    "tags": []
   },
   "outputs": [],
   "source": [
    "def parallel_processing(sites):\n",
    "    labXs = []\n",
    "    with concurrent.futures.ProcessPoolExecutor(max_workers=11) as executor:\n",
    "        results = executor.map(get_labxx, sites)        \n",
    "#        for result in results:\n",
    "#            labXs.extend(result)\n",
    "    return results"
   ]
  },
  {
   "cell_type": "code",
   "execution_count": null,
   "id": "6860b16c-de69-4d16-bd25-d8192f6fff91",
   "metadata": {
    "tags": []
   },
   "outputs": [],
   "source": [
    "labXs = parallel_processing(sites)\n",
    "\n",
    "labX2 = list(labXs)\n",
    "labX3 = [x for x in labX2 if isinstance(x, pd.DataFrame)]\n",
    "labX4 = pd.concat(labX3)"
   ]
  },
  {
   "cell_type": "code",
   "execution_count": null,
   "id": "9e3d68e7-d32b-4331-b2ef-74f6939aded8",
   "metadata": {
    "tags": []
   },
   "outputs": [],
   "source": [
    "labX4['PATID'] = labX4['PATID'].astype(str)\n",
    "labX4['ENCOUNTERID'] = labX4['ENCOUNTERID'].astype(str)\n",
    "labX4['ONSETS_ENCOUNTERID'] = labX4['ONSETS_ENCOUNTERID'].astype(str)\n",
    "labX4['LAB_RESULT_CM_ID'] = labX4['LAB_RESULT_CM_ID'].astype(str)\n",
    "labX4['ID'] = labX4['PATID']+'_'+labX4['ENCOUNTERID']+'_'+labX4['site']\n",
    "labX4['DAYS_SINCE_ADMIT'] = labX4['DAYS_SINCE_ADMIT'].astype(int)"
   ]
  },
  {
   "cell_type": "code",
   "execution_count": null,
   "id": "3ff92c23-c407-47e7-a502-fc88101958aa",
   "metadata": {
    "tags": []
   },
   "outputs": [],
   "source": [
    "labX4['MEDADMIN_CODE_NEW'] = 'MED:'+labX4['MEDADMIN_TYPE']+':'+labX4['MEDADMIN_CODE']"
   ]
  },
  {
   "cell_type": "code",
   "execution_count": null,
   "id": "2a17e82f-4377-4b70-824e-0f9d56196a63",
   "metadata": {
    "tags": []
   },
   "outputs": [],
   "source": [
    "labX4.to_pickle(datafolder+'allmedlabxx.pkl')"
   ]
  },
  {
   "cell_type": "code",
   "execution_count": null,
   "id": "f9972249-49d0-439b-a7ea-9d7afb010160",
   "metadata": {
    "tags": []
   },
   "outputs": [],
   "source": [
    "labX40 = labX4.copy()\n",
    "#labX40['RESULT_DATE'] = pd.to_datetime(labX40['RESULT_DATE'])\n",
    "labX40 = labX40.drop(['LAB_ORDER_DATE', 'SPECIMEN_TIME', 'RESULT_DATE', 'RESULT_TIME', 'NORM_RANGE_LOW', 'NORM_RANGE_HIGH']+[x for x in labX4.columns if 'RAW' in x],axis=1)\n",
    "labX40.to_parquet(datafolder+'allmedlabxx.parquet')"
   ]
  },
  {
   "cell_type": "code",
   "execution_count": null,
   "id": "1115d0d0-e936-4cdc-a5b5-b57d64de227e",
   "metadata": {
    "tags": []
   },
   "outputs": [],
   "source": [
    "dict_med =   {'MED:ATC:A07DA': 'DiphenoxylateLoperamide(LK):A07DA',\n",
    "              'MED:ATC:C03CA': 'FurosemideBumetanideTorsemide(LKLNa):C03CA',\n",
    "              'MED:ATC:C03CB': 'FurosemideBumetanideTorsemide(LKLNa):C03CA',\n",
    "              'MED:ATC:C03EB': 'FurosemideBumetanideTorsemide(LKLNa):C03EB',\n",
    "              'MED:ATC:C03AA': 'hydrochlorothiazide(LNa):C03AA',\n",
    "              'MED:ATC:C03AB': 'hydrochlorothiazide(LNa):C03AB',\n",
    "              'MED:ATC:C03AH': 'chlorothiazide(LNa):C03AH',\n",
    "              'MED:ATC:C03BA': 'chlorthalidone(LNa):C03BA',\n",
    "              'MED:ATC:C03EA': 'hydrochlorothiazide(LNa):C03EA',\n",
    "              'MED:ATC:C09DX': 'SacubitrilValsartan(HK):C09DX',\n",
    "              'MED:ATC:C03DA': 'eplerenone(HK):C03DA',\n",
    "              'MED:ATC:C03XA': 'tolvaptan(LNa):C03XA',\n",
    "              'MED:ATC:C09XA': 'hydrochlorothiazide(LNa):C09XA',\n",
    "              'MED:ATC:C09DX': 'hydrochlorothiazide(LNa):C09DX',\n",
    "              'MED:ATC:C03AX': 'hydrochlorothiazide(LNa):C03AX',\n",
    "              'MED:ATC:C09BX': 'hydrochlorothiazide(LNa):C09BX',\n",
    "              'MED:ATC:M05BA': 'PamidronateZoledronate(HCa):M05BA',\n",
    "              'MED:ATC:M05BB': 'etidronate(HCa):M05BB'}"
   ]
  },
  {
   "cell_type": "code",
   "execution_count": null,
   "id": "25569d4e-d999-44b1-8c9b-0f8dace42ea0",
   "metadata": {
    "tags": []
   },
   "outputs": [],
   "source": [
    "# lab_loinc = {'2823-3':'potassium',\n",
    "#             '17861-6':'calcium',\n",
    "#             '2951-2':'sodium', \n",
    "#             '2160-0':'sCr'}\n",
    "lab_loinc = {'LG49936-4':'potassium',\n",
    "                'LG49864-8':'calcium',\n",
    "                'LG11363-5':'sodium', \n",
    "                'LG6657-3':'sCr'}"
   ]
  },
  {
   "cell_type": "code",
   "execution_count": null,
   "id": "85f98a3f-f984-4cc8-9cf6-abc3b6f5c96c",
   "metadata": {
    "tags": []
   },
   "outputs": [],
   "source": [
    "for loinc in list(lab_loinc.keys()):\n",
    "    for med in list(dict_med.keys()):\n",
    "        try:\n",
    "            nhanes2 = labX4.copy()\n",
    "\n",
    "            nhanes2['posttreatment'] = ~nhanes2['pretreatment']\n",
    "            nhanes2['posttreatment'] = nhanes2['posttreatment'].astype(int)\n",
    "\n",
    "            nhanes2 = nhanes2[nhanes2['MEDADMIN_CODE_NEW'] == med]\n",
    "            nhanes2 = nhanes2[nhanes2['LAB_LOINC'] == loinc]\n",
    "            \n",
    "            #nhanes2 = nhanes2[['ENCOUNTERID', 'RESULT_NUM', 'pretreatment2', 'SPECIMEN_DATE_TIME_DELTA']]\n",
    "            #nhanes2['SPECIMEN_DATE_TIME_DELTA2'] = nhanes2['SPECIMEN_DATE_TIME_DELTA'].dt.total_seconds()/60/60\n",
    "\n",
    "            nhanes2 = nhanes2[['ID', 'RESULT_NUM', 'posttreatment', 'DAYS_SINCE_ADMIT', 'site']]\n",
    "\n",
    "            nhanes2_min = nhanes2[nhanes2['posttreatment']==1][['ID','DAYS_SINCE_ADMIT']].groupby(['ID']).min().reset_index()\n",
    "            nhanes2_min.columns = ['ID','DAYS_SINCE_ADMIT_MIN']\n",
    "            nhanes2 = nhanes2.merge(nhanes2_min, on = 'ID', how='inner') \n",
    "            \n",
    "            nhanes2['DAYS_SINCE_ADMIT'] = nhanes2['DAYS_SINCE_ADMIT'] - nhanes2['DAYS_SINCE_ADMIT_MIN']\n",
    "            nhanes2 = nhanes2.drop('DAYS_SINCE_ADMIT_MIN',axis=1)\n",
    "            \n",
    "            nhanes2.ID = pd.factorize(nhanes2['ID'])[0] + 1            \n",
    "            print(\"Saving \" + datafolder+''+'xtitsa_'+loinc.replace(\"-\",'')+med.replace(\":\",'')+'.parquet')\n",
    "            if nhanes2.shape[0] == 0:\n",
    "                print(f\"No element for {loinc}:{med}\")\n",
    "            else:\n",
    "                nhanes2.to_parquet(datafolder+''+'xtitsa_'+loinc.replace(\"-\",'')+med.replace(\":\",'')+'.parquet')\n",
    "        except Exception as e: \n",
    "            print('not working for site:', loinc, med, 'Error:', e)"
   ]
  },
  {
   "cell_type": "code",
   "execution_count": null,
   "id": "067261b0-f641-469e-98d8-54d508c2d134",
   "metadata": {
    "tags": []
   },
   "outputs": [],
   "source": []
  },
  {
   "cell_type": "code",
   "execution_count": null,
   "id": "df8f8f56-5798-426c-b8b9-3aea3cc44924",
   "metadata": {
    "tags": []
   },
   "outputs": [],
   "source": []
  },
  {
   "cell_type": "code",
   "execution_count": null,
   "id": "114904ee-1431-4940-b755-da38f89ad14c",
   "metadata": {
    "tags": []
   },
   "outputs": [],
   "source": []
  },
  {
   "cell_type": "code",
   "execution_count": null,
   "id": "baae9e69-b4bf-4aa9-9135-5c7d1cee8033",
   "metadata": {
    "tags": []
   },
   "outputs": [],
   "source": [
    "# onsetsdfs = list()\n",
    "# sites = ['UTHSCSA', 'KUMC', 'MCW', 'UMHC', 'UNMC', 'UTSW', 'UofU', 'UPITT', 'IUR', 'UIOWA']\n",
    "# for site in sites:\n",
    "#     onsetsdf = pd.read_csv(datafolder+site+'/raw/AKI_ONSETS.csv')\n",
    "#     onsetsdf['site'] = site\n",
    "#     onsetsdfs.append(onsetsdf)\n",
    "# onsetsdfs = pd.concat(onsetsdfs)\n",
    "# onsetsdfs['PATID'] = onsetsdfs['PATID'].astype(str)\n",
    "# onsetsdfs['ENCOUNTERID'] = onsetsdfs['ENCOUNTERID'].astype(str)\n",
    "\n",
    "# onsetsdfs =  onsetsdfs[['PATID','ENCOUNTERID', 'ADMIT_DATE', 'AKI1_ONSET', 'AKI2_ONSET', 'AKI3_ONSET']]\n",
    "# onsetsdfs = onsetsdfs.bfill(axis=1)\n",
    "# onsetsdfs = onsetsdfs[['PATID','ENCOUNTERID', 'ADMIT_DATE', 'AKI1_ONSET']]\n",
    "# onsetsdfs['AKI1_ONSET'] = pd.to_datetime(onsetsdfs['AKI1_ONSET'])        \n",
    "\n",
    "# onsetsdfs"
   ]
  },
  {
   "cell_type": "code",
   "execution_count": null,
   "id": "5d23c266-433e-4732-b7e4-9e0ec5eca2ba",
   "metadata": {
    "tags": []
   },
   "outputs": [],
   "source": []
  },
  {
   "cell_type": "code",
   "execution_count": null,
   "id": "e6bf8ca3-5b1e-421c-a06b-eb9bf05024ec",
   "metadata": {
    "tags": []
   },
   "outputs": [],
   "source": []
  },
  {
   "cell_type": "code",
   "execution_count": null,
   "id": "c106d884-caed-4279-a4d6-97fb64d63106",
   "metadata": {
    "tags": []
   },
   "outputs": [],
   "source": []
  },
  {
   "cell_type": "code",
   "execution_count": null,
   "id": "db6089d5-88d1-4f07-92b5-cf27b98868d3",
   "metadata": {},
   "outputs": [],
   "source": [
    "# #Senity Check\n",
    "\n",
    "# med = 'MED:ATC:A07DA'\n",
    "# loinc = '2160-0'\n",
    "\n",
    "# datafolder = '/home/hoyinchan/blue/Data/data2021raw/'\n",
    "# labX4 = pd.read_parquet(datafolder+'allmedlabxx.parquet')\n",
    "\n",
    "# nhanes2 = labX4.copy()\n",
    "\n",
    "# nhanes2.columns\n",
    "\n",
    "# nhanes2['onset_since_med'] = (pd.to_datetime(nhanes2['AKI1_ONSET'])-pd.to_datetime(nhanes2['MEDADMIN_START_DATE_TIME'])).dt.days\n",
    "# nhanes2 = nhanes2[nhanes2['onset_since_med']<=7]\n",
    "\n",
    "# df = nhanes2.copy()\n",
    "# # Filter dataframe for rows where 'posttreatment' is False and count by 'ENCOUNTERID'\n",
    "# false_counts = df[df['posttreatment'] == False].groupby('ENCOUNTERID').size()\n",
    "\n",
    "# # Filter dataframe for rows where 'posttreatment' is True and count by 'ENCOUNTERID'\n",
    "# true_counts = df[df['posttreatment'] == True].groupby('ENCOUNTERID').size()\n",
    "\n",
    "# # Find 'ENCOUNTERID' values that meet the criteria\n",
    "# ids = false_counts[(false_counts > 7) & (true_counts > 5)].index\n",
    "\n",
    "# print(ids.tolist())\n",
    "\n",
    "# nhanes2['posttreatment'] = ~nhanes2['pretreatment']\n",
    "# nhanes2['posttreatment'] = nhanes2['posttreatment'].astype(int)\n",
    "\n",
    "# nhanes2 = nhanes2[nhanes2['MEDADMIN_CODE_NEW'] == med]\n",
    "# nhanes2 = nhanes2[nhanes2['LAB_LOINC'] == loinc]\n",
    "\n",
    "# nhanes2X = nhanes2[nhanes2['ENCOUNTERID'] == '140000055697415']\n",
    "\n",
    "# nhanes2Xp = nhanes2X[['DAYS_SINCE_ADMIT', 'RESULT_NUM', 'pretreatment']].groupby(['DAYS_SINCE_ADMIT', 'pretreatment']).mean().reset_index()\n",
    "\n",
    "# colors = nhanes2Xp['pretreatment'].map({True: 'red', False: 'blue'})\n",
    "\n",
    "# plt.scatter(nhanes2Xp['DAYS_SINCE_ADMIT'], nhanes2Xp['RESULT_NUM'], c=colors)\n",
    "\n",
    "# nhanes2.columns\n",
    "\n",
    "# nhanes2[nhanes2['ENCOUNTERID'] == '140000055697415']['onset_since_med']\n",
    "\n",
    "# #onsets =  pd.read_csv(datafolder+'KUMC'+'/raw/AKI_ONSETS.csv') \n",
    "\n",
    "# onsets.columns\n",
    "\n",
    "# onsets[onsets['ENCOUNTERID']==927634][['SERUM_CREAT_BASE', 'AKI1_SINCE_ADMIT', 'AKI1_SCR','AKI1_INC']]\n",
    "\n",
    "# #labs =  pd.read_csv(datafolder+'KUMC'+'/raw/AKI_LAB.csv') \n",
    "\n",
    "# labsX = labs[labs['ENCOUNTERID']==927634]\n",
    "\n",
    "# labsX[labsX['LAB_LOINC']=='2160-0'].sort_values('DAYS_SINCE_ADMIT')"
   ]
  },
  {
   "cell_type": "code",
   "execution_count": null,
   "id": "6ad0c71f-a579-4476-8bab-fd085de51a9b",
   "metadata": {},
   "outputs": [],
   "source": [
    "# dict_med =   {'MED:ATC:A07DA': 'DiphenoxylateLoperamide(LK):A07DA',\n",
    "#               'MED:ATC:C03CA': 'FurosemideBumetanideTorsemide(LKLNa):C03CA',\n",
    "#               'MED:ATC:C03CB': 'FurosemideBumetanideTorsemide(LKLNa):C03CA',\n",
    "#               'MED:ATC:C03EB': 'FurosemideBumetanideTorsemide(LKLNa):C03EB',\n",
    "#               'MED:ATC:C03AA': 'hydrochlorothiazide(LNa):C03AA',\n",
    "#               'MED:ATC:C03AB': 'hydrochlorothiazide(LNa):C03AB',\n",
    "#               'MED:ATC:C03AH': 'chlorothiazide(LNa):C03AH',\n",
    "#               'MED:ATC:C03BA': 'chlorthalidone(LNa):C03BA',\n",
    "#               'MED:ATC:C03EA': 'hydrochlorothiazide(LNa):C03EA',\n",
    "#               'MED:ATC:C09DX': 'SacubitrilValsartan(HK):C09DX',\n",
    "#               'MED:ATC:C03DA': 'eplerenone(HK):C03DA',\n",
    "#               'MED:ATC:C03XA': 'tolvaptan(LNa):C03XA',\n",
    "#               'MED:ATC:C09XA': 'hydrochlorothiazide(LNa):C09XA',\n",
    "#               'MED:ATC:C09DX': 'hydrochlorothiazide(LNa):C09DX',\n",
    "#               'MED:ATC:C03AX': 'hydrochlorothiazide(LNa):C03AX',\n",
    "#               'MED:ATC:C09BX': 'hydrochlorothiazide(LNa):C09BX',\n",
    "#               'MED:ATC:M05BA': 'PamidronateZoledronate(HCa):M05BA',\n",
    "#               'MED:ATC:M05BB': 'etidronate(HCa):M05BB'}"
   ]
  },
  {
   "cell_type": "code",
   "execution_count": null,
   "id": "e993e181-c768-476a-a519-857ab6f148ca",
   "metadata": {},
   "outputs": [],
   "source": [
    "# labX4= pd.read_pickle(datafolder+'allmedlabxx.pkl')"
   ]
  },
  {
   "cell_type": "code",
   "execution_count": null,
   "id": "0417a91f-bb8f-453a-bb38-b0aded0bf0b2",
   "metadata": {
    "tags": []
   },
   "outputs": [],
   "source": [
    "# labX4['MEDADMIN_CODE_NEW'].unique()"
   ]
  },
  {
   "cell_type": "code",
   "execution_count": null,
   "id": "133a6c3f-d745-42f0-8ec1-356cd9b2b813",
   "metadata": {},
   "outputs": [],
   "source": []
  }
 ],
 "metadata": {
  "kernelspec": {
   "display_name": "AKI_timeseries",
   "language": "python",
   "name": "aki_timeseries"
  },
  "language_info": {
   "codemirror_mode": {
    "name": "ipython",
    "version": 3
   },
   "file_extension": ".py",
   "mimetype": "text/x-python",
   "name": "python",
   "nbconvert_exporter": "python",
   "pygments_lexer": "ipython3",
   "version": "3.11.3"
  }
 },
 "nbformat": 4,
 "nbformat_minor": 5
}
