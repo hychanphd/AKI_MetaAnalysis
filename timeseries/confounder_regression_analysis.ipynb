{
 "cells": [
  {
   "cell_type": "code",
   "execution_count": null,
   "id": "79e884aa-9875-4b44-90f3-d31424539837",
   "metadata": {
    "tags": []
   },
   "outputs": [],
   "source": [
    "import pandas as pd\n",
    "import numpy as np\n",
    "import itertools\n",
    "from scipy.stats import fisher_exact\n",
    "import shelve\n",
    "import pickle\n",
    "import pandas as pd\n",
    "import numpy as np\n",
    "import sklearn\n",
    "from sklearn.preprocessing import OneHotEncoder\n",
    "from sklearn.impute import SimpleImputer\n",
    "import matplotlib.pyplot as plt\n",
    "from PIL import Image\n",
    "from scipy.interpolate import BSpline, make_interp_spline, interp1d\n",
    "import csv\n",
    "from dfply import *\n",
    "import itertools\n",
    "import os\n",
    "import logging\n",
    "from sys import getsizeof\n",
    "import sklearn\n",
    "import time\n",
    "from sklearn.metrics import roc_auc_score\n",
    "from catboost import Pool, cv\n",
    "import xgboost\n",
    "import catboost\n",
    "import scipy.stats as st\n",
    "\n",
    "import importlib\n",
    "from joblib import Parallel, delayed\n",
    "from joblib import parallel_backend\n",
    "\n",
    "import pandas as pd\n",
    "import numpy as np\n",
    "import matplotlib.pyplot as plt\n",
    "from pandas.plotting import lag_plot\n",
    "#from statsmodels.tsa.vector_ar.var_model import VARY\n",
    "from statsmodels.tsa.stattools import adfuller, kpss, grangercausalitytests, pacf\n",
    "from statsmodels.graphics.tsaplots import plot_pacf\n",
    "import warnings\n",
    "warnings.filterwarnings(\"ignore\")\n",
    "import scipy\n",
    "import datetime\n",
    "\n",
    "from joblib import Parallel, delayed\n",
    "\n",
    "import pyarrow\n",
    "import concurrent.futures\n",
    "import statsmodels.api as sm\n",
    "import statsmodels.tsa.stattools as ts\n",
    "from itertools import product\n",
    "\n",
    "import statsmodels"
   ]
  },
  {
   "cell_type": "code",
   "execution_count": null,
   "id": "62837edd-fc9e-4d6a-bedf-8ddf49e2a5a8",
   "metadata": {
    "tags": []
   },
   "outputs": [],
   "source": [
    "datafolder = '/home/hoyinchan/blue/Data/data2022/'\n",
    "labX4 = pd.read_parquet(datafolder+'allmedlabxx.parquet')"
   ]
  },
  {
   "cell_type": "code",
   "execution_count": null,
   "id": "cb691b1a-0e9b-4c78-ab79-ab896f11d4de",
   "metadata": {
    "tags": []
   },
   "outputs": [],
   "source": [
    "labX = pd.read_parquet(datafolder+'alllab.parquet')"
   ]
  },
  {
   "cell_type": "code",
   "execution_count": null,
   "id": "8b4a34db-5402-481f-a139-defe94ce47e0",
   "metadata": {
    "tags": []
   },
   "outputs": [],
   "source": [
    "labX4['LAB_LOINC'].unique()"
   ]
  },
  {
   "cell_type": "code",
   "execution_count": null,
   "id": "2923a8fe-889b-4958-8bb6-f7a8244216d9",
   "metadata": {
    "tags": []
   },
   "outputs": [],
   "source": [
    "dummy_table = labX4[['ID', 'MEDADMIN_CODE_NEW']].drop_duplicates()"
   ]
  },
  {
   "cell_type": "code",
   "execution_count": null,
   "id": "aef50643-7f1b-429d-bef2-8658f8ec498a",
   "metadata": {
    "tags": []
   },
   "outputs": [],
   "source": [
    "confound_med_HK =    {'MED:ATC:C03DA': 'eplerenone(HK):C03DA'}\n",
    "confound_med_LK =    {'MED:ATC:A07DA': 'DiphenoxylateLoperamide(LK):A07DA'}\n",
    "confound_med_HCa =    {'MED:ATC:M05BA': 'PamidronateZoledronate(HCa):M05BA'}\n",
    "confound_med_LNa =    {'MED:ATC:C03CA': 'FurosemideBumetanideTorsemide(LKLNa):C03CA',\n",
    "                      'MED:ATC:C03AA': 'hydrochlorothiazide(LNa):C03AA',\n",
    "                      'MED:ATC:C03BA': 'chlorthalidone(LNa):C03BA',\n",
    "                      'MED:ATC:C03XA': 'Vasopressin antagonists(LNa):C03XA'}"
   ]
  },
  {
   "cell_type": "code",
   "execution_count": null,
   "id": "d541ef09-9845-4778-bef6-ccdc776af9df",
   "metadata": {
    "tags": []
   },
   "outputs": [],
   "source": [
    "loincs_cofounder = ['LG6033-7', #AST       \n",
    "                    'LG49755-8', #uric acid\n",
    "                    '2532-0'] #LDH\n",
    "\n",
    "loincs_dependents = ['LG49864-8', #Ca\n",
    "                     'LG11363-5', #Na\n",
    "                     'LG49936-4', 'LG6657-3'] #K, $sCr"
   ]
  },
  {
   "cell_type": "code",
   "execution_count": null,
   "id": "8b318f0c-bf9c-4e08-ad50-71c2c88de2ff",
   "metadata": {
    "tags": []
   },
   "outputs": [],
   "source": [
    "dummy_table['if_confound_med_HK'] = dummy_table['MEDADMIN_CODE_NEW'].str.contains('|'.join(list(confound_med_HK.keys())))\n",
    "dummy_table['if_confound_med_LK'] = dummy_table['MEDADMIN_CODE_NEW'].str.contains('|'.join(list(confound_med_LK.keys())))\n",
    "dummy_table['if_confound_med_HCa'] = dummy_table['MEDADMIN_CODE_NEW'].str.contains('|'.join(list(confound_med_HCa.keys())))\n",
    "dummy_table['if_confound_med_LNa'] =  dummy_table['MEDADMIN_CODE_NEW'].str.contains('|'.join(list(confound_med_LNa.keys())))"
   ]
  },
  {
   "cell_type": "code",
   "execution_count": null,
   "id": "021c37e8-ecb8-4056-a2ab-52ff302b7c2e",
   "metadata": {
    "tags": []
   },
   "outputs": [],
   "source": [
    "dummy_table = dummy_table.drop('MEDADMIN_CODE_NEW',axis=1).groupby('ID').sum().astype(bool).reset_index()"
   ]
  },
  {
   "cell_type": "code",
   "execution_count": null,
   "id": "5862d30e-3ef8-4be7-ad90-e0b7041f2888",
   "metadata": {
    "tags": []
   },
   "outputs": [],
   "source": [
    "dummy_table = dummy_table.merge(labX[['ID']].drop_duplicates(), on='ID',how='outer').fillna(False)"
   ]
  },
  {
   "cell_type": "code",
   "execution_count": null,
   "id": "8786298e-5453-461a-83ef-d0cb1331a711",
   "metadata": {
    "tags": []
   },
   "outputs": [],
   "source": [
    "K_bound =  [3.2, 4.4] # 2823-3\n",
    "Na_Bound = [132, 144] # 2951-2\n",
    "Ca_Bound = [8, 9.3] # 17861-6"
   ]
  },
  {
   "cell_type": "code",
   "execution_count": null,
   "id": "e47a44c6-3811-464f-ab2a-273e55cf1fae",
   "metadata": {
    "tags": []
   },
   "outputs": [],
   "source": [
    "dummy_table = dummy_table.merge(labX[labX['LAB_LOINC']=='LG49936-4'][['ID', 'DAYS_SINCE_ADMIT', 'RESULT_NUM']].groupby(['ID', 'DAYS_SINCE_ADMIT']).mean().reset_index().sort_values('DAYS_SINCE_ADMIT').groupby('ID').last().reset_index().drop('DAYS_SINCE_ADMIT',axis=1), on='ID', how='outer')\n",
    "dummy_table = dummy_table.rename({'RESULT_NUM':'last_K'},axis=1)\n",
    "dummy_table = dummy_table.merge(labX[labX['LAB_LOINC']=='LG11363-5'][['ID', 'DAYS_SINCE_ADMIT', 'RESULT_NUM']].groupby(['ID', 'DAYS_SINCE_ADMIT']).mean().reset_index().sort_values('DAYS_SINCE_ADMIT').groupby('ID').last().reset_index().drop('DAYS_SINCE_ADMIT',axis=1), on='ID', how='outer')\n",
    "dummy_table = dummy_table.rename({'RESULT_NUM':'last_Na'},axis=1)\n",
    "dummy_table = dummy_table.merge(labX[labX['LAB_LOINC']=='LG49864-8'][['ID', 'DAYS_SINCE_ADMIT', 'RESULT_NUM']].groupby(['ID', 'DAYS_SINCE_ADMIT']).mean().reset_index().sort_values('DAYS_SINCE_ADMIT').groupby('ID').last().reset_index().drop('DAYS_SINCE_ADMIT',axis=1), on='ID', how='outer')\n",
    "dummy_table = dummy_table.rename({'RESULT_NUM':'last_Ca'},axis=1)\n",
    "dummy_table = dummy_table.merge(labX[labX['LAB_LOINC']=='LG6657-3'][['ID', 'DAYS_SINCE_ADMIT', 'RESULT_NUM']].groupby(['ID', 'DAYS_SINCE_ADMIT']).mean().reset_index().sort_values('DAYS_SINCE_ADMIT').groupby('ID').last().reset_index().drop('DAYS_SINCE_ADMIT',axis=1), on='ID', how='outer')\n",
    "dummy_table = dummy_table.rename({'RESULT_NUM':'last_sCr'},axis=1)"
   ]
  },
  {
   "cell_type": "code",
   "execution_count": null,
   "id": "a58bb520-d2b8-483f-8feb-6a8575ed4223",
   "metadata": {
    "tags": []
   },
   "outputs": [],
   "source": [
    "dummy_table['low_K'] = dummy_table['last_K'] <= K_bound[0]\n",
    "dummy_table['high_K'] = dummy_table['last_K'] >= K_bound[1]\n",
    "dummy_table['low_Na'] = dummy_table['last_Na'] <= Na_Bound[0]\n",
    "dummy_table['high_Na'] = dummy_table['last_Na'] >= Na_Bound[1]\n",
    "dummy_table['low_Ca'] = dummy_table['last_Ca'] <= Ca_Bound[0]\n",
    "dummy_table['high_Ca'] = dummy_table['last_Ca'] >= Ca_Bound[1]"
   ]
  },
  {
   "cell_type": "code",
   "execution_count": null,
   "id": "0456e31e-6b22-4d40-b838-8fbd37f47634",
   "metadata": {
    "tags": []
   },
   "outputs": [],
   "source": [
    "#dummy_table = dummy_table.drop(['last_K','last_Na', 'last_Ca'],axis=1)"
   ]
  },
  {
   "cell_type": "code",
   "execution_count": null,
   "id": "da460b11-928c-49d2-b50c-d22d8de8a4ea",
   "metadata": {
    "tags": []
   },
   "outputs": [],
   "source": [
    "final_table = labX[labX['LAB_LOINC'].str.contains('|'.join(loincs_cofounder+loincs_dependents)).fillna(False)][['ID', 'DAYS_SINCE_ADMIT', 'LAB_LOINC', 'RESULT_NUM']]"
   ]
  },
  {
   "cell_type": "code",
   "execution_count": null,
   "id": "cb5125b3-6f24-49fe-b26c-dcb3423e62ea",
   "metadata": {
    "tags": []
   },
   "outputs": [],
   "source": [
    "final_table = final_table.groupby(['ID', 'DAYS_SINCE_ADMIT', 'LAB_LOINC']).mean().reset_index()"
   ]
  },
  {
   "cell_type": "code",
   "execution_count": null,
   "id": "366f773a-a6f2-4945-921d-3448924545f0",
   "metadata": {
    "tags": []
   },
   "outputs": [],
   "source": [
    "loincs_cofounder+loincs_dependents"
   ]
  },
  {
   "cell_type": "code",
   "execution_count": null,
   "id": "40eaf1e5-d896-4023-9483-33556084371e",
   "metadata": {
    "tags": []
   },
   "outputs": [],
   "source": [
    "final_table['LAB_LOINC'].unique()"
   ]
  },
  {
   "cell_type": "code",
   "execution_count": null,
   "id": "029aa774-7a17-43c7-8327-2ed6478e0383",
   "metadata": {
    "tags": []
   },
   "outputs": [],
   "source": [
    "pivot_table = final_table.pivot_table(index=['ID', 'DAYS_SINCE_ADMIT'], \n",
    "                                      columns='LAB_LOINC', \n",
    "                                      values='RESULT_NUM').reset_index()"
   ]
  },
  {
   "cell_type": "code",
   "execution_count": null,
   "id": "11e30faa-02bf-4435-af9c-60b4942ec52c",
   "metadata": {
    "tags": []
   },
   "outputs": [],
   "source": [
    "pivot_table = pivot_table.merge(dummy_table, on='ID', how='left')"
   ]
  },
  {
   "cell_type": "code",
   "execution_count": null,
   "id": "431cbf79-5533-4565-b262-f9a2e7865af0",
   "metadata": {
    "tags": []
   },
   "outputs": [],
   "source": [
    "pivot_table"
   ]
  },
  {
   "cell_type": "code",
   "execution_count": null,
   "id": "1a211b92-b9cf-4cd8-b179-3897d1fd872b",
   "metadata": {
    "tags": []
   },
   "outputs": [],
   "source": [
    "pivot_table['ID2'] = pd.factorize(pivot_table['ID'])[0]"
   ]
  },
  {
   "cell_type": "code",
   "execution_count": null,
   "id": "e7579708-418d-4a64-8c2c-9e5059f422c6",
   "metadata": {
    "tags": []
   },
   "outputs": [],
   "source": [
    "pivot_table[['if_confound_med_LNa', 'if_confound_med_HCa', 'if_confound_med_HK', 'if_confound_med_LK', 'low_K', 'high_K', 'low_Na', 'high_Na', 'low_Ca', 'high_Ca']] = pivot_table[['if_confound_med_LNa', 'if_confound_med_HCa', 'if_confound_med_HK', 'if_confound_med_LK', 'low_K', 'high_K', 'low_Na', 'high_Na', 'low_Ca', 'high_Ca']].astype(int)"
   ]
  },
  {
   "cell_type": "code",
   "execution_count": null,
   "id": "fb2bc4fc-5f98-4bae-b4c0-529e025f7b72",
   "metadata": {
    "tags": []
   },
   "outputs": [],
   "source": [
    "pivot_table"
   ]
  },
  {
   "cell_type": "code",
   "execution_count": null,
   "id": "00653d64-54a6-44f6-a4d3-736126a010f0",
   "metadata": {
    "tags": []
   },
   "outputs": [],
   "source": [
    "# loinc_to_label = {\n",
    "#     '1920-8': 'AST',\n",
    "#     '3084-1': 'UA',\n",
    "#     '17861-6': 'Ca',\n",
    "#     '2951-2': 'Na',\n",
    "#     '2823-3': 'K',\n",
    "#     '2160-0': 'sCr'\n",
    "# }\n",
    "\n",
    "loinc_to_label = {\n",
    "    '2532-0': 'LDH',\n",
    "    'LG6033-7': 'AST',\n",
    "    'LG49755-8': 'UA',\n",
    "    'LG49864-8': 'Ca',\n",
    "    'LG11363-5': 'Na',\n",
    "    'LG49936-4': 'K',\n",
    "    'LG6657-3': 'sCr'\n",
    "}\n",
    "\n",
    "pivot_table = pivot_table.rename(columns=loinc_to_label)"
   ]
  },
  {
   "cell_type": "code",
   "execution_count": null,
   "id": "73ab2ed3-4d4d-4d36-b583-1a65fcf9db9c",
   "metadata": {
    "tags": []
   },
   "outputs": [],
   "source": [
    "pivot_table.to_parquet(datafolder+'confounder_regression.parquet')"
   ]
  },
  {
   "cell_type": "code",
   "execution_count": null,
   "id": "fc313aa2-23e3-41bc-af19-32f8dbd871e4",
   "metadata": {
    "tags": []
   },
   "outputs": [],
   "source": [
    "pivot_table.columns"
   ]
  },
  {
   "cell_type": "code",
   "execution_count": null,
   "id": "f229f906-1ce3-4a8a-a35d-6472fecf8a28",
   "metadata": {
    "tags": []
   },
   "outputs": [],
   "source": [
    "pivot_table.columns"
   ]
  },
  {
   "cell_type": "code",
   "execution_count": null,
   "id": "62d2a0e5-6d1d-4936-b480-869ec40c432c",
   "metadata": {},
   "outputs": [],
   "source": []
  }
 ],
 "metadata": {
  "kernelspec": {
   "display_name": "AKI_timeseries",
   "language": "python",
   "name": "aki_timeseries"
  },
  "language_info": {
   "codemirror_mode": {
    "name": "ipython",
    "version": 3
   },
   "file_extension": ".py",
   "mimetype": "text/x-python",
   "name": "python",
   "nbconvert_exporter": "python",
   "pygments_lexer": "ipython3",
   "version": "3.11.3"
  }
 },
 "nbformat": 4,
 "nbformat_minor": 5
}
