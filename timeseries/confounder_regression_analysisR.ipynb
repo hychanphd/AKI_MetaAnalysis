{
 "cells": [
  {
   "cell_type": "code",
   "execution_count": 13,
   "id": "134c5e68-a5ac-4e53-b266-fad61188d505",
   "metadata": {
    "tags": []
   },
   "outputs": [
    {
     "name": "stderr",
     "output_type": "stream",
     "text": [
      "Loading required package: bestglm\n",
      "\n",
      "Loading required package: leaps\n",
      "\n",
      "Loading required package: VGAM\n",
      "\n",
      "Loading required package: stats4\n",
      "\n",
      "Loading required package: splines\n",
      "\n",
      "\n",
      "Attaching package: ‘VGAM’\n",
      "\n",
      "\n",
      "The following object is masked from ‘package:mgcv’:\n",
      "\n",
      "    s\n",
      "\n",
      "\n",
      "The following object is masked from ‘package:modelsummary’:\n",
      "\n",
      "    Max\n",
      "\n",
      "\n",
      "Loading required package: rpart\n",
      "\n",
      "Loading required package: randomForest\n",
      "\n",
      "randomForest 4.7-1.2\n",
      "\n",
      "Type rfNews() to see new features/changes/bug fixes.\n",
      "\n",
      "\n",
      "Attaching package: ‘randomForest’\n",
      "\n",
      "\n",
      "The following object is masked from ‘package:dplyr’:\n",
      "\n",
      "    combine\n",
      "\n",
      "\n",
      "Important regclass change from 1.3:\n",
      "All functions that had a . in the name now have an _\n",
      "all.correlations -> all_correlations, cor.demo -> cor_demo, etc.\n",
      "\n",
      "\n"
     ]
    }
   ],
   "source": [
    "Packages <- c(\"modelsummary\", \"lmerTest\", \"arrow\", \"mgcv\", \"dplyr\" , \"effects\", \"regclass\")\n",
    "invisible(lapply(Packages, library, character.only = TRUE))"
   ]
  },
  {
   "cell_type": "code",
   "execution_count": 14,
   "id": "dbc57714-5f82-4bff-a55e-92c2b78dbdc8",
   "metadata": {
    "tags": []
   },
   "outputs": [],
   "source": [
    "datafolder <- '/home/hoyinchan/blue/Data/data2022/'"
   ]
  },
  {
   "cell_type": "code",
   "execution_count": 15,
   "id": "8488cdc0-ac71-44a6-9152-0bcd291ffda9",
   "metadata": {
    "tags": []
   },
   "outputs": [],
   "source": [
    "loincs_cofounder <- c('LG6033-7', #AST       \n",
    "                    'LG49755-8') #uric acid\n",
    "loincs_dependents <- c('LG49864-8', #Ca\n",
    "                     'LG11363-5', #Na\n",
    "                     'LG49936-4', 'LG6657-3') #K"
   ]
  },
  {
   "cell_type": "code",
   "execution_count": 16,
   "id": "4e6ee563-9680-4321-8b69-dfe77f084982",
   "metadata": {
    "tags": []
   },
   "outputs": [],
   "source": [
    "K_Bound <-  c(3.2, 4.4) # 2823-3\n",
    "Na_Bound <- c(132, 144) # 2951-2\n",
    "Ca_Bound <- c(8, 9.3) # 17861-6"
   ]
  },
  {
   "cell_type": "code",
   "execution_count": 17,
   "id": "654af03e-2413-4816-8681-7cd1c78f68da",
   "metadata": {
    "tags": []
   },
   "outputs": [],
   "source": [
    "path1 = paste0(datafolder,'confounder_regression.parquet')\n",
    "df <- arrow::read_parquet(path1)"
   ]
  },
  {
   "cell_type": "code",
   "execution_count": 18,
   "id": "d56da47b-1c18-415f-aff4-a827b5f3d140",
   "metadata": {
    "tags": []
   },
   "outputs": [],
   "source": [
    "df <- df %>%  mutate_at(vars('if_confound_med_LNa', 'if_confound_med_HCa', 'if_confound_med_HK', 'if_confound_med_LK', 'low_K', 'high_K', 'low_Na', 'high_Na', 'low_Ca', 'high_Ca', 'ID2'), factor)"
   ]
  },
  {
   "cell_type": "code",
   "execution_count": 19,
   "id": "c360e2c2-90ec-4415-912d-920a84123240",
   "metadata": {
    "tags": []
   },
   "outputs": [],
   "source": [
    "df2 <- df"
   ]
  },
  {
   "cell_type": "code",
   "execution_count": 37,
   "id": "b9b55434-677e-4dea-a8cc-42d2e71e1070",
   "metadata": {
    "tags": []
   },
   "outputs": [],
   "source": [
    "lm_model <- lmer(AST ~ UA + LDH + (1 | ID2), data = df2)\n",
    "\n",
    "summary(lm_model)"
   ]
  },
  {
   "cell_type": "code",
   "execution_count": 56,
   "id": "09caaecb-a3fb-42ac-b50e-ad07224e87aa",
   "metadata": {
    "tags": []
   },
   "outputs": [],
   "source": [
    "calculate_slope <- function(df, chem, Na_Bound, K_Bound, Ca_Bound, last_v=NULL, raw_v=NULL, med_v=NULL){\n",
    "    df_filter <- df\n",
    "    df_filter_con <- df\n",
    "    if (chem == 'Na'){ \n",
    "        eqn <- sCr ~  (1|ID2) + Na\n",
    "        eqn_con <- sCr ~  (1|ID2) + Na  \n",
    "        \n",
    "        if (last_v == 'L'){\n",
    "            df_filter <- df_filter %>% filter(low_Na==1)\n",
    "        }\n",
    "        if (raw_v == 'L'){\n",
    "            df_filter <- df_filter %>% filter(Na<=Na_Bound[1])\n",
    "        }\n",
    "        df_filter_con <- df_filter %>% filter(if_confound_med_LNa==0)\n",
    "    }\n",
    "    \n",
    "    if (chem == 'Ca'){\n",
    "        eqn <- sCr ~  (1|ID2) + Ca\n",
    "        eqn_con <- sCr ~  (1|ID2) + Ca \n",
    "        if (last_v == 'H'){\n",
    "            df_filter <- df_filter %>% filter(high_Ca==1)\n",
    "        }\n",
    "        if (raw_v == 'H'){\n",
    "            df_filter <- df_filter %>% filter(Ca>=Ca_Bound[2])\n",
    "        }\n",
    "        df_filter_con <- df_filter %>% filter(if_confound_med_HCa==0)        \n",
    "    }\n",
    "    \n",
    "    if (chem == 'K'){\n",
    "        if ((last_v != 'L') | (raw_v != 'L')){\n",
    "            eqn <- sCr ~  (1|ID2) + K\n",
    "            eqn_con <- sCr ~  (1|ID2) + K + AST + UA + LDH            \n",
    "#            eqn_con <- sCr ~  (1|ID2) + K + UA + AST\n",
    "#            eqn_con <- sCr ~  (1|ID2) + K + UA            \n",
    "        } else {\n",
    "            eqn <- sCr ~  (1|ID2) + K\n",
    "            eqn_con <- sCr ~  (1|ID2) + K\n",
    "        }\n",
    "        \n",
    "        if (last_v == 'L'){\n",
    "            df_filter <- df_filter %>% filter(low_K==1)\n",
    "            df_filter_con <- df_filter %>% filter(if_confound_med_LK==0)                       \n",
    "        }\n",
    "        if (raw_v == 'L'){\n",
    "            df_filter <- df_filter %>% filter(K<=K_Bound[1])\n",
    "            df_filter_con <- df_filter %>% filter(if_confound_med_LK==0)           \n",
    "        }\n",
    "        \n",
    "        if (last_v == 'H'){\n",
    "            df_filter <- df_filter %>% filter(high_K==1)\n",
    "            df_filter_con <- df_filter %>% filter(if_confound_med_HK==0)                       \n",
    "        }\n",
    "        if (raw_v == 'H'){\n",
    "            df_filter <- df_filter %>% filter(K>=K_Bound[2])\n",
    "            df_filter_con <- df_filter %>% filter(if_confound_med_HK==0)           \n",
    "        }\n",
    "    }\n",
    "        \n",
    "    x_con <- lmer(eqn_con, data=df_filter_con, REML = FALSE, control = lmerControl(optimizer ='optimx', optCtrl=list(method='L-BFGS-B')))    \n",
    "    x <-     lmer(eqn,     data=df_filter,     REML = FALSE, control = lmerControl(optimizer ='optimx', optCtrl=list(method='L-BFGS-B'))) \n",
    "#    x_con <- lmer(eqn_con, data=df_filter_con)    \n",
    "#    x <-     lmer(eqn,     data=df_filter)\n",
    "    \n",
    "    print(summary(x_con))\n",
    "    print(summary(x))\n",
    "#    return (c(x_con, x))\n",
    "    \n",
    "#    slope_con <- fixef(x_con)[[paste0(chem,'_scaled')]]\n",
    "#    slope     <- fixef(x)[[paste0(chem,'_scaled')]]    \n",
    "#    p_con     <- summary(x_con)$coefficients[paste0(chem,'_scaled'), \"Pr(>|t|)\"]\n",
    "#    p         <- summary(x)$coefficients[paste0(chem,'_scaled'), \"Pr(>|t|)\"]    \n",
    "    \n",
    "    slope_con <- fixef(x_con)[[chem]]\n",
    "    slope     <- fixef(x)[[chem]]    \n",
    "    p_con     <- summary(x_con)$coefficients[chem, \"Pr(>|t|)\"]\n",
    "    p         <- summary(x)$coefficients[chem, \"Pr(>|t|)\"]    \n",
    "    \n",
    "    diff      <- (slope-slope_con)/slope*100\n",
    "    \n",
    "    return (c(round(c(slope, slope_con, p<=0.05, p_con<=0.05, diff),4), x, x_con))\n",
    "}\n",
    "        "
   ]
  },
  {
   "cell_type": "code",
   "execution_count": 51,
   "id": "46f89f6f-b40e-4e88-954e-ece0809f949e",
   "metadata": {
    "collapsed": true,
    "jupyter": {
     "outputs_hidden": true
    },
    "tags": []
   },
   "outputs": [
    {
     "name": "stderr",
     "output_type": "stream",
     "text": [
      "Warning message:\n",
      "“Some predictor variables are on very different scales: consider rescaling”\n",
      "Warning message:\n",
      "“Some predictor variables are on very different scales: consider rescaling”\n"
     ]
    },
    {
     "name": "stdout",
     "output_type": "stream",
     "text": [
      "Linear mixed model fit by REML. t-tests use Satterthwaite's method [\n",
      "lmerModLmerTest]\n",
      "Formula: eqn_con\n",
      "   Data: df_filter_con\n",
      "\n",
      "REML criterion at convergence: -1207.2\n",
      "\n",
      "Scaled residuals: \n",
      "    Min      1Q  Median      3Q     Max \n",
      "-3.9786 -0.4300 -0.0613  0.3594  4.9128 \n",
      "\n",
      "Random effects:\n",
      " Groups   Name        Variance Std.Dev.\n",
      " ID2      (Intercept) 0.09332  0.3055  \n",
      " Residual             0.01143  0.1069  \n",
      "Number of obs: 1781, groups:  ID2, 574\n",
      "\n",
      "Fixed effects:\n",
      "              Estimate Std. Error         df t value Pr(>|t|)    \n",
      "(Intercept)  4.482e-01  3.152e-02  1.705e+03  14.222  < 2e-16 ***\n",
      "K            3.520e-02  8.125e-03  1.353e+03   4.333 1.58e-05 ***\n",
      "AST         -1.571e-06  4.162e-05  7.396e+02  -0.038     0.97    \n",
      "UA           4.576e-02  2.234e-03  1.435e+03  20.482  < 2e-16 ***\n",
      "LDH          3.946e-05  8.108e-06  1.457e+03   4.867 1.26e-06 ***\n",
      "---\n",
      "Signif. codes:  0 ‘***’ 0.001 ‘**’ 0.01 ‘*’ 0.05 ‘.’ 0.1 ‘ ’ 1\n",
      "\n",
      "Correlation of Fixed Effects:\n",
      "    (Intr) K      AST    UA    \n",
      "K   -0.848                     \n",
      "AST -0.045 -0.009              \n",
      "UA  -0.151 -0.182  0.005       \n",
      "LDH  0.044 -0.094 -0.199 -0.084\n",
      "fit warnings:\n",
      "Some predictor variables are on very different scales: consider rescaling\n",
      "Linear mixed model fit by REML. t-tests use Satterthwaite's method [\n",
      "lmerModLmerTest]\n",
      "Formula: eqn\n",
      "   Data: df_filter\n",
      "\n",
      "REML criterion at convergence: -109149.4\n",
      "\n",
      "Scaled residuals: \n",
      "    Min      1Q  Median      3Q     Max \n",
      "-17.750  -0.450  -0.067   0.364  94.597 \n",
      "\n",
      "Random effects:\n",
      " Groups   Name        Variance Std.Dev.\n",
      " ID2      (Intercept) 0.1278   0.3575  \n",
      " Residual             0.0192   0.1386  \n",
      "Number of obs: 274227, groups:  ID2, 62753\n",
      "\n",
      "Fixed effects:\n",
      "             Estimate Std. Error        df t value Pr(>|t|)    \n",
      "(Intercept) 5.376e-01  2.791e-03 2.687e+05   192.6   <2e-16 ***\n",
      "K           8.501e-02  7.017e-04 2.199e+05   121.2   <2e-16 ***\n",
      "---\n",
      "Signif. codes:  0 ‘***’ 0.001 ‘**’ 0.01 ‘*’ 0.05 ‘.’ 0.1 ‘ ’ 1\n",
      "\n",
      "Correlation of Fixed Effects:\n",
      "  (Intr)\n",
      "K -0.851\n"
     ]
    },
    {
     "data": {
      "text/html": [
       "<ol>\n",
       "\t<li>0.085</li>\n",
       "\t<li>0.0352</li>\n",
       "\t<li>1</li>\n",
       "\t<li>1</li>\n",
       "\t<li>58.5897</li>\n",
       "</ol>\n"
      ],
      "text/latex": [
       "\\begin{enumerate}\n",
       "\\item 0.085\n",
       "\\item 0.0352\n",
       "\\item 1\n",
       "\\item 1\n",
       "\\item 58.5897\n",
       "\\end{enumerate}\n"
      ],
      "text/markdown": [
       "1. 0.085\n",
       "2. 0.0352\n",
       "3. 1\n",
       "4. 1\n",
       "5. 58.5897\n",
       "\n",
       "\n"
      ],
      "text/plain": [
       "[[1]]\n",
       "[1] 0.085\n",
       "\n",
       "[[2]]\n",
       "[1] 0.0352\n",
       "\n",
       "[[3]]\n",
       "[1] 1\n",
       "\n",
       "[[4]]\n",
       "[1] 1\n",
       "\n",
       "[[5]]\n",
       "[1] 58.5897\n"
      ]
     },
     "metadata": {},
     "output_type": "display_data"
    }
   ],
   "source": [
    "results = calculate_slope(df2, 'K', Na_Bound, K_Bound, Ca_Bound, last_v='L', raw_v='A')    \n",
    "results[1:5]"
   ]
  },
  {
   "cell_type": "code",
   "execution_count": 53,
   "id": "de532bc2-4644-47f0-8b35-abd0df21c796",
   "metadata": {
    "collapsed": true,
    "jupyter": {
     "outputs_hidden": true
    },
    "tags": []
   },
   "outputs": [
    {
     "name": "stderr",
     "output_type": "stream",
     "text": [
      "Warning message:\n",
      "“Some predictor variables are on very different scales: consider rescaling”\n",
      "Warning message:\n",
      "“Some predictor variables are on very different scales: consider rescaling”\n"
     ]
    },
    {
     "name": "stdout",
     "output_type": "stream",
     "text": [
      "Linear mixed model fit by REML. t-tests use Satterthwaite's method [\n",
      "lmerModLmerTest]\n",
      "Formula: eqn_con\n",
      "   Data: df_filter_con\n",
      "\n",
      "REML criterion at convergence: 20007.2\n",
      "\n",
      "Scaled residuals: \n",
      "   Min     1Q Median     3Q    Max \n",
      "-2.703 -0.151 -0.058  0.037 35.737 \n",
      "\n",
      "Random effects:\n",
      " Groups   Name        Variance Std.Dev.\n",
      " ID2      (Intercept) 0.1539   0.3924  \n",
      " Residual             1.7039   1.3053  \n",
      "Number of obs: 5801, groups:  ID2, 1733\n",
      "\n",
      "Fixed effects:\n",
      "              Estimate Std. Error         df t value Pr(>|t|)    \n",
      "(Intercept)  2.268e-01  1.698e-01  3.777e+03   1.335   0.1819    \n",
      "K            7.776e-02  3.908e-02  4.621e+03   1.990   0.0467 *  \n",
      "AST         -9.400e-05  1.315e-04  4.482e+03  -0.715   0.4747    \n",
      "UA           8.651e-02  9.652e-03  2.485e+03   8.962   <2e-16 ***\n",
      "LDH         -2.708e-05  3.353e-05  2.105e+03  -0.808   0.4194    \n",
      "---\n",
      "Signif. codes:  0 ‘***’ 0.001 ‘**’ 0.01 ‘*’ 0.05 ‘.’ 0.1 ‘ ’ 1\n",
      "\n",
      "Correlation of Fixed Effects:\n",
      "    (Intr) K      AST    UA    \n",
      "K   -0.947                     \n",
      "AST -0.023 -0.001              \n",
      "UA  -0.148 -0.141  0.023       \n",
      "LDH  0.009 -0.066 -0.219 -0.052\n",
      "fit warnings:\n",
      "Some predictor variables are on very different scales: consider rescaling\n",
      "Linear mixed model fit by REML. t-tests use Satterthwaite's method [\n",
      "lmerModLmerTest]\n",
      "Formula: eqn\n",
      "   Data: df_filter\n",
      "\n",
      "REML criterion at convergence: 65340.8\n",
      "\n",
      "Scaled residuals: \n",
      "    Min      1Q  Median      3Q     Max \n",
      "-48.366  -0.383  -0.054   0.319 243.047 \n",
      "\n",
      "Random effects:\n",
      " Groups   Name        Variance Std.Dev.\n",
      " ID2      (Intercept) 0.28478  0.5336  \n",
      " Residual             0.02975  0.1725  \n",
      "Number of obs: 1003274, groups:  ID2, 213308\n",
      "\n",
      "Fixed effects:\n",
      "             Estimate Std. Error        df t value Pr(>|t|)    \n",
      "(Intercept) 9.471e-01  2.297e-03 9.749e+05  412.29   <2e-16 ***\n",
      "K           2.741e-02  4.452e-04 8.187e+05   61.56   <2e-16 ***\n",
      "---\n",
      "Signif. codes:  0 ‘***’ 0.001 ‘**’ 0.01 ‘*’ 0.05 ‘.’ 0.1 ‘ ’ 1\n",
      "\n",
      "Correlation of Fixed Effects:\n",
      "  (Intr)\n",
      "K -0.858\n"
     ]
    },
    {
     "data": {
      "text/html": [
       "<ol>\n",
       "\t<li>0.0274</li>\n",
       "\t<li>0.0778</li>\n",
       "\t<li>1</li>\n",
       "\t<li>1</li>\n",
       "\t<li>-183.7124</li>\n",
       "</ol>\n"
      ],
      "text/latex": [
       "\\begin{enumerate}\n",
       "\\item 0.0274\n",
       "\\item 0.0778\n",
       "\\item 1\n",
       "\\item 1\n",
       "\\item -183.7124\n",
       "\\end{enumerate}\n"
      ],
      "text/markdown": [
       "1. 0.0274\n",
       "2. 0.0778\n",
       "3. 1\n",
       "4. 1\n",
       "5. -183.7124\n",
       "\n",
       "\n"
      ],
      "text/plain": [
       "[[1]]\n",
       "[1] 0.0274\n",
       "\n",
       "[[2]]\n",
       "[1] 0.0778\n",
       "\n",
       "[[3]]\n",
       "[1] 1\n",
       "\n",
       "[[4]]\n",
       "[1] 1\n",
       "\n",
       "[[5]]\n",
       "[1] -183.7124\n"
      ]
     },
     "metadata": {},
     "output_type": "display_data"
    }
   ],
   "source": [
    "results = calculate_slope(df2, 'K', Na_Bound, K_Bound, Ca_Bound, last_v='H', raw_v='A')    \n",
    "results[1:5]"
   ]
  },
  {
   "cell_type": "code",
   "execution_count": 57,
   "id": "520cd0e1-bb94-43b6-bdd2-0a26ee91b591",
   "metadata": {
    "tags": []
   },
   "outputs": [
    {
     "name": "stdout",
     "output_type": "stream",
     "text": [
      "Linear mixed model fit by maximum likelihood . t-tests use Satterthwaite's\n",
      "  method [lmerModLmerTest]\n",
      "Formula: eqn_con\n",
      "   Data: df_filter_con\n",
      "Control: lmerControl(optimizer = \"optimx\", optCtrl = list(method = \"L-BFGS-B\"))\n",
      "\n",
      "     AIC      BIC   logLik deviance df.resid \n",
      " -8312.6  -8270.0   4160.3  -8320.6   311599 \n",
      "\n",
      "Scaled residuals: \n",
      "    Min      1Q  Median      3Q     Max \n",
      "-94.209  -0.351  -0.058   0.283 241.117 \n",
      "\n",
      "Random effects:\n",
      " Groups   Name        Variance Std.Dev.\n",
      " ID2      (Intercept) 0.16112  0.4014  \n",
      " Residual             0.03039  0.1743  \n",
      "Number of obs: 311603, groups:  ID2, 65838\n",
      "\n",
      "Fixed effects:\n",
      "             Estimate Std. Error        df t value Pr(>|t|)    \n",
      "(Intercept) 7.787e-01  1.427e-02 2.792e+05  54.577  < 2e-16 ***\n",
      "Na          6.764e-04  1.083e-04 2.743e+05   6.245 4.24e-10 ***\n",
      "---\n",
      "Signif. codes:  0 ‘***’ 0.001 ‘**’ 0.01 ‘*’ 0.05 ‘.’ 0.1 ‘ ’ 1\n",
      "\n",
      "Correlation of Fixed Effects:\n",
      "   (Intr)\n",
      "Na -0.994\n",
      "Linear mixed model fit by maximum likelihood . t-tests use Satterthwaite's\n",
      "  method [lmerModLmerTest]\n",
      "Formula: eqn\n",
      "   Data: df_filter\n",
      "Control: lmerControl(optimizer = \"optimx\", optCtrl = list(method = \"L-BFGS-B\"))\n",
      "\n",
      "     AIC      BIC   logLik deviance df.resid \n",
      " 52429.4  52473.4 -26210.7  52421.4   441994 \n",
      "\n",
      "Scaled residuals: \n",
      "    Min      1Q  Median      3Q     Max \n",
      "-88.866  -0.337  -0.056   0.272 219.709 \n",
      "\n",
      "Random effects:\n",
      " Groups   Name        Variance Std.Dev.\n",
      " ID2      (Intercept) 0.17894  0.4230  \n",
      " Residual             0.03663  0.1914  \n",
      "Number of obs: 441998, groups:  ID2, 88312\n",
      "\n",
      "Fixed effects:\n",
      "             Estimate Std. Error        df t value Pr(>|t|)    \n",
      "(Intercept) 8.845e-01  1.305e-02 4.021e+05  67.801   <2e-16 ***\n",
      "Na          1.612e-04  9.904e-05 3.953e+05   1.627    0.104    \n",
      "---\n",
      "Signif. codes:  0 ‘***’ 0.001 ‘**’ 0.01 ‘*’ 0.05 ‘.’ 0.1 ‘ ’ 1\n",
      "\n",
      "Correlation of Fixed Effects:\n",
      "   (Intr)\n",
      "Na -0.994\n"
     ]
    },
    {
     "data": {
      "text/html": [
       "<ol>\n",
       "\t<li>2e-04</li>\n",
       "\t<li>7e-04</li>\n",
       "\t<li>0</li>\n",
       "\t<li>1</li>\n",
       "\t<li>-319.6687</li>\n",
       "</ol>\n"
      ],
      "text/latex": [
       "\\begin{enumerate}\n",
       "\\item 2e-04\n",
       "\\item 7e-04\n",
       "\\item 0\n",
       "\\item 1\n",
       "\\item -319.6687\n",
       "\\end{enumerate}\n"
      ],
      "text/markdown": [
       "1. 2e-04\n",
       "2. 7e-04\n",
       "3. 0\n",
       "4. 1\n",
       "5. -319.6687\n",
       "\n",
       "\n"
      ],
      "text/plain": [
       "[[1]]\n",
       "[1] 2e-04\n",
       "\n",
       "[[2]]\n",
       "[1] 7e-04\n",
       "\n",
       "[[3]]\n",
       "[1] 0\n",
       "\n",
       "[[4]]\n",
       "[1] 1\n",
       "\n",
       "[[5]]\n",
       "[1] -319.6687\n"
      ]
     },
     "metadata": {},
     "output_type": "display_data"
    }
   ],
   "source": [
    "results <- calculate_slope(df, 'Na', Na_Bound, K_Bound, Ca_Bound, last_v='L', raw_v='A')    \n",
    "results[1:5]"
   ]
  },
  {
   "cell_type": "code",
   "execution_count": 58,
   "id": "e44ebdd0-ba87-41c0-b61c-35865d02e400",
   "metadata": {
    "tags": []
   },
   "outputs": [
    {
     "name": "stdout",
     "output_type": "stream",
     "text": [
      "Linear mixed model fit by maximum likelihood . t-tests use Satterthwaite's\n",
      "  method [lmerModLmerTest]\n",
      "Formula: eqn_con\n",
      "   Data: df_filter_con\n",
      "Control: lmerControl(optimizer = \"optimx\", optCtrl = list(method = \"L-BFGS-B\"))\n",
      "\n",
      "      AIC       BIC    logLik  deviance  df.resid \n",
      "-232207.2 -232160.4  116107.6 -232215.2    885331 \n",
      "\n",
      "Scaled residuals: \n",
      "    Min      1Q  Median      3Q     Max \n",
      "-53.510  -0.382  -0.059   0.310 289.575 \n",
      "\n",
      "Random effects:\n",
      " Groups   Name        Variance Std.Dev.\n",
      " ID2      (Intercept) 0.15020  0.3876  \n",
      " Residual             0.02325  0.1525  \n",
      "Number of obs: 885335, groups:  ID2, 189796\n",
      "\n",
      "Fixed effects:\n",
      "             Estimate Std. Error        df t value Pr(>|t|)    \n",
      "(Intercept) 6.416e-01  3.736e-03 8.228e+05  171.75   <2e-16 ***\n",
      "Ca          3.290e-02  3.828e-04 7.528e+05   85.95   <2e-16 ***\n",
      "---\n",
      "Signif. codes:  0 ‘***’ 0.001 ‘**’ 0.01 ‘*’ 0.05 ‘.’ 0.1 ‘ ’ 1\n",
      "\n",
      "Correlation of Fixed Effects:\n",
      "   (Intr)\n",
      "Ca -0.969\n",
      "Linear mixed model fit by maximum likelihood . t-tests use Satterthwaite's\n",
      "  method [lmerModLmerTest]\n",
      "Formula: eqn\n",
      "   Data: df_filter\n",
      "Control: lmerControl(optimizer = \"optimx\", optCtrl = list(method = \"L-BFGS-B\"))\n",
      "\n",
      "      AIC       BIC    logLik  deviance  df.resid \n",
      "-238396.7 -238349.9  119202.4 -238404.7    894241 \n",
      "\n",
      "Scaled residuals: \n",
      "    Min      1Q  Median      3Q     Max \n",
      "-53.650  -0.383  -0.059   0.311 290.244 \n",
      "\n",
      "Random effects:\n",
      " Groups   Name        Variance Std.Dev.\n",
      " ID2      (Intercept) 0.15013  0.3875  \n",
      " Residual             0.02314  0.1521  \n",
      "Number of obs: 894245, groups:  ID2, 191491\n",
      "\n",
      "Fixed effects:\n",
      "             Estimate Std. Error        df t value Pr(>|t|)    \n",
      "(Intercept) 6.385e-01  3.680e-03 8.333e+05  173.51   <2e-16 ***\n",
      "Ca          3.319e-02  3.767e-04 7.616e+05   88.12   <2e-16 ***\n",
      "---\n",
      "Signif. codes:  0 ‘***’ 0.001 ‘**’ 0.01 ‘*’ 0.05 ‘.’ 0.1 ‘ ’ 1\n",
      "\n",
      "Correlation of Fixed Effects:\n",
      "   (Intr)\n",
      "Ca -0.969\n"
     ]
    },
    {
     "data": {
      "text/html": [
       "<ol>\n",
       "\t<li>0.0332</li>\n",
       "\t<li>0.0329</li>\n",
       "\t<li>1</li>\n",
       "\t<li>1</li>\n",
       "\t<li>0.8754</li>\n",
       "</ol>\n"
      ],
      "text/latex": [
       "\\begin{enumerate}\n",
       "\\item 0.0332\n",
       "\\item 0.0329\n",
       "\\item 1\n",
       "\\item 1\n",
       "\\item 0.8754\n",
       "\\end{enumerate}\n"
      ],
      "text/markdown": [
       "1. 0.0332\n",
       "2. 0.0329\n",
       "3. 1\n",
       "4. 1\n",
       "5. 0.8754\n",
       "\n",
       "\n"
      ],
      "text/plain": [
       "[[1]]\n",
       "[1] 0.0332\n",
       "\n",
       "[[2]]\n",
       "[1] 0.0329\n",
       "\n",
       "[[3]]\n",
       "[1] 1\n",
       "\n",
       "[[4]]\n",
       "[1] 1\n",
       "\n",
       "[[5]]\n",
       "[1] 0.8754\n"
      ]
     },
     "metadata": {},
     "output_type": "display_data"
    }
   ],
   "source": [
    "results <- calculate_slope(df, 'Ca', Na_Bound, K_Bound, Ca_Bound, last_v='H', raw_v='A')    \n",
    "results[1:5]"
   ]
  },
  {
   "cell_type": "code",
   "execution_count": null,
   "id": "d2cf6f6e-3d5a-465a-84f0-cd7ba2b2ee58",
   "metadata": {},
   "outputs": [],
   "source": []
  }
 ],
 "metadata": {
  "kernelspec": {
   "display_name": "AKI_CDM_R",
   "language": "R",
   "name": "ir"
  },
  "language_info": {
   "codemirror_mode": "r",
   "file_extension": ".r",
   "mimetype": "text/x-r-source",
   "name": "R",
   "pygments_lexer": "r",
   "version": "4.1.3"
  }
 },
 "nbformat": 4,
 "nbformat_minor": 5
}
