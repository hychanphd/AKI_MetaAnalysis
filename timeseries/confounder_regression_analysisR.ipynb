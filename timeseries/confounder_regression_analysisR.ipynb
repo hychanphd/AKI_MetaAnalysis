{
 "cells": [
  {
   "cell_type": "code",
   "execution_count": null,
   "id": "134c5e68-a5ac-4e53-b266-fad61188d505",
   "metadata": {
    "tags": []
   },
   "outputs": [],
   "source": [
    "Packages <- c(\"modelsummary\", \"lmerTest\", \"arrow\", \"mgcv\", \"dplyr\" , \"effects\")\n",
    "invisible(lapply(Packages, library, character.only = TRUE))"
   ]
  },
  {
   "cell_type": "code",
   "execution_count": null,
   "id": "dbc57714-5f82-4bff-a55e-92c2b78dbdc8",
   "metadata": {
    "tags": []
   },
   "outputs": [],
   "source": [
    "datafolder <- '/home/hoyinchan/blue/Data/data2022/'"
   ]
  },
  {
   "cell_type": "code",
   "execution_count": null,
   "id": "8488cdc0-ac71-44a6-9152-0bcd291ffda9",
   "metadata": {
    "tags": []
   },
   "outputs": [],
   "source": [
    "loincs_cofounder <- c('LG6033-7', #AST       \n",
    "                    'LG49755-8') #uric acid\n",
    "loincs_dependents <- c('LG49864-8', #ca\n",
    "                     'LG11363-5', #Na\n",
    "                     'LG49936-4', 'LG6657-3') #K"
   ]
  },
  {
   "cell_type": "code",
   "execution_count": null,
   "id": "4e6ee563-9680-4321-8b69-dfe77f084982",
   "metadata": {
    "tags": []
   },
   "outputs": [],
   "source": [
    "K_Bound <-  c(3.2, 4.4) # 2823-3\n",
    "Na_Bound <- c(132, 144) # 2951-2\n",
    "Ca_Bound <- c(8, 9.3) # 17861-6"
   ]
  },
  {
   "cell_type": "code",
   "execution_count": null,
   "id": "654af03e-2413-4816-8681-7cd1c78f68da",
   "metadata": {
    "tags": []
   },
   "outputs": [],
   "source": [
    "path1 = paste0(datafolder,'confounder_regression.parquet')\n",
    "df <- arrow::read_parquet(path1)"
   ]
  },
  {
   "cell_type": "code",
   "execution_count": null,
   "id": "d56da47b-1c18-415f-aff4-a827b5f3d140",
   "metadata": {
    "tags": []
   },
   "outputs": [],
   "source": [
    "df <- df %>%  mutate_at(vars('if_confound_med_LNa', 'if_confound_med_HCa', 'if_confound_med_HK', 'if_confound_med_LK', 'low_K', 'high_K', 'low_Na', 'high_Na', 'low_Ca', 'high_Ca', 'ID2'), factor)"
   ]
  },
  {
   "cell_type": "code",
   "execution_count": null,
   "id": "a8b83ac3-ad9f-4881-b1e5-40b8a7c1c0c5",
   "metadata": {
    "tags": []
   },
   "outputs": [],
   "source": [
    "df2 <- df"
   ]
  },
  {
   "cell_type": "code",
   "execution_count": null,
   "id": "42211ea8-1a9a-417e-abef-57eac684f671",
   "metadata": {
    "tags": []
   },
   "outputs": [],
   "source": [
    "calculate_slope <- function(df, chem, Na_Bound, K_Bound, Ca_Bound, last_v=NULL, raw_v=NULL, med_v=NULL){\n",
    "    df_filter <- df\n",
    "    df_filter_con <- df\n",
    "    if (chem == 'Na'){ \n",
    "        eqn <- sCr ~  (1|ID2) + Na\n",
    "        eqn_con <- sCr ~  (1|ID2) + Na    \n",
    "        if (last_v == 'L'){\n",
    "            df_filter <- df_filter %>% filter(low_Na==1)\n",
    "        }\n",
    "        if (raw_v == 'L'){\n",
    "            df_filter <- df_filter %>% filter(Na<=Na_Bound[1])\n",
    "        }\n",
    "        df_filter_con <- df_filter %>% filter(if_confound_med_LNa==0)\n",
    "    }\n",
    "    \n",
    "    if (chem == 'Ca'){\n",
    "        eqn <- sCr ~  (1|ID2) + Ca\n",
    "        eqn_con <- sCr ~  (1|ID2) + Ca \n",
    "        if (last_v == 'H'){\n",
    "            df_filter <- df_filter %>% filter(high_Ca==1)\n",
    "        }\n",
    "        if (raw_v == 'H'){\n",
    "            df_filter <- df_filter %>% filter(Ca>=Ca_Bound[2])\n",
    "        }\n",
    "        df_filter_con <- df_filter %>% filter(if_confound_med_HCa==0)        \n",
    "    }\n",
    "    \n",
    "    if (chem == 'K'){\n",
    "        if ((last_v != 'L') | (raw_v != 'L')){\n",
    "            eqn <- sCr ~  (1|ID2) + K\n",
    "#            eqn_con <- sCr ~  (1|ID2) + K + AST + UA\n",
    "#            eqn_con <- sCr ~  (1|ID2) + K + UA +AST\n",
    "            eqn_con <- sCr ~  (1|ID2) + K + UA            \n",
    "        } else {\n",
    "            eqn <- sCr ~  (1|ID2) + K\n",
    "            eqn_con <- sCr ~  (1|ID2) + K\n",
    "        }\n",
    "        \n",
    "        if (last_v == 'L'){\n",
    "            df_filter <- df_filter %>% filter(low_K==1)\n",
    "            df_filter_con <- df_filter %>% filter(if_confound_med_LK==0)                       \n",
    "        }\n",
    "        if (raw_v == 'L'){\n",
    "            df_filter <- df_filter %>% filter(K<=K_Bound[1])\n",
    "            df_filter_con <- df_filter %>% filter(if_confound_med_LK==0)           \n",
    "        }\n",
    "        \n",
    "        if (last_v == 'H'){\n",
    "            df_filter <- df_filter %>% filter(high_K==1)\n",
    "            df_filter_con <- df_filter %>% filter(if_confound_med_HK==0)                       \n",
    "        }\n",
    "        if (raw_v == 'H'){\n",
    "            df_filter <- df_filter %>% filter(K>=K_Bound[2])\n",
    "            df_filter_con <- df_filter %>% filter(if_confound_med_HK==0)           \n",
    "        }\n",
    "    }\n",
    "        \n",
    "    x_con <- lmer(eqn_con, data=df_filter_con, REML = FALSE, control = lmerControl(optimizer ='optimx', optCtrl=list(method='L-BFGS-B')))    \n",
    "    x <-     lmer(eqn,     data=df_filter,     REML = FALSE, control = lmerControl(optimizer ='optimx', optCtrl=list(method='L-BFGS-B'))) \n",
    "    slope_con <- fixef(x_con)[[chem]]\n",
    "    slope     <- fixef(x)[[chem]]    \n",
    "    p_con     <- summary(x_con)$coefficients[chem, \"Pr(>|t|)\"]\n",
    "    p         <- summary(x)$coefficients[chem, \"Pr(>|t|)\"]    \n",
    "    diff      <- (slope-slope_con)/slope*100\n",
    "    \n",
    "    return (c(round(c(slope, slope_con, p<=0.05, p_con<=0.05, diff),4), x, x_con))\n",
    "}\n",
    "        "
   ]
  },
  {
   "cell_type": "code",
   "execution_count": null,
   "id": "95ff9ab8-a56b-48be-b722-09487291a7cc",
   "metadata": {
    "tags": []
   },
   "outputs": [],
   "source": [
    "results = calculate_slope(df2, 'K', Na_Bound, K_Bound, Ca_Bound, last_v='L', raw_v='A')    \n",
    "results[1:5]"
   ]
  },
  {
   "cell_type": "code",
   "execution_count": null,
   "id": "cebdb255-135a-4d59-82b8-87ed05549a70",
   "metadata": {
    "tags": []
   },
   "outputs": [],
   "source": [
    "results = calculate_slope(df2, 'K', Na_Bound, K_Bound, Ca_Bound, last_v='L', raw_v='A')    \n",
    "results[1:5]"
   ]
  },
  {
   "cell_type": "code",
   "execution_count": null,
   "id": "de532bc2-4644-47f0-8b35-abd0df21c796",
   "metadata": {
    "tags": []
   },
   "outputs": [],
   "source": [
    "results = calculate_slope(df2, 'K', Na_Bound, K_Bound, Ca_Bound, last_v='H', raw_v='A')    \n",
    "results[1:5]"
   ]
  },
  {
   "cell_type": "code",
   "execution_count": null,
   "id": "520cd0e1-bb94-43b6-bdd2-0a26ee91b591",
   "metadata": {
    "tags": []
   },
   "outputs": [],
   "source": [
    "results <- calculate_slope(df, 'Na', Na_Bound, K_Bound, Ca_Bound, last_v='L', raw_v='A')    \n",
    "results[1:5]"
   ]
  },
  {
   "cell_type": "code",
   "execution_count": null,
   "id": "e44ebdd0-ba87-41c0-b61c-35865d02e400",
   "metadata": {},
   "outputs": [],
   "source": [
    "results <- calculate_slope(df, 'Ca', Na_Bound, K_Bound, Ca_Bound, last_v='H', raw_v='A')    \n",
    "results[1:5]"
   ]
  },
  {
   "cell_type": "code",
   "execution_count": null,
   "id": "d2cf6f6e-3d5a-465a-84f0-cd7ba2b2ee58",
   "metadata": {},
   "outputs": [],
   "source": []
  }
 ],
 "metadata": {
  "kernelspec": {
   "display_name": "AKI_CDM_R",
   "language": "R",
   "name": "ir"
  },
  "language_info": {
   "codemirror_mode": "r",
   "file_extension": ".r",
   "mimetype": "text/x-r-source",
   "name": "R",
   "pygments_lexer": "r",
   "version": "4.1.3"
  }
 },
 "nbformat": 4,
 "nbformat_minor": 5
}
