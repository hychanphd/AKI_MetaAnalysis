{
 "cells": [
  {
   "cell_type": "code",
   "execution_count": null,
   "id": "e670eb88-9f72-41c2-b5ec-dc22bb5759fe",
   "metadata": {},
   "outputs": [],
   "source": [
    "import pandas as pd\n",
    "import numpy as np\n",
    "import itertools\n",
    "from scipy.stats import fisher_exact\n",
    "import shelve\n",
    "import pickle\n",
    "import pandas as pd\n",
    "import numpy as np\n",
    "import sklearn\n",
    "from sklearn.preprocessing import OneHotEncoder\n",
    "from sklearn.impute import SimpleImputer\n",
    "import matplotlib.pyplot as plt\n",
    "from PIL import Image\n",
    "from scipy.interpolate import BSpline, make_interp_spline, interp1d\n",
    "import csv\n",
    "from dfply import *\n",
    "import itertools\n",
    "import os\n",
    "import logging\n",
    "from sys import getsizeof\n",
    "import sklearn\n",
    "import time\n",
    "from sklearn.metrics import roc_auc_score\n",
    "from catboost import Pool, cv\n",
    "import xgboost\n",
    "import catboost\n",
    "import scipy.stats as st\n",
    "\n",
    "import importlib\n",
    "from joblib import Parallel, delayed\n",
    "from joblib import parallel_backend\n",
    "\n",
    "import pandas as pd\n",
    "import numpy as np\n",
    "import matplotlib.pyplot as plt\n",
    "from pandas.plotting import lag_plot\n",
    "#from statsmodels.tsa.vector_ar.var_model import VARY\n",
    "from statsmodels.tsa.stattools import adfuller, kpss, grangercausalitytests, pacf\n",
    "from statsmodels.graphics.tsaplots import plot_pacf\n",
    "import warnings\n",
    "warnings.filterwarnings(\"ignore\")\n",
    "import scipy\n",
    "import datetime\n",
    "\n",
    "from joblib import Parallel, delayed\n",
    "\n",
    "import scipy\n",
    "import importlib\n",
    "from itertools import combinations\n",
    "import forestplot as fp\n",
    "import statsmodels.api as sm"
   ]
  },
  {
   "cell_type": "code",
   "execution_count": null,
   "id": "bdc39f95-a728-477b-a8b5-ca79e251f1a9",
   "metadata": {},
   "outputs": [],
   "source": [
    "# sites = ['MCRI', 'MCW', 'UMHC', 'UNMC', 'UofU', 'UTHSCSA', 'KUMC', 'UTSW', 'UIOWA', 'UPITT', 'IUR']\n",
    "# for site in sites:\n",
    "#     try:\n",
    "#         myco.get_onsetdata(site=site)\n",
    "#         myco.get_vitaldata(site=site)\n",
    "#         myco.get_labdata(site=site)\n",
    "#         myco.get_meddata(site=site)\n",
    "#         myco.lab = None\n",
    "#         myco.med = None\n",
    "#         myco.vital = None\n",
    "#         datafolder = '/home/hoyinchan/blue/Data/data2021raw/'\n",
    "#         with open(datafolder+'myco_tmp_'+site+'.pkl', \"wb\") as f:\n",
    "#              pickle.dump(myco, f)\n",
    "#     except:\n",
    "#         pass"
   ]
  },
  {
   "cell_type": "code",
   "execution_count": null,
   "id": "8daf3d7b-ca72-4a25-8c8b-580fc2956bb9",
   "metadata": {
    "tags": []
   },
   "outputs": [],
   "source": [
    "# sites = ['MCRI', 'MCW', 'UMHC', 'UNMC', 'UofU', 'UTHSCSA', 'KUMC', 'UTSW', 'UIOWA', 'UPITT', 'IUR']\n",
    "# for site in sites:\n",
    "#     try:\n",
    "#         datafolder = '/home/hoyinchan/blue/Data/data2021raw/'\n",
    "#         import mycorr\n",
    "#         importlib.reload(mycorr)\n",
    "#         myco = mycorr.mycorr()\n",
    "#         with open(datafolder+'myco_tmp_'+site+'.pkl', \"rb\") as f:\n",
    "#             myco2 = pickle.load(f)\n",
    "#         myco.copy(myco2)\n",
    "# #        myco.get_onsetdata(site=site)\n",
    "# #        myco.get_vitaldata(site=site)\n",
    "# #        myco.get_labdata(site=site)\n",
    "#         myco.get_meddata(site=site)\n",
    "#         myco.lab = None\n",
    "#         myco.med = None\n",
    "#         myco.vital = None\n",
    "#         datafolder = '/home/hoyinchan/blue/Data/data2021raw/'\n",
    "#         with open(datafolder+'myco_tmp_'+site+'.pkl', \"wb\") as f:\n",
    "#              pickle.dump(myco, f)\n",
    "#     except:\n",
    "#         pass"
   ]
  },
  {
   "cell_type": "code",
   "execution_count": null,
   "id": "cb41e8d6-8462-4b3e-a202-f1aa591925cf",
   "metadata": {
    "tags": []
   },
   "outputs": [],
   "source": [
    "# site = 'UMHC'\n",
    "# datafolder = '/home/hoyinchan/blue/Data/data2021raw/'\n",
    "# import mycorr\n",
    "# importlib.reload(mycorr)\n",
    "# myco = mycorr.mycorr()\n",
    "# with open(datafolder+'myco2_tmp_'+site+'.pkl', \"rb\") as f:\n",
    "#     myco2 = pickle.load(f)\n",
    "# myco.copy(myco2)"
   ]
  },
  {
   "cell_type": "code",
   "execution_count": null,
   "id": "350477e1-74bb-45e3-a398-3652072ff346",
   "metadata": {
    "tags": []
   },
   "outputs": [],
   "source": [
    "#mycoX = myco.calculate_site(site = 'KUMC')"
   ]
  },
  {
   "cell_type": "code",
   "execution_count": null,
   "id": "d8f32df1-98e9-498c-8d2d-993db3cb6d04",
   "metadata": {
    "tags": []
   },
   "outputs": [],
   "source": [
    "#mycoX.calculate_corr2()"
   ]
  },
  {
   "cell_type": "code",
   "execution_count": null,
   "id": "e060ca30-79ee-4c35-8874-709646e81ed8",
   "metadata": {
    "tags": []
   },
   "outputs": [],
   "source": [
    "site = 'UMHC'\n",
    "datafolder = '/home/hoyinchan/blue/Data/data2021raw/'\n",
    "import mycorr2\n",
    "importlib.reload(mycorr2)\n",
    "myco = mycorr2.mycorr2()\n",
    "with open(datafolder+'myco2_tmp_'+site+'.pkl', \"rb\") as f:\n",
    "    myco2 = pickle.load(f)\n",
    "myco.copy(myco2)"
   ]
  },
  {
   "cell_type": "code",
   "execution_count": null,
   "id": "a4aaf464-a329-4b84-8bbf-d9ab582f7c8b",
   "metadata": {
    "jupyter": {
     "outputs_hidden": true
    },
    "tags": []
   },
   "outputs": [],
   "source": [
    "mycoX = myco.calculate_site('UMHC')"
   ]
  },
  {
   "cell_type": "code",
   "execution_count": null,
   "id": "679ef2fe-fc74-4829-aa35-ac6fdb37b651",
   "metadata": {
    "tags": []
   },
   "outputs": [],
   "source": [
    "myco.calculate_all()"
   ]
  },
  {
   "cell_type": "code",
   "execution_count": null,
   "id": "f4679394-23c5-43d4-abc4-212dfd4ae07d",
   "metadata": {
    "jupyter": {
     "outputs_hidden": true
    },
    "tags": []
   },
   "outputs": [],
   "source": [
    "myco.calculate_all2(loinc2='2823-3', loinc3='FLAG', prefix='myco2_corr4_', plot_prefix=\"plot4_\")"
   ]
  },
  {
   "cell_type": "code",
   "execution_count": null,
   "id": "0d10e125-f99d-4862-b900-ffedeea51fe2",
   "metadata": {
    "tags": []
   },
   "outputs": [],
   "source": []
  },
  {
   "cell_type": "code",
   "execution_count": null,
   "id": "55024a7c-a580-4eb4-aca7-7aa872fe9897",
   "metadata": {
    "tags": []
   },
   "outputs": [],
   "source": []
  },
  {
   "cell_type": "code",
   "execution_count": null,
   "id": "9b9335fe-c008-40b1-8a9d-021886532601",
   "metadata": {
    "tags": []
   },
   "outputs": [],
   "source": []
  },
  {
   "cell_type": "code",
   "execution_count": null,
   "id": "1363ac99-6402-4e65-8c03-3a42b55f72c9",
   "metadata": {
    "tags": []
   },
   "outputs": [],
   "source": []
  },
  {
   "cell_type": "code",
   "execution_count": null,
   "id": "5a6ac4ef-2aa5-4861-9457-b9478a4ef1d4",
   "metadata": {
    "tags": []
   },
   "outputs": [],
   "source": []
  },
  {
   "cell_type": "code",
   "execution_count": null,
   "id": "6e051c8f-e0f0-41fd-b57e-60aa8e95e119",
   "metadata": {
    "tags": []
   },
   "outputs": [],
   "source": []
  },
  {
   "cell_type": "code",
   "execution_count": null,
   "id": "76031d2f-feeb-4ba0-8e53-da308676e7fb",
   "metadata": {
    "tags": []
   },
   "outputs": [],
   "source": []
  },
  {
   "cell_type": "code",
   "execution_count": null,
   "id": "8df3c545-ceb1-45ce-8399-776eaa3bec80",
   "metadata": {
    "tags": []
   },
   "outputs": [],
   "source": []
  },
  {
   "cell_type": "code",
   "execution_count": null,
   "id": "74509fc7-74d9-4b44-8252-99aeaaf1589e",
   "metadata": {
    "tags": []
   },
   "outputs": [],
   "source": []
  },
  {
   "cell_type": "code",
   "execution_count": null,
   "id": "16d9868b-1e54-4b42-af27-db3fae8ebe09",
   "metadata": {
    "tags": []
   },
   "outputs": [],
   "source": []
  },
  {
   "cell_type": "code",
   "execution_count": null,
   "id": "5469a97f-bfb8-4852-89fb-77a2c7483120",
   "metadata": {
    "tags": []
   },
   "outputs": [],
   "source": []
  },
  {
   "cell_type": "code",
   "execution_count": null,
   "id": "e68f72c2-cbe2-460d-8ac4-b5aee4f36fd2",
   "metadata": {
    "tags": []
   },
   "outputs": [],
   "source": []
  },
  {
   "cell_type": "code",
   "execution_count": null,
   "id": "e1ff35a8-9067-426a-b709-9ba5a7ba06f3",
   "metadata": {
    "tags": []
   },
   "outputs": [],
   "source": []
  },
  {
   "cell_type": "code",
   "execution_count": null,
   "id": "52cf6d5a-20d5-4008-b93e-c185969f5e9d",
   "metadata": {
    "tags": []
   },
   "outputs": [],
   "source": []
  },
  {
   "cell_type": "code",
   "execution_count": null,
   "id": "9922c2ad-a8e9-411d-a310-bfd57eac629e",
   "metadata": {
    "tags": []
   },
   "outputs": [],
   "source": []
  },
  {
   "cell_type": "code",
   "execution_count": null,
   "id": "ac568d9e-2866-4722-8870-b8ba6b7f407c",
   "metadata": {
    "tags": []
   },
   "outputs": [],
   "source": [
    "mycoX.pcorr_custom()              "
   ]
  },
  {
   "cell_type": "code",
   "execution_count": null,
   "id": "5af5838b-87b6-45e4-9554-2a8b8c2277cd",
   "metadata": {
    "tags": []
   },
   "outputs": [],
   "source": [
    "myco.calculate_site('UMHC')"
   ]
  },
  {
   "cell_type": "code",
   "execution_count": null,
   "id": "90b13299-7881-4765-a9bf-1d48ec4d597a",
   "metadata": {
    "tags": []
   },
   "outputs": [],
   "source": [
    "mycoX = myco.calculate_site('UMHC')"
   ]
  },
  {
   "cell_type": "code",
   "execution_count": null,
   "id": "31967adf-0d40-4aca-bf53-dd9bc2cb10da",
   "metadata": {
    "tags": []
   },
   "outputs": [],
   "source": [
    "mycoX.res_df3"
   ]
  },
  {
   "cell_type": "code",
   "execution_count": null,
   "id": "63c9cc81-7605-46d6-acbf-9516dbfae04f",
   "metadata": {
    "tags": []
   },
   "outputs": [],
   "source": [
    "mycoX.one_table"
   ]
  },
  {
   "cell_type": "code",
   "execution_count": null,
   "id": "a998b08a-96da-4a6b-abe3-ed9ae500ad35",
   "metadata": {
    "jupyter": {
     "outputs_hidden": true
    },
    "tags": []
   },
   "outputs": [],
   "source": [
    "dfmlr = pd.read_csv('mlr6_cofounder3.csv')\n",
    "\n",
    "dfmlr['rho'] = -dfmlr['pdiff']\n",
    "dfmlr['95ci_low'] = -(dfmlr['r']-dfmlr['CI95%0down'])\n",
    "dfmlr['95ci_high'] = -(dfmlr['r']-dfmlr['CI95%0up'])\n",
    "dfmlr['target'] = dfmlr['covar']\n",
    "dfmlr['pvalue'] = (~dfmlr['significant']).astype(int).round(2)\n",
    "\n",
    "dfmlr = dfmlr[['feature1','feature2','rho', 'site','target','range','pvalue','95ci_low','95ci_high', 'n', 'n0']]\n",
    "\n",
    "def pmean(df):\n",
    "    return scipy.stats.ttest_1samp(df, 0)[1]\n",
    "tmpsmeanstat = dfmlr[['feature1','feature2','rho','target','range']].groupby(['feature1', 'feature2','target','range']).agg([np.nanmean, np.nanstd, pmean]).reset_index()\n",
    "tmpsmeanstat.columns = ['feature1','feature2','target','range','rho','std', 'pvalue']\n",
    "tmpsmeanstat['95ci_low'] = tmpsmeanstat['rho']-2*tmpsmeanstat['std']\n",
    "tmpsmeanstat['95ci_high'] = tmpsmeanstat['rho']+2*tmpsmeanstat['std']\n",
    "tmpsmeanstat['site'] = 'MEAN'\n",
    "tmpsmeanstat = tmpsmeanstat.drop('std',axis=1)\n",
    "tmpsmeanstat['pvalue'] = tmpsmeanstat['pvalue'].round(2)\n",
    "\n",
    "tmps2 = pd.concat([dfmlr, tmpsmeanstat])\n",
    "tmps2['95ci_min'] = tmps2[['95ci_low','95ci_high']].min(axis=1)\n",
    "tmps2['95ci_max'] = tmps2[['95ci_low','95ci_high']].max(axis=1)\n",
    "tmps3  = tmps2[['feature1','feature2', 'target']].drop_duplicates()\n",
    "\n",
    "dict_lab = {'2157-6':'creatineKinase(HK)',\n",
    "          '1920-8':'AST(HK)',      \n",
    "          '2532-0':'LDH(HK)',\n",
    "          '4542-7':'Haptoglobin(HK)', \n",
    "          '3084-1':'uricAcid(HK)',\n",
    "        '2823-3':'potassium',\n",
    "        '17861-6':'calcium',\n",
    "        '2951-2':'sodium', \n",
    "        '2160-0':'sCr',\n",
    "        'FLAG':'FLAG'}\n",
    "\n",
    "dict_med = {'A07DA': 'DiphenoxylateLoperamide(LK)',\n",
    "              'C03CA': 'FurosemideBumetanideTorsemide(LKLNa)',\n",
    "              'C03CB': 'FurosemideBumetanideTorsemide(LKLNa)',\n",
    "              'C03EB': 'FurosemideBumetanideTorsemide(LKLNa)',\n",
    "              'C03AA': 'hydrochlorothiazide(LNa)',\n",
    "              'C03AB': 'hydrochlorothiazide(LNa)',\n",
    "              'C03AH': 'chlorothiazide(LNa)',\n",
    "              'C03BA': 'chlorthalidone(LNa)',\n",
    "              'C03EA': 'hydrochlorothiazide(LNa)',\n",
    "              'C09DX': 'SacubitrilValsartan(HK)',\n",
    "              'C03DA': 'eplerenone(HK)',\n",
    "              'C03XA': 'tolvaptan(LNa)',\n",
    "              'C09XA': 'hydrochlorothiazide(LNa)',\n",
    "              'C09DX': 'hydrochlorothiazide(LNa)',\n",
    "              'C03AX': 'hydrochlorothiazide(LNa)',\n",
    "              'C09BX': 'hydrochlorothiazide(LNa)',\n",
    "              'M05BA': 'PamidronateZoledronate(HCa)',\n",
    "              'M05BB': 'etidronate(HCa)'}\n",
    "\n",
    "plotdict = dict()\n",
    "\n",
    "tmps3 = tmps3.replace(dict_lab)\n",
    "tmps2 = tmps2.replace(dict_lab)\n",
    "\n",
    "tmps3 = tmps3.replace(dict_med)\n",
    "tmps2 = tmps2.replace(dict_med)      \n",
    "\n",
    "tmps2\n",
    "\n",
    "loinc2 = '2823-3'\n",
    "loinc3 = 'FLAG'\n",
    "plot_prefix = \"plot3_\"\n",
    "for row in tmps3.iterrows():\n",
    "    f1 = row[1][0]\n",
    "    f2 = row[1][1]\n",
    "    f3 = row[1][2]\n",
    "    tmps2X = tmps2[(tmps2['feature1']==f1) & (tmps2['feature2']==f2) & (tmps2['target']==f3)]\n",
    "    tmps2X  = tmps2X.reset_index(drop=True)\n",
    "    fp.forestplot(tmps2X, \n",
    "              estimate=\"rho\",  # col containing estimated effect size \n",
    "              ll=\"95ci_min\", hl=\"95ci_max\",  # columns containing conf. int. lower and higher limits\n",
    "              varlabel=\"site\",  # column containing variable label\n",
    "              ylabel=\"Confidence interval\",  # y-label title\n",
    "              xlabel=f1+' vs '+f2+ '('+f3+')',\n",
    "              groupvar=\"range\",\n",
    "              rightannote=[\"pvalue\", \"n\", \"n0\"],\n",
    "              right_annoteheaders=[\"pvalue\", \"n(cofounder)\", \"n(base)\"])\n",
    "    plt.savefig(plot_prefix+f1+'_'+f2+'_'+f3+\"_.png\", bbox_inches=\"tight\")\n",
    "    plotdict[(f1,f2,loinc2,loinc3)] = plt.gca()\n",
    "\n",
    "tmps2X = tmps2[(tmps2['feature1']==f1) & (tmps2['feature2']==f2) & (tmps2['target']==f3)]\n",
    "\n",
    "tmps2X  = tmps2X.reset_index(drop=True)\n",
    "\n",
    "fp.forestplot(tmps2X, \n",
    "          estimate=\"rho\",  # col containing estimated effect size \n",
    "          ll=\"95ci_min\", hl=\"95ci_max\",  # columns containing conf. int. lower and higher limits\n",
    "          varlabel=\"site\",  # column containing variable label\n",
    "          ylabel=\"Confidence interval\",  # y-label title\n",
    "          xlabel=f1+' vs '+f2+ '('+f3+')',\n",
    "          groupvar=\"range\",\n",
    "          rightannote=[\"pvalue\", \"n\", \"n0\"],\n",
    "          right_annoteheaders=[\"pvalue\", \"n(cofounder)\", \"n(base)\"])\n",
    "plt.savefig(\"plot3_\"+f1+'_'+f2+'_'+dict_lab[loinc2]+'_'+dict_lab[loinc3]+\".png\", bbox_inches=\"tight\")"
   ]
  },
  {
   "cell_type": "code",
   "execution_count": null,
   "id": "e21bff23-186b-4f56-9726-6be4c96f9fe6",
   "metadata": {},
   "outputs": [],
   "source": []
  }
 ],
 "metadata": {
  "kernelspec": {
   "display_name": "AKI_timeseries",
   "language": "python",
   "name": "aki_timeseries"
  },
  "language_info": {
   "codemirror_mode": {
    "name": "ipython",
    "version": 3
   },
   "file_extension": ".py",
   "mimetype": "text/x-python",
   "name": "python",
   "nbconvert_exporter": "python",
   "pygments_lexer": "ipython3",
   "version": "3.11.3"
  }
 },
 "nbformat": 4,
 "nbformat_minor": 5
}
