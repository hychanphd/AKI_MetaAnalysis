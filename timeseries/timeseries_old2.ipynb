{
 "cells": [
  {
   "cell_type": "code",
   "execution_count": null,
   "id": "c4b1b80f-17f3-4f94-8358-e29e5166e83c",
   "metadata": {},
   "outputs": [],
   "source": [
    "import pandas as pd\n",
    "import numpy as np\n",
    "import itertools\n",
    "from scipy.stats import fisher_exact\n",
    "import shelve\n",
    "import pickle\n",
    "import pandas as pd\n",
    "import numpy as np\n",
    "import sklearn\n",
    "from sklearn.preprocessing import OneHotEncoder\n",
    "from sklearn.impute import SimpleImputer\n",
    "import matplotlib.pyplot as plt\n",
    "from PIL import Image\n",
    "from scipy.interpolate import BSpline, make_interp_spline, interp1d\n",
    "import csv\n",
    "from dfply import *\n",
    "import itertools\n",
    "import os\n",
    "import logging\n",
    "from sys import getsizeof\n",
    "import sklearn\n",
    "import time\n",
    "from sklearn.metrics import roc_auc_score\n",
    "from catboost import Pool, cv\n",
    "import xgboost\n",
    "import catboost\n",
    "import scipy.stats as st\n",
    "\n",
    "import importlib\n",
    "from joblib import Parallel, delayed\n",
    "from joblib import parallel_backend\n",
    "\n",
    "import pandas as pd\n",
    "import numpy as np\n",
    "import matplotlib.pyplot as plt\n",
    "from pandas.plotting import lag_plot\n",
    "#from statsmodels.tsa.vector_ar.var_model import VARY\n",
    "from statsmodels.tsa.stattools import adfuller, kpss, grangercausalitytests, pacf\n",
    "from statsmodels.graphics.tsaplots import plot_pacf\n",
    "import warnings\n",
    "warnings.filterwarnings(\"ignore\")\n",
    "import scipy\n",
    "import datetime\n",
    "\n",
    "from joblib import Parallel, delayed\n"
   ]
  },
  {
   "cell_type": "code",
   "execution_count": null,
   "id": "558f6df0-9145-4cbc-ac72-5aff3bd7e715",
   "metadata": {
    "tags": []
   },
   "outputs": [],
   "source": [
    "import pyunicorn.timeseries"
   ]
  },
  {
   "cell_type": "code",
   "execution_count": null,
   "id": "01a3488f-1050-49a6-84a6-9241d6428baf",
   "metadata": {
    "tags": []
   },
   "outputs": [],
   "source": [
    "import myccm\n",
    "importlib.reload(myccm)\n",
    "myccm = myccm.myccm()\n",
    "\n",
    "with open('myccm_tmp_UTHSCSA.pkl', \"rb\") as f:\n",
    "    myccm2 = pickle.load(f)\n",
    "    \n",
    "myccm.copy(myccm2)"
   ]
  },
  {
   "cell_type": "code",
   "execution_count": null,
   "id": "d3b447bb-48aa-499c-b166-9e5edb128db0",
   "metadata": {
    "tags": []
   },
   "outputs": [],
   "source": [
    "myccm.labX"
   ]
  },
  {
   "cell_type": "code",
   "execution_count": null,
   "id": "21061de5-e9ea-4936-b05f-170cb0c895db",
   "metadata": {
    "tags": []
   },
   "outputs": [],
   "source": []
  },
  {
   "cell_type": "code",
   "execution_count": null,
   "id": "9cd8ea03-75dc-4fa4-abc4-c01c3be1c172",
   "metadata": {
    "tags": []
   },
   "outputs": [],
   "source": []
  },
  {
   "cell_type": "code",
   "execution_count": null,
   "id": "b68955d4-f521-41b2-bbae-eefa34492d5a",
   "metadata": {
    "tags": []
   },
   "outputs": [],
   "source": []
  },
  {
   "cell_type": "code",
   "execution_count": null,
   "id": "9e253ce3-c3d2-42ac-b0df-d041e4c4bdc0",
   "metadata": {
    "tags": []
   },
   "outputs": [],
   "source": []
  },
  {
   "cell_type": "code",
   "execution_count": null,
   "id": "f3202ad1-32d0-4ac9-8b14-5718a1f87189",
   "metadata": {
    "tags": []
   },
   "outputs": [],
   "source": []
  },
  {
   "cell_type": "code",
   "execution_count": null,
   "id": "769bd830-8d55-4a75-abb6-84ca5e93e990",
   "metadata": {
    "tags": []
   },
   "outputs": [],
   "source": []
  },
  {
   "cell_type": "code",
   "execution_count": null,
   "id": "3e3f084a-b0fb-4856-91b6-15a42a254b04",
   "metadata": {
    "tags": []
   },
   "outputs": [],
   "source": []
  },
  {
   "cell_type": "code",
   "execution_count": null,
   "id": "7c671b38-cbb2-429b-bac8-5f821f8ebbab",
   "metadata": {
    "tags": []
   },
   "outputs": [],
   "source": [
    "# myccm.get_onsetdata()\n",
    "# myccm.get_data()\n",
    "# myccm.lab = None\n",
    "# with open('myccm_tmp_UTHSCSA.pkl', \"wb\") as f:\n",
    "#      pickle.dump(myccm, f)"
   ]
  },
  {
   "cell_type": "code",
   "execution_count": null,
   "id": "85508aa6-0590-458e-a4bc-484115de740f",
   "metadata": {
    "tags": []
   },
   "outputs": [],
   "source": [
    "#myccm.plot_convergence(figsize=(16, 12))\n",
    "#df_row = myccm.one_process(pos)\n",
    "#%lprun -f myccm.one_process myccm.one_process(pos)\n",
    "#myccm.select_paitient(pos)"
   ]
  },
  {
   "cell_type": "code",
   "execution_count": null,
   "id": "ce00835e-c35b-435a-ac60-c2269d3f9ed5",
   "metadata": {
    "tags": []
   },
   "outputs": [],
   "source": [
    "%%capture\n",
    "#dfrow = myccm.one_process(10)"
   ]
  },
  {
   "cell_type": "code",
   "execution_count": null,
   "id": "5f6547a4-ff33-4592-8906-1ac314eb1a1a",
   "metadata": {
    "tags": []
   },
   "outputs": [],
   "source": [
    "#myccm.plot_convergence()"
   ]
  },
  {
   "cell_type": "code",
   "execution_count": null,
   "id": "874a441f-2f01-4fd3-a91d-2026d2a194e5",
   "metadata": {
    "tags": []
   },
   "outputs": [],
   "source": [
    "#myccm.gen_delay(range_lim=6, sample=30)"
   ]
  },
  {
   "cell_type": "code",
   "execution_count": null,
   "id": "c9c590e2-5f09-42db-a967-213714dbc231",
   "metadata": {
    "tags": []
   },
   "outputs": [],
   "source": [
    "#myccm.plot_delat()"
   ]
  },
  {
   "cell_type": "code",
   "execution_count": null,
   "id": "29219b51-c412-44bf-811f-6f4b358e86cd",
   "metadata": {},
   "outputs": [],
   "source": [
    "# site = 'UTHSCSA'\n",
    "# myccm.get_onsetdata(site=site) \n",
    "# myccm.get_data(site=site)"
   ]
  },
  {
   "cell_type": "code",
   "execution_count": null,
   "id": "c54492b6-bf08-4496-bf3a-f820fc2eec86",
   "metadata": {},
   "outputs": [],
   "source": [
    "loinc1 = '2823-3'\n",
    "loinc2 = '2160-0'"
   ]
  },
  {
   "cell_type": "code",
   "execution_count": null,
   "id": "17ea5091-7e89-441a-a1a6-4e685e5053aa",
   "metadata": {},
   "outputs": [],
   "source": [
    "savepath = '/home/hoyinchan/code/AKI_CDM_PY/timeseries/result_'+myccm.site+'_'+loinc1.replace('-','_')+'_'+loinc2.replace('-','_')+'.csv'\n",
    "myccm.set_loincs_pair(loinc1=loinc1, loinc2=loinc2)\n",
    "myccm.extract_time_series_pair()"
   ]
  },
  {
   "cell_type": "code",
   "execution_count": null,
   "id": "d45cb309-ef20-4e29-8f9b-86373fe4fa3e",
   "metadata": {},
   "outputs": [],
   "source": [
    "myccm.tentmap_df"
   ]
  },
  {
   "cell_type": "code",
   "execution_count": null,
   "id": "7e859f52-448a-4524-9575-a9ed6238de23",
   "metadata": {
    "tags": []
   },
   "outputs": [],
   "source": [
    "df_row = Parallel(n_jobs=63)(delayed(myccm.one_process_parallel)(pos) for pos in range(len(myccm.data_count_filtered['ENCOUNTERID'])))        \n",
    "pd.concat([x[0] for x in df_row]).to_csv(savepath)"
   ]
  },
  {
   "cell_type": "code",
   "execution_count": null,
   "id": "556574c8-159a-4745-a556-f2a96be3949f",
   "metadata": {},
   "outputs": [],
   "source": [
    "myccm.one_process(pos=344 , rescale=True, stationarize=True)"
   ]
  },
  {
   "cell_type": "code",
   "execution_count": null,
   "id": "4cba96d7-1476-4cab-aa93-f321f19e32c0",
   "metadata": {},
   "outputs": [],
   "source": [
    "myccm.plot_convergence()"
   ]
  },
  {
   "cell_type": "code",
   "execution_count": null,
   "id": "086abe40-3d2a-4ec1-ba90-3de2c45122f5",
   "metadata": {},
   "outputs": [],
   "source": [
    "myccm.tentmap_df[myccm.loinc1].iloc[-1]"
   ]
  },
  {
   "cell_type": "code",
   "execution_count": null,
   "id": "72f34f55-77c1-4e11-9c61-88dda41f1b7a",
   "metadata": {},
   "outputs": [],
   "source": [
    "myccm.tentmap_df[myccm.loinc2].iloc[-1]"
   ]
  },
  {
   "cell_type": "code",
   "execution_count": null,
   "id": "053019cb-9384-40e6-8fca-09582c80b1a8",
   "metadata": {},
   "outputs": [],
   "source": [
    "myccm.print_dfrow()"
   ]
  },
  {
   "cell_type": "code",
   "execution_count": null,
   "id": "960d6802-d66a-40a6-8e24-92cf61ea6423",
   "metadata": {},
   "outputs": [],
   "source": []
  }
 ],
 "metadata": {
  "kernelspec": {
   "display_name": "AKI_CDM_PY",
   "language": "python",
   "name": "aki_cdm_py"
  },
  "language_info": {
   "codemirror_mode": {
    "name": "ipython",
    "version": 3
   },
   "file_extension": ".py",
   "mimetype": "text/x-python",
   "name": "python",
   "nbconvert_exporter": "python",
   "pygments_lexer": "ipython3",
   "version": "3.6.15"
  }
 },
 "nbformat": 4,
 "nbformat_minor": 5
}
