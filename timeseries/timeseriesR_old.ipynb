{
 "cells": [
  {
   "cell_type": "code",
   "execution_count": null,
   "id": "122298f2-fe40-4f60-8edd-ed8fc027e035",
   "metadata": {
    "tags": []
   },
   "outputs": [],
   "source": [
    "Packages <- c(\"arrow\", \"multispatialCCM\")\n",
    "invisible(lapply(Packages, library, character.only = TRUE))"
   ]
  },
  {
   "cell_type": "code",
   "execution_count": null,
   "id": "eca3f0de-f314-4886-a97c-4bcb9e736249",
   "metadata": {},
   "outputs": [],
   "source": [
    "path <- '/home/hoyinchan/code/AKI_CDM_PY/timeseries/tentmap_df.parquet'\n",
    "dfraw <- arrow::read_parquet(path)"
   ]
  },
  {
   "cell_type": "code",
   "execution_count": null,
   "id": "a0c1e61f-b2a7-4b11-bc92-a105a7df0681",
   "metadata": {
    "tags": []
   },
   "outputs": [],
   "source": [
    "x = dfraw$calcium\n",
    "y = dfraw$scr\n",
    "Es = 1:10\n",
    "taus = 1:10"
   ]
  },
  {
   "cell_type": "code",
   "execution_count": null,
   "id": "5fc8cc49-9963-4d30-950a-af5ad0136b74",
   "metadata": {
    "tags": []
   },
   "outputs": [],
   "source": [
    "maxrhox = 0\n",
    "maxEx = 0\n",
    "maxtaux = 0\n",
    "for (E in Es){\n",
    "    for(tau in taus){\n",
    "        newrho = SSR_pred_boot(x, E=E, tau=tau)$rho\n",
    "        if (newrho>maxrhox){\n",
    "            maxrhox = newrho\n",
    "            maxEx = E\n",
    "            maxtaux = tau\n",
    "        }\n",
    "    }\n",
    "}\n",
    "\n",
    "maxrhoy = 0\n",
    "maxEy = 0\n",
    "maxtauy = 0\n",
    "for (E in Es){\n",
    "    for(tau in taus){\n",
    "        newrho = SSR_pred_boot(y, E=E, tau=tau)$rho\n",
    "        if (newrho>maxrhoy){\n",
    "            maxrhoy = newrho\n",
    "            maxEy = E\n",
    "            maxtauy = tau\n",
    "        }\n",
    "    }\n",
    "}"
   ]
  },
  {
   "cell_type": "code",
   "execution_count": null,
   "id": "05b74b94-5355-465e-bff2-32325f8c2406",
   "metadata": {
    "tags": []
   },
   "outputs": [],
   "source": [
    "maxtaux"
   ]
  },
  {
   "cell_type": "code",
   "execution_count": null,
   "id": "3154b600-b19b-415f-bdc5-c0e1438aba33",
   "metadata": {},
   "outputs": [],
   "source": [
    "CCM_boot_A = CCM_boot(x, y, E=maxEx, tau= maxtaux)\n",
    "CCM_boot_B = CCM_boot(y, x, E=maxEy, tau= maxtauy)"
   ]
  },
  {
   "cell_type": "code",
   "execution_count": null,
   "id": "cb70da69-70b4-45f9-b1c8-591151d28c52",
   "metadata": {
    "tags": []
   },
   "outputs": [],
   "source": [
    "tail(CCM_boot_B$rho,n=1)"
   ]
  },
  {
   "cell_type": "code",
   "execution_count": null,
   "id": "bcfa169f-115b-41b6-9daf-4e5a0f3a41a0",
   "metadata": {},
   "outputs": [],
   "source": [
    "ccmtest(CCM_boot_A, CCM_boot_B)"
   ]
  },
  {
   "cell_type": "code",
   "execution_count": null,
   "id": "855bda6f-422e-4f95-864f-8fbf5dfe85e8",
   "metadata": {},
   "outputs": [],
   "source": [
    "lag = c(-2,-1,0,1,2)"
   ]
  },
  {
   "cell_type": "code",
   "execution_count": null,
   "id": "36d74cef-2efb-4b5f-9f22-2180b3d50809",
   "metadata": {
    "tags": []
   },
   "outputs": [],
   "source": [
    "maxrhox = 0\n",
    "maxlx = 0\n",
    "maxrhoy = 0\n",
    "maxly = 0\n",
    "\n",
    "\n",
    "for (l in lag){\n",
    "    newrho = tail(CCM_boot(x, y, E=maxEx-l, tau= maxtaux-l)$rho,n=1)\n",
    "    if (newrho>maxrhox){\n",
    "        maxrhox = newrho\n",
    "        maxlx = l\n",
    "    }\n",
    "}\n",
    "\n",
    "\n",
    "for (l in lag){\n",
    "    newrho = tail(CCM_boot(y, x, E=maxEy-l, tau= maxtauy-l)$rho,n=1)\n",
    "    if (newrho>maxrhoy){\n",
    "        maxrhoy = newrho\n",
    "        maxly = l\n",
    "    }\n",
    "}"
   ]
  },
  {
   "cell_type": "code",
   "execution_count": null,
   "id": "0f9a14e3-adfe-402d-af27-44af75072947",
   "metadata": {},
   "outputs": [],
   "source": [
    "maxlx"
   ]
  },
  {
   "cell_type": "code",
   "execution_count": null,
   "id": "a23236a2-c9f5-4f3d-9731-d29035005c45",
   "metadata": {},
   "outputs": [],
   "source": [
    "maxly"
   ]
  },
  {
   "cell_type": "code",
   "execution_count": null,
   "id": "a79fccdb-9111-41f1-9396-2c314190a6ba",
   "metadata": {},
   "outputs": [],
   "source": []
  }
 ],
 "metadata": {
  "kernelspec": {
   "display_name": "AKI_CDM_R",
   "language": "R",
   "name": "ir"
  },
  "language_info": {
   "codemirror_mode": "r",
   "file_extension": ".r",
   "mimetype": "text/x-r-source",
   "name": "R",
   "pygments_lexer": "r",
   "version": "4.1.3"
  }
 },
 "nbformat": 4,
 "nbformat_minor": 5
}
