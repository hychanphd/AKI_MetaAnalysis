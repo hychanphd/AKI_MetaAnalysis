{
 "cells": [
  {
   "cell_type": "code",
   "execution_count": null,
   "id": "14dee485-3c3a-459a-9859-229d7d94438a",
   "metadata": {
    "tags": []
   },
   "outputs": [],
   "source": [
    "import pandas as pd\n",
    "import numpy as np\n",
    "import itertools\n",
    "from scipy.stats import fisher_exact\n",
    "import shelve\n",
    "import pickle\n",
    "import pandas as pd\n",
    "import numpy as np\n",
    "import sklearn\n",
    "from sklearn.preprocessing import OneHotEncoder\n",
    "from sklearn.impute import SimpleImputer\n",
    "import matplotlib.pyplot as plt\n",
    "from PIL import Image\n",
    "from scipy.interpolate import BSpline, make_interp_spline, interp1d\n",
    "import csv\n",
    "from dfply import *\n",
    "import itertools\n",
    "import os\n",
    "import logging\n",
    "from sys import getsizeof\n",
    "import sklearn\n",
    "import time\n",
    "from sklearn.metrics import roc_auc_score\n",
    "from catboost import Pool, cv\n",
    "import xgboost\n",
    "import catboost\n",
    "import scipy.stats as st\n",
    "\n",
    "import importlib\n",
    "from joblib import Parallel, delayed\n",
    "from joblib import parallel_backend\n",
    "\n",
    "import pandas as pd\n",
    "import numpy as np\n",
    "import matplotlib.pyplot as plt\n",
    "from pandas.plotting import lag_plot\n",
    "#from statsmodels.tsa.vector_ar.var_model import VARY\n",
    "from statsmodels.tsa.stattools import adfuller, kpss, grangercausalitytests, pacf\n",
    "from statsmodels.graphics.tsaplots import plot_pacf\n",
    "import warnings\n",
    "warnings.filterwarnings(\"ignore\")\n",
    "import scipy\n",
    "import datetime\n",
    "\n",
    "from joblib import Parallel, delayed\n",
    "\n",
    "import scipy\n",
    "import importlib\n",
    "from itertools import combinations\n",
    "import forestplot as fp\n",
    "import statsmodels.api as sm"
   ]
  },
  {
   "cell_type": "code",
   "execution_count": null,
   "id": "3415885e-da2e-4d19-abe8-eb3aa9a6423b",
   "metadata": {
    "tags": []
   },
   "outputs": [],
   "source": [
    "site='IUR'\n",
    "print(site)\n",
    "import myits\n",
    "importlib.reload(myits)\n",
    "datafolder = '/home/hoyinchan/blue/Data/data2021raw/'\n",
    "myitsX = myits.myits()\n",
    "myitsX.get_onsetdata(site=site)                \n",
    "myitsX.get_data(site=site)\n",
    "myitsX.get_meddata(site=site)\n",
    "myitsX.set_loincs_pair()\n",
    "myitsX.med_code_transform()\n",
    "myitsX.extract_med_data()\n",
    "myitsX.lab = None\n",
    "with open(datafolder+'myits2_tmp_'+site+'.pkl', \"wb\") as f:\n",
    "     pickle.dump(myitsX,f)\n",
    "myitsX.run()"
   ]
  },
  {
   "cell_type": "code",
   "execution_count": null,
   "id": "d649ac84-c94b-4f93-830c-2c8d0d894a2f",
   "metadata": {
    "tags": []
   },
   "outputs": [],
   "source": [
    "sites = ['UTHSCSA', 'KUMC', 'MCW', 'UMHC', 'UNMC', 'UTSW', 'UofU', 'UPITT', 'IUR', 'UIOWA']\n",
    "\n",
    "for site in sites:\n",
    "    try:\n",
    "        print(site)\n",
    "        import myits\n",
    "        importlib.reload(myits)\n",
    "        datafolder = '/home/hoyinchan/blue/Data/data2021raw/'\n",
    "        myitsX = myits.myits()\n",
    "        myitsX.get_onsetdata(site=site)                \n",
    "        myitsX.get_data(site=site)\n",
    "        myitsX.get_meddata(site=site)\n",
    "        myitsX.set_loincs_pair()\n",
    "        myitsX.med_code_transform()\n",
    "        myitsX.extract_med_data()\n",
    "        myitsX.lab = None\n",
    "        with open(datafolder+'myits2_tmp_'+site+'.pkl', \"wb\") as f:\n",
    "             pickle.dump(myitsX,f)\n",
    "        myitsX.run()\n",
    "    except:\n",
    "        pass"
   ]
  },
  {
   "cell_type": "code",
   "execution_count": null,
   "id": "435f84c6-2bb9-4406-ab97-0b92f65f0edd",
   "metadata": {
    "tags": []
   },
   "outputs": [],
   "source": [
    "import myits\n",
    "importlib.reload(myits)\n",
    "site = 'UTHSCSA'\n",
    "datafolder = '/home/hoyinchan/blue/Data/data2021raw/'\n",
    "\n",
    "myitsX = myits.myits()\n",
    "with open(datafolder+'myits2_tmp_'+site+'.pkl', \"rb\") as f:\n",
    "    myitsX2 = pickle.load(f)\n",
    "myitsX.copy(myitsX2)"
   ]
  },
  {
   "cell_type": "code",
   "execution_count": null,
   "id": "e08482a6-bfd5-4b0b-8a9e-481abfa30c83",
   "metadata": {
    "tags": []
   },
   "outputs": [],
   "source": [
    "myitsX.run()"
   ]
  },
  {
   "cell_type": "code",
   "execution_count": null,
   "id": "db8cbb67-9e4d-4c1d-8fa5-f2c5b7a15b01",
   "metadata": {},
   "outputs": [],
   "source": []
  }
 ],
 "metadata": {
  "kernelspec": {
   "display_name": "AKI_timeseries",
   "language": "python",
   "name": "aki_timeseries"
  },
  "language_info": {
   "codemirror_mode": {
    "name": "ipython",
    "version": 3
   },
   "file_extension": ".py",
   "mimetype": "text/x-python",
   "name": "python",
   "nbconvert_exporter": "python",
   "pygments_lexer": "ipython3",
   "version": "3.11.3"
  }
 },
 "nbformat": 4,
 "nbformat_minor": 5
}
