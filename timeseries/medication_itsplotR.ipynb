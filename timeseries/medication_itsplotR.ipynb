{
 "cells": [
  {
   "cell_type": "code",
   "execution_count": null,
   "id": "846b609c-c963-4fcc-8fc4-e20dab9dddb4",
   "metadata": {
    "tags": []
   },
   "outputs": [],
   "source": [
    "library(forestploter)\n",
    "library(arrow)\n",
    "library(dplyr)\n",
    "library(stringr)\n",
    "library(ggplot2)\n",
    "library(cowplot)"
   ]
  },
  {
   "cell_type": "code",
   "execution_count": null,
   "id": "8f10383b-a7b9-4df2-8289-300a904ef0fa",
   "metadata": {
    "tags": []
   },
   "outputs": [],
   "source": [
    "df <- arrow::read_parquet('forestplot.parquet')"
   ]
  },
  {
   "cell_type": "code",
   "execution_count": null,
   "id": "d4f5aa76-3517-48b7-bea9-2b00a03baf9e",
   "metadata": {
    "tags": []
   },
   "outputs": [],
   "source": [
    "df <- df %>% select(label, group, r, ll, hl, `formatted_p-val`)"
   ]
  },
  {
   "cell_type": "code",
   "execution_count": null,
   "id": "9e833260-e6e7-40b1-9d9e-6e19e792f3b2",
   "metadata": {
    "tags": []
   },
   "outputs": [],
   "source": [
    "dd"
   ]
  },
  {
   "cell_type": "code",
   "execution_count": null,
   "id": "33f309c1-efb0-4eb3-8ed6-a74186107ec6",
   "metadata": {
    "tags": []
   },
   "outputs": [],
   "source": [
    "names(df)[names(df) == \"formatted_p-val\"] <- \"p-val\""
   ]
  },
  {
   "cell_type": "code",
   "execution_count": null,
   "id": "cd9352f2-726d-46f7-b06b-c6cf033a1121",
   "metadata": {
    "tags": []
   },
   "outputs": [],
   "source": [
    "# Create the new DataFrame\n",
    "new_df <- do.call(rbind, lapply(split(df, df$group), function(group_df) {\n",
    "  # Extract the group name\n",
    "  group_name <- unique(group_df$group)\n",
    "  \n",
    "  # Dynamically create a row with column names from df\n",
    "  group_row <- as.data.frame(\n",
    "    matrix(NA, nrow = 1, ncol = ncol(df)),  # Create a row with NA values\n",
    "    stringsAsFactors = FALSE\n",
    "  )\n",
    "  colnames(group_row) <- names(df)         # Assign column names dynamically\n",
    "  group_row$label <- group_name            # Set the label as the group name\n",
    "  group_row$group <- group_name            # Set the group as the group name\n",
    "  \n",
    "  # Arrange rows: group row, non-sCr row, then sCr row\n",
    "  non_sCr_row <- group_df[group_df$label != \"sCr\", ]\n",
    "  sCr_row <- group_df[group_df$label == \"sCr\", ]\n",
    "\n",
    "# Add spaces to the beginning of the label for non_sCr_row and sCr_row\n",
    "  non_sCr_row$label <- paste0(\"      \", non_sCr_row$label)\n",
    "  sCr_row$label <- paste0(\"      \", sCr_row$label)\n",
    "    \n",
    "  # Combine rows in the desired order\n",
    "  rbind(group_row, non_sCr_row, sCr_row)\n",
    "}))\n",
    "\n",
    "# Reset row names\n",
    "rownames(new_df) <- NULL"
   ]
  },
  {
   "cell_type": "code",
   "execution_count": null,
   "id": "280b1d04-d60f-41bb-95d4-55a90009be1b",
   "metadata": {
    "tags": []
   },
   "outputs": [],
   "source": [
    "new_df$`p-val`[is.na(new_df$`p-val`)] <- \"\"\n",
    "new_df$'                         ' <- \"\"     \n",
    "new_df$`HR (95% CI)` <- ifelse(\n",
    "  is.na(new_df$r),\n",
    "  \"\", # Use empty string if r is NA\n",
    "  sprintf(\"%.2f (%.2f–%.2f)\", round(new_df$r, 2), round(new_df$ll, 2), round(new_df$hl, 2))\n",
    ")"
   ]
  },
  {
   "cell_type": "code",
   "execution_count": null,
   "id": "284ec597-3646-4184-a357-9d86b7871010",
   "metadata": {
    "tags": []
   },
   "outputs": [],
   "source": [
    "df_arbs <- subset(\n",
    "  new_df,\n",
    "  group %in% c(\n",
    "    'Renin-inhibitors(LNa):C09XA',\n",
    "    'Vasopressin antagonists(LNa):C03XA'\n",
    "  )\n",
    ")\n",
    "\n",
    "# Subset for the remaining rows\n",
    "df_others <- subset(\n",
    "  new_df,\n",
    "  !group %in% c(\n",
    "    'Renin-inhibitors(LNa):C09XA',\n",
    "    'Vasopressin antagonists(LNa):C03XA'\n",
    "  )\n",
    ")\n",
    "\n",
    "df_arbs <- df_arbs[, !(names(df_arbs) %in% \"group\")]\n",
    "df_others <- df_others[, !(names(df_others) %in% \"group\")]"
   ]
  },
  {
   "cell_type": "code",
   "execution_count": null,
   "id": "2fef7696-a0d0-4b1f-a1c9-e80993b3d061",
   "metadata": {
    "tags": []
   },
   "outputs": [],
   "source": [
    "# Set up the forest plot\n",
    "plot <- forest(\n",
    "  data = df_arbs[,c(1, 7, 6, 5)],\n",
    "  est = df_arbs$r,\n",
    "  lower = df_arbs$ll,\n",
    "  upper = df_arbs$hl,\n",
    "  ci_column = 3, # Use the third column for CIs\n",
    "  ci_label = \"CI (95%)\",\n",
    "  study_label = \"label\",\n",
    "  x_label = \"Effect Size\",\n",
    "  show_ci = TRUE,\n",
    "  width = c(0.4, 0.2)    \n",
    ")\n",
    "# Print the plot\n",
    "print(plot)\n",
    "#plot<-plot + theme(plot.margin=unit(c(0,0,0,0),\"mm\"))\n",
    "ggsave(file=\"intercept_forest2.svg\", plot=plot, width = 7.5, height = 2, units = \"in\")"
   ]
  },
  {
   "cell_type": "code",
   "execution_count": null,
   "id": "79e40460-38f2-4bc8-a33f-878e2e630e0e",
   "metadata": {
    "tags": []
   },
   "outputs": [],
   "source": [
    "# Set up the forest plot\n",
    "plot <- forest(\n",
    "  data = df_others[,c(1, 7, 6, 5)],\n",
    "  est = df_others$r,\n",
    "  lower = df_others$ll,\n",
    "  upper = df_others$hl,\n",
    "  ci_column = 3, # Use the third column for CIs\n",
    "  ci_label = \"CI (95%)\",\n",
    "  study_label = \"label\",\n",
    "  x_label = \"Effect Size\",\n",
    "  show_ci = TRUE,\n",
    "  width = c(0.4, 0.2)    \n",
    ")\n",
    "# Print the plot\n",
    "print(plot)\n",
    "ggsave(file=\"intercept_forest1.svg\", plot=plot, width = 8.5, height = 6, units = \"in\")"
   ]
  },
  {
   "cell_type": "code",
   "execution_count": null,
   "id": "05119b9e-a15f-4047-9f75-bf85b75b6258",
   "metadata": {
    "tags": []
   },
   "outputs": [],
   "source": []
  },
  {
   "cell_type": "code",
   "execution_count": null,
   "id": "aa50153c-9c77-4148-a79b-3f99b8967dca",
   "metadata": {},
   "outputs": [],
   "source": []
  }
 ],
 "metadata": {
  "kernelspec": {
   "display_name": "AKI_CDM_R",
   "language": "R",
   "name": "ir"
  },
  "language_info": {
   "codemirror_mode": "r",
   "file_extension": ".r",
   "mimetype": "text/x-r-source",
   "name": "R",
   "pygments_lexer": "r",
   "version": "4.1.3"
  }
 },
 "nbformat": 4,
 "nbformat_minor": 5
}
