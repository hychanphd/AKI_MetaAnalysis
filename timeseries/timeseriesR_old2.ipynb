{
 "cells": [
  {
   "cell_type": "code",
   "execution_count": null,
   "id": "122298f2-fe40-4f60-8edd-ed8fc027e035",
   "metadata": {
    "tags": []
   },
   "outputs": [],
   "source": [
    "Packages <- c(\"arrow\", \"pco\")\n",
    "invisible(lapply(Packages, library, character.only = TRUE))"
   ]
  },
  {
   "cell_type": "code",
   "execution_count": null,
   "id": "39d453ed-9a54-4066-b50d-f8aa549bfffd",
   "metadata": {
    "tags": []
   },
   "outputs": [],
   "source": [
    "datafolder <- '/home/hoyinchan/blue/Data/data2021raw/'\n",
    "site <- 'UTHSCSA'"
   ]
  },
  {
   "cell_type": "code",
   "execution_count": null,
   "id": "5dc7dbcc-4526-47e9-a3da-e7c4883376ef",
   "metadata": {
    "tags": []
   },
   "outputs": [],
   "source": [
    "loincs_cofounder_potassium <- c('2157-6', #creatine kinase\n",
    "                              '1920-8', #AST      \n",
    "                              '2532-0', #LDH\n",
    "                              '4542-7', #Haptoglobin \n",
    "                              '3084-1') #uric acid\n",
    "loincs_potassium <- c('2823-3', '2160-0')"
   ]
  },
  {
   "cell_type": "code",
   "execution_count": null,
   "id": "1eaa77e5-9a57-485d-b396-478391555d55",
   "metadata": {
    "tags": []
   },
   "outputs": [],
   "source": [
    "tesfun <- function(loinc1,loinc2){\n",
    "    path1 = paste0(datafolder,site,'outputlab',loinc1,loinc2,'.parquet')\n",
    "    path2 = paste0(datafolder,site,'outputlab',loinc2,loinc1,'.parquet')\n",
    "\n",
    "    outputlab21 <- arrow::read_parquet(path1)\n",
    "    outputlab22 <- arrow::read_parquet(path2)\n",
    "\n",
    "    x<-pedroni99(outputlab22, outputlab21)\n",
    "    print(c(loinc1,loinc2))\n",
    "    print(x$STATISTIC)\n",
    "}"
   ]
  },
  {
   "cell_type": "code",
   "execution_count": null,
   "id": "5b53a921-9dbb-4014-afc0-cd736c40966d",
   "metadata": {
    "tags": []
   },
   "outputs": [],
   "source": [
    "for (loinc1 in loincs_cofounder_potassium){\n",
    "    for (loinc2 in loincs_potassium){\n",
    "        try({\n",
    "            tesfun(loinc1,loinc2)\n",
    "          }, silent = TRUE)\n",
    "    }\n",
    "}"
   ]
  },
  {
   "cell_type": "code",
   "execution_count": null,
   "id": "a7227930-15eb-456a-9c70-4322d0fcdfe9",
   "metadata": {
    "tags": []
   },
   "outputs": [],
   "source": [
    "pt(q=-8.7, df=1, lower.tail=TRUE)"
   ]
  },
  {
   "cell_type": "code",
   "execution_count": null,
   "id": "7deda808-4421-49a7-90dc-a55accfdc46b",
   "metadata": {},
   "outputs": [],
   "source": []
  }
 ],
 "metadata": {
  "kernelspec": {
   "display_name": "AKI_CDM_R",
   "language": "R",
   "name": "ir"
  },
  "language_info": {
   "codemirror_mode": "r",
   "file_extension": ".r",
   "mimetype": "text/x-r-source",
   "name": "R",
   "pygments_lexer": "r",
   "version": "4.1.3"
  }
 },
 "nbformat": 4,
 "nbformat_minor": 5
}
