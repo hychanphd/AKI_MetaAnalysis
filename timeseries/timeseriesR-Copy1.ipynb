{
 "cells": [
  {
   "cell_type": "code",
   "execution_count": null,
   "id": "122298f2-fe40-4f60-8edd-ed8fc027e035",
   "metadata": {
    "jupyter": {
     "outputs_hidden": true
    },
    "tags": []
   },
   "outputs": [],
   "source": [
    "Packages <- c(\"plm\", \"arrow\", \"panelvar\", \"dplyr\")\n",
    "invisible(lapply(Packages, library, character.only = TRUE))"
   ]
  },
  {
   "cell_type": "code",
   "execution_count": null,
   "id": "23ffe615-6941-4a7f-b3b2-1f9109a61bb5",
   "metadata": {
    "tags": []
   },
   "outputs": [],
   "source": [
    "loincs_cofounder_potassium <- c('2157-6', #creatine kinase\n",
    "                              '1920-8', #AST      \n",
    "                              '2532-0', #LDH\n",
    "                              '4542-7', #Haptoglobin \n",
    "                              '3084-1') #uric acid\n",
    "bp_cofounder_potassium <- c('DIASTOLIC','SYSTOLIC')\n",
    "loincs_potassium = c('2823-3', '2160-0')"
   ]
  },
  {
   "cell_type": "code",
   "execution_count": null,
   "id": "61243798-81f5-42d6-a24c-41be6dce63c2",
   "metadata": {
    "tags": []
   },
   "outputs": [],
   "source": [
    "loinc1 <- '1920-8'\n",
    "loinc2 <- '2160-0'\n",
    "datafolder <- '/home/hoyinchan/blue/Data/data2021raw/'"
   ]
  },
  {
   "cell_type": "code",
   "execution_count": null,
   "id": "20c94868-e22e-4961-8221-70896fc15239",
   "metadata": {
    "tags": []
   },
   "outputs": [],
   "source": [
    "outputlab3 <- list()\n",
    "#for (loinc1 in loincs_cofounder_potassium){\n",
    "#for (loinc1 in bp_cofounder_potassium){\n",
    "for (loinc1 in c(loincs_cofounder_potassium, bp_cofounder_potassium)){\n",
    "    for (loinc2 in loincs_potassium){\n",
    "        key <- paste0(loinc1,loinc2)\n",
    "        path1 <- paste0(datafolder,'outputlab',loinc1,loinc2,'.parquet')\n",
    "        outputlab3[[key]] <- arrow::read_parquet(path1)\n",
    "    }\n",
    "}"
   ]
  },
  {
   "cell_type": "code",
   "execution_count": null,
   "id": "26225c30-d4d2-4065-86d9-5459202a8a22",
   "metadata": {
    "tags": []
   },
   "outputs": [],
   "source": [
    "#for (loinc1 in loincs_cofounder_potassium){\n",
    "#for (loinc1 in bp_cofounder_potassium){    \n",
    "for (loinc1 in c(loincs_cofounder_potassium, bp_cofounder_potassium)){\n",
    "    for (loinc2 in loincs_potassium){\n",
    "        key <- paste0(loinc1,loinc2)\n",
    "        print(paste(loinc1, loinc2))        \n",
    "        pGrunfeld_unbal <- pdata.frame(outputlab3[[key]], index = c(\"ID\", \"DAYS_SINCE_ADMIT\"))        \n",
    "        tryCatch({\n",
    "            print(purtest(pGrunfeld_unbal$res, pmax=1, test =\"madwu\"))\n",
    "        }, error=function(e){})\n",
    "        tryCatch({\n",
    "            print(cipstest(pGrunfeld_unbal$res, pmax=1))\n",
    "        }, error=function(e){})\n",
    "        \n",
    "    }\n",
    "}"
   ]
  },
  {
   "cell_type": "code",
   "execution_count": null,
   "id": "50a7420d-57cd-4fa5-a3bf-fabf34d584de",
   "metadata": {
    "tags": []
   },
   "outputs": [],
   "source": [
    "# pGrunfeld_unbal <- pdata.frame(outputlab3, index = c(\"ID\", \"DAYS_SINCE_ADMIT\"))\n",
    "# print(purtest(pGrunfeld_unbal$res, pmax=3, test =\"madwu\"))"
   ]
  },
  {
   "cell_type": "code",
   "execution_count": null,
   "id": "f1f4379f-865c-4661-a8f9-3bb6bc5b3ff7",
   "metadata": {
    "tags": []
   },
   "outputs": [],
   "source": [
    "loinc1 <- 'SYSTOLIC'\n",
    "loinc2 <- '2160-0'"
   ]
  },
  {
   "cell_type": "code",
   "execution_count": null,
   "id": "38c3f1c9-d7cc-4ab7-b744-21d28255d3b0",
   "metadata": {
    "tags": []
   },
   "outputs": [],
   "source": [
    "key <- paste0(loinc1,loinc2)\n",
    "testdf <- outputlab3[[key]]\n",
    "names(testdf)[names(testdf) == 'ID'] <- 'id'\n",
    "names(testdf)[names(testdf) == 'DAYS_SINCE_ADMIT'] <- 'year'\n",
    "names(testdf)[names(testdf) == loinc1] <- 'expenditures'\n",
    "names(testdf)[names(testdf) == loinc2] <- 'revenues'\n",
    "\n",
    "#testdf$id <- testdf$id+1\n",
    "#testdf$year <- testdf$year+1980\n",
    "testdf$id <- as.factor(testdf$id)\n",
    "testdf$year <- as.factor(testdf$year)\n",
    "testdf <- testdf %>% select(c('id', 'year', 'expenditures', 'revenues'))\n",
    "\n",
    "#testdf <- testdf %>% filter(id %in% c(1,2,3,4))"
   ]
  },
  {
   "cell_type": "code",
   "execution_count": null,
   "id": "cceaad03-301c-4793-9428-5d12d1275c6b",
   "metadata": {
    "tags": []
   },
   "outputs": [],
   "source": [
    "# Sample 10 unique IDs\n",
    "sampled_ids <- sample(unique(testdf$id), 20)\n",
    "# Get all rows that match these IDs\n",
    "testdf <- subset(testdf, id %in% sampled_ids)"
   ]
  },
  {
   "cell_type": "code",
   "execution_count": null,
   "id": "223d8b92-e243-42d1-863d-dc0793037f2b",
   "metadata": {
    "tags": []
   },
   "outputs": [],
   "source": [
    "# data(\"Dahlberg\")\n",
    "# Dahlberg2 <- Dahlberg %>% filter(id %in% c(114,115,123))\n",
    "# Dahlberg3 <- Dahlberg2[1:23,]\n",
    "# result <- pvargmm(dependent = c(\"expenditures\", \"revenues\"), data = Dahlberg3, lag=1, steps=c(\"twostep\"))\n",
    "# Andrews_Lu_MMSC(result)\n",
    "# stabr <-stability(result)\n",
    "# print(stabr)"
   ]
  },
  {
   "cell_type": "code",
   "execution_count": null,
   "id": "36648a43-9b38-4b89-89e4-eedb7b5a80ff",
   "metadata": {
    "tags": []
   },
   "outputs": [],
   "source": [
    "data(\"Dahlberg\")"
   ]
  },
  {
   "cell_type": "code",
   "execution_count": null,
   "id": "95422917-f37f-43e7-bbe6-0410a5282296",
   "metadata": {
    "tags": []
   },
   "outputs": [],
   "source": [
    "Dahlberg3 <- Dahlberg[1:1,]\n",
    "Dahlberg3 <- Dahlberg3 %>% select(-grants)"
   ]
  },
  {
   "cell_type": "code",
   "execution_count": null,
   "id": "a897fbb6-3faf-4a10-9da1-eca8772ffb9a",
   "metadata": {
    "tags": []
   },
   "outputs": [],
   "source": [
    "Dahlberg3[dim(testdf)[1],]<-NA"
   ]
  },
  {
   "cell_type": "code",
   "execution_count": null,
   "id": "e33763b6-8513-414d-9240-b73397e5ba3d",
   "metadata": {
    "tags": []
   },
   "outputs": [],
   "source": [
    "Dahlberg3$id <- testdf$id\n",
    "Dahlberg3$year <- testdf$year\n",
    "Dahlberg3$expenditures <- testdf$expenditures\n",
    "Dahlberg3$revenues <- testdf$revenues"
   ]
  },
  {
   "cell_type": "code",
   "execution_count": null,
   "id": "45a6812a-6423-4960-8a81-fba7c4663b99",
   "metadata": {
    "tags": []
   },
   "outputs": [],
   "source": [
    "resulttime <- system.time({\n",
    "    result <- pvargmm(dependent = c(\"expenditures\", \"revenues\"), data = Dahlberg3, lag=3, steps=c(\"twostep\"), panel_identifier = c(\"id\",\"year\"), collapse=TRUE, max_instr_dependent_vars=10)\n",
    "})\n",
    "print(resulttime)"
   ]
  },
  {
   "cell_type": "code",
   "execution_count": null,
   "id": "7747f25d-9504-4efb-a97d-b7f2a0c5973e",
   "metadata": {},
   "outputs": [],
   "source": [
    "result"
   ]
  },
  {
   "cell_type": "code",
   "execution_count": null,
   "id": "cd5f7a32-0d12-4773-a628-7fb3b2c1ddfc",
   "metadata": {},
   "outputs": [],
   "source": []
  }
 ],
 "metadata": {
  "kernelspec": {
   "display_name": "AKI_CDM_R",
   "language": "R",
   "name": "ir"
  },
  "language_info": {
   "codemirror_mode": "r",
   "file_extension": ".r",
   "mimetype": "text/x-r-source",
   "name": "R",
   "pygments_lexer": "r",
   "version": "4.1.3"
  }
 },
 "nbformat": 4,
 "nbformat_minor": 5
}
