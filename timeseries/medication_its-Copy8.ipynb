{
 "cells": [
  {
   "cell_type": "code",
   "execution_count": null,
   "id": "14dee485-3c3a-459a-9859-229d7d94438a",
   "metadata": {
    "tags": []
   },
   "outputs": [],
   "source": [
    "import pandas as pd\n",
    "import numpy as np\n",
    "import itertools\n",
    "from scipy.stats import fisher_exact\n",
    "import shelve\n",
    "import pickle\n",
    "import pandas as pd\n",
    "import numpy as np\n",
    "import sklearn\n",
    "from sklearn.preprocessing import OneHotEncoder\n",
    "from sklearn.impute import SimpleImputer\n",
    "import matplotlib.pyplot as plt\n",
    "from PIL import Image\n",
    "from scipy.interpolate import BSpline, make_interp_spline, interp1d\n",
    "import csv\n",
    "from dfply import *\n",
    "import itertools\n",
    "import os\n",
    "import logging\n",
    "from sys import getsizeof\n",
    "import sklearn\n",
    "import time\n",
    "from sklearn.metrics import roc_auc_score\n",
    "from catboost import Pool, cv\n",
    "import xgboost\n",
    "import catboost\n",
    "import scipy.stats as st\n",
    "\n",
    "import importlib\n",
    "from joblib import Parallel, delayed\n",
    "from joblib import parallel_backend\n",
    "\n",
    "import pandas as pd\n",
    "import numpy as np\n",
    "import matplotlib.pyplot as plt\n",
    "from pandas.plotting import lag_plot\n",
    "#from statsmodels.tsa.vector_ar.var_model import VARY\n",
    "from statsmodels.tsa.stattools import adfuller, kpss, grangercausalitytests, pacf\n",
    "from statsmodels.graphics.tsaplots import plot_pacf\n",
    "import warnings\n",
    "warnings.filterwarnings(\"ignore\")\n",
    "import scipy\n",
    "import datetime\n",
    "\n",
    "from joblib import Parallel, delayed\n",
    "\n",
    "import scipy\n",
    "import importlib\n",
    "from itertools import combinations\n",
    "import forestplot as fp\n",
    "import statsmodels.api as sm"
   ]
  },
  {
   "cell_type": "code",
   "execution_count": null,
   "id": "3415885e-da2e-4d19-abe8-eb3aa9a6423b",
   "metadata": {
    "tags": []
   },
   "outputs": [],
   "source": [
    "site='UIOWA'\n",
    "print(site)\n",
    "import myits\n",
    "importlib.reload(myits)\n",
    "datafolder = '/home/hoyinchan/blue/Data/data2021raw/'\n",
    "myitsX = myits.myits()\n",
    "myitsX.get_onsetdata(site=site)                \n",
    "myitsX.get_data(site=site)\n",
    "myitsX.get_meddata(site=site)\n",
    "myitsX.set_loincs_pair()\n",
    "myitsX.med_code_transform()\n",
    "myitsX.extract_med_data()\n",
    "myitsX.lab = None\n",
    "with open(datafolder+'myits2_tmp_'+site+'.pkl', \"wb\") as f:\n",
    "     pickle.dump(myitsX,f)\n",
    "myitsX.run()"
   ]
  },
  {
   "cell_type": "code",
   "execution_count": null,
   "id": "4e4fb156-e2dc-4506-bfbc-a9c371c3e783",
   "metadata": {
    "tags": []
   },
   "outputs": [],
   "source": [
    "sites = ['UTHSCSA', 'KUMC', 'MCW', 'UMHC', 'UNMC', 'UTSW', 'UofU', 'UPITT', 'IUR', 'UIOWA']\n",
    "\n",
    "for site in sites:\n",
    "    try:\n",
    "        print(site)\n",
    "        import myits\n",
    "        importlib.reload(myits)\n",
    "        datafolder = '/home/hoyinchan/blue/Data/data2021raw/'\n",
    "        myitsX = myits.myits()\n",
    "        myitsX.get_onsetdata(site=site)                \n",
    "        myitsX.get_data(site=site)\n",
    "        myitsX.get_meddata(site=site)\n",
    "        myitsX.set_loincs_pair()\n",
    "        myitsX.med_code_transform()\n",
    "        myitsX.extract_med_data()\n",
    "        myitsX.lab = None\n",
    "        with open(datafolder+'myits2_tmp_'+site+'.pkl', \"wb\") as f:\n",
    "             pickle.dump(myitsX,f)\n",
    "        myitsX.run()\n",
    "    except:\n",
    "        pass"
   ]
  },
  {
   "cell_type": "code",
   "execution_count": null,
   "id": "435f84c6-2bb9-4406-ab97-0b92f65f0edd",
   "metadata": {
    "tags": []
   },
   "outputs": [],
   "source": [
    "import myits\n",
    "importlib.reload(myits)\n",
    "site = 'UTHSCSA'\n",
    "datafolder = '/home/hoyinchan/blue/Data/data2021raw/'\n",
    "\n",
    "myitsX = myits.myits()\n",
    "with open(datafolder+'myits2_tmp_'+site+'.pkl', \"rb\") as f:\n",
    "    myitsX2 = pickle.load(f)\n",
    "myitsX.copy(myitsX2)"
   ]
  },
  {
   "cell_type": "code",
   "execution_count": null,
   "id": "e08482a6-bfd5-4b0b-8a9e-481abfa30c83",
   "metadata": {
    "tags": []
   },
   "outputs": [],
   "source": [
    "myitsX.run()"
   ]
  },
  {
   "cell_type": "code",
   "execution_count": null,
   "id": "9fe12d7a-4b0f-41ed-8410-4a125e6af917",
   "metadata": {
    "tags": []
   },
   "outputs": [],
   "source": [
    "myitsX.get_meddata(site=site)\n",
    "myitsX.set_loincs_pair()\n",
    "myitsX.med_code_transform()\n",
    "myitsX.extract_med_data()"
   ]
  },
  {
   "cell_type": "code",
   "execution_count": null,
   "id": "60ab426c-549f-4eae-b9ce-67e6e4220a34",
   "metadata": {
    "tags": []
   },
   "outputs": [],
   "source": [
    "myitsX.testitsstat"
   ]
  },
  {
   "cell_type": "code",
   "execution_count": null,
   "id": "eebb34df-1408-4265-b3b6-66788e7223f3",
   "metadata": {
    "tags": []
   },
   "outputs": [],
   "source": [
    "myitsX.labxx['MEDADMIN_START_DATE_TIME']"
   ]
  },
  {
   "cell_type": "code",
   "execution_count": null,
   "id": "44fa4e0c-0d0e-4b06-aa3b-9383f31df932",
   "metadata": {
    "tags": []
   },
   "outputs": [],
   "source": [
    "myitsX.labxx.groupby(['PATID','ENCOUNTERID','MEDADMIN_CODE_NEW','LAB_LOINC'])"
   ]
  },
  {
   "cell_type": "code",
   "execution_count": null,
   "id": "c244655d-7032-4752-92c9-86834c117a58",
   "metadata": {
    "tags": []
   },
   "outputs": [],
   "source": [
    "myitsX"
   ]
  },
  {
   "cell_type": "code",
   "execution_count": null,
   "id": "a6765e89-26ef-4e64-a901-c22310ec6e57",
   "metadata": {
    "tags": []
   },
   "outputs": [],
   "source": [
    "myitsX.labxx.groupby(['PATID','ENCOUNTERID','MEDADMIN_CODE_NEW','LAB_LOINC']).apply(myitsX.its)"
   ]
  },
  {
   "cell_type": "code",
   "execution_count": null,
   "id": "3a3bc238-c324-410a-95a2-e5a7dffeb14e",
   "metadata": {
    "tags": []
   },
   "outputs": [],
   "source": [
    "myitsX.amed['MEDADMIN_CODE_NEW'].unique()"
   ]
  },
  {
   "cell_type": "code",
   "execution_count": null,
   "id": "d7b55572-0e9d-48b9-8477-78a3c0ce5224",
   "metadata": {
    "tags": []
   },
   "outputs": [],
   "source": [
    "myitsX.amed[['PATID', 'ENCOUNTERID']].drop_duplicates()"
   ]
  },
  {
   "cell_type": "code",
   "execution_count": null,
   "id": "5ec3feb9-641e-48e3-a0d7-bbc93365fde7",
   "metadata": {
    "tags": []
   },
   "outputs": [],
   "source": [
    "myitsX.labX[['PATID', 'ENCOUNTERID']].drop_duplicates()"
   ]
  },
  {
   "cell_type": "code",
   "execution_count": null,
   "id": "9a4f54d2-bb9f-4c32-9d82-5845d5d362e3",
   "metadata": {
    "tags": []
   },
   "outputs": [],
   "source": [
    "myitsX.labxx[['PATID', 'ENCOUNTERID']].drop_duplicates()"
   ]
  },
  {
   "cell_type": "code",
   "execution_count": null,
   "id": "9076e9bc-60e3-4800-bf24-911a3843d092",
   "metadata": {
    "tags": []
   },
   "outputs": [],
   "source": [
    "myitsX.labX[myitsX.labX['ENCOUNTERID'].astype(int)==112192828]"
   ]
  },
  {
   "cell_type": "code",
   "execution_count": null,
   "id": "c3bf0b9c-4330-4444-841a-96381d9d9ad7",
   "metadata": {
    "tags": []
   },
   "outputs": [],
   "source": [
    "myitsX.labX[['ENCOUNTERID']].astype(int).drop_duplicates().merge(myitsX.amed[['ENCOUNTERID']].astype(int).drop_duplicates(), how='inner')"
   ]
  },
  {
   "cell_type": "code",
   "execution_count": null,
   "id": "a7a44264-8e47-4315-805a-7bf9aeb10d8f",
   "metadata": {
    "tags": []
   },
   "outputs": [],
   "source": []
  },
  {
   "cell_type": "code",
   "execution_count": null,
   "id": "de36f755-574a-4825-87f3-dcbb89f925f7",
   "metadata": {
    "tags": []
   },
   "outputs": [],
   "source": []
  },
  {
   "cell_type": "code",
   "execution_count": null,
   "id": "6e096cc0-feaa-4a77-b670-7e5007bbece0",
   "metadata": {
    "tags": []
   },
   "outputs": [],
   "source": [
    "xcc = myitsX.labxx[['PATID', 'ENCOUNTERID', 'LAB_LOINC', 'MEDADMIN_CODE_NEW', 'SPECIMEN_DATE_TIME', 'pretreatment']].groupby(['PATID', 'ENCOUNTERID', 'MEDADMIN_CODE_NEW', 'LAB_LOINC', 'pretreatment']).count().reset_index()"
   ]
  },
  {
   "cell_type": "code",
   "execution_count": null,
   "id": "6c5f7d8d-cf0f-43f0-a1c5-7107eeb20306",
   "metadata": {
    "tags": []
   },
   "outputs": [],
   "source": [
    "xcc"
   ]
  },
  {
   "cell_type": "code",
   "execution_count": null,
   "id": "89b3998d-21ce-4162-a4f1-76826540568f",
   "metadata": {},
   "outputs": [],
   "source": []
  }
 ],
 "metadata": {
  "kernelspec": {
   "display_name": "AKI_timeseries",
   "language": "python",
   "name": "aki_timeseries"
  },
  "language_info": {
   "codemirror_mode": {
    "name": "ipython",
    "version": 3
   },
   "file_extension": ".py",
   "mimetype": "text/x-python",
   "name": "python",
   "nbconvert_exporter": "python",
   "pygments_lexer": "ipython3",
   "version": "3.11.3"
  }
 },
 "nbformat": 4,
 "nbformat_minor": 5
}
