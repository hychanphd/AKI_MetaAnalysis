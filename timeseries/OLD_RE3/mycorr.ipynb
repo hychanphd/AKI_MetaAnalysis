{
 "cells": [
  {
   "cell_type": "code",
   "execution_count": null,
   "id": "e670eb88-9f72-41c2-b5ec-dc22bb5759fe",
   "metadata": {},
   "outputs": [],
   "source": [
    "import pandas as pd\n",
    "import numpy as np\n",
    "import itertools\n",
    "from scipy.stats import fisher_exact\n",
    "import shelve\n",
    "import pickle\n",
    "import pandas as pd\n",
    "import numpy as np\n",
    "import sklearn\n",
    "from sklearn.preprocessing import OneHotEncoder\n",
    "from sklearn.impute import SimpleImputer\n",
    "import matplotlib.pyplot as plt\n",
    "from PIL import Image\n",
    "from scipy.interpolate import BSpline, make_interp_spline, interp1d\n",
    "import csv\n",
    "from dfply import *\n",
    "import itertools\n",
    "import os\n",
    "import logging\n",
    "from sys import getsizeof\n",
    "import sklearn\n",
    "import time\n",
    "from sklearn.metrics import roc_auc_score\n",
    "from catboost import Pool, cv\n",
    "import xgboost\n",
    "import catboost\n",
    "import scipy.stats as st\n",
    "\n",
    "import importlib\n",
    "from joblib import Parallel, delayed\n",
    "from joblib import parallel_backend\n",
    "\n",
    "import pandas as pd\n",
    "import numpy as np\n",
    "import matplotlib.pyplot as plt\n",
    "from pandas.plotting import lag_plot\n",
    "#from statsmodels.tsa.vector_ar.var_model import VARY\n",
    "from statsmodels.tsa.stattools import adfuller, kpss, grangercausalitytests, pacf\n",
    "from statsmodels.graphics.tsaplots import plot_pacf\n",
    "import warnings\n",
    "warnings.filterwarnings(\"ignore\")\n",
    "import scipy\n",
    "import datetime\n",
    "\n",
    "from joblib import Parallel, delayed\n",
    "\n",
    "import scipy\n",
    "import importlib\n",
    "from itertools import combinations\n",
    "import forestplot as fp\n",
    "import statsmodels.api as sm"
   ]
  },
  {
   "cell_type": "code",
   "execution_count": null,
   "id": "bdc39f95-a728-477b-a8b5-ca79e251f1a9",
   "metadata": {},
   "outputs": [],
   "source": [
    "# sites = ['MCRI', 'MCW', 'UMHC', 'UNMC', 'UofU', 'UTHSCSA', 'KUMC', 'UTSW', 'UIOWA', 'UPITT', 'IUR']\n",
    "# for site in sites:\n",
    "#     try:\n",
    "#         myco.get_onsetdata(site=site)\n",
    "#         myco.get_vitaldata(site=site)\n",
    "#         myco.get_labdata(site=site)\n",
    "#         myco.get_meddata(site=site)\n",
    "#         myco.lab = None\n",
    "#         myco.med = None\n",
    "#         myco.vital = None\n",
    "#         datafolder = '/home/hoyinchan/blue/Data/data2021raw/'\n",
    "#         with open(datafolder+'myco_tmp_'+site+'.pkl', \"wb\") as f:\n",
    "#              pickle.dump(myco, f)\n",
    "#     except:\n",
    "#         pass"
   ]
  },
  {
   "cell_type": "code",
   "execution_count": null,
   "id": "8daf3d7b-ca72-4a25-8c8b-580fc2956bb9",
   "metadata": {
    "tags": []
   },
   "outputs": [],
   "source": [
    "# sites = ['MCRI', 'MCW', 'UMHC', 'UNMC', 'UofU', 'UTHSCSA', 'KUMC', 'UTSW', 'UIOWA', 'UPITT', 'IUR']\n",
    "# for site in sites:\n",
    "#     try:\n",
    "#         datafolder = '/home/hoyinchan/blue/Data/data2021raw/'\n",
    "#         import mycorr\n",
    "#         importlib.reload(mycorr)\n",
    "#         myco = mycorr.mycorr()\n",
    "#         with open(datafolder+'myco_tmp_'+site+'.pkl', \"rb\") as f:\n",
    "#             myco2 = pickle.load(f)\n",
    "#         myco.copy(myco2)\n",
    "# #        myco.get_onsetdata(site=site)\n",
    "# #        myco.get_vitaldata(site=site)\n",
    "# #        myco.get_labdata(site=site)\n",
    "#         myco.get_meddata(site=site)\n",
    "#         myco.lab = None\n",
    "#         myco.med = None\n",
    "#         myco.vital = None\n",
    "#         datafolder = '/home/hoyinchan/blue/Data/data2021raw/'\n",
    "#         with open(datafolder+'myco_tmp_'+site+'.pkl', \"wb\") as f:\n",
    "#              pickle.dump(myco, f)\n",
    "#     except:\n",
    "#         pass"
   ]
  },
  {
   "cell_type": "code",
   "execution_count": null,
   "id": "cb41e8d6-8462-4b3e-a202-f1aa591925cf",
   "metadata": {
    "tags": []
   },
   "outputs": [],
   "source": [
    "# site = 'UMHC'\n",
    "# datafolder = '/home/hoyinchan/blue/Data/data2021raw/'\n",
    "# import mycorr\n",
    "# importlib.reload(mycorr)\n",
    "# myco = mycorr.mycorr()\n",
    "# with open(datafolder+'myco2_tmp_'+site+'.pkl', \"rb\") as f:\n",
    "#     myco2 = pickle.load(f)\n",
    "# myco.copy(myco2)"
   ]
  },
  {
   "cell_type": "code",
   "execution_count": null,
   "id": "350477e1-74bb-45e3-a398-3652072ff346",
   "metadata": {
    "tags": []
   },
   "outputs": [],
   "source": [
    "#mycoX = myco.calculate_site(site = 'KUMC')"
   ]
  },
  {
   "cell_type": "code",
   "execution_count": null,
   "id": "d8f32df1-98e9-498c-8d2d-993db3cb6d04",
   "metadata": {
    "tags": []
   },
   "outputs": [],
   "source": [
    "#mycoX.calculate_corr2()"
   ]
  },
  {
   "cell_type": "code",
   "execution_count": null,
   "id": "e060ca30-79ee-4c35-8874-709646e81ed8",
   "metadata": {
    "tags": []
   },
   "outputs": [],
   "source": [
    "site = 'UMHC'\n",
    "datafolder = '/home/hoyinchan/blue/Data/data2021raw/'\n",
    "import mycorr2\n",
    "importlib.reload(mycorr2)\n",
    "myco = mycorr2.mycorr2()\n",
    "with open(datafolder+'myco2_tmp_'+site+'.pkl', \"rb\") as f:\n",
    "    myco2 = pickle.load(f)\n",
    "myco.copy(myco2)"
   ]
  },
  {
   "cell_type": "code",
   "execution_count": null,
   "id": "8e547984-7873-451c-b5f9-d02d82403895",
   "metadata": {
    "tags": []
   },
   "outputs": [],
   "source": [
    "myco.set_loincs_pair()\n",
    "drugs = pd.read_csv('atclist.txt')\n",
    "drugs = drugs[drugs['target'] == myco.loinc2[0]]\n",
    "rxdrugs = drugs[drugs['type']=='rx'][['code', 'name']]\n",
    "medcode_rx = rxdrugs.set_index('code')['name'].to_dict()\n",
    "ndcdrugs = drugs[drugs['type']=='ndc'][['code', 'name']]\n",
    "medcode_nd = ndcdrugs.set_index('code')['name'].to_dict()        \n",
    "myco.set_loincs_pair(loinc1=myco.loinc1, loinc2=myco.loinc2, loinc3=myco.loinc3, medcode_rx=medcode_rx, medcode_nd=medcode_nd)\n",
    "\n",
    "myco.getdata(site=site)\n",
    "myco.set_range()\n",
    "datarange = 'full'\n",
    "myco.set_datarangemode(datarange=datarange)"
   ]
  },
  {
   "cell_type": "code",
   "execution_count": null,
   "id": "c568ec56-5a31-4627-bc73-d6d9c4eb7e49",
   "metadata": {
    "tags": []
   },
   "outputs": [],
   "source": [
    "myco.calculate_all()"
   ]
  },
  {
   "cell_type": "code",
   "execution_count": null,
   "id": "f754068c-b09b-4ea0-bb18-bb3c2329d18b",
   "metadata": {
    "tags": []
   },
   "outputs": [],
   "source": [
    "myco.set_loincs_pair()"
   ]
  },
  {
   "cell_type": "code",
   "execution_count": null,
   "id": "3d887d5b-d9f4-4885-81b5-0c6bd701a6e8",
   "metadata": {
    "tags": []
   },
   "outputs": [],
   "source": [
    "myco.one_table_original"
   ]
  },
  {
   "cell_type": "code",
   "execution_count": null,
   "id": "1e65c232-cb9d-42d6-bab2-45e72ed85707",
   "metadata": {},
   "outputs": [],
   "source": []
  }
 ],
 "metadata": {
  "kernelspec": {
   "display_name": "AKI_timeseries",
   "language": "python",
   "name": "aki_timeseries"
  },
  "language_info": {
   "codemirror_mode": {
    "name": "ipython",
    "version": 3
   },
   "file_extension": ".py",
   "mimetype": "text/x-python",
   "name": "python",
   "nbconvert_exporter": "python",
   "pygments_lexer": "ipython3",
   "version": "3.11.3"
  }
 },
 "nbformat": 4,
 "nbformat_minor": 5
}
