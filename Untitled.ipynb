{
 "cells": [
  {
   "cell_type": "code",
   "execution_count": null,
   "id": "09f4cfce-cea5-47e2-8b7b-00fd57a48da1",
   "metadata": {
    "tags": []
   },
   "outputs": [],
   "source": [
    "import importlib\n",
    "\n",
    "import ipynb.fs.full.preprocessing0\n",
    "import ipynb.fs.full.preprocessing05\n",
    "#import ipynb.fs.full.prepossessing075_akistage\n",
    "import preprocessing1\n",
    "#import ipynb.fs.full.preprocessing2_BT\n",
    "import preprocessing2_BT\n",
    "\n",
    "import ipynb.fs.full.preprocessing25_BTcorr\n",
    "import ipynb.fs.full.preprocessing3_smote\n",
    "#import ipynb.fs.full.preprocessing4\n",
    "import preprocessing4\n",
    "\n",
    "#import ipynb.fs.full.runxgboost\n",
    "import runxgboost\n",
    "\n",
    "#import ipynb.fs.full.postprocessing1_SHAP\n",
    "\n",
    "import postprocessing1_SHAP\n",
    "\n",
    "import ipynb.fs.full.postprocessing3_collect\n",
    "\n",
    "from ipynb.fs.full.slackbot import ping_slack\n",
    "import pandas as pd\n",
    "import xgboost as xgb\n",
    "import numpy as np\n",
    "import sklearn\n",
    "from sklearn.preprocessing import OneHotEncoder\n",
    "from sklearn.impute import SimpleImputer\n",
    "from imblearn.over_sampling import SMOTE\n",
    "from imblearn.pipeline import make_pipeline\n",
    "from imblearn.combine import SMOTEENN\n",
    "from imblearn.over_sampling import SMOTENC\n",
    "import matplotlib.pyplot as plt\n",
    "from PIL import Image\n",
    "from scipy.interpolate import BSpline, make_interp_spline, interp1d\n",
    "#import rpy2.robjects as robjects\n",
    "#from rpy2.robjects.packages import importr\n",
    "import csv\n",
    "from dfply import *\n",
    "from xgboost import XGBClassifier\n",
    "import itertools\n",
    "import os\n",
    "from tqdm import tqdm\n",
    "from os import listdir\n",
    "from os.path import isfile, join\n",
    "from os.path import exists\n",
    "import logging\n",
    "import time\n",
    "\n",
    "import utils_function"
   ]
  },
  {
   "cell_type": "code",
   "execution_count": null,
   "id": "e533239e-a610-44ad-925e-6e2d09917b31",
   "metadata": {
    "tags": []
   },
   "outputs": [],
   "source": [
    "#Reload library to update on any change\n",
    "importlib.reload(ipynb.fs.full.preprocessing0)\n",
    "importlib.reload(ipynb.fs.full.preprocessing05)\n",
    "#importlib.reload(ipynb.fs.full.preapossessing075_akistage)\n",
    "importlib.reload(preprocessing1)\n",
    "importlib.reload(preprocessing2_BT)\n",
    "importlib.reload(ipynb.fs.full.preprocessing25_BTcorr)\n",
    "importlib.reload(ipynb.fs.full.preprocessing3_smote)\n",
    "# #importlib.reload(ipynb.fs.full.preprocessing4)\n",
    "importlib.reload(preprocessing4)\n",
    "importlib.reload(runxgboost)\n",
    "importlib.reload(postprocessing1_SHAP)\n",
    "importlib.reload(ipynb.fs.full.postprocessing3_collect)\n",
    "importlib.reload(postprocessing1_SHAP)\n",
    "importlib.reload(utils_function)"
   ]
  },
  {
   "cell_type": "code",
   "execution_count": null,
   "id": "cc0d29d5-c71e-47cc-a25b-df5c38e1f61c",
   "metadata": {},
   "outputs": [],
   "source": [
    "site_list = ['KUMC', 'UTSW', 'MCW', 'UofU', 'UIOWA', 'UMHC', 'UPITT', 'UTHSCSA', 'UNMC']"
   ]
  },
  {
   "cell_type": "code",
   "execution_count": null,
   "id": "252a7ae0-2df1-4d60-9154-37fde82dabe4",
   "metadata": {},
   "outputs": [],
   "source": [
    "site='KUMC'\n",
    "year=2014"
   ]
  },
  {
   "cell_type": "code",
   "execution_count": null,
   "id": "bf7fbf50-6245-4d0b-aee9-cdb3c89e2118",
   "metadata": {},
   "outputs": [],
   "source": [
    "configs_variables = utils_function.read_config(site)\n",
    "datafolder = configs_variables['datafolder']\n",
    "home_directory = configs_variables['home_directory']  "
   ]
  },
  {
   "cell_type": "code",
   "execution_count": null,
   "id": "22128b1c-a0ec-4ee2-9940-251ddf7c6d39",
   "metadata": {},
   "outputs": [],
   "source": [
    "demo_one = pd.read_pickle(datafolder+site+'/demo_'+site+'_'+str(year)+'.pkl')"
   ]
  },
  {
   "cell_type": "code",
   "execution_count": null,
   "id": "434866c8-5b51-4d04-90bc-12b14de9cfd5",
   "metadata": {},
   "outputs": [],
   "source": [
    "vital_t = pd.read_pickle(datafolder+site+'/vital_'+site+'_'+str(year)+'.pkl')"
   ]
  },
  {
   "cell_type": "code",
   "execution_count": null,
   "id": "4b7658cc-16ea-4f0c-b87b-fe78c24071d7",
   "metadata": {
    "tags": []
   },
   "outputs": [],
   "source": [
    "dx_t = pd.read_pickle(datafolder+site+'/dx_'+site+'_'+str(year)+'.pkl')"
   ]
  },
  {
   "cell_type": "code",
   "execution_count": null,
   "id": "cd85bbbd-a578-4ed0-a5eb-f19e6ee2431a",
   "metadata": {
    "tags": []
   },
   "outputs": [],
   "source": [
    "px_t = pd.read_pickle(datafolder+site+'/px_'+site+'_'+str(year)+'.pkl')"
   ]
  }
 ],
 "metadata": {
  "kernelspec": {
   "display_name": "AKI_CDM_PY",
   "language": "python",
   "name": "aki_cdm_py"
  },
  "language_info": {
   "codemirror_mode": {
    "name": "ipython",
    "version": 3
   },
   "file_extension": ".py",
   "mimetype": "text/x-python",
   "name": "python",
   "nbconvert_exporter": "python",
   "pygments_lexer": "ipython3",
   "version": "3.6.15"
  }
 },
 "nbformat": 4,
 "nbformat_minor": 5
}
