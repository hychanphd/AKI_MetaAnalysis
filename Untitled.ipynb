{
 "cells": [
  {
   "cell_type": "code",
   "execution_count": null,
   "id": "73eeeecc-412b-45d9-871f-37f868a43f0c",
   "metadata": {
    "tags": []
   },
   "outputs": [],
   "source": [
    "import importlib\n",
    "from ipynb.fs.full.slackbot import ping_slack\n",
    "import pandas as pd\n",
    "import xgboost as xgb\n",
    "import numpy as np\n",
    "import sklearn\n",
    "from sklearn.preprocessing import OneHotEncoder\n",
    "from sklearn.impute import SimpleImputer\n",
    "import matplotlib.pyplot as plt\n",
    "from PIL import Image\n",
    "from scipy.interpolate import BSpline, make_interp_spline, interp1d\n",
    "#import rpy2.robjects as robjects\n",
    "#from rpy2.robjects.packages import importr\n",
    "import csv\n",
    "from dfply import *\n",
    "from xgboost import XGBClassifier\n",
    "import itertools\n",
    "import os\n",
    "from tqdm import tqdm\n",
    "from os import listdir\n",
    "from os.path import isfile, join\n",
    "from os.path import exists\n",
    "import logging\n",
    "import time\n",
    "\n",
    "import utils_function"
   ]
  },
  {
   "cell_type": "code",
   "execution_count": null,
   "id": "229067f1-b380-4743-b985-24f3116e5561",
   "metadata": {
    "tags": []
   },
   "outputs": [],
   "source": [
    "onset_new = pd.read_parquet(datafolder+site+'/p0_onset_'+site+'.parquet')"
   ]
  },
  {
   "cell_type": "code",
   "execution_count": null,
   "id": "01adcb62-4dab-43b8-9579-bf89c259fc0d",
   "metadata": {
    "tags": []
   },
   "outputs": [],
   "source": [
    "site = 'KUMC'"
   ]
  },
  {
   "cell_type": "code",
   "execution_count": null,
   "id": "3456891c-09c2-4700-a520-5fdaa1ea7b46",
   "metadata": {
    "tags": []
   },
   "outputs": [],
   "source": [
    "basefolder = \"/blue/yonghui.wu/hoyinchan/Data/Qi_code_and_data/\"\n",
    "\n",
    "onset_new = pd.read_pickle(basefolder+\"onset_all_\"+site+\".pkl\")"
   ]
  },
  {
   "cell_type": "code",
   "execution_count": null,
   "id": "dfd83572-c9ef-4df5-8fce-d603eac3c06e",
   "metadata": {
    "tags": []
   },
   "outputs": [],
   "source": [
    "onset_new[['AKI_STAGE', 'ENCOUNTERID']].groupby('AKI_STAGE').count()"
   ]
  },
  {
   "cell_type": "code",
   "execution_count": null,
   "id": "dc074b2e-7dc7-4af8-847e-ebb5c3910c69",
   "metadata": {
    "tags": []
   },
   "outputs": [],
   "source": [
    "xxx = pd.read_pickle(basefolder+\"onset_and_baseline_dict.pkl\")"
   ]
  },
  {
   "cell_type": "code",
   "execution_count": null,
   "id": "1364e56a-3381-46dc-a3a3-6fd09bbe0385",
   "metadata": {
    "tags": []
   },
   "outputs": [],
   "source": [
    "onset_new[(onset_new['AKI_STAGE']==0)&(onset_new['AKI_INIT_STG']!=0)]"
   ]
  },
  {
   "cell_type": "code",
   "execution_count": null,
   "id": "cac7fa8c-fbf8-47b4-a5d4-d28d9aa1f1e8",
   "metadata": {},
   "outputs": [],
   "source": [
    "onset_new"
   ]
  },
  {
   "cell_type": "code",
   "execution_count": null,
   "id": "bf8a4da2-9aca-4122-8f2c-1ef4728b18b4",
   "metadata": {
    "tags": []
   },
   "outputs": [],
   "source": [
    "    configs_variables = utils_function.read_config(site)\n",
    "    datafolder = configs_variables['datafolder']\n",
    "    home_directory = configs_variables['home_directory']  "
   ]
  },
  {
   "cell_type": "code",
   "execution_count": null,
   "id": "0c7c9d26-e19b-4c8a-82f5-e2ed9e46eb5f",
   "metadata": {
    "tags": []
   },
   "outputs": [],
   "source": [
    "onset_new"
   ]
  },
  {
   "cell_type": "code",
   "execution_count": null,
   "id": "6bf918d2-0926-4d17-a4e2-f265e1d26283",
   "metadata": {
    "tags": []
   },
   "outputs": [],
   "source": [
    "31-26"
   ]
  },
  {
   "cell_type": "code",
   "execution_count": null,
   "id": "e89b472d-04db-4ced-a39d-af924c0072b6",
   "metadata": {},
   "outputs": [],
   "source": []
  }
 ],
 "metadata": {
  "kernelspec": {
   "display_name": "AKI_timeseries",
   "language": "python",
   "name": "aki_timeseries"
  },
  "language_info": {
   "codemirror_mode": {
    "name": "ipython",
    "version": 3
   },
   "file_extension": ".py",
   "mimetype": "text/x-python",
   "name": "python",
   "nbconvert_exporter": "python",
   "pygments_lexer": "ipython3",
   "version": "3.11.3"
  }
 },
 "nbformat": 4,
 "nbformat_minor": 5
}
