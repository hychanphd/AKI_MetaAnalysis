{
 "cells": [
  {
   "cell_type": "code",
   "execution_count": null,
   "id": "ae0b9377-4aa7-436e-a619-3cd729ebf7ba",
   "metadata": {
    "tags": []
   },
   "outputs": [],
   "source": [
    "import pandas as pd\n",
    "import xgboost as xgb\n",
    "import numpy as np\n",
    "import sklearn\n",
    "from sklearn.preprocessing import OneHotEncoder\n",
    "from sklearn.impute import SimpleImputer\n",
    "from imblearn.over_sampling import SMOTE\n",
    "from imblearn.pipeline import make_pipeline\n",
    "from imblearn.combine import SMOTEENN\n",
    "from imblearn.over_sampling import SMOTENC\n",
    "import matplotlib.pyplot as plt\n",
    "from PIL import Image\n",
    "from scipy.interpolate import BSpline, make_interp_spline, interp1d\n",
    "import rpy2.robjects as robjects\n",
    "from rpy2.robjects.packages import importr\n",
    "import csv\n",
    "from dfply import *\n",
    "from xgboost import XGBClassifier\n",
    "import itertools\n",
    "import os\n",
    "import logging\n",
    "from sys import getsizeof"
   ]
  },
  {
   "cell_type": "code",
   "execution_count": null,
   "id": "634dce4e-dbc5-4638-8e5c-49a47a38ec79",
   "metadata": {
    "tags": []
   },
   "outputs": [],
   "source": [
    "#def aki_staging(site):\n",
    "site='MCRI'\n",
    "if True:\n",
    "    ext = {'MCW':'dsv', 'UofU':'txt', 'UTSW':'dsv'}\n",
    "    sep = {'MCW':'|',   'UofU':'|',   'UTSW':'|'}    \n",
    "    \n",
    "    print('Running staging on site '+site, flush = True)            \n",
    "    home_dir = '/home/hchan2/AKI/data2022/'\n",
    "    if site in ext.keys():       \n",
    "        labcsv=pd.read_csv(home_dir+site+'/raw/AKI_LAB_SCR.'+ext[site],sep=sep[site])\n",
    "        labcsv.columns = [y.upper() for y in labcsv.columns]        \n",
    "        onsetcsv=pd.read_csv(home_dir+site+'/raw/AKI_ONSETS.'+ext[site],sep=sep[site])        \n",
    "        onsetcsv.columns = [y.upper() for y in onsetcsv.columns]                \n",
    "    elif site =='UPITT':\n",
    "        labcsv=pd.read_csv(home_dir+site+'/raw/AKI_LAB_SCR.csv', encoding='windows-1252')    \n",
    "        labcsv.columns = [y.upper() for y in labcsv.columns]            \n",
    "        onsetcsv=pd.read_csv(home_dir+site+'/raw/AKI_ONSETS.csv')    \n",
    "        onsetcsv.columns = [y.upper() for y in onsetcsv.columns]        \n",
    "    else:\n",
    "        labcsv=pd.read_csv(home_dir+site+'/raw/AKI_LAB_SCR.csv',na_values=['NI', '(null)'])    \n",
    "        labcsv.columns = [y.upper() for y in labcsv.columns]        \n",
    "        labcsv.columns = [x.replace('\"+PD.DATE_SHIFT\"', '') for x in labcsv.columns]            \n",
    "        onsetcsv=pd.read_csv(home_dir+site+'/raw/AKI_ONSETS.csv',na_values=['NI', '(null)'])    \n",
    "#        onsetcsv=pd.read_csv(home_dir+site+'/raw/AKI_ONSETS.csv', header=None)    \n",
    "#        onsetcsv.columns = [y.upper() for y in onsetcsv.columns]   \n",
    "#        onsetcsv.columns = [x.replace('\"+PD.DATE_SHIFT\"', '') for x in onsetcsv.columns]    \n",
    "\n",
    "    labcsv = labcsv[labcsv['RESULT_NUM']>0]\n",
    "    labcsv = labcsv.drop('LAB_RESULT_CM_ID',axis=1).drop_duplicates()\n",
    "    labcsvX = labcsv.copy()"
   ]
  },
  {
   "cell_type": "code",
   "execution_count": null,
   "id": "cbc80b15-cddb-45ee-9ede-aa8b8e6cc8da",
   "metadata": {
    "tags": []
   },
   "outputs": [],
   "source": [
    "onsetcsv.columns = ['PATID', 'ENCOUNTERID', 'ADMIT_DATE', 'DISCHARGE_DATE',\n",
    "       'SERUM_CREAT_BASE', 'NONAKI_ANCHOR', 'NONAKI_SINCE_ADMIT',\n",
    "       'NON_AKI_SCR', 'NON_AKI_INC', 'AKI1_ONSET', 'AKI1_SINCE_ADMIT',\n",
    "       'AKI1_SCR', 'AKI1_INC', 'AKI2_ONSET', 'AKI2_SINCE_ADMIT', 'AKI2_SCR',\n",
    "       'AKI2_INC', 'BCCOVID', 'AKI3_ONSET', 'AKI3_SINCE_ADMIT', 'AKI3_SCR',\n",
    "       'AKI3_INC']\n",
    "onsetcsv.head(2)"
   ]
  },
  {
   "cell_type": "code",
   "execution_count": null,
   "id": "4f38c5b0-719f-4be5-8e58-a5dcf3eb7d76",
   "metadata": {
    "tags": []
   },
   "outputs": [],
   "source": [
    "#To datetime\n",
    "def convert_daytime(df, dateformat='%d-%b-%y', timeformat='%H:%M'):\n",
    "    for col in df.columns:\n",
    "        if 'DATE' in col and col.replace('DATE', 'TIME') in df.columns: \n",
    "            print(col)\n",
    "            df[col.replace('DATE', 'DATE_TIME')] = pd.to_datetime(df[col].str.split(' ').str[0]+' '+df[col.replace('DATE', 'TIME')], format=dateformat+' '+timeformat)\n",
    "        elif 'DATE' in col:\n",
    "            df.loc[:,col] = pd.to_datetime(df[col], format=dateformat)\n",
    "    return df"
   ]
  },
  {
   "cell_type": "code",
   "execution_count": null,
   "id": "f84f60bc-b858-4bb7-a3cf-4ddbfd40622e",
   "metadata": {
    "tags": []
   },
   "outputs": [],
   "source": [
    "dateformat='%Y-%m-%d' #UNMC\n",
    "#onsetcsv = convert_daytime(onsetcsv, dateformat=dateformat)\n",
    "#labcsv = convert_daytime(labcsv, dateformat=dateformat)\n",
    "#labcsv = labcsv.drop(['ADMIT_DATE', 'OLD_DAY_SINCE_ADMIT'],axis=1)"
   ]
  },
  {
   "cell_type": "code",
   "execution_count": null,
   "id": "8a2c1e5b-97ef-4c49-bc91-0f6b97f44618",
   "metadata": {
    "tags": []
   },
   "outputs": [],
   "source": [
    "onset_merge = onsetcsv[['ENCOUNTERID', 'ADMIT_DATE']].copy()\n",
    "onset_merge.columns = ['ONSETS_ENCOUNTERID', 'ADMIT_DATE']\n",
    "labcsv_merge = labcsv.merge(onset_merge, left_on='ONSETS_ENCOUNTERID', right_on='ONSETS_ENCOUNTERID', how='left')\n",
    "labcsv_merge = labcsv_merge[labcsv_merge['ADMIT_DATE'].notnull()]\n",
    "labcsv_merge['NEW_DAY_SINCE_ADMIT'] = (labcsv_merge['SPECIMEN_DATE_TIME']-labcsv_merge['ADMIT_DATE']).dt.total_seconds()/3600/24"
   ]
  },
  {
   "cell_type": "code",
   "execution_count": null,
   "id": "d2a4c9fd-f1f1-494c-a724-bcd197e2be59",
   "metadata": {
    "tags": []
   },
   "outputs": [],
   "source": [
    "labcsv = labcsv_merge.copy()\n",
    "labcsv['OLD_DAY_SINCE_ADMIT'] = labcsv['DAYS_SINCE_ADMIT']\n",
    "labcsv['DAYS_SINCE_ADMIT'] = labcsv['NEW_DAY_SINCE_ADMIT']"
   ]
  },
  {
   "cell_type": "code",
   "execution_count": null,
   "id": "df47cb25-11bf-4ca6-9395-505a04bee84f",
   "metadata": {
    "tags": []
   },
   "outputs": [],
   "source": [
    "scravg = labcsv[['PATID','ONSETS_ENCOUNTERID','ENCOUNTERID','LAB_ORDER_DATE','SPECIMEN_DATE_TIME', 'RESULT_DATE', 'RESULT_TIME', 'RESULT_NUM', 'DAYS_SINCE_ADMIT']].groupby(['PATID','ONSETS_ENCOUNTERID','ENCOUNTERID','LAB_ORDER_DATE','SPECIMEN_DATE_TIME', 'RESULT_DATE', 'RESULT_TIME', 'DAYS_SINCE_ADMIT']).mean().reset_index()\n",
    "scravg = scravg[scravg['DAYS_SINCE_ADMIT']>=0]\n",
    "con03_base = scravg[['PATID', 'ONSETS_ENCOUNTERID', 'RESULT_NUM', 'SPECIMEN_DATE_TIME', 'DAYS_SINCE_ADMIT']].rename(columns={'SPECIMEN_DATE_TIME':'SPECIMEN_DATE_TIME_BASE', 'RESULT_NUM':'RESULT_NUM_BASE', 'DAYS_SINCE_ADMIT':'DAYS_SINCE_ADMIT_BASE'})\n",
    "con03_base_rn1 = con03_base.loc[con03_base[['PATID', 'ONSETS_ENCOUNTERID', 'DAYS_SINCE_ADMIT_BASE']].groupby('ONSETS_ENCOUNTERID').idxmin().reset_index()['DAYS_SINCE_ADMIT_BASE']]"
   ]
  },
  {
   "cell_type": "code",
   "execution_count": null,
   "id": "abad879f-e256-4dc1-a2c8-c610c5738df1",
   "metadata": {
    "tags": []
   },
   "outputs": [],
   "source": [
    "if True:\n",
    "#    con03_stage = scr.merge(con03_base, left_on ='ENCOUNTERID', right_on='ENCOUNTERID', how='left')\n",
    "    con03_stage = scravg.merge(con03_base_rn1, left_on =['PATID','ONSETS_ENCOUNTERID'], right_on=['PATID','ONSETS_ENCOUNTERID'], how='left')\n",
    "    con03_stage['DAYS_SINCE_ADMIT_DIFF'] = con03_stage['DAYS_SINCE_ADMIT']-con03_stage['DAYS_SINCE_ADMIT_BASE']\n",
    "\n",
    "    # Condition 2\n",
    "    con03_stage = con03_stage[con03_stage['DAYS_SINCE_ADMIT_DIFF']<=7]\n",
    "    con04_stage = con03_stage.copy()\n",
    "    con04_stage['RESULT_NUM_INC'] = np.round(con03_stage['RESULT_NUM']/con03_stage['RESULT_NUM_BASE'],1)\n",
    "\n",
    "    conditions = [\n",
    "        (con04_stage['RESULT_NUM_INC'] < 1.5),\n",
    "        (con04_stage['RESULT_NUM_INC'] >= 1.5) & (con04_stage['RESULT_NUM_INC'] < 2.0),\n",
    "        (con04_stage['RESULT_NUM_INC'] >= 2.0) & (con04_stage['RESULT_NUM_INC'] < 3.0),\n",
    "        (con04_stage['RESULT_NUM_INC'] >= 3)\n",
    "        ]\n",
    "    values = [0, 1, 2, 3]\n",
    "    con04_stage['AKI_STAGE'] = np.select(conditions, values)"
   ]
  },
  {
   "cell_type": "code",
   "execution_count": null,
   "id": "4222580d-0fcf-4244-bb8b-d84fcaf94e0a",
   "metadata": {
    "tags": []
   },
   "outputs": [],
   "source": [
    "# CONSORT_DIAGRAM\n",
    "con05_stage = con04_stage[con04_stage['AKI_STAGE']!=0].copy()\n",
    "con05_stage = con05_stage.loc[con05_stage[['PATID','ONSETS_ENCOUNTERID','AKI_STAGE', 'DAYS_SINCE_ADMIT_DIFF']].drop_duplicates().groupby(['PATID','ONSETS_ENCOUNTERID','AKI_STAGE']).idxmin().reset_index()['DAYS_SINCE_ADMIT_DIFF']]"
   ]
  },
  {
   "cell_type": "code",
   "execution_count": null,
   "id": "ef1c84a0-bdeb-45f1-992c-802b8e3fb557",
   "metadata": {
    "tags": []
   },
   "outputs": [],
   "source": [
    "#consort_diagram = con04_stage[['PATID','ONSETS_ENCOUNTERID','AKI_STAGE', 'DAYS_SINCE_ADMIT_DIFF']].drop_duplicates()\n",
    "con06_stage = pd.pivot(con05_stage, index=['PATID','ONSETS_ENCOUNTERID'], columns='AKI_STAGE', values='DAYS_SINCE_ADMIT_DIFF').reset_index()\n",
    "con06_stage.columns = ['PATID', 'ONSETS_ENCOUNTERID', 'STAGE_1', 'STAGE_2', 'STAGE_3']\n",
    "consort_diagram = pd.DataFrame({'ENT_TYP': ['AKI1', 'AKI2', 'AKI3', 'AKI1to2', 'AKI1to2to3', 'AKI2to3'],\n",
    "                               'ENT_CNT':[con06_stage['STAGE_1'].notnull().sum(), con06_stage['STAGE_2'].notnull().sum(), con06_stage['STAGE_3'].notnull().sum(), \n",
    "                                          np.logical_and(con06_stage['STAGE_1'].notnull(), con06_stage['STAGE_2'].notnull()).sum(),\n",
    "                                          np.logical_and(np.logical_and(con06_stage['STAGE_1'].notnull(), con06_stage['STAGE_2'].notnull()), con06_stage['STAGE_3'].notnull()).sum(),\n",
    "                                          np.logical_and(con06_stage['STAGE_2'].notnull(), con06_stage['STAGE_3'].notnull()).sum()]})\n",
    "consort_diagram"
   ]
  },
  {
   "cell_type": "code",
   "execution_count": null,
   "id": "1dea852b-099a-4ae6-91e6-480bc2b199d7",
   "metadata": {},
   "outputs": [],
   "source": [
    "onsetcsv[['ENCOUNTERID']].drop_duplicates().shape"
   ]
  },
  {
   "cell_type": "code",
   "execution_count": null,
   "id": "70718b3a-1f27-4496-8ee5-1645541cf6ca",
   "metadata": {},
   "outputs": [],
   "source": [
    "10000/149682*100"
   ]
  },
  {
   "cell_type": "code",
   "execution_count": null,
   "id": "238443f7-a4e7-4b2f-ae84-11e23c0ab1e5",
   "metadata": {},
   "outputs": [],
   "source": [
    "con07_stage_1 = con05_stage[con05_stage['AKI_STAGE']==1][['PATID', 'ONSETS_ENCOUNTERID', 'SPECIMEN_DATE_TIME', 'DAYS_SINCE_ADMIT', 'RESULT_NUM', 'RESULT_NUM_INC']]\n",
    "con07_stage_1.columns = ['PATID', 'ONSETS_ENCOUNTERID', 'AKI1_ONSET', 'AKI1_SINCE_ADMIT', 'AKI1_SCR', 'AKI1_INC']\n",
    "con07_stage_2 = con05_stage[con05_stage['AKI_STAGE']==2][['PATID', 'ONSETS_ENCOUNTERID', 'SPECIMEN_DATE_TIME', 'DAYS_SINCE_ADMIT', 'RESULT_NUM', 'RESULT_NUM_INC']]\n",
    "con07_stage_2.columns = ['PATID', 'ONSETS_ENCOUNTERID', 'AKI2_ONSET', 'AKI2_SINCE_ADMIT', 'AKI2_SCR', 'AKI2_INC']\n",
    "con07_stage_3 = con05_stage[con05_stage['AKI_STAGE']==3][['PATID', 'ONSETS_ENCOUNTERID', 'SPECIMEN_DATE_TIME', 'DAYS_SINCE_ADMIT', 'RESULT_NUM', 'RESULT_NUM_INC']]\n",
    "con07_stage_3.columns = ['PATID', 'ONSETS_ENCOUNTERID', 'AKI3_ONSET', 'AKI3_SINCE_ADMIT', 'AKI3_SCR', 'AKI3_INC']"
   ]
  },
  {
   "cell_type": "code",
   "execution_count": null,
   "id": "cf94e73a-c499-41a1-9724-4f1b60bd2f71",
   "metadata": {},
   "outputs": [],
   "source": [
    "if True:\n",
    "# AKI3 based on rrt\n",
    "    pxcsv=pd.read_csv(home_dir+site+'/raw/AKI_PX.csv')    \n",
    "    pxcsv.columns = [y.upper() for y in pxcsv.columns]        \n",
    "    pxcsv.columns = [x.replace('\"+PD.DATE_SHIFT\"', '') for x in pxcsv.columns]                \n",
    "    rrt_stage = pxcsv[np.logical_or(np.logical_or(np.logical_and(pxcsv['PX_TYPE']=='CH',pxcsv['PX'].isin(['50300','50320','50323','50325','50327','50328','50329','50340','50360','50365','50370','50380'])),\n",
    "                           np.logical_and(pxcsv['PX_TYPE']=='09',pxcsv['PX'].isin(['55.51','55.52','55.53','55.54','55.61','55.69']))),np.logical_or(\n",
    "                           np.logical_and(pxcsv['PX_TYPE']=='9',pxcsv['PX'].isin(['55.51','55.52','55.53','55.54','55.61','55.69'])),                       \n",
    "                           np.logical_and(pxcsv['PX_TYPE']=='10',pxcsv['PX'].isin(['0TY00Z0','0TY00Z1','0TY00Z2','0TY10Z0','0TY10Z1','0TY10Z2','0TB00ZZ','0TB10ZZ','0TT00ZZ','0TT10ZZ','0TT20ZZ']))))]\n",
    "  \n",
    "    datafolder = home_dir\n",
    "    con04_stage.to_pickle(home_dir+site+'/p0_akistageslope_'+site+'.pkl')    \n",
    "    rrt_stage.to_pickle(home_dir+site+'/p0_akistagerrt_'+site+'.pkl')"
   ]
  },
  {
   "cell_type": "code",
   "execution_count": null,
   "id": "c8e62594-a15e-4c73-9d52-640fdcbdfe72",
   "metadata": {
    "tags": []
   },
   "outputs": [],
   "source": [
    "rrt_stage = convert_daytime(rrt_stage)\n",
    "rrt_stage = rrt_stage[['PATID','ONSETS_ENCOUNTERID','PX_DATE']]\n",
    "rrt_stage.columns = ['PATID','ONSETS_ENCOUNTERID','RRT3_ONSET']\n",
    "\n",
    "onsetcsv_merge = onsetcsv[['PATID','ENCOUNTERID','ADMIT_DATE']].copy()\n",
    "onsetcsv_merge.columns = ['PATID','ONSETS_ENCOUNTERID','ADMIT_DATE']\n",
    "\n",
    "rrt_stage = rrt_stage.merge(onsetcsv_merge, right_on=['PATID', 'ONSETS_ENCOUNTERID'], left_on=['PATID', 'ONSETS_ENCOUNTERID'], how='left')\n",
    "rrt_stage['RRT3_SINCE_ADMIT'] = (rrt_stage['RRT3_ONSET']-rrt_stage['ADMIT_DATE']).dt.total_seconds()/3600/24\n",
    "rrt_stage = rrt_stage.loc[rrt_stage[['ONSETS_ENCOUNTERID', 'RRT3_SINCE_ADMIT']].groupby('ONSETS_ENCOUNTERID').idxmin().reset_index()['RRT3_SINCE_ADMIT']]"
   ]
  },
  {
   "cell_type": "code",
   "execution_count": null,
   "id": "98f3ef2a-4738-4d67-9027-c719346c91a8",
   "metadata": {},
   "outputs": [],
   "source": [
    "con07_stage_rrt = rrt_stage.copy().drop('ADMIT_DATE',axis=1)\n",
    "con07_stage_rrt.columns = ['PATID','ONSETS_ENCOUNTERID','AKI3_ONSET','AKI3_SINCE_ADMIT']\n",
    "con07_stage_rrt['AKI3_SCR'] = np.nan\n",
    "con07_stage_rrt['AKI3_INC'] = np.nan\n",
    "\n",
    "con07_stage_3r = pd.concat([con07_stage_3, con07_stage_rrt])\n",
    "con07_stage_3r = con07_stage_3r.loc[con07_stage_3r[['ONSETS_ENCOUNTERID', 'AKI3_SINCE_ADMIT']].groupby('ONSETS_ENCOUNTERID').idxmin().reset_index()['AKI3_SINCE_ADMIT']]"
   ]
  },
  {
   "cell_type": "code",
   "execution_count": null,
   "id": "580bd759-8683-47c0-9c20-98c5077eb51d",
   "metadata": {},
   "outputs": [],
   "source": [
    "con07_stage_0 = con04_stage[con04_stage['AKI_STAGE']==0].copy()\n",
    "con07_stage_0 = con07_stage_0.loc[con07_stage_0[['PATID','ONSETS_ENCOUNTERID','AKI_STAGE', 'DAYS_SINCE_ADMIT_DIFF']].drop_duplicates().groupby(['PATID','ONSETS_ENCOUNTERID','AKI_STAGE']).idxmax().reset_index()['DAYS_SINCE_ADMIT_DIFF']]"
   ]
  },
  {
   "cell_type": "code",
   "execution_count": null,
   "id": "72278ee7-6907-49f9-8397-531e68f35bb8",
   "metadata": {},
   "outputs": [],
   "source": [
    "con07_stage_0 = con07_stage_0[['PATID', 'ONSETS_ENCOUNTERID', 'SPECIMEN_DATE_TIME', 'DAYS_SINCE_ADMIT', 'RESULT_NUM', 'RESULT_NUM_INC']]\n",
    "con07_stage_0.columns = ['PATID', 'ONSETS_ENCOUNTERID', 'NONAKI_ANCHOR', 'NONAKI_SINCE_ADMIT', 'NON_AKI_SCR', 'NON_AKI_INC']"
   ]
  },
  {
   "cell_type": "code",
   "execution_count": null,
   "id": "61e1301f-2311-4e62-ab0d-529cbc15f414",
   "metadata": {},
   "outputs": [],
   "source": [
    "#Combine all stages\n",
    "con07_stage_scr = con03_base_rn1[['PATID', 'ONSETS_ENCOUNTERID', 'RESULT_NUM_BASE']].drop_duplicates()\n",
    "con07_stage_scr.columns = ['PATID', 'ONSETS_ENCOUNTERID', 'SERUM_CREAT_BASE']\n",
    "con07_stage = con07_stage_scr.merge(con07_stage_0, right_on=['PATID', 'ONSETS_ENCOUNTERID'], left_on=['PATID', 'ONSETS_ENCOUNTERID'], how='outer').merge(con07_stage_1, right_on=['PATID', 'ONSETS_ENCOUNTERID'], left_on=['PATID', 'ONSETS_ENCOUNTERID'], how='outer').merge(con07_stage_2, right_on=['PATID', 'ONSETS_ENCOUNTERID'], left_on=['PATID', 'ONSETS_ENCOUNTERID'], how='outer').merge(con07_stage_3r, right_on=['PATID', 'ONSETS_ENCOUNTERID'], left_on=['PATID', 'ONSETS_ENCOUNTERID'], how='outer')"
   ]
  },
  {
   "cell_type": "code",
   "execution_count": null,
   "id": "e67a48fb-a940-483d-bd41-86ecc7cb67f2",
   "metadata": {},
   "outputs": [],
   "source": [
    "con07_stage.loc[con07_stage['AKI1_SINCE_ADMIT']>=con07_stage['AKI3_SINCE_ADMIT'], 'AKI1_ONSET'] = np.nan\n",
    "con07_stage.loc[con07_stage['AKI1_SINCE_ADMIT']>=con07_stage['AKI3_SINCE_ADMIT'], 'AKI1_SCR'] = np.nan\n",
    "con07_stage.loc[con07_stage['AKI1_SINCE_ADMIT']>=con07_stage['AKI3_SINCE_ADMIT'], 'AKI1_INC'] = np.nan\n",
    "con07_stage.loc[con07_stage['AKI1_SINCE_ADMIT']>=con07_stage['AKI3_SINCE_ADMIT'], 'AKI1_SINCE_ADMIT'] = np.nan\n",
    "\n",
    "con07_stage.loc[con07_stage['AKI2_SINCE_ADMIT']>=con07_stage['AKI3_SINCE_ADMIT'], 'AKI2_ONSET'] = np.nan\n",
    "con07_stage.loc[con07_stage['AKI2_SINCE_ADMIT']>=con07_stage['AKI3_SINCE_ADMIT'], 'AKI2_SCR'] = np.nan\n",
    "con07_stage.loc[con07_stage['AKI2_SINCE_ADMIT']>=con07_stage['AKI3_SINCE_ADMIT'], 'AKI2_INC'] = np.nan\n",
    "con07_stage.loc[con07_stage['AKI2_SINCE_ADMIT']>=con07_stage['AKI3_SINCE_ADMIT'], 'AKI2_SINCE_ADMIT'] = np.nan\n",
    "\n",
    "con07_stage.loc[con07_stage['AKI1_SINCE_ADMIT']>=con07_stage['AKI2_SINCE_ADMIT'], 'AKI1_ONSET'] = np.nan\n",
    "con07_stage.loc[con07_stage['AKI1_SINCE_ADMIT']>=con07_stage['AKI2_SINCE_ADMIT'], 'AKI1_SCR'] = np.nan\n",
    "con07_stage.loc[con07_stage['AKI1_SINCE_ADMIT']>=con07_stage['AKI2_SINCE_ADMIT'], 'AKI1_INC'] = np.nan\n",
    "con07_stage.loc[con07_stage['AKI1_SINCE_ADMIT']>=con07_stage['AKI2_SINCE_ADMIT'], 'AKI1_SINCE_ADMIT'] = np.nan"
   ]
  },
  {
   "cell_type": "code",
   "execution_count": null,
   "id": "c8d1b0b8-4f7e-4607-bfa8-9f5f2983276b",
   "metadata": {},
   "outputs": [],
   "source": [
    "con07_stage.loc[np.logical_or(np.logical_or(con07_stage['AKI1_SINCE_ADMIT'].notnull(),con07_stage['AKI2_SINCE_ADMIT'].notnull()),con07_stage['AKI3_SINCE_ADMIT'].notnull()), 'NONAKI_ANCHOR'] = np.nan\n",
    "con07_stage.loc[np.logical_or(np.logical_or(con07_stage['AKI1_SINCE_ADMIT'].notnull(),con07_stage['AKI2_SINCE_ADMIT'].notnull()),con07_stage['AKI3_SINCE_ADMIT'].notnull()), 'NONAKI_SINCE_ADMIT'] = np.nan\n",
    "con07_stage.loc[np.logical_or(np.logical_or(con07_stage['AKI1_SINCE_ADMIT'].notnull(),con07_stage['AKI2_SINCE_ADMIT'].notnull()),con07_stage['AKI3_SINCE_ADMIT'].notnull()), 'NON_AKI_SCR'] = np.nan\n",
    "con07_stage.loc[np.logical_or(np.logical_or(con07_stage['AKI1_SINCE_ADMIT'].notnull(),con07_stage['AKI2_SINCE_ADMIT'].notnull()),con07_stage['AKI3_SINCE_ADMIT'].notnull()), 'NON_AKI_INC'] = np.nan"
   ]
  },
  {
   "cell_type": "code",
   "execution_count": null,
   "id": "4bf748e2-fcfd-4b3f-aa5c-85d15a52c0d0",
   "metadata": {},
   "outputs": [],
   "source": [
    "onsetcsv_merge = onsetcsv[['PATID','ENCOUNTERID','ADMIT_DATE','ADMIT_YEAR','DISCHARGE_DATE', 'BCCOVID']].copy()\n",
    "onsetcsv_merge.columns = ['PATID','ONSETS_ENCOUNTERID','ADMIT_DATE','ADMIT_YEAR','DISCHARGE_DATE', 'BCCOVID']\n",
    "con07_stage = con07_stage.merge(onsetcsv_merge, right_on=['PATID', 'ONSETS_ENCOUNTERID'], left_on=['PATID', 'ONSETS_ENCOUNTERID'], how='outer')"
   ]
  },
  {
   "cell_type": "code",
   "execution_count": null,
   "id": "3aef38dd-50f3-4dc8-9cab-1e3214215618",
   "metadata": {},
   "outputs": [],
   "source": [
    "con07_stagetest.to_csv((home_dir+site+'/raw/AKI_ONSETS_NEW.csv'),index=False)"
   ]
  },
  {
   "cell_type": "code",
   "execution_count": null,
   "id": "dc1e1104-f20d-43ff-9f55-1d1e14cec602",
   "metadata": {
    "tags": []
   },
   "outputs": [],
   "source": [
    "onsetcsvtest = onsetcsv.copy()\n",
    "onsetcsvtest = onsetcsvtest.rename(columns = {'ENCOUNTERID':'ONSETS_ENCOUNTERID'})\n",
    "con07_stagetest = con07_stage.copy()\n",
    "con07_stagetest = con07_stagetest.rename(columns = {'ENCOUNTERID':'ONSETS_ENCOUNTERID'})\n",
    "#onsetcsvtest\n",
    "testmerge = con07_stagetest.merge(onsetcsvtest, right_on=['PATID', 'ONSETS_ENCOUNTERID'], left_on=['PATID', 'ONSETS_ENCOUNTERID'], how='outer')"
   ]
  },
  {
   "cell_type": "code",
   "execution_count": null,
   "id": "320945d0-eb70-40ad-80c4-141f305eb86f",
   "metadata": {
    "collapsed": true,
    "jupyter": {
     "outputs_hidden": true
    },
    "tags": []
   },
   "outputs": [],
   "source": [
    "comparecolname = 'AKI2_INC'\n",
    "comparecolname_eql = 'AKI3_INC'\n",
    "comparecolname_eql2 = 'AKI3_INC'\n",
    "#testmerge[testmerge[comparecolname+'_x'] != testmerge[comparecolname+'_y']][['PATID','ONSETS_ENCOUNTERID',comparecolname+'_x',comparecolname+'_y']]\n",
    "#testmerge2 = testmerge[np.logical_or(np.logical_and(testmerge[comparecolname+'_x'].notnull(), testmerge[comparecolname+'_y'].isnull()), np.logical_and(testmerge[comparecolname+'_x'].isnull(), testmerge[comparecolname+'_y'].notnull()))]#[['PATID','ONSETS_ENCOUNTERID',comparecolname+'_x',comparecolname+'_y']].head(10)\n",
    "#testmerge3 = testmerge2[np.logical_or(np.logical_and(testmerge[comparecolname_eql+'_x'].notnull(), testmerge[comparecolname_eql+'_y'].isnull()), np.logical_and(testmerge[comparecolname_eql+'_x'].isnull(), testmerge[comparecolname_eql+'_y'].notnull()))]\n",
    "#testmerge3[np.logical_or(np.logical_and(testmerge[comparecolname_eql2+'_x'].notnull(), testmerge[comparecolname_eql2+'_y'].isnull()), np.logical_and(testmerge[comparecolname_eql2+'_x'].isnull(), testmerge[comparecolname_eql2+'_y'].notnull()))][['PATID','ONSETS_ENCOUNTERID',comparecolname_eql2+'_x',comparecolname_eql2+'_y']].head(10)\n",
    "#testmerge2[['PATID','ONSETS_ENCOUNTERID',comparecolname+'_x',comparecolname+'_y']].head(10)\n",
    "\n",
    "testmerge2 = testmerge[np.logical_and(testmerge[comparecolname+'_x'].notnull(), testmerge[comparecolname+'_y'].isnull())][['PATID','ONSETS_ENCOUNTERID',comparecolname+'_x',comparecolname+'_y']]"
   ]
  },
  {
   "cell_type": "code",
   "execution_count": null,
   "id": "3f1127f9-cd38-4c09-8f51-af2e0907cf20",
   "metadata": {},
   "outputs": [],
   "source": []
  }
 ],
 "metadata": {
  "kernelspec": {
   "display_name": "Python 3 (ipykernel)",
   "language": "python",
   "name": "python3"
  },
  "language_info": {
   "codemirror_mode": {
    "name": "ipython",
    "version": 3
   },
   "file_extension": ".py",
   "mimetype": "text/x-python",
   "name": "python",
   "nbconvert_exporter": "python",
   "pygments_lexer": "ipython3",
   "version": "3.7.4"
  }
 },
 "nbformat": 4,
 "nbformat_minor": 5
}
