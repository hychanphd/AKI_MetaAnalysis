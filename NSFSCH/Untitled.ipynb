{
 "cells": [
  {
   "cell_type": "code",
   "execution_count": null,
   "id": "4fb3c261-963b-4b26-93b2-fac4ce457019",
   "metadata": {},
   "outputs": [],
   "source": [
    "import pandas as pd"
   ]
  },
  {
   "cell_type": "code",
   "execution_count": null,
   "id": "9019091b-e051-4c51-873c-d08aa15c20ce",
   "metadata": {},
   "outputs": [],
   "source": [
    "site = 'UPITT'\n",
    "yearX = 3000\n",
    "frac = 200000\n",
    "stg = 'stg01'\n",
    "bt_sam = pd.read_pickle('data/'+site+'/bt3sample_'+site+'_'+str(yearX)+\"_\"+stg+'_'+str(frac)+'.pkl')"
   ]
  },
  {
   "cell_type": "code",
   "execution_count": null,
   "id": "8b5027fd-070e-45c8-861e-52f9c60a983c",
   "metadata": {},
   "outputs": [],
   "source": [
    "bt_sam.drop_duplicates().shape"
   ]
  },
  {
   "cell_type": "code",
   "execution_count": null,
   "id": "f218c9cd-071a-446e-b349-3e604200d315",
   "metadata": {},
   "outputs": [],
   "source": [
    "def filter_subsample(df, site, yearX, stg, frac=1000):\n",
    "    bt_sam = pd.read_pickle('data/'+site+'/bt3sample_'+site+'_'+str(yearX)+\"_\"+stg+'_'+str(frac)+'.pkl')\n",
    "    return bt_sam.merge(df, left_on=['PATID', 'ENCOUNTERID'], right_on=['PATID', 'ENCOUNTERID'], how='inner')"
   ]
  },
  {
   "cell_type": "code",
   "execution_count": null,
   "id": "b3dd0272-b940-478f-a4b0-2c0939350942",
   "metadata": {},
   "outputs": [],
   "source": [
    "onset = pd.read_pickle(\"/home/hchan2/AKI/AKI_Python/\"+'data/'+site+'/p0_onset_'+site+'.pkl')\n",
    "years = list(pd.to_datetime(onset['ADMIT_DATE']).dt.year.unique())    \n",
    "yr_list = list()\n",
    "bt_list = list()\n",
    "common_feature = pd.read_pickle('common_feature.pkl')['Feature']\n",
    "\n",
    "for year in years:\n",
    "    data = pd.read_\n",
    "    pickle('data/'+site+'/bt3_'+site+'_'+str(year)+'.pkl')\n",
    "    data = data[data.columns.intersection(common_feature)]\n",
    "    data = filter_subsample(data, site, yearX, stg, frac) \n",
    "    yr_list.append(data.copy())\n",
    "    bt_list.append(data.copy())"
   ]
  },
  {
   "cell_type": "code",
   "execution_count": null,
   "id": "8fb2211f-0a93-40a1-9215-223cf29907ac",
   "metadata": {},
   "outputs": [],
   "source": [
    "cstats::cor(data)stats::cor(data)vstats::cor(data)stats::cor(data)stats::cor(data"
   ]
  }
 ],
 "metadata": {
  "kernelspec": {
   "display_name": "NSFSCH",
   "language": "python",
   "name": "myenv"
  },
  "language_info": {
   "codemirror_mode": {
    "name": "ipython",
    "version": 3
   },
   "file_extension": ".py",
   "mimetype": "text/x-python",
   "name": "python",
   "nbconvert_exporter": "python",
   "pygments_lexer": "ipython3",
   "version": "3.10.6"
  }
 },
 "nbformat": 4,
 "nbformat_minor": 5
}
