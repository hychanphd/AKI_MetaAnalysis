{
 "cells": [
  {
   "cell_type": "code",
   "execution_count": null,
   "id": "0bcf098a-f01b-44fa-95bd-ed75b663909e",
   "metadata": {
    "tags": []
   },
   "outputs": [],
   "source": [
    "import pandas as pd\n",
    "import xgboost as xgb\n",
    "import numpy as np\n",
    "import sklearn\n",
    "from sklearn.preprocessing import OneHotEncoder\n",
    "from sklearn.impute import SimpleImputer\n",
    "from imblearn.over_sampling import SMOTE\n",
    "from imblearn.pipeline import make_pipeline\n",
    "from imblearn.combine import SMOTEENN\n",
    "from imblearn.over_sampling import SMOTENC\n",
    "import matplotlib.pyplot as plt\n",
    "from PIL import Image\n",
    "from scipy.interpolate import BSpline, make_interp_spline, interp1d\n",
    "import rpy2.robjects as robjects\n",
    "from rpy2.robjects.packages import importr\n",
    "import csv\n",
    "from dfply import *\n",
    "from xgboost import XGBClassifier\n",
    "import itertools\n",
    "import os\n",
    "import logging\n",
    "from sys import getsizeof\n",
    "import scipy"
   ]
  },
  {
   "cell_type": "code",
   "execution_count": null,
   "id": "3111c7d7-3a96-40e2-91a3-da8502327069",
   "metadata": {
    "tags": []
   },
   "outputs": [],
   "source": [
    "from ipynb.fs.full.preprocessing1 import *\n",
    "from ipynb.fs.full.preprocessing2_BT import *\n",
    "from ipynb.fs.full.preprocessing3_smote import *"
   ]
  },
  {
   "cell_type": "code",
   "execution_count": null,
   "id": "256551df-447f-40a9-b09a-f7c88c186474",
   "metadata": {},
   "outputs": [],
   "source": [
    "site = 'UNMC'\n",
    "year = 2015"
   ]
  },
  {
   "cell_type": "code",
   "execution_count": null,
   "id": "aefa39f1-68ef-46b7-b1c4-3a776a69e0bf",
   "metadata": {},
   "outputs": [],
   "source": [
    "def data2sparse(site, year, table_name):\n",
    "    dx_t = pd.read_pickle('data/'+site+'/'+table_name+'_'+site+'_'+str(year)+'.pkl')\n",
    "    dx_t = dx_t.select_dtypes('boolean')\n",
    "    dx_t.memory_usage(index=False)\n",
    "    dx_t2 = dx_t\n",
    "    dx_t2.columns = dx_t2.columns.fillna('dropthis')\n",
    "    dx_t2 = dx_t2.drop('dropthis', axis=1, errors='ignore')\n",
    "    dx_nan = dx_t2.where(dx_t2==True).where(dx_t2==False,1)\n",
    "#    dx_nan = dx_nan.astype('Sparse')\n",
    "    print(dx_t2.memory_usage().sum())\n",
    "    print(dx_nan.memory_usage().sum())    \n",
    "    return dx_nan"
   ]
  },
  {
   "cell_type": "code",
   "execution_count": null,
   "id": "7e3aef92-2c96-4d9a-9faf-eacdac213451",
   "metadata": {},
   "outputs": [],
   "source": [
    "dx_t = pd.read_pickle('data/'+site+'/'+'px'+'_'+site+'_'+str(year)+'.pkl')"
   ]
  },
  {
   "cell_type": "code",
   "execution_count": null,
   "id": "91560de9-7cf7-4a5c-a36d-67ba1ea8f803",
   "metadata": {},
   "outputs": [],
   "source": [
    "bt = pd.read_pickle('data/'+site+'/'+'bt'+'_'+site+'_'+str(year)+'.pkl')"
   ]
  },
  {
   "cell_type": "code",
   "execution_count": null,
   "id": "9a357594-2d23-4a2f-9fa5-7d384c5b2e91",
   "metadata": {},
   "outputs": [],
   "source": [
    "dx = pd.read_pickle('data/'+site+'/'+'dx'+'_'+site+'_'+str(year)+'.pkl')"
   ]
  }
 ],
 "metadata": {
  "kernelspec": {
   "display_name": "Python 3 (ipykernel)",
   "language": "python",
   "name": "python3"
  },
  "language_info": {
   "codemirror_mode": {
    "name": "ipython",
    "version": 3
   },
   "file_extension": ".py",
   "mimetype": "text/x-python",
   "name": "python",
   "nbconvert_exporter": "python",
   "pygments_lexer": "ipython3",
   "version": "3.7.4"
  }
 },
 "nbformat": 4,
 "nbformat_minor": 5
}
