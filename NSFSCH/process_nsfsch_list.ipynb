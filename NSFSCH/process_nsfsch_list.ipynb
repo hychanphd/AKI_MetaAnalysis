{
 "cells": [
  {
   "cell_type": "code",
   "execution_count": null,
   "id": "47527596-143e-438e-a475-d1d484c1f10c",
   "metadata": {},
   "outputs": [],
   "source": [
    "import pandas as pd\n",
    "import xgboost as xgb\n",
    "import numpy as np\n",
    "import sklearn\n",
    "from sklearn.preprocessing import OneHotEncoder\n",
    "from sklearn.impute import SimpleImputer\n",
    "from imblearn.over_sampling import SMOTE\n",
    "from imblearn.pipeline import make_pipeline\n",
    "from imblearn.combine import SMOTEENN\n",
    "from imblearn.over_sampling import SMOTENC\n",
    "import matplotlib.pyplot as plt\n",
    "from PIL import Image\n",
    "from scipy.interpolate import BSpline, make_interp_spline, interp1d\n",
    "import rpy2.robjects as robjects\n",
    "from rpy2.robjects.packages import importr\n",
    "import csv\n",
    "from dfply import *\n",
    "from xgboost import XGBClassifier\n",
    "import itertools\n",
    "import os\n",
    "import logging\n",
    "import time\n",
    "import requests\n",
    "import csv"
   ]
  },
  {
   "cell_type": "code",
   "execution_count": null,
   "id": "5f7be162-1499-49b3-ad2e-3ef30ac6eb1b",
   "metadata": {},
   "outputs": [],
   "source": [
    "feature_filters = pd.read_csv('nsfsch_feature_source.csv')\n",
    "feature_filters.columns = ['type','source_code','source_key']"
   ]
  },
  {
   "cell_type": "code",
   "execution_count": null,
   "id": "564b97f6-4a55-4c78-8b81-70ab1308c623",
   "metadata": {},
   "outputs": [],
   "source": [
    "feature_filters_MED = feature_filters[feature_filters['type']==\"MED\"].copy()"
   ]
  },
  {
   "cell_type": "code",
   "execution_count": null,
   "id": "be5b67b4-ee70-42d5-9b52-7a6ae4fe8643",
   "metadata": {
    "collapsed": true,
    "jupyter": {
     "outputs_hidden": true
    },
    "tags": []
   },
   "outputs": [],
   "source": [
    "# Generate ndc codes    \n",
    "def rx2ndc(rxnorm):\n",
    "    query = 'https://rxnav.nlm.nih.gov/REST/rxcui/'+rxnorm+'/ndcs.json'\n",
    "    r =requests.get(query)\n",
    "    df = pd.DataFrame(r.json()['ndcGroup']['ndcList']['ndc'])\n",
    "    df.columns = ['key']\n",
    "    df['code'] = 'NDC'\n",
    "    df['source_code'] = 'RX'\n",
    "    df['source_key'] = rxnorm\n",
    "    df['type'] = 'MED'\n",
    "    time.sleep(0.01)    \n",
    "    return df\n",
    "\n",
    "df_list = list()\n",
    "for rxnorm in feature_filters_MED['source_key']:\n",
    "    try:\n",
    "        dfx = rx2ndc(rxnorm)\n",
    "        df_list.append(dfx.copy())\n",
    "    except:\n",
    "        print(rxnorm+' empty')\n",
    "df_med = pd.concat(df_list, ignore_index=True)\n",
    "df_med.to_pickle('nsfsch_feature_med.pkl')"
   ]
  },
  {
   "cell_type": "code",
   "execution_count": null,
   "id": "b80285b5-8dbb-4434-ab81-7332cffff0c7",
   "metadata": {},
   "outputs": [],
   "source": [
    "feature_filters_DX = feature_filters[feature_filters['type']==\"DX\"].copy()\n",
    "\n",
    "ccs2icd09 = pd.read_csv('ccs2icd09.csv')\n",
    "ccs2icd10 = pd.read_csv('ccs2icd10.csv')\n",
    "\n",
    "ccs2icd09 = ccs2icd09[['ICD-9-CM CODE', 'CCS CATEGORY']]\n",
    "ccs2icd09.columns = ['key', 'source_key']\n",
    "ccs2icd09 = ccs2icd09.astype(str)\n",
    "\n",
    "ccs2icd10 = ccs2icd10[['ICD-10-CM CODE', 'CCS CATEGORY']]\n",
    "ccs2icd10.columns = ['key', 'source_key']\n",
    "ccs2icd10 = ccs2icd10.astype(str)\n",
    "\n",
    "df_dx09 = feature_filters_DX.merge(ccs2icd09, left_on='source_key', right_on='source_key', how='left')\n",
    "df_dx10 = feature_filters_DX.merge(ccs2icd10, left_on='source_key', right_on='source_key', how='left')\n",
    "\n",
    "df_dx09['code'] = '09'\n",
    "df_dx10['code'] = '10'\n",
    "\n",
    "df_dx = pd.concat([df_dx09, df_dx10], ignore_index=True)\n",
    "df_dx.to_pickle('nsfsch_feature_dx.pkl')"
   ]
  },
  {
   "cell_type": "code",
   "execution_count": null,
   "id": "8e8c37a0-7227-4ea6-9461-9e52d32f70a9",
   "metadata": {},
   "outputs": [],
   "source": [
    "#feature_filters_PX = feature_filters[feature_filters['type']==\"PX\"].copy()\n",
    "#feature_filters_PX['source_key'] = feature_filters_PX['source_key'].str.replace('ICD9:','').str.replace('.','')\n",
    "\n",
    "#feature_filters_PX\n",
    "# icd10pcs2icd09pcs = pd.read_csv('icd10pcs2icd09pcs.csv')\n",
    "# icd10pcs2icd09pcs = icd10pcs2icd09pcs.drop('dummy',axis=1)\n",
    "# icd10pcs2icd09pcs.columns = ['key', 'source_key']\n",
    "# df_px10 = feature_filters_PX.merge(icd10pcs2icd09pcs, left_on='source_key', right_on='source_key', how='left')\n",
    "# df_px10 = df_px10.dropna()"
   ]
  },
  {
   "cell_type": "code",
   "execution_count": null,
   "id": "35f8c953-5e32-4aaa-82e8-c2af8e2584aa",
   "metadata": {},
   "outputs": [],
   "source": [
    "feature_filters_rest = feature_filters.copy()\n",
    "feature_filters_rest['code'] = feature_filters_rest['source_code']\n",
    "feature_filters_rest['key'] = feature_filters_rest['source_key']\n",
    "df_filter = pd.concat([df_dx, df_med, feature_filters_rest])\n",
    "df_filter.to_pickle('nsfsch_feature.pkl')"
   ]
  },
  {
   "cell_type": "code",
   "execution_count": null,
   "id": "efe017ca-c334-4d29-82fa-9fc92473e471",
   "metadata": {},
   "outputs": [],
   "source": []
  }
 ],
 "metadata": {
  "kernelspec": {
   "display_name": "Python 3 (ipykernel)",
   "language": "python",
   "name": "python3"
  },
  "language_info": {
   "codemirror_mode": {
    "name": "ipython",
    "version": 3
   },
   "file_extension": ".py",
   "mimetype": "text/x-python",
   "name": "python",
   "nbconvert_exporter": "python",
   "pygments_lexer": "ipython3",
   "version": "3.7.4"
  }
 },
 "nbformat": 4,
 "nbformat_minor": 5
}
