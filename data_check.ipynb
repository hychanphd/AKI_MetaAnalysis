{
 "cells": [
  {
   "cell_type": "code",
   "execution_count": null,
   "id": "27c3d43d-7314-4d6c-abe5-3cc5af9210cb",
   "metadata": {},
   "outputs": [],
   "source": [
    "# Centealized dataset unification\n",
    "import pandas as pd\n",
    "import xgboost as xgb\n",
    "import numpy as np\n",
    "import sklearn\n",
    "from sklearn.preprocessing import OneHotEncoder\n",
    "from sklearn.impute import SimpleImputer\n",
    "from imblearn.over_sampling import SMOTE\n",
    "from imblearn.pipeline import make_pipeline\n",
    "from imblearn.combine import SMOTEENN\n",
    "from imblearn.over_sampling import SMOTENC\n",
    "import matplotlib.pyplot as plt\n",
    "from PIL import Image\n",
    "from scipy.interpolate import BSpline, make_interp_spline, interp1d\n",
    "import rpy2.robjects as robjects\n",
    "from rpy2.robjects.packages import importr\n",
    "import csv\n",
    "from dfply import *\n",
    "from xgboost import XGBClassifier\n",
    "import itertools\n",
    "import os\n",
    "import logging\n",
    "from sys import getsizeof"
   ]
  },
  {
   "cell_type": "code",
   "execution_count": null,
   "id": "4e0828cf-a9ef-44d7-bb9a-03637ab23a76",
   "metadata": {},
   "outputs": [],
   "source": [
    "%load_ext magics"
   ]
  },
  {
   "cell_type": "code",
   "execution_count": null,
   "id": "2ce2ab5e-b4c0-437a-80a6-4b54f83639f2",
   "metadata": {},
   "outputs": [],
   "source": [
    "#%%exceptor\n",
    "\n",
    "site='UTHSCSA'\n",
    "sep=','\n",
    "ext='csv'\n",
    "datafolder=\"/home/hchan2/AKI/data2022/\"+site+\"/raw/\"\n",
    "datafolderold=\"/home/hchan2/AKI/data/\"+site+\"/raw/\"\n",
    "\n",
    "pd.set_option('display.max_rows', 100)"
   ]
  },
  {
   "cell_type": "code",
   "execution_count": null,
   "id": "4b7294ad-f180-458f-b7f9-b1180bbba2b0",
   "metadata": {
    "tags": []
   },
   "outputs": [],
   "source": [
    "#%%exceptor\n",
    "\n",
    "filename = 'CONSORT_DIAGRAM_BC'\n",
    "consort_diagram = pd.read_csv(datafolder+filename+'.'+ext,sep=sep, encoding = 'utf-16')"
   ]
  },
  {
   "cell_type": "code",
   "execution_count": null,
   "id": "e6c8ba25-aa98-45f7-afe8-5298b79e71f6",
   "metadata": {
    "tags": []
   },
   "outputs": [],
   "source": [
    "#%%exceptor\n",
    "\n",
    "filenameX = 'CONSORT_DIAGRAM'\n",
    "extX = 'csv'\n",
    "#filenameX = 'Consort_Diagram'\n",
    "consort_diagramX = pd.read_csv(datafolderold+filenameX+'.'+extX,sep=',')"
   ]
  },
  {
   "cell_type": "code",
   "execution_count": null,
   "id": "fe4c93b6-1831-439b-8487-a98fa5c8914c",
   "metadata": {
    "tags": []
   },
   "outputs": [],
   "source": [
    "#%%exceptor\n",
    "\n",
    "consort_diagram.merge(consort_diagramX, left_on = 'CNT_TYPE', right_on = 'CNT_TYPE', how='left')"
   ]
  },
  {
   "cell_type": "code",
   "execution_count": null,
   "id": "c3a09abe-885d-419f-aa7a-9734e51df971",
   "metadata": {
    "tags": []
   },
   "outputs": [],
   "source": [
    "#%%exceptor\n",
    "\n",
    "filename = 'AKI_ONSETS'\n",
    "onset = pd.read_csv(datafolder+filename+'.'+ext,sep=sep, encoding = 'utf-8')"
   ]
  },
  {
   "cell_type": "code",
   "execution_count": null,
   "id": "4757f897-ff74-4139-b35c-61ba9f23436a",
   "metadata": {
    "tags": []
   },
   "outputs": [],
   "source": [
    "onset[['ENCOUNTERID']].drop_duplicates().count()"
   ]
  },
  {
   "cell_type": "code",
   "execution_count": null,
   "id": "c32b3436-d71d-4bda-a3dd-1fa4ee92386e",
   "metadata": {
    "tags": []
   },
   "outputs": [],
   "source": [
    "#%%exceptor\n",
    "\n",
    "filename = 'AKI_VITAL'\n",
    "vital = pd.read_csv(datafolder+filename+'.'+ext,sep=sep, encoding = 'utf-16')"
   ]
  },
  {
   "cell_type": "code",
   "execution_count": null,
   "id": "9371b1c3-6f9a-4d34-b2b5-ed634bf50f2a",
   "metadata": {},
   "outputs": [],
   "source": [
    "#%%exceptor\n",
    "\n",
    "filename = 'DEID_AKI_VITAL_OLD'\n",
    "vital_old = pd.read_csv(datafolder+filename+'.'+ext,sep=sep, encoding = 'utf-8')"
   ]
  },
  {
   "cell_type": "code",
   "execution_count": null,
   "id": "85ed00fb-b9d0-46b1-926f-63af48c09a1e",
   "metadata": {},
   "outputs": [],
   "source": [
    "%%exceptor\n",
    "\n",
    "filename = 'AKI_AMED'\n",
    "amed = pd.read_csv(datafolder+filename+'.'+ext,sep=sep, encoding = 'utf-16')"
   ]
  },
  {
   "cell_type": "code",
   "execution_count": null,
   "id": "d46e1fbe-90f1-4002-8908-93f9f89edc9c",
   "metadata": {},
   "outputs": [],
   "source": [
    "%%exceptor\n",
    "\n",
    "filename = 'AKI_PMED'\n",
    "pmed = pd.read_csv(datafolder+filename+'.'+ext,sep=sep, encoding = 'utf-16')"
   ]
  },
  {
   "cell_type": "code",
   "execution_count": null,
   "id": "1045a5b8-d0e9-49f4-a293-d01a5ffed227",
   "metadata": {},
   "outputs": [],
   "source": [
    "%%exceptor\n",
    "\n",
    "filename = 'AKI_DX'\n",
    "dx = pd.read_csv(datafolder+filename+'.'+ext,sep=sep, encoding = 'utf-16')"
   ]
  },
  {
   "cell_type": "code",
   "execution_count": null,
   "id": "c75069dc-b4ce-4b80-ab8b-e9487779f0ed",
   "metadata": {},
   "outputs": [],
   "source": [
    "#%%exceptor\n",
    "\n",
    "filename = 'DEID_AKI_DX_CURRENT_ADMIT_DATE'\n",
    "dx_curr = pd.read_csv(datafolder+filename+'.'+ext,sep=sep, encoding = 'utf-8')"
   ]
  },
  {
   "cell_type": "code",
   "execution_count": null,
   "id": "ae190b9f-ec33-4448-8998-153f2168c653",
   "metadata": {},
   "outputs": [],
   "source": [
    "%%exceptor\n",
    "\n",
    "filename = 'AKI_PX'\n",
    "px = pd.read_csv(datafolder+filename+'.'+ext,sep=sep, encoding = 'utf-16')"
   ]
  },
  {
   "cell_type": "code",
   "execution_count": null,
   "id": "215e0afd-f3fb-4f63-a044-84d70de251b7",
   "metadata": {},
   "outputs": [],
   "source": [
    "#%%exceptor\n",
    "\n",
    "filename = 'AKI_DEMO'\n",
    "demo = pd.read_csv(datafolder+filename+'.'+ext,sep=sep, na_values=['NI'], encoding = 'utf-8')"
   ]
  },
  {
   "cell_type": "code",
   "execution_count": null,
   "id": "b4441f4c-3096-447d-be2a-b2d1837a820d",
   "metadata": {},
   "outputs": [],
   "source": [
    "%%exceptor\n",
    "\n",
    "filename = 'AKI_DEMO_DEATH'\n",
    "demod = pd.read_csv(datafolder+filename+'.'+ext,sep=sep, encoding = 'utf-16')"
   ]
  },
  {
   "cell_type": "code",
   "execution_count": null,
   "id": "4ccac672-cb3f-454b-bb84-24948bc3397d",
   "metadata": {},
   "outputs": [],
   "source": [
    "%%exceptor\n",
    "\n",
    "filename = 'AKI_DMED'\n",
    "dmed = pd.read_csv(datafolder+filename+'.'+ext,sep=sep, encoding = 'utf-16')"
   ]
  },
  {
   "cell_type": "code",
   "execution_count": null,
   "id": "56701fd8-b73f-481a-84c0-359e3b01d503",
   "metadata": {},
   "outputs": [],
   "source": [
    "%%exceptor\n",
    "\n",
    "filename = 'AKI_LAB_SCR'\n",
    "lab_scr = pd.read_csv(datafolder+filename+'.'+ext,sep=sep, encoding = 'utf-16')"
   ]
  },
  {
   "cell_type": "code",
   "execution_count": null,
   "id": "8895833e-8923-4d03-a323-cc14cb480117",
   "metadata": {},
   "outputs": [],
   "source": [
    "#%%exceptor\n",
    "\n",
    "filename = 'AKI_LAB'\n",
    "lab = pd.read_csv(datafolder+filename+'.'+ext,sep=sep, na_values=['NI'], encoding='utf-16', quoting=csv.QUOTE_NONE)"
   ]
  },
  {
   "cell_type": "code",
   "execution_count": null,
   "id": "2f387cc3-871c-4ef4-9763-f0efcc5eb714",
   "metadata": {
    "tags": []
   },
   "outputs": [],
   "source": [
    "consort_diagramX\n",
    "# filename = 'CONSORT_DIAGRAM_BC'\n",
    "# #filename = 'Consort_Diagram_BC'\n",
    "# #filename = 'consort_diagram_BC'\n",
    "# consort_diagram = pd.read_csv(datafolder+filename+'.'+ext,sep=sep, encoding = 'utf-16')\n",
    "# consort_diagram.columns = ['CNT_TYPE', 'ENC_CNT_NEW']\n",
    "# consort_diagram.merge(consort_diagramX, left_on='CNT_TYPE', right_on='CNT_TYPE', how='left')"
   ]
  },
  {
   "cell_type": "code",
   "execution_count": null,
   "id": "486dc2ce-43d0-4932-8ca7-7d8e78777cf4",
   "metadata": {},
   "outputs": [],
   "source": [
    "#%%exceptor\n",
    "\n",
    "def countna(datacol): return datacol.isna().sum()\n",
    "def countnotna(datacol): return datacol.notna().sum()\n",
    "def float_data_stat(datatt):\n",
    "    return datatt.select_dtypes(['float64']).agg(['count', np.mean, np.var, np.std, np.median,np.max, np.min, countna, countnotna]).T\n",
    "def int_data_stat(datatt):\n",
    "    return pd.melt(datatt.select_dtypes(['int64']).drop([x if 'ID' in x else 'dummy' for x in datatt.columns],axis=1,errors='ignore')).groupby(['variable','value'],dropna=False).size()\n",
    "#    return pd.melt(datatt.select_dtypes(['int64'])).groupby(['variable','value'],dropna=False).size()\n",
    "def obj_data_stat(datatt):\n",
    "    return pd.melt(datatt.select_dtypes(['object'])).groupby(['variable','value'],dropna=False).size()\n",
    "def countna_data_set(datatt):\n",
    "    return datatt.agg([countna, countnotna]).T"
   ]
  },
  {
   "cell_type": "code",
   "execution_count": null,
   "id": "b3fc6c6a-70b3-48da-be3c-ceff476ca05c",
   "metadata": {
    "tags": []
   },
   "outputs": [],
   "source": [
    "#%%exceptor\n",
    "\n",
    "float_data_stat(onset)"
   ]
  },
  {
   "cell_type": "code",
   "execution_count": null,
   "id": "54cde331-f5c2-4b37-a2f5-2f0f2ba64411",
   "metadata": {},
   "outputs": [],
   "source": [
    "#%%exceptor\n",
    "\n",
    "int_data_stat(onset)"
   ]
  },
  {
   "cell_type": "code",
   "execution_count": null,
   "id": "264c204f-cc88-473f-a88f-2c1da447702f",
   "metadata": {
    "tags": []
   },
   "outputs": [],
   "source": [
    "#%%exceptor\n",
    "\n",
    "float_data_stat(vital_old)"
   ]
  },
  {
   "cell_type": "code",
   "execution_count": null,
   "id": "59bdce90-25bb-4e31-b82e-edc585ca14f7",
   "metadata": {},
   "outputs": [],
   "source": [
    "#%%exceptor\n",
    "\n",
    "#int_data_stat(vital)\n",
    "#np.logical_and(vital['DAYS_SINCE_ADMIT'] < 7, vital['DAYS_SINCE_ADMIT'] > 0).sum()\n",
    "#(vital['DAYS_SINCE_ADMIT']==7).sum()\n",
    "#plt.hist(vital['DAYS_SINCE_ADMIT'].quantile(0.995))\n",
    "#plt.show() \n",
    "#int_data_stat(vital)\n",
    "#vital['DAYS_SINCE_ADMIT']\n",
    "#dfx = pd.merge(vital[['ONSETS_ENCOUNTERID']], onset[['ENCOUNTERID']], left_on='ONSETS_ENCOUNTERID', right_on='ENCOUNTERID', how='outer')\n",
    "#countna(dfx)\n",
    "#dataY = vital_old\n",
    "dataY[dataY['DAYS_SINCE_ADMIT']>=0][dataY['DAYS_SINCE_ADMIT']<=30]['DAYS_SINCE_ADMIT'].hist()\n",
    "#onset['ENCOUNTERID'].drop_duplicates().count()"
   ]
  },
  {
   "cell_type": "code",
   "execution_count": null,
   "id": "7826eae5-8393-48e7-b142-f53012bd08c2",
   "metadata": {},
   "outputs": [],
   "source": [
    "#%%exceptor\n",
    "\n",
    "#obj_data_stat(vital)"
   ]
  },
  {
   "cell_type": "code",
   "execution_count": null,
   "id": "ea2abc42-8afa-47b7-a91b-5c4c121b9d36",
   "metadata": {},
   "outputs": [],
   "source": [
    "amed.isna().sum()/amed.shape[0]"
   ]
  },
  {
   "cell_type": "code",
   "execution_count": null,
   "id": "e4d01921-4696-46e2-84e3-d733951b2e28",
   "metadata": {},
   "outputs": [],
   "source": [
    "pmed.isna().sum()/pmed.shape[0]"
   ]
  },
  {
   "cell_type": "code",
   "execution_count": null,
   "id": "bef8f591-6745-4fb7-b8ec-c25b59e2e0c8",
   "metadata": {},
   "outputs": [],
   "source": [
    "dmed.isna().sum()/pmed.shape[0]"
   ]
  },
  {
   "cell_type": "code",
   "execution_count": null,
   "id": "ea1b3553-776d-43ce-a863-612458e61147",
   "metadata": {},
   "outputs": [],
   "source": [
    "dx.isna().sum()/dx.shape[0]"
   ]
  },
  {
   "cell_type": "code",
   "execution_count": null,
   "id": "84a3407b-6c7c-48a0-9980-1edfa655923f",
   "metadata": {},
   "outputs": [],
   "source": [
    "lab.isna().sum()/lab.shape[0]"
   ]
  },
  {
   "cell_type": "code",
   "execution_count": null,
   "id": "150ea8a4-2596-47aa-879c-1bf27f3aaad2",
   "metadata": {},
   "outputs": [],
   "source": [
    "lab_scr.isna().sum()/lab_scr.shape[0]"
   ]
  },
  {
   "cell_type": "code",
   "execution_count": null,
   "id": "422fc6ba-a486-4c75-9139-bc7b80216eec",
   "metadata": {},
   "outputs": [],
   "source": [
    "dx_curr.isna().sum()/dx_curr.shape[0]\n",
    "#dx_curr.head(10)"
   ]
  },
  {
   "cell_type": "code",
   "execution_count": null,
   "id": "68754922-6eeb-45c8-b634-ae31f36fce50",
   "metadata": {},
   "outputs": [],
   "source": [
    "px.isna().sum()/px.shape[0]"
   ]
  },
  {
   "cell_type": "code",
   "execution_count": null,
   "id": "4bd515c3-90e1-4817-ab30-0c59d1e168b0",
   "metadata": {},
   "outputs": [],
   "source": [
    "demod.isna().sum()/demod.shape[0]"
   ]
  },
  {
   "cell_type": "code",
   "execution_count": null,
   "id": "9c254850-55a8-476b-a208-a6f3c7cb7dda",
   "metadata": {},
   "outputs": [],
   "source": [
    "dmed.isna().sum()/dmed.shape[0]"
   ]
  },
  {
   "cell_type": "code",
   "execution_count": null,
   "id": "eb2baeea-6a96-49d2-86dc-67b8d4ac8dbb",
   "metadata": {},
   "outputs": [],
   "source": [
    "#%%exceptor\n",
    "\n",
    "datatt[['DISPENSE_SOURCE']].groupby(['DISPENSE_SOURCE']).size()"
   ]
  },
  {
   "cell_type": "code",
   "execution_count": null,
   "id": "9d06af4a-6927-4812-bcfc-d9a2eeceacbe",
   "metadata": {
    "tags": []
   },
   "outputs": [],
   "source": [
    "#%%exceptor\n",
    "\n",
    "def group_count(datatt, dataname):\n",
    "    print(dataname)\n",
    "    for colname in datatt.columns:\n",
    "        if 'ID' not in colname and 'RAW' not in colname:\n",
    "            if datatt[[colname]].drop_duplicates().shape[0] <= 5:\n",
    "                print(colname)\n",
    "                print(datatt[[colname]].groupby(colname).size())\n",
    "    print('---------------------------------------------------')\n",
    "group_count(demo, 'demo')\n",
    "group_count(vital, 'vital')\n",
    "group_count(lab, 'lab')\n",
    "group_count(lab_scr, 'lab_scr')\n",
    "group_count(dmed, 'dmed')\n",
    "group_count(amed, 'amed')\n",
    "group_count(pmed, 'pmed')\n",
    "group_count(px, 'px')\n",
    "group_count(dx, 'dx')\n",
    "group_count(dx_curr, 'dx')\n",
    "group_count(demod, 'demod')"
   ]
  },
  {
   "cell_type": "code",
   "execution_count": null,
   "id": "5b23629f-f21a-4dcb-82f2-5da85d07dc78",
   "metadata": {},
   "outputs": [],
   "source": [
    "#%%exceptor\n",
    "\n",
    "group_count(onset, 'onset')"
   ]
  },
  {
   "cell_type": "code",
   "execution_count": null,
   "id": "38c1352d-c42e-4c21-9d5f-edab79138df3",
   "metadata": {},
   "outputs": [],
   "source": [
    "#%%exceptor\n",
    "\n",
    "def since_range(datatt, dataname):\n",
    "    print(dataname)\n",
    "    for colname in datatt.columns:\n",
    "        if 'SINCE' in colname:\n",
    "            print(datatt[[colname]].agg([np.max, np.min]).T)\n",
    "    print('---------------------------------------------------')"
   ]
  },
  {
   "cell_type": "code",
   "execution_count": null,
   "id": "30e72fdb-e204-473b-bc45-abe16270e2f8",
   "metadata": {},
   "outputs": [],
   "source": [
    "#%%exceptor\n",
    "\n",
    "since_range(onset, 'onset')\n",
    "since_range(demo, 'demo')\n",
    "since_range(vital, 'vital')\n",
    "since_range(lab, 'lab')\n",
    "since_range(lab_scr, 'lab_scr')\n",
    "since_range(dmed, 'dmed')\n",
    "since_range(amed, 'amed')\n",
    "since_range(pmed, 'pmed')\n",
    "since_range(px, 'px')\n",
    "since_range(dx, 'dx')\n",
    "since_range(dx_curr, 'dx_curr')\n",
    "since_range(demod, 'demod')"
   ]
  },
  {
   "cell_type": "code",
   "execution_count": null,
   "id": "90a32bd1-858d-4026-afb1-bda5a114ffeb",
   "metadata": {},
   "outputs": [],
   "source": [
    "#%%exceptor\n",
    "\n",
    "def all_hist(datatt, dataname):\n",
    "    print(dataname)\n",
    "    for colname in datatt.columns:\n",
    "        if 'ID' not in colname and 'RAW' not in colname:\n",
    "            try:\n",
    "                q = [0.025, 0.1, 0.2, 0.3, 0.4, 0.5, 0.6, 0.7, 0.8, 0.9, 0.975]\n",
    "                dump, bins = pd.qcut(datatt[colname], q, retbins=True)\n",
    "                datatt[[colname]].hist(bins=bins)\n",
    "#                datatt[[colname]].hist()\n",
    "                plt.show()\n",
    "            except:\n",
    "                try:\n",
    "                    datatt[[colname]].hist()                    \n",
    "                except:\n",
    "                    if datatt[[colname]].drop_duplicates().shape[0] <= 100:\n",
    "                        datatt[[colname]].value_counts().plot(kind='bar')\n",
    "                        plt.show()                \n",
    "                    else:\n",
    "                        print('Too many columns for '+colname)\n",
    "    print('----------------------------------')"
   ]
  },
  {
   "cell_type": "code",
   "execution_count": null,
   "id": "b01ee9fa-bf8d-4eae-ae96-6c15592c3b47",
   "metadata": {},
   "outputs": [],
   "source": [
    "#%%exceptor\n",
    "\n",
    "all_hist(onset, 'onset')\n",
    "all_hist(demo, 'demo')\n",
    "all_hist(vital, 'vital')\n",
    "all_hist(lab, 'lab')\n",
    "all_hist(lab_scr, 'lab_scr')\n",
    "all_hist(dmed, 'dmed')\n",
    "all_hist(amed, 'amed')\n",
    "all_hist(pmed, 'pmed')\n",
    "all_hist(px, 'px')\n",
    "all_hist(dx, 'dx')\n",
    "all_hist(dx_curr, 'dx_curr')\n",
    "all_hist(demod, 'demod')"
   ]
  },
  {
   "cell_type": "code",
   "execution_count": null,
   "id": "990517ba-aa12-4f84-9e52-584f5a2b1a1e",
   "metadata": {},
   "outputs": [],
   "source": []
  },
  {
   "cell_type": "code",
   "execution_count": null,
   "id": "256bd633-515d-4093-9bff-99ce52248d22",
   "metadata": {},
   "outputs": [],
   "source": []
  },
  {
   "cell_type": "code",
   "execution_count": null,
   "id": "f54fba5c-cba5-4090-a10d-60173cf7d1fd",
   "metadata": {},
   "outputs": [],
   "source": []
  },
  {
   "cell_type": "code",
   "execution_count": null,
   "id": "befe527c-d73d-4311-9d71-39771851b567",
   "metadata": {},
   "outputs": [],
   "source": []
  },
  {
   "cell_type": "code",
   "execution_count": null,
   "id": "0c00169f-01d5-49fb-835f-ba5998b04ef7",
   "metadata": {},
   "outputs": [],
   "source": []
  },
  {
   "cell_type": "code",
   "execution_count": null,
   "id": "f1c8d1e5-6040-4fb9-a8e4-864e1f7091f8",
   "metadata": {},
   "outputs": [],
   "source": []
  },
  {
   "cell_type": "code",
   "execution_count": null,
   "id": "b2c22a09-f528-40db-b6c5-72f92b2ad93b",
   "metadata": {},
   "outputs": [],
   "source": []
  },
  {
   "cell_type": "code",
   "execution_count": null,
   "id": "34f74c98-e837-4a78-91df-87bd242d7bbe",
   "metadata": {},
   "outputs": [],
   "source": []
  },
  {
   "cell_type": "code",
   "execution_count": null,
   "id": "541703e3-cbe6-44aa-8e20-7d41b6752954",
   "metadata": {},
   "outputs": [],
   "source": []
  }
 ],
 "metadata": {
  "kernelspec": {
   "display_name": "Python 3 (ipykernel)",
   "language": "python",
   "name": "python3"
  },
  "language_info": {
   "codemirror_mode": {
    "name": "ipython",
    "version": 3
   },
   "file_extension": ".py",
   "mimetype": "text/x-python",
   "name": "python",
   "nbconvert_exporter": "python",
   "pygments_lexer": "ipython3",
   "version": "3.7.4"
  }
 },
 "nbformat": 4,
 "nbformat_minor": 5
}
